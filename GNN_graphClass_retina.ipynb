{
 "cells": [
  {
   "cell_type": "code",
   "execution_count": 1,
   "metadata": {},
   "outputs": [],
   "source": [
    "import sampling\n",
    "import data_loader\n",
    "import os \n",
    "import re\n",
    "from torch_geometric.utils.convert import from_networkx\n",
    "from sklearn.metrics import accuracy_score, balanced_accuracy_score\n",
    "from torch_geometric.nn import global_mean_pool, global_max_pool, global_add_pool\n",
    "\n",
    "import random\n",
    "import pickle\n",
    "import torch\n",
    "from models import graph_classifier, gnn_models\n",
    "from torch_geometric.loader import DataLoader\n",
    "import pandas as pd\n",
    "import torch_geometric\n",
    "import networkx as nx\n",
    "import matplotlib.pyplot as plt\n",
    "import numpy as np\n",
    "\n",
    "from evaluation import evaluation"
   ]
  },
  {
   "attachments": {},
   "cell_type": "markdown",
   "metadata": {},
   "source": [
    "### Load the input data"
   ]
  },
  {
   "cell_type": "code",
   "execution_count": 2,
   "metadata": {},
   "outputs": [],
   "source": [
    "#f_loader = data_loader.RetinaLoader(\"/home/laurin/Documents/retina/graphs\", \"/home/laurin/Documents/retina/labels.xlsx\")"
   ]
  },
  {
   "cell_type": "code",
   "execution_count": 3,
   "metadata": {},
   "outputs": [],
   "source": [
    "#data_list = f_loader.get_dual_data_list(add_structural = True, two_cls = False, force = True) \n",
    "#with open('data_list_OCTA.pkl', 'wb') as f:\n",
    "#    pickle.dump(data_list, f)\n",
    "\n",
    "with open('data_list_OCTA.pkl', 'rb') as f:\n",
    "    data_list = pickle.load(f)\n",
    "\n",
    "\n",
    "data_list_2cls = [] # put CNV and AMD to normal class\n",
    "data_list_2cls_filt = [] # creates a data_list where \n",
    "\n",
    "for data in data_list:\n",
    "    data.clone\n",
    "    if data.y > 1:\n",
    "        data_c = data.clone()\n",
    "        data_c.y = 0\n",
    "        data_list_2cls.append(data_c)\n",
    "    else:\n",
    "        data_list_2cls_filt.append(data)\n",
    "        data_list_2cls.append(data)"
   ]
  },
  {
   "attachments": {},
   "cell_type": "markdown",
   "metadata": {},
   "source": [
    "### Split the data into a train and test set"
   ]
  },
  {
   "cell_type": "code",
   "execution_count": 4,
   "metadata": {},
   "outputs": [],
   "source": [
    "np.random.seed(0)\n",
    "\n",
    "train_mask = np.random.choice(np.arange(0, len(data_list)), size= int(len(data_list)*0.8), replace = False)\n",
    "test_mask = np.delete(np.arange(0, len(data_list)), train_mask)\n",
    "\n",
    "train_list_bin = []\n",
    "test_list_bin = []\n",
    "\n",
    "for i, data in enumerate(data_list):\n",
    "    if i in train_mask:\n",
    "        train_list_bin.append(data)\n",
    "    else:\n",
    "        test_list_bin.append(data)"
   ]
  },
  {
   "cell_type": "code",
   "execution_count": 5,
   "metadata": {},
   "outputs": [
    {
     "name": "stdout",
     "output_type": "stream",
     "text": [
      "(array([0, 1, 2, 3]), array([126,  25,   4,   5]))\n",
      "(array([0, 1, 2, 3]), array([34,  4,  1,  1]))\n"
     ]
    }
   ],
   "source": [
    "train_labels = [lab[\"y\"] for lab in train_list_bin]\n",
    "print(np.unique(train_labels, return_counts= True))\n",
    "np.unique(train_labels, return_counts= True)[1]\n",
    "test_labels = [lab[\"y\"] for lab in test_list_bin]\n",
    "print(np.unique(test_labels, return_counts= True))"
   ]
  },
  {
   "attachments": {},
   "cell_type": "markdown",
   "metadata": {},
   "source": [
    "# 4 Class"
   ]
  },
  {
   "attachments": {},
   "cell_type": "markdown",
   "metadata": {},
   "source": [
    "### Split the data with 5-fold CV"
   ]
  },
  {
   "cell_type": "code",
   "execution_count": 6,
   "metadata": {},
   "outputs": [],
   "source": [
    "y = [data.y for data in data_list]\n",
    "\n",
    "from sklearn.model_selection import StratifiedKFold\n",
    "skf = StratifiedKFold(n_splits = 5, random_state = 0, shuffle= True)\n",
    "skf.get_n_splits(np.arange(0, len(data_list)), y)\n",
    "\n",
    "splits = []\n",
    "for train_idx, test_idx in skf.split(np.arange(0, len(data_list)), y):\n",
    "    train_list = []\n",
    "    test_list = []\n",
    "    for i, data in enumerate(data_list):\n",
    "        if i in train_idx:\n",
    "            train_list.append(data)\n",
    "        else:\n",
    "            test_list.append(data)\n",
    "    splits.append((train_list,test_list))"
   ]
  },
  {
   "cell_type": "code",
   "execution_count": 7,
   "metadata": {},
   "outputs": [
    {
     "name": "stdout",
     "output_type": "stream",
     "text": [
      "Split 1\n",
      "Epoch: 001, Train Acc: 0.0250, Test Acc: 0.0250, Test Bal Acc: 0.2500\n",
      "Epoch: 002, Train Acc: 0.8938, Test Acc: 0.8750, Test Bal Acc: 0.3750\n",
      "Epoch: 003, Train Acc: 0.8125, Test Acc: 0.8500, Test Bal Acc: 0.3333\n",
      "Epoch: 004, Train Acc: 0.1313, Test Acc: 0.1000, Test Bal Acc: 0.1667\n",
      "Epoch: 005, Train Acc: 0.1250, Test Acc: 0.1250, Test Bal Acc: 0.4167\n",
      "Epoch: 006, Train Acc: 0.8875, Test Acc: 0.8750, Test Bal Acc: 0.3750\n",
      "Epoch: 007, Train Acc: 0.7625, Test Acc: 0.8500, Test Bal Acc: 0.4688\n",
      "Epoch: 008, Train Acc: 0.8938, Test Acc: 0.9000, Test Bal Acc: 0.4167\n",
      "Epoch: 009, Train Acc: 0.8938, Test Acc: 0.9000, Test Bal Acc: 0.4167\n",
      "Epoch: 010, Train Acc: 0.5312, Test Acc: 0.5500, Test Bal Acc: 0.5833\n",
      "Epoch: 011, Train Acc: 0.8812, Test Acc: 0.8750, Test Bal Acc: 0.3750\n",
      "Epoch: 012, Train Acc: 0.8688, Test Acc: 0.9250, Test Bal Acc: 0.4583\n"
     ]
    }
   ],
   "source": [
    "# selection of the features to use\n",
    "num_features = data_list[0].x.shape[1]\n",
    "num_classes = 4\n",
    "epochs = 100\n",
    "\n",
    "# try different aggregation modes:\n",
    "# other aggragtion schemas not supported for batches\n",
    "\n",
    "fig, ax = plt.subplots(1,5, figsize=(20,4))\n",
    "\n",
    "\n",
    "for i, split in enumerate(splits):\n",
    "    # create the model\n",
    "    model = gnn_models.GCN_GC(in_channels= num_features, hidden_channels = 64, out_channels= num_classes, num_layers= 3, dropout = 0.2, aggregation_mode= global_mean_pool)\n",
    "\n",
    "    # create brach data loaders for training and test set\n",
    "    train_loader = DataLoader(split[0], batch_size = 32, shuffle=True)\n",
    "    test_loader = DataLoader(split[1], batch_size = 32, shuffle=False)\n",
    "\n",
    "    # weigthings for imbalanced classes \n",
    "    train_labels = [lab[\"y\"] for lab in split[0]]\n",
    "    weights = 1/np.unique(train_labels, return_counts= True)[1]\n",
    "    balanced_loss = torch.nn.CrossEntropyLoss(torch.tensor(weights).float())\n",
    "\n",
    "    classifier = graph_classifier.graphClassifierBatch(model, train_loader, test_loader, balanced_loss)\n",
    "\n",
    "    print(\"Split \" + str(i+1))\n",
    "    for epoch in range(1, epochs+1):\n",
    "        classifier.train()\n",
    "        train_acc = classifier.test(train_loader)\n",
    "        test_acc = classifier.test(test_loader)\n",
    "        outList, yList = classifier.predict(test_loader)\n",
    "        y_p = np.array([item.argmax().detach().numpy() for sublist in outList for item in sublist])\n",
    "        y_t = np.array([item.detach().numpy() for sublist in yList for item in sublist])\n",
    "        print(f'Epoch: {epoch:03d}, Train Acc: {train_acc:.4f}, Test Acc: {test_acc:.4f}, Test Bal Acc: {balanced_accuracy_score(y_t, y_p):.4f}')\n",
    "    evaluation.plot_confusion_matrix(y_t, y_p, [\"NORMAL\", \"DR\", \"CNV\", \"AMD\"], ax[i])\n",
    "\n"
   ]
  },
  {
   "attachments": {},
   "cell_type": "markdown",
   "metadata": {},
   "source": [
    "# 2 Class"
   ]
  },
  {
   "cell_type": "code",
   "execution_count": null,
   "metadata": {},
   "outputs": [],
   "source": [
    "y = [data.y for data in data_list_2cls]\n",
    "\n",
    "from sklearn.model_selection import StratifiedKFold\n",
    "skf = StratifiedKFold(n_splits = 5, random_state = 0, shuffle= True)\n",
    "skf.get_n_splits(np.arange(0, len(data_list_2cls)), y)\n",
    "\n",
    "splits = []\n",
    "for train_idx, test_idx in skf.split(np.arange(0, len(data_list_2cls)), y):\n",
    "    train_list = []\n",
    "    test_list = []\n",
    "    for i, data in enumerate(data_list_2cls):\n",
    "        if i in train_idx:\n",
    "            train_list.append(data)\n",
    "        else:\n",
    "            test_list.append(data)\n",
    "    splits.append((train_list,test_list))"
   ]
  },
  {
   "cell_type": "code",
   "execution_count": null,
   "metadata": {},
   "outputs": [
    {
     "name": "stdout",
     "output_type": "stream",
     "text": [
      "Split 1\n",
      "Epoch: 001, Train Acc: 0.8500, Test Acc: 0.8750, Test Bal Acc: 0.5000\n",
      "Epoch: 002, Train Acc: 0.1500, Test Acc: 0.1250, Test Bal Acc: 0.5000\n",
      "Split 2\n",
      "Epoch: 001, Train Acc: 0.1437, Test Acc: 0.1500, Test Bal Acc: 0.5000\n",
      "Epoch: 002, Train Acc: 0.9250, Test Acc: 0.9500, Test Bal Acc: 0.8333\n",
      "Split 3\n",
      "Epoch: 001, Train Acc: 0.1437, Test Acc: 0.1500, Test Bal Acc: 0.5000\n",
      "Epoch: 002, Train Acc: 0.8562, Test Acc: 0.8500, Test Bal Acc: 0.5000\n",
      "Split 4\n",
      "Epoch: 001, Train Acc: 0.8562, Test Acc: 0.8500, Test Bal Acc: 0.5000\n",
      "Epoch: 002, Train Acc: 0.1437, Test Acc: 0.1500, Test Bal Acc: 0.5000\n",
      "Split 5\n",
      "Epoch: 001, Train Acc: 0.9187, Test Acc: 0.9000, Test Bal Acc: 0.6667\n",
      "Epoch: 002, Train Acc: 0.9375, Test Acc: 0.9000, Test Bal Acc: 0.6667\n"
     ]
    },
    {
     "data": {
      "image/png": "[encoded data removed]",
      "text/plain": [
       "<Figure size 2000x400 with 5 Axes>"
      ]
     },
     "metadata": {},
     "output_type": "display_data"
    }
   ],
   "source": [
    "# selection of the features to use\n",
    "num_features = data_list_2cls[0].x.shape[1]\n",
    "num_classes = 2\n",
    "epochs = 100\n",
    "\n",
    "# try different aggregation modes:\n",
    "# other aggragtion schemas not supported for batches\n",
    "\n",
    "fig, ax = plt.subplots(1,5, figsize=(20,4))\n",
    "\n",
    "\n",
    "for i, split in enumerate(splits):\n",
    "    # create the model\n",
    "    model = gnn_models.GCN_GC(in_channels= num_features, hidden_channels = 64, out_channels= num_classes, num_layers= 3, dropout = 0.2, aggregation_mode= global_mean_pool)\n",
    "\n",
    "    # create brach data loaders for training and test set\n",
    "    train_loader = DataLoader(split[0], batch_size = 32, shuffle=True)\n",
    "    test_loader = DataLoader(split[1], batch_size = 32, shuffle=False)\n",
    "\n",
    "    # weigthings for imbalanced classes \n",
    "    train_labels = [lab[\"y\"] for lab in split[0]]\n",
    "    weights = 1/np.unique(train_labels, return_counts= True)[1]\n",
    "    balanced_loss = torch.nn.CrossEntropyLoss(torch.tensor(weights).float())\n",
    "\n",
    "    classifier = graph_classifier.graphClassifierBatch(model, train_loader, test_loader, balanced_loss)\n",
    "    \n",
    "\n",
    "    print(\"Split \" + str(i+1))\n",
    "    for epoch in range(1, epochs+1):\n",
    "        classifier.train()\n",
    "        train_acc = classifier.test(train_loader)\n",
    "        test_acc = classifier.test(test_loader)\n",
    "        outList, yList = classifier.predict(test_loader)\n",
    "        y_p = np.array([item.argmax().detach().numpy() for sublist in outList for item in sublist])\n",
    "        y_t = np.array([item.detach().numpy() for sublist in yList for item in sublist])\n",
    "        print(f'Epoch: {epoch:03d}, Train Acc: {train_acc:.4f}, Test Acc: {test_acc:.4f}, Test Bal Acc: {balanced_accuracy_score(y_t, y_p):.4f}')\n",
    "    evaluation.plot_confusion_matrix(y_t, y_p, [\"NORMAL\", \"DISEASED\"], ax[i])\n",
    "\n"
   ]
  },
  {
   "attachments": {},
   "cell_type": "markdown",
   "metadata": {},
   "source": [
    "# 2 Class fitlered"
   ]
  },
  {
   "cell_type": "code",
   "execution_count": null,
   "metadata": {},
   "outputs": [],
   "source": [
    "y = [data.y for data in data_list_2cls]\n",
    "\n",
    "from sklearn.model_selection import StratifiedKFold\n",
    "skf = StratifiedKFold(n_splits = 5, random_state = 0, shuffle= True)\n",
    "skf.get_n_splits(np.arange(0, len(data_list_2cls)), y)\n",
    "\n",
    "splits = []\n",
    "for train_idx, test_idx in skf.split(np.arange(0, len(data_list_2cls)), y):\n",
    "    train_list = []\n",
    "    test_list = []\n",
    "    for i, data in enumerate(data_list_2cls):\n",
    "        if i in train_idx:\n",
    "            train_list.append(data)\n",
    "        else:\n",
    "            test_list.append(data)\n",
    "    splits.append((train_list,test_list))"
   ]
  },
  {
   "cell_type": "code",
   "execution_count": null,
   "metadata": {},
   "outputs": [],
   "source": [
    "# selection of the features to use\n",
    "num_features = data_list_2cls_filt[0].x.shape[1]\n",
    "num_classes = 2\n",
    "epochs = 100\n",
    "\n",
    "# try different aggregation modes:\n",
    "# other aggragtion schemas not supported for batches\n",
    "\n",
    "fig, ax = plt.subplots(1,5, figsize=(20,4))\n",
    "\n",
    "\n",
    "for i, split in enumerate(splits):\n",
    "    # create the model\n",
    "    model = gnn_models.GCN_GC(in_channels= num_features, hidden_channels = 64, out_channels= num_classes, num_layers= 3, dropout = 0.2, aggregation_mode= global_mean_pool)\n",
    "\n",
    "    # create brach data loaders for training and test set\n",
    "    train_loader = DataLoader(split[0], batch_size = 32, shuffle=True)\n",
    "    test_loader = DataLoader(split[1], batch_size = 32, shuffle=False)\n",
    "\n",
    "    # weigthings for imbalanced classes \n",
    "    train_labels = [lab[\"y\"] for lab in split[0]]\n",
    "    weights = 1/np.unique(train_labels, return_counts= True)[1]\n",
    "    balanced_loss = torch.nn.CrossEntropyLoss(torch.tensor(weights).float())\n",
    "\n",
    "    classifier = graph_classifier.graphClassifierBatch(model, train_loader, test_loader, balanced_loss)\n",
    "\n",
    "    print(\"Split \" + str(i+1))\n",
    "    for epoch in range(1, epochs+1):\n",
    "        classifier.train()\n",
    "        train_acc = classifier.test(train_loader)\n",
    "        test_acc = classifier.test(test_loader)\n",
    "        outList, yList = classifier.predict(test_loader)\n",
    "        y_p = np.array([item.argmax().detach().numpy() for sublist in outList for item in sublist])\n",
    "        y_t = np.array([item.detach().numpy() for sublist in yList for item in sublist])\n",
    "        print(f'Epoch: {epoch:03d}, Train Acc: {train_acc:.4f}, Test Acc: {test_acc:.4f}, Test Bal Acc: {balanced_accuracy_score(y_t, y_p):.4f}')\n",
    "    evaluation.plot_confusion_matrix(y_t, y_p, [\"NORMAL\", \"DISEASED\"], ax[i])\n",
    "\n"
   ]
  },
  {
   "cell_type": "code",
   "execution_count": null,
   "metadata": {},
   "outputs": [
    {
     "name": "stdout",
     "output_type": "stream",
     "text": [
      "Epoch: 001, Train Acc: 0.7875, Test Acc: 0.8500\n",
      "Epoch: 002, Train Acc: 0.7875, Test Acc: 0.8500\n",
      "Epoch: 003, Train Acc: 0.1062, Test Acc: 0.1250\n",
      "Epoch: 004, Train Acc: 0.0312, Test Acc: 0.0250\n",
      "Epoch: 005, Train Acc: 0.1562, Test Acc: 0.1000\n",
      "Epoch: 006, Train Acc: 0.8812, Test Acc: 0.9500\n",
      "Epoch: 007, Train Acc: 0.8750, Test Acc: 0.9500\n",
      "Epoch: 008, Train Acc: 0.1562, Test Acc: 0.1000\n",
      "Epoch: 009, Train Acc: 0.1562, Test Acc: 0.1000\n",
      "Epoch: 010, Train Acc: 0.8438, Test Acc: 0.9500\n"
     ]
    }
   ],
   "source": [
    "## selection of the features to use\n",
    "#num_features = data_list[0].x.shape[1]\n",
    "#num_classes = 4\n",
    "#\n",
    "#\n",
    "## try different aggregation modes:\n",
    "## other aggragtion schemas not supported for batches\n",
    "#from torch_geometric.nn import global_mean_pool, global_max_pool, global_add_pool\n",
    "#\n",
    "#\n",
    "## create the model\n",
    "#model = gnn_models.GCN_GC(in_channels= num_features, hidden_channels = 64, out_channels= num_classes, num_layers= 3, dropout = 0.2, aggregation_mode= global_mean_pool)\n",
    "#\n",
    "## create brach data loaders for training and test set\n",
    "#train_loader = DataLoader(train_list_bin, batch_size = 64, shuffle=True)\n",
    "#test_loader = DataLoader(test_list_bin, batch_size = 64, shuffle=False)\n",
    "#\n",
    "## weigthings for imbalanced classes \n",
    "#weights = 1/np.unique(train_labels, return_counts= True)[1]\n",
    "#balanced_loss = torch.nn.CrossEntropyLoss(torch.tensor(weights).float())\n",
    "#\n",
    "#classifier = graph_classifier.graphClassifierBatch(model, train_loader, test_loader, balanced_loss)\n",
    "#epochs = 10\n",
    "#\n",
    "#for epoch in range(1, epochs+1):\n",
    "#    classifier.train()\n",
    "#    train_acc = classifier.test(train_loader)\n",
    "#    test_acc = classifier.test(test_loader)\n",
    "#    print(f'Epoch: {epoch:03d}, Train Acc: {train_acc:.4f}, Test Acc: {test_acc:.4f}')\n",
    "\n"
   ]
  }
 ],
 "metadata": {
  "kernelspec": {
   "display_name": "Python 3.8.10 64-bit",
   "language": "python",
   "name": "python3"
  },
  "language_info": {
   "codemirror_mode": {
    "name": "ipython",
    "version": 3
   },
   "file_extension": ".py",
   "mimetype": "text/x-python",
   "name": "python",
   "nbconvert_exporter": "python",
   "pygments_lexer": "ipython3",
   "version": "3.8.10"
  },
  "orig_nbformat": 4,
  "vscode": {
   "interpreter": {
    "hash": "31f2aee4e71d21fbe5cf8b01ff0e069b9275f58929596ceb00d14d90e3e16cd6"
   }
  }
 },
 "nbformat": 4,
 "nbformat_minor": 2
}
