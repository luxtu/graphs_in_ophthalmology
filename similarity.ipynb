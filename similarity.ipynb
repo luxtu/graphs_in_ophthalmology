{
 "cells": [
  {
   "cell_type": "markdown",
   "metadata": {},
   "source": [
    "# Create the graph based on two separate masks"
   ]
  },
  {
   "cell_type": "code",
   "execution_count": 7,
   "metadata": {},
   "outputs": [
    {
     "name": "stdout",
     "output_type": "stream",
     "text": [
      "The total number of contracted nodes: 166\n",
      "The total number of resulting nodes: 72\n"
     ]
    }
   ],
   "source": [
    "import pandas as pd\n",
    "from scipy.sparse.csgraph import connected_components\n",
    "import preprocessing.preprocessing as pp\n",
    "import graph_matching.graph_matching as gm\n",
    "\n",
    "from visualization import graph_to_mesh, mesh_viewer\n",
    "import numpy as np\n",
    "\n",
    "nodesFileNerve =  \"~/Documents/Intestine/nerve-mask/nodes_nerve_bs2_fh.csv\"\n",
    "edgesFileNerve = \"~/Documents/Intestine/nerve-mask/edges_nerve_bs2_fh.csv\"\n",
    "\n",
    "nodesFileLymph =  \"~/Documents/Intestine/lymph-mask/nodes_lymph_bs2_fh.csv\"\n",
    "edgesFileLymph = \"~/Documents/Intestine/lymph-mask/edges_lymph_bs2_fh.csv\"\n",
    "\n",
    "nodes_n = pd.read_csv(nodesFileNerve, sep = \";\", index_col= \"id\")\n",
    "edges_n = pd.read_csv(edgesFileNerve, sep = \";\", index_col= \"id\")\n",
    "nodes_l = pd.read_csv(nodesFileLymph, sep = \";\", index_col= \"id\")\n",
    "edges_l = pd.read_csv(edgesFileLymph, sep = \";\", index_col= \"id\")\n",
    "\n",
    "\n",
    "# scaling with the factors provided by luciano\n",
    "nodes_l = pp.scalePosition(nodes_l, (1.65,1.65,6))\n",
    "nodes_n = pp.scalePosition(nodes_n, (1.65,1.65,6))\n",
    "\n",
    "\n",
    "# giving nodes from different files unique names\n",
    "edges_n, nodes_n = pp.relable_edges_nodes(edges_n, nodes_n, \"n\")\n",
    "edges_l, nodes_l = pp.relable_edges_nodes(edges_l, nodes_l, \"l\")\n",
    "\n",
    "\n",
    "adjMcsr = pp.distance_based_adjacency(nodes_n, nodes_l, th = 0.03)\n",
    "num, labels = connected_components(csgraph=adjMcsr, directed = False)\n",
    "con_comp = pp.connected_components_dict(labels)\n",
    "rel_comp = pp.relevant_connected_components(con_comp, nodes_n.shape[0], (\"n\",\"l\"))\n",
    "\n",
    "\n",
    "contractions = np.sum([len(val) for val in rel_comp.values()])\n",
    "new_nodes = len(list(rel_comp.keys()))\n",
    "print(\"The total number of contracted nodes: \" + str(contractions))\n",
    "print(\"The total number of resulting nodes: \" + str(new_nodes))\n",
    "\n",
    "\n",
    "reverse_dict= {}\n",
    "for k, v in rel_comp.items():\n",
    "    for val in v:\n",
    "        reverse_dict[val] = k\n",
    "\n",
    "\n",
    "\n",
    "merged_nodes = pd.concat([nodes_l.loc[:,[\"pos_x\", \"pos_y\", \"pos_z\"]], nodes_n.loc[:,[\"pos_x\", \"pos_y\", \"pos_z\"]]])\n",
    "new_nodes = pd.DataFrame(columns=merged_nodes.columns )\n",
    "\n",
    "\n",
    "# replace the contracted node with new nodes\n",
    "# the position of the new node is an average of all the previous nodes\n",
    "for k, valList in rel_comp.items():\n",
    "    new_nodes.loc[k] = merged_nodes.loc[valList].mean()\n",
    "    merged_nodes.drop(valList, inplace = True)\n",
    "\n",
    "# concat the all nodes and the new nodes\n",
    "merged_nodes = pd.concat([merged_nodes, new_nodes])\n",
    "\n",
    "# createa a combined edge file\n",
    "merged_edges = pd.concat([edges_l, edges_n], ignore_index = True)\n",
    "\n",
    "# change the names of the edges to the new names\n",
    "for idxE, edge in merged_edges.iterrows():\n",
    "    if edge[\"node1id\"] in reverse_dict.keys():\n",
    "        merged_edges.loc[idxE,\"node1id\"] = reverse_dict[edge[\"node1id\"]]\n",
    "    if edge[\"node2id\"] in reverse_dict.keys():\n",
    "        merged_edges.loc[idxE,\"node2id\"] = reverse_dict[edge[\"node2id\"]]\n",
    "\n",
    "\n",
    "\n",
    "# make a setting for self loops and isolates \n",
    "sloop = 0\n",
    "isol = 0\n",
    "\n",
    "# create a new graph based on the old information\n",
    "\n",
    "G_contract = pp.createGraph(merged_nodes, merged_edges)\n",
    "G_contract_einf_sep = pp.convertToEinfach(G_contract, self_loops = sloop, isolates = isol)"
   ]
  },
  {
   "cell_type": "markdown",
   "metadata": {},
   "source": [
    "# Create the graph based on a combined mask "
   ]
  },
  {
   "cell_type": "code",
   "execution_count": 8,
   "metadata": {},
   "outputs": [
    {
     "name": "stdout",
     "output_type": "stream",
     "text": [
      "3715\n",
      "5135\n"
     ]
    }
   ],
   "source": [
    "nodesFileComb =  \"~/Documents/Intestine/combined-mask/nodes_bs2_fh.csv\"\n",
    "edgesFileComb = \"~/Documents/Intestine/combined-mask/edges_bs2_fh.csv\"\n",
    "\n",
    "nodes_c = pd.read_csv(nodesFileComb, sep = \";\", index_col= \"id\")\n",
    "edges_c = pd.read_csv(edgesFileComb, sep = \";\", index_col= \"id\")\n",
    "\n",
    "print(nodes_c.shape[0])\n",
    "print(edges_c.shape[0])\n",
    "\n",
    "# scaling with the factors provided by luciano\n",
    "nodes_c = pp.scalePosition(nodes_c, (1.65,1.65,6))\n",
    "\n",
    "\n",
    "G_contract_comb = pp.createGraph(nodes_c, edges_c)\n",
    "G_contract_einf_comb = pp.convertToEinfach(G_contract_comb, self_loops = sloop, isolates = isol)"
   ]
  },
  {
   "cell_type": "markdown",
   "metadata": {},
   "source": [
    "# Compare properties of both graphs"
   ]
  },
  {
   "cell_type": "code",
   "execution_count": 9,
   "metadata": {},
   "outputs": [
    {
     "name": "stdout",
     "output_type": "stream",
     "text": [
      "***************\n",
      "Number of Nodes: 3919\n",
      "Number of Edges: 5040\n",
      "Number of Connected Components: 41\n",
      "Number of Self Loops: 0\n",
      "Number of Isolated Nodes: 0\n",
      "Average Node Degree: 2.572084715488645\n",
      "***************\n",
      "***************\n",
      "Number of Nodes: 3715\n",
      "Number of Edges: 5100\n",
      "Number of Connected Components: 17\n",
      "Number of Self Loops: 0\n",
      "Number of Isolated Nodes: 0\n",
      "Average Node Degree: 2.7456258411843875\n",
      "***************\n"
     ]
    }
   ],
   "source": [
    "pp.graphSummary(G_contract_einf_sep)\n",
    "pp.graphSummary(G_contract_einf_comb)\n"
   ]
  },
  {
   "cell_type": "code",
   "execution_count": 10,
   "metadata": {},
   "outputs": [
    {
     "name": "stdout",
     "output_type": "stream",
     "text": [
      "Total Distance: 83.84533408119222\n",
      "Average Distance: 0.022569403521182294\n",
      "Median Distance: 0.015312306018689659\n",
      "(array(['c', 'l', 'n'], dtype='<U1'), array([  72, 2071, 1776]))\n",
      "(array(['c', 'l', 'n'], dtype='<U1'), array([  99, 2038, 1578]))\n",
      "Mean difference in the degree of two matche nodes: 0.3082099596231494\n",
      "Median difference in the degree of two matche nodes: 0.0\n"
     ]
    }
   ],
   "source": [
    "import matplotlib.pyplot as plt\n",
    "\n",
    "# get the neare\n",
    "res = gm.nearestNeighborNode(G_contract_einf_sep, G_contract_einf_comb)\n",
    "\n",
    "\n",
    "print(\"Total Distance: \" + str(np.sum(res[0])))\n",
    "print(\"Average Distance: \" + str(np.mean(res[0])))\n",
    "print(\"Median Distance: \" + str(np.median(res[0])))\n",
    "\n",
    "\n",
    "G_contract_einf_comb_relab = gm.nearestNeighborLabeling(G_contract_einf_sep, G_contract_einf_comb)\n",
    "\n",
    "\n",
    "sep_class_labels = [val[-1] for val in G_contract_einf_sep.nodes()]\n",
    "comb_class_labels = [val[-1] for val in G_contract_einf_comb_relab.nodes()]\n",
    "\n",
    "print(np.unique(sep_class_labels, return_counts = True))\n",
    "print(np.unique(comb_class_labels, return_counts = True))\n",
    "\n",
    "# what is the avg deviation of the node degree to its match node degree?\n",
    "\n",
    "sep_node_list = np.array(list(G_contract_einf_sep.nodes()))\n",
    "\n",
    "deg_dev = []\n",
    "for i, m_node_idx in enumerate(res[1]):\n",
    "    deg1 = G_contract_einf_comb.degree[i]\n",
    "    m_node = sep_node_list[m_node_idx]\n",
    "    deg2 = G_contract_einf_sep.degree[m_node]\n",
    "    deg_dev.append(deg1-deg2)\n",
    "\n",
    "\n",
    "deg_dev_abs = np.abs(deg_dev)\n",
    "print(\"Mean difference in the degree of two matche nodes: \" + str(np.mean(deg_dev_abs)))\n",
    "print(\"Median difference in the degree of two matche nodes: \" + str(np.median(deg_dev_abs)))\n",
    "\n"
   ]
  },
  {
   "cell_type": "code",
   "execution_count": 11,
   "metadata": {},
   "outputs": [
    {
     "data": {
      "text/plain": [
       "Text(0, 0.5, 'Node Count')"
      ]
     },
     "execution_count": 11,
     "metadata": {},
     "output_type": "execute_result"
    },
    {
     "data": {
      "image/png": "[encoded data removed]",
      "text/plain": [
       "<Figure size 640x480 with 1 Axes>"
      ]
     },
     "metadata": {},
     "output_type": "display_data"
    }
   ],
   "source": [
    "diff, count = np.unique(deg_dev, return_counts = True)\n",
    "\n",
    "fig = plt.figure()\n",
    "ax1 = fig.subplots(1)\n",
    "ax1.hist(res[0], bins = \"rice\") # 'auto', 'fd', 'doane', 'scott', 'stone', 'rice', 'sturges', or 'sqrt'.\n",
    "ax1.set_xlabel(\"Degree Difference: deg(Comb. Node) - deg(Match Node)\")\n",
    "ax1.set_ylabel(\"Node Count\")\n"
   ]
  },
  {
   "cell_type": "code",
   "execution_count": 12,
   "metadata": {},
   "outputs": [
    {
     "data": {
      "text/plain": [
       "Text(0, 0.5, 'Node Count')"
      ]
     },
     "execution_count": 12,
     "metadata": {},
     "output_type": "execute_result"
    },
    {
     "data": {
      "image/png": "[encoded data removed]",
      "text/plain": [
       "<Figure size 640x480 with 1 Axes>"
      ]
     },
     "metadata": {},
     "output_type": "display_data"
    }
   ],
   "source": [
    "diff, count = np.unique(deg_dev, return_counts = True)\n",
    "\n",
    "fig = plt.figure()\n",
    "ax1 = fig.subplots(1)\n",
    "ax1.bar(diff, count)\n",
    "ax1.set_xlabel(\"Degree Difference: deg(Comb. Node) - deg(Match Node)\")\n",
    "ax1.set_ylabel(\"Node Count\")\n"
   ]
  },
  {
   "cell_type": "code",
   "execution_count": 23,
   "metadata": {},
   "outputs": [],
   "source": [
    "# converting the graph to a dual graph for classification\n",
    "import networkx as nx\n",
    "from torch_geometric.utils.convert import from_networkx\n",
    "import torch\n",
    "\n",
    "L = nx.line_graph(G_contract_einf_comb_relab)\n",
    "\n",
    "feature_dict = {}\n",
    "\n",
    "\n",
    "for edge in G_contract_einf_comb_relab.edges:\n",
    "    feature_dict[edge] = G_contract_einf_comb_relab.edges[edge][\"x\"]\n",
    "\n",
    "nx.set_node_attributes(L, feature_dict, name=\"x\")\n",
    "\n",
    "\n",
    "\n",
    "all_nodes = list(L.nodes)\n",
    "nerve_class = np.array([elem[-1] == \"n\" for elem in all_nodes])*0\n",
    "lymph_class = np.array([elem[-1] == \"l\" for elem in all_nodes])*1\n",
    "combined_class = np.array([elem[-1] == \"c\" for elem in all_nodes])*2\n",
    "class_assign = nerve_class+lymph_class+combined_class\n",
    "\n",
    "\n",
    "networkDualXG = from_networkx(L)\n",
    "networkDualXG.y = torch.tensor(class_assign)"
   ]
  }
 ],
 "metadata": {
  "kernelspec": {
   "display_name": "Python 3.8.10 64-bit",
   "language": "python",
   "name": "python3"
  },
  "language_info": {
   "codemirror_mode": {
    "name": "ipython",
    "version": 3
   },
   "file_extension": ".py",
   "mimetype": "text/x-python",
   "name": "python",
   "nbconvert_exporter": "python",
   "pygments_lexer": "ipython3",
   "version": "3.8.10"
  },
  "orig_nbformat": 4,
  "vscode": {
   "interpreter": {
    "hash": "31f2aee4e71d21fbe5cf8b01ff0e069b9275f58929596ceb00d14d90e3e16cd6"
   }
  }
 },
 "nbformat": 4,
 "nbformat_minor": 2
}
