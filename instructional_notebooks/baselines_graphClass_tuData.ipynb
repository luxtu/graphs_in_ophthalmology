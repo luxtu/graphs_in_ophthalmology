{
 "cells": [
  {
   "cell_type": "code",
   "execution_count": 1,
   "metadata": {},
   "outputs": [],
   "source": [
    "import torch\n",
    "from models import baselines\n",
    "import numpy as np\n",
    "import evaluation.evaluation as ev\n",
    "import training.training as tt\n",
    "from sklearn.metrics import accuracy_score, balanced_accuracy_score\n",
    "from sklearn.model_selection import ParameterGrid\n",
    "import matplotlib.pyplot as plt\n",
    "import networkx as nx\n",
    "from scipy import stats\n",
    "from torch_geometric.utils.convert import from_networkx\n",
    "from torch_geometric.datasets import TUDataset\n",
    "import torch_geometric"
   ]
  },
  {
   "attachments": {},
   "cell_type": "markdown",
   "metadata": {},
   "source": [
    "### Load the graphs"
   ]
  },
  {
   "cell_type": "code",
   "execution_count": 2,
   "metadata": {},
   "outputs": [
    {
     "name": "stdout",
     "output_type": "stream",
     "text": [
      "\n",
      "Dataset: MUTAG(188):\n",
      "====================\n",
      "Number of graphs: 188\n",
      "Number of features: 7\n",
      "Number of classes: 2\n",
      "\n",
      "Data(edge_index=[2, 38], x=[17, 7], edge_attr=[38, 4], y=[1])\n",
      "=============================================================\n",
      "Number of nodes: 17\n",
      "Number of edges: 38\n",
      "Average node degree: 2.24\n",
      "Has isolated nodes: False\n",
      "Has self-loops: False\n",
      "Is undirected: True\n"
     ]
    },
    {
     "name": "stderr",
     "output_type": "stream",
     "text": [
      "/tmp/ipykernel_14744/3658682324.py:4: VisibleDeprecationWarning: Creating an ndarray from ragged nested sequences (which is a list-or-tuple of lists-or-tuples-or ndarrays with different lengths or shapes) is deprecated. If you meant to do this, you must specify 'dtype=object' when creating the ndarray.\n",
      "  dataset_nx = np.array([torch_geometric.utils.to_networkx(data, to_undirected = True, node_attrs= [\"x\"]) for data in dataset])\n"
     ]
    }
   ],
   "source": [
    "# load some example dataset\n",
    "dataset = TUDataset(root='data/TUDataset', name='MUTAG')\n",
    "# covnert the dataset to networkx \n",
    "dataset_nx = np.array([torch_geometric.utils.to_networkx(data, to_undirected = True, node_attrs= [\"x\"]) for data in dataset])\n",
    "\n",
    "\n",
    "print()\n",
    "print(f'Dataset: {dataset}:')\n",
    "print('====================')\n",
    "print(f'Number of graphs: {len(dataset)}')\n",
    "print(f'Number of features: {dataset.num_features}')\n",
    "print(f'Number of classes: {dataset.num_classes}')\n",
    "\n",
    "data = dataset[0]  # Get the first graph object.\n",
    "\n",
    "print()\n",
    "print(data)\n",
    "print('=============================================================')\n",
    "\n",
    "# Gather some statistics about the first graph.\n",
    "print(f'Number of nodes: {data.num_nodes}')\n",
    "print(f'Number of edges: {data.num_edges}')\n",
    "print(f'Average node degree: {data.num_edges / data.num_nodes:.2f}')\n",
    "print(f'Has isolated nodes: {data.has_isolated_nodes()}')\n",
    "print(f'Has self-loops: {data.has_self_loops()}')\n",
    "print(f'Is undirected: {data.is_undirected()}')"
   ]
  },
  {
   "attachments": {},
   "cell_type": "markdown",
   "metadata": {},
   "source": [
    "### Perform some aggregation over the nodes such that we end up with a single feature vector per graph."
   ]
  },
  {
   "cell_type": "code",
   "execution_count": 3,
   "metadata": {},
   "outputs": [],
   "source": [
    "\n",
    "# add two features for number of edges and nodes\n",
    "x_data = np.zeros((len(dataset), dataset.num_features + 2))\n",
    "y_data = np.zeros((len(dataset),))\n",
    "\n",
    "# perform mean aggregation (maybe max/min/std would lead to better results)\n",
    "for i, data in enumerate(dataset):\n",
    "    x_data[i,:-2] = data.x.mean(0)\n",
    "    x_data[i,-2] = data.num_nodes\n",
    "    x_data[i,-1] = data.num_edges\n",
    "    y_data[i] = data.y.detach().numpy()\n",
    "\n",
    "\n",
    "train_mask = np.random.choice(np.arange(0, len(dataset)), size= int(len(dataset)*0.8), replace = False)\n",
    "test_mask = np.delete(np.arange(0, len(dataset)), train_mask)"
   ]
  },
  {
   "cell_type": "code",
   "execution_count": 4,
   "metadata": {},
   "outputs": [],
   "source": [
    "\n",
    "#define a grid Search function to find the optimal parameter setting\n",
    "def gridSearch(model, dataX, dataY, grid_list, train_mask, validation_mask):\n",
    "    opt_mod = None\n",
    "    max_acc = 0\n",
    "    opt_bal_acc = 0\n",
    "    for i, setting in enumerate(grid_list):\n",
    "        clf = model(dataX, dataY,**setting)\n",
    "        clf.fit(train_mask)\n",
    "        pred_test = clf.predict(validation_mask)\n",
    "        acc = accuracy_score(clf.y[validation_mask], pred_test)\n",
    "        bal_acc = balanced_accuracy_score(clf.y[validation_mask], pred_test)\n",
    "        if acc > max_acc:\n",
    "            max_acc = acc\n",
    "            opt_mod = setting\n",
    "            opt_bal_acc = bal_acc\n",
    "    return opt_mod, max_acc, opt_bal_acc"
   ]
  },
  {
   "cell_type": "markdown",
   "metadata": {},
   "source": [
    "# Random Forest"
   ]
  },
  {
   "cell_type": "markdown",
   "metadata": {},
   "source": [
    "### Grid search for the optimal RF model"
   ]
  },
  {
   "cell_type": "code",
   "execution_count": 5,
   "metadata": {},
   "outputs": [
    {
     "name": "stdout",
     "output_type": "stream",
     "text": [
      "{'max_depth': 7, 'max_features': 'sqrt'}\n",
      "0.9210526315789473\n",
      "0.9464285714285714\n"
     ]
    }
   ],
   "source": [
    "\n",
    "param_grid_rf = {'max_depth': [7, 8, 9, 10], 'max_features': [\"sqrt\", \"log2\"]}\n",
    "grid_list_rf = list(ParameterGrid(param_grid_rf))\n",
    "\n",
    "\n",
    "opt_mod_rf, max_acc_rf, opt_bal_acc_rf =  gridSearch(baselines.RandomForest, x_data, y_data, grid_list_rf, train_mask, test_mask)\n",
    "\n",
    "print(opt_mod_rf)\n",
    "print(max_acc_rf)\n",
    "print(opt_bal_acc_rf)"
   ]
  },
  {
   "cell_type": "code",
   "execution_count": 12,
   "metadata": {},
   "outputs": [
    {
     "name": "stdout",
     "output_type": "stream",
     "text": [
      "Test Set Accuracy and Balanced Accuracy\n",
      "Test Accuracy: 0.8947\n",
      "Test Balanced Accuracy: 0.8964\n",
      "Train Accuracy: 0.9400\n",
      "Train Balanced Accuracy: 0.9365\n"
     ]
    },
    {
     "data": {
      "image/png": "[encoded data removed]",
      "text/plain": [
       "<Figure size 1200x400 with 2 Axes>"
      ]
     },
     "metadata": {},
     "output_type": "display_data"
    }
   ],
   "source": [
    "\n",
    "clf_rf = baselines.RandomForest(x_data, y_data, **opt_mod_rf)\n",
    "\n",
    "clf_rf.fit(train_mask)\n",
    "pred_test = clf_rf.predict(test_mask)\n",
    "pred_train = clf_rf.predict(train_mask)\n",
    "\n",
    "fig, ax = plt.subplots(1,2, figsize = (12,4))\n",
    "\n",
    "\n",
    "ev.plot_confusion_matrix(clf_rf.y[test_mask], pred_test, [0,1], ax = ax[0])\n",
    "#print(ev.eval_roc_auc(clf_rf.y[test_mask], pred_test))\n",
    "\n",
    "print(\"Test Set Accuracy and Balanced Accuracy\")\n",
    "print(f\"Test Accuracy: {accuracy_score(clf_rf.y[test_mask], pred_test):.4f}\")\n",
    "print(f\"Test Balanced Accuracy: {balanced_accuracy_score(clf_rf.y[test_mask], pred_test):.4f}\")\n",
    "\n",
    "\n",
    "ev.plot_confusion_matrix(clf_rf.y[train_mask], pred_train, [0,1],ax = ax[1])\n",
    "print(f\"Train Accuracy: {accuracy_score(clf_rf.y[train_mask], pred_train):.4f}\")\n",
    "print(f\"Train Balanced Accuracy: {balanced_accuracy_score(clf_rf.y[train_mask], pred_train):.4f}\")\n",
    "\n"
   ]
  },
  {
   "cell_type": "markdown",
   "metadata": {},
   "source": [
    "# Support Vector Machine"
   ]
  },
  {
   "cell_type": "markdown",
   "metadata": {},
   "source": [
    "### Grid search for the optimal support vector machine model"
   ]
  },
  {
   "cell_type": "code",
   "execution_count": 14,
   "metadata": {},
   "outputs": [
    {
     "name": "stdout",
     "output_type": "stream",
     "text": [
      "{'C': 1, 'kernel': 'linear'}\n",
      "0.868421052631579\n",
      "0.8785714285714286\n"
     ]
    }
   ],
   "source": [
    "param_grid_svc = {'C': [1, 100, 10000], 'kernel': [\"linear\", \"rbf\"]}\n",
    "grid_list_svc = list(ParameterGrid(param_grid_svc))\n",
    "\n",
    "opt_mod_svm, max_acc_svm, opt_bal_acc_svm =  gridSearch(baselines.SVM, x_data, y_data, grid_list_svc, train_mask, test_mask)\n",
    "\n",
    "# {'C': 10000, 'kernel': 'linear'}\n",
    "#0.5598039215686275\n",
    "#0.44860112286408277\n",
    "\n",
    "print(opt_mod_svm)\n",
    "print(max_acc_svm)\n",
    "print(opt_bal_acc_svm)"
   ]
  },
  {
   "cell_type": "code",
   "execution_count": 15,
   "metadata": {},
   "outputs": [
    {
     "name": "stdout",
     "output_type": "stream",
     "text": [
      "Test Set Accuracy and Balanced Accuracy\n",
      "Test Accuracy: 0.8684\n",
      "Test Balanced Accuracy: 0.8786\n",
      "Train Accuracy: 0.8800\n",
      "Train Balanced Accuracy: 0.8815\n"
     ]
    },
    {
     "data": {
      "image/png": "[encoded data removed]",
      "text/plain": [
       "<Figure size 1200x400 with 2 Axes>"
      ]
     },
     "metadata": {},
     "output_type": "display_data"
    }
   ],
   "source": [
    "\n",
    "clf_svm = baselines.SVM(x_data, y_data, **opt_mod_svm)\n",
    "\n",
    "clf_svm.fit(train_mask)\n",
    "pred_test = clf_svm.predict(test_mask)\n",
    "pred_train = clf_svm.predict(train_mask)\n",
    "\n",
    "fig, ax = plt.subplots(1,2, figsize = (12,4))\n",
    "\n",
    "\n",
    "ev.plot_confusion_matrix(clf_svm.y[test_mask], pred_test, [0,1], ax = ax[0])\n",
    "#print(ev.eval_roc_auc(clf_svm.y[test_mask], pred_test))\n",
    "\n",
    "print(\"Test Set Accuracy and Balanced Accuracy\")\n",
    "print(f\"Test Accuracy: {accuracy_score(clf_svm.y[test_mask], pred_test):.4f}\")\n",
    "print(f\"Test Balanced Accuracy: {balanced_accuracy_score(clf_svm.y[test_mask], pred_test):.4f}\")\n",
    "\n",
    "\n",
    "ev.plot_confusion_matrix(clf_svm.y[train_mask], pred_train, [0,1],ax = ax[1])\n",
    "print(f\"Train Accuracy: {accuracy_score(clf_svm.y[train_mask], pred_train):.4f}\")\n",
    "print(f\"Train Balanced Accuracy: {balanced_accuracy_score(clf_svm.y[train_mask], pred_train):.4f}\")\n",
    "\n"
   ]
  }
 ],
 "metadata": {
  "kernelspec": {
   "display_name": "Python 3.8.10 64-bit",
   "language": "python",
   "name": "python3"
  },
  "language_info": {
   "codemirror_mode": {
    "name": "ipython",
    "version": 3
   },
   "file_extension": ".py",
   "mimetype": "text/x-python",
   "name": "python",
   "nbconvert_exporter": "python",
   "pygments_lexer": "ipython3",
   "version": "3.8.10 (default, Nov 14 2022, 12:59:47) \n[GCC 9.4.0]"
  },
  "orig_nbformat": 4,
  "vscode": {
   "interpreter": {
    "hash": "31f2aee4e71d21fbe5cf8b01ff0e069b9275f58929596ceb00d14d90e3e16cd6"
   }
  }
 },
 "nbformat": 4,
 "nbformat_minor": 2
}
