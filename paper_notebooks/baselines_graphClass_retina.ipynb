{
 "cells": [
  {
   "cell_type": "code",
   "execution_count": 20,
   "metadata": {},
   "outputs": [],
   "source": [
    "\n",
    "import numpy as np\n",
    "import evaluation.evaluation as ev\n",
    "from sklearn.metrics import accuracy_score, balanced_accuracy_score\n",
    "import matplotlib.pyplot as plt\n",
    "from sklearn.svm import SVC\n",
    "from sklearn.ensemble import RandomForestClassifier\n",
    "from sklearn.model_selection import ParameterGrid, GridSearchCV\n",
    "import pickle"
   ]
  },
  {
   "attachments": {},
   "cell_type": "markdown",
   "metadata": {},
   "source": [
    "### Load the graphs"
   ]
  },
  {
   "cell_type": "code",
   "execution_count": 3,
   "metadata": {},
   "outputs": [],
   "source": [
    "#data_list = f_loader.get_dual_data_list(add_structural = True, two_cls = False, force = True) \n",
    "#with open('data_list_OCTA.pkl', 'wb') as f:\n",
    "#    pickle.dump(data_list, f)\n",
    "\n",
    "with open('data_list_OCTA.pkl', 'rb') as f:\n",
    "    data_list = pickle.load(f)\n",
    "\n",
    "\n",
    "data_list_2cls = [] # put CNV and AMD to normal class\n",
    "data_list_2cls_filt = [] # creates a data_list where \n",
    "\n",
    "for data in data_list:\n",
    "    data.clone\n",
    "    if data.y > 1:\n",
    "        data_c = data.clone()\n",
    "        data_c.y = 0\n",
    "        data_list_2cls.append(data_c)\n",
    "    else:\n",
    "        data_list_2cls_filt.append(data)\n",
    "        data_list_2cls.append(data)"
   ]
  },
  {
   "attachments": {},
   "cell_type": "markdown",
   "metadata": {},
   "source": [
    "### Perform some aggregation over the nodes such that we end up with a single feature vector per graph."
   ]
  },
  {
   "cell_type": "code",
   "execution_count": 12,
   "metadata": {},
   "outputs": [],
   "source": [
    "\n",
    "# add two features for number of edges and nodes\n",
    "x_data = np.zeros((len(data_list_2cls), data_list_2cls[0].x.shape[1] + 2))\n",
    "y_data = np.zeros((len(data_list_2cls),))\n",
    "\n",
    "# perform mean aggregation (maybe max/min/std would lead to better results)\n",
    "for i, data in enumerate(data_list_2cls):\n",
    "    x_data[i,:-2] = data.x.mean(0)\n",
    "    x_data[i,-2] = data.x.shape[0]\n",
    "    x_data[i,-1] = data.edge_index.shape[1]\n",
    "    y_data[i] = data.y\n",
    "\n",
    "\n",
    "train_mask = np.random.choice(np.arange(0, len(data_list_2cls)), size= int(len(data_list_2cls)*0.8), replace = False)\n",
    "test_mask = np.delete(np.arange(0, len(data_list_2cls)), train_mask)"
   ]
  },
  {
   "cell_type": "markdown",
   "metadata": {},
   "source": [
    "# Random Forest"
   ]
  },
  {
   "cell_type": "markdown",
   "metadata": {},
   "source": [
    "### Grid search for the optimal RF model"
   ]
  },
  {
   "cell_type": "code",
   "execution_count": 41,
   "metadata": {},
   "outputs": [
    {
     "name": "stdout",
     "output_type": "stream",
     "text": [
      "0.8741176470588237\n",
      "{'max_depth': 8, 'max_features': 'sqrt'}\n"
     ]
    }
   ],
   "source": [
    "\n",
    "param_grid_rf = {'max_depth': [7, 8, 9, 10], 'max_features': [\"sqrt\", \"log2\"]}\n",
    "\n",
    "\n",
    "rf = RandomForestClassifier()\n",
    "clf_rf = GridSearchCV(rf, param_grid_rf, scoring = \"balanced_accuracy\")\n",
    "clf_rf.fit(x_data, y_data)\n",
    "\n",
    "print(clf_rf.best_score_)\n",
    "print(clf_rf.best_params_)\n",
    "\n",
    "rf_best = clf_rf.best_estimator_"
   ]
  },
  {
   "cell_type": "markdown",
   "metadata": {},
   "source": [
    "# Support Vector Machine"
   ]
  },
  {
   "cell_type": "markdown",
   "metadata": {},
   "source": [
    "### Grid search for the optimal support vector machine model"
   ]
  },
  {
   "cell_type": "code",
   "execution_count": 42,
   "metadata": {},
   "outputs": [
    {
     "name": "stdout",
     "output_type": "stream",
     "text": [
      "0.8099999999999999\n",
      "{'C': 100, 'kernel': 'linear'}\n"
     ]
    }
   ],
   "source": [
    "param_grid_svc = {'C': [1, 100, 10000], 'kernel': [\"linear\", \"rbf\"]}\n",
    "\n",
    "\n",
    "svc = SVC()\n",
    "clf_svc = GridSearchCV(svc, param_grid_svc, scoring = \"balanced_accuracy\")\n",
    "clf_svc.fit(x_data, y_data)\n",
    "\n",
    "\n",
    "print(clf_svc.best_score_)\n",
    "print(clf_svc.best_params_)\n",
    "\n",
    "svc_best = clf_svc.best_estimator_\n"
   ]
  }
 ],
 "metadata": {
  "kernelspec": {
   "display_name": "Python 3.8.10 64-bit",
   "language": "python",
   "name": "python3"
  },
  "language_info": {
   "codemirror_mode": {
    "name": "ipython",
    "version": 3
   },
   "file_extension": ".py",
   "mimetype": "text/x-python",
   "name": "python",
   "nbconvert_exporter": "python",
   "pygments_lexer": "ipython3",
   "version": "3.8.10"
  },
  "orig_nbformat": 4,
  "vscode": {
   "interpreter": {
    "hash": "31f2aee4e71d21fbe5cf8b01ff0e069b9275f58929596ceb00d14d90e3e16cd6"
   }
  }
 },
 "nbformat": 4,
 "nbformat_minor": 2
}
