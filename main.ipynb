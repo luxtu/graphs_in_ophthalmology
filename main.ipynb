{
 "cells": [
  {
   "cell_type": "code",
   "execution_count": 1,
   "metadata": {},
   "outputs": [],
   "source": [
    "import preprocessing as pp\n",
    "import sampling\n",
    "import random\n",
    "import torch\n",
    "from models import graphClassifier, nodeClassifier\n",
    "from torch_geometric.loader import DataLoader\n",
    "from tqdm import tqdm\n",
    "import numpy as np\n",
    "import pandas as pd\n",
    "import matplotlib.pyplot as plt"
   ]
  },
  {
   "cell_type": "code",
   "execution_count": 2,
   "metadata": {},
   "outputs": [
    {
     "name": "stdout",
     "output_type": "stream",
     "text": [
      "***************\n",
      "Number of Nodes: 4317\n",
      "Number of Edges: 6634\n",
      "Number of Connected Components: 22\n",
      "Number of Self Loops: 528\n",
      "Number of Isolated Nodes: 0\n",
      "Average Node Degree: 3.073430623117906\n",
      "***************\n",
      "***************\n",
      "Number of Nodes: 3036\n",
      "Number of Edges: 3864\n",
      "Number of Connected Components: 89\n",
      "Number of Self Loops: 25\n",
      "Number of Isolated Nodes: 1\n",
      "Average Node Degree: 2.5454545454545454\n",
      "***************\n"
     ]
    }
   ],
   "source": [
    "\n",
    "nodesFileNerve =  \"~/Documents/Intestine/nerve-mask/nodes_nerve_bs2.csv\"\n",
    "edgesFileNerve = \"~/Documents/Intestine/nerve-mask/edges_nerve_bs2.csv\"\n",
    "\n",
    "nodesFileLymph =  \"~/Documents/Intestine/lymph-mask/nodes_lymph_bs2.csv\"\n",
    "edgesFileLymph = \"~/Documents/Intestine/lymph-mask/edges_lymph_bs2.csv\"\n",
    "\n",
    "\n",
    "\n",
    "nodes_n = pd.read_csv(nodesFileNerve, sep = \";\", index_col= \"id\")\n",
    "edges_n = pd.read_csv(edgesFileNerve, sep = \";\", index_col= \"id\")\n",
    "nodes_l = pd.read_csv(nodesFileLymph, sep = \";\", index_col= \"id\")\n",
    "edges_l = pd.read_csv(edgesFileLymph, sep = \";\", index_col= \"id\")\n",
    "\n",
    "\n",
    "# scaling with the factors provided by luciano\n",
    "nodes_l = pp.scalePosition(nodes_l, (1.65,1.65,6))\n",
    "nodes_n = pp.scalePosition(nodes_n, (1.65,1.65,6))\n",
    "\n",
    "# create the graphs for both networks\n",
    "G_nerve = pp.createGraph(nodes_n, edges_n, index_addon =\"n\")\n",
    "G_lymph = pp.createGraph(nodes_l, edges_l, index_addon =\"l\")\n",
    "\n",
    "# get short description of graph\n",
    "pp.graphSummary(G_nerve)\n",
    "pp.graphSummary(G_lymph)\n",
    "\n",
    "# get rid of self-loops, multi edges and isolated nodes\n",
    "G_nerve_einf = pp.convertToEinfach(G_nerve)\n",
    "G_lymph_einf = pp.convertToEinfach(G_lymph)\n",
    "\n",
    "# enrich the attributes of the nodes with information from the incident edges\n",
    "pp.enrichNodeAttributes(G_lymph_einf)\n",
    "pp.enrichNodeAttributes(G_nerve_einf)\n"
   ]
  },
  {
   "cell_type": "markdown",
   "metadata": {},
   "source": [
    "# Graph Classification using Subsets of Lymph and Nerve Network for Training and Testing"
   ]
  },
  {
   "cell_type": "code",
   "execution_count": 3,
   "metadata": {},
   "outputs": [
    {
     "name": "stderr",
     "output_type": "stream",
     "text": [
      "Creating subgraphs using random node neighbor selection.: 100%|██████████| 100/100 [00:00<00:00, 518.00it/s]\n",
      "Creating subgraphs using random node neighbor selection.: 100%|██████████| 100/100 [00:00<00:00, 247.23it/s]\n"
     ]
    }
   ],
   "source": [
    "\n",
    "# create random samples \n",
    "randomSampleLymphNx, randomSampleLymph = sampling.randomGeomSubgraphs(G_lymph_einf, label = 1,starts = 100, node_sample_size = 100,  mode = \"rnn\")\n",
    "randomSampleNerveNx, randomSampleNerve = sampling.randomGeomSubgraphs(G_nerve_einf, label = 0,starts = 100, node_sample_size = 100,  mode = \"rnn\")\n",
    "\n",
    "# combine the graphs to a random set\n",
    "allGraphs = randomSampleLymph + randomSampleNerve\n",
    "random.shuffle(allGraphs)\n",
    "\n",
    "# split into training and test set\n",
    "breaker = int(len(allGraphs)*0.8)\n",
    "train_dataset = allGraphs[:breaker]\n",
    "test_dataset = allGraphs[breaker:]"
   ]
  },
  {
   "cell_type": "code",
   "execution_count": 4,
   "metadata": {},
   "outputs": [
    {
     "name": "stdout",
     "output_type": "stream",
     "text": [
      "Epoch: 001, Train Acc: 0.5034, Test Acc: 0.4054\n",
      "Epoch: 002, Train Acc: 0.5103, Test Acc: 0.4054\n",
      "Epoch: 003, Train Acc: 0.6828, Test Acc: 0.5405\n",
      "Epoch: 004, Train Acc: 0.8759, Test Acc: 0.7568\n",
      "Epoch: 005, Train Acc: 0.9310, Test Acc: 0.9189\n",
      "Epoch: 006, Train Acc: 0.9655, Test Acc: 0.8649\n",
      "Epoch: 007, Train Acc: 0.9655, Test Acc: 0.8378\n",
      "Epoch: 008, Train Acc: 0.8897, Test Acc: 0.8919\n",
      "Epoch: 009, Train Acc: 0.9310, Test Acc: 0.8108\n",
      "Epoch: 010, Train Acc: 0.9034, Test Acc: 0.9189\n"
     ]
    }
   ],
   "source": [
    "# selection of the features to use\n",
    "feat_slice = [1,3,7,8]\n",
    "\n",
    "# create the model\n",
    "model = graphClassifier.GCN_GC(hidden_channels=32, in_features = len(feat_slice), classes = 2)\n",
    "optimizer = torch.optim.Adam(model.parameters(), lr=0.01)\n",
    "criterion = torch.nn.CrossEntropyLoss()\n",
    "\n",
    "# create brach data loaders for training and test set\n",
    "train_loader = DataLoader(train_dataset, batch_size= 64, shuffle=True)\n",
    "test_loader = DataLoader(test_dataset, batch_size=64, shuffle=False)\n",
    "\n",
    "\n",
    "\n",
    "def train_GC():\n",
    "    model.train()\n",
    "\n",
    "    for data in train_loader:  # Iterate in batches over the training dataset.\n",
    "         out = model(data.x[:,feat_slice], data.edge_index, data.batch)  # Perform a single forward pass.\n",
    "         loss = criterion(out, data.y)  # Compute the loss.\n",
    "         loss.backward()  # Derive gradients.\n",
    "         optimizer.step()  # Update parameters based on gradients.\n",
    "         optimizer.zero_grad()  # Clear gradients.\n",
    "\n",
    "def test_GC(loader):\n",
    "     model.eval()\n",
    "\n",
    "     correct = 0\n",
    "     for data in loader:  # Iterate in batches over the training/test dataset.\n",
    "         out = model(data.x[:,feat_slice], data.edge_index, data.batch)  \n",
    "         pred = out.argmax(dim=1)  # Use the class with highest probability.\n",
    "         correct += int((pred == data.y).sum())  # Check against ground-truth labels.\n",
    "     return correct / len(loader.dataset)  # Derive ratio of correct predictions.\n",
    "\n",
    "\n",
    "\n",
    "for epoch in range(1, 11):\n",
    "    train_GC()\n",
    "    train_acc = test_GC(train_loader)\n",
    "    test_acc = test_GC(test_loader)\n",
    "    print(f'Epoch: {epoch:03d}, Train Acc: {train_acc:.4f}, Test Acc: {test_acc:.4f}')\n",
    "\n",
    "\n",
    "\n",
    "# good features: 1,3 - both features that have to do with length                performance is best if just these 2 features are used\n",
    "# good features: 7,8 - both features that have to do with distance\n",
    "# medium features: 6 - num Voxels\n",
    "# medium features: 4 - curveness\n",
    "# trash feature: 0,2 - both features that have to do with minRadiusAvg\n",
    "# trash feature: 5 - avgRadiusStd\n",
    "\n",
    "\n",
    "\n",
    "# 16 hidden layers seems favorable compared to 64 or 8\n",
    "\n",
    "# slice = [1,3,7,8] leads to very good results\n",
    "# slice = [1,3] results are equal to 1,3,7,8 ... maybe better"
   ]
  },
  {
   "cell_type": "markdown",
   "metadata": {},
   "source": [
    "# Node Classification using a contracted graph by spatial proximity to differentiate 3 node types (nerve, lymph, connected)"
   ]
  },
  {
   "cell_type": "code",
   "execution_count": 5,
   "metadata": {},
   "outputs": [],
   "source": [
    "#rename the nodes to have unqiue identifiers for different types\n",
    "# giving nodes from different files unique names\n",
    "edges_n, nodes_n = pp.relable_edges_nodes(edges_n, nodes_n, \"n\")\n",
    "edges_l, nodes_l = pp.relable_edges_nodes(edges_l, nodes_l, \"l\")\n"
   ]
  },
  {
   "cell_type": "code",
   "execution_count": 6,
   "metadata": {},
   "outputs": [],
   "source": [
    "from scipy.spatial import KDTree\n",
    "from scipy.sparse import csr_matrix\n",
    "from scipy.sparse import dok_array\n",
    "from scipy.sparse.csgraph import connected_components\n",
    "\n",
    "# create an adjacency matrix for nodes from two node sets that are closer than a given distance\n",
    "adjMcsr = pp.distance_based_adjacency(nodes_n, nodes_l, th = 0.03)\n",
    "\n",
    "# find the connected components in the adjacency matrix (nodes that will be merged)\n",
    "num, labels = connected_components(csgraph=adjMcsr, directed = False)\n",
    "\n",
    "#create a dict where each new node contains all the nodes that will be merged into it\n",
    "con_comp = pp.connected_components_dict(labels)\n",
    "\n",
    "#take only the connected components that contain > 1 element, otherwise no merge is necessary \n",
    "rel_comp = pp.relevant_connected_components(con_comp, nodes_n.shape[0], (\"n\",\"l\"))\n",
    "\n",
    "\n",
    "\n",
    "reverse_dict= {}\n",
    "for k, v in rel_comp.items():\n",
    "    for val in v:\n",
    "        reverse_dict[val] = k\n",
    "\n"
   ]
  },
  {
   "cell_type": "code",
   "execution_count": 7,
   "metadata": {},
   "outputs": [
    {
     "name": "stdout",
     "output_type": "stream",
     "text": [
      "10498\n",
      "207\n",
      "10291\n"
     ]
    }
   ],
   "source": [
    "merged_nodes = pd.concat([nodes_l.loc[:,[\"pos_x\", \"pos_y\", \"pos_z\"]], nodes_n.loc[:,[\"pos_x\", \"pos_y\", \"pos_z\"]]])\n",
    "new_nodes = pd.DataFrame(columns=merged_nodes.columns )\n",
    "\n",
    "# replace the contracted node with new nodes\n",
    "# the position of the new node is an average of all the previous nodes\n",
    "for k, valList in rel_comp.items():\n",
    "    new_nodes.loc[k] = merged_nodes.loc[valList].mean()\n",
    "    merged_nodes.drop(valList, inplace = True)\n",
    "\n",
    "\n",
    "# concat the all nodes and the new nodes\n",
    "merged_nodes = pd.concat([merged_nodes, new_nodes])\n",
    "\n",
    "# createa a combined edge file\n",
    "merged_edges = pd.concat([edges_l, edges_n], ignore_index = True)\n",
    "\n",
    "print(merged_edges.shape[0])\n",
    "drop_count = 0\n",
    "# change the names of the edges to the new names\n",
    "for idxE, edge in merged_edges.iterrows():\n",
    "    if edge[\"node1id\"] in reverse_dict.keys():\n",
    "        merged_edges.loc[idxE,\"node1id\"] = reverse_dict[edge[\"node1id\"]]\n",
    "    if edge[\"node2id\"] in reverse_dict.keys():\n",
    "        merged_edges.loc[idxE,\"node2id\"] = reverse_dict[edge[\"node2id\"]]\n",
    "    if edge[\"hasNodeAtSampleBorder\"]:\n",
    "        merged_edges.drop([idxE], inplace = True)\n",
    "        drop_count +=1\n",
    "\n",
    "print(drop_count)\n",
    "print(merged_edges.shape[0])\n",
    "\n",
    "# create a new graph based on the old information\n",
    "G_contract = pp.createGraph(merged_nodes, merged_edges)\n",
    "G_contract_einf = pp.convertToEinfach(G_contract, self_loops = False, isolates = False)\n",
    "pp.enrichNodeAttributes(G_contract_einf)"
   ]
  },
  {
   "cell_type": "code",
   "execution_count": 8,
   "metadata": {},
   "outputs": [
    {
     "name": "stdout",
     "output_type": "stream",
     "text": [
      "Train-Mask Class Distribution: \n",
      "[0 1 2]\n",
      "[3163 2133  161]\n",
      "Test-Mask Class Distribution: \n",
      "[0 1 2]\n",
      "[792 544  29]\n"
     ]
    }
   ],
   "source": [
    "# create the ground truth for the node class\n",
    "all_nodes = list(G_contract_einf.nodes)\n",
    "nerve_class = np.array([elem[-1] == \"n\" for elem in all_nodes])*0\n",
    "lymph_class = np.array([elem[-1] == \"l\" for elem in all_nodes])*1\n",
    "combined_class = np.array([elem[-1] == \"c\" for elem in all_nodes])*2\n",
    "class_assign = nerve_class+lymph_class+combined_class\n",
    "\n",
    "\n",
    "# create the training and testing masks\n",
    "train_mask = np.random.choice(np.arange(0, len(class_assign)), size= int(len(class_assign)*0.8), replace = False)\n",
    "test_mask = np.delete(np.arange(0, len(class_assign)), train_mask)\n",
    "\n",
    "# convert to torch tensor objects\n",
    "train_mask= torch.tensor(train_mask)\n",
    "test_mask= torch.tensor(test_mask)\n",
    "\n",
    "np.random.seed(1234567)\n",
    "unique, counts = np.unique(class_assign[train_mask], return_counts=True)\n",
    "print(\"Train-Mask Class Distribution: \")\n",
    "print(unique)\n",
    "print(counts)\n",
    "\n",
    "print(\"Test-Mask Class Distribution: \")\n",
    "unique, counts = np.unique(class_assign[test_mask], return_counts=True)\n",
    "print(unique)\n",
    "print(counts)\n",
    "\n",
    "\n",
    "# convert the graph to a networkx graph\n",
    "\n",
    "from torch_geometric.utils.convert import from_networkx\n",
    "networkXG = from_networkx(G_contract_einf)\n",
    "networkXG.y = torch.tensor(class_assign)\n"
   ]
  },
  {
   "cell_type": "code",
   "execution_count": 9,
   "metadata": {},
   "outputs": [
    {
     "name": "stdout",
     "output_type": "stream",
     "text": [
      "Epoch: 001, Loss: 1.5062\n",
      "Epoch: 002, Loss: 1.4982\n",
      "Epoch: 003, Loss: 1.2434\n",
      "Epoch: 004, Loss: 1.2089\n",
      "Epoch: 005, Loss: 1.1586\n",
      "Epoch: 006, Loss: 1.0288\n",
      "Epoch: 007, Loss: 1.0189\n",
      "Epoch: 008, Loss: 1.0001\n",
      "Epoch: 009, Loss: 0.9375\n",
      "Epoch: 010, Loss: 0.8922\n",
      "Epoch: 011, Loss: 0.8903\n",
      "Epoch: 012, Loss: 0.8849\n",
      "Epoch: 013, Loss: 0.8410\n",
      "Epoch: 014, Loss: 0.8125\n",
      "Epoch: 015, Loss: 0.8151\n",
      "Epoch: 016, Loss: 0.8108\n",
      "Epoch: 017, Loss: 0.7956\n",
      "Epoch: 018, Loss: 0.7838\n",
      "Epoch: 019, Loss: 0.7809\n",
      "Epoch: 020, Loss: 0.7513\n",
      "Epoch: 021, Loss: 0.7443\n",
      "Epoch: 022, Loss: 0.7341\n",
      "Epoch: 023, Loss: 0.7249\n",
      "Epoch: 024, Loss: 0.7061\n",
      "Epoch: 025, Loss: 0.6955\n",
      "Epoch: 026, Loss: 0.6859\n",
      "Epoch: 027, Loss: 0.6770\n",
      "Epoch: 028, Loss: 0.6715\n",
      "Epoch: 029, Loss: 0.6592\n",
      "Epoch: 030, Loss: 0.6528\n",
      "Epoch: 031, Loss: 0.6442\n",
      "Epoch: 032, Loss: 0.6372\n",
      "Epoch: 033, Loss: 0.6250\n",
      "Epoch: 034, Loss: 0.6171\n",
      "Epoch: 035, Loss: 0.6150\n",
      "Epoch: 036, Loss: 0.6149\n",
      "Epoch: 037, Loss: 0.6068\n",
      "Epoch: 038, Loss: 0.5990\n",
      "Epoch: 039, Loss: 0.5967\n",
      "Epoch: 040, Loss: 0.5891\n",
      "Epoch: 041, Loss: 0.5852\n",
      "Epoch: 042, Loss: 0.5821\n",
      "Epoch: 043, Loss: 0.5856\n",
      "Epoch: 044, Loss: 0.5845\n",
      "Epoch: 045, Loss: 0.5745\n",
      "Epoch: 046, Loss: 0.5766\n",
      "Epoch: 047, Loss: 0.5775\n",
      "Epoch: 048, Loss: 0.5715\n",
      "Epoch: 049, Loss: 0.5724\n",
      "Epoch: 050, Loss: 0.5674\n",
      "Epoch: 051, Loss: 0.5700\n",
      "Epoch: 052, Loss: 0.5691\n",
      "Epoch: 053, Loss: 0.5633\n",
      "Epoch: 054, Loss: 0.5656\n",
      "Epoch: 055, Loss: 0.5667\n",
      "Epoch: 056, Loss: 0.5672\n",
      "Epoch: 057, Loss: 0.5682\n",
      "Epoch: 058, Loss: 0.5657\n",
      "Epoch: 059, Loss: 0.5620\n",
      "Epoch: 060, Loss: 0.5638\n",
      "Epoch: 061, Loss: 0.5593\n",
      "Epoch: 062, Loss: 0.5631\n",
      "Epoch: 063, Loss: 0.5635\n",
      "Epoch: 064, Loss: 0.5597\n",
      "Epoch: 065, Loss: 0.5627\n",
      "Epoch: 066, Loss: 0.5649\n",
      "Epoch: 067, Loss: 0.5594\n",
      "Epoch: 068, Loss: 0.5620\n",
      "Epoch: 069, Loss: 0.5612\n",
      "Epoch: 070, Loss: 0.5621\n",
      "Epoch: 071, Loss: 0.5601\n",
      "Epoch: 072, Loss: 0.5601\n",
      "Epoch: 073, Loss: 0.5552\n",
      "Epoch: 074, Loss: 0.5575\n",
      "Epoch: 075, Loss: 0.5562\n",
      "Epoch: 076, Loss: 0.5583\n",
      "Epoch: 077, Loss: 0.5540\n",
      "Epoch: 078, Loss: 0.5580\n",
      "Epoch: 079, Loss: 0.5587\n",
      "Epoch: 080, Loss: 0.5596\n",
      "Epoch: 081, Loss: 0.5542\n",
      "Epoch: 082, Loss: 0.5563\n",
      "Epoch: 083, Loss: 0.5527\n",
      "Epoch: 084, Loss: 0.5559\n",
      "Epoch: 085, Loss: 0.5579\n",
      "Epoch: 086, Loss: 0.5575\n",
      "Epoch: 087, Loss: 0.5598\n",
      "Epoch: 088, Loss: 0.5516\n",
      "Epoch: 089, Loss: 0.5509\n",
      "Epoch: 090, Loss: 0.5507\n",
      "Epoch: 091, Loss: 0.5538\n",
      "Epoch: 092, Loss: 0.5544\n",
      "Epoch: 093, Loss: 0.5526\n",
      "Epoch: 094, Loss: 0.5570\n",
      "Epoch: 095, Loss: 0.5535\n",
      "Epoch: 096, Loss: 0.5549\n",
      "Epoch: 097, Loss: 0.5508\n",
      "Epoch: 098, Loss: 0.5510\n",
      "Epoch: 099, Loss: 0.5560\n",
      "Epoch: 100, Loss: 0.5560\n",
      "Test Accuracy: 0.7985\n"
     ]
    }
   ],
   "source": [
    "num_feat = networkXG.x.shape[1]\n",
    "num_class = len(np.unique(networkXG.y))\n",
    "netGCN = nodeClassifier.GCN_NC\n",
    "netSAGE = nodeClassifier.SAGE_NC\n",
    "netWC = nodeClassifier.WC_NC\n",
    "\n",
    "optimizer = torch.optim.Adam\n",
    "criterion = torch.nn.CrossEntropyLoss\n",
    "modelGCN = nodeClassifier.nodeClassifier(netGCN, hidden_channels=32, features = np.arange(num_feat),classes = num_class, optimizer = optimizer, lossFunc = criterion)\n",
    "modelSAGE = nodeClassifier.nodeClassifier(netSAGE, hidden_channels=32, features = np.arange(num_feat),classes = num_class, optimizer = optimizer, lossFunc = criterion)\n",
    "modelWC = nodeClassifier.nodeClassifier(netWC, hidden_channels=32, features = np.arange(num_feat),classes = num_class, optimizer = optimizer, lossFunc = criterion)\n",
    "\n",
    "models = [modelGCN, modelSAGE, modelWC]\n",
    "models = [modelGCN]\n",
    "\n",
    "\n",
    "epochs = 100\n",
    "loss_l = np.zeros((epochs, len(models)))\n",
    "acc_l = np.zeros((epochs, len(models)))\n",
    "for epoch in range(1, epochs +1):\n",
    "      for i, model in enumerate(models):\n",
    "            loss = model.train(networkXG, train_mask)\n",
    "            loss_l[epoch-1, i] = loss.detach().numpy().copy()\n",
    "            print(f'Epoch: {epoch:03d}, Loss: {loss:.4f}')\n",
    "            test_acc = model.test(networkXG, test_mask)\n",
    "            acc_l[epoch-1, i] = test_acc\n",
    "\n",
    "for model in models:\n",
    "      test_acc = model.test(networkXG, test_mask)\n",
    "      print(f'Test Accuracy: {test_acc:.4f}')\n",
    "\n",
    "#100 iter:\n",
    "#13: 58.75%       trash\n",
    "#12: 58.75%       trash\n",
    "#11: 62.03%\n",
    "#10: 69.11 %\n",
    "#9:  58.75 %      trash\n",
    "#8:  78.69 %\n",
    "#7:  78.40 %\n",
    "#6:  81.08 %\n",
    "#5:  58.75 %      trash\n",
    "#4:  68.69 %\n",
    "#3:  79.97 %\n",
    "#2:  58.75 %      trash\n",
    "#1:  79.97 %\n",
    "#0:  58.75 %      trash\n",
    "\n",
    "#all:        82.56 %\n",
    "#no trash:   81.11 %\n",
    "# >75:       81.96 %\n",
    "#[1,6,8,10]: 80.77 %\n",
    "\n",
    "#500 iter:\n",
    "#all:        82.56 %\n"
   ]
  },
  {
   "cell_type": "code",
   "execution_count": 10,
   "metadata": {},
   "outputs": [
    {
     "data": {
      "image/png": "[encoded data removed]",
      "text/plain": [
       "<Figure size 640x480 with 2 Axes>"
      ]
     },
     "metadata": {},
     "output_type": "display_data"
    }
   ],
   "source": [
    "for i in range(len(models)):\n",
    "    fig, ax1 = plt.subplots()\n",
    "    ax2 = ax1.twinx()\n",
    "    ax1.plot(loss_l[:,i], color = \"red\")\n",
    "    ax2.plot(acc_l[:,i], color = \"blue\")\n",
    "\n",
    "    ax1.set_xlabel('Iterations / No.')\n",
    "    ax1.set_ylabel('Loss', color='r')\n",
    "    ax2.set_ylabel('Accuracy / %', color='b')\n",
    "\n"
   ]
  },
  {
   "cell_type": "markdown",
   "metadata": {},
   "source": [
    "#### Try node classification for the dual graph."
   ]
  },
  {
   "cell_type": "code",
   "execution_count": 11,
   "metadata": {},
   "outputs": [
    {
     "name": "stderr",
     "output_type": "stream",
     "text": [
      "/home/laurin/.local/lib/python3.8/site-packages/torch_geometric/utils/convert.py:192: UserWarning: Creating a tensor from a list of numpy.ndarrays is extremely slow. Please consider converting the list to a single numpy.ndarray with numpy.array() before converting to a tensor. (Triggered internally at  ../torch/csrc/utils/tensor_new.cpp:204.)\n",
      "  data[key] = torch.tensor(value)\n"
     ]
    }
   ],
   "source": [
    "import networkx as nx\n",
    "L = nx.line_graph(G_contract_einf)\n",
    "\n",
    "\n",
    "\n",
    "dual_node_features ={}\n",
    "\n",
    "for idxE, edge in merged_edges.iterrows():\n",
    "    try:\n",
    "        L[(edge[\"node1id\"],edge[\"node2id\"])]\n",
    "        dual_node_features[(edge[\"node1id\"],edge[\"node2id\"])] = np.array(edge[2:], dtype = float)\n",
    "    except KeyError:\n",
    "        try:\n",
    "            L[(edge[\"node2id\"],edge[\"node1id\"])]\n",
    "            dual_node_features[(edge[\"node2id\"],edge[\"node1id\"])] = np.array(edge[2:], dtype = float)\n",
    "        except KeyError:\n",
    "            continue\n",
    "\n",
    "\n",
    "nx.set_node_attributes(L, dual_node_features, name=\"x\")\n",
    "\n",
    "\n",
    "networkDualXG = from_networkx(L)\n",
    "\n",
    "node_lab = {}\n",
    "class_label = -1\n",
    "class_label_list = []\n",
    "for k, node in L.nodes.items():\n",
    "    hashval = hash(k[0][-1]) + hash(k[0][-1])\n",
    "    try:\n",
    "        class_label_list.append(node_lab[hashval])\n",
    "    except KeyError:\n",
    "        class_label = class_label +1\n",
    "        node_lab[hashval] = class_label\n",
    "        class_label_list.append(node_lab[hashval])\n",
    "\n",
    "\n",
    "networkDualXG.y = torch.tensor(class_label_list)\n",
    "\n",
    "\n",
    "#networkDualXG.edge_index"
   ]
  },
  {
   "cell_type": "code",
   "execution_count": 12,
   "metadata": {},
   "outputs": [],
   "source": [
    "# create the training and testing masks\n",
    "train_mask_dual = np.random.choice(np.arange(0, len(class_label_list)), size= int(len(class_label_list)*0.8), replace = False)\n",
    "test_mask_dual = np.delete(np.arange(0, len(class_label_list)), train_mask_dual)\n",
    "\n",
    "# convert to torch tensor objects\n",
    "train_mask_dual= torch.tensor(train_mask_dual)\n",
    "test_mask_dual= torch.tensor(test_mask_dual)\n",
    "\n",
    "\n",
    "num_feat_dual = networkDualXG.x.shape[1]\n",
    "num_class_dual = len(np.unique(networkDualXG.y))\n"
   ]
  },
  {
   "cell_type": "code",
   "execution_count": 13,
   "metadata": {},
   "outputs": [
    {
     "name": "stdout",
     "output_type": "stream",
     "text": [
      "Epoch: 001, Loss: 2.0527\n",
      "Epoch: 002, Loss: 0.8400\n",
      "Epoch: 003, Loss: 0.6891\n",
      "Epoch: 004, Loss: 0.6452\n",
      "Epoch: 005, Loss: 0.5894\n",
      "Epoch: 006, Loss: 0.5728\n",
      "Epoch: 007, Loss: 0.5597\n",
      "Epoch: 008, Loss: 0.5709\n",
      "Epoch: 009, Loss: 0.5737\n",
      "Epoch: 010, Loss: 0.5715\n",
      "Epoch: 011, Loss: 0.5647\n",
      "Epoch: 012, Loss: 0.5649\n",
      "Epoch: 013, Loss: 0.5542\n",
      "Epoch: 014, Loss: 0.5595\n",
      "Epoch: 015, Loss: 0.5533\n",
      "Epoch: 016, Loss: 0.5448\n",
      "Epoch: 017, Loss: 0.5470\n",
      "Epoch: 018, Loss: 0.5392\n",
      "Epoch: 019, Loss: 0.5314\n",
      "Epoch: 020, Loss: 0.5332\n",
      "Epoch: 021, Loss: 0.5333\n",
      "Epoch: 022, Loss: 0.5345\n",
      "Epoch: 023, Loss: 0.5297\n",
      "Epoch: 024, Loss: 0.5266\n",
      "Epoch: 025, Loss: 0.5244\n",
      "Epoch: 026, Loss: 0.5220\n",
      "Epoch: 027, Loss: 0.5236\n",
      "Epoch: 028, Loss: 0.5233\n",
      "Epoch: 029, Loss: 0.5183\n",
      "Epoch: 030, Loss: 0.5222\n",
      "Epoch: 031, Loss: 0.5193\n",
      "Epoch: 032, Loss: 0.5191\n",
      "Epoch: 033, Loss: 0.5163\n",
      "Epoch: 034, Loss: 0.5183\n",
      "Epoch: 035, Loss: 0.5141\n",
      "Epoch: 036, Loss: 0.5140\n",
      "Epoch: 037, Loss: 0.5180\n",
      "Epoch: 038, Loss: 0.5128\n",
      "Epoch: 039, Loss: 0.5138\n",
      "Epoch: 040, Loss: 0.5129\n",
      "Epoch: 041, Loss: 0.5124\n",
      "Epoch: 042, Loss: 0.5120\n",
      "Epoch: 043, Loss: 0.5104\n",
      "Epoch: 044, Loss: 0.5157\n",
      "Epoch: 045, Loss: 0.5154\n",
      "Epoch: 046, Loss: 0.5110\n",
      "Epoch: 047, Loss: 0.5101\n",
      "Epoch: 048, Loss: 0.5099\n",
      "Epoch: 049, Loss: 0.5104\n",
      "Epoch: 050, Loss: 0.5128\n",
      "Epoch: 051, Loss: 0.5093\n",
      "Epoch: 052, Loss: 0.5085\n",
      "Epoch: 053, Loss: 0.5102\n",
      "Epoch: 054, Loss: 0.5053\n",
      "Epoch: 055, Loss: 0.5063\n",
      "Epoch: 056, Loss: 0.5072\n",
      "Epoch: 057, Loss: 0.5080\n",
      "Epoch: 058, Loss: 0.5057\n",
      "Epoch: 059, Loss: 0.5044\n",
      "Epoch: 060, Loss: 0.5038\n",
      "Epoch: 061, Loss: 0.5049\n",
      "Epoch: 062, Loss: 0.5040\n",
      "Epoch: 063, Loss: 0.4978\n",
      "Epoch: 064, Loss: 0.4999\n",
      "Epoch: 065, Loss: 0.4995\n",
      "Epoch: 066, Loss: 0.4986\n",
      "Epoch: 067, Loss: 0.5005\n",
      "Epoch: 068, Loss: 0.4972\n",
      "Epoch: 069, Loss: 0.4924\n",
      "Epoch: 070, Loss: 0.4979\n",
      "Epoch: 071, Loss: 0.4995\n",
      "Epoch: 072, Loss: 0.4970\n",
      "Epoch: 073, Loss: 0.4950\n",
      "Epoch: 074, Loss: 0.4937\n",
      "Epoch: 075, Loss: 0.4933\n",
      "Epoch: 076, Loss: 0.4895\n",
      "Epoch: 077, Loss: 0.4909\n",
      "Epoch: 078, Loss: 0.4949\n",
      "Epoch: 079, Loss: 0.4886\n",
      "Epoch: 080, Loss: 0.4875\n",
      "Epoch: 081, Loss: 0.4884\n",
      "Epoch: 082, Loss: 0.4875\n",
      "Epoch: 083, Loss: 0.4872\n",
      "Epoch: 084, Loss: 0.4813\n",
      "Epoch: 085, Loss: 0.4836\n",
      "Epoch: 086, Loss: 0.4841\n",
      "Epoch: 087, Loss: 0.4863\n",
      "Epoch: 088, Loss: 0.4796\n",
      "Epoch: 089, Loss: 0.4798\n",
      "Epoch: 090, Loss: 0.4763\n",
      "Epoch: 091, Loss: 0.4754\n",
      "Epoch: 092, Loss: 0.4888\n",
      "Epoch: 093, Loss: 0.5130\n",
      "Epoch: 094, Loss: 0.4791\n",
      "Epoch: 095, Loss: 0.4866\n",
      "Epoch: 096, Loss: 0.4881\n",
      "Epoch: 097, Loss: 0.4785\n",
      "Epoch: 098, Loss: 0.4913\n",
      "Epoch: 099, Loss: 0.4742\n",
      "Epoch: 100, Loss: 0.4861\n",
      "Epoch: 101, Loss: 0.4707\n",
      "Epoch: 102, Loss: 0.4806\n",
      "Epoch: 103, Loss: 0.4709\n",
      "Epoch: 104, Loss: 0.4824\n",
      "Epoch: 105, Loss: 0.4717\n",
      "Epoch: 106, Loss: 0.4785\n",
      "Epoch: 107, Loss: 0.4684\n",
      "Epoch: 108, Loss: 0.4733\n",
      "Epoch: 109, Loss: 0.4676\n",
      "Epoch: 110, Loss: 0.4718\n",
      "Epoch: 111, Loss: 0.4662\n",
      "Epoch: 112, Loss: 0.4697\n",
      "Epoch: 113, Loss: 0.4628\n",
      "Epoch: 114, Loss: 0.4679\n",
      "Epoch: 115, Loss: 0.4651\n",
      "Epoch: 116, Loss: 0.4604\n",
      "Epoch: 117, Loss: 0.4616\n",
      "Epoch: 118, Loss: 0.4598\n",
      "Epoch: 119, Loss: 0.4634\n",
      "Epoch: 120, Loss: 0.4655\n",
      "Epoch: 121, Loss: 0.4587\n",
      "Epoch: 122, Loss: 0.4615\n",
      "Epoch: 123, Loss: 0.4563\n",
      "Epoch: 124, Loss: 0.4572\n",
      "Epoch: 125, Loss: 0.4535\n",
      "Epoch: 126, Loss: 0.4579\n",
      "Epoch: 127, Loss: 0.4573\n",
      "Epoch: 128, Loss: 0.4540\n",
      "Epoch: 129, Loss: 0.4525\n",
      "Epoch: 130, Loss: 0.4503\n",
      "Epoch: 131, Loss: 0.4512\n",
      "Epoch: 132, Loss: 0.4516\n",
      "Epoch: 133, Loss: 0.4494\n",
      "Epoch: 134, Loss: 0.4476\n",
      "Epoch: 135, Loss: 0.4477\n",
      "Epoch: 136, Loss: 0.4485\n",
      "Epoch: 137, Loss: 0.4577\n",
      "Epoch: 138, Loss: 0.4938\n",
      "Epoch: 139, Loss: 0.5742\n",
      "Epoch: 140, Loss: 0.4673\n",
      "Epoch: 141, Loss: 0.5678\n",
      "Epoch: 142, Loss: 0.4616\n",
      "Epoch: 143, Loss: 0.5096\n",
      "Epoch: 144, Loss: 0.5032\n",
      "Epoch: 145, Loss: 0.4706\n",
      "Epoch: 146, Loss: 0.4921\n",
      "Epoch: 147, Loss: 0.4987\n",
      "Epoch: 148, Loss: 0.4713\n",
      "Epoch: 149, Loss: 0.4769\n",
      "Epoch: 150, Loss: 0.4909\n",
      "Epoch: 151, Loss: 0.4805\n",
      "Epoch: 152, Loss: 0.4653\n",
      "Epoch: 153, Loss: 0.4768\n",
      "Epoch: 154, Loss: 0.4776\n",
      "Epoch: 155, Loss: 0.4722\n",
      "Epoch: 156, Loss: 0.4679\n",
      "Epoch: 157, Loss: 0.4764\n",
      "Epoch: 158, Loss: 0.4709\n",
      "Epoch: 159, Loss: 0.4669\n",
      "Epoch: 160, Loss: 0.4686\n",
      "Epoch: 161, Loss: 0.4693\n",
      "Epoch: 162, Loss: 0.4625\n",
      "Epoch: 163, Loss: 0.4635\n",
      "Epoch: 164, Loss: 0.4608\n",
      "Epoch: 165, Loss: 0.4610\n",
      "Epoch: 166, Loss: 0.4605\n",
      "Epoch: 167, Loss: 0.4613\n",
      "Epoch: 168, Loss: 0.4556\n",
      "Epoch: 169, Loss: 0.4580\n",
      "Epoch: 170, Loss: 0.4555\n",
      "Epoch: 171, Loss: 0.4522\n",
      "Epoch: 172, Loss: 0.4542\n",
      "Epoch: 173, Loss: 0.4474\n",
      "Epoch: 174, Loss: 0.4500\n",
      "Epoch: 175, Loss: 0.4451\n",
      "Epoch: 176, Loss: 0.4513\n",
      "Epoch: 177, Loss: 0.4467\n",
      "Epoch: 178, Loss: 0.4470\n",
      "Epoch: 179, Loss: 0.4421\n",
      "Epoch: 180, Loss: 0.4475\n",
      "Epoch: 181, Loss: 0.4408\n",
      "Epoch: 182, Loss: 0.4447\n",
      "Epoch: 183, Loss: 0.4429\n",
      "Epoch: 184, Loss: 0.4433\n",
      "Epoch: 185, Loss: 0.4389\n",
      "Epoch: 186, Loss: 0.4398\n",
      "Epoch: 187, Loss: 0.4424\n",
      "Epoch: 188, Loss: 0.4366\n",
      "Epoch: 189, Loss: 0.4386\n",
      "Epoch: 190, Loss: 0.4386\n",
      "Epoch: 191, Loss: 0.4373\n",
      "Epoch: 192, Loss: 0.4344\n",
      "Epoch: 193, Loss: 0.4346\n",
      "Epoch: 194, Loss: 0.4376\n",
      "Epoch: 195, Loss: 0.4393\n",
      "Epoch: 196, Loss: 0.4346\n",
      "Epoch: 197, Loss: 0.4338\n",
      "Epoch: 198, Loss: 0.4345\n",
      "Epoch: 199, Loss: 0.4353\n",
      "Epoch: 200, Loss: 0.4346\n",
      "Test Accuracy: 0.8081\n"
     ]
    }
   ],
   "source": [
    "optimizer = torch.optim.Adam\n",
    "criterion = torch.nn.CrossEntropyLoss\n",
    "modelGCN = nodeClassifier.nodeClassifier(netGCN, hidden_channels=64, features = np.arange(num_feat_dual),classes = num_class_dual, optimizer = optimizer, lossFunc = criterion)\n",
    "modelSAGE = nodeClassifier.nodeClassifier(netSAGE, hidden_channels=32, features = np.arange(num_feat_dual),classes = num_class_dual, optimizer = optimizer, lossFunc = criterion)\n",
    "modelWC = nodeClassifier.nodeClassifier(netWC, hidden_channels=32, features = np.arange(num_feat_dual),classes = num_class_dual, optimizer = optimizer, lossFunc = criterion)\n",
    "\n",
    "\n",
    "dualModel = modelGCN\n",
    "\n",
    "\n",
    "epochs = 200\n",
    "loss_l = np.zeros((epochs, 1))\n",
    "acc_l = np.zeros((epochs, 1))\n",
    "for epoch in range(1, epochs +1):\n",
    "      loss = dualModel.train(networkDualXG, train_mask_dual)\n",
    "      loss_l[epoch-1, i] = loss.detach().numpy().copy()\n",
    "      print(f'Epoch: {epoch:03d}, Loss: {loss:.4f}')\n",
    "      test_acc = dualModel.test(networkDualXG, test_mask_dual)\n",
    "      acc_l[epoch-1, i] = test_acc\n",
    "\n",
    "\n",
    "test_acc = dualModel.test(networkDualXG, test_mask_dual)\n",
    "print(f'Test Accuracy: {test_acc:.4f}')"
   ]
  },
  {
   "cell_type": "code",
   "execution_count": 14,
   "metadata": {},
   "outputs": [
    {
     "data": {
      "image/png": "[encoded data removed]",
      "text/plain": [
       "<Figure size 640x480 with 2 Axes>"
      ]
     },
     "metadata": {},
     "output_type": "display_data"
    }
   ],
   "source": [
    "for i in range(len(models)):\n",
    "    fig, ax1 = plt.subplots()\n",
    "    ax2 = ax1.twinx()\n",
    "    ax1.plot(loss_l[:,i], color = \"red\")\n",
    "    ax2.plot(acc_l[:,i], color = \"blue\")\n",
    "\n",
    "    ax1.set_xlabel('Iterations / No.')\n",
    "    ax1.set_ylabel('Loss', color='r')\n",
    "    ax2.set_ylabel('Accuracy / %', color='b')"
   ]
  },
  {
   "cell_type": "code",
   "execution_count": 15,
   "metadata": {},
   "outputs": [
    {
     "name": "stderr",
     "output_type": "stream",
     "text": [
      "/usr/lib/python3/dist-packages/requests/__init__.py:89: RequestsDependencyWarning: urllib3 (1.26.12) or chardet (3.0.4) doesn't match a supported version!\n",
      "  warnings.warn(\"urllib3 ({}) or chardet ({}) doesn't match a supported \"\n",
      "/usr/lib/python3/dist-packages/requests/__init__.py:89: RequestsDependencyWarning: urllib3 (1.26.12) or chardet (3.0.4) doesn't match a supported version!\n",
      "  warnings.warn(\"urllib3 ({}) or chardet ({}) doesn't match a supported \"\n",
      "wandb: Currently logged in as: luxtu. Use `wandb login --relogin` to force relogin\n"
     ]
    }
   ],
   "source": [
    "enable_wandb = True\n",
    "if enable_wandb:\n",
    "    import wandb\n",
    "    wandb.login()\n",
    "\n",
    "assert enable_wandb, \"W&B not enabled. Please, enable W&B and restart the notebook\""
   ]
  },
  {
   "cell_type": "code",
   "execution_count": 20,
   "metadata": {},
   "outputs": [
    {
     "name": "stdout",
     "output_type": "stream",
     "text": [
      "GCN(\n",
      "  (conv1): GCNConv(17, 16)\n",
      "  (conv2): GCNConv(16, 3)\n",
      ")\n"
     ]
    }
   ],
   "source": [
    "from torch_geometric.nn import GCNConv\n",
    "import torch.nn.functional as F\n",
    "\n",
    "\n",
    "class GCN(torch.nn.Module):\n",
    "    def __init__(self, hidden_channels):\n",
    "        super().__init__()\n",
    "        torch.manual_seed(1234567)\n",
    "        self.conv1 = GCNConv(num_feat_dual, hidden_channels)\n",
    "        self.conv2 = GCNConv(hidden_channels, num_class_dual)\n",
    "\n",
    "    def forward(self, x, edge_index):\n",
    "        x = self.conv1(x, edge_index)\n",
    "        x = x.relu()\n",
    "        x = F.dropout(x, p=0.5, training=self.training)\n",
    "        x = self.conv2(x, edge_index)\n",
    "        return x\n",
    "\n",
    "model = GCN(hidden_channels=16)\n",
    "print(model)"
   ]
  },
  {
   "cell_type": "code",
   "execution_count": 24,
   "metadata": {},
   "outputs": [],
   "source": [
    "criterion = torch.nn.CrossEntropyLoss()  # Define loss criterion.\n",
    "optimizer = torch.optim.Adam(model.parameters(), lr=0.01, weight_decay=5e-4)  # Define optimizer.\n",
    "\n",
    "def embedding_to_wandb(h, color, key=\"embedding\"):\n",
    "    num_components = h.shape[-1]\n",
    "    df = pd.DataFrame(data=h.detach().cpu().numpy(),\n",
    "                        columns=[f\"c_{i}\" for i in range(num_components)])\n",
    "    df[\"target\"] = color.detach().cpu().numpy().astype(\"str\")\n",
    "    cols = df.columns.tolist()\n",
    "    df = df[cols[-1:] + cols[:-1]]\n",
    "    wandb.log({key: df})\n",
    "\n",
    "def agent_fn():\n",
    "    wandb.init()\n",
    "    model = GCN(hidden_channels=wandb.config.hidden_channels)\n",
    "    wandb.watch(model)\n",
    "\n",
    "    with torch.no_grad():\n",
    "      out = model(networkDualXG.x.float(), networkDualXG.edge_index)\n",
    "      embedding_to_wandb(out, color=networkDualXG.y, key=\"gcn/embedding/init\")\n",
    "\n",
    "    optimizer = torch.optim.Adam(model.parameters(), lr=wandb.config.lr, weight_decay=wandb.config.weight_decay)\n",
    "    criterion = torch.nn.CrossEntropyLoss()\n",
    "\n",
    "    def train():\n",
    "          model.train()\n",
    "          optimizer.zero_grad()  # Clear gradients. #\n",
    "          out = model(networkDualXG.x.float(), networkDualXG.edge_index)  # Perform a single forward pass.\n",
    "          loss = criterion(out[train_mask].float(), networkDualXG.y[train_mask])  # Compute the loss solely based on the training nodes.\n",
    "          loss.backward()  # Derive gradients.\n",
    "          optimizer.step()  # Update parameters based on gradients.\n",
    "          return loss\n",
    "\n",
    "    def test():\n",
    "          model.eval()\n",
    "          out = model(networkDualXG.x.float(), networkDualXG.edge_index)\n",
    "          pred = out.argmax(dim=1)  # Use the class with highest probability.\n",
    "          test_correct = pred[test_mask] == networkDualXG.y[test_mask]  # Check against ground-truth labels.\n",
    "          test_acc = int(test_correct.sum()) / len(test_mask)  # Derive ratio of correct predictions.\n",
    "          return test_acc\n",
    "\n",
    "\n",
    "    for epoch in tqdm(range(1, 101)):\n",
    "        loss = train()\n",
    "        wandb.log({\"gcn/loss\": loss})\n",
    "\n",
    "\n",
    "    model.eval()\n",
    "\n",
    "    out = model(networkDualXG.x.float(), networkDualXG.edge_index)\n",
    "    test_acc = test()\n",
    "    wandb.summary[\"gcn/accuracy\"] = test_acc\n",
    "    wandb.log({\"gcn/accuracy\": test_acc})\n",
    "    embedding_to_wandb(out, color=networkDualXG.y, key=\"gcn/embedding/trained\")\n",
    "    wandb.finish()"
   ]
  },
  {
   "cell_type": "code",
   "execution_count": 25,
   "metadata": {},
   "outputs": [
    {
     "name": "stdout",
     "output_type": "stream",
     "text": [
      "Create sweep with ID: rdzqj7go\n",
      "Sweep URL: https://wandb.ai/luxtu/node-classification/sweeps/rdzqj7go\n"
     ]
    }
   ],
   "source": [
    "sweep_config = {\n",
    "    \"name\": \"gcn-sweep\",\n",
    "    \"method\": \"bayes\",\n",
    "    \"metric\": {\n",
    "        \"name\": \"gcn/accuracy\",\n",
    "        \"goal\": \"maximize\",\n",
    "    },\n",
    "    \"parameters\": {\n",
    "        \"hidden_channels\": {\n",
    "            \"values\": [8, 16, 32]\n",
    "        },\n",
    "        \"weight_decay\": {\n",
    "            \"distribution\": \"normal\",\n",
    "            \"mu\": 5e-4,\n",
    "            \"sigma\": 1e-5,\n",
    "        },\n",
    "        \"lr\": {\n",
    "            \"min\": 1e-4,\n",
    "            \"max\": 1e-3\n",
    "        }\n",
    "    }\n",
    "}\n",
    "\n",
    "# Register the Sweep with W&B\n",
    "sweep_id = wandb.sweep(sweep_config, project=\"node-classification\")"
   ]
  },
  {
   "cell_type": "code",
   "execution_count": 26,
   "metadata": {},
   "outputs": [
    {
     "name": "stderr",
     "output_type": "stream",
     "text": [
      "wandb: Agent Starting Run: obzx9mx3 with config:\n",
      "wandb: \thidden_channels: 32\n",
      "wandb: \tlr: 0.0008220181910917173\n",
      "wandb: \tweight_decay: 0.0005095412784633895\n",
      "/usr/lib/python3/dist-packages/requests/__init__.py:89: RequestsDependencyWarning: urllib3 (1.26.12) or chardet (3.0.4) doesn't match a supported version!\n",
      "  warnings.warn(\"urllib3 ({}) or chardet ({}) doesn't match a supported \"\n"
     ]
    },
    {
     "data": {
      "text/html": [
       "Tracking run with wandb version 0.13.5"
      ],
      "text/plain": [
       "<IPython.core.display.HTML object>"
      ]
     },
     "metadata": {},
     "output_type": "display_data"
    },
    {
     "data": {
      "text/html": [
       "Run data is saved locally in <code>/home/laurin/Documents/network-eval/wandb/run-20221104_104645-obzx9mx3</code>"
      ],
      "text/plain": [
       "<IPython.core.display.HTML object>"
      ]
     },
     "metadata": {},
     "output_type": "display_data"
    },
    {
     "data": {
      "text/html": [
       "Syncing run <strong><a href=\"https://wandb.ai/luxtu/node-classification/runs/obzx9mx3\" target=\"_blank\">denim-sweep-1</a></strong> to <a href=\"https://wandb.ai/luxtu/node-classification\" target=\"_blank\">Weights & Biases</a> (<a href=\"https://wandb.me/run\" target=\"_blank\">docs</a>)<br/>Sweep page:  <a href=\"https://wandb.ai/luxtu/node-classification/sweeps/rdzqj7go\" target=\"_blank\">https://wandb.ai/luxtu/node-classification/sweeps/rdzqj7go</a>"
      ],
      "text/plain": [
       "<IPython.core.display.HTML object>"
      ]
     },
     "metadata": {},
     "output_type": "display_data"
    },
    {
     "name": "stderr",
     "output_type": "stream",
     "text": [
      "100%|██████████| 100/100 [00:04<00:00, 21.08it/s]\n"
     ]
    },
    {
     "data": {
      "text/html": [
       "Waiting for W&B process to finish... <strong style=\"color:green\">(success).</strong>"
      ],
      "text/plain": [
       "<IPython.core.display.HTML object>"
      ]
     },
     "metadata": {},
     "output_type": "display_data"
    },
    {
     "data": {
      "application/vnd.jupyter.widget-view+json": {
       "model_id": "dc667538eeea44a78c0484b1ca79a17e",
       "version_major": 2,
       "version_minor": 0
      },
      "text/plain": [
       "VBox(children=(Label(value='1.672 MB of 2.229 MB uploaded (0.000 MB deduped)\\r'), FloatProgress(value=0.750063…"
      ]
     },
     "metadata": {},
     "output_type": "display_data"
    },
    {
     "data": {
      "text/html": [
       "<style>\n",
       "    table.wandb td:nth-child(1) { padding: 0 10px; text-align: left ; width: auto;} td:nth-child(2) {text-align: left ; width: 100%}\n",
       "    .wandb-row { display: flex; flex-direction: row; flex-wrap: wrap; justify-content: flex-start; width: 100% }\n",
       "    .wandb-col { display: flex; flex-direction: column; flex-basis: 100%; flex: 1; padding: 10px; }\n",
       "    </style>\n",
       "<div class=\"wandb-row\"><div class=\"wandb-col\"><h3>Run history:</h3><br/><table class=\"wandb\"><tr><td>gcn/accuracy</td><td>▁</td></tr><tr><td>gcn/loss</td><td>█▇▆▆▄▄▄▃▃▂▂▂▂▂▂▂▂▁▁▁▁▁▁▁▁▁▁▁▁▁▁▁▁▁▁▁▁▁▁▁</td></tr></table><br/></div><div class=\"wandb-col\"><h3>Run summary:</h3><br/><table class=\"wandb\"><tr><td>gcn/accuracy</td><td>0.75385</td></tr><tr><td>gcn/loss</td><td>0.65996</td></tr></table><br/></div></div>"
      ],
      "text/plain": [
       "<IPython.core.display.HTML object>"
      ]
     },
     "metadata": {},
     "output_type": "display_data"
    },
    {
     "data": {
      "text/html": [
       "Synced <strong style=\"color:#cdcd00\">denim-sweep-1</strong>: <a href=\"https://wandb.ai/luxtu/node-classification/runs/obzx9mx3\" target=\"_blank\">https://wandb.ai/luxtu/node-classification/runs/obzx9mx3</a><br/>Synced 5 W&B file(s), 2 media file(s), 2 artifact file(s) and 0 other file(s)"
      ],
      "text/plain": [
       "<IPython.core.display.HTML object>"
      ]
     },
     "metadata": {},
     "output_type": "display_data"
    },
    {
     "data": {
      "text/html": [
       "Find logs at: <code>./wandb/run-20221104_104645-obzx9mx3/logs</code>"
      ],
      "text/plain": [
       "<IPython.core.display.HTML object>"
      ]
     },
     "metadata": {},
     "output_type": "display_data"
    },
    {
     "name": "stderr",
     "output_type": "stream",
     "text": [
      "wandb: Agent Starting Run: gct803vo with config:\n",
      "wandb: \thidden_channels: 16\n",
      "wandb: \tlr: 0.0007471545089541348\n",
      "wandb: \tweight_decay: 0.00048129319536558226\n",
      "/usr/lib/python3/dist-packages/requests/__init__.py:89: RequestsDependencyWarning: urllib3 (1.26.12) or chardet (3.0.4) doesn't match a supported version!\n",
      "  warnings.warn(\"urllib3 ({}) or chardet ({}) doesn't match a supported \"\n"
     ]
    },
    {
     "data": {
      "text/html": [
       "Tracking run with wandb version 0.13.5"
      ],
      "text/plain": [
       "<IPython.core.display.HTML object>"
      ]
     },
     "metadata": {},
     "output_type": "display_data"
    },
    {
     "data": {
      "text/html": [
       "Run data is saved locally in <code>/home/laurin/Documents/network-eval/wandb/run-20221104_104705-gct803vo</code>"
      ],
      "text/plain": [
       "<IPython.core.display.HTML object>"
      ]
     },
     "metadata": {},
     "output_type": "display_data"
    },
    {
     "data": {
      "text/html": [
       "Syncing run <strong><a href=\"https://wandb.ai/luxtu/node-classification/runs/gct803vo\" target=\"_blank\">sleek-sweep-2</a></strong> to <a href=\"https://wandb.ai/luxtu/node-classification\" target=\"_blank\">Weights & Biases</a> (<a href=\"https://wandb.me/run\" target=\"_blank\">docs</a>)<br/>Sweep page:  <a href=\"https://wandb.ai/luxtu/node-classification/sweeps/rdzqj7go\" target=\"_blank\">https://wandb.ai/luxtu/node-classification/sweeps/rdzqj7go</a>"
      ],
      "text/plain": [
       "<IPython.core.display.HTML object>"
      ]
     },
     "metadata": {},
     "output_type": "display_data"
    },
    {
     "name": "stderr",
     "output_type": "stream",
     "text": [
      "100%|██████████| 100/100 [00:03<00:00, 28.85it/s]\n"
     ]
    },
    {
     "data": {
      "text/html": [
       "Waiting for W&B process to finish... <strong style=\"color:green\">(success).</strong>"
      ],
      "text/plain": [
       "<IPython.core.display.HTML object>"
      ]
     },
     "metadata": {},
     "output_type": "display_data"
    },
    {
     "data": {
      "application/vnd.jupyter.widget-view+json": {
       "model_id": "dbc295538c6c40ccb8b5401b0d13f78c",
       "version_major": 2,
       "version_minor": 0
      },
      "text/plain": [
       "VBox(children=(Label(value='1.687 MB of 2.248 MB uploaded (0.000 MB deduped)\\r'), FloatProgress(value=0.750482…"
      ]
     },
     "metadata": {},
     "output_type": "display_data"
    },
    {
     "data": {
      "text/html": [
       "<style>\n",
       "    table.wandb td:nth-child(1) { padding: 0 10px; text-align: left ; width: auto;} td:nth-child(2) {text-align: left ; width: 100%}\n",
       "    .wandb-row { display: flex; flex-direction: row; flex-wrap: wrap; justify-content: flex-start; width: 100% }\n",
       "    .wandb-col { display: flex; flex-direction: column; flex-basis: 100%; flex: 1; padding: 10px; }\n",
       "    </style>\n",
       "<div class=\"wandb-row\"><div class=\"wandb-col\"><h3>Run history:</h3><br/><table class=\"wandb\"><tr><td>gcn/accuracy</td><td>▁</td></tr><tr><td>gcn/loss</td><td>██▇▇▇▇▆▆▆▅▅▅▅▄▄▄▄▄▄▃▃▃▃▃▃▂▂▂▂▂▂▂▂▂▁▁▁▁▁▁</td></tr></table><br/></div><div class=\"wandb-col\"><h3>Run summary:</h3><br/><table class=\"wandb\"><tr><td>gcn/accuracy</td><td>0.46667</td></tr><tr><td>gcn/loss</td><td>1.4691</td></tr></table><br/></div></div>"
      ],
      "text/plain": [
       "<IPython.core.display.HTML object>"
      ]
     },
     "metadata": {},
     "output_type": "display_data"
    },
    {
     "data": {
      "text/html": [
       "Synced <strong style=\"color:#cdcd00\">sleek-sweep-2</strong>: <a href=\"https://wandb.ai/luxtu/node-classification/runs/gct803vo\" target=\"_blank\">https://wandb.ai/luxtu/node-classification/runs/gct803vo</a><br/>Synced 5 W&B file(s), 2 media file(s), 2 artifact file(s) and 0 other file(s)"
      ],
      "text/plain": [
       "<IPython.core.display.HTML object>"
      ]
     },
     "metadata": {},
     "output_type": "display_data"
    },
    {
     "data": {
      "text/html": [
       "Find logs at: <code>./wandb/run-20221104_104705-gct803vo/logs</code>"
      ],
      "text/plain": [
       "<IPython.core.display.HTML object>"
      ]
     },
     "metadata": {},
     "output_type": "display_data"
    },
    {
     "name": "stderr",
     "output_type": "stream",
     "text": [
      "wandb: Agent Starting Run: rbw99kgr with config:\n",
      "wandb: \thidden_channels: 8\n",
      "wandb: \tlr: 0.00019037404439711531\n",
      "wandb: \tweight_decay: 0.0005008501709739677\n",
      "/usr/lib/python3/dist-packages/requests/__init__.py:89: RequestsDependencyWarning: urllib3 (1.26.12) or chardet (3.0.4) doesn't match a supported version!\n",
      "  warnings.warn(\"urllib3 ({}) or chardet ({}) doesn't match a supported \"\n"
     ]
    },
    {
     "data": {
      "text/html": [
       "Tracking run with wandb version 0.13.5"
      ],
      "text/plain": [
       "<IPython.core.display.HTML object>"
      ]
     },
     "metadata": {},
     "output_type": "display_data"
    },
    {
     "data": {
      "text/html": [
       "Run data is saved locally in <code>/home/laurin/Documents/network-eval/wandb/run-20221104_104721-rbw99kgr</code>"
      ],
      "text/plain": [
       "<IPython.core.display.HTML object>"
      ]
     },
     "metadata": {},
     "output_type": "display_data"
    },
    {
     "data": {
      "text/html": [
       "Syncing run <strong><a href=\"https://wandb.ai/luxtu/node-classification/runs/rbw99kgr\" target=\"_blank\">graceful-sweep-3</a></strong> to <a href=\"https://wandb.ai/luxtu/node-classification\" target=\"_blank\">Weights & Biases</a> (<a href=\"https://wandb.me/run\" target=\"_blank\">docs</a>)<br/>Sweep page:  <a href=\"https://wandb.ai/luxtu/node-classification/sweeps/rdzqj7go\" target=\"_blank\">https://wandb.ai/luxtu/node-classification/sweeps/rdzqj7go</a>"
      ],
      "text/plain": [
       "<IPython.core.display.HTML object>"
      ]
     },
     "metadata": {},
     "output_type": "display_data"
    },
    {
     "name": "stderr",
     "output_type": "stream",
     "text": [
      "100%|██████████| 100/100 [00:03<00:00, 31.13it/s]\n"
     ]
    },
    {
     "data": {
      "text/html": [
       "Waiting for W&B process to finish... <strong style=\"color:green\">(success).</strong>"
      ],
      "text/plain": [
       "<IPython.core.display.HTML object>"
      ]
     },
     "metadata": {},
     "output_type": "display_data"
    },
    {
     "data": {
      "text/html": [
       "<style>\n",
       "    table.wandb td:nth-child(1) { padding: 0 10px; text-align: left ; width: auto;} td:nth-child(2) {text-align: left ; width: 100%}\n",
       "    .wandb-row { display: flex; flex-direction: row; flex-wrap: wrap; justify-content: flex-start; width: 100% }\n",
       "    .wandb-col { display: flex; flex-direction: column; flex-basis: 100%; flex: 1; padding: 10px; }\n",
       "    </style>\n",
       "<div class=\"wandb-row\"><div class=\"wandb-col\"><h3>Run history:</h3><br/><table class=\"wandb\"><tr><td>gcn/accuracy</td><td>▁</td></tr><tr><td>gcn/loss</td><td>█▆▇▆▇▆▆▆▆▆▆▅▅▄▄▄▄▅▅▄▄▄▃▄▃▃▃▃▃▃▃▂▂▂▂▂▃▁▁▁</td></tr></table><br/></div><div class=\"wandb-col\"><h3>Run summary:</h3><br/><table class=\"wandb\"><tr><td>gcn/accuracy</td><td>0.58242</td></tr><tr><td>gcn/loss</td><td>6.17889</td></tr></table><br/></div></div>"
      ],
      "text/plain": [
       "<IPython.core.display.HTML object>"
      ]
     },
     "metadata": {},
     "output_type": "display_data"
    },
    {
     "data": {
      "text/html": [
       "Synced <strong style=\"color:#cdcd00\">graceful-sweep-3</strong>: <a href=\"https://wandb.ai/luxtu/node-classification/runs/rbw99kgr\" target=\"_blank\">https://wandb.ai/luxtu/node-classification/runs/rbw99kgr</a><br/>Synced 5 W&B file(s), 2 media file(s), 2 artifact file(s) and 0 other file(s)"
      ],
      "text/plain": [
       "<IPython.core.display.HTML object>"
      ]
     },
     "metadata": {},
     "output_type": "display_data"
    },
    {
     "data": {
      "text/html": [
       "Find logs at: <code>./wandb/run-20221104_104721-rbw99kgr/logs</code>"
      ],
      "text/plain": [
       "<IPython.core.display.HTML object>"
      ]
     },
     "metadata": {},
     "output_type": "display_data"
    },
    {
     "name": "stderr",
     "output_type": "stream",
     "text": [
      "wandb: Agent Starting Run: 925d1j26 with config:\n",
      "wandb: \thidden_channels: 16\n",
      "wandb: \tlr: 0.0006004253894812026\n",
      "wandb: \tweight_decay: 0.0005049534637214581\n",
      "/usr/lib/python3/dist-packages/requests/__init__.py:89: RequestsDependencyWarning: urllib3 (1.26.12) or chardet (3.0.4) doesn't match a supported version!\n",
      "  warnings.warn(\"urllib3 ({}) or chardet ({}) doesn't match a supported \"\n"
     ]
    },
    {
     "data": {
      "text/html": [
       "Tracking run with wandb version 0.13.5"
      ],
      "text/plain": [
       "<IPython.core.display.HTML object>"
      ]
     },
     "metadata": {},
     "output_type": "display_data"
    },
    {
     "data": {
      "text/html": [
       "Run data is saved locally in <code>/home/laurin/Documents/network-eval/wandb/run-20221104_104737-925d1j26</code>"
      ],
      "text/plain": [
       "<IPython.core.display.HTML object>"
      ]
     },
     "metadata": {},
     "output_type": "display_data"
    },
    {
     "data": {
      "text/html": [
       "Syncing run <strong><a href=\"https://wandb.ai/luxtu/node-classification/runs/925d1j26\" target=\"_blank\">confused-sweep-4</a></strong> to <a href=\"https://wandb.ai/luxtu/node-classification\" target=\"_blank\">Weights & Biases</a> (<a href=\"https://wandb.me/run\" target=\"_blank\">docs</a>)<br/>Sweep page:  <a href=\"https://wandb.ai/luxtu/node-classification/sweeps/rdzqj7go\" target=\"_blank\">https://wandb.ai/luxtu/node-classification/sweeps/rdzqj7go</a>"
      ],
      "text/plain": [
       "<IPython.core.display.HTML object>"
      ]
     },
     "metadata": {},
     "output_type": "display_data"
    },
    {
     "name": "stderr",
     "output_type": "stream",
     "text": [
      "100%|██████████| 100/100 [00:03<00:00, 28.12it/s]\n"
     ]
    },
    {
     "data": {
      "text/html": [
       "Waiting for W&B process to finish... <strong style=\"color:green\">(success).</strong>"
      ],
      "text/plain": [
       "<IPython.core.display.HTML object>"
      ]
     },
     "metadata": {},
     "output_type": "display_data"
    },
    {
     "data": {
      "application/vnd.jupyter.widget-view+json": {
       "model_id": "6d113c0530a341c5a342956f9eb8a89d",
       "version_major": 2,
       "version_minor": 0
      },
      "text/plain": [
       "VBox(children=(Label(value='1.689 MB of 2.251 MB uploaded (0.000 MB deduped)\\r'), FloatProgress(value=0.750184…"
      ]
     },
     "metadata": {},
     "output_type": "display_data"
    },
    {
     "data": {
      "text/html": [
       "<style>\n",
       "    table.wandb td:nth-child(1) { padding: 0 10px; text-align: left ; width: auto;} td:nth-child(2) {text-align: left ; width: 100%}\n",
       "    .wandb-row { display: flex; flex-direction: row; flex-wrap: wrap; justify-content: flex-start; width: 100% }\n",
       "    .wandb-col { display: flex; flex-direction: column; flex-basis: 100%; flex: 1; padding: 10px; }\n",
       "    </style>\n",
       "<div class=\"wandb-row\"><div class=\"wandb-col\"><h3>Run history:</h3><br/><table class=\"wandb\"><tr><td>gcn/accuracy</td><td>▁</td></tr><tr><td>gcn/loss</td><td>██▇▇▇▇▆▆▆▆▅▅▅▅▅▄▄▄▄▄▄▃▃▃▃▃▃▂▂▂▂▂▂▂▁▁▁▁▁▁</td></tr></table><br/></div><div class=\"wandb-col\"><h3>Run summary:</h3><br/><table class=\"wandb\"><tr><td>gcn/accuracy</td><td>0.25201</td></tr><tr><td>gcn/loss</td><td>1.87308</td></tr></table><br/></div></div>"
      ],
      "text/plain": [
       "<IPython.core.display.HTML object>"
      ]
     },
     "metadata": {},
     "output_type": "display_data"
    },
    {
     "data": {
      "text/html": [
       "Synced <strong style=\"color:#cdcd00\">confused-sweep-4</strong>: <a href=\"https://wandb.ai/luxtu/node-classification/runs/925d1j26\" target=\"_blank\">https://wandb.ai/luxtu/node-classification/runs/925d1j26</a><br/>Synced 5 W&B file(s), 2 media file(s), 2 artifact file(s) and 0 other file(s)"
      ],
      "text/plain": [
       "<IPython.core.display.HTML object>"
      ]
     },
     "metadata": {},
     "output_type": "display_data"
    },
    {
     "data": {
      "text/html": [
       "Find logs at: <code>./wandb/run-20221104_104737-925d1j26/logs</code>"
      ],
      "text/plain": [
       "<IPython.core.display.HTML object>"
      ]
     },
     "metadata": {},
     "output_type": "display_data"
    },
    {
     "name": "stderr",
     "output_type": "stream",
     "text": [
      "wandb: Agent Starting Run: 9zv8lkei with config:\n",
      "wandb: \thidden_channels: 32\n",
      "wandb: \tlr: 0.0001939883520610088\n",
      "wandb: \tweight_decay: 0.0004970769164810502\n",
      "/usr/lib/python3/dist-packages/requests/__init__.py:89: RequestsDependencyWarning: urllib3 (1.26.12) or chardet (3.0.4) doesn't match a supported version!\n",
      "  warnings.warn(\"urllib3 ({}) or chardet ({}) doesn't match a supported \"\n"
     ]
    },
    {
     "data": {
      "text/html": [
       "Tracking run with wandb version 0.13.5"
      ],
      "text/plain": [
       "<IPython.core.display.HTML object>"
      ]
     },
     "metadata": {},
     "output_type": "display_data"
    },
    {
     "data": {
      "text/html": [
       "Run data is saved locally in <code>/home/laurin/Documents/network-eval/wandb/run-20221104_104753-9zv8lkei</code>"
      ],
      "text/plain": [
       "<IPython.core.display.HTML object>"
      ]
     },
     "metadata": {},
     "output_type": "display_data"
    },
    {
     "data": {
      "text/html": [
       "Syncing run <strong><a href=\"https://wandb.ai/luxtu/node-classification/runs/9zv8lkei\" target=\"_blank\">cosmic-sweep-5</a></strong> to <a href=\"https://wandb.ai/luxtu/node-classification\" target=\"_blank\">Weights & Biases</a> (<a href=\"https://wandb.me/run\" target=\"_blank\">docs</a>)<br/>Sweep page:  <a href=\"https://wandb.ai/luxtu/node-classification/sweeps/rdzqj7go\" target=\"_blank\">https://wandb.ai/luxtu/node-classification/sweeps/rdzqj7go</a>"
      ],
      "text/plain": [
       "<IPython.core.display.HTML object>"
      ]
     },
     "metadata": {},
     "output_type": "display_data"
    },
    {
     "name": "stderr",
     "output_type": "stream",
     "text": [
      "100%|██████████| 100/100 [00:04<00:00, 23.54it/s]\n"
     ]
    },
    {
     "data": {
      "text/html": [
       "Waiting for W&B process to finish... <strong style=\"color:green\">(success).</strong>"
      ],
      "text/plain": [
       "<IPython.core.display.HTML object>"
      ]
     },
     "metadata": {},
     "output_type": "display_data"
    },
    {
     "data": {
      "text/html": [
       "<style>\n",
       "    table.wandb td:nth-child(1) { padding: 0 10px; text-align: left ; width: auto;} td:nth-child(2) {text-align: left ; width: 100%}\n",
       "    .wandb-row { display: flex; flex-direction: row; flex-wrap: wrap; justify-content: flex-start; width: 100% }\n",
       "    .wandb-col { display: flex; flex-direction: column; flex-basis: 100%; flex: 1; padding: 10px; }\n",
       "    </style>\n",
       "<div class=\"wandb-row\"><div class=\"wandb-col\"><h3>Run history:</h3><br/><table class=\"wandb\"><tr><td>gcn/accuracy</td><td>▁</td></tr><tr><td>gcn/loss</td><td>██▇▇▇▇▇▆▆▆▅▅▅▅▅▄▄▄▃▄▃▃▃▃▃▂▂▂▂▂▂▂▂▂▁▁▁▁▁▁</td></tr></table><br/></div><div class=\"wandb-col\"><h3>Run summary:</h3><br/><table class=\"wandb\"><tr><td>gcn/accuracy</td><td>0.74579</td></tr><tr><td>gcn/loss</td><td>0.92596</td></tr></table><br/></div></div>"
      ],
      "text/plain": [
       "<IPython.core.display.HTML object>"
      ]
     },
     "metadata": {},
     "output_type": "display_data"
    },
    {
     "data": {
      "text/html": [
       "Synced <strong style=\"color:#cdcd00\">cosmic-sweep-5</strong>: <a href=\"https://wandb.ai/luxtu/node-classification/runs/9zv8lkei\" target=\"_blank\">https://wandb.ai/luxtu/node-classification/runs/9zv8lkei</a><br/>Synced 5 W&B file(s), 2 media file(s), 2 artifact file(s) and 0 other file(s)"
      ],
      "text/plain": [
       "<IPython.core.display.HTML object>"
      ]
     },
     "metadata": {},
     "output_type": "display_data"
    },
    {
     "data": {
      "text/html": [
       "Find logs at: <code>./wandb/run-20221104_104753-9zv8lkei/logs</code>"
      ],
      "text/plain": [
       "<IPython.core.display.HTML object>"
      ]
     },
     "metadata": {},
     "output_type": "display_data"
    },
    {
     "name": "stderr",
     "output_type": "stream",
     "text": [
      "wandb: Agent Starting Run: vqpc15wy with config:\n",
      "wandb: \thidden_channels: 8\n",
      "wandb: \tlr: 0.00020157984911307544\n",
      "wandb: \tweight_decay: 0.0004945459439271409\n",
      "/usr/lib/python3/dist-packages/requests/__init__.py:89: RequestsDependencyWarning: urllib3 (1.26.12) or chardet (3.0.4) doesn't match a supported version!\n",
      "  warnings.warn(\"urllib3 ({}) or chardet ({}) doesn't match a supported \"\n"
     ]
    },
    {
     "data": {
      "text/html": [
       "Tracking run with wandb version 0.13.5"
      ],
      "text/plain": [
       "<IPython.core.display.HTML object>"
      ]
     },
     "metadata": {},
     "output_type": "display_data"
    },
    {
     "data": {
      "text/html": [
       "Run data is saved locally in <code>/home/laurin/Documents/network-eval/wandb/run-20221104_104810-vqpc15wy</code>"
      ],
      "text/plain": [
       "<IPython.core.display.HTML object>"
      ]
     },
     "metadata": {},
     "output_type": "display_data"
    },
    {
     "data": {
      "text/html": [
       "Syncing run <strong><a href=\"https://wandb.ai/luxtu/node-classification/runs/vqpc15wy\" target=\"_blank\">young-sweep-6</a></strong> to <a href=\"https://wandb.ai/luxtu/node-classification\" target=\"_blank\">Weights & Biases</a> (<a href=\"https://wandb.me/run\" target=\"_blank\">docs</a>)<br/>Sweep page:  <a href=\"https://wandb.ai/luxtu/node-classification/sweeps/rdzqj7go\" target=\"_blank\">https://wandb.ai/luxtu/node-classification/sweeps/rdzqj7go</a>"
      ],
      "text/plain": [
       "<IPython.core.display.HTML object>"
      ]
     },
     "metadata": {},
     "output_type": "display_data"
    },
    {
     "name": "stderr",
     "output_type": "stream",
     "text": [
      "100%|██████████| 100/100 [00:02<00:00, 39.59it/s]\n"
     ]
    },
    {
     "data": {
      "text/html": [
       "Waiting for W&B process to finish... <strong style=\"color:green\">(success).</strong>"
      ],
      "text/plain": [
       "<IPython.core.display.HTML object>"
      ]
     },
     "metadata": {},
     "output_type": "display_data"
    },
    {
     "data": {
      "text/html": [
       "<style>\n",
       "    table.wandb td:nth-child(1) { padding: 0 10px; text-align: left ; width: auto;} td:nth-child(2) {text-align: left ; width: 100%}\n",
       "    .wandb-row { display: flex; flex-direction: row; flex-wrap: wrap; justify-content: flex-start; width: 100% }\n",
       "    .wandb-col { display: flex; flex-direction: column; flex-basis: 100%; flex: 1; padding: 10px; }\n",
       "    </style>\n",
       "<div class=\"wandb-row\"><div class=\"wandb-col\"><h3>Run history:</h3><br/><table class=\"wandb\"><tr><td>gcn/accuracy</td><td>▁</td></tr><tr><td>gcn/loss</td><td>█▆▇▆▇▆▆▆▆▆▆▅▅▄▄▄▄▅▅▄▄▄▃▄▃▃▃▃▃▃▃▂▂▂▂▂▂▁▁▁</td></tr></table><br/></div><div class=\"wandb-col\"><h3>Run summary:</h3><br/><table class=\"wandb\"><tr><td>gcn/accuracy</td><td>0.58242</td></tr><tr><td>gcn/loss</td><td>6.1191</td></tr></table><br/></div></div>"
      ],
      "text/plain": [
       "<IPython.core.display.HTML object>"
      ]
     },
     "metadata": {},
     "output_type": "display_data"
    },
    {
     "data": {
      "text/html": [
       "Synced <strong style=\"color:#cdcd00\">young-sweep-6</strong>: <a href=\"https://wandb.ai/luxtu/node-classification/runs/vqpc15wy\" target=\"_blank\">https://wandb.ai/luxtu/node-classification/runs/vqpc15wy</a><br/>Synced 5 W&B file(s), 2 media file(s), 2 artifact file(s) and 0 other file(s)"
      ],
      "text/plain": [
       "<IPython.core.display.HTML object>"
      ]
     },
     "metadata": {},
     "output_type": "display_data"
    },
    {
     "data": {
      "text/html": [
       "Find logs at: <code>./wandb/run-20221104_104810-vqpc15wy/logs</code>"
      ],
      "text/plain": [
       "<IPython.core.display.HTML object>"
      ]
     },
     "metadata": {},
     "output_type": "display_data"
    },
    {
     "name": "stderr",
     "output_type": "stream",
     "text": [
      "wandb: Agent Starting Run: eqt13hmy with config:\n",
      "wandb: \thidden_channels: 32\n",
      "wandb: \tlr: 0.0007891988010428398\n",
      "wandb: \tweight_decay: 0.0005079329828748541\n",
      "/usr/lib/python3/dist-packages/requests/__init__.py:89: RequestsDependencyWarning: urllib3 (1.26.12) or chardet (3.0.4) doesn't match a supported version!\n",
      "  warnings.warn(\"urllib3 ({}) or chardet ({}) doesn't match a supported \"\n"
     ]
    },
    {
     "data": {
      "text/html": [
       "Tracking run with wandb version 0.13.5"
      ],
      "text/plain": [
       "<IPython.core.display.HTML object>"
      ]
     },
     "metadata": {},
     "output_type": "display_data"
    },
    {
     "data": {
      "text/html": [
       "Run data is saved locally in <code>/home/laurin/Documents/network-eval/wandb/run-20221104_104826-eqt13hmy</code>"
      ],
      "text/plain": [
       "<IPython.core.display.HTML object>"
      ]
     },
     "metadata": {},
     "output_type": "display_data"
    },
    {
     "data": {
      "text/html": [
       "Syncing run <strong><a href=\"https://wandb.ai/luxtu/node-classification/runs/eqt13hmy\" target=\"_blank\">lilac-sweep-7</a></strong> to <a href=\"https://wandb.ai/luxtu/node-classification\" target=\"_blank\">Weights & Biases</a> (<a href=\"https://wandb.me/run\" target=\"_blank\">docs</a>)<br/>Sweep page:  <a href=\"https://wandb.ai/luxtu/node-classification/sweeps/rdzqj7go\" target=\"_blank\">https://wandb.ai/luxtu/node-classification/sweeps/rdzqj7go</a>"
      ],
      "text/plain": [
       "<IPython.core.display.HTML object>"
      ]
     },
     "metadata": {},
     "output_type": "display_data"
    },
    {
     "name": "stderr",
     "output_type": "stream",
     "text": [
      "100%|██████████| 100/100 [00:03<00:00, 26.38it/s]\n"
     ]
    },
    {
     "data": {
      "text/html": [
       "Waiting for W&B process to finish... <strong style=\"color:green\">(success).</strong>"
      ],
      "text/plain": [
       "<IPython.core.display.HTML object>"
      ]
     },
     "metadata": {},
     "output_type": "display_data"
    },
    {
     "data": {
      "application/vnd.jupyter.widget-view+json": {
       "model_id": "b1e5363cdf054a758f9cfbdc138b640c",
       "version_major": 2,
       "version_minor": 0
      },
      "text/plain": [
       "VBox(children=(Label(value='1.671 MB of 2.228 MB uploaded (0.000 MB deduped)\\r'), FloatProgress(value=0.750171…"
      ]
     },
     "metadata": {},
     "output_type": "display_data"
    },
    {
     "data": {
      "text/html": [
       "<style>\n",
       "    table.wandb td:nth-child(1) { padding: 0 10px; text-align: left ; width: auto;} td:nth-child(2) {text-align: left ; width: 100%}\n",
       "    .wandb-row { display: flex; flex-direction: row; flex-wrap: wrap; justify-content: flex-start; width: 100% }\n",
       "    .wandb-col { display: flex; flex-direction: column; flex-basis: 100%; flex: 1; padding: 10px; }\n",
       "    </style>\n",
       "<div class=\"wandb-row\"><div class=\"wandb-col\"><h3>Run history:</h3><br/><table class=\"wandb\"><tr><td>gcn/accuracy</td><td>▁</td></tr><tr><td>gcn/loss</td><td>█▇▆▆▄▄▄▃▃▃▂▂▂▂▂▂▂▁▁▁▁▁▁▁▁▁▁▁▁▁▁▁▁▁▁▁▁▁▁▁</td></tr></table><br/></div><div class=\"wandb-col\"><h3>Run summary:</h3><br/><table class=\"wandb\"><tr><td>gcn/accuracy</td><td>0.75385</td></tr><tr><td>gcn/loss</td><td>0.66261</td></tr></table><br/></div></div>"
      ],
      "text/plain": [
       "<IPython.core.display.HTML object>"
      ]
     },
     "metadata": {},
     "output_type": "display_data"
    },
    {
     "data": {
      "text/html": [
       "Synced <strong style=\"color:#cdcd00\">lilac-sweep-7</strong>: <a href=\"https://wandb.ai/luxtu/node-classification/runs/eqt13hmy\" target=\"_blank\">https://wandb.ai/luxtu/node-classification/runs/eqt13hmy</a><br/>Synced 5 W&B file(s), 2 media file(s), 2 artifact file(s) and 0 other file(s)"
      ],
      "text/plain": [
       "<IPython.core.display.HTML object>"
      ]
     },
     "metadata": {},
     "output_type": "display_data"
    },
    {
     "data": {
      "text/html": [
       "Find logs at: <code>./wandb/run-20221104_104826-eqt13hmy/logs</code>"
      ],
      "text/plain": [
       "<IPython.core.display.HTML object>"
      ]
     },
     "metadata": {},
     "output_type": "display_data"
    },
    {
     "name": "stderr",
     "output_type": "stream",
     "text": [
      "wandb: Agent Starting Run: 79y9xbed with config:\n",
      "wandb: \thidden_channels: 32\n",
      "wandb: \tlr: 0.00010852046813397864\n",
      "wandb: \tweight_decay: 0.0004958468234241444\n"
     ]
    },
    {
     "data": {
      "text/html": [
       "Tracking run with wandb version 0.13.5"
      ],
      "text/plain": [
       "<IPython.core.display.HTML object>"
      ]
     },
     "metadata": {},
     "output_type": "display_data"
    },
    {
     "data": {
      "text/html": [
       "Run data is saved locally in <code>/home/laurin/Documents/network-eval/wandb/run-20221104_104842-79y9xbed</code>"
      ],
      "text/plain": [
       "<IPython.core.display.HTML object>"
      ]
     },
     "metadata": {},
     "output_type": "display_data"
    },
    {
     "data": {
      "text/html": [
       "Syncing run <strong><a href=\"https://wandb.ai/luxtu/node-classification/runs/79y9xbed\" target=\"_blank\">mild-sweep-8</a></strong> to <a href=\"https://wandb.ai/luxtu/node-classification\" target=\"_blank\">Weights & Biases</a> (<a href=\"https://wandb.me/run\" target=\"_blank\">docs</a>)<br/>Sweep page:  <a href=\"https://wandb.ai/luxtu/node-classification/sweeps/rdzqj7go\" target=\"_blank\">https://wandb.ai/luxtu/node-classification/sweeps/rdzqj7go</a>"
      ],
      "text/plain": [
       "<IPython.core.display.HTML object>"
      ]
     },
     "metadata": {},
     "output_type": "display_data"
    },
    {
     "name": "stderr",
     "output_type": "stream",
     "text": [
      "100%|██████████| 100/100 [00:04<00:00, 21.48it/s]\n"
     ]
    },
    {
     "data": {
      "text/html": [
       "Waiting for W&B process to finish... <strong style=\"color:green\">(success).</strong>"
      ],
      "text/plain": [
       "<IPython.core.display.HTML object>"
      ]
     },
     "metadata": {},
     "output_type": "display_data"
    },
    {
     "data": {
      "application/vnd.jupyter.widget-view+json": {
       "model_id": "0a7e99e153fc42f384edc980bbf3ffb2",
       "version_major": 2,
       "version_minor": 0
      },
      "text/plain": [
       "VBox(children=(Label(value='1.666 MB of 2.217 MB uploaded (0.000 MB deduped)\\r'), FloatProgress(value=0.751404…"
      ]
     },
     "metadata": {},
     "output_type": "display_data"
    },
    {
     "data": {
      "text/html": [
       "<style>\n",
       "    table.wandb td:nth-child(1) { padding: 0 10px; text-align: left ; width: auto;} td:nth-child(2) {text-align: left ; width: 100%}\n",
       "    .wandb-row { display: flex; flex-direction: row; flex-wrap: wrap; justify-content: flex-start; width: 100% }\n",
       "    .wandb-col { display: flex; flex-direction: column; flex-basis: 100%; flex: 1; padding: 10px; }\n",
       "    </style>\n",
       "<div class=\"wandb-row\"><div class=\"wandb-col\"><h3>Run history:</h3><br/><table class=\"wandb\"><tr><td>gcn/accuracy</td><td>▁</td></tr><tr><td>gcn/loss</td><td>████▇▇▇▆▇▆▆▆▅▅▆▅▅▅▄▄▄▄▄▄▃▃▃▃▂▂▂▃▂▂▂▂▁▁▁▁</td></tr></table><br/></div><div class=\"wandb-col\"><h3>Run summary:</h3><br/><table class=\"wandb\"><tr><td>gcn/accuracy</td><td>0.7348</td></tr><tr><td>gcn/loss</td><td>1.16524</td></tr></table><br/></div></div>"
      ],
      "text/plain": [
       "<IPython.core.display.HTML object>"
      ]
     },
     "metadata": {},
     "output_type": "display_data"
    },
    {
     "data": {
      "text/html": [
       "Synced <strong style=\"color:#cdcd00\">mild-sweep-8</strong>: <a href=\"https://wandb.ai/luxtu/node-classification/runs/79y9xbed\" target=\"_blank\">https://wandb.ai/luxtu/node-classification/runs/79y9xbed</a><br/>Synced 5 W&B file(s), 2 media file(s), 2 artifact file(s) and 0 other file(s)"
      ],
      "text/plain": [
       "<IPython.core.display.HTML object>"
      ]
     },
     "metadata": {},
     "output_type": "display_data"
    },
    {
     "data": {
      "text/html": [
       "Find logs at: <code>./wandb/run-20221104_104842-79y9xbed/logs</code>"
      ],
      "text/plain": [
       "<IPython.core.display.HTML object>"
      ]
     },
     "metadata": {},
     "output_type": "display_data"
    },
    {
     "name": "stderr",
     "output_type": "stream",
     "text": [
      "wandb: Agent Starting Run: 5w3tq87c with config:\n",
      "wandb: \thidden_channels: 32\n",
      "wandb: \tlr: 0.00017351305021284086\n",
      "wandb: \tweight_decay: 0.0004901702398122127\n"
     ]
    },
    {
     "data": {
      "text/html": [
       "Tracking run with wandb version 0.13.5"
      ],
      "text/plain": [
       "<IPython.core.display.HTML object>"
      ]
     },
     "metadata": {},
     "output_type": "display_data"
    },
    {
     "data": {
      "text/html": [
       "Run data is saved locally in <code>/home/laurin/Documents/network-eval/wandb/run-20221104_104903-5w3tq87c</code>"
      ],
      "text/plain": [
       "<IPython.core.display.HTML object>"
      ]
     },
     "metadata": {},
     "output_type": "display_data"
    },
    {
     "data": {
      "text/html": [
       "Syncing run <strong><a href=\"https://wandb.ai/luxtu/node-classification/runs/5w3tq87c\" target=\"_blank\">super-sweep-9</a></strong> to <a href=\"https://wandb.ai/luxtu/node-classification\" target=\"_blank\">Weights & Biases</a> (<a href=\"https://wandb.me/run\" target=\"_blank\">docs</a>)<br/>Sweep page:  <a href=\"https://wandb.ai/luxtu/node-classification/sweeps/rdzqj7go\" target=\"_blank\">https://wandb.ai/luxtu/node-classification/sweeps/rdzqj7go</a>"
      ],
      "text/plain": [
       "<IPython.core.display.HTML object>"
      ]
     },
     "metadata": {},
     "output_type": "display_data"
    },
    {
     "name": "stderr",
     "output_type": "stream",
     "text": [
      "100%|██████████| 100/100 [00:03<00:00, 29.28it/s]\n"
     ]
    },
    {
     "data": {
      "text/html": [
       "Waiting for W&B process to finish... <strong style=\"color:green\">(success).</strong>"
      ],
      "text/plain": [
       "<IPython.core.display.HTML object>"
      ]
     },
     "metadata": {},
     "output_type": "display_data"
    },
    {
     "data": {
      "application/vnd.jupyter.widget-view+json": {
       "model_id": "13bc3d441c6e4798bcbc5a534a7eac78",
       "version_major": 2,
       "version_minor": 0
      },
      "text/plain": [
       "VBox(children=(Label(value='1.665 MB of 2.215 MB uploaded (0.000 MB deduped)\\r'), FloatProgress(value=0.751537…"
      ]
     },
     "metadata": {},
     "output_type": "display_data"
    },
    {
     "data": {
      "text/html": [
       "<style>\n",
       "    table.wandb td:nth-child(1) { padding: 0 10px; text-align: left ; width: auto;} td:nth-child(2) {text-align: left ; width: 100%}\n",
       "    .wandb-row { display: flex; flex-direction: row; flex-wrap: wrap; justify-content: flex-start; width: 100% }\n",
       "    .wandb-col { display: flex; flex-direction: column; flex-basis: 100%; flex: 1; padding: 10px; }\n",
       "    </style>\n",
       "<div class=\"wandb-row\"><div class=\"wandb-col\"><h3>Run history:</h3><br/><table class=\"wandb\"><tr><td>gcn/accuracy</td><td>▁</td></tr><tr><td>gcn/loss</td><td>██▇█▇▇▇▆▆▆▅▅▅▅▅▄▄▄▄▄▃▃▃▃▃▃▂▂▂▂▂▂▂▂▂▂▁▁▁▁</td></tr></table><br/></div><div class=\"wandb-col\"><h3>Run summary:</h3><br/><table class=\"wandb\"><tr><td>gcn/accuracy</td><td>0.74066</td></tr><tr><td>gcn/loss</td><td>0.96848</td></tr></table><br/></div></div>"
      ],
      "text/plain": [
       "<IPython.core.display.HTML object>"
      ]
     },
     "metadata": {},
     "output_type": "display_data"
    },
    {
     "data": {
      "text/html": [
       "Synced <strong style=\"color:#cdcd00\">super-sweep-9</strong>: <a href=\"https://wandb.ai/luxtu/node-classification/runs/5w3tq87c\" target=\"_blank\">https://wandb.ai/luxtu/node-classification/runs/5w3tq87c</a><br/>Synced 5 W&B file(s), 2 media file(s), 2 artifact file(s) and 0 other file(s)"
      ],
      "text/plain": [
       "<IPython.core.display.HTML object>"
      ]
     },
     "metadata": {},
     "output_type": "display_data"
    },
    {
     "data": {
      "text/html": [
       "Find logs at: <code>./wandb/run-20221104_104903-5w3tq87c/logs</code>"
      ],
      "text/plain": [
       "<IPython.core.display.HTML object>"
      ]
     },
     "metadata": {},
     "output_type": "display_data"
    },
    {
     "name": "stderr",
     "output_type": "stream",
     "text": [
      "wandb: Agent Starting Run: 1kggbib8 with config:\n",
      "wandb: \thidden_channels: 32\n",
      "wandb: \tlr: 0.0009819219870800045\n",
      "wandb: \tweight_decay: 0.0005055347883057734\n"
     ]
    },
    {
     "data": {
      "text/html": [
       "Tracking run with wandb version 0.13.5"
      ],
      "text/plain": [
       "<IPython.core.display.HTML object>"
      ]
     },
     "metadata": {},
     "output_type": "display_data"
    },
    {
     "data": {
      "text/html": [
       "Run data is saved locally in <code>/home/laurin/Documents/network-eval/wandb/run-20221104_104919-1kggbib8</code>"
      ],
      "text/plain": [
       "<IPython.core.display.HTML object>"
      ]
     },
     "metadata": {},
     "output_type": "display_data"
    },
    {
     "data": {
      "text/html": [
       "Syncing run <strong><a href=\"https://wandb.ai/luxtu/node-classification/runs/1kggbib8\" target=\"_blank\">ethereal-sweep-10</a></strong> to <a href=\"https://wandb.ai/luxtu/node-classification\" target=\"_blank\">Weights & Biases</a> (<a href=\"https://wandb.me/run\" target=\"_blank\">docs</a>)<br/>Sweep page:  <a href=\"https://wandb.ai/luxtu/node-classification/sweeps/rdzqj7go\" target=\"_blank\">https://wandb.ai/luxtu/node-classification/sweeps/rdzqj7go</a>"
      ],
      "text/plain": [
       "<IPython.core.display.HTML object>"
      ]
     },
     "metadata": {},
     "output_type": "display_data"
    },
    {
     "name": "stderr",
     "output_type": "stream",
     "text": [
      "100%|██████████| 100/100 [00:03<00:00, 25.93it/s]\n"
     ]
    },
    {
     "data": {
      "text/html": [
       "Waiting for W&B process to finish... <strong style=\"color:green\">(success).</strong>"
      ],
      "text/plain": [
       "<IPython.core.display.HTML object>"
      ]
     },
     "metadata": {},
     "output_type": "display_data"
    },
    {
     "data": {
      "application/vnd.jupyter.widget-view+json": {
       "model_id": "aba6275d5c544395927eb1eee8969b66",
       "version_major": 2,
       "version_minor": 0
      },
      "text/plain": [
       "VBox(children=(Label(value='2.232 MB of 2.232 MB uploaded (0.000 MB deduped)\\r'), FloatProgress(value=1.0, max…"
      ]
     },
     "metadata": {},
     "output_type": "display_data"
    },
    {
     "data": {
      "text/html": [
       "<style>\n",
       "    table.wandb td:nth-child(1) { padding: 0 10px; text-align: left ; width: auto;} td:nth-child(2) {text-align: left ; width: 100%}\n",
       "    .wandb-row { display: flex; flex-direction: row; flex-wrap: wrap; justify-content: flex-start; width: 100% }\n",
       "    .wandb-col { display: flex; flex-direction: column; flex-basis: 100%; flex: 1; padding: 10px; }\n",
       "    </style>\n",
       "<div class=\"wandb-row\"><div class=\"wandb-col\"><h3>Run history:</h3><br/><table class=\"wandb\"><tr><td>gcn/accuracy</td><td>▁</td></tr><tr><td>gcn/loss</td><td>█▇▆▅▄▄▃▃▂▂▂▂▂▂▂▁▁▁▁▁▁▁▁▁▁▁▁▁▁▁▁▁▁▁▁▁▁▁▁▁</td></tr></table><br/></div><div class=\"wandb-col\"><h3>Run summary:</h3><br/><table class=\"wandb\"><tr><td>gcn/accuracy</td><td>0.75385</td></tr><tr><td>gcn/loss</td><td>0.64898</td></tr></table><br/></div></div>"
      ],
      "text/plain": [
       "<IPython.core.display.HTML object>"
      ]
     },
     "metadata": {},
     "output_type": "display_data"
    },
    {
     "data": {
      "text/html": [
       "Synced <strong style=\"color:#cdcd00\">ethereal-sweep-10</strong>: <a href=\"https://wandb.ai/luxtu/node-classification/runs/1kggbib8\" target=\"_blank\">https://wandb.ai/luxtu/node-classification/runs/1kggbib8</a><br/>Synced 5 W&B file(s), 2 media file(s), 2 artifact file(s) and 0 other file(s)"
      ],
      "text/plain": [
       "<IPython.core.display.HTML object>"
      ]
     },
     "metadata": {},
     "output_type": "display_data"
    },
    {
     "data": {
      "text/html": [
       "Find logs at: <code>./wandb/run-20221104_104919-1kggbib8/logs</code>"
      ],
      "text/plain": [
       "<IPython.core.display.HTML object>"
      ]
     },
     "metadata": {},
     "output_type": "display_data"
    },
    {
     "name": "stderr",
     "output_type": "stream",
     "text": [
      "wandb: Agent Starting Run: gk83n45j with config:\n",
      "wandb: \thidden_channels: 32\n",
      "wandb: \tlr: 0.0001406700102290371\n",
      "wandb: \tweight_decay: 0.0004809773619924437\n"
     ]
    },
    {
     "data": {
      "text/html": [
       "Tracking run with wandb version 0.13.5"
      ],
      "text/plain": [
       "<IPython.core.display.HTML object>"
      ]
     },
     "metadata": {},
     "output_type": "display_data"
    },
    {
     "data": {
      "text/html": [
       "Run data is saved locally in <code>/home/laurin/Documents/network-eval/wandb/run-20221104_104935-gk83n45j</code>"
      ],
      "text/plain": [
       "<IPython.core.display.HTML object>"
      ]
     },
     "metadata": {},
     "output_type": "display_data"
    },
    {
     "data": {
      "text/html": [
       "Syncing run <strong><a href=\"https://wandb.ai/luxtu/node-classification/runs/gk83n45j\" target=\"_blank\">sleek-sweep-11</a></strong> to <a href=\"https://wandb.ai/luxtu/node-classification\" target=\"_blank\">Weights & Biases</a> (<a href=\"https://wandb.me/run\" target=\"_blank\">docs</a>)<br/>Sweep page:  <a href=\"https://wandb.ai/luxtu/node-classification/sweeps/rdzqj7go\" target=\"_blank\">https://wandb.ai/luxtu/node-classification/sweeps/rdzqj7go</a>"
      ],
      "text/plain": [
       "<IPython.core.display.HTML object>"
      ]
     },
     "metadata": {},
     "output_type": "display_data"
    },
    {
     "name": "stderr",
     "output_type": "stream",
     "text": [
      "100%|██████████| 100/100 [00:03<00:00, 26.36it/s]\n"
     ]
    },
    {
     "data": {
      "text/html": [
       "Waiting for W&B process to finish... <strong style=\"color:green\">(success).</strong>"
      ],
      "text/plain": [
       "<IPython.core.display.HTML object>"
      ]
     },
     "metadata": {},
     "output_type": "display_data"
    },
    {
     "data": {
      "text/html": [
       "<style>\n",
       "    table.wandb td:nth-child(1) { padding: 0 10px; text-align: left ; width: auto;} td:nth-child(2) {text-align: left ; width: 100%}\n",
       "    .wandb-row { display: flex; flex-direction: row; flex-wrap: wrap; justify-content: flex-start; width: 100% }\n",
       "    .wandb-col { display: flex; flex-direction: column; flex-basis: 100%; flex: 1; padding: 10px; }\n",
       "    </style>\n",
       "<div class=\"wandb-row\"><div class=\"wandb-col\"><h3>Run history:</h3><br/><table class=\"wandb\"><tr><td>gcn/accuracy</td><td>▁</td></tr><tr><td>gcn/loss</td><td>██▇█▇▇▇▆▆▆▆▅▅▅▅▅▅▄▄▄▄▃▃▄▃▃▃▂▂▂▂▂▂▂▂▂▁▁▁▁</td></tr></table><br/></div><div class=\"wandb-col\"><h3>Run summary:</h3><br/><table class=\"wandb\"><tr><td>gcn/accuracy</td><td>0.73626</td></tr><tr><td>gcn/loss</td><td>1.05445</td></tr></table><br/></div></div>"
      ],
      "text/plain": [
       "<IPython.core.display.HTML object>"
      ]
     },
     "metadata": {},
     "output_type": "display_data"
    },
    {
     "data": {
      "text/html": [
       "Synced <strong style=\"color:#cdcd00\">sleek-sweep-11</strong>: <a href=\"https://wandb.ai/luxtu/node-classification/runs/gk83n45j\" target=\"_blank\">https://wandb.ai/luxtu/node-classification/runs/gk83n45j</a><br/>Synced 5 W&B file(s), 2 media file(s), 2 artifact file(s) and 0 other file(s)"
      ],
      "text/plain": [
       "<IPython.core.display.HTML object>"
      ]
     },
     "metadata": {},
     "output_type": "display_data"
    },
    {
     "data": {
      "text/html": [
       "Find logs at: <code>./wandb/run-20221104_104935-gk83n45j/logs</code>"
      ],
      "text/plain": [
       "<IPython.core.display.HTML object>"
      ]
     },
     "metadata": {},
     "output_type": "display_data"
    },
    {
     "name": "stderr",
     "output_type": "stream",
     "text": [
      "wandb: Agent Starting Run: alf0l4k2 with config:\n",
      "wandb: \thidden_channels: 32\n",
      "wandb: \tlr: 0.0009688262815908608\n",
      "wandb: \tweight_decay: 0.000512043054956957\n"
     ]
    },
    {
     "data": {
      "application/vnd.jupyter.widget-view+json": {
       "model_id": "aee158e2cb534386bf1f4a7bffa6449d",
       "version_major": 2,
       "version_minor": 0
      },
      "text/plain": [
       "VBox(children=(Label(value='Waiting for wandb.init()...\\r'), FloatProgress(value=0.016668715300086963, max=1.0…"
      ]
     },
     "metadata": {},
     "output_type": "display_data"
    },
    {
     "data": {
      "text/html": [
       "Tracking run with wandb version 0.13.5"
      ],
      "text/plain": [
       "<IPython.core.display.HTML object>"
      ]
     },
     "metadata": {},
     "output_type": "display_data"
    },
    {
     "data": {
      "text/html": [
       "Run data is saved locally in <code>/home/laurin/Documents/network-eval/wandb/run-20221104_104951-alf0l4k2</code>"
      ],
      "text/plain": [
       "<IPython.core.display.HTML object>"
      ]
     },
     "metadata": {},
     "output_type": "display_data"
    },
    {
     "data": {
      "text/html": [
       "Syncing run <strong><a href=\"https://wandb.ai/luxtu/node-classification/runs/alf0l4k2\" target=\"_blank\">radiant-sweep-12</a></strong> to <a href=\"https://wandb.ai/luxtu/node-classification\" target=\"_blank\">Weights & Biases</a> (<a href=\"https://wandb.me/run\" target=\"_blank\">docs</a>)<br/>Sweep page:  <a href=\"https://wandb.ai/luxtu/node-classification/sweeps/rdzqj7go\" target=\"_blank\">https://wandb.ai/luxtu/node-classification/sweeps/rdzqj7go</a>"
      ],
      "text/plain": [
       "<IPython.core.display.HTML object>"
      ]
     },
     "metadata": {},
     "output_type": "display_data"
    },
    {
     "name": "stderr",
     "output_type": "stream",
     "text": [
      "100%|██████████| 100/100 [00:03<00:00, 27.45it/s]\n"
     ]
    },
    {
     "data": {
      "text/html": [
       "Waiting for W&B process to finish... <strong style=\"color:green\">(success).</strong>"
      ],
      "text/plain": [
       "<IPython.core.display.HTML object>"
      ]
     },
     "metadata": {},
     "output_type": "display_data"
    },
    {
     "data": {
      "application/vnd.jupyter.widget-view+json": {
       "model_id": "b1a1e066820e415682fce673647a0332",
       "version_major": 2,
       "version_minor": 0
      },
      "text/plain": [
       "VBox(children=(Label(value='1.673 MB of 2.231 MB uploaded (0.000 MB deduped)\\r'), FloatProgress(value=0.749740…"
      ]
     },
     "metadata": {},
     "output_type": "display_data"
    },
    {
     "data": {
      "text/html": [
       "<style>\n",
       "    table.wandb td:nth-child(1) { padding: 0 10px; text-align: left ; width: auto;} td:nth-child(2) {text-align: left ; width: 100%}\n",
       "    .wandb-row { display: flex; flex-direction: row; flex-wrap: wrap; justify-content: flex-start; width: 100% }\n",
       "    .wandb-col { display: flex; flex-direction: column; flex-basis: 100%; flex: 1; padding: 10px; }\n",
       "    </style>\n",
       "<div class=\"wandb-row\"><div class=\"wandb-col\"><h3>Run history:</h3><br/><table class=\"wandb\"><tr><td>gcn/accuracy</td><td>▁</td></tr><tr><td>gcn/loss</td><td>█▇▆▅▄▄▃▃▃▂▂▂▂▂▂▂▁▁▁▁▁▁▁▁▁▁▁▁▁▁▁▁▁▁▁▁▁▁▁▁</td></tr></table><br/></div><div class=\"wandb-col\"><h3>Run summary:</h3><br/><table class=\"wandb\"><tr><td>gcn/accuracy</td><td>0.75311</td></tr><tr><td>gcn/loss</td><td>0.64981</td></tr></table><br/></div></div>"
      ],
      "text/plain": [
       "<IPython.core.display.HTML object>"
      ]
     },
     "metadata": {},
     "output_type": "display_data"
    },
    {
     "data": {
      "text/html": [
       "Synced <strong style=\"color:#cdcd00\">radiant-sweep-12</strong>: <a href=\"https://wandb.ai/luxtu/node-classification/runs/alf0l4k2\" target=\"_blank\">https://wandb.ai/luxtu/node-classification/runs/alf0l4k2</a><br/>Synced 5 W&B file(s), 2 media file(s), 2 artifact file(s) and 0 other file(s)"
      ],
      "text/plain": [
       "<IPython.core.display.HTML object>"
      ]
     },
     "metadata": {},
     "output_type": "display_data"
    },
    {
     "data": {
      "text/html": [
       "Find logs at: <code>./wandb/run-20221104_104951-alf0l4k2/logs</code>"
      ],
      "text/plain": [
       "<IPython.core.display.HTML object>"
      ]
     },
     "metadata": {},
     "output_type": "display_data"
    },
    {
     "name": "stderr",
     "output_type": "stream",
     "text": [
      "wandb: Sweep Agent: Waiting for job.\n",
      "wandb: Job received.\n",
      "wandb: Agent Starting Run: 76bnjd2d with config:\n",
      "wandb: \thidden_channels: 32\n",
      "wandb: \tlr: 0.00012672866224554044\n",
      "wandb: \tweight_decay: 0.0005076764033471894\n"
     ]
    },
    {
     "data": {
      "text/html": [
       "Tracking run with wandb version 0.13.5"
      ],
      "text/plain": [
       "<IPython.core.display.HTML object>"
      ]
     },
     "metadata": {},
     "output_type": "display_data"
    },
    {
     "data": {
      "text/html": [
       "Run data is saved locally in <code>/home/laurin/Documents/network-eval/wandb/run-20221104_105017-76bnjd2d</code>"
      ],
      "text/plain": [
       "<IPython.core.display.HTML object>"
      ]
     },
     "metadata": {},
     "output_type": "display_data"
    },
    {
     "data": {
      "text/html": [
       "Syncing run <strong><a href=\"https://wandb.ai/luxtu/node-classification/runs/76bnjd2d\" target=\"_blank\">mild-sweep-13</a></strong> to <a href=\"https://wandb.ai/luxtu/node-classification\" target=\"_blank\">Weights & Biases</a> (<a href=\"https://wandb.me/run\" target=\"_blank\">docs</a>)<br/>Sweep page:  <a href=\"https://wandb.ai/luxtu/node-classification/sweeps/rdzqj7go\" target=\"_blank\">https://wandb.ai/luxtu/node-classification/sweeps/rdzqj7go</a>"
      ],
      "text/plain": [
       "<IPython.core.display.HTML object>"
      ]
     },
     "metadata": {},
     "output_type": "display_data"
    },
    {
     "name": "stderr",
     "output_type": "stream",
     "text": [
      "100%|██████████| 100/100 [00:03<00:00, 26.42it/s]\n"
     ]
    },
    {
     "data": {
      "text/html": [
       "Waiting for W&B process to finish... <strong style=\"color:green\">(success).</strong>"
      ],
      "text/plain": [
       "<IPython.core.display.HTML object>"
      ]
     },
     "metadata": {},
     "output_type": "display_data"
    },
    {
     "data": {
      "application/vnd.jupyter.widget-view+json": {
       "model_id": "9b3fb2ae0ab04079abce7a3118f715d4",
       "version_major": 2,
       "version_minor": 0
      },
      "text/plain": [
       "VBox(children=(Label(value='1.665 MB of 2.216 MB uploaded (0.000 MB deduped)\\r'), FloatProgress(value=0.751493…"
      ]
     },
     "metadata": {},
     "output_type": "display_data"
    },
    {
     "data": {
      "text/html": [
       "<style>\n",
       "    table.wandb td:nth-child(1) { padding: 0 10px; text-align: left ; width: auto;} td:nth-child(2) {text-align: left ; width: 100%}\n",
       "    .wandb-row { display: flex; flex-direction: row; flex-wrap: wrap; justify-content: flex-start; width: 100% }\n",
       "    .wandb-col { display: flex; flex-direction: column; flex-basis: 100%; flex: 1; padding: 10px; }\n",
       "    </style>\n",
       "<div class=\"wandb-row\"><div class=\"wandb-col\"><h3>Run history:</h3><br/><table class=\"wandb\"><tr><td>gcn/accuracy</td><td>▁</td></tr><tr><td>gcn/loss</td><td>████▇▇▇▆▇▆▆▆▅▅▅▅▅▄▄▄▄▄▄▄▃▃▃▂▂▂▂▃▂▂▂▂▁▁▁▁</td></tr></table><br/></div><div class=\"wandb-col\"><h3>Run summary:</h3><br/><table class=\"wandb\"><tr><td>gcn/accuracy</td><td>0.737</td></tr><tr><td>gcn/loss</td><td>1.09883</td></tr></table><br/></div></div>"
      ],
      "text/plain": [
       "<IPython.core.display.HTML object>"
      ]
     },
     "metadata": {},
     "output_type": "display_data"
    },
    {
     "data": {
      "text/html": [
       "Synced <strong style=\"color:#cdcd00\">mild-sweep-13</strong>: <a href=\"https://wandb.ai/luxtu/node-classification/runs/76bnjd2d\" target=\"_blank\">https://wandb.ai/luxtu/node-classification/runs/76bnjd2d</a><br/>Synced 5 W&B file(s), 2 media file(s), 2 artifact file(s) and 0 other file(s)"
      ],
      "text/plain": [
       "<IPython.core.display.HTML object>"
      ]
     },
     "metadata": {},
     "output_type": "display_data"
    },
    {
     "data": {
      "text/html": [
       "Find logs at: <code>./wandb/run-20221104_105017-76bnjd2d/logs</code>"
      ],
      "text/plain": [
       "<IPython.core.display.HTML object>"
      ]
     },
     "metadata": {},
     "output_type": "display_data"
    },
    {
     "name": "stderr",
     "output_type": "stream",
     "text": [
      "wandb: Agent Starting Run: szuzepcw with config:\n",
      "wandb: \thidden_channels: 32\n",
      "wandb: \tlr: 0.00013123535772686302\n",
      "wandb: \tweight_decay: 0.0005028335523713989\n"
     ]
    },
    {
     "data": {
      "text/html": [
       "Tracking run with wandb version 0.13.5"
      ],
      "text/plain": [
       "<IPython.core.display.HTML object>"
      ]
     },
     "metadata": {},
     "output_type": "display_data"
    },
    {
     "data": {
      "text/html": [
       "Run data is saved locally in <code>/home/laurin/Documents/network-eval/wandb/run-20221104_105033-szuzepcw</code>"
      ],
      "text/plain": [
       "<IPython.core.display.HTML object>"
      ]
     },
     "metadata": {},
     "output_type": "display_data"
    },
    {
     "data": {
      "text/html": [
       "Syncing run <strong><a href=\"https://wandb.ai/luxtu/node-classification/runs/szuzepcw\" target=\"_blank\">firm-sweep-14</a></strong> to <a href=\"https://wandb.ai/luxtu/node-classification\" target=\"_blank\">Weights & Biases</a> (<a href=\"https://wandb.me/run\" target=\"_blank\">docs</a>)<br/>Sweep page:  <a href=\"https://wandb.ai/luxtu/node-classification/sweeps/rdzqj7go\" target=\"_blank\">https://wandb.ai/luxtu/node-classification/sweeps/rdzqj7go</a>"
      ],
      "text/plain": [
       "<IPython.core.display.HTML object>"
      ]
     },
     "metadata": {},
     "output_type": "display_data"
    },
    {
     "name": "stderr",
     "output_type": "stream",
     "text": [
      "100%|██████████| 100/100 [00:03<00:00, 31.01it/s]\n"
     ]
    },
    {
     "data": {
      "text/html": [
       "Waiting for W&B process to finish... <strong style=\"color:green\">(success).</strong>"
      ],
      "text/plain": [
       "<IPython.core.display.HTML object>"
      ]
     },
     "metadata": {},
     "output_type": "display_data"
    },
    {
     "data": {
      "application/vnd.jupyter.widget-view+json": {
       "model_id": "75ac1df494344c5e88bfc0953ceeea86",
       "version_major": 2,
       "version_minor": 0
      },
      "text/plain": [
       "VBox(children=(Label(value='1.665 MB of 2.216 MB uploaded (0.000 MB deduped)\\r'), FloatProgress(value=0.751478…"
      ]
     },
     "metadata": {},
     "output_type": "display_data"
    },
    {
     "data": {
      "text/html": [
       "<style>\n",
       "    table.wandb td:nth-child(1) { padding: 0 10px; text-align: left ; width: auto;} td:nth-child(2) {text-align: left ; width: 100%}\n",
       "    .wandb-row { display: flex; flex-direction: row; flex-wrap: wrap; justify-content: flex-start; width: 100% }\n",
       "    .wandb-col { display: flex; flex-direction: column; flex-basis: 100%; flex: 1; padding: 10px; }\n",
       "    </style>\n",
       "<div class=\"wandb-row\"><div class=\"wandb-col\"><h3>Run history:</h3><br/><table class=\"wandb\"><tr><td>gcn/accuracy</td><td>▁</td></tr><tr><td>gcn/loss</td><td>████▇▇▇▆▇▆▆▅▅▅▅▅▅▄▄▄▄▄▄▄▃▃▃▂▂▂▂▃▂▂▂▂▁▁▁▁</td></tr></table><br/></div><div class=\"wandb-col\"><h3>Run summary:</h3><br/><table class=\"wandb\"><tr><td>gcn/accuracy</td><td>0.737</td></tr><tr><td>gcn/loss</td><td>1.08389</td></tr></table><br/></div></div>"
      ],
      "text/plain": [
       "<IPython.core.display.HTML object>"
      ]
     },
     "metadata": {},
     "output_type": "display_data"
    },
    {
     "data": {
      "text/html": [
       "Synced <strong style=\"color:#cdcd00\">firm-sweep-14</strong>: <a href=\"https://wandb.ai/luxtu/node-classification/runs/szuzepcw\" target=\"_blank\">https://wandb.ai/luxtu/node-classification/runs/szuzepcw</a><br/>Synced 5 W&B file(s), 2 media file(s), 2 artifact file(s) and 0 other file(s)"
      ],
      "text/plain": [
       "<IPython.core.display.HTML object>"
      ]
     },
     "metadata": {},
     "output_type": "display_data"
    },
    {
     "data": {
      "text/html": [
       "Find logs at: <code>./wandb/run-20221104_105033-szuzepcw/logs</code>"
      ],
      "text/plain": [
       "<IPython.core.display.HTML object>"
      ]
     },
     "metadata": {},
     "output_type": "display_data"
    },
    {
     "name": "stderr",
     "output_type": "stream",
     "text": [
      "wandb: Agent Starting Run: x4hp6x5u with config:\n",
      "wandb: \thidden_channels: 32\n",
      "wandb: \tlr: 0.0008953693996921958\n",
      "wandb: \tweight_decay: 0.0005060971230721171\n"
     ]
    },
    {
     "data": {
      "text/html": [
       "Tracking run with wandb version 0.13.5"
      ],
      "text/plain": [
       "<IPython.core.display.HTML object>"
      ]
     },
     "metadata": {},
     "output_type": "display_data"
    },
    {
     "data": {
      "text/html": [
       "Run data is saved locally in <code>/home/laurin/Documents/network-eval/wandb/run-20221104_105049-x4hp6x5u</code>"
      ],
      "text/plain": [
       "<IPython.core.display.HTML object>"
      ]
     },
     "metadata": {},
     "output_type": "display_data"
    },
    {
     "data": {
      "text/html": [
       "Syncing run <strong><a href=\"https://wandb.ai/luxtu/node-classification/runs/x4hp6x5u\" target=\"_blank\">stellar-sweep-15</a></strong> to <a href=\"https://wandb.ai/luxtu/node-classification\" target=\"_blank\">Weights & Biases</a> (<a href=\"https://wandb.me/run\" target=\"_blank\">docs</a>)<br/>Sweep page:  <a href=\"https://wandb.ai/luxtu/node-classification/sweeps/rdzqj7go\" target=\"_blank\">https://wandb.ai/luxtu/node-classification/sweeps/rdzqj7go</a>"
      ],
      "text/plain": [
       "<IPython.core.display.HTML object>"
      ]
     },
     "metadata": {},
     "output_type": "display_data"
    },
    {
     "name": "stderr",
     "output_type": "stream",
     "text": [
      "100%|██████████| 100/100 [00:03<00:00, 25.82it/s]\n"
     ]
    },
    {
     "data": {
      "text/html": [
       "Waiting for W&B process to finish... <strong style=\"color:green\">(success).</strong>"
      ],
      "text/plain": [
       "<IPython.core.display.HTML object>"
      ]
     },
     "metadata": {},
     "output_type": "display_data"
    },
    {
     "data": {
      "application/vnd.jupyter.widget-view+json": {
       "model_id": "0d72cfbe4a81419098ccf5b272702eda",
       "version_major": 2,
       "version_minor": 0
      },
      "text/plain": [
       "VBox(children=(Label(value='1.673 MB of 2.231 MB uploaded (0.000 MB deduped)\\r'), FloatProgress(value=0.749838…"
      ]
     },
     "metadata": {},
     "output_type": "display_data"
    },
    {
     "data": {
      "text/html": [
       "<style>\n",
       "    table.wandb td:nth-child(1) { padding: 0 10px; text-align: left ; width: auto;} td:nth-child(2) {text-align: left ; width: 100%}\n",
       "    .wandb-row { display: flex; flex-direction: row; flex-wrap: wrap; justify-content: flex-start; width: 100% }\n",
       "    .wandb-col { display: flex; flex-direction: column; flex-basis: 100%; flex: 1; padding: 10px; }\n",
       "    </style>\n",
       "<div class=\"wandb-row\"><div class=\"wandb-col\"><h3>Run history:</h3><br/><table class=\"wandb\"><tr><td>gcn/accuracy</td><td>▁</td></tr><tr><td>gcn/loss</td><td>█▇▆▅▄▄▃▃▃▂▂▂▂▂▂▂▁▁▁▁▁▁▁▁▁▁▁▁▁▁▁▁▁▁▁▁▁▁▁▁</td></tr></table><br/></div><div class=\"wandb-col\"><h3>Run summary:</h3><br/><table class=\"wandb\"><tr><td>gcn/accuracy</td><td>0.75385</td></tr><tr><td>gcn/loss</td><td>0.65465</td></tr></table><br/></div></div>"
      ],
      "text/plain": [
       "<IPython.core.display.HTML object>"
      ]
     },
     "metadata": {},
     "output_type": "display_data"
    },
    {
     "data": {
      "text/html": [
       "Synced <strong style=\"color:#cdcd00\">stellar-sweep-15</strong>: <a href=\"https://wandb.ai/luxtu/node-classification/runs/x4hp6x5u\" target=\"_blank\">https://wandb.ai/luxtu/node-classification/runs/x4hp6x5u</a><br/>Synced 5 W&B file(s), 2 media file(s), 2 artifact file(s) and 0 other file(s)"
      ],
      "text/plain": [
       "<IPython.core.display.HTML object>"
      ]
     },
     "metadata": {},
     "output_type": "display_data"
    },
    {
     "data": {
      "text/html": [
       "Find logs at: <code>./wandb/run-20221104_105049-x4hp6x5u/logs</code>"
      ],
      "text/plain": [
       "<IPython.core.display.HTML object>"
      ]
     },
     "metadata": {},
     "output_type": "display_data"
    },
    {
     "name": "stderr",
     "output_type": "stream",
     "text": [
      "wandb: Agent Starting Run: y1613vvx with config:\n",
      "wandb: \thidden_channels: 32\n",
      "wandb: \tlr: 0.000103780178831858\n",
      "wandb: \tweight_decay: 0.0004826311503999217\n"
     ]
    },
    {
     "data": {
      "text/html": [
       "Tracking run with wandb version 0.13.5"
      ],
      "text/plain": [
       "<IPython.core.display.HTML object>"
      ]
     },
     "metadata": {},
     "output_type": "display_data"
    },
    {
     "data": {
      "text/html": [
       "Run data is saved locally in <code>/home/laurin/Documents/network-eval/wandb/run-20221104_105105-y1613vvx</code>"
      ],
      "text/plain": [
       "<IPython.core.display.HTML object>"
      ]
     },
     "metadata": {},
     "output_type": "display_data"
    },
    {
     "data": {
      "text/html": [
       "Syncing run <strong><a href=\"https://wandb.ai/luxtu/node-classification/runs/y1613vvx\" target=\"_blank\">hearty-sweep-16</a></strong> to <a href=\"https://wandb.ai/luxtu/node-classification\" target=\"_blank\">Weights & Biases</a> (<a href=\"https://wandb.me/run\" target=\"_blank\">docs</a>)<br/>Sweep page:  <a href=\"https://wandb.ai/luxtu/node-classification/sweeps/rdzqj7go\" target=\"_blank\">https://wandb.ai/luxtu/node-classification/sweeps/rdzqj7go</a>"
      ],
      "text/plain": [
       "<IPython.core.display.HTML object>"
      ]
     },
     "metadata": {},
     "output_type": "display_data"
    },
    {
     "name": "stderr",
     "output_type": "stream",
     "text": [
      "100%|██████████| 100/100 [00:04<00:00, 23.58it/s]\n"
     ]
    },
    {
     "data": {
      "text/html": [
       "Waiting for W&B process to finish... <strong style=\"color:green\">(success).</strong>"
      ],
      "text/plain": [
       "<IPython.core.display.HTML object>"
      ]
     },
     "metadata": {},
     "output_type": "display_data"
    },
    {
     "data": {
      "application/vnd.jupyter.widget-view+json": {
       "model_id": "594c9c31e0824a57a189ae468d2b983b",
       "version_major": 2,
       "version_minor": 0
      },
      "text/plain": [
       "VBox(children=(Label(value='2.217 MB of 2.217 MB uploaded (0.000 MB deduped)\\r'), FloatProgress(value=1.0, max…"
      ]
     },
     "metadata": {},
     "output_type": "display_data"
    },
    {
     "data": {
      "text/html": [
       "<style>\n",
       "    table.wandb td:nth-child(1) { padding: 0 10px; text-align: left ; width: auto;} td:nth-child(2) {text-align: left ; width: 100%}\n",
       "    .wandb-row { display: flex; flex-direction: row; flex-wrap: wrap; justify-content: flex-start; width: 100% }\n",
       "    .wandb-col { display: flex; flex-direction: column; flex-basis: 100%; flex: 1; padding: 10px; }\n",
       "    </style>\n",
       "<div class=\"wandb-row\"><div class=\"wandb-col\"><h3>Run history:</h3><br/><table class=\"wandb\"><tr><td>gcn/accuracy</td><td>▁</td></tr><tr><td>gcn/loss</td><td>████▇▇▇▆▇▆▆▆▅▅▆▅▅▅▄▄▄▄▄▄▃▃▃▃▂▂▂▃▂▂▂▂▁▁▁▁</td></tr></table><br/></div><div class=\"wandb-col\"><h3>Run summary:</h3><br/><table class=\"wandb\"><tr><td>gcn/accuracy</td><td>0.73626</td></tr><tr><td>gcn/loss</td><td>1.18423</td></tr></table><br/></div></div>"
      ],
      "text/plain": [
       "<IPython.core.display.HTML object>"
      ]
     },
     "metadata": {},
     "output_type": "display_data"
    },
    {
     "data": {
      "text/html": [
       "Synced <strong style=\"color:#cdcd00\">hearty-sweep-16</strong>: <a href=\"https://wandb.ai/luxtu/node-classification/runs/y1613vvx\" target=\"_blank\">https://wandb.ai/luxtu/node-classification/runs/y1613vvx</a><br/>Synced 5 W&B file(s), 2 media file(s), 2 artifact file(s) and 0 other file(s)"
      ],
      "text/plain": [
       "<IPython.core.display.HTML object>"
      ]
     },
     "metadata": {},
     "output_type": "display_data"
    },
    {
     "data": {
      "text/html": [
       "Find logs at: <code>./wandb/run-20221104_105105-y1613vvx/logs</code>"
      ],
      "text/plain": [
       "<IPython.core.display.HTML object>"
      ]
     },
     "metadata": {},
     "output_type": "display_data"
    },
    {
     "name": "stderr",
     "output_type": "stream",
     "text": [
      "wandb: Agent Starting Run: 465qo02g with config:\n",
      "wandb: \thidden_channels: 32\n",
      "wandb: \tlr: 0.0001227470861047359\n",
      "wandb: \tweight_decay: 0.0005264057923086717\n"
     ]
    },
    {
     "data": {
      "text/html": [
       "Tracking run with wandb version 0.13.5"
      ],
      "text/plain": [
       "<IPython.core.display.HTML object>"
      ]
     },
     "metadata": {},
     "output_type": "display_data"
    },
    {
     "data": {
      "text/html": [
       "Run data is saved locally in <code>/home/laurin/Documents/network-eval/wandb/run-20221104_105121-465qo02g</code>"
      ],
      "text/plain": [
       "<IPython.core.display.HTML object>"
      ]
     },
     "metadata": {},
     "output_type": "display_data"
    },
    {
     "data": {
      "text/html": [
       "Syncing run <strong><a href=\"https://wandb.ai/luxtu/node-classification/runs/465qo02g\" target=\"_blank\">dauntless-sweep-17</a></strong> to <a href=\"https://wandb.ai/luxtu/node-classification\" target=\"_blank\">Weights & Biases</a> (<a href=\"https://wandb.me/run\" target=\"_blank\">docs</a>)<br/>Sweep page:  <a href=\"https://wandb.ai/luxtu/node-classification/sweeps/rdzqj7go\" target=\"_blank\">https://wandb.ai/luxtu/node-classification/sweeps/rdzqj7go</a>"
      ],
      "text/plain": [
       "<IPython.core.display.HTML object>"
      ]
     },
     "metadata": {},
     "output_type": "display_data"
    },
    {
     "name": "stderr",
     "output_type": "stream",
     "text": [
      "100%|██████████| 100/100 [00:03<00:00, 27.42it/s]\n"
     ]
    },
    {
     "data": {
      "text/html": [
       "Waiting for W&B process to finish... <strong style=\"color:green\">(success).</strong>"
      ],
      "text/plain": [
       "<IPython.core.display.HTML object>"
      ]
     },
     "metadata": {},
     "output_type": "display_data"
    },
    {
     "data": {
      "application/vnd.jupyter.widget-view+json": {
       "model_id": "25ec0be7974a43d38407675d997f9f00",
       "version_major": 2,
       "version_minor": 0
      },
      "text/plain": [
       "VBox(children=(Label(value='1.665 MB of 2.216 MB uploaded (0.000 MB deduped)\\r'), FloatProgress(value=0.751477…"
      ]
     },
     "metadata": {},
     "output_type": "display_data"
    },
    {
     "data": {
      "text/html": [
       "<style>\n",
       "    table.wandb td:nth-child(1) { padding: 0 10px; text-align: left ; width: auto;} td:nth-child(2) {text-align: left ; width: 100%}\n",
       "    .wandb-row { display: flex; flex-direction: row; flex-wrap: wrap; justify-content: flex-start; width: 100% }\n",
       "    .wandb-col { display: flex; flex-direction: column; flex-basis: 100%; flex: 1; padding: 10px; }\n",
       "    </style>\n",
       "<div class=\"wandb-row\"><div class=\"wandb-col\"><h3>Run history:</h3><br/><table class=\"wandb\"><tr><td>gcn/accuracy</td><td>▁</td></tr><tr><td>gcn/loss</td><td>████▇▇▇▆▇▆▆▆▅▅▆▅▅▄▄▄▄▄▄▄▃▃▃▂▂▂▂▃▂▂▂▂▁▁▁▁</td></tr></table><br/></div><div class=\"wandb-col\"><h3>Run summary:</h3><br/><table class=\"wandb\"><tr><td>gcn/accuracy</td><td>0.73626</td></tr><tr><td>gcn/loss</td><td>1.1125</td></tr></table><br/></div></div>"
      ],
      "text/plain": [
       "<IPython.core.display.HTML object>"
      ]
     },
     "metadata": {},
     "output_type": "display_data"
    },
    {
     "data": {
      "text/html": [
       "Synced <strong style=\"color:#cdcd00\">dauntless-sweep-17</strong>: <a href=\"https://wandb.ai/luxtu/node-classification/runs/465qo02g\" target=\"_blank\">https://wandb.ai/luxtu/node-classification/runs/465qo02g</a><br/>Synced 5 W&B file(s), 2 media file(s), 2 artifact file(s) and 0 other file(s)"
      ],
      "text/plain": [
       "<IPython.core.display.HTML object>"
      ]
     },
     "metadata": {},
     "output_type": "display_data"
    },
    {
     "data": {
      "text/html": [
       "Find logs at: <code>./wandb/run-20221104_105121-465qo02g/logs</code>"
      ],
      "text/plain": [
       "<IPython.core.display.HTML object>"
      ]
     },
     "metadata": {},
     "output_type": "display_data"
    },
    {
     "name": "stderr",
     "output_type": "stream",
     "text": [
      "wandb: Agent Starting Run: s2l9g5o7 with config:\n",
      "wandb: \thidden_channels: 8\n",
      "wandb: \tlr: 0.00011951245712329916\n",
      "wandb: \tweight_decay: 0.0005114071811365155\n"
     ]
    },
    {
     "data": {
      "text/html": [
       "Tracking run with wandb version 0.13.5"
      ],
      "text/plain": [
       "<IPython.core.display.HTML object>"
      ]
     },
     "metadata": {},
     "output_type": "display_data"
    },
    {
     "data": {
      "text/html": [
       "Run data is saved locally in <code>/home/laurin/Documents/network-eval/wandb/run-20221104_105138-s2l9g5o7</code>"
      ],
      "text/plain": [
       "<IPython.core.display.HTML object>"
      ]
     },
     "metadata": {},
     "output_type": "display_data"
    },
    {
     "data": {
      "text/html": [
       "Syncing run <strong><a href=\"https://wandb.ai/luxtu/node-classification/runs/s2l9g5o7\" target=\"_blank\">kind-sweep-18</a></strong> to <a href=\"https://wandb.ai/luxtu/node-classification\" target=\"_blank\">Weights & Biases</a> (<a href=\"https://wandb.me/run\" target=\"_blank\">docs</a>)<br/>Sweep page:  <a href=\"https://wandb.ai/luxtu/node-classification/sweeps/rdzqj7go\" target=\"_blank\">https://wandb.ai/luxtu/node-classification/sweeps/rdzqj7go</a>"
      ],
      "text/plain": [
       "<IPython.core.display.HTML object>"
      ]
     },
     "metadata": {},
     "output_type": "display_data"
    },
    {
     "name": "stderr",
     "output_type": "stream",
     "text": [
      "100%|██████████| 100/100 [00:02<00:00, 39.21it/s]\n"
     ]
    },
    {
     "data": {
      "text/html": [
       "Waiting for W&B process to finish... <strong style=\"color:green\">(success).</strong>"
      ],
      "text/plain": [
       "<IPython.core.display.HTML object>"
      ]
     },
     "metadata": {},
     "output_type": "display_data"
    },
    {
     "data": {
      "application/vnd.jupyter.widget-view+json": {
       "model_id": "2718e017e9d34f83b721c9f7c3ffb45d",
       "version_major": 2,
       "version_minor": 0
      },
      "text/plain": [
       "VBox(children=(Label(value='1.691 MB of 2.255 MB uploaded (0.000 MB deduped)\\r'), FloatProgress(value=0.749961…"
      ]
     },
     "metadata": {},
     "output_type": "display_data"
    },
    {
     "data": {
      "text/html": [
       "<style>\n",
       "    table.wandb td:nth-child(1) { padding: 0 10px; text-align: left ; width: auto;} td:nth-child(2) {text-align: left ; width: 100%}\n",
       "    .wandb-row { display: flex; flex-direction: row; flex-wrap: wrap; justify-content: flex-start; width: 100% }\n",
       "    .wandb-col { display: flex; flex-direction: column; flex-basis: 100%; flex: 1; padding: 10px; }\n",
       "    </style>\n",
       "<div class=\"wandb-row\"><div class=\"wandb-col\"><h3>Run history:</h3><br/><table class=\"wandb\"><tr><td>gcn/accuracy</td><td>▁</td></tr><tr><td>gcn/loss</td><td>█▆▇▅▆▆▆▅▅▆▅▅▅▄▄▄▄▅▅▅▄▅▃▅▃▃▄▃▃▄▃▂▂▂▂▂▃▁▁▁</td></tr></table><br/></div><div class=\"wandb-col\"><h3>Run summary:</h3><br/><table class=\"wandb\"><tr><td>gcn/accuracy</td><td>0.58242</td></tr><tr><td>gcn/loss</td><td>6.56757</td></tr></table><br/></div></div>"
      ],
      "text/plain": [
       "<IPython.core.display.HTML object>"
      ]
     },
     "metadata": {},
     "output_type": "display_data"
    },
    {
     "data": {
      "text/html": [
       "Synced <strong style=\"color:#cdcd00\">kind-sweep-18</strong>: <a href=\"https://wandb.ai/luxtu/node-classification/runs/s2l9g5o7\" target=\"_blank\">https://wandb.ai/luxtu/node-classification/runs/s2l9g5o7</a><br/>Synced 5 W&B file(s), 2 media file(s), 2 artifact file(s) and 0 other file(s)"
      ],
      "text/plain": [
       "<IPython.core.display.HTML object>"
      ]
     },
     "metadata": {},
     "output_type": "display_data"
    },
    {
     "data": {
      "text/html": [
       "Find logs at: <code>./wandb/run-20221104_105138-s2l9g5o7/logs</code>"
      ],
      "text/plain": [
       "<IPython.core.display.HTML object>"
      ]
     },
     "metadata": {},
     "output_type": "display_data"
    },
    {
     "name": "stderr",
     "output_type": "stream",
     "text": [
      "wandb: Sweep Agent: Waiting for job.\n",
      "wandb: Job received.\n",
      "wandb: Agent Starting Run: pkhi7t94 with config:\n",
      "wandb: \thidden_channels: 32\n",
      "wandb: \tlr: 0.0006120693033774266\n",
      "wandb: \tweight_decay: 0.0005175719846278698\n"
     ]
    },
    {
     "data": {
      "text/html": [
       "Tracking run with wandb version 0.13.5"
      ],
      "text/plain": [
       "<IPython.core.display.HTML object>"
      ]
     },
     "metadata": {},
     "output_type": "display_data"
    },
    {
     "data": {
      "text/html": [
       "Run data is saved locally in <code>/home/laurin/Documents/network-eval/wandb/run-20221104_105203-pkhi7t94</code>"
      ],
      "text/plain": [
       "<IPython.core.display.HTML object>"
      ]
     },
     "metadata": {},
     "output_type": "display_data"
    },
    {
     "data": {
      "text/html": [
       "Syncing run <strong><a href=\"https://wandb.ai/luxtu/node-classification/runs/pkhi7t94\" target=\"_blank\">feasible-sweep-19</a></strong> to <a href=\"https://wandb.ai/luxtu/node-classification\" target=\"_blank\">Weights & Biases</a> (<a href=\"https://wandb.me/run\" target=\"_blank\">docs</a>)<br/>Sweep page:  <a href=\"https://wandb.ai/luxtu/node-classification/sweeps/rdzqj7go\" target=\"_blank\">https://wandb.ai/luxtu/node-classification/sweeps/rdzqj7go</a>"
      ],
      "text/plain": [
       "<IPython.core.display.HTML object>"
      ]
     },
     "metadata": {},
     "output_type": "display_data"
    },
    {
     "name": "stderr",
     "output_type": "stream",
     "text": [
      "100%|██████████| 100/100 [00:03<00:00, 25.94it/s]\n"
     ]
    },
    {
     "data": {
      "text/html": [
       "Waiting for W&B process to finish... <strong style=\"color:green\">(success).</strong>"
      ],
      "text/plain": [
       "<IPython.core.display.HTML object>"
      ]
     },
     "metadata": {},
     "output_type": "display_data"
    },
    {
     "data": {
      "text/html": [
       "<style>\n",
       "    table.wandb td:nth-child(1) { padding: 0 10px; text-align: left ; width: auto;} td:nth-child(2) {text-align: left ; width: 100%}\n",
       "    .wandb-row { display: flex; flex-direction: row; flex-wrap: wrap; justify-content: flex-start; width: 100% }\n",
       "    .wandb-col { display: flex; flex-direction: column; flex-basis: 100%; flex: 1; padding: 10px; }\n",
       "    </style>\n",
       "<div class=\"wandb-row\"><div class=\"wandb-col\"><h3>Run history:</h3><br/><table class=\"wandb\"><tr><td>gcn/accuracy</td><td>▁</td></tr><tr><td>gcn/loss</td><td>█▇▆▆▅▅▄▄▄▃▃▃▂▂▂▂▂▂▂▂▂▁▁▂▁▁▁▁▁▁▁▁▁▁▁▁▁▁▁▁</td></tr></table><br/></div><div class=\"wandb-col\"><h3>Run summary:</h3><br/><table class=\"wandb\"><tr><td>gcn/accuracy</td><td>0.75458</td></tr><tr><td>gcn/loss</td><td>0.68121</td></tr></table><br/></div></div>"
      ],
      "text/plain": [
       "<IPython.core.display.HTML object>"
      ]
     },
     "metadata": {},
     "output_type": "display_data"
    },
    {
     "data": {
      "text/html": [
       "Synced <strong style=\"color:#cdcd00\">feasible-sweep-19</strong>: <a href=\"https://wandb.ai/luxtu/node-classification/runs/pkhi7t94\" target=\"_blank\">https://wandb.ai/luxtu/node-classification/runs/pkhi7t94</a><br/>Synced 5 W&B file(s), 2 media file(s), 2 artifact file(s) and 0 other file(s)"
      ],
      "text/plain": [
       "<IPython.core.display.HTML object>"
      ]
     },
     "metadata": {},
     "output_type": "display_data"
    },
    {
     "data": {
      "text/html": [
       "Find logs at: <code>./wandb/run-20221104_105203-pkhi7t94/logs</code>"
      ],
      "text/plain": [
       "<IPython.core.display.HTML object>"
      ]
     },
     "metadata": {},
     "output_type": "display_data"
    },
    {
     "name": "stderr",
     "output_type": "stream",
     "text": [
      "wandb: Agent Starting Run: mfibdfzi with config:\n",
      "wandb: \thidden_channels: 32\n",
      "wandb: \tlr: 0.00037010796819469895\n",
      "wandb: \tweight_decay: 0.000512025555690817\n"
     ]
    },
    {
     "data": {
      "text/html": [
       "Tracking run with wandb version 0.13.5"
      ],
      "text/plain": [
       "<IPython.core.display.HTML object>"
      ]
     },
     "metadata": {},
     "output_type": "display_data"
    },
    {
     "data": {
      "text/html": [
       "Run data is saved locally in <code>/home/laurin/Documents/network-eval/wandb/run-20221104_105225-mfibdfzi</code>"
      ],
      "text/plain": [
       "<IPython.core.display.HTML object>"
      ]
     },
     "metadata": {},
     "output_type": "display_data"
    },
    {
     "data": {
      "text/html": [
       "Syncing run <strong><a href=\"https://wandb.ai/luxtu/node-classification/runs/mfibdfzi\" target=\"_blank\">whole-sweep-20</a></strong> to <a href=\"https://wandb.ai/luxtu/node-classification\" target=\"_blank\">Weights & Biases</a> (<a href=\"https://wandb.me/run\" target=\"_blank\">docs</a>)<br/>Sweep page:  <a href=\"https://wandb.ai/luxtu/node-classification/sweeps/rdzqj7go\" target=\"_blank\">https://wandb.ai/luxtu/node-classification/sweeps/rdzqj7go</a>"
      ],
      "text/plain": [
       "<IPython.core.display.HTML object>"
      ]
     },
     "metadata": {},
     "output_type": "display_data"
    },
    {
     "name": "stderr",
     "output_type": "stream",
     "text": [
      "100%|██████████| 100/100 [00:04<00:00, 23.92it/s]\n"
     ]
    },
    {
     "data": {
      "text/html": [
       "Waiting for W&B process to finish... <strong style=\"color:green\">(success).</strong>"
      ],
      "text/plain": [
       "<IPython.core.display.HTML object>"
      ]
     },
     "metadata": {},
     "output_type": "display_data"
    },
    {
     "data": {
      "application/vnd.jupyter.widget-view+json": {
       "model_id": "5dbdf636eb5a469dbf31f2715c572099",
       "version_major": 2,
       "version_minor": 0
      },
      "text/plain": [
       "VBox(children=(Label(value='1.666 MB of 2.217 MB uploaded (0.000 MB deduped)\\r'), FloatProgress(value=0.751417…"
      ]
     },
     "metadata": {},
     "output_type": "display_data"
    },
    {
     "data": {
      "text/html": [
       "<style>\n",
       "    table.wandb td:nth-child(1) { padding: 0 10px; text-align: left ; width: auto;} td:nth-child(2) {text-align: left ; width: 100%}\n",
       "    .wandb-row { display: flex; flex-direction: row; flex-wrap: wrap; justify-content: flex-start; width: 100% }\n",
       "    .wandb-col { display: flex; flex-direction: column; flex-basis: 100%; flex: 1; padding: 10px; }\n",
       "    </style>\n",
       "<div class=\"wandb-row\"><div class=\"wandb-col\"><h3>Run history:</h3><br/><table class=\"wandb\"><tr><td>gcn/accuracy</td><td>▁</td></tr><tr><td>gcn/loss</td><td>██▇▇▆▆▆▅▅▄▄▄▄▃▃▃▃▃▂▂▂▂▂▂▂▂▂▁▁▁▁▁▁▁▁▁▁▁▁▁</td></tr></table><br/></div><div class=\"wandb-col\"><h3>Run summary:</h3><br/><table class=\"wandb\"><tr><td>gcn/accuracy</td><td>0.75018</td></tr><tr><td>gcn/loss</td><td>0.7514</td></tr></table><br/></div></div>"
      ],
      "text/plain": [
       "<IPython.core.display.HTML object>"
      ]
     },
     "metadata": {},
     "output_type": "display_data"
    },
    {
     "data": {
      "text/html": [
       "Synced <strong style=\"color:#cdcd00\">whole-sweep-20</strong>: <a href=\"https://wandb.ai/luxtu/node-classification/runs/mfibdfzi\" target=\"_blank\">https://wandb.ai/luxtu/node-classification/runs/mfibdfzi</a><br/>Synced 5 W&B file(s), 2 media file(s), 2 artifact file(s) and 0 other file(s)"
      ],
      "text/plain": [
       "<IPython.core.display.HTML object>"
      ]
     },
     "metadata": {},
     "output_type": "display_data"
    },
    {
     "data": {
      "text/html": [
       "Find logs at: <code>./wandb/run-20221104_105225-mfibdfzi/logs</code>"
      ],
      "text/plain": [
       "<IPython.core.display.HTML object>"
      ]
     },
     "metadata": {},
     "output_type": "display_data"
    },
    {
     "name": "stderr",
     "output_type": "stream",
     "text": [
      "wandb: Agent Starting Run: kjxzgl15 with config:\n",
      "wandb: \thidden_channels: 32\n",
      "wandb: \tlr: 0.0003002758691207804\n",
      "wandb: \tweight_decay: 0.0005151630442265222\n"
     ]
    },
    {
     "data": {
      "text/html": [
       "Tracking run with wandb version 0.13.5"
      ],
      "text/plain": [
       "<IPython.core.display.HTML object>"
      ]
     },
     "metadata": {},
     "output_type": "display_data"
    },
    {
     "data": {
      "text/html": [
       "Run data is saved locally in <code>/home/laurin/Documents/network-eval/wandb/run-20221104_105240-kjxzgl15</code>"
      ],
      "text/plain": [
       "<IPython.core.display.HTML object>"
      ]
     },
     "metadata": {},
     "output_type": "display_data"
    },
    {
     "data": {
      "text/html": [
       "Syncing run <strong><a href=\"https://wandb.ai/luxtu/node-classification/runs/kjxzgl15\" target=\"_blank\">drawn-sweep-21</a></strong> to <a href=\"https://wandb.ai/luxtu/node-classification\" target=\"_blank\">Weights & Biases</a> (<a href=\"https://wandb.me/run\" target=\"_blank\">docs</a>)<br/>Sweep page:  <a href=\"https://wandb.ai/luxtu/node-classification/sweeps/rdzqj7go\" target=\"_blank\">https://wandb.ai/luxtu/node-classification/sweeps/rdzqj7go</a>"
      ],
      "text/plain": [
       "<IPython.core.display.HTML object>"
      ]
     },
     "metadata": {},
     "output_type": "display_data"
    },
    {
     "name": "stderr",
     "output_type": "stream",
     "text": [
      "100%|██████████| 100/100 [00:03<00:00, 25.65it/s]\n"
     ]
    },
    {
     "data": {
      "text/html": [
       "Waiting for W&B process to finish... <strong style=\"color:green\">(success).</strong>"
      ],
      "text/plain": [
       "<IPython.core.display.HTML object>"
      ]
     },
     "metadata": {},
     "output_type": "display_data"
    },
    {
     "data": {
      "application/vnd.jupyter.widget-view+json": {
       "model_id": "fa945ae029e040df9bab3d0407853b80",
       "version_major": 2,
       "version_minor": 0
      },
      "text/plain": [
       "VBox(children=(Label(value='1.665 MB of 2.216 MB uploaded (0.000 MB deduped)\\r'), FloatProgress(value=0.751530…"
      ]
     },
     "metadata": {},
     "output_type": "display_data"
    },
    {
     "data": {
      "text/html": [
       "<style>\n",
       "    table.wandb td:nth-child(1) { padding: 0 10px; text-align: left ; width: auto;} td:nth-child(2) {text-align: left ; width: 100%}\n",
       "    .wandb-row { display: flex; flex-direction: row; flex-wrap: wrap; justify-content: flex-start; width: 100% }\n",
       "    .wandb-col { display: flex; flex-direction: column; flex-basis: 100%; flex: 1; padding: 10px; }\n",
       "    </style>\n",
       "<div class=\"wandb-row\"><div class=\"wandb-col\"><h3>Run history:</h3><br/><table class=\"wandb\"><tr><td>gcn/accuracy</td><td>▁</td></tr><tr><td>gcn/loss</td><td>██▇▇▆▆▆▅▅▅▅▄▄▄▄▃▃▃▃▃▂▂▂▂▂▂▂▂▂▂▁▂▂▂▁▁▁▁▁▁</td></tr></table><br/></div><div class=\"wandb-col\"><h3>Run summary:</h3><br/><table class=\"wandb\"><tr><td>gcn/accuracy</td><td>0.75385</td></tr><tr><td>gcn/loss</td><td>0.79336</td></tr></table><br/></div></div>"
      ],
      "text/plain": [
       "<IPython.core.display.HTML object>"
      ]
     },
     "metadata": {},
     "output_type": "display_data"
    },
    {
     "data": {
      "text/html": [
       "Synced <strong style=\"color:#cdcd00\">drawn-sweep-21</strong>: <a href=\"https://wandb.ai/luxtu/node-classification/runs/kjxzgl15\" target=\"_blank\">https://wandb.ai/luxtu/node-classification/runs/kjxzgl15</a><br/>Synced 5 W&B file(s), 2 media file(s), 2 artifact file(s) and 0 other file(s)"
      ],
      "text/plain": [
       "<IPython.core.display.HTML object>"
      ]
     },
     "metadata": {},
     "output_type": "display_data"
    },
    {
     "data": {
      "text/html": [
       "Find logs at: <code>./wandb/run-20221104_105240-kjxzgl15/logs</code>"
      ],
      "text/plain": [
       "<IPython.core.display.HTML object>"
      ]
     },
     "metadata": {},
     "output_type": "display_data"
    },
    {
     "name": "stderr",
     "output_type": "stream",
     "text": [
      "wandb: Agent Starting Run: e5ekci0w with config:\n",
      "wandb: \thidden_channels: 32\n",
      "wandb: \tlr: 0.0009942907785336122\n",
      "wandb: \tweight_decay: 0.0004961508093565711\n"
     ]
    },
    {
     "data": {
      "text/html": [
       "Tracking run with wandb version 0.13.5"
      ],
      "text/plain": [
       "<IPython.core.display.HTML object>"
      ]
     },
     "metadata": {},
     "output_type": "display_data"
    },
    {
     "data": {
      "text/html": [
       "Run data is saved locally in <code>/home/laurin/Documents/network-eval/wandb/run-20221104_105256-e5ekci0w</code>"
      ],
      "text/plain": [
       "<IPython.core.display.HTML object>"
      ]
     },
     "metadata": {},
     "output_type": "display_data"
    },
    {
     "data": {
      "text/html": [
       "Syncing run <strong><a href=\"https://wandb.ai/luxtu/node-classification/runs/e5ekci0w\" target=\"_blank\">valiant-sweep-22</a></strong> to <a href=\"https://wandb.ai/luxtu/node-classification\" target=\"_blank\">Weights & Biases</a> (<a href=\"https://wandb.me/run\" target=\"_blank\">docs</a>)<br/>Sweep page:  <a href=\"https://wandb.ai/luxtu/node-classification/sweeps/rdzqj7go\" target=\"_blank\">https://wandb.ai/luxtu/node-classification/sweeps/rdzqj7go</a>"
      ],
      "text/plain": [
       "<IPython.core.display.HTML object>"
      ]
     },
     "metadata": {},
     "output_type": "display_data"
    },
    {
     "name": "stderr",
     "output_type": "stream",
     "text": [
      "100%|██████████| 100/100 [00:03<00:00, 25.81it/s]\n"
     ]
    },
    {
     "data": {
      "text/html": [
       "Waiting for W&B process to finish... <strong style=\"color:green\">(success).</strong>"
      ],
      "text/plain": [
       "<IPython.core.display.HTML object>"
      ]
     },
     "metadata": {},
     "output_type": "display_data"
    },
    {
     "data": {
      "application/vnd.jupyter.widget-view+json": {
       "model_id": "2362056d03be485cb7e0eea4b52cd720",
       "version_major": 2,
       "version_minor": 0
      },
      "text/plain": [
       "VBox(children=(Label(value='1.673 MB of 2.232 MB uploaded (0.000 MB deduped)\\r'), FloatProgress(value=0.749717…"
      ]
     },
     "metadata": {},
     "output_type": "display_data"
    },
    {
     "data": {
      "text/html": [
       "<style>\n",
       "    table.wandb td:nth-child(1) { padding: 0 10px; text-align: left ; width: auto;} td:nth-child(2) {text-align: left ; width: 100%}\n",
       "    .wandb-row { display: flex; flex-direction: row; flex-wrap: wrap; justify-content: flex-start; width: 100% }\n",
       "    .wandb-col { display: flex; flex-direction: column; flex-basis: 100%; flex: 1; padding: 10px; }\n",
       "    </style>\n",
       "<div class=\"wandb-row\"><div class=\"wandb-col\"><h3>Run history:</h3><br/><table class=\"wandb\"><tr><td>gcn/accuracy</td><td>▁</td></tr><tr><td>gcn/loss</td><td>█▇▆▅▄▄▃▃▂▂▂▂▂▂▂▁▁▁▁▁▁▁▁▁▁▁▁▁▁▁▁▁▁▁▁▁▁▁▁▁</td></tr></table><br/></div><div class=\"wandb-col\"><h3>Run summary:</h3><br/><table class=\"wandb\"><tr><td>gcn/accuracy</td><td>0.75385</td></tr><tr><td>gcn/loss</td><td>0.64821</td></tr></table><br/></div></div>"
      ],
      "text/plain": [
       "<IPython.core.display.HTML object>"
      ]
     },
     "metadata": {},
     "output_type": "display_data"
    },
    {
     "data": {
      "text/html": [
       "Synced <strong style=\"color:#cdcd00\">valiant-sweep-22</strong>: <a href=\"https://wandb.ai/luxtu/node-classification/runs/e5ekci0w\" target=\"_blank\">https://wandb.ai/luxtu/node-classification/runs/e5ekci0w</a><br/>Synced 5 W&B file(s), 2 media file(s), 2 artifact file(s) and 0 other file(s)"
      ],
      "text/plain": [
       "<IPython.core.display.HTML object>"
      ]
     },
     "metadata": {},
     "output_type": "display_data"
    },
    {
     "data": {
      "text/html": [
       "Find logs at: <code>./wandb/run-20221104_105256-e5ekci0w/logs</code>"
      ],
      "text/plain": [
       "<IPython.core.display.HTML object>"
      ]
     },
     "metadata": {},
     "output_type": "display_data"
    },
    {
     "name": "stderr",
     "output_type": "stream",
     "text": [
      "wandb: Agent Starting Run: jeku7dwv with config:\n",
      "wandb: \thidden_channels: 32\n",
      "wandb: \tlr: 0.000982582365558366\n",
      "wandb: \tweight_decay: 0.0005000044569923301\n"
     ]
    },
    {
     "data": {
      "text/html": [
       "Tracking run with wandb version 0.13.5"
      ],
      "text/plain": [
       "<IPython.core.display.HTML object>"
      ]
     },
     "metadata": {},
     "output_type": "display_data"
    },
    {
     "data": {
      "text/html": [
       "Run data is saved locally in <code>/home/laurin/Documents/network-eval/wandb/run-20221104_105313-jeku7dwv</code>"
      ],
      "text/plain": [
       "<IPython.core.display.HTML object>"
      ]
     },
     "metadata": {},
     "output_type": "display_data"
    },
    {
     "data": {
      "text/html": [
       "Syncing run <strong><a href=\"https://wandb.ai/luxtu/node-classification/runs/jeku7dwv\" target=\"_blank\">wandering-sweep-23</a></strong> to <a href=\"https://wandb.ai/luxtu/node-classification\" target=\"_blank\">Weights & Biases</a> (<a href=\"https://wandb.me/run\" target=\"_blank\">docs</a>)<br/>Sweep page:  <a href=\"https://wandb.ai/luxtu/node-classification/sweeps/rdzqj7go\" target=\"_blank\">https://wandb.ai/luxtu/node-classification/sweeps/rdzqj7go</a>"
      ],
      "text/plain": [
       "<IPython.core.display.HTML object>"
      ]
     },
     "metadata": {},
     "output_type": "display_data"
    },
    {
     "name": "stderr",
     "output_type": "stream",
     "text": [
      "100%|██████████| 100/100 [00:03<00:00, 26.33it/s]\n"
     ]
    },
    {
     "data": {
      "text/html": [
       "Waiting for W&B process to finish... <strong style=\"color:green\">(success).</strong>"
      ],
      "text/plain": [
       "<IPython.core.display.HTML object>"
      ]
     },
     "metadata": {},
     "output_type": "display_data"
    },
    {
     "data": {
      "application/vnd.jupyter.widget-view+json": {
       "model_id": "66f7f9fd35bf416ca4a2e8f1edbb23db",
       "version_major": 2,
       "version_minor": 0
      },
      "text/plain": [
       "VBox(children=(Label(value='1.673 MB of 2.232 MB uploaded (0.000 MB deduped)\\r'), FloatProgress(value=0.749713…"
      ]
     },
     "metadata": {},
     "output_type": "display_data"
    },
    {
     "data": {
      "text/html": [
       "<style>\n",
       "    table.wandb td:nth-child(1) { padding: 0 10px; text-align: left ; width: auto;} td:nth-child(2) {text-align: left ; width: 100%}\n",
       "    .wandb-row { display: flex; flex-direction: row; flex-wrap: wrap; justify-content: flex-start; width: 100% }\n",
       "    .wandb-col { display: flex; flex-direction: column; flex-basis: 100%; flex: 1; padding: 10px; }\n",
       "    </style>\n",
       "<div class=\"wandb-row\"><div class=\"wandb-col\"><h3>Run history:</h3><br/><table class=\"wandb\"><tr><td>gcn/accuracy</td><td>▁</td></tr><tr><td>gcn/loss</td><td>█▇▆▅▄▄▃▃▂▂▂▂▂▂▂▁▁▁▁▁▁▁▁▁▁▁▁▁▁▁▁▁▁▁▁▁▁▁▁▁</td></tr></table><br/></div><div class=\"wandb-col\"><h3>Run summary:</h3><br/><table class=\"wandb\"><tr><td>gcn/accuracy</td><td>0.75385</td></tr><tr><td>gcn/loss</td><td>0.64895</td></tr></table><br/></div></div>"
      ],
      "text/plain": [
       "<IPython.core.display.HTML object>"
      ]
     },
     "metadata": {},
     "output_type": "display_data"
    },
    {
     "data": {
      "text/html": [
       "Synced <strong style=\"color:#cdcd00\">wandering-sweep-23</strong>: <a href=\"https://wandb.ai/luxtu/node-classification/runs/jeku7dwv\" target=\"_blank\">https://wandb.ai/luxtu/node-classification/runs/jeku7dwv</a><br/>Synced 5 W&B file(s), 2 media file(s), 2 artifact file(s) and 0 other file(s)"
      ],
      "text/plain": [
       "<IPython.core.display.HTML object>"
      ]
     },
     "metadata": {},
     "output_type": "display_data"
    },
    {
     "data": {
      "text/html": [
       "Find logs at: <code>./wandb/run-20221104_105313-jeku7dwv/logs</code>"
      ],
      "text/plain": [
       "<IPython.core.display.HTML object>"
      ]
     },
     "metadata": {},
     "output_type": "display_data"
    },
    {
     "name": "stderr",
     "output_type": "stream",
     "text": [
      "wandb: Agent Starting Run: a35fndue with config:\n",
      "wandb: \thidden_channels: 32\n",
      "wandb: \tlr: 0.0008286460240814292\n",
      "wandb: \tweight_decay: 0.0005273230704690487\n"
     ]
    },
    {
     "data": {
      "text/html": [
       "Tracking run with wandb version 0.13.5"
      ],
      "text/plain": [
       "<IPython.core.display.HTML object>"
      ]
     },
     "metadata": {},
     "output_type": "display_data"
    },
    {
     "data": {
      "text/html": [
       "Run data is saved locally in <code>/home/laurin/Documents/network-eval/wandb/run-20221104_105328-a35fndue</code>"
      ],
      "text/plain": [
       "<IPython.core.display.HTML object>"
      ]
     },
     "metadata": {},
     "output_type": "display_data"
    },
    {
     "data": {
      "text/html": [
       "Syncing run <strong><a href=\"https://wandb.ai/luxtu/node-classification/runs/a35fndue\" target=\"_blank\">dainty-sweep-24</a></strong> to <a href=\"https://wandb.ai/luxtu/node-classification\" target=\"_blank\">Weights & Biases</a> (<a href=\"https://wandb.me/run\" target=\"_blank\">docs</a>)<br/>Sweep page:  <a href=\"https://wandb.ai/luxtu/node-classification/sweeps/rdzqj7go\" target=\"_blank\">https://wandb.ai/luxtu/node-classification/sweeps/rdzqj7go</a>"
      ],
      "text/plain": [
       "<IPython.core.display.HTML object>"
      ]
     },
     "metadata": {},
     "output_type": "display_data"
    },
    {
     "name": "stderr",
     "output_type": "stream",
     "text": [
      "100%|██████████| 100/100 [00:03<00:00, 25.33it/s]\n"
     ]
    },
    {
     "data": {
      "text/html": [
       "Waiting for W&B process to finish... <strong style=\"color:green\">(success).</strong>"
      ],
      "text/plain": [
       "<IPython.core.display.HTML object>"
      ]
     },
     "metadata": {},
     "output_type": "display_data"
    },
    {
     "data": {
      "text/html": [
       "<style>\n",
       "    table.wandb td:nth-child(1) { padding: 0 10px; text-align: left ; width: auto;} td:nth-child(2) {text-align: left ; width: 100%}\n",
       "    .wandb-row { display: flex; flex-direction: row; flex-wrap: wrap; justify-content: flex-start; width: 100% }\n",
       "    .wandb-col { display: flex; flex-direction: column; flex-basis: 100%; flex: 1; padding: 10px; }\n",
       "    </style>\n",
       "<div class=\"wandb-row\"><div class=\"wandb-col\"><h3>Run history:</h3><br/><table class=\"wandb\"><tr><td>gcn/accuracy</td><td>▁</td></tr><tr><td>gcn/loss</td><td>█▇▆▆▄▄▄▃▃▂▂▂▂▂▂▂▁▁▁▁▁▁▁▁▁▁▁▁▁▁▁▁▁▁▁▁▁▁▁▁</td></tr></table><br/></div><div class=\"wandb-col\"><h3>Run summary:</h3><br/><table class=\"wandb\"><tr><td>gcn/accuracy</td><td>0.75385</td></tr><tr><td>gcn/loss</td><td>0.65945</td></tr></table><br/></div></div>"
      ],
      "text/plain": [
       "<IPython.core.display.HTML object>"
      ]
     },
     "metadata": {},
     "output_type": "display_data"
    },
    {
     "data": {
      "text/html": [
       "Synced <strong style=\"color:#cdcd00\">dainty-sweep-24</strong>: <a href=\"https://wandb.ai/luxtu/node-classification/runs/a35fndue\" target=\"_blank\">https://wandb.ai/luxtu/node-classification/runs/a35fndue</a><br/>Synced 5 W&B file(s), 2 media file(s), 2 artifact file(s) and 0 other file(s)"
      ],
      "text/plain": [
       "<IPython.core.display.HTML object>"
      ]
     },
     "metadata": {},
     "output_type": "display_data"
    },
    {
     "data": {
      "text/html": [
       "Find logs at: <code>./wandb/run-20221104_105328-a35fndue/logs</code>"
      ],
      "text/plain": [
       "<IPython.core.display.HTML object>"
      ]
     },
     "metadata": {},
     "output_type": "display_data"
    },
    {
     "name": "stderr",
     "output_type": "stream",
     "text": [
      "wandb: Agent Starting Run: x1e4728a with config:\n",
      "wandb: \thidden_channels: 32\n",
      "wandb: \tlr: 0.00029486807553957855\n",
      "wandb: \tweight_decay: 0.0005039348158430022\n"
     ]
    },
    {
     "data": {
      "text/html": [
       "Tracking run with wandb version 0.13.5"
      ],
      "text/plain": [
       "<IPython.core.display.HTML object>"
      ]
     },
     "metadata": {},
     "output_type": "display_data"
    },
    {
     "data": {
      "text/html": [
       "Run data is saved locally in <code>/home/laurin/Documents/network-eval/wandb/run-20221104_105344-x1e4728a</code>"
      ],
      "text/plain": [
       "<IPython.core.display.HTML object>"
      ]
     },
     "metadata": {},
     "output_type": "display_data"
    },
    {
     "data": {
      "text/html": [
       "Syncing run <strong><a href=\"https://wandb.ai/luxtu/node-classification/runs/x1e4728a\" target=\"_blank\">resilient-sweep-25</a></strong> to <a href=\"https://wandb.ai/luxtu/node-classification\" target=\"_blank\">Weights & Biases</a> (<a href=\"https://wandb.me/run\" target=\"_blank\">docs</a>)<br/>Sweep page:  <a href=\"https://wandb.ai/luxtu/node-classification/sweeps/rdzqj7go\" target=\"_blank\">https://wandb.ai/luxtu/node-classification/sweeps/rdzqj7go</a>"
      ],
      "text/plain": [
       "<IPython.core.display.HTML object>"
      ]
     },
     "metadata": {},
     "output_type": "display_data"
    },
    {
     "name": "stderr",
     "output_type": "stream",
     "text": [
      "100%|██████████| 100/100 [00:03<00:00, 27.65it/s]\n"
     ]
    },
    {
     "data": {
      "text/html": [
       "Waiting for W&B process to finish... <strong style=\"color:green\">(success).</strong>"
      ],
      "text/plain": [
       "<IPython.core.display.HTML object>"
      ]
     },
     "metadata": {},
     "output_type": "display_data"
    },
    {
     "data": {
      "text/html": [
       "<style>\n",
       "    table.wandb td:nth-child(1) { padding: 0 10px; text-align: left ; width: auto;} td:nth-child(2) {text-align: left ; width: 100%}\n",
       "    .wandb-row { display: flex; flex-direction: row; flex-wrap: wrap; justify-content: flex-start; width: 100% }\n",
       "    .wandb-col { display: flex; flex-direction: column; flex-basis: 100%; flex: 1; padding: 10px; }\n",
       "    </style>\n",
       "<div class=\"wandb-row\"><div class=\"wandb-col\"><h3>Run history:</h3><br/><table class=\"wandb\"><tr><td>gcn/accuracy</td><td>▁</td></tr><tr><td>gcn/loss</td><td>██▇▇▆▆▆▅▅▅▅▄▄▄▄▄▃▃▃▃▃▂▂▂▂▂▂▂▂▂▁▂▂▂▁▁▁▁▁▁</td></tr></table><br/></div><div class=\"wandb-col\"><h3>Run summary:</h3><br/><table class=\"wandb\"><tr><td>gcn/accuracy</td><td>0.75458</td></tr><tr><td>gcn/loss</td><td>0.79762</td></tr></table><br/></div></div>"
      ],
      "text/plain": [
       "<IPython.core.display.HTML object>"
      ]
     },
     "metadata": {},
     "output_type": "display_data"
    },
    {
     "data": {
      "text/html": [
       "Synced <strong style=\"color:#cdcd00\">resilient-sweep-25</strong>: <a href=\"https://wandb.ai/luxtu/node-classification/runs/x1e4728a\" target=\"_blank\">https://wandb.ai/luxtu/node-classification/runs/x1e4728a</a><br/>Synced 5 W&B file(s), 2 media file(s), 2 artifact file(s) and 0 other file(s)"
      ],
      "text/plain": [
       "<IPython.core.display.HTML object>"
      ]
     },
     "metadata": {},
     "output_type": "display_data"
    },
    {
     "data": {
      "text/html": [
       "Find logs at: <code>./wandb/run-20221104_105344-x1e4728a/logs</code>"
      ],
      "text/plain": [
       "<IPython.core.display.HTML object>"
      ]
     },
     "metadata": {},
     "output_type": "display_data"
    },
    {
     "name": "stderr",
     "output_type": "stream",
     "text": [
      "wandb: Agent Starting Run: b198554t with config:\n",
      "wandb: \thidden_channels: 8\n",
      "wandb: \tlr: 0.00010285629317857155\n",
      "wandb: \tweight_decay: 0.0004854221178907864\n"
     ]
    },
    {
     "data": {
      "text/html": [
       "Tracking run with wandb version 0.13.5"
      ],
      "text/plain": [
       "<IPython.core.display.HTML object>"
      ]
     },
     "metadata": {},
     "output_type": "display_data"
    },
    {
     "data": {
      "text/html": [
       "Run data is saved locally in <code>/home/laurin/Documents/network-eval/wandb/run-20221104_105400-b198554t</code>"
      ],
      "text/plain": [
       "<IPython.core.display.HTML object>"
      ]
     },
     "metadata": {},
     "output_type": "display_data"
    },
    {
     "data": {
      "text/html": [
       "Syncing run <strong><a href=\"https://wandb.ai/luxtu/node-classification/runs/b198554t\" target=\"_blank\">vibrant-sweep-26</a></strong> to <a href=\"https://wandb.ai/luxtu/node-classification\" target=\"_blank\">Weights & Biases</a> (<a href=\"https://wandb.me/run\" target=\"_blank\">docs</a>)<br/>Sweep page:  <a href=\"https://wandb.ai/luxtu/node-classification/sweeps/rdzqj7go\" target=\"_blank\">https://wandb.ai/luxtu/node-classification/sweeps/rdzqj7go</a>"
      ],
      "text/plain": [
       "<IPython.core.display.HTML object>"
      ]
     },
     "metadata": {},
     "output_type": "display_data"
    },
    {
     "name": "stderr",
     "output_type": "stream",
     "text": [
      "100%|██████████| 100/100 [00:02<00:00, 35.17it/s]\n"
     ]
    },
    {
     "data": {
      "text/html": [
       "Waiting for W&B process to finish... <strong style=\"color:green\">(success).</strong>"
      ],
      "text/plain": [
       "<IPython.core.display.HTML object>"
      ]
     },
     "metadata": {},
     "output_type": "display_data"
    },
    {
     "data": {
      "application/vnd.jupyter.widget-view+json": {
       "model_id": "5dd71ec9dd54406f889313d416be5ad1",
       "version_major": 2,
       "version_minor": 0
      },
      "text/plain": [
       "VBox(children=(Label(value='1.691 MB of 2.254 MB uploaded (0.000 MB deduped)\\r'), FloatProgress(value=0.750013…"
      ]
     },
     "metadata": {},
     "output_type": "display_data"
    },
    {
     "data": {
      "text/html": [
       "<style>\n",
       "    table.wandb td:nth-child(1) { padding: 0 10px; text-align: left ; width: auto;} td:nth-child(2) {text-align: left ; width: 100%}\n",
       "    .wandb-row { display: flex; flex-direction: row; flex-wrap: wrap; justify-content: flex-start; width: 100% }\n",
       "    .wandb-col { display: flex; flex-direction: column; flex-basis: 100%; flex: 1; padding: 10px; }\n",
       "    </style>\n",
       "<div class=\"wandb-row\"><div class=\"wandb-col\"><h3>Run history:</h3><br/><table class=\"wandb\"><tr><td>gcn/accuracy</td><td>▁</td></tr><tr><td>gcn/loss</td><td>█▅▇▅▆▆▆▅▅▆▅▅▅▄▄▄▄▅▅▅▄▅▃▅▃▃▄▃▃▄▃▂▂▂▂▂▃▁▁▂</td></tr></table><br/></div><div class=\"wandb-col\"><h3>Run summary:</h3><br/><table class=\"wandb\"><tr><td>gcn/accuracy</td><td>0.58242</td></tr><tr><td>gcn/loss</td><td>6.66162</td></tr></table><br/></div></div>"
      ],
      "text/plain": [
       "<IPython.core.display.HTML object>"
      ]
     },
     "metadata": {},
     "output_type": "display_data"
    },
    {
     "data": {
      "text/html": [
       "Synced <strong style=\"color:#cdcd00\">vibrant-sweep-26</strong>: <a href=\"https://wandb.ai/luxtu/node-classification/runs/b198554t\" target=\"_blank\">https://wandb.ai/luxtu/node-classification/runs/b198554t</a><br/>Synced 5 W&B file(s), 2 media file(s), 2 artifact file(s) and 0 other file(s)"
      ],
      "text/plain": [
       "<IPython.core.display.HTML object>"
      ]
     },
     "metadata": {},
     "output_type": "display_data"
    },
    {
     "data": {
      "text/html": [
       "Find logs at: <code>./wandb/run-20221104_105400-b198554t/logs</code>"
      ],
      "text/plain": [
       "<IPython.core.display.HTML object>"
      ]
     },
     "metadata": {},
     "output_type": "display_data"
    },
    {
     "name": "stderr",
     "output_type": "stream",
     "text": [
      "wandb: Agent Starting Run: ouosjmdn with config:\n",
      "wandb: \thidden_channels: 32\n",
      "wandb: \tlr: 0.00027967167275271806\n",
      "wandb: \tweight_decay: 0.000498756167419122\n"
     ]
    },
    {
     "data": {
      "text/html": [
       "Tracking run with wandb version 0.13.5"
      ],
      "text/plain": [
       "<IPython.core.display.HTML object>"
      ]
     },
     "metadata": {},
     "output_type": "display_data"
    },
    {
     "data": {
      "text/html": [
       "Run data is saved locally in <code>/home/laurin/Documents/network-eval/wandb/run-20221104_105416-ouosjmdn</code>"
      ],
      "text/plain": [
       "<IPython.core.display.HTML object>"
      ]
     },
     "metadata": {},
     "output_type": "display_data"
    },
    {
     "data": {
      "text/html": [
       "Syncing run <strong><a href=\"https://wandb.ai/luxtu/node-classification/runs/ouosjmdn\" target=\"_blank\">vibrant-sweep-27</a></strong> to <a href=\"https://wandb.ai/luxtu/node-classification\" target=\"_blank\">Weights & Biases</a> (<a href=\"https://wandb.me/run\" target=\"_blank\">docs</a>)<br/>Sweep page:  <a href=\"https://wandb.ai/luxtu/node-classification/sweeps/rdzqj7go\" target=\"_blank\">https://wandb.ai/luxtu/node-classification/sweeps/rdzqj7go</a>"
      ],
      "text/plain": [
       "<IPython.core.display.HTML object>"
      ]
     },
     "metadata": {},
     "output_type": "display_data"
    },
    {
     "name": "stderr",
     "output_type": "stream",
     "text": [
      "100%|██████████| 100/100 [00:04<00:00, 22.70it/s]\n"
     ]
    },
    {
     "data": {
      "text/html": [
       "Waiting for W&B process to finish... <strong style=\"color:green\">(success).</strong>"
      ],
      "text/plain": [
       "<IPython.core.display.HTML object>"
      ]
     },
     "metadata": {},
     "output_type": "display_data"
    },
    {
     "data": {
      "application/vnd.jupyter.widget-view+json": {
       "model_id": "98def0cae3d34490b2b62a07fb3c9f19",
       "version_major": 2,
       "version_minor": 0
      },
      "text/plain": [
       "VBox(children=(Label(value='1.665 MB of 2.216 MB uploaded (0.000 MB deduped)\\r'), FloatProgress(value=0.751513…"
      ]
     },
     "metadata": {},
     "output_type": "display_data"
    },
    {
     "data": {
      "text/html": [
       "<style>\n",
       "    table.wandb td:nth-child(1) { padding: 0 10px; text-align: left ; width: auto;} td:nth-child(2) {text-align: left ; width: 100%}\n",
       "    .wandb-row { display: flex; flex-direction: row; flex-wrap: wrap; justify-content: flex-start; width: 100% }\n",
       "    .wandb-col { display: flex; flex-direction: column; flex-basis: 100%; flex: 1; padding: 10px; }\n",
       "    </style>\n",
       "<div class=\"wandb-row\"><div class=\"wandb-col\"><h3>Run history:</h3><br/><table class=\"wandb\"><tr><td>gcn/accuracy</td><td>▁</td></tr><tr><td>gcn/loss</td><td>██▇▇▆▆▆▅▅▅▅▄▄▄▄▄▃▃▃▃▃▂▂▃▂▂▂▂▂▂▁▂▂▂▁▁▁▁▁▁</td></tr></table><br/></div><div class=\"wandb-col\"><h3>Run summary:</h3><br/><table class=\"wandb\"><tr><td>gcn/accuracy</td><td>0.75385</td></tr><tr><td>gcn/loss</td><td>0.81064</td></tr></table><br/></div></div>"
      ],
      "text/plain": [
       "<IPython.core.display.HTML object>"
      ]
     },
     "metadata": {},
     "output_type": "display_data"
    },
    {
     "data": {
      "text/html": [
       "Synced <strong style=\"color:#cdcd00\">vibrant-sweep-27</strong>: <a href=\"https://wandb.ai/luxtu/node-classification/runs/ouosjmdn\" target=\"_blank\">https://wandb.ai/luxtu/node-classification/runs/ouosjmdn</a><br/>Synced 5 W&B file(s), 2 media file(s), 2 artifact file(s) and 0 other file(s)"
      ],
      "text/plain": [
       "<IPython.core.display.HTML object>"
      ]
     },
     "metadata": {},
     "output_type": "display_data"
    },
    {
     "data": {
      "text/html": [
       "Find logs at: <code>./wandb/run-20221104_105416-ouosjmdn/logs</code>"
      ],
      "text/plain": [
       "<IPython.core.display.HTML object>"
      ]
     },
     "metadata": {},
     "output_type": "display_data"
    },
    {
     "name": "stderr",
     "output_type": "stream",
     "text": [
      "wandb: Agent Starting Run: v8sxdvzg with config:\n",
      "wandb: \thidden_channels: 32\n",
      "wandb: \tlr: 0.0009674159427705092\n",
      "wandb: \tweight_decay: 0.000492395213676577\n"
     ]
    },
    {
     "data": {
      "text/html": [
       "Tracking run with wandb version 0.13.5"
      ],
      "text/plain": [
       "<IPython.core.display.HTML object>"
      ]
     },
     "metadata": {},
     "output_type": "display_data"
    },
    {
     "data": {
      "text/html": [
       "Run data is saved locally in <code>/home/laurin/Documents/network-eval/wandb/run-20221104_105432-v8sxdvzg</code>"
      ],
      "text/plain": [
       "<IPython.core.display.HTML object>"
      ]
     },
     "metadata": {},
     "output_type": "display_data"
    },
    {
     "data": {
      "text/html": [
       "Syncing run <strong><a href=\"https://wandb.ai/luxtu/node-classification/runs/v8sxdvzg\" target=\"_blank\">still-sweep-28</a></strong> to <a href=\"https://wandb.ai/luxtu/node-classification\" target=\"_blank\">Weights & Biases</a> (<a href=\"https://wandb.me/run\" target=\"_blank\">docs</a>)<br/>Sweep page:  <a href=\"https://wandb.ai/luxtu/node-classification/sweeps/rdzqj7go\" target=\"_blank\">https://wandb.ai/luxtu/node-classification/sweeps/rdzqj7go</a>"
      ],
      "text/plain": [
       "<IPython.core.display.HTML object>"
      ]
     },
     "metadata": {},
     "output_type": "display_data"
    },
    {
     "name": "stderr",
     "output_type": "stream",
     "text": [
      "100%|██████████| 100/100 [00:04<00:00, 21.36it/s]\n"
     ]
    },
    {
     "data": {
      "text/html": [
       "Waiting for W&B process to finish... <strong style=\"color:green\">(success).</strong>"
      ],
      "text/plain": [
       "<IPython.core.display.HTML object>"
      ]
     },
     "metadata": {},
     "output_type": "display_data"
    },
    {
     "data": {
      "text/html": [
       "<style>\n",
       "    table.wandb td:nth-child(1) { padding: 0 10px; text-align: left ; width: auto;} td:nth-child(2) {text-align: left ; width: 100%}\n",
       "    .wandb-row { display: flex; flex-direction: row; flex-wrap: wrap; justify-content: flex-start; width: 100% }\n",
       "    .wandb-col { display: flex; flex-direction: column; flex-basis: 100%; flex: 1; padding: 10px; }\n",
       "    </style>\n",
       "<div class=\"wandb-row\"><div class=\"wandb-col\"><h3>Run history:</h3><br/><table class=\"wandb\"><tr><td>gcn/accuracy</td><td>▁</td></tr><tr><td>gcn/loss</td><td>█▇▆▅▄▄▃▃▃▂▂▂▂▂▂▂▁▁▁▁▁▁▁▁▁▁▁▁▁▁▁▁▁▁▁▁▁▁▁▁</td></tr></table><br/></div><div class=\"wandb-col\"><h3>Run summary:</h3><br/><table class=\"wandb\"><tr><td>gcn/accuracy</td><td>0.75311</td></tr><tr><td>gcn/loss</td><td>0.6499</td></tr></table><br/></div></div>"
      ],
      "text/plain": [
       "<IPython.core.display.HTML object>"
      ]
     },
     "metadata": {},
     "output_type": "display_data"
    },
    {
     "data": {
      "text/html": [
       "Synced <strong style=\"color:#cdcd00\">still-sweep-28</strong>: <a href=\"https://wandb.ai/luxtu/node-classification/runs/v8sxdvzg\" target=\"_blank\">https://wandb.ai/luxtu/node-classification/runs/v8sxdvzg</a><br/>Synced 5 W&B file(s), 2 media file(s), 2 artifact file(s) and 0 other file(s)"
      ],
      "text/plain": [
       "<IPython.core.display.HTML object>"
      ]
     },
     "metadata": {},
     "output_type": "display_data"
    },
    {
     "data": {
      "text/html": [
       "Find logs at: <code>./wandb/run-20221104_105432-v8sxdvzg/logs</code>"
      ],
      "text/plain": [
       "<IPython.core.display.HTML object>"
      ]
     },
     "metadata": {},
     "output_type": "display_data"
    },
    {
     "name": "stderr",
     "output_type": "stream",
     "text": [
      "wandb: Sweep Agent: Waiting for job.\n",
      "wandb: Job received.\n",
      "wandb: Agent Starting Run: m96qp1yu with config:\n",
      "wandb: \thidden_channels: 32\n",
      "wandb: \tlr: 0.0006887767233119628\n",
      "wandb: \tweight_decay: 0.0005136544660344904\n"
     ]
    },
    {
     "data": {
      "text/html": [
       "Tracking run with wandb version 0.13.5"
      ],
      "text/plain": [
       "<IPython.core.display.HTML object>"
      ]
     },
     "metadata": {},
     "output_type": "display_data"
    },
    {
     "data": {
      "text/html": [
       "Run data is saved locally in <code>/home/laurin/Documents/network-eval/wandb/run-20221104_105458-m96qp1yu</code>"
      ],
      "text/plain": [
       "<IPython.core.display.HTML object>"
      ]
     },
     "metadata": {},
     "output_type": "display_data"
    },
    {
     "data": {
      "text/html": [
       "Syncing run <strong><a href=\"https://wandb.ai/luxtu/node-classification/runs/m96qp1yu\" target=\"_blank\">dulcet-sweep-29</a></strong> to <a href=\"https://wandb.ai/luxtu/node-classification\" target=\"_blank\">Weights & Biases</a> (<a href=\"https://wandb.me/run\" target=\"_blank\">docs</a>)<br/>Sweep page:  <a href=\"https://wandb.ai/luxtu/node-classification/sweeps/rdzqj7go\" target=\"_blank\">https://wandb.ai/luxtu/node-classification/sweeps/rdzqj7go</a>"
      ],
      "text/plain": [
       "<IPython.core.display.HTML object>"
      ]
     },
     "metadata": {},
     "output_type": "display_data"
    },
    {
     "name": "stderr",
     "output_type": "stream",
     "text": [
      "100%|██████████| 100/100 [00:04<00:00, 23.72it/s]\n"
     ]
    },
    {
     "data": {
      "text/html": [
       "Waiting for W&B process to finish... <strong style=\"color:green\">(success).</strong>"
      ],
      "text/plain": [
       "<IPython.core.display.HTML object>"
      ]
     },
     "metadata": {},
     "output_type": "display_data"
    },
    {
     "data": {
      "application/vnd.jupyter.widget-view+json": {
       "model_id": "2f3fb1e350194a2d95bac3c768e05b7f",
       "version_major": 2,
       "version_minor": 0
      },
      "text/plain": [
       "VBox(children=(Label(value='2.225 MB of 2.225 MB uploaded (0.000 MB deduped)\\r'), FloatProgress(value=1.0, max…"
      ]
     },
     "metadata": {},
     "output_type": "display_data"
    },
    {
     "data": {
      "text/html": [
       "<style>\n",
       "    table.wandb td:nth-child(1) { padding: 0 10px; text-align: left ; width: auto;} td:nth-child(2) {text-align: left ; width: 100%}\n",
       "    .wandb-row { display: flex; flex-direction: row; flex-wrap: wrap; justify-content: flex-start; width: 100% }\n",
       "    .wandb-col { display: flex; flex-direction: column; flex-basis: 100%; flex: 1; padding: 10px; }\n",
       "    </style>\n",
       "<div class=\"wandb-row\"><div class=\"wandb-col\"><h3>Run history:</h3><br/><table class=\"wandb\"><tr><td>gcn/accuracy</td><td>▁</td></tr><tr><td>gcn/loss</td><td>█▇▆▆▅▅▄▄▃▃▃▂▂▂▂▂▂▂▁▂▁▁▁▁▁▁▁▁▁▁▁▁▁▁▁▁▁▁▁▁</td></tr></table><br/></div><div class=\"wandb-col\"><h3>Run summary:</h3><br/><table class=\"wandb\"><tr><td>gcn/accuracy</td><td>0.75458</td></tr><tr><td>gcn/loss</td><td>0.67198</td></tr></table><br/></div></div>"
      ],
      "text/plain": [
       "<IPython.core.display.HTML object>"
      ]
     },
     "metadata": {},
     "output_type": "display_data"
    },
    {
     "data": {
      "text/html": [
       "Synced <strong style=\"color:#cdcd00\">dulcet-sweep-29</strong>: <a href=\"https://wandb.ai/luxtu/node-classification/runs/m96qp1yu\" target=\"_blank\">https://wandb.ai/luxtu/node-classification/runs/m96qp1yu</a><br/>Synced 5 W&B file(s), 2 media file(s), 2 artifact file(s) and 0 other file(s)"
      ],
      "text/plain": [
       "<IPython.core.display.HTML object>"
      ]
     },
     "metadata": {},
     "output_type": "display_data"
    },
    {
     "data": {
      "text/html": [
       "Find logs at: <code>./wandb/run-20221104_105458-m96qp1yu/logs</code>"
      ],
      "text/plain": [
       "<IPython.core.display.HTML object>"
      ]
     },
     "metadata": {},
     "output_type": "display_data"
    },
    {
     "name": "stderr",
     "output_type": "stream",
     "text": [
      "wandb: Agent Starting Run: kflcghwg with config:\n",
      "wandb: \thidden_channels: 32\n",
      "wandb: \tlr: 0.0005276008946416723\n",
      "wandb: \tweight_decay: 0.0004960594961975298\n"
     ]
    },
    {
     "data": {
      "text/html": [
       "Tracking run with wandb version 0.13.5"
      ],
      "text/plain": [
       "<IPython.core.display.HTML object>"
      ]
     },
     "metadata": {},
     "output_type": "display_data"
    },
    {
     "data": {
      "text/html": [
       "Run data is saved locally in <code>/home/laurin/Documents/network-eval/wandb/run-20221104_105514-kflcghwg</code>"
      ],
      "text/plain": [
       "<IPython.core.display.HTML object>"
      ]
     },
     "metadata": {},
     "output_type": "display_data"
    },
    {
     "data": {
      "text/html": [
       "Syncing run <strong><a href=\"https://wandb.ai/luxtu/node-classification/runs/kflcghwg\" target=\"_blank\">firm-sweep-30</a></strong> to <a href=\"https://wandb.ai/luxtu/node-classification\" target=\"_blank\">Weights & Biases</a> (<a href=\"https://wandb.me/run\" target=\"_blank\">docs</a>)<br/>Sweep page:  <a href=\"https://wandb.ai/luxtu/node-classification/sweeps/rdzqj7go\" target=\"_blank\">https://wandb.ai/luxtu/node-classification/sweeps/rdzqj7go</a>"
      ],
      "text/plain": [
       "<IPython.core.display.HTML object>"
      ]
     },
     "metadata": {},
     "output_type": "display_data"
    },
    {
     "name": "stderr",
     "output_type": "stream",
     "text": [
      "100%|██████████| 100/100 [00:04<00:00, 24.88it/s]\n"
     ]
    },
    {
     "data": {
      "text/html": [
       "Waiting for W&B process to finish... <strong style=\"color:green\">(success).</strong>"
      ],
      "text/plain": [
       "<IPython.core.display.HTML object>"
      ]
     },
     "metadata": {},
     "output_type": "display_data"
    },
    {
     "data": {
      "application/vnd.jupyter.widget-view+json": {
       "model_id": "be96f756f9344986ab06dd4a72e0c46f",
       "version_major": 2,
       "version_minor": 0
      },
      "text/plain": [
       "VBox(children=(Label(value='1.667 MB of 2.220 MB uploaded (0.000 MB deduped)\\r'), FloatProgress(value=0.751078…"
      ]
     },
     "metadata": {},
     "output_type": "display_data"
    },
    {
     "data": {
      "text/html": [
       "<style>\n",
       "    table.wandb td:nth-child(1) { padding: 0 10px; text-align: left ; width: auto;} td:nth-child(2) {text-align: left ; width: 100%}\n",
       "    .wandb-row { display: flex; flex-direction: row; flex-wrap: wrap; justify-content: flex-start; width: 100% }\n",
       "    .wandb-col { display: flex; flex-direction: column; flex-basis: 100%; flex: 1; padding: 10px; }\n",
       "    </style>\n",
       "<div class=\"wandb-row\"><div class=\"wandb-col\"><h3>Run history:</h3><br/><table class=\"wandb\"><tr><td>gcn/accuracy</td><td>▁</td></tr><tr><td>gcn/loss</td><td>██▇▆▅▅▅▄▄▄▃▃▃▃▃▂▂▂▂▂▂▂▂▂▂▁▁▁▁▁▁▁▁▁▁▁▁▁▁▁</td></tr></table><br/></div><div class=\"wandb-col\"><h3>Run summary:</h3><br/><table class=\"wandb\"><tr><td>gcn/accuracy</td><td>0.75458</td></tr><tr><td>gcn/loss</td><td>0.69516</td></tr></table><br/></div></div>"
      ],
      "text/plain": [
       "<IPython.core.display.HTML object>"
      ]
     },
     "metadata": {},
     "output_type": "display_data"
    },
    {
     "data": {
      "text/html": [
       "Synced <strong style=\"color:#cdcd00\">firm-sweep-30</strong>: <a href=\"https://wandb.ai/luxtu/node-classification/runs/kflcghwg\" target=\"_blank\">https://wandb.ai/luxtu/node-classification/runs/kflcghwg</a><br/>Synced 5 W&B file(s), 2 media file(s), 2 artifact file(s) and 0 other file(s)"
      ],
      "text/plain": [
       "<IPython.core.display.HTML object>"
      ]
     },
     "metadata": {},
     "output_type": "display_data"
    },
    {
     "data": {
      "text/html": [
       "Find logs at: <code>./wandb/run-20221104_105514-kflcghwg/logs</code>"
      ],
      "text/plain": [
       "<IPython.core.display.HTML object>"
      ]
     },
     "metadata": {},
     "output_type": "display_data"
    },
    {
     "name": "stderr",
     "output_type": "stream",
     "text": [
      "wandb: Agent Starting Run: ipobohqi with config:\n",
      "wandb: \thidden_channels: 32\n",
      "wandb: \tlr: 0.0003598979846343875\n",
      "wandb: \tweight_decay: 0.0005265420239057137\n"
     ]
    },
    {
     "data": {
      "text/html": [
       "Tracking run with wandb version 0.13.5"
      ],
      "text/plain": [
       "<IPython.core.display.HTML object>"
      ]
     },
     "metadata": {},
     "output_type": "display_data"
    },
    {
     "data": {
      "text/html": [
       "Run data is saved locally in <code>/home/laurin/Documents/network-eval/wandb/run-20221104_105530-ipobohqi</code>"
      ],
      "text/plain": [
       "<IPython.core.display.HTML object>"
      ]
     },
     "metadata": {},
     "output_type": "display_data"
    },
    {
     "data": {
      "text/html": [
       "Syncing run <strong><a href=\"https://wandb.ai/luxtu/node-classification/runs/ipobohqi\" target=\"_blank\">blooming-sweep-31</a></strong> to <a href=\"https://wandb.ai/luxtu/node-classification\" target=\"_blank\">Weights & Biases</a> (<a href=\"https://wandb.me/run\" target=\"_blank\">docs</a>)<br/>Sweep page:  <a href=\"https://wandb.ai/luxtu/node-classification/sweeps/rdzqj7go\" target=\"_blank\">https://wandb.ai/luxtu/node-classification/sweeps/rdzqj7go</a>"
      ],
      "text/plain": [
       "<IPython.core.display.HTML object>"
      ]
     },
     "metadata": {},
     "output_type": "display_data"
    },
    {
     "name": "stderr",
     "output_type": "stream",
     "text": [
      "100%|██████████| 100/100 [00:04<00:00, 23.65it/s]\n"
     ]
    },
    {
     "data": {
      "text/html": [
       "Waiting for W&B process to finish... <strong style=\"color:green\">(success).</strong>"
      ],
      "text/plain": [
       "<IPython.core.display.HTML object>"
      ]
     },
     "metadata": {},
     "output_type": "display_data"
    },
    {
     "data": {
      "application/vnd.jupyter.widget-view+json": {
       "model_id": "25efaabe48d0421482c546ef37d050ac",
       "version_major": 2,
       "version_minor": 0
      },
      "text/plain": [
       "VBox(children=(Label(value='1.665 MB of 2.216 MB uploaded (0.000 MB deduped)\\r'), FloatProgress(value=0.751432…"
      ]
     },
     "metadata": {},
     "output_type": "display_data"
    },
    {
     "data": {
      "text/html": [
       "<style>\n",
       "    table.wandb td:nth-child(1) { padding: 0 10px; text-align: left ; width: auto;} td:nth-child(2) {text-align: left ; width: 100%}\n",
       "    .wandb-row { display: flex; flex-direction: row; flex-wrap: wrap; justify-content: flex-start; width: 100% }\n",
       "    .wandb-col { display: flex; flex-direction: column; flex-basis: 100%; flex: 1; padding: 10px; }\n",
       "    </style>\n",
       "<div class=\"wandb-row\"><div class=\"wandb-col\"><h3>Run history:</h3><br/><table class=\"wandb\"><tr><td>gcn/accuracy</td><td>▁</td></tr><tr><td>gcn/loss</td><td>██▇▇▆▆▆▅▅▄▄▄▄▃▃▃▃▃▂▂▂▂▂▂▂▂▂▁▁▁▁▁▂▁▁▁▁▁▁▁</td></tr></table><br/></div><div class=\"wandb-col\"><h3>Run summary:</h3><br/><table class=\"wandb\"><tr><td>gcn/accuracy</td><td>0.75018</td></tr><tr><td>gcn/loss</td><td>0.7563</td></tr></table><br/></div></div>"
      ],
      "text/plain": [
       "<IPython.core.display.HTML object>"
      ]
     },
     "metadata": {},
     "output_type": "display_data"
    },
    {
     "data": {
      "text/html": [
       "Synced <strong style=\"color:#cdcd00\">blooming-sweep-31</strong>: <a href=\"https://wandb.ai/luxtu/node-classification/runs/ipobohqi\" target=\"_blank\">https://wandb.ai/luxtu/node-classification/runs/ipobohqi</a><br/>Synced 5 W&B file(s), 2 media file(s), 2 artifact file(s) and 0 other file(s)"
      ],
      "text/plain": [
       "<IPython.core.display.HTML object>"
      ]
     },
     "metadata": {},
     "output_type": "display_data"
    },
    {
     "data": {
      "text/html": [
       "Find logs at: <code>./wandb/run-20221104_105530-ipobohqi/logs</code>"
      ],
      "text/plain": [
       "<IPython.core.display.HTML object>"
      ]
     },
     "metadata": {},
     "output_type": "display_data"
    },
    {
     "name": "stderr",
     "output_type": "stream",
     "text": [
      "wandb: Agent Starting Run: 3vq2jjg8 with config:\n",
      "wandb: \thidden_channels: 32\n",
      "wandb: \tlr: 0.0005429853872294545\n",
      "wandb: \tweight_decay: 0.0004920393368669096\n"
     ]
    },
    {
     "data": {
      "text/html": [
       "Tracking run with wandb version 0.13.5"
      ],
      "text/plain": [
       "<IPython.core.display.HTML object>"
      ]
     },
     "metadata": {},
     "output_type": "display_data"
    },
    {
     "data": {
      "text/html": [
       "Run data is saved locally in <code>/home/laurin/Documents/network-eval/wandb/run-20221104_105546-3vq2jjg8</code>"
      ],
      "text/plain": [
       "<IPython.core.display.HTML object>"
      ]
     },
     "metadata": {},
     "output_type": "display_data"
    },
    {
     "data": {
      "text/html": [
       "Syncing run <strong><a href=\"https://wandb.ai/luxtu/node-classification/runs/3vq2jjg8\" target=\"_blank\">visionary-sweep-32</a></strong> to <a href=\"https://wandb.ai/luxtu/node-classification\" target=\"_blank\">Weights & Biases</a> (<a href=\"https://wandb.me/run\" target=\"_blank\">docs</a>)<br/>Sweep page:  <a href=\"https://wandb.ai/luxtu/node-classification/sweeps/rdzqj7go\" target=\"_blank\">https://wandb.ai/luxtu/node-classification/sweeps/rdzqj7go</a>"
      ],
      "text/plain": [
       "<IPython.core.display.HTML object>"
      ]
     },
     "metadata": {},
     "output_type": "display_data"
    },
    {
     "name": "stderr",
     "output_type": "stream",
     "text": [
      "100%|██████████| 100/100 [00:03<00:00, 26.68it/s]\n"
     ]
    },
    {
     "data": {
      "text/html": [
       "Waiting for W&B process to finish... <strong style=\"color:green\">(success).</strong>"
      ],
      "text/plain": [
       "<IPython.core.display.HTML object>"
      ]
     },
     "metadata": {},
     "output_type": "display_data"
    },
    {
     "data": {
      "application/vnd.jupyter.widget-view+json": {
       "model_id": "53407ca4a12241e49798a833d753b6a6",
       "version_major": 2,
       "version_minor": 0
      },
      "text/plain": [
       "VBox(children=(Label(value='1.667 MB of 2.220 MB uploaded (0.000 MB deduped)\\r'), FloatProgress(value=0.751014…"
      ]
     },
     "metadata": {},
     "output_type": "display_data"
    },
    {
     "data": {
      "text/html": [
       "<style>\n",
       "    table.wandb td:nth-child(1) { padding: 0 10px; text-align: left ; width: auto;} td:nth-child(2) {text-align: left ; width: 100%}\n",
       "    .wandb-row { display: flex; flex-direction: row; flex-wrap: wrap; justify-content: flex-start; width: 100% }\n",
       "    .wandb-col { display: flex; flex-direction: column; flex-basis: 100%; flex: 1; padding: 10px; }\n",
       "    </style>\n",
       "<div class=\"wandb-row\"><div class=\"wandb-col\"><h3>Run history:</h3><br/><table class=\"wandb\"><tr><td>gcn/accuracy</td><td>▁</td></tr><tr><td>gcn/loss</td><td>██▇▆▅▅▅▄▄▃▃▃▃▂▃▂▂▂▂▂▂▂▂▂▂▁▁▁▁▁▁▁▁▁▁▁▁▁▁▁</td></tr></table><br/></div><div class=\"wandb-col\"><h3>Run summary:</h3><br/><table class=\"wandb\"><tr><td>gcn/accuracy</td><td>0.75531</td></tr><tr><td>gcn/loss</td><td>0.69226</td></tr></table><br/></div></div>"
      ],
      "text/plain": [
       "<IPython.core.display.HTML object>"
      ]
     },
     "metadata": {},
     "output_type": "display_data"
    },
    {
     "data": {
      "text/html": [
       "Synced <strong style=\"color:#cdcd00\">visionary-sweep-32</strong>: <a href=\"https://wandb.ai/luxtu/node-classification/runs/3vq2jjg8\" target=\"_blank\">https://wandb.ai/luxtu/node-classification/runs/3vq2jjg8</a><br/>Synced 5 W&B file(s), 2 media file(s), 2 artifact file(s) and 0 other file(s)"
      ],
      "text/plain": [
       "<IPython.core.display.HTML object>"
      ]
     },
     "metadata": {},
     "output_type": "display_data"
    },
    {
     "data": {
      "text/html": [
       "Find logs at: <code>./wandb/run-20221104_105546-3vq2jjg8/logs</code>"
      ],
      "text/plain": [
       "<IPython.core.display.HTML object>"
      ]
     },
     "metadata": {},
     "output_type": "display_data"
    },
    {
     "name": "stderr",
     "output_type": "stream",
     "text": [
      "wandb: Agent Starting Run: euwc8k8k with config:\n",
      "wandb: \thidden_channels: 32\n",
      "wandb: \tlr: 0.0004357828212669129\n",
      "wandb: \tweight_decay: 0.0004968207549979133\n"
     ]
    },
    {
     "data": {
      "text/html": [
       "Tracking run with wandb version 0.13.5"
      ],
      "text/plain": [
       "<IPython.core.display.HTML object>"
      ]
     },
     "metadata": {},
     "output_type": "display_data"
    },
    {
     "data": {
      "text/html": [
       "Run data is saved locally in <code>/home/laurin/Documents/network-eval/wandb/run-20221104_105602-euwc8k8k</code>"
      ],
      "text/plain": [
       "<IPython.core.display.HTML object>"
      ]
     },
     "metadata": {},
     "output_type": "display_data"
    },
    {
     "data": {
      "text/html": [
       "Syncing run <strong><a href=\"https://wandb.ai/luxtu/node-classification/runs/euwc8k8k\" target=\"_blank\">summer-sweep-33</a></strong> to <a href=\"https://wandb.ai/luxtu/node-classification\" target=\"_blank\">Weights & Biases</a> (<a href=\"https://wandb.me/run\" target=\"_blank\">docs</a>)<br/>Sweep page:  <a href=\"https://wandb.ai/luxtu/node-classification/sweeps/rdzqj7go\" target=\"_blank\">https://wandb.ai/luxtu/node-classification/sweeps/rdzqj7go</a>"
      ],
      "text/plain": [
       "<IPython.core.display.HTML object>"
      ]
     },
     "metadata": {},
     "output_type": "display_data"
    },
    {
     "name": "stderr",
     "output_type": "stream",
     "text": [
      "100%|██████████| 100/100 [00:03<00:00, 27.96it/s]\n"
     ]
    },
    {
     "data": {
      "text/html": [
       "Waiting for W&B process to finish... <strong style=\"color:green\">(success).</strong>"
      ],
      "text/plain": [
       "<IPython.core.display.HTML object>"
      ]
     },
     "metadata": {},
     "output_type": "display_data"
    },
    {
     "data": {
      "application/vnd.jupyter.widget-view+json": {
       "model_id": "c0d0060f43664a79b604f2995df27bbc",
       "version_major": 2,
       "version_minor": 0
      },
      "text/plain": [
       "VBox(children=(Label(value='1.666 MB of 2.218 MB uploaded (0.000 MB deduped)\\r'), FloatProgress(value=0.751294…"
      ]
     },
     "metadata": {},
     "output_type": "display_data"
    },
    {
     "data": {
      "text/html": [
       "<style>\n",
       "    table.wandb td:nth-child(1) { padding: 0 10px; text-align: left ; width: auto;} td:nth-child(2) {text-align: left ; width: 100%}\n",
       "    .wandb-row { display: flex; flex-direction: row; flex-wrap: wrap; justify-content: flex-start; width: 100% }\n",
       "    .wandb-col { display: flex; flex-direction: column; flex-basis: 100%; flex: 1; padding: 10px; }\n",
       "    </style>\n",
       "<div class=\"wandb-row\"><div class=\"wandb-col\"><h3>Run history:</h3><br/><table class=\"wandb\"><tr><td>gcn/accuracy</td><td>▁</td></tr><tr><td>gcn/loss</td><td>██▇▇▆▆▅▅▅▄▄▃▃▃▃▃▃▂▂▂▂▂▂▂▂▁▁▁▁▁▁▁▁▁▁▁▁▁▁▁</td></tr></table><br/></div><div class=\"wandb-col\"><h3>Run summary:</h3><br/><table class=\"wandb\"><tr><td>gcn/accuracy</td><td>0.75385</td></tr><tr><td>gcn/loss</td><td>0.7184</td></tr></table><br/></div></div>"
      ],
      "text/plain": [
       "<IPython.core.display.HTML object>"
      ]
     },
     "metadata": {},
     "output_type": "display_data"
    },
    {
     "data": {
      "text/html": [
       "Synced <strong style=\"color:#cdcd00\">summer-sweep-33</strong>: <a href=\"https://wandb.ai/luxtu/node-classification/runs/euwc8k8k\" target=\"_blank\">https://wandb.ai/luxtu/node-classification/runs/euwc8k8k</a><br/>Synced 5 W&B file(s), 2 media file(s), 2 artifact file(s) and 0 other file(s)"
      ],
      "text/plain": [
       "<IPython.core.display.HTML object>"
      ]
     },
     "metadata": {},
     "output_type": "display_data"
    },
    {
     "data": {
      "text/html": [
       "Find logs at: <code>./wandb/run-20221104_105602-euwc8k8k/logs</code>"
      ],
      "text/plain": [
       "<IPython.core.display.HTML object>"
      ]
     },
     "metadata": {},
     "output_type": "display_data"
    },
    {
     "name": "stderr",
     "output_type": "stream",
     "text": [
      "wandb: Agent Starting Run: awb96l2a with config:\n",
      "wandb: \thidden_channels: 32\n",
      "wandb: \tlr: 0.0006464168334688224\n",
      "wandb: \tweight_decay: 0.0004951963458047685\n"
     ]
    },
    {
     "data": {
      "text/html": [
       "Tracking run with wandb version 0.13.5"
      ],
      "text/plain": [
       "<IPython.core.display.HTML object>"
      ]
     },
     "metadata": {},
     "output_type": "display_data"
    },
    {
     "data": {
      "text/html": [
       "Run data is saved locally in <code>/home/laurin/Documents/network-eval/wandb/run-20221104_105618-awb96l2a</code>"
      ],
      "text/plain": [
       "<IPython.core.display.HTML object>"
      ]
     },
     "metadata": {},
     "output_type": "display_data"
    },
    {
     "data": {
      "text/html": [
       "Syncing run <strong><a href=\"https://wandb.ai/luxtu/node-classification/runs/awb96l2a\" target=\"_blank\">neat-sweep-34</a></strong> to <a href=\"https://wandb.ai/luxtu/node-classification\" target=\"_blank\">Weights & Biases</a> (<a href=\"https://wandb.me/run\" target=\"_blank\">docs</a>)<br/>Sweep page:  <a href=\"https://wandb.ai/luxtu/node-classification/sweeps/rdzqj7go\" target=\"_blank\">https://wandb.ai/luxtu/node-classification/sweeps/rdzqj7go</a>"
      ],
      "text/plain": [
       "<IPython.core.display.HTML object>"
      ]
     },
     "metadata": {},
     "output_type": "display_data"
    },
    {
     "name": "stderr",
     "output_type": "stream",
     "text": [
      "100%|██████████| 100/100 [00:03<00:00, 27.78it/s]\n"
     ]
    },
    {
     "data": {
      "text/html": [
       "Waiting for W&B process to finish... <strong style=\"color:green\">(success).</strong>"
      ],
      "text/plain": [
       "<IPython.core.display.HTML object>"
      ]
     },
     "metadata": {},
     "output_type": "display_data"
    },
    {
     "data": {
      "application/vnd.jupyter.widget-view+json": {
       "model_id": "35c712bcb28040b4ac8440d7f85b151c",
       "version_major": 2,
       "version_minor": 0
      },
      "text/plain": [
       "VBox(children=(Label(value='1.669 MB of 2.223 MB uploaded (0.000 MB deduped)\\r'), FloatProgress(value=0.750636…"
      ]
     },
     "metadata": {},
     "output_type": "display_data"
    },
    {
     "data": {
      "text/html": [
       "<style>\n",
       "    table.wandb td:nth-child(1) { padding: 0 10px; text-align: left ; width: auto;} td:nth-child(2) {text-align: left ; width: 100%}\n",
       "    .wandb-row { display: flex; flex-direction: row; flex-wrap: wrap; justify-content: flex-start; width: 100% }\n",
       "    .wandb-col { display: flex; flex-direction: column; flex-basis: 100%; flex: 1; padding: 10px; }\n",
       "    </style>\n",
       "<div class=\"wandb-row\"><div class=\"wandb-col\"><h3>Run history:</h3><br/><table class=\"wandb\"><tr><td>gcn/accuracy</td><td>▁</td></tr><tr><td>gcn/loss</td><td>█▇▆▆▅▅▄▄▄▃▃▂▂▂▂▂▂▂▂▂▁▁▁▁▁▁▁▁▁▁▁▁▁▁▁▁▁▁▁▁</td></tr></table><br/></div><div class=\"wandb-col\"><h3>Run summary:</h3><br/><table class=\"wandb\"><tr><td>gcn/accuracy</td><td>0.75531</td></tr><tr><td>gcn/loss</td><td>0.67675</td></tr></table><br/></div></div>"
      ],
      "text/plain": [
       "<IPython.core.display.HTML object>"
      ]
     },
     "metadata": {},
     "output_type": "display_data"
    },
    {
     "data": {
      "text/html": [
       "Synced <strong style=\"color:#cdcd00\">neat-sweep-34</strong>: <a href=\"https://wandb.ai/luxtu/node-classification/runs/awb96l2a\" target=\"_blank\">https://wandb.ai/luxtu/node-classification/runs/awb96l2a</a><br/>Synced 5 W&B file(s), 2 media file(s), 2 artifact file(s) and 0 other file(s)"
      ],
      "text/plain": [
       "<IPython.core.display.HTML object>"
      ]
     },
     "metadata": {},
     "output_type": "display_data"
    },
    {
     "data": {
      "text/html": [
       "Find logs at: <code>./wandb/run-20221104_105618-awb96l2a/logs</code>"
      ],
      "text/plain": [
       "<IPython.core.display.HTML object>"
      ]
     },
     "metadata": {},
     "output_type": "display_data"
    },
    {
     "name": "stderr",
     "output_type": "stream",
     "text": [
      "wandb: Agent Starting Run: qaukgpmn with config:\n",
      "wandb: \thidden_channels: 32\n",
      "wandb: \tlr: 0.00036147421344894664\n",
      "wandb: \tweight_decay: 0.000479982483976316\n"
     ]
    },
    {
     "data": {
      "text/html": [
       "Tracking run with wandb version 0.13.5"
      ],
      "text/plain": [
       "<IPython.core.display.HTML object>"
      ]
     },
     "metadata": {},
     "output_type": "display_data"
    },
    {
     "data": {
      "text/html": [
       "Run data is saved locally in <code>/home/laurin/Documents/network-eval/wandb/run-20221104_105634-qaukgpmn</code>"
      ],
      "text/plain": [
       "<IPython.core.display.HTML object>"
      ]
     },
     "metadata": {},
     "output_type": "display_data"
    },
    {
     "data": {
      "text/html": [
       "Syncing run <strong><a href=\"https://wandb.ai/luxtu/node-classification/runs/qaukgpmn\" target=\"_blank\">northern-sweep-35</a></strong> to <a href=\"https://wandb.ai/luxtu/node-classification\" target=\"_blank\">Weights & Biases</a> (<a href=\"https://wandb.me/run\" target=\"_blank\">docs</a>)<br/>Sweep page:  <a href=\"https://wandb.ai/luxtu/node-classification/sweeps/rdzqj7go\" target=\"_blank\">https://wandb.ai/luxtu/node-classification/sweeps/rdzqj7go</a>"
      ],
      "text/plain": [
       "<IPython.core.display.HTML object>"
      ]
     },
     "metadata": {},
     "output_type": "display_data"
    },
    {
     "name": "stderr",
     "output_type": "stream",
     "text": [
      "100%|██████████| 100/100 [00:03<00:00, 27.17it/s]\n"
     ]
    },
    {
     "data": {
      "text/html": [
       "Waiting for W&B process to finish... <strong style=\"color:green\">(success).</strong>"
      ],
      "text/plain": [
       "<IPython.core.display.HTML object>"
      ]
     },
     "metadata": {},
     "output_type": "display_data"
    },
    {
     "data": {
      "application/vnd.jupyter.widget-view+json": {
       "model_id": "8e52f8b4e83e4866a69bbb8e3aab0fd6",
       "version_major": 2,
       "version_minor": 0
      },
      "text/plain": [
       "VBox(children=(Label(value='1.665 MB of 2.216 MB uploaded (0.000 MB deduped)\\r'), FloatProgress(value=0.751442…"
      ]
     },
     "metadata": {},
     "output_type": "display_data"
    },
    {
     "data": {
      "text/html": [
       "<style>\n",
       "    table.wandb td:nth-child(1) { padding: 0 10px; text-align: left ; width: auto;} td:nth-child(2) {text-align: left ; width: 100%}\n",
       "    .wandb-row { display: flex; flex-direction: row; flex-wrap: wrap; justify-content: flex-start; width: 100% }\n",
       "    .wandb-col { display: flex; flex-direction: column; flex-basis: 100%; flex: 1; padding: 10px; }\n",
       "    </style>\n",
       "<div class=\"wandb-row\"><div class=\"wandb-col\"><h3>Run history:</h3><br/><table class=\"wandb\"><tr><td>gcn/accuracy</td><td>▁</td></tr><tr><td>gcn/loss</td><td>██▇▇▆▆▆▅▅▄▄▄▄▃▃▃▃▃▂▂▂▂▂▂▂▂▂▁▁▁▁▁▂▁▁▁▁▁▁▁</td></tr></table><br/></div><div class=\"wandb-col\"><h3>Run summary:</h3><br/><table class=\"wandb\"><tr><td>gcn/accuracy</td><td>0.75018</td></tr><tr><td>gcn/loss</td><td>0.75551</td></tr></table><br/></div></div>"
      ],
      "text/plain": [
       "<IPython.core.display.HTML object>"
      ]
     },
     "metadata": {},
     "output_type": "display_data"
    },
    {
     "data": {
      "text/html": [
       "Synced <strong style=\"color:#cdcd00\">northern-sweep-35</strong>: <a href=\"https://wandb.ai/luxtu/node-classification/runs/qaukgpmn\" target=\"_blank\">https://wandb.ai/luxtu/node-classification/runs/qaukgpmn</a><br/>Synced 5 W&B file(s), 2 media file(s), 2 artifact file(s) and 0 other file(s)"
      ],
      "text/plain": [
       "<IPython.core.display.HTML object>"
      ]
     },
     "metadata": {},
     "output_type": "display_data"
    },
    {
     "data": {
      "text/html": [
       "Find logs at: <code>./wandb/run-20221104_105634-qaukgpmn/logs</code>"
      ],
      "text/plain": [
       "<IPython.core.display.HTML object>"
      ]
     },
     "metadata": {},
     "output_type": "display_data"
    },
    {
     "name": "stderr",
     "output_type": "stream",
     "text": [
      "wandb: Agent Starting Run: 5rtg9aen with config:\n",
      "wandb: \thidden_channels: 32\n",
      "wandb: \tlr: 0.00033578854536394563\n",
      "wandb: \tweight_decay: 0.0004969378494130886\n"
     ]
    },
    {
     "data": {
      "text/html": [
       "Tracking run with wandb version 0.13.5"
      ],
      "text/plain": [
       "<IPython.core.display.HTML object>"
      ]
     },
     "metadata": {},
     "output_type": "display_data"
    },
    {
     "data": {
      "text/html": [
       "Run data is saved locally in <code>/home/laurin/Documents/network-eval/wandb/run-20221104_105650-5rtg9aen</code>"
      ],
      "text/plain": [
       "<IPython.core.display.HTML object>"
      ]
     },
     "metadata": {},
     "output_type": "display_data"
    },
    {
     "data": {
      "text/html": [
       "Syncing run <strong><a href=\"https://wandb.ai/luxtu/node-classification/runs/5rtg9aen\" target=\"_blank\">gallant-sweep-36</a></strong> to <a href=\"https://wandb.ai/luxtu/node-classification\" target=\"_blank\">Weights & Biases</a> (<a href=\"https://wandb.me/run\" target=\"_blank\">docs</a>)<br/>Sweep page:  <a href=\"https://wandb.ai/luxtu/node-classification/sweeps/rdzqj7go\" target=\"_blank\">https://wandb.ai/luxtu/node-classification/sweeps/rdzqj7go</a>"
      ],
      "text/plain": [
       "<IPython.core.display.HTML object>"
      ]
     },
     "metadata": {},
     "output_type": "display_data"
    },
    {
     "name": "stderr",
     "output_type": "stream",
     "text": [
      "100%|██████████| 100/100 [00:03<00:00, 26.15it/s]\n"
     ]
    },
    {
     "data": {
      "text/html": [
       "Waiting for W&B process to finish... <strong style=\"color:green\">(success).</strong>"
      ],
      "text/plain": [
       "<IPython.core.display.HTML object>"
      ]
     },
     "metadata": {},
     "output_type": "display_data"
    },
    {
     "data": {
      "application/vnd.jupyter.widget-view+json": {
       "model_id": "2f19c00c00bf43afa699be8ef6851ec9",
       "version_major": 2,
       "version_minor": 0
      },
      "text/plain": [
       "VBox(children=(Label(value='2.216 MB of 2.216 MB uploaded (0.000 MB deduped)\\r'), FloatProgress(value=1.0, max…"
      ]
     },
     "metadata": {},
     "output_type": "display_data"
    },
    {
     "data": {
      "text/html": [
       "<style>\n",
       "    table.wandb td:nth-child(1) { padding: 0 10px; text-align: left ; width: auto;} td:nth-child(2) {text-align: left ; width: 100%}\n",
       "    .wandb-row { display: flex; flex-direction: row; flex-wrap: wrap; justify-content: flex-start; width: 100% }\n",
       "    .wandb-col { display: flex; flex-direction: column; flex-basis: 100%; flex: 1; padding: 10px; }\n",
       "    </style>\n",
       "<div class=\"wandb-row\"><div class=\"wandb-col\"><h3>Run history:</h3><br/><table class=\"wandb\"><tr><td>gcn/accuracy</td><td>▁</td></tr><tr><td>gcn/loss</td><td>██▇▇▆▆▆▅▅▅▄▄▄▄▄▃▃▃▂▃▂▂▂▂▂▂▂▂▁▂▁▂▂▁▁▁▁▁▁▁</td></tr></table><br/></div><div class=\"wandb-col\"><h3>Run summary:</h3><br/><table class=\"wandb\"><tr><td>gcn/accuracy</td><td>0.75018</td></tr><tr><td>gcn/loss</td><td>0.76933</td></tr></table><br/></div></div>"
      ],
      "text/plain": [
       "<IPython.core.display.HTML object>"
      ]
     },
     "metadata": {},
     "output_type": "display_data"
    },
    {
     "data": {
      "text/html": [
       "Synced <strong style=\"color:#cdcd00\">gallant-sweep-36</strong>: <a href=\"https://wandb.ai/luxtu/node-classification/runs/5rtg9aen\" target=\"_blank\">https://wandb.ai/luxtu/node-classification/runs/5rtg9aen</a><br/>Synced 5 W&B file(s), 2 media file(s), 2 artifact file(s) and 0 other file(s)"
      ],
      "text/plain": [
       "<IPython.core.display.HTML object>"
      ]
     },
     "metadata": {},
     "output_type": "display_data"
    },
    {
     "data": {
      "text/html": [
       "Find logs at: <code>./wandb/run-20221104_105650-5rtg9aen/logs</code>"
      ],
      "text/plain": [
       "<IPython.core.display.HTML object>"
      ]
     },
     "metadata": {},
     "output_type": "display_data"
    },
    {
     "name": "stderr",
     "output_type": "stream",
     "text": [
      "wandb: Agent Starting Run: abp541q5 with config:\n",
      "wandb: \thidden_channels: 32\n",
      "wandb: \tlr: 0.0008871105966050616\n",
      "wandb: \tweight_decay: 0.0005004577990167542\n"
     ]
    },
    {
     "data": {
      "text/html": [
       "Tracking run with wandb version 0.13.5"
      ],
      "text/plain": [
       "<IPython.core.display.HTML object>"
      ]
     },
     "metadata": {},
     "output_type": "display_data"
    },
    {
     "data": {
      "text/html": [
       "Run data is saved locally in <code>/home/laurin/Documents/network-eval/wandb/run-20221104_105706-abp541q5</code>"
      ],
      "text/plain": [
       "<IPython.core.display.HTML object>"
      ]
     },
     "metadata": {},
     "output_type": "display_data"
    },
    {
     "data": {
      "text/html": [
       "Syncing run <strong><a href=\"https://wandb.ai/luxtu/node-classification/runs/abp541q5\" target=\"_blank\">sweet-sweep-37</a></strong> to <a href=\"https://wandb.ai/luxtu/node-classification\" target=\"_blank\">Weights & Biases</a> (<a href=\"https://wandb.me/run\" target=\"_blank\">docs</a>)<br/>Sweep page:  <a href=\"https://wandb.ai/luxtu/node-classification/sweeps/rdzqj7go\" target=\"_blank\">https://wandb.ai/luxtu/node-classification/sweeps/rdzqj7go</a>"
      ],
      "text/plain": [
       "<IPython.core.display.HTML object>"
      ]
     },
     "metadata": {},
     "output_type": "display_data"
    },
    {
     "name": "stderr",
     "output_type": "stream",
     "text": [
      "100%|██████████| 100/100 [00:03<00:00, 29.70it/s]\n"
     ]
    },
    {
     "data": {
      "text/html": [
       "Waiting for W&B process to finish... <strong style=\"color:green\">(success).</strong>"
      ],
      "text/plain": [
       "<IPython.core.display.HTML object>"
      ]
     },
     "metadata": {},
     "output_type": "display_data"
    },
    {
     "data": {
      "text/html": [
       "<style>\n",
       "    table.wandb td:nth-child(1) { padding: 0 10px; text-align: left ; width: auto;} td:nth-child(2) {text-align: left ; width: 100%}\n",
       "    .wandb-row { display: flex; flex-direction: row; flex-wrap: wrap; justify-content: flex-start; width: 100% }\n",
       "    .wandb-col { display: flex; flex-direction: column; flex-basis: 100%; flex: 1; padding: 10px; }\n",
       "    </style>\n",
       "<div class=\"wandb-row\"><div class=\"wandb-col\"><h3>Run history:</h3><br/><table class=\"wandb\"><tr><td>gcn/accuracy</td><td>▁</td></tr><tr><td>gcn/loss</td><td>█▇▆▅▄▄▃▃▃▂▂▂▂▂▂▂▁▁▁▁▁▁▁▁▁▁▁▁▁▁▁▁▁▁▁▁▁▁▁▁</td></tr></table><br/></div><div class=\"wandb-col\"><h3>Run summary:</h3><br/><table class=\"wandb\"><tr><td>gcn/accuracy</td><td>0.75385</td></tr><tr><td>gcn/loss</td><td>0.65521</td></tr></table><br/></div></div>"
      ],
      "text/plain": [
       "<IPython.core.display.HTML object>"
      ]
     },
     "metadata": {},
     "output_type": "display_data"
    },
    {
     "data": {
      "text/html": [
       "Synced <strong style=\"color:#cdcd00\">sweet-sweep-37</strong>: <a href=\"https://wandb.ai/luxtu/node-classification/runs/abp541q5\" target=\"_blank\">https://wandb.ai/luxtu/node-classification/runs/abp541q5</a><br/>Synced 5 W&B file(s), 2 media file(s), 2 artifact file(s) and 0 other file(s)"
      ],
      "text/plain": [
       "<IPython.core.display.HTML object>"
      ]
     },
     "metadata": {},
     "output_type": "display_data"
    },
    {
     "data": {
      "text/html": [
       "Find logs at: <code>./wandb/run-20221104_105706-abp541q5/logs</code>"
      ],
      "text/plain": [
       "<IPython.core.display.HTML object>"
      ]
     },
     "metadata": {},
     "output_type": "display_data"
    },
    {
     "name": "stderr",
     "output_type": "stream",
     "text": [
      "wandb: Agent Starting Run: op1y6etr with config:\n",
      "wandb: \thidden_channels: 32\n",
      "wandb: \tlr: 0.0003283276649565674\n",
      "wandb: \tweight_decay: 0.0004927424786351838\n"
     ]
    },
    {
     "data": {
      "text/html": [
       "Tracking run with wandb version 0.13.5"
      ],
      "text/plain": [
       "<IPython.core.display.HTML object>"
      ]
     },
     "metadata": {},
     "output_type": "display_data"
    },
    {
     "data": {
      "text/html": [
       "Run data is saved locally in <code>/home/laurin/Documents/network-eval/wandb/run-20221104_105722-op1y6etr</code>"
      ],
      "text/plain": [
       "<IPython.core.display.HTML object>"
      ]
     },
     "metadata": {},
     "output_type": "display_data"
    },
    {
     "data": {
      "text/html": [
       "Syncing run <strong><a href=\"https://wandb.ai/luxtu/node-classification/runs/op1y6etr\" target=\"_blank\">flowing-sweep-38</a></strong> to <a href=\"https://wandb.ai/luxtu/node-classification\" target=\"_blank\">Weights & Biases</a> (<a href=\"https://wandb.me/run\" target=\"_blank\">docs</a>)<br/>Sweep page:  <a href=\"https://wandb.ai/luxtu/node-classification/sweeps/rdzqj7go\" target=\"_blank\">https://wandb.ai/luxtu/node-classification/sweeps/rdzqj7go</a>"
      ],
      "text/plain": [
       "<IPython.core.display.HTML object>"
      ]
     },
     "metadata": {},
     "output_type": "display_data"
    },
    {
     "name": "stderr",
     "output_type": "stream",
     "text": [
      "100%|██████████| 100/100 [00:04<00:00, 23.95it/s]\n"
     ]
    },
    {
     "data": {
      "text/html": [
       "Waiting for W&B process to finish... <strong style=\"color:green\">(success).</strong>"
      ],
      "text/plain": [
       "<IPython.core.display.HTML object>"
      ]
     },
     "metadata": {},
     "output_type": "display_data"
    },
    {
     "data": {
      "application/vnd.jupyter.widget-view+json": {
       "model_id": "295aee504a3343d8a4944becca1c8de5",
       "version_major": 2,
       "version_minor": 0
      },
      "text/plain": [
       "VBox(children=(Label(value='1.665 MB of 2.216 MB uploaded (0.000 MB deduped)\\r'), FloatProgress(value=0.751471…"
      ]
     },
     "metadata": {},
     "output_type": "display_data"
    },
    {
     "data": {
      "text/html": [
       "<style>\n",
       "    table.wandb td:nth-child(1) { padding: 0 10px; text-align: left ; width: auto;} td:nth-child(2) {text-align: left ; width: 100%}\n",
       "    .wandb-row { display: flex; flex-direction: row; flex-wrap: wrap; justify-content: flex-start; width: 100% }\n",
       "    .wandb-col { display: flex; flex-direction: column; flex-basis: 100%; flex: 1; padding: 10px; }\n",
       "    </style>\n",
       "<div class=\"wandb-row\"><div class=\"wandb-col\"><h3>Run history:</h3><br/><table class=\"wandb\"><tr><td>gcn/accuracy</td><td>▁</td></tr><tr><td>gcn/loss</td><td>██▇▇▆▆▆▅▅▅▄▄▄▄▄▃▃▃▃▃▂▂▂▂▂▂▂▂▁▂▁▂▂▁▁▁▁▁▁▁</td></tr></table><br/></div><div class=\"wandb-col\"><h3>Run summary:</h3><br/><table class=\"wandb\"><tr><td>gcn/accuracy</td><td>0.75092</td></tr><tr><td>gcn/loss</td><td>0.77387</td></tr></table><br/></div></div>"
      ],
      "text/plain": [
       "<IPython.core.display.HTML object>"
      ]
     },
     "metadata": {},
     "output_type": "display_data"
    },
    {
     "data": {
      "text/html": [
       "Synced <strong style=\"color:#cdcd00\">flowing-sweep-38</strong>: <a href=\"https://wandb.ai/luxtu/node-classification/runs/op1y6etr\" target=\"_blank\">https://wandb.ai/luxtu/node-classification/runs/op1y6etr</a><br/>Synced 5 W&B file(s), 2 media file(s), 2 artifact file(s) and 0 other file(s)"
      ],
      "text/plain": [
       "<IPython.core.display.HTML object>"
      ]
     },
     "metadata": {},
     "output_type": "display_data"
    },
    {
     "data": {
      "text/html": [
       "Find logs at: <code>./wandb/run-20221104_105722-op1y6etr/logs</code>"
      ],
      "text/plain": [
       "<IPython.core.display.HTML object>"
      ]
     },
     "metadata": {},
     "output_type": "display_data"
    },
    {
     "name": "stderr",
     "output_type": "stream",
     "text": [
      "wandb: Agent Starting Run: c89m4o9p with config:\n",
      "wandb: \thidden_channels: 32\n",
      "wandb: \tlr: 0.0007731447495505269\n",
      "wandb: \tweight_decay: 0.0004897315811752498\n"
     ]
    },
    {
     "data": {
      "text/html": [
       "Tracking run with wandb version 0.13.5"
      ],
      "text/plain": [
       "<IPython.core.display.HTML object>"
      ]
     },
     "metadata": {},
     "output_type": "display_data"
    },
    {
     "data": {
      "text/html": [
       "Run data is saved locally in <code>/home/laurin/Documents/network-eval/wandb/run-20221104_105739-c89m4o9p</code>"
      ],
      "text/plain": [
       "<IPython.core.display.HTML object>"
      ]
     },
     "metadata": {},
     "output_type": "display_data"
    },
    {
     "data": {
      "text/html": [
       "Syncing run <strong><a href=\"https://wandb.ai/luxtu/node-classification/runs/c89m4o9p\" target=\"_blank\">zesty-sweep-39</a></strong> to <a href=\"https://wandb.ai/luxtu/node-classification\" target=\"_blank\">Weights & Biases</a> (<a href=\"https://wandb.me/run\" target=\"_blank\">docs</a>)<br/>Sweep page:  <a href=\"https://wandb.ai/luxtu/node-classification/sweeps/rdzqj7go\" target=\"_blank\">https://wandb.ai/luxtu/node-classification/sweeps/rdzqj7go</a>"
      ],
      "text/plain": [
       "<IPython.core.display.HTML object>"
      ]
     },
     "metadata": {},
     "output_type": "display_data"
    },
    {
     "name": "stderr",
     "output_type": "stream",
     "text": [
      "100%|██████████| 100/100 [00:04<00:00, 23.87it/s]\n"
     ]
    },
    {
     "data": {
      "text/html": [
       "Waiting for W&B process to finish... <strong style=\"color:green\">(success).</strong>"
      ],
      "text/plain": [
       "<IPython.core.display.HTML object>"
      ]
     },
     "metadata": {},
     "output_type": "display_data"
    },
    {
     "data": {
      "application/vnd.jupyter.widget-view+json": {
       "model_id": "e9a4a4df9be14beca6665354083b8eaa",
       "version_major": 2,
       "version_minor": 0
      },
      "text/plain": [
       "VBox(children=(Label(value='1.671 MB of 2.227 MB uploaded (0.000 MB deduped)\\r'), FloatProgress(value=0.750191…"
      ]
     },
     "metadata": {},
     "output_type": "display_data"
    },
    {
     "data": {
      "text/html": [
       "<style>\n",
       "    table.wandb td:nth-child(1) { padding: 0 10px; text-align: left ; width: auto;} td:nth-child(2) {text-align: left ; width: 100%}\n",
       "    .wandb-row { display: flex; flex-direction: row; flex-wrap: wrap; justify-content: flex-start; width: 100% }\n",
       "    .wandb-col { display: flex; flex-direction: column; flex-basis: 100%; flex: 1; padding: 10px; }\n",
       "    </style>\n",
       "<div class=\"wandb-row\"><div class=\"wandb-col\"><h3>Run history:</h3><br/><table class=\"wandb\"><tr><td>gcn/accuracy</td><td>▁</td></tr><tr><td>gcn/loss</td><td>█▇▆▆▅▄▄▃▃▃▂▂▂▂▂▂▂▁▁▂▁▁▁▁▁▁▁▁▁▁▁▁▁▁▁▁▁▁▁▁</td></tr></table><br/></div><div class=\"wandb-col\"><h3>Run summary:</h3><br/><table class=\"wandb\"><tr><td>gcn/accuracy</td><td>0.75531</td></tr><tr><td>gcn/loss</td><td>0.66394</td></tr></table><br/></div></div>"
      ],
      "text/plain": [
       "<IPython.core.display.HTML object>"
      ]
     },
     "metadata": {},
     "output_type": "display_data"
    },
    {
     "data": {
      "text/html": [
       "Synced <strong style=\"color:#cdcd00\">zesty-sweep-39</strong>: <a href=\"https://wandb.ai/luxtu/node-classification/runs/c89m4o9p\" target=\"_blank\">https://wandb.ai/luxtu/node-classification/runs/c89m4o9p</a><br/>Synced 5 W&B file(s), 2 media file(s), 2 artifact file(s) and 0 other file(s)"
      ],
      "text/plain": [
       "<IPython.core.display.HTML object>"
      ]
     },
     "metadata": {},
     "output_type": "display_data"
    },
    {
     "data": {
      "text/html": [
       "Find logs at: <code>./wandb/run-20221104_105739-c89m4o9p/logs</code>"
      ],
      "text/plain": [
       "<IPython.core.display.HTML object>"
      ]
     },
     "metadata": {},
     "output_type": "display_data"
    },
    {
     "name": "stderr",
     "output_type": "stream",
     "text": [
      "wandb: Agent Starting Run: huaerzpx with config:\n",
      "wandb: \thidden_channels: 32\n",
      "wandb: \tlr: 0.0008997915957409576\n",
      "wandb: \tweight_decay: 0.0004972512303840272\n"
     ]
    },
    {
     "data": {
      "text/html": [
       "Tracking run with wandb version 0.13.5"
      ],
      "text/plain": [
       "<IPython.core.display.HTML object>"
      ]
     },
     "metadata": {},
     "output_type": "display_data"
    },
    {
     "data": {
      "text/html": [
       "Run data is saved locally in <code>/home/laurin/Documents/network-eval/wandb/run-20221104_105755-huaerzpx</code>"
      ],
      "text/plain": [
       "<IPython.core.display.HTML object>"
      ]
     },
     "metadata": {},
     "output_type": "display_data"
    },
    {
     "data": {
      "text/html": [
       "Syncing run <strong><a href=\"https://wandb.ai/luxtu/node-classification/runs/huaerzpx\" target=\"_blank\">icy-sweep-40</a></strong> to <a href=\"https://wandb.ai/luxtu/node-classification\" target=\"_blank\">Weights & Biases</a> (<a href=\"https://wandb.me/run\" target=\"_blank\">docs</a>)<br/>Sweep page:  <a href=\"https://wandb.ai/luxtu/node-classification/sweeps/rdzqj7go\" target=\"_blank\">https://wandb.ai/luxtu/node-classification/sweeps/rdzqj7go</a>"
      ],
      "text/plain": [
       "<IPython.core.display.HTML object>"
      ]
     },
     "metadata": {},
     "output_type": "display_data"
    },
    {
     "name": "stderr",
     "output_type": "stream",
     "text": [
      "100%|██████████| 100/100 [00:03<00:00, 25.20it/s]\n"
     ]
    },
    {
     "data": {
      "text/html": [
       "Waiting for W&B process to finish... <strong style=\"color:green\">(success).</strong>"
      ],
      "text/plain": [
       "<IPython.core.display.HTML object>"
      ]
     },
     "metadata": {},
     "output_type": "display_data"
    },
    {
     "data": {
      "application/vnd.jupyter.widget-view+json": {
       "model_id": "0866d1e829c64cc7bd66f00c8fb57e72",
       "version_major": 2,
       "version_minor": 0
      },
      "text/plain": [
       "VBox(children=(Label(value='1.672 MB of 2.230 MB uploaded (0.000 MB deduped)\\r'), FloatProgress(value=0.749851…"
      ]
     },
     "metadata": {},
     "output_type": "display_data"
    },
    {
     "data": {
      "text/html": [
       "<style>\n",
       "    table.wandb td:nth-child(1) { padding: 0 10px; text-align: left ; width: auto;} td:nth-child(2) {text-align: left ; width: 100%}\n",
       "    .wandb-row { display: flex; flex-direction: row; flex-wrap: wrap; justify-content: flex-start; width: 100% }\n",
       "    .wandb-col { display: flex; flex-direction: column; flex-basis: 100%; flex: 1; padding: 10px; }\n",
       "    </style>\n",
       "<div class=\"wandb-row\"><div class=\"wandb-col\"><h3>Run history:</h3><br/><table class=\"wandb\"><tr><td>gcn/accuracy</td><td>▁</td></tr><tr><td>gcn/loss</td><td>█▇▆▅▄▄▃▃▃▂▂▂▂▂▂▂▁▁▁▁▁▁▁▁▁▁▁▁▁▁▁▁▁▁▁▁▁▁▁▁</td></tr></table><br/></div><div class=\"wandb-col\"><h3>Run summary:</h3><br/><table class=\"wandb\"><tr><td>gcn/accuracy</td><td>0.75385</td></tr><tr><td>gcn/loss</td><td>0.65434</td></tr></table><br/></div></div>"
      ],
      "text/plain": [
       "<IPython.core.display.HTML object>"
      ]
     },
     "metadata": {},
     "output_type": "display_data"
    },
    {
     "data": {
      "text/html": [
       "Synced <strong style=\"color:#cdcd00\">icy-sweep-40</strong>: <a href=\"https://wandb.ai/luxtu/node-classification/runs/huaerzpx\" target=\"_blank\">https://wandb.ai/luxtu/node-classification/runs/huaerzpx</a><br/>Synced 5 W&B file(s), 2 media file(s), 2 artifact file(s) and 0 other file(s)"
      ],
      "text/plain": [
       "<IPython.core.display.HTML object>"
      ]
     },
     "metadata": {},
     "output_type": "display_data"
    },
    {
     "data": {
      "text/html": [
       "Find logs at: <code>./wandb/run-20221104_105755-huaerzpx/logs</code>"
      ],
      "text/plain": [
       "<IPython.core.display.HTML object>"
      ]
     },
     "metadata": {},
     "output_type": "display_data"
    },
    {
     "name": "stderr",
     "output_type": "stream",
     "text": [
      "wandb: Agent Starting Run: eyqfwd9f with config:\n",
      "wandb: \thidden_channels: 32\n",
      "wandb: \tlr: 0.0003502032327833951\n",
      "wandb: \tweight_decay: 0.0004886174451373189\n"
     ]
    },
    {
     "data": {
      "text/html": [
       "Tracking run with wandb version 0.13.5"
      ],
      "text/plain": [
       "<IPython.core.display.HTML object>"
      ]
     },
     "metadata": {},
     "output_type": "display_data"
    },
    {
     "data": {
      "text/html": [
       "Run data is saved locally in <code>/home/laurin/Documents/network-eval/wandb/run-20221104_105811-eyqfwd9f</code>"
      ],
      "text/plain": [
       "<IPython.core.display.HTML object>"
      ]
     },
     "metadata": {},
     "output_type": "display_data"
    },
    {
     "data": {
      "text/html": [
       "Syncing run <strong><a href=\"https://wandb.ai/luxtu/node-classification/runs/eyqfwd9f\" target=\"_blank\">ethereal-sweep-41</a></strong> to <a href=\"https://wandb.ai/luxtu/node-classification\" target=\"_blank\">Weights & Biases</a> (<a href=\"https://wandb.me/run\" target=\"_blank\">docs</a>)<br/>Sweep page:  <a href=\"https://wandb.ai/luxtu/node-classification/sweeps/rdzqj7go\" target=\"_blank\">https://wandb.ai/luxtu/node-classification/sweeps/rdzqj7go</a>"
      ],
      "text/plain": [
       "<IPython.core.display.HTML object>"
      ]
     },
     "metadata": {},
     "output_type": "display_data"
    },
    {
     "name": "stderr",
     "output_type": "stream",
     "text": [
      "100%|██████████| 100/100 [00:04<00:00, 22.67it/s]\n"
     ]
    },
    {
     "data": {
      "text/html": [
       "Waiting for W&B process to finish... <strong style=\"color:green\">(success).</strong>"
      ],
      "text/plain": [
       "<IPython.core.display.HTML object>"
      ]
     },
     "metadata": {},
     "output_type": "display_data"
    },
    {
     "data": {
      "application/vnd.jupyter.widget-view+json": {
       "model_id": "58b31303ed2a4d189529eecc45c48783",
       "version_major": 2,
       "version_minor": 0
      },
      "text/plain": [
       "VBox(children=(Label(value='1.665 MB of 2.216 MB uploaded (0.000 MB deduped)\\r'), FloatProgress(value=0.751466…"
      ]
     },
     "metadata": {},
     "output_type": "display_data"
    },
    {
     "data": {
      "text/html": [
       "<style>\n",
       "    table.wandb td:nth-child(1) { padding: 0 10px; text-align: left ; width: auto;} td:nth-child(2) {text-align: left ; width: 100%}\n",
       "    .wandb-row { display: flex; flex-direction: row; flex-wrap: wrap; justify-content: flex-start; width: 100% }\n",
       "    .wandb-col { display: flex; flex-direction: column; flex-basis: 100%; flex: 1; padding: 10px; }\n",
       "    </style>\n",
       "<div class=\"wandb-row\"><div class=\"wandb-col\"><h3>Run history:</h3><br/><table class=\"wandb\"><tr><td>gcn/accuracy</td><td>▁</td></tr><tr><td>gcn/loss</td><td>██▇▇▆▆▆▅▅▅▄▄▄▃▄▃▃▃▂▃▂▂▂▂▂▂▂▂▁▂▁▂▂▁▁▁▁▁▁▁</td></tr></table><br/></div><div class=\"wandb-col\"><h3>Run summary:</h3><br/><table class=\"wandb\"><tr><td>gcn/accuracy</td><td>0.75018</td></tr><tr><td>gcn/loss</td><td>0.76126</td></tr></table><br/></div></div>"
      ],
      "text/plain": [
       "<IPython.core.display.HTML object>"
      ]
     },
     "metadata": {},
     "output_type": "display_data"
    },
    {
     "data": {
      "text/html": [
       "Synced <strong style=\"color:#cdcd00\">ethereal-sweep-41</strong>: <a href=\"https://wandb.ai/luxtu/node-classification/runs/eyqfwd9f\" target=\"_blank\">https://wandb.ai/luxtu/node-classification/runs/eyqfwd9f</a><br/>Synced 5 W&B file(s), 2 media file(s), 2 artifact file(s) and 0 other file(s)"
      ],
      "text/plain": [
       "<IPython.core.display.HTML object>"
      ]
     },
     "metadata": {},
     "output_type": "display_data"
    },
    {
     "data": {
      "text/html": [
       "Find logs at: <code>./wandb/run-20221104_105811-eyqfwd9f/logs</code>"
      ],
      "text/plain": [
       "<IPython.core.display.HTML object>"
      ]
     },
     "metadata": {},
     "output_type": "display_data"
    },
    {
     "name": "stderr",
     "output_type": "stream",
     "text": [
      "wandb: Agent Starting Run: iai951zc with config:\n",
      "wandb: \thidden_channels: 32\n",
      "wandb: \tlr: 0.0006054303723522903\n",
      "wandb: \tweight_decay: 0.0004877296887444949\n"
     ]
    },
    {
     "data": {
      "text/html": [
       "Tracking run with wandb version 0.13.5"
      ],
      "text/plain": [
       "<IPython.core.display.HTML object>"
      ]
     },
     "metadata": {},
     "output_type": "display_data"
    },
    {
     "data": {
      "text/html": [
       "Run data is saved locally in <code>/home/laurin/Documents/network-eval/wandb/run-20221104_105827-iai951zc</code>"
      ],
      "text/plain": [
       "<IPython.core.display.HTML object>"
      ]
     },
     "metadata": {},
     "output_type": "display_data"
    },
    {
     "data": {
      "text/html": [
       "Syncing run <strong><a href=\"https://wandb.ai/luxtu/node-classification/runs/iai951zc\" target=\"_blank\">magic-sweep-42</a></strong> to <a href=\"https://wandb.ai/luxtu/node-classification\" target=\"_blank\">Weights & Biases</a> (<a href=\"https://wandb.me/run\" target=\"_blank\">docs</a>)<br/>Sweep page:  <a href=\"https://wandb.ai/luxtu/node-classification/sweeps/rdzqj7go\" target=\"_blank\">https://wandb.ai/luxtu/node-classification/sweeps/rdzqj7go</a>"
      ],
      "text/plain": [
       "<IPython.core.display.HTML object>"
      ]
     },
     "metadata": {},
     "output_type": "display_data"
    },
    {
     "name": "stderr",
     "output_type": "stream",
     "text": [
      "100%|██████████| 100/100 [00:03<00:00, 26.68it/s]\n"
     ]
    },
    {
     "data": {
      "text/html": [
       "Waiting for W&B process to finish... <strong style=\"color:green\">(success).</strong>"
      ],
      "text/plain": [
       "<IPython.core.display.HTML object>"
      ]
     },
     "metadata": {},
     "output_type": "display_data"
    },
    {
     "data": {
      "text/html": [
       "<style>\n",
       "    table.wandb td:nth-child(1) { padding: 0 10px; text-align: left ; width: auto;} td:nth-child(2) {text-align: left ; width: 100%}\n",
       "    .wandb-row { display: flex; flex-direction: row; flex-wrap: wrap; justify-content: flex-start; width: 100% }\n",
       "    .wandb-col { display: flex; flex-direction: column; flex-basis: 100%; flex: 1; padding: 10px; }\n",
       "    </style>\n",
       "<div class=\"wandb-row\"><div class=\"wandb-col\"><h3>Run history:</h3><br/><table class=\"wandb\"><tr><td>gcn/accuracy</td><td>▁</td></tr><tr><td>gcn/loss</td><td>█▇▆▆▅▅▄▄▄▃▃▃▂▂▂▂▂▂▂▂▂▁▁▂▂▁▁▁▁▁▁▁▁▁▁▁▁▁▁▁</td></tr></table><br/></div><div class=\"wandb-col\"><h3>Run summary:</h3><br/><table class=\"wandb\"><tr><td>gcn/accuracy</td><td>0.75458</td></tr><tr><td>gcn/loss</td><td>0.68214</td></tr></table><br/></div></div>"
      ],
      "text/plain": [
       "<IPython.core.display.HTML object>"
      ]
     },
     "metadata": {},
     "output_type": "display_data"
    },
    {
     "data": {
      "text/html": [
       "Synced <strong style=\"color:#cdcd00\">magic-sweep-42</strong>: <a href=\"https://wandb.ai/luxtu/node-classification/runs/iai951zc\" target=\"_blank\">https://wandb.ai/luxtu/node-classification/runs/iai951zc</a><br/>Synced 5 W&B file(s), 2 media file(s), 2 artifact file(s) and 0 other file(s)"
      ],
      "text/plain": [
       "<IPython.core.display.HTML object>"
      ]
     },
     "metadata": {},
     "output_type": "display_data"
    },
    {
     "data": {
      "text/html": [
       "Find logs at: <code>./wandb/run-20221104_105827-iai951zc/logs</code>"
      ],
      "text/plain": [
       "<IPython.core.display.HTML object>"
      ]
     },
     "metadata": {},
     "output_type": "display_data"
    },
    {
     "name": "stderr",
     "output_type": "stream",
     "text": [
      "wandb: Agent Starting Run: ou2uwvok with config:\n",
      "wandb: \thidden_channels: 32\n",
      "wandb: \tlr: 0.0008203236918623475\n",
      "wandb: \tweight_decay: 0.0004935537283363351\n"
     ]
    },
    {
     "data": {
      "text/html": [
       "Tracking run with wandb version 0.13.5"
      ],
      "text/plain": [
       "<IPython.core.display.HTML object>"
      ]
     },
     "metadata": {},
     "output_type": "display_data"
    },
    {
     "data": {
      "text/html": [
       "Run data is saved locally in <code>/home/laurin/Documents/network-eval/wandb/run-20221104_105844-ou2uwvok</code>"
      ],
      "text/plain": [
       "<IPython.core.display.HTML object>"
      ]
     },
     "metadata": {},
     "output_type": "display_data"
    },
    {
     "data": {
      "text/html": [
       "Syncing run <strong><a href=\"https://wandb.ai/luxtu/node-classification/runs/ou2uwvok\" target=\"_blank\">earnest-sweep-43</a></strong> to <a href=\"https://wandb.ai/luxtu/node-classification\" target=\"_blank\">Weights & Biases</a> (<a href=\"https://wandb.me/run\" target=\"_blank\">docs</a>)<br/>Sweep page:  <a href=\"https://wandb.ai/luxtu/node-classification/sweeps/rdzqj7go\" target=\"_blank\">https://wandb.ai/luxtu/node-classification/sweeps/rdzqj7go</a>"
      ],
      "text/plain": [
       "<IPython.core.display.HTML object>"
      ]
     },
     "metadata": {},
     "output_type": "display_data"
    },
    {
     "name": "stderr",
     "output_type": "stream",
     "text": [
      "100%|██████████| 100/100 [00:03<00:00, 28.34it/s]\n"
     ]
    },
    {
     "data": {
      "text/html": [
       "Waiting for W&B process to finish... <strong style=\"color:green\">(success).</strong>"
      ],
      "text/plain": [
       "<IPython.core.display.HTML object>"
      ]
     },
     "metadata": {},
     "output_type": "display_data"
    },
    {
     "data": {
      "application/vnd.jupyter.widget-view+json": {
       "model_id": "b6cfaef995f44c3db1131ad9829c871f",
       "version_major": 2,
       "version_minor": 0
      },
      "text/plain": [
       "VBox(children=(Label(value='1.671 MB of 2.228 MB uploaded (0.000 MB deduped)\\r'), FloatProgress(value=0.750069…"
      ]
     },
     "metadata": {},
     "output_type": "display_data"
    },
    {
     "data": {
      "text/html": [
       "<style>\n",
       "    table.wandb td:nth-child(1) { padding: 0 10px; text-align: left ; width: auto;} td:nth-child(2) {text-align: left ; width: 100%}\n",
       "    .wandb-row { display: flex; flex-direction: row; flex-wrap: wrap; justify-content: flex-start; width: 100% }\n",
       "    .wandb-col { display: flex; flex-direction: column; flex-basis: 100%; flex: 1; padding: 10px; }\n",
       "    </style>\n",
       "<div class=\"wandb-row\"><div class=\"wandb-col\"><h3>Run history:</h3><br/><table class=\"wandb\"><tr><td>gcn/accuracy</td><td>▁</td></tr><tr><td>gcn/loss</td><td>█▇▆▆▄▄▄▃▃▂▂▂▂▂▂▂▂▁▁▁▁▁▁▁▁▁▁▁▁▁▁▁▁▁▁▁▁▁▁▁</td></tr></table><br/></div><div class=\"wandb-col\"><h3>Run summary:</h3><br/><table class=\"wandb\"><tr><td>gcn/accuracy</td><td>0.75385</td></tr><tr><td>gcn/loss</td><td>0.66008</td></tr></table><br/></div></div>"
      ],
      "text/plain": [
       "<IPython.core.display.HTML object>"
      ]
     },
     "metadata": {},
     "output_type": "display_data"
    },
    {
     "data": {
      "text/html": [
       "Synced <strong style=\"color:#cdcd00\">earnest-sweep-43</strong>: <a href=\"https://wandb.ai/luxtu/node-classification/runs/ou2uwvok\" target=\"_blank\">https://wandb.ai/luxtu/node-classification/runs/ou2uwvok</a><br/>Synced 5 W&B file(s), 2 media file(s), 2 artifact file(s) and 0 other file(s)"
      ],
      "text/plain": [
       "<IPython.core.display.HTML object>"
      ]
     },
     "metadata": {},
     "output_type": "display_data"
    },
    {
     "data": {
      "text/html": [
       "Find logs at: <code>./wandb/run-20221104_105844-ou2uwvok/logs</code>"
      ],
      "text/plain": [
       "<IPython.core.display.HTML object>"
      ]
     },
     "metadata": {},
     "output_type": "display_data"
    },
    {
     "name": "stderr",
     "output_type": "stream",
     "text": [
      "wandb: Agent Starting Run: g4pp034k with config:\n",
      "wandb: \thidden_channels: 32\n",
      "wandb: \tlr: 0.0009971113462056886\n",
      "wandb: \tweight_decay: 0.0005032322807342068\n"
     ]
    },
    {
     "data": {
      "text/html": [
       "Tracking run with wandb version 0.13.5"
      ],
      "text/plain": [
       "<IPython.core.display.HTML object>"
      ]
     },
     "metadata": {},
     "output_type": "display_data"
    },
    {
     "data": {
      "text/html": [
       "Run data is saved locally in <code>/home/laurin/Documents/network-eval/wandb/run-20221104_105900-g4pp034k</code>"
      ],
      "text/plain": [
       "<IPython.core.display.HTML object>"
      ]
     },
     "metadata": {},
     "output_type": "display_data"
    },
    {
     "data": {
      "text/html": [
       "Syncing run <strong><a href=\"https://wandb.ai/luxtu/node-classification/runs/g4pp034k\" target=\"_blank\">atomic-sweep-44</a></strong> to <a href=\"https://wandb.ai/luxtu/node-classification\" target=\"_blank\">Weights & Biases</a> (<a href=\"https://wandb.me/run\" target=\"_blank\">docs</a>)<br/>Sweep page:  <a href=\"https://wandb.ai/luxtu/node-classification/sweeps/rdzqj7go\" target=\"_blank\">https://wandb.ai/luxtu/node-classification/sweeps/rdzqj7go</a>"
      ],
      "text/plain": [
       "<IPython.core.display.HTML object>"
      ]
     },
     "metadata": {},
     "output_type": "display_data"
    },
    {
     "name": "stderr",
     "output_type": "stream",
     "text": [
      "100%|██████████| 100/100 [00:04<00:00, 22.91it/s]\n"
     ]
    },
    {
     "data": {
      "text/html": [
       "Waiting for W&B process to finish... <strong style=\"color:green\">(success).</strong>"
      ],
      "text/plain": [
       "<IPython.core.display.HTML object>"
      ]
     },
     "metadata": {},
     "output_type": "display_data"
    },
    {
     "data": {
      "application/vnd.jupyter.widget-view+json": {
       "model_id": "88e721ed8b764dc398e0e9a6d2bf7b97",
       "version_major": 2,
       "version_minor": 0
      },
      "text/plain": [
       "VBox(children=(Label(value='1.673 MB of 2.232 MB uploaded (0.000 MB deduped)\\r'), FloatProgress(value=0.749704…"
      ]
     },
     "metadata": {},
     "output_type": "display_data"
    },
    {
     "data": {
      "text/html": [
       "<style>\n",
       "    table.wandb td:nth-child(1) { padding: 0 10px; text-align: left ; width: auto;} td:nth-child(2) {text-align: left ; width: 100%}\n",
       "    .wandb-row { display: flex; flex-direction: row; flex-wrap: wrap; justify-content: flex-start; width: 100% }\n",
       "    .wandb-col { display: flex; flex-direction: column; flex-basis: 100%; flex: 1; padding: 10px; }\n",
       "    </style>\n",
       "<div class=\"wandb-row\"><div class=\"wandb-col\"><h3>Run history:</h3><br/><table class=\"wandb\"><tr><td>gcn/accuracy</td><td>▁</td></tr><tr><td>gcn/loss</td><td>█▇▆▅▄▄▃▃▂▂▂▂▂▂▂▁▁▁▁▁▁▁▁▁▁▁▁▁▁▁▁▁▁▁▁▁▁▁▁▁</td></tr></table><br/></div><div class=\"wandb-col\"><h3>Run summary:</h3><br/><table class=\"wandb\"><tr><td>gcn/accuracy</td><td>0.75385</td></tr><tr><td>gcn/loss</td><td>0.64803</td></tr></table><br/></div></div>"
      ],
      "text/plain": [
       "<IPython.core.display.HTML object>"
      ]
     },
     "metadata": {},
     "output_type": "display_data"
    },
    {
     "data": {
      "text/html": [
       "Synced <strong style=\"color:#cdcd00\">atomic-sweep-44</strong>: <a href=\"https://wandb.ai/luxtu/node-classification/runs/g4pp034k\" target=\"_blank\">https://wandb.ai/luxtu/node-classification/runs/g4pp034k</a><br/>Synced 5 W&B file(s), 2 media file(s), 2 artifact file(s) and 0 other file(s)"
      ],
      "text/plain": [
       "<IPython.core.display.HTML object>"
      ]
     },
     "metadata": {},
     "output_type": "display_data"
    },
    {
     "data": {
      "text/html": [
       "Find logs at: <code>./wandb/run-20221104_105900-g4pp034k/logs</code>"
      ],
      "text/plain": [
       "<IPython.core.display.HTML object>"
      ]
     },
     "metadata": {},
     "output_type": "display_data"
    },
    {
     "name": "stderr",
     "output_type": "stream",
     "text": [
      "wandb: Agent Starting Run: fu9vez9t with config:\n",
      "wandb: \thidden_channels: 32\n",
      "wandb: \tlr: 0.0005128424628896482\n",
      "wandb: \tweight_decay: 0.0004988223638252293\n"
     ]
    },
    {
     "data": {
      "text/html": [
       "Tracking run with wandb version 0.13.5"
      ],
      "text/plain": [
       "<IPython.core.display.HTML object>"
      ]
     },
     "metadata": {},
     "output_type": "display_data"
    },
    {
     "data": {
      "text/html": [
       "Run data is saved locally in <code>/home/laurin/Documents/network-eval/wandb/run-20221104_105916-fu9vez9t</code>"
      ],
      "text/plain": [
       "<IPython.core.display.HTML object>"
      ]
     },
     "metadata": {},
     "output_type": "display_data"
    },
    {
     "data": {
      "text/html": [
       "Syncing run <strong><a href=\"https://wandb.ai/luxtu/node-classification/runs/fu9vez9t\" target=\"_blank\">different-sweep-45</a></strong> to <a href=\"https://wandb.ai/luxtu/node-classification\" target=\"_blank\">Weights & Biases</a> (<a href=\"https://wandb.me/run\" target=\"_blank\">docs</a>)<br/>Sweep page:  <a href=\"https://wandb.ai/luxtu/node-classification/sweeps/rdzqj7go\" target=\"_blank\">https://wandb.ai/luxtu/node-classification/sweeps/rdzqj7go</a>"
      ],
      "text/plain": [
       "<IPython.core.display.HTML object>"
      ]
     },
     "metadata": {},
     "output_type": "display_data"
    },
    {
     "name": "stderr",
     "output_type": "stream",
     "text": [
      "100%|██████████| 100/100 [00:04<00:00, 24.10it/s]\n"
     ]
    },
    {
     "data": {
      "text/html": [
       "Waiting for W&B process to finish... <strong style=\"color:green\">(success).</strong>"
      ],
      "text/plain": [
       "<IPython.core.display.HTML object>"
      ]
     },
     "metadata": {},
     "output_type": "display_data"
    },
    {
     "data": {
      "application/vnd.jupyter.widget-view+json": {
       "model_id": "5d80a0070d7840beb9117358f6fe3c75",
       "version_major": 2,
       "version_minor": 0
      },
      "text/plain": [
       "VBox(children=(Label(value='1.667 MB of 2.220 MB uploaded (0.000 MB deduped)\\r'), FloatProgress(value=0.751040…"
      ]
     },
     "metadata": {},
     "output_type": "display_data"
    },
    {
     "data": {
      "text/html": [
       "<style>\n",
       "    table.wandb td:nth-child(1) { padding: 0 10px; text-align: left ; width: auto;} td:nth-child(2) {text-align: left ; width: 100%}\n",
       "    .wandb-row { display: flex; flex-direction: row; flex-wrap: wrap; justify-content: flex-start; width: 100% }\n",
       "    .wandb-col { display: flex; flex-direction: column; flex-basis: 100%; flex: 1; padding: 10px; }\n",
       "    </style>\n",
       "<div class=\"wandb-row\"><div class=\"wandb-col\"><h3>Run history:</h3><br/><table class=\"wandb\"><tr><td>gcn/accuracy</td><td>▁</td></tr><tr><td>gcn/loss</td><td>██▇▆▅▅▅▄▄▄▃▃▃▃▃▂▂▂▂▂▂▂▂▂▂▁▁▁▁▁▁▁▁▁▁▁▁▁▁▁</td></tr></table><br/></div><div class=\"wandb-col\"><h3>Run summary:</h3><br/><table class=\"wandb\"><tr><td>gcn/accuracy</td><td>0.75385</td></tr><tr><td>gcn/loss</td><td>0.69809</td></tr></table><br/></div></div>"
      ],
      "text/plain": [
       "<IPython.core.display.HTML object>"
      ]
     },
     "metadata": {},
     "output_type": "display_data"
    },
    {
     "data": {
      "text/html": [
       "Synced <strong style=\"color:#cdcd00\">different-sweep-45</strong>: <a href=\"https://wandb.ai/luxtu/node-classification/runs/fu9vez9t\" target=\"_blank\">https://wandb.ai/luxtu/node-classification/runs/fu9vez9t</a><br/>Synced 5 W&B file(s), 2 media file(s), 2 artifact file(s) and 0 other file(s)"
      ],
      "text/plain": [
       "<IPython.core.display.HTML object>"
      ]
     },
     "metadata": {},
     "output_type": "display_data"
    },
    {
     "data": {
      "text/html": [
       "Find logs at: <code>./wandb/run-20221104_105916-fu9vez9t/logs</code>"
      ],
      "text/plain": [
       "<IPython.core.display.HTML object>"
      ]
     },
     "metadata": {},
     "output_type": "display_data"
    },
    {
     "name": "stderr",
     "output_type": "stream",
     "text": [
      "wandb: Agent Starting Run: tgvgndbr with config:\n",
      "wandb: \thidden_channels: 32\n",
      "wandb: \tlr: 0.0007007025183851342\n",
      "wandb: \tweight_decay: 0.0004995623087058508\n"
     ]
    },
    {
     "data": {
      "text/html": [
       "Tracking run with wandb version 0.13.5"
      ],
      "text/plain": [
       "<IPython.core.display.HTML object>"
      ]
     },
     "metadata": {},
     "output_type": "display_data"
    },
    {
     "data": {
      "text/html": [
       "Run data is saved locally in <code>/home/laurin/Documents/network-eval/wandb/run-20221104_105932-tgvgndbr</code>"
      ],
      "text/plain": [
       "<IPython.core.display.HTML object>"
      ]
     },
     "metadata": {},
     "output_type": "display_data"
    },
    {
     "data": {
      "text/html": [
       "Syncing run <strong><a href=\"https://wandb.ai/luxtu/node-classification/runs/tgvgndbr\" target=\"_blank\">rare-sweep-46</a></strong> to <a href=\"https://wandb.ai/luxtu/node-classification\" target=\"_blank\">Weights & Biases</a> (<a href=\"https://wandb.me/run\" target=\"_blank\">docs</a>)<br/>Sweep page:  <a href=\"https://wandb.ai/luxtu/node-classification/sweeps/rdzqj7go\" target=\"_blank\">https://wandb.ai/luxtu/node-classification/sweeps/rdzqj7go</a>"
      ],
      "text/plain": [
       "<IPython.core.display.HTML object>"
      ]
     },
     "metadata": {},
     "output_type": "display_data"
    },
    {
     "name": "stderr",
     "output_type": "stream",
     "text": [
      "100%|██████████| 100/100 [00:04<00:00, 24.54it/s]\n"
     ]
    },
    {
     "data": {
      "text/html": [
       "Waiting for W&B process to finish... <strong style=\"color:green\">(success).</strong>"
      ],
      "text/plain": [
       "<IPython.core.display.HTML object>"
      ]
     },
     "metadata": {},
     "output_type": "display_data"
    },
    {
     "data": {
      "application/vnd.jupyter.widget-view+json": {
       "model_id": "38a692bf14384656ad48bdd404cace4e",
       "version_major": 2,
       "version_minor": 0
      },
      "text/plain": [
       "VBox(children=(Label(value='1.670 MB of 2.226 MB uploaded (0.000 MB deduped)\\r'), FloatProgress(value=0.750373…"
      ]
     },
     "metadata": {},
     "output_type": "display_data"
    },
    {
     "data": {
      "text/html": [
       "<style>\n",
       "    table.wandb td:nth-child(1) { padding: 0 10px; text-align: left ; width: auto;} td:nth-child(2) {text-align: left ; width: 100%}\n",
       "    .wandb-row { display: flex; flex-direction: row; flex-wrap: wrap; justify-content: flex-start; width: 100% }\n",
       "    .wandb-col { display: flex; flex-direction: column; flex-basis: 100%; flex: 1; padding: 10px; }\n",
       "    </style>\n",
       "<div class=\"wandb-row\"><div class=\"wandb-col\"><h3>Run history:</h3><br/><table class=\"wandb\"><tr><td>gcn/accuracy</td><td>▁</td></tr><tr><td>gcn/loss</td><td>█▇▆▆▅▅▄▃▃▃▃▂▂▂▂▂▂▂▁▂▁▁▁▁▁▁▁▁▁▁▁▁▁▁▁▁▁▁▁▁</td></tr></table><br/></div><div class=\"wandb-col\"><h3>Run summary:</h3><br/><table class=\"wandb\"><tr><td>gcn/accuracy</td><td>0.75385</td></tr><tr><td>gcn/loss</td><td>0.67075</td></tr></table><br/></div></div>"
      ],
      "text/plain": [
       "<IPython.core.display.HTML object>"
      ]
     },
     "metadata": {},
     "output_type": "display_data"
    },
    {
     "data": {
      "text/html": [
       "Synced <strong style=\"color:#cdcd00\">rare-sweep-46</strong>: <a href=\"https://wandb.ai/luxtu/node-classification/runs/tgvgndbr\" target=\"_blank\">https://wandb.ai/luxtu/node-classification/runs/tgvgndbr</a><br/>Synced 5 W&B file(s), 2 media file(s), 2 artifact file(s) and 0 other file(s)"
      ],
      "text/plain": [
       "<IPython.core.display.HTML object>"
      ]
     },
     "metadata": {},
     "output_type": "display_data"
    },
    {
     "data": {
      "text/html": [
       "Find logs at: <code>./wandb/run-20221104_105932-tgvgndbr/logs</code>"
      ],
      "text/plain": [
       "<IPython.core.display.HTML object>"
      ]
     },
     "metadata": {},
     "output_type": "display_data"
    },
    {
     "name": "stderr",
     "output_type": "stream",
     "text": [
      "wandb: Agent Starting Run: pqil27p5 with config:\n",
      "wandb: \thidden_channels: 32\n",
      "wandb: \tlr: 0.0008706562284272138\n",
      "wandb: \tweight_decay: 0.00048166646593005615\n"
     ]
    },
    {
     "data": {
      "text/html": [
       "Tracking run with wandb version 0.13.5"
      ],
      "text/plain": [
       "<IPython.core.display.HTML object>"
      ]
     },
     "metadata": {},
     "output_type": "display_data"
    },
    {
     "data": {
      "text/html": [
       "Run data is saved locally in <code>/home/laurin/Documents/network-eval/wandb/run-20221104_105947-pqil27p5</code>"
      ],
      "text/plain": [
       "<IPython.core.display.HTML object>"
      ]
     },
     "metadata": {},
     "output_type": "display_data"
    },
    {
     "data": {
      "text/html": [
       "Syncing run <strong><a href=\"https://wandb.ai/luxtu/node-classification/runs/pqil27p5\" target=\"_blank\">expert-sweep-47</a></strong> to <a href=\"https://wandb.ai/luxtu/node-classification\" target=\"_blank\">Weights & Biases</a> (<a href=\"https://wandb.me/run\" target=\"_blank\">docs</a>)<br/>Sweep page:  <a href=\"https://wandb.ai/luxtu/node-classification/sweeps/rdzqj7go\" target=\"_blank\">https://wandb.ai/luxtu/node-classification/sweeps/rdzqj7go</a>"
      ],
      "text/plain": [
       "<IPython.core.display.HTML object>"
      ]
     },
     "metadata": {},
     "output_type": "display_data"
    },
    {
     "name": "stderr",
     "output_type": "stream",
     "text": [
      "100%|██████████| 100/100 [00:03<00:00, 28.88it/s]\n"
     ]
    },
    {
     "data": {
      "text/html": [
       "Waiting for W&B process to finish... <strong style=\"color:green\">(success).</strong>"
      ],
      "text/plain": [
       "<IPython.core.display.HTML object>"
      ]
     },
     "metadata": {},
     "output_type": "display_data"
    },
    {
     "data": {
      "application/vnd.jupyter.widget-view+json": {
       "model_id": "e98e53701c7044f6973521b4fea2050a",
       "version_major": 2,
       "version_minor": 0
      },
      "text/plain": [
       "VBox(children=(Label(value='1.672 MB of 2.230 MB uploaded (0.000 MB deduped)\\r'), FloatProgress(value=0.749940…"
      ]
     },
     "metadata": {},
     "output_type": "display_data"
    },
    {
     "data": {
      "text/html": [
       "<style>\n",
       "    table.wandb td:nth-child(1) { padding: 0 10px; text-align: left ; width: auto;} td:nth-child(2) {text-align: left ; width: 100%}\n",
       "    .wandb-row { display: flex; flex-direction: row; flex-wrap: wrap; justify-content: flex-start; width: 100% }\n",
       "    .wandb-col { display: flex; flex-direction: column; flex-basis: 100%; flex: 1; padding: 10px; }\n",
       "    </style>\n",
       "<div class=\"wandb-row\"><div class=\"wandb-col\"><h3>Run history:</h3><br/><table class=\"wandb\"><tr><td>gcn/accuracy</td><td>▁</td></tr><tr><td>gcn/loss</td><td>█▇▆▅▄▄▄▃▃▂▂▂▂▂▂▂▁▁▁▁▁▁▁▁▁▁▁▁▁▁▁▁▁▁▁▁▁▁▁▁</td></tr></table><br/></div><div class=\"wandb-col\"><h3>Run summary:</h3><br/><table class=\"wandb\"><tr><td>gcn/accuracy</td><td>0.75385</td></tr><tr><td>gcn/loss</td><td>0.65637</td></tr></table><br/></div></div>"
      ],
      "text/plain": [
       "<IPython.core.display.HTML object>"
      ]
     },
     "metadata": {},
     "output_type": "display_data"
    },
    {
     "data": {
      "text/html": [
       "Synced <strong style=\"color:#cdcd00\">expert-sweep-47</strong>: <a href=\"https://wandb.ai/luxtu/node-classification/runs/pqil27p5\" target=\"_blank\">https://wandb.ai/luxtu/node-classification/runs/pqil27p5</a><br/>Synced 5 W&B file(s), 2 media file(s), 2 artifact file(s) and 0 other file(s)"
      ],
      "text/plain": [
       "<IPython.core.display.HTML object>"
      ]
     },
     "metadata": {},
     "output_type": "display_data"
    },
    {
     "data": {
      "text/html": [
       "Find logs at: <code>./wandb/run-20221104_105947-pqil27p5/logs</code>"
      ],
      "text/plain": [
       "<IPython.core.display.HTML object>"
      ]
     },
     "metadata": {},
     "output_type": "display_data"
    },
    {
     "name": "stderr",
     "output_type": "stream",
     "text": [
      "wandb: Agent Starting Run: sii1vkk3 with config:\n",
      "wandb: \thidden_channels: 32\n",
      "wandb: \tlr: 0.0006339522517852943\n",
      "wandb: \tweight_decay: 0.0004769734359054844\n"
     ]
    },
    {
     "data": {
      "text/html": [
       "Tracking run with wandb version 0.13.5"
      ],
      "text/plain": [
       "<IPython.core.display.HTML object>"
      ]
     },
     "metadata": {},
     "output_type": "display_data"
    },
    {
     "data": {
      "text/html": [
       "Run data is saved locally in <code>/home/laurin/Documents/network-eval/wandb/run-20221104_110003-sii1vkk3</code>"
      ],
      "text/plain": [
       "<IPython.core.display.HTML object>"
      ]
     },
     "metadata": {},
     "output_type": "display_data"
    },
    {
     "data": {
      "text/html": [
       "Syncing run <strong><a href=\"https://wandb.ai/luxtu/node-classification/runs/sii1vkk3\" target=\"_blank\">sandy-sweep-48</a></strong> to <a href=\"https://wandb.ai/luxtu/node-classification\" target=\"_blank\">Weights & Biases</a> (<a href=\"https://wandb.me/run\" target=\"_blank\">docs</a>)<br/>Sweep page:  <a href=\"https://wandb.ai/luxtu/node-classification/sweeps/rdzqj7go\" target=\"_blank\">https://wandb.ai/luxtu/node-classification/sweeps/rdzqj7go</a>"
      ],
      "text/plain": [
       "<IPython.core.display.HTML object>"
      ]
     },
     "metadata": {},
     "output_type": "display_data"
    },
    {
     "name": "stderr",
     "output_type": "stream",
     "text": [
      "100%|██████████| 100/100 [00:03<00:00, 29.32it/s]\n"
     ]
    },
    {
     "data": {
      "text/html": [
       "Waiting for W&B process to finish... <strong style=\"color:green\">(success).</strong>"
      ],
      "text/plain": [
       "<IPython.core.display.HTML object>"
      ]
     },
     "metadata": {},
     "output_type": "display_data"
    },
    {
     "data": {
      "application/vnd.jupyter.widget-view+json": {
       "model_id": "fdc83ba86ac04aea959f1caa814c9ef7",
       "version_major": 2,
       "version_minor": 0
      },
      "text/plain": [
       "VBox(children=(Label(value='2.223 MB of 2.223 MB uploaded (0.000 MB deduped)\\r'), FloatProgress(value=1.0, max…"
      ]
     },
     "metadata": {},
     "output_type": "display_data"
    },
    {
     "data": {
      "text/html": [
       "<style>\n",
       "    table.wandb td:nth-child(1) { padding: 0 10px; text-align: left ; width: auto;} td:nth-child(2) {text-align: left ; width: 100%}\n",
       "    .wandb-row { display: flex; flex-direction: row; flex-wrap: wrap; justify-content: flex-start; width: 100% }\n",
       "    .wandb-col { display: flex; flex-direction: column; flex-basis: 100%; flex: 1; padding: 10px; }\n",
       "    </style>\n",
       "<div class=\"wandb-row\"><div class=\"wandb-col\"><h3>Run history:</h3><br/><table class=\"wandb\"><tr><td>gcn/accuracy</td><td>▁</td></tr><tr><td>gcn/loss</td><td>█▇▆▆▅▅▄▄▄▃▃▃▂▂▂▂▂▂▂▂▂▁▁▂▁▁▁▁▁▁▁▁▁▁▁▁▁▁▁▁</td></tr></table><br/></div><div class=\"wandb-col\"><h3>Run summary:</h3><br/><table class=\"wandb\"><tr><td>gcn/accuracy</td><td>0.75531</td></tr><tr><td>gcn/loss</td><td>0.67833</td></tr></table><br/></div></div>"
      ],
      "text/plain": [
       "<IPython.core.display.HTML object>"
      ]
     },
     "metadata": {},
     "output_type": "display_data"
    },
    {
     "data": {
      "text/html": [
       "Synced <strong style=\"color:#cdcd00\">sandy-sweep-48</strong>: <a href=\"https://wandb.ai/luxtu/node-classification/runs/sii1vkk3\" target=\"_blank\">https://wandb.ai/luxtu/node-classification/runs/sii1vkk3</a><br/>Synced 5 W&B file(s), 2 media file(s), 2 artifact file(s) and 0 other file(s)"
      ],
      "text/plain": [
       "<IPython.core.display.HTML object>"
      ]
     },
     "metadata": {},
     "output_type": "display_data"
    },
    {
     "data": {
      "text/html": [
       "Find logs at: <code>./wandb/run-20221104_110003-sii1vkk3/logs</code>"
      ],
      "text/plain": [
       "<IPython.core.display.HTML object>"
      ]
     },
     "metadata": {},
     "output_type": "display_data"
    },
    {
     "name": "stderr",
     "output_type": "stream",
     "text": [
      "wandb: Agent Starting Run: idwoprne with config:\n",
      "wandb: \thidden_channels: 32\n",
      "wandb: \tlr: 0.0005368982263632959\n",
      "wandb: \tweight_decay: 0.0004901949384882092\n"
     ]
    },
    {
     "data": {
      "text/html": [
       "Tracking run with wandb version 0.13.5"
      ],
      "text/plain": [
       "<IPython.core.display.HTML object>"
      ]
     },
     "metadata": {},
     "output_type": "display_data"
    },
    {
     "data": {
      "text/html": [
       "Run data is saved locally in <code>/home/laurin/Documents/network-eval/wandb/run-20221104_110019-idwoprne</code>"
      ],
      "text/plain": [
       "<IPython.core.display.HTML object>"
      ]
     },
     "metadata": {},
     "output_type": "display_data"
    },
    {
     "data": {
      "text/html": [
       "Syncing run <strong><a href=\"https://wandb.ai/luxtu/node-classification/runs/idwoprne\" target=\"_blank\">solar-sweep-49</a></strong> to <a href=\"https://wandb.ai/luxtu/node-classification\" target=\"_blank\">Weights & Biases</a> (<a href=\"https://wandb.me/run\" target=\"_blank\">docs</a>)<br/>Sweep page:  <a href=\"https://wandb.ai/luxtu/node-classification/sweeps/rdzqj7go\" target=\"_blank\">https://wandb.ai/luxtu/node-classification/sweeps/rdzqj7go</a>"
      ],
      "text/plain": [
       "<IPython.core.display.HTML object>"
      ]
     },
     "metadata": {},
     "output_type": "display_data"
    },
    {
     "name": "stderr",
     "output_type": "stream",
     "text": [
      "100%|██████████| 100/100 [00:03<00:00, 30.16it/s]\n"
     ]
    },
    {
     "data": {
      "text/html": [
       "Waiting for W&B process to finish... <strong style=\"color:green\">(success).</strong>"
      ],
      "text/plain": [
       "<IPython.core.display.HTML object>"
      ]
     },
     "metadata": {},
     "output_type": "display_data"
    },
    {
     "data": {
      "application/vnd.jupyter.widget-view+json": {
       "model_id": "142a14b7bd6d4d7b90e8fa231ea82491",
       "version_major": 2,
       "version_minor": 0
      },
      "text/plain": [
       "VBox(children=(Label(value='1.667 MB of 2.220 MB uploaded (0.000 MB deduped)\\r'), FloatProgress(value=0.751009…"
      ]
     },
     "metadata": {},
     "output_type": "display_data"
    },
    {
     "data": {
      "text/html": [
       "<style>\n",
       "    table.wandb td:nth-child(1) { padding: 0 10px; text-align: left ; width: auto;} td:nth-child(2) {text-align: left ; width: 100%}\n",
       "    .wandb-row { display: flex; flex-direction: row; flex-wrap: wrap; justify-content: flex-start; width: 100% }\n",
       "    .wandb-col { display: flex; flex-direction: column; flex-basis: 100%; flex: 1; padding: 10px; }\n",
       "    </style>\n",
       "<div class=\"wandb-row\"><div class=\"wandb-col\"><h3>Run history:</h3><br/><table class=\"wandb\"><tr><td>gcn/accuracy</td><td>▁</td></tr><tr><td>gcn/loss</td><td>██▇▆▅▅▅▄▄▃▃▃▃▃▃▂▂▂▂▂▂▂▂▂▂▁▁▁▁▁▁▁▁▁▁▁▁▁▁▁</td></tr></table><br/></div><div class=\"wandb-col\"><h3>Run summary:</h3><br/><table class=\"wandb\"><tr><td>gcn/accuracy</td><td>0.75531</td></tr><tr><td>gcn/loss</td><td>0.69335</td></tr></table><br/></div></div>"
      ],
      "text/plain": [
       "<IPython.core.display.HTML object>"
      ]
     },
     "metadata": {},
     "output_type": "display_data"
    },
    {
     "data": {
      "text/html": [
       "Synced <strong style=\"color:#cdcd00\">solar-sweep-49</strong>: <a href=\"https://wandb.ai/luxtu/node-classification/runs/idwoprne\" target=\"_blank\">https://wandb.ai/luxtu/node-classification/runs/idwoprne</a><br/>Synced 5 W&B file(s), 2 media file(s), 2 artifact file(s) and 0 other file(s)"
      ],
      "text/plain": [
       "<IPython.core.display.HTML object>"
      ]
     },
     "metadata": {},
     "output_type": "display_data"
    },
    {
     "data": {
      "text/html": [
       "Find logs at: <code>./wandb/run-20221104_110019-idwoprne/logs</code>"
      ],
      "text/plain": [
       "<IPython.core.display.HTML object>"
      ]
     },
     "metadata": {},
     "output_type": "display_data"
    },
    {
     "name": "stderr",
     "output_type": "stream",
     "text": [
      "wandb: Agent Starting Run: eq3325hr with config:\n",
      "wandb: \thidden_channels: 32\n",
      "wandb: \tlr: 0.0004971710698928007\n",
      "wandb: \tweight_decay: 0.00048584144517065304\n"
     ]
    },
    {
     "data": {
      "text/html": [
       "Tracking run with wandb version 0.13.5"
      ],
      "text/plain": [
       "<IPython.core.display.HTML object>"
      ]
     },
     "metadata": {},
     "output_type": "display_data"
    },
    {
     "data": {
      "text/html": [
       "Run data is saved locally in <code>/home/laurin/Documents/network-eval/wandb/run-20221104_110035-eq3325hr</code>"
      ],
      "text/plain": [
       "<IPython.core.display.HTML object>"
      ]
     },
     "metadata": {},
     "output_type": "display_data"
    },
    {
     "data": {
      "text/html": [
       "Syncing run <strong><a href=\"https://wandb.ai/luxtu/node-classification/runs/eq3325hr\" target=\"_blank\">driven-sweep-50</a></strong> to <a href=\"https://wandb.ai/luxtu/node-classification\" target=\"_blank\">Weights & Biases</a> (<a href=\"https://wandb.me/run\" target=\"_blank\">docs</a>)<br/>Sweep page:  <a href=\"https://wandb.ai/luxtu/node-classification/sweeps/rdzqj7go\" target=\"_blank\">https://wandb.ai/luxtu/node-classification/sweeps/rdzqj7go</a>"
      ],
      "text/plain": [
       "<IPython.core.display.HTML object>"
      ]
     },
     "metadata": {},
     "output_type": "display_data"
    },
    {
     "name": "stderr",
     "output_type": "stream",
     "text": [
      "100%|██████████| 100/100 [00:04<00:00, 21.41it/s]\n"
     ]
    },
    {
     "data": {
      "text/html": [
       "Waiting for W&B process to finish... <strong style=\"color:green\">(success).</strong>"
      ],
      "text/plain": [
       "<IPython.core.display.HTML object>"
      ]
     },
     "metadata": {},
     "output_type": "display_data"
    },
    {
     "data": {
      "application/vnd.jupyter.widget-view+json": {
       "model_id": "a97df3c3cd374fbfaec8086a42f72550",
       "version_major": 2,
       "version_minor": 0
      },
      "text/plain": [
       "VBox(children=(Label(value='1.667 MB of 2.219 MB uploaded (0.000 MB deduped)\\r'), FloatProgress(value=0.751159…"
      ]
     },
     "metadata": {},
     "output_type": "display_data"
    },
    {
     "data": {
      "text/html": [
       "<style>\n",
       "    table.wandb td:nth-child(1) { padding: 0 10px; text-align: left ; width: auto;} td:nth-child(2) {text-align: left ; width: 100%}\n",
       "    .wandb-row { display: flex; flex-direction: row; flex-wrap: wrap; justify-content: flex-start; width: 100% }\n",
       "    .wandb-col { display: flex; flex-direction: column; flex-basis: 100%; flex: 1; padding: 10px; }\n",
       "    </style>\n",
       "<div class=\"wandb-row\"><div class=\"wandb-col\"><h3>Run history:</h3><br/><table class=\"wandb\"><tr><td>gcn/accuracy</td><td>▁</td></tr><tr><td>gcn/loss</td><td>██▇▇▅▅▅▄▄▄▃▃▃▃▃▂▂▂▂▂▂▂▂▂▂▁▁▁▁▁▁▁▁▁▁▁▁▁▁▁</td></tr></table><br/></div><div class=\"wandb-col\"><h3>Run summary:</h3><br/><table class=\"wandb\"><tr><td>gcn/accuracy</td><td>0.75458</td></tr><tr><td>gcn/loss</td><td>0.70156</td></tr></table><br/></div></div>"
      ],
      "text/plain": [
       "<IPython.core.display.HTML object>"
      ]
     },
     "metadata": {},
     "output_type": "display_data"
    },
    {
     "data": {
      "text/html": [
       "Synced <strong style=\"color:#cdcd00\">driven-sweep-50</strong>: <a href=\"https://wandb.ai/luxtu/node-classification/runs/eq3325hr\" target=\"_blank\">https://wandb.ai/luxtu/node-classification/runs/eq3325hr</a><br/>Synced 5 W&B file(s), 2 media file(s), 2 artifact file(s) and 0 other file(s)"
      ],
      "text/plain": [
       "<IPython.core.display.HTML object>"
      ]
     },
     "metadata": {},
     "output_type": "display_data"
    },
    {
     "data": {
      "text/html": [
       "Find logs at: <code>./wandb/run-20221104_110035-eq3325hr/logs</code>"
      ],
      "text/plain": [
       "<IPython.core.display.HTML object>"
      ]
     },
     "metadata": {},
     "output_type": "display_data"
    }
   ],
   "source": [
    "# Run the Sweeps agent\n",
    "wandb.agent(sweep_id, project=\"node-classification\", function=agent_fn, count=50)"
   ]
  }
 ],
 "metadata": {
  "kernelspec": {
   "display_name": "Python 3.8.10 64-bit",
   "language": "python",
   "name": "python3"
  },
  "language_info": {
   "codemirror_mode": {
    "name": "ipython",
    "version": 3
   },
   "file_extension": ".py",
   "mimetype": "text/x-python",
   "name": "python",
   "nbconvert_exporter": "python",
   "pygments_lexer": "ipython3",
   "version": "3.8.10"
  },
  "orig_nbformat": 4,
  "vscode": {
   "interpreter": {
    "hash": "31f2aee4e71d21fbe5cf8b01ff0e069b9275f58929596ceb00d14d90e3e16cd6"
   }
  }
 },
 "nbformat": 4,
 "nbformat_minor": 2
}
