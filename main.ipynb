{
 "cells": [
  {
   "cell_type": "code",
   "execution_count": 1,
   "metadata": {},
   "outputs": [],
   "source": [
    "import preprocessing as pp\n",
    "import sampling\n",
    "import random\n",
    "import torch\n",
    "from models import simpleGCN\n",
    "from torch_geometric.loader import DataLoader"
   ]
  },
  {
   "cell_type": "code",
   "execution_count": 2,
   "metadata": {},
   "outputs": [
    {
     "name": "stdout",
     "output_type": "stream",
     "text": [
      "***************\n",
      "Number of Nodes: 4317\n",
      "Number of Edges: 6634\n",
      "Number of Connected Components: 22\n",
      "Number of Self Loops: 528\n",
      "Number of Isolated Nodes: 0\n",
      "Average Node Degree: 3.073430623117906\n",
      "***************\n",
      "***************\n",
      "Number of Nodes: 3036\n",
      "Number of Edges: 3864\n",
      "Number of Connected Components: 89\n",
      "Number of Self Loops: 25\n",
      "Number of Isolated Nodes: 1\n",
      "Average Node Degree: 2.5454545454545454\n",
      "***************\n"
     ]
    }
   ],
   "source": [
    "\n",
    "nodesFileNerve =  \"~/Documents/Intestine/nerve-mask/nodes_nerve_bs2.csv\"\n",
    "edgesFileNerve = \"~/Documents/Intestine/nerve-mask/edges_nerve_bs2.csv\"\n",
    "\n",
    "nodesFileLymph =  \"~/Documents/Intestine/lymph-mask/nodes_lymph_bs2.csv\"\n",
    "edgesFileLymph = \"~/Documents/Intestine/lymph-mask/edges_lymph_bs2.csv\"\n",
    "\n",
    "\n",
    "# create the graphs for both networks\n",
    "G_nerve = pp.createGraph(nodesFileNerve,edgesFileNerve)\n",
    "G_lymph = pp.createGraph(nodesFileLymph,edgesFileLymph)\n",
    "\n",
    "# get short description of graph\n",
    "pp.graphSummary(G_nerve)\n",
    "pp.graphSummary(G_lymph)\n",
    "\n",
    "# get rid of self-loops, multi edges and isolated nodes\n",
    "G_nerve_einf = pp.convertToEinfach(G_nerve)\n",
    "G_lymph_einf = pp.convertToEinfach(G_lymph)\n",
    "\n",
    "# enrich the attributes of the nodes with information from the incident edges\n",
    "pp.enrichNodeAttributes(G_lymph_einf)\n",
    "pp.enrichNodeAttributes(G_nerve_einf)\n"
   ]
  },
  {
   "cell_type": "code",
   "execution_count": 3,
   "metadata": {},
   "outputs": [
    {
     "name": "stderr",
     "output_type": "stream",
     "text": [
      "Creating subgraphs using random node neighbor selection.: 100%|██████████| 100/100 [00:00<00:00, 395.51it/s]\n",
      "Creating subgraphs using random node neighbor selection.: 100%|██████████| 100/100 [00:00<00:00, 199.03it/s]\n"
     ]
    }
   ],
   "source": [
    "\n",
    "# create random samples \n",
    "randomSampleLymphNx, randomSampleLymph = sampling.randomGeomSubgraphs(G_lymph_einf, label = 1,starts = 100, node_sample_size = 100,  mode = \"rnn\")\n",
    "randomSampleNerveNx, randomSampleNerve = sampling.randomGeomSubgraphs(G_nerve_einf, label = 0,starts = 100, node_sample_size = 100,  mode = \"rnn\")\n",
    "\n",
    "# combine the graphs to a random set\n",
    "allGraphs = randomSampleLymph + randomSampleNerve\n",
    "random.shuffle(allGraphs)\n",
    "\n",
    "# split into training and test set\n",
    "breaker = int(len(allGraphs)*0.8)\n",
    "train_dataset = allGraphs[:breaker]\n",
    "test_dataset = allGraphs[breaker:]"
   ]
  },
  {
   "cell_type": "code",
   "execution_count": 5,
   "metadata": {},
   "outputs": [
    {
     "name": "stdout",
     "output_type": "stream",
     "text": [
      "Epoch: 001, Train Acc: 0.9007, Test Acc: 0.8889\n",
      "Epoch: 002, Train Acc: 0.5035, Test Acc: 0.3889\n",
      "Epoch: 003, Train Acc: 0.5035, Test Acc: 0.3889\n",
      "Epoch: 004, Train Acc: 0.5035, Test Acc: 0.3889\n",
      "Epoch: 005, Train Acc: 0.5035, Test Acc: 0.3889\n",
      "Epoch: 006, Train Acc: 0.8156, Test Acc: 0.7778\n",
      "Epoch: 007, Train Acc: 0.7872, Test Acc: 0.7778\n",
      "Epoch: 008, Train Acc: 0.8723, Test Acc: 0.9167\n",
      "Epoch: 009, Train Acc: 0.8936, Test Acc: 0.9444\n"
     ]
    }
   ],
   "source": [
    "# selection of the features to use\n",
    "slice = [1,3,7,8]\n",
    "\n",
    "# create the model\n",
    "model = simpleGCN.GCN(hidden_channels=32, in_features = len(slice))\n",
    "optimizer = torch.optim.Adam(model.parameters(), lr=0.01)\n",
    "criterion = torch.nn.CrossEntropyLoss()\n",
    "\n",
    "# create brach data loaders for training and test set\n",
    "train_loader = DataLoader(train_dataset, batch_size= 64, shuffle=True)\n",
    "test_loader = DataLoader(test_dataset, batch_size=64, shuffle=False)\n",
    "\n",
    "\n",
    "\n",
    "def train():\n",
    "    model.train()\n",
    "\n",
    "    for data in train_loader:  # Iterate in batches over the training dataset.\n",
    "         out = model(data.x[:,slice], data.edge_index, data.batch)  # Perform a single forward pass.\n",
    "         loss = criterion(out, data.y)  # Compute the loss.\n",
    "         loss.backward()  # Derive gradients.\n",
    "         optimizer.step()  # Update parameters based on gradients.\n",
    "         optimizer.zero_grad()  # Clear gradients.\n",
    "\n",
    "def test(loader):\n",
    "     model.eval()\n",
    "\n",
    "     correct = 0\n",
    "     for data in loader:  # Iterate in batches over the training/test dataset.\n",
    "         out = model(data.x[:,slice], data.edge_index, data.batch)  \n",
    "         pred = out.argmax(dim=1)  # Use the class with highest probability.\n",
    "         correct += int((pred == data.y).sum())  # Check against ground-truth labels.\n",
    "     return correct / len(loader.dataset)  # Derive ratio of correct predictions.\n",
    "\n",
    "\n",
    "\n",
    "for epoch in range(1, 10):\n",
    "    train()\n",
    "    train_acc = test(train_loader)\n",
    "    test_acc = test(test_loader)\n",
    "    print(f'Epoch: {epoch:03d}, Train Acc: {train_acc:.4f}, Test Acc: {test_acc:.4f}')\n",
    "\n",
    "\n",
    "\n",
    "# good features: 1,3 - both features that have to do with length                performance is best if just these 2 features are used\n",
    "# good features: 7,8 - both features that have to do with distance\n",
    "# medium features: 6 - num Voxels\n",
    "# medium features: 4 - curveness\n",
    "# trash feature: 0,2 - both features that have to do with minRadiusAvg\n",
    "# trash feature: 5 - avgRadiusStd\n",
    "\n",
    "\n",
    "\n",
    "# 16 hidden layers seems favorable compared to 64 or 8\n",
    "\n",
    "# slice = [1,3,7,8] leads to very good results\n",
    "# slice = [1,3] results are equal to 1,3,7,8 ... maybe better"
   ]
  }
 ],
 "metadata": {
  "kernelspec": {
   "display_name": "Python 3.8.10 64-bit",
   "language": "python",
   "name": "python3"
  },
  "language_info": {
   "codemirror_mode": {
    "name": "ipython",
    "version": 3
   },
   "file_extension": ".py",
   "mimetype": "text/x-python",
   "name": "python",
   "nbconvert_exporter": "python",
   "pygments_lexer": "ipython3",
   "version": "3.8.10"
  },
  "orig_nbformat": 4,
  "vscode": {
   "interpreter": {
    "hash": "31f2aee4e71d21fbe5cf8b01ff0e069b9275f58929596ceb00d14d90e3e16cd6"
   }
  }
 },
 "nbformat": 4,
 "nbformat_minor": 2
}
