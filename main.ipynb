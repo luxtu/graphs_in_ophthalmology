{
 "cells": [
  {
   "cell_type": "code",
   "execution_count": 1,
   "metadata": {},
   "outputs": [],
   "source": [
    "import preprocessing as pp\n",
    "import sampling\n",
    "import random\n",
    "import torch\n",
    "from models import graphClassifier, nodeClassifier\n",
    "from torch_geometric.loader import DataLoader\n",
    "from tqdm import tqdm\n",
    "import numpy as np\n",
    "import pandas as pd\n",
    "import matplotlib.pyplot as plt"
   ]
  },
  {
   "cell_type": "code",
   "execution_count": 2,
   "metadata": {},
   "outputs": [
    {
     "name": "stdout",
     "output_type": "stream",
     "text": [
      "***************\n",
      "Number of Nodes: 4317\n",
      "Number of Edges: 6634\n",
      "Number of Connected Components: 22\n",
      "Number of Self Loops: 528\n",
      "Number of Isolated Nodes: 0\n",
      "Average Node Degree: 3.073430623117906\n",
      "***************\n",
      "***************\n",
      "Number of Nodes: 3036\n",
      "Number of Edges: 3864\n",
      "Number of Connected Components: 89\n",
      "Number of Self Loops: 25\n",
      "Number of Isolated Nodes: 1\n",
      "Average Node Degree: 2.5454545454545454\n",
      "***************\n"
     ]
    }
   ],
   "source": [
    "\n",
    "nodesFileNerve =  \"~/Documents/Intestine/nerve-mask/nodes_nerve_bs2.csv\"\n",
    "edgesFileNerve = \"~/Documents/Intestine/nerve-mask/edges_nerve_bs2.csv\"\n",
    "\n",
    "nodesFileLymph =  \"~/Documents/Intestine/lymph-mask/nodes_lymph_bs2.csv\"\n",
    "edgesFileLymph = \"~/Documents/Intestine/lymph-mask/edges_lymph_bs2.csv\"\n",
    "\n",
    "\n",
    "\n",
    "nodes_n = pd.read_csv(nodesFileNerve, sep = \";\", index_col= \"id\")\n",
    "edges_n = pd.read_csv(edgesFileNerve, sep = \";\", index_col= \"id\")\n",
    "nodes_l = pd.read_csv(nodesFileLymph, sep = \";\", index_col= \"id\")\n",
    "edges_l = pd.read_csv(edgesFileLymph, sep = \";\", index_col= \"id\")\n",
    "\n",
    "\n",
    "# scaling with the factors provided by luciano\n",
    "nodes_l = pp.scalePosition(nodes_l, (1.65,1.65,6))\n",
    "nodes_n = pp.scalePosition(nodes_n, (1.65,1.65,6))\n",
    "\n",
    "# create the graphs for both networks\n",
    "G_nerve = pp.createGraph(nodes_n, edges_n, index_addon =\"n\")\n",
    "G_lymph = pp.createGraph(nodes_l, edges_l, index_addon =\"l\")\n",
    "\n",
    "# get short description of graph\n",
    "pp.graphSummary(G_nerve)\n",
    "pp.graphSummary(G_lymph)\n",
    "\n",
    "# get rid of self-loops, multi edges and isolated nodes\n",
    "G_nerve_einf = pp.convertToEinfach(G_nerve)\n",
    "G_lymph_einf = pp.convertToEinfach(G_lymph)\n",
    "\n",
    "# enrich the attributes of the nodes with information from the incident edges\n",
    "pp.enrichNodeAttributes(G_lymph_einf)\n",
    "pp.enrichNodeAttributes(G_nerve_einf)\n"
   ]
  },
  {
   "cell_type": "markdown",
   "metadata": {},
   "source": [
    "# Graph Classification using Subsets of Lymph and Nerve Network for Training and Testing"
   ]
  },
  {
   "cell_type": "code",
   "execution_count": 3,
   "metadata": {},
   "outputs": [
    {
     "name": "stderr",
     "output_type": "stream",
     "text": [
      "Creating subgraphs using random node neighbor selection.: 100%|██████████| 100/100 [00:00<00:00, 552.03it/s]\n",
      "Creating subgraphs using random node neighbor selection.: 100%|██████████| 100/100 [00:00<00:00, 191.56it/s]\n"
     ]
    }
   ],
   "source": [
    "\n",
    "# create random samples \n",
    "randomSampleLymphNx, randomSampleLymph = sampling.randomGeomSubgraphs(G_lymph_einf, label = 1,starts = 100, node_sample_size = 100,  mode = \"rnn\")\n",
    "randomSampleNerveNx, randomSampleNerve = sampling.randomGeomSubgraphs(G_nerve_einf, label = 0,starts = 100, node_sample_size = 100,  mode = \"rnn\")\n",
    "\n",
    "# combine the graphs to a random set\n",
    "allGraphs = randomSampleLymph + randomSampleNerve\n",
    "random.shuffle(allGraphs)\n",
    "\n",
    "# split into training and test set\n",
    "breaker = int(len(allGraphs)*0.8)\n",
    "train_dataset = allGraphs[:breaker]\n",
    "test_dataset = allGraphs[breaker:]"
   ]
  },
  {
   "cell_type": "code",
   "execution_count": 4,
   "metadata": {},
   "outputs": [
    {
     "name": "stdout",
     "output_type": "stream",
     "text": [
      "Epoch: 001, Train Acc: 0.8472, Test Acc: 0.8919\n",
      "Epoch: 002, Train Acc: 0.7292, Test Acc: 0.7838\n",
      "Epoch: 003, Train Acc: 0.7986, Test Acc: 0.8108\n",
      "Epoch: 004, Train Acc: 0.6806, Test Acc: 0.7297\n",
      "Epoch: 005, Train Acc: 0.8819, Test Acc: 0.9189\n",
      "Epoch: 006, Train Acc: 0.8958, Test Acc: 0.9189\n",
      "Epoch: 007, Train Acc: 0.8333, Test Acc: 0.8649\n",
      "Epoch: 008, Train Acc: 0.9236, Test Acc: 0.9459\n",
      "Epoch: 009, Train Acc: 0.9028, Test Acc: 0.9730\n",
      "Epoch: 010, Train Acc: 0.8750, Test Acc: 0.8919\n"
     ]
    }
   ],
   "source": [
    "# selection of the features to use\n",
    "feat_slice = [1,3,7,8]\n",
    "\n",
    "# create the model\n",
    "model = graphClassifier.GCN_GC(hidden_channels=32, in_features = len(feat_slice), classes = 2)\n",
    "optimizer = torch.optim.Adam(model.parameters(), lr=0.01)\n",
    "criterion = torch.nn.CrossEntropyLoss()\n",
    "\n",
    "# create brach data loaders for training and test set\n",
    "train_loader = DataLoader(train_dataset, batch_size= 64, shuffle=True)\n",
    "test_loader = DataLoader(test_dataset, batch_size=64, shuffle=False)\n",
    "\n",
    "\n",
    "\n",
    "def train_GC():\n",
    "    model.train()\n",
    "\n",
    "    for data in train_loader:  # Iterate in batches over the training dataset.\n",
    "         out = model(data.x[:,feat_slice], data.edge_index, data.batch)  # Perform a single forward pass.\n",
    "         loss = criterion(out, data.y)  # Compute the loss.\n",
    "         loss.backward()  # Derive gradients.\n",
    "         optimizer.step()  # Update parameters based on gradients.\n",
    "         optimizer.zero_grad()  # Clear gradients.\n",
    "\n",
    "def test_GC(loader):\n",
    "     model.eval()\n",
    "\n",
    "     correct = 0\n",
    "     for data in loader:  # Iterate in batches over the training/test dataset.\n",
    "         out = model(data.x[:,feat_slice], data.edge_index, data.batch)  \n",
    "         pred = out.argmax(dim=1)  # Use the class with highest probability.\n",
    "         correct += int((pred == data.y).sum())  # Check against ground-truth labels.\n",
    "     return correct / len(loader.dataset)  # Derive ratio of correct predictions.\n",
    "\n",
    "\n",
    "\n",
    "for epoch in range(1, 11):\n",
    "    train_GC()\n",
    "    train_acc = test_GC(train_loader)\n",
    "    test_acc = test_GC(test_loader)\n",
    "    print(f'Epoch: {epoch:03d}, Train Acc: {train_acc:.4f}, Test Acc: {test_acc:.4f}')\n",
    "\n",
    "\n",
    "\n",
    "# good features: 1,3 - both features that have to do with length                performance is best if just these 2 features are used\n",
    "# good features: 7,8 - both features that have to do with distance\n",
    "# medium features: 6 - num Voxels\n",
    "# medium features: 4 - curveness\n",
    "# trash feature: 0,2 - both features that have to do with minRadiusAvg\n",
    "# trash feature: 5 - avgRadiusStd\n",
    "\n",
    "\n",
    "\n",
    "# 16 hidden layers seems favorable compared to 64 or 8\n",
    "\n",
    "# slice = [1,3,7,8] leads to very good results\n",
    "# slice = [1,3] results are equal to 1,3,7,8 ... maybe better"
   ]
  },
  {
   "cell_type": "markdown",
   "metadata": {},
   "source": [
    "# Node Classification using a contracted graph by spatial proximity to differentiate 3 node types (nerve, lymph, connected)"
   ]
  },
  {
   "cell_type": "code",
   "execution_count": 5,
   "metadata": {},
   "outputs": [],
   "source": [
    "#rename the nodes to have unqiue identifiers for different types\n",
    "# giving nodes from different files unique names\n",
    "edges_n, nodes_n = pp.relable_edges_nodes(edges_n, nodes_n, \"n\")\n",
    "edges_l, nodes_l = pp.relable_edges_nodes(edges_l, nodes_l, \"l\")\n"
   ]
  },
  {
   "cell_type": "code",
   "execution_count": 6,
   "metadata": {},
   "outputs": [],
   "source": [
    "from scipy.spatial import KDTree\n",
    "from scipy.sparse import csr_matrix\n",
    "from scipy.sparse import dok_array\n",
    "from scipy.sparse.csgraph import connected_components\n",
    "\n",
    "# create an adjacency matrix for nodes from two node sets that are closer than a given distance\n",
    "adjMcsr = pp.distance_based_adjacency(nodes_n, nodes_l, th = 0.03)\n",
    "\n",
    "# find the connected components in the adjacency matrix (nodes that will be merged)\n",
    "num, labels = connected_components(csgraph=adjMcsr, directed = False)\n",
    "\n",
    "#create a dict where each new node contains all the nodes that will be merged into it\n",
    "con_comp = pp.connected_components_dict(labels)\n",
    "\n",
    "#take only the connected components that contain > 1 element, otherwise no merge is necessary \n",
    "rel_comp = pp.relevant_connected_components(con_comp, nodes_n.shape[0], (\"n\",\"l\"))\n",
    "\n",
    "\n",
    "\n",
    "reverse_dict= {}\n",
    "for k, v in rel_comp.items():\n",
    "    for val in v:\n",
    "        reverse_dict[val] = k\n",
    "\n"
   ]
  },
  {
   "cell_type": "code",
   "execution_count": 7,
   "metadata": {},
   "outputs": [],
   "source": [
    "merged_nodes = pd.concat([nodes_l.loc[:,[\"pos_x\", \"pos_y\", \"pos_z\"]], nodes_n.loc[:,[\"pos_x\", \"pos_y\", \"pos_z\"]]])\n",
    "new_nodes = pd.DataFrame(columns=merged_nodes.columns )\n",
    "\n",
    "# replace the contracted node with new nodes\n",
    "# the position of the new node is an average of all the previous nodes\n",
    "for k, valList in rel_comp.items():\n",
    "    new_nodes.loc[k] = merged_nodes.loc[valList].mean()\n",
    "    merged_nodes.drop(valList, inplace = True)\n",
    "\n",
    "\n",
    "# concat the all nodes and the new nodes\n",
    "merged_nodes = pd.concat([merged_nodes, new_nodes])\n",
    "\n",
    "# createa a combined edge file\n",
    "merged_edges = pd.concat([edges_l, edges_n], ignore_index = True)\n",
    "\n",
    "\n",
    "# change the names of the edges to the new names\n",
    "for idxE, edge in merged_edges.iterrows():\n",
    "    if edge[\"node1id\"] in reverse_dict.keys():\n",
    "        merged_edges.loc[idxE,\"node1id\"] = reverse_dict[edge[\"node1id\"]]\n",
    "    if edge[\"node2id\"] in reverse_dict.keys():\n",
    "        merged_edges.loc[idxE,\"node2id\"] = reverse_dict[edge[\"node2id\"]]\n",
    "\n",
    "\n",
    "# create a new graph based on the old information\n",
    "G_contract = pp.createGraph(merged_nodes, merged_edges)\n",
    "G_contract_einf = pp.convertToEinfach(G_contract, self_loops = False, isolates = False)\n",
    "pp.enrichNodeAttributes(G_contract_einf)"
   ]
  },
  {
   "cell_type": "code",
   "execution_count": 8,
   "metadata": {},
   "outputs": [
    {
     "name": "stdout",
     "output_type": "stream",
     "text": [
      "Train-Mask Class Distribution: \n",
      "[0 1 2]\n",
      "[3248 2230  150]\n",
      "Test-Mask Class Distribution: \n",
      "[0 1 2]\n",
      "[799 567  42]\n"
     ]
    }
   ],
   "source": [
    "# create the ground truth for the node class\n",
    "all_nodes = list(G_contract_einf.nodes)\n",
    "nerve_class = np.array([elem[-1] == \"n\" for elem in all_nodes])*0\n",
    "lymph_class = np.array([elem[-1] == \"l\" for elem in all_nodes])*1\n",
    "combined_class = np.array([elem[-1] == \"c\" for elem in all_nodes])*2\n",
    "class_assign = nerve_class+lymph_class+combined_class\n",
    "\n",
    "\n",
    "# create the training and testing masks\n",
    "train_mask = np.random.choice(np.arange(0, len(class_assign)), size= int(len(class_assign)*0.8), replace = False)\n",
    "test_mask = np.delete(np.arange(0, len(class_assign)), train_mask)\n",
    "\n",
    "# convert to torch tensor objects\n",
    "train_mask= torch.tensor(train_mask)\n",
    "test_mask= torch.tensor(test_mask)\n",
    "\n",
    "np.random.seed(1234567)\n",
    "unique, counts = np.unique(class_assign[train_mask], return_counts=True)\n",
    "print(\"Train-Mask Class Distribution: \")\n",
    "print(unique)\n",
    "print(counts)\n",
    "\n",
    "print(\"Test-Mask Class Distribution: \")\n",
    "unique, counts = np.unique(class_assign[test_mask], return_counts=True)\n",
    "print(unique)\n",
    "print(counts)\n",
    "\n",
    "\n",
    "# convert the graph to a networkx graph\n",
    "\n",
    "from torch_geometric.utils.convert import from_networkx\n",
    "networkXG = from_networkx(G_contract_einf)\n",
    "networkXG.y = torch.tensor(class_assign)\n"
   ]
  },
  {
   "cell_type": "code",
   "execution_count": 10,
   "metadata": {},
   "outputs": [
    {
     "name": "stdout",
     "output_type": "stream",
     "text": [
      "Epoch: 001, Loss: 5.7480\n",
      "Epoch: 001, Loss: 3.6808\n",
      "Epoch: 001, Loss: 12.5142\n",
      "Epoch: 002, Loss: 5.2425\n",
      "Epoch: 002, Loss: 2.2400\n",
      "Epoch: 002, Loss: 7.4272\n",
      "Epoch: 003, Loss: 4.6712\n",
      "Epoch: 003, Loss: 1.6436\n",
      "Epoch: 003, Loss: 7.9618\n",
      "Epoch: 004, Loss: 4.0354\n",
      "Epoch: 004, Loss: 1.2957\n",
      "Epoch: 004, Loss: 7.6965\n",
      "Epoch: 005, Loss: 3.5132\n",
      "Epoch: 005, Loss: 1.1356\n",
      "Epoch: 005, Loss: 7.5328\n",
      "Epoch: 006, Loss: 3.1107\n",
      "Epoch: 006, Loss: 1.2142\n",
      "Epoch: 006, Loss: 6.9549\n",
      "Epoch: 007, Loss: 2.8300\n",
      "Epoch: 007, Loss: 1.1604\n",
      "Epoch: 007, Loss: 6.1609\n",
      "Epoch: 008, Loss: 2.3462\n",
      "Epoch: 008, Loss: 1.0691\n",
      "Epoch: 008, Loss: 5.4621\n",
      "Epoch: 009, Loss: 2.2143\n",
      "Epoch: 009, Loss: 1.0017\n",
      "Epoch: 009, Loss: 4.5566\n",
      "Epoch: 010, Loss: 2.2523\n",
      "Epoch: 010, Loss: 0.9263\n",
      "Epoch: 010, Loss: 3.8901\n",
      "Test Accuracy: 0.5675\n",
      "Test Accuracy: 0.4553\n",
      "Test Accuracy: 0.5526\n"
     ]
    }
   ],
   "source": [
    "num_feat = networkXG.x.shape[1]\n",
    "num_class = len(np.unique(networkXG.y))\n",
    "netGCN = nodeClassifier.GCN_NC\n",
    "netSAGE = nodeClassifier.SAGE_NC\n",
    "netWC = nodeClassifier.WC_NC\n",
    "\n",
    "optimizer = torch.optim.Adam\n",
    "criterion = torch.nn.CrossEntropyLoss\n",
    "modelGCN = nodeClassifier.nodeClassifier(netGCN, hidden_channels=32, features = np.arange(num_feat),classes = num_class, optimizer = optimizer, lossFunc = criterion)\n",
    "modelSAGE = nodeClassifier.nodeClassifier(netSAGE, hidden_channels=32, features = np.arange(num_feat),classes = num_class, optimizer = optimizer, lossFunc = criterion)\n",
    "modelWC = nodeClassifier.nodeClassifier(netWC, hidden_channels=32, features = np.arange(num_feat),classes = num_class, optimizer = optimizer, lossFunc = criterion)\n",
    "\n",
    "models = [modelGCN, modelSAGE, modelWC]\n",
    "\n",
    "\n",
    "epochs = 10\n",
    "loss_l = np.zeros((epochs, len(models)))\n",
    "acc_l = np.zeros((epochs, len(models)))\n",
    "for epoch in range(1, epochs +1):\n",
    "      for i, model in enumerate(models):\n",
    "            loss = model.train(networkXG, train_mask)\n",
    "            loss_l[epoch-1, i] = loss.detach().numpy().copy()\n",
    "            print(f'Epoch: {epoch:03d}, Loss: {loss:.4f}')\n",
    "            test_acc = model.test(networkXG, test_mask)\n",
    "            acc_l[epoch-1, i] = test_acc\n",
    "\n",
    "for model in models:\n",
    "      test_acc = model.test(networkXG, test_mask)\n",
    "      print(f'Test Accuracy: {test_acc:.4f}')\n",
    "\n",
    "#100 iter:\n",
    "#13: 58.75%       trash\n",
    "#12: 58.75%       trash\n",
    "#11: 62.03%\n",
    "#10: 69.11 %\n",
    "#9:  58.75 %      trash\n",
    "#8:  78.69 %\n",
    "#7:  78.40 %\n",
    "#6:  81.08 %\n",
    "#5:  58.75 %      trash\n",
    "#4:  68.69 %\n",
    "#3:  79.97 %\n",
    "#2:  58.75 %      trash\n",
    "#1:  79.97 %\n",
    "#0:  58.75 %      trash\n",
    "\n",
    "#all:        82.56 %\n",
    "#no trash:   81.11 %\n",
    "# >75:       81.96 %\n",
    "#[1,6,8,10]: 80.77 %\n",
    "\n",
    "#500 iter:\n",
    "#all:        82.56 %\n"
   ]
  },
  {
   "cell_type": "code",
   "execution_count": 11,
   "metadata": {},
   "outputs": [
    {
     "name": "stderr",
     "output_type": "stream",
     "text": [
      "Creating 150 nodes: 100%|██████████| 150/150 [00:00<00:00, 14276.70it/s]\n",
      "Creating 2230 nodes: 100%|██████████| 2230/2230 [00:00<00:00, 16023.66it/s]\n",
      "Creating 3248 nodes: 100%|██████████| 3248/3248 [00:00<00:00, 15969.63it/s]\n",
      "Creating 609 nodes: 100%|██████████| 609/609 [00:00<00:00, 12867.71it/s]\n",
      "Creating 799 nodes: 100%|██████████| 799/799 [00:00<00:00, 2824.71it/s]\n",
      "Creating 2044 edges: 100%|██████████| 2044/2044 [00:00<00:00, 5242.33it/s]\n",
      "Creating 174 edges: 100%|██████████| 174/174 [00:00<00:00, 5703.99it/s]\n",
      "Creating 1069 edges: 100%|██████████| 1069/1069 [00:00<00:00, 5090.48it/s]\n",
      "Creating 246 edges: 100%|██████████| 246/246 [00:00<00:00, 945.88it/s]\n",
      "Creating 84 edges: 100%|██████████| 84/84 [00:00<00:00, 4572.04it/s]\n",
      "Creating 3488 edges:  50%|████▉     | 1727/3488 [00:00<00:00, 5750.56it/s]/home/laurin/Documents/network-eval/visualization/graph_to_mesh.py:22: RuntimeWarning: divide by zero encountered in double_scalars\n",
      "  rotation_matrix = np.eye(3) + kmat + kmat.dot(kmat) * ((1 - c) / (s ** 2))\n",
      "/home/laurin/Documents/network-eval/visualization/graph_to_mesh.py:22: RuntimeWarning: invalid value encountered in multiply\n",
      "  rotation_matrix = np.eye(3) + kmat + kmat.dot(kmat) * ((1 - c) / (s ** 2))\n",
      "Creating 3488 edges: 100%|██████████| 3488/3488 [00:00<00:00, 5705.85it/s]\n",
      "Creating 1570 edges: 100%|██████████| 1570/1570 [00:00<00:00, 3097.83it/s]\n",
      "Creating 282 edges: 100%|██████████| 282/282 [00:00<00:00, 7567.75it/s]\n",
      "Creating 80 edges: 100%|██████████| 80/80 [00:00<00:00, 4371.40it/s]\n",
      "Creating 274 edges: 100%|██████████| 274/274 [00:00<00:00, 4584.73it/s]\n",
      "Creating 75 edges: 100%|██████████| 75/75 [00:00<00:00, 4548.41it/s]\n",
      "Creating 17 edges: 100%|██████████| 17/17 [00:00<00:00, 2330.93it/s]\n",
      "Creating 98 edges: 100%|██████████| 98/98 [00:00<00:00, 12324.35it/s]\n"
     ]
    },
    {
     "name": "stdout",
     "output_type": "stream",
     "text": [
      "['c' 'l' 'n']\n",
      "['f' 'r']\n",
      "[['l', 'l'], ['f', 'f'], ['l', 'f'], ['l', 'c'], ['f', 'c'], ['n', 'n'], ['n', 'r'], ['r', 'r'], ['r', 'c'], ['n', 'c'], ['n', 'f'], ['r', 'f'], ['c', 'c']]\n"
     ]
    }
   ],
   "source": [
    "import networkx as nx\n",
    "import pyvista\n",
    "from visualization import graph_to_mesh\n",
    "import trimesh\n",
    "\n",
    "def classifiedGraph(G,pred_mask, test_mask):\n",
    "    corr = np.where(pred_mask>0)[0]\n",
    "    wrong = np.where(pred_mask==0)[0]\n",
    "\n",
    "    corr_nodes = np.array(G.nodes)[test_mask][corr]\n",
    "    wrong_nodes = np.array(G.nodes)[test_mask][wrong]\n",
    "\n",
    "    wrong_dict = dict(zip(corr_nodes, [elem + \"r\" for elem in corr_nodes]))\n",
    "    right_dict = dict(zip(wrong_nodes, [elem + \"f\" for elem in wrong_nodes]))\n",
    "\n",
    "    G_class = nx.relabel_nodes(G, wrong_dict)\n",
    "    G_class = nx.relabel_nodes(G_class, right_dict)\n",
    "\n",
    "    return G_class\n",
    "\n",
    "\n",
    "test_mask_np = test_mask.detach().numpy()\n",
    "train_mask_np = train_mask.detach().numpy()\n",
    "\n",
    "\n",
    "pred_mask = modelGCN.predictions(networkXG, test_mask_np)\n",
    "G_class = classifiedGraph(G_contract_einf, pred_mask, test_mask)\n",
    "\n",
    "nodeMeshesTrain, unique_nodesTrain = graph_to_mesh.nodeMeshesNx(G_class, concat = True, mask = train_mask_np)\n",
    "nodeMeshesTest, unique_nodesTest = graph_to_mesh.nodeMeshesNx(G_class, concat = False, mask = test_mask_np)\n",
    "edgeMeshes, unique_edges = graph_to_mesh.edgeMeshesNx(G_class, concat = True)\n",
    "\n",
    "print(unique_nodesTrain)\n",
    "print(unique_nodesTest)\n",
    "print(unique_edges)\n"
   ]
  },
  {
   "cell_type": "code",
   "execution_count": 12,
   "metadata": {},
   "outputs": [
    {
     "name": "stdout",
     "output_type": "stream",
     "text": [
      "Edges Done!\n",
      "Train Nodes Done!\n",
      "Test Nodes Done!\n"
     ]
    }
   ],
   "source": [
    "node_color_dict = dict(zip(['c', 'f', 'n', 'r', 'l'],[\"blue\", \"red\", \"hotpink\", \"green\", \"yellow\"]))\n",
    "\n",
    "\n",
    "plotter = pyvista.Plotter(off_screen = True)\n",
    "\n",
    "\n",
    "edge_actors = []\n",
    "for i in range(len(edgeMeshes)):\n",
    "    mesh = pyvista.wrap(edgeMeshes[i])\n",
    "    actor = plotter.add_mesh(mesh, color = \"beige\")\n",
    "    edge_actors.append(actor)\n",
    "print(\"Edges Done!\")\n",
    "\n",
    "\n",
    "\n",
    "node_train_actors = []\n",
    "for i in range(len(nodeMeshesTrain)):\n",
    "    color = node_color_dict[unique_nodesTrain[i]]\n",
    "    mesh = pyvista.wrap(nodeMeshesTrain[i])\n",
    "    actor = plotter.add_mesh(mesh, color = color)\n",
    "    node_train_actors.append(actor)\n",
    "print(\"Train Nodes Done!\")\n",
    "\n",
    "\n",
    "\n",
    "\n",
    "node_test_actors =[]\n",
    "for i in range(len(nodeMeshesTest)):\n",
    "    color = node_color_dict[unique_nodesTest[i]]\n",
    "    med_actors=[]\n",
    "    for mesh in nodeMeshesTest[i]:\n",
    "        mesh = trimesh.base.Trimesh(vertices=mesh.vertices, faces=mesh.faces, face_normals=mesh.face_normals, vertex_normals=mesh.vertex_normals)\n",
    "        meshW = pyvista.wrap(mesh)\n",
    "        actor = plotter.add_mesh(meshW, color = color)\n",
    "        med_actors.append(actor)\n",
    "    node_test_actors.append(med_actors)\n",
    "print(\"Test Nodes Done!\")\n",
    "\n"
   ]
  },
  {
   "cell_type": "code",
   "execution_count": 13,
   "metadata": {},
   "outputs": [],
   "source": [
    "plotter.window_size = 2000,2000\n",
    "plotter.camera.position = (5.0, 5.0, -1.5)\n",
    "plotter.focal_point= (2.0, 1.0,0)\n",
    "plotter.camera.zoom(1.0)\n",
    "plotter.add_text(\"Epoch: 200\")\n",
    "plotter.save_graphic(\"save_running_test.pdf\")"
   ]
  },
  {
   "cell_type": "code",
   "execution_count": null,
   "metadata": {},
   "outputs": [
    {
     "name": "stdout",
     "output_type": "stream",
     "text": [
      "vtkOpenGLProperty (0x4d5a4b00)\n",
      "  Debug: Off\n",
      "  Modified Time: 6658888\n",
      "  Reference Count: 2\n",
      "  Registered Events: (none)\n",
      "  Ambient: 0\n",
      "  Ambient Color: (0, 0.501961, 0)\n",
      "  Diffuse: 1\n",
      "  Diffuse Color: (0, 0.501961, 0)\n",
      "  Edge Color: (0, 0, 0)\n",
      "  Edge Visibility: Off\n",
      "  Vertex Color: (1, 0, 0)\n",
      "  Vertex Visibility: Off\n",
      "  Interpolation: VTK_FLAT\n",
      "  Opacity: 1\n",
      "  Representation: VTK_SURFACE\n",
      "  Specular: 0\n",
      "  Specular Color: (0, 0.501961, 0)\n",
      "  Specular Power: 100\n",
      "  Backface Culling: Off\n",
      "  Frontface Culling: Off\n",
      "  Point size: 5\n",
      "  Line width: 1\n",
      "  Line stipple pattern: 65535\n",
      "  Line stipple repeat factor: 1\n",
      "  Lighting: On\n",
      "  RenderPointsAsSpheres: Off\n",
      "  RenderLinesAsTubes: Off\n",
      "  Shading: Off\n",
      "  MaterialName: (none)\n",
      "  Color: (0, 0.501961, 0)\n",
      "  EmissiveFactor: (1, 1, 1)\n",
      "  NormalScale: 1\n",
      "  OcclusionStrength: 1\n",
      "  Metallic: 0\n",
      "  Roughness: 0.5\n",
      "\n",
      "\n"
     ]
    }
   ],
   "source": [
    "p = node_actors[3][0].GetProperty()\n",
    "print(p)"
   ]
  },
  {
   "cell_type": "code",
   "execution_count": null,
   "metadata": {},
   "outputs": [],
   "source": [
    "for node in node_actors[3]:\n",
    "    prop = node.GetProperty()\n",
    "    prop.SetColor((0,0,1))\n",
    "plotter.save_graphic(\"save_running_test.pdf\")"
   ]
  },
  {
   "cell_type": "code",
   "execution_count": null,
   "metadata": {},
   "outputs": [],
   "source": [
    "#plotter.remove_actor(actor)\n",
    "#plotter.save_graphic(\"save_running_test.pdf\")\n",
    "\n",
    "for act_list in node_actors:\n",
    "    for act in act_list:\n",
    "        #act.GetProperty().SetColor((0.5,0.5,0.5))\n",
    "    \n",
    "plotter.save_graphic(\"save_running_test.pdf\")\n",
    "\n",
    "\n"
   ]
  },
  {
   "cell_type": "code",
   "execution_count": null,
   "metadata": {},
   "outputs": [
    {
     "data": {
      "image/png": "[encoded data removed]",
      "text/plain": [
       "<Figure size 640x480 with 2 Axes>"
      ]
     },
     "metadata": {},
     "output_type": "display_data"
    },
    {
     "data": {
      "image/png": "[encoded data removed]",
      "text/plain": [
       "<Figure size 640x480 with 2 Axes>"
      ]
     },
     "metadata": {},
     "output_type": "display_data"
    },
    {
     "data": {
      "image/png": "[encoded data removed]",
      "text/plain": [
       "<Figure size 640x480 with 2 Axes>"
      ]
     },
     "metadata": {},
     "output_type": "display_data"
    }
   ],
   "source": [
    "# all SAGE\n",
    "#loss_l_np = [elem.detach().numpy() for elem in loss_l]\n",
    "for i in range(len(models)):\n",
    "    fig, ax1 = plt.subplots()\n",
    "    ax2 = ax1.twinx()\n",
    "    ax1.plot(loss_l[:,i], color = \"red\")\n",
    "    ax2.plot(acc_l[:,i], color = \"blue\")\n",
    "\n",
    "    ax1.set_xlabel('Iterations / No.')\n",
    "    ax1.set_ylabel('Loss', color='r')\n",
    "    ax2.set_ylabel('Accuracy / %', color='b')\n",
    "\n"
   ]
  }
 ],
 "metadata": {
  "kernelspec": {
   "display_name": "Python 3.8.10 64-bit",
   "language": "python",
   "name": "python3"
  },
  "language_info": {
   "codemirror_mode": {
    "name": "ipython",
    "version": 3
   },
   "file_extension": ".py",
   "mimetype": "text/x-python",
   "name": "python",
   "nbconvert_exporter": "python",
   "pygments_lexer": "ipython3",
   "version": "3.8.10"
  },
  "orig_nbformat": 4,
  "vscode": {
   "interpreter": {
    "hash": "31f2aee4e71d21fbe5cf8b01ff0e069b9275f58929596ceb00d14d90e3e16cd6"
   }
  }
 },
 "nbformat": 4,
 "nbformat_minor": 2
}
