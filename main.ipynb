{
 "cells": [
  {
   "cell_type": "code",
   "execution_count": 1,
   "metadata": {},
   "outputs": [],
   "source": [
    "import preprocessing as pp\n",
    "import sampling\n",
    "import random\n",
    "import torch\n",
    "from models import graphClassifier, nodeClassifier\n",
    "from torch_geometric.loader import DataLoader\n",
    "from tqdm import tqdm\n",
    "import numpy as np\n",
    "import pandas as pd\n",
    "import matplotlib.pyplot as plt"
   ]
  },
  {
   "cell_type": "code",
   "execution_count": 2,
   "metadata": {},
   "outputs": [
    {
     "name": "stdout",
     "output_type": "stream",
     "text": [
      "***************\n",
      "Number of Nodes: 4317\n",
      "Number of Edges: 6634\n",
      "Number of Connected Components: 22\n",
      "Number of Self Loops: 528\n",
      "Number of Isolated Nodes: 0\n",
      "Average Node Degree: 3.073430623117906\n",
      "***************\n",
      "***************\n",
      "Number of Nodes: 3036\n",
      "Number of Edges: 3864\n",
      "Number of Connected Components: 89\n",
      "Number of Self Loops: 25\n",
      "Number of Isolated Nodes: 1\n",
      "Average Node Degree: 2.5454545454545454\n",
      "***************\n"
     ]
    }
   ],
   "source": [
    "\n",
    "nodesFileNerve =  \"~/Documents/Intestine/nerve-mask/nodes_nerve_bs2.csv\"\n",
    "edgesFileNerve = \"~/Documents/Intestine/nerve-mask/edges_nerve_bs2.csv\"\n",
    "\n",
    "nodesFileLymph =  \"~/Documents/Intestine/lymph-mask/nodes_lymph_bs2.csv\"\n",
    "edgesFileLymph = \"~/Documents/Intestine/lymph-mask/edges_lymph_bs2.csv\"\n",
    "\n",
    "\n",
    "\n",
    "nodes_n = pd.read_csv(nodesFileNerve, sep = \";\", index_col= \"id\")\n",
    "edges_n = pd.read_csv(edgesFileNerve, sep = \";\", index_col= \"id\")\n",
    "nodes_l = pd.read_csv(nodesFileLymph, sep = \";\", index_col= \"id\")\n",
    "edges_l = pd.read_csv(edgesFileLymph, sep = \";\", index_col= \"id\")\n",
    "\n",
    "\n",
    "# scaling with the factors provided by luciano\n",
    "nodes_l = pp.scalePosition(nodes_l, (1.65,1.65,6))\n",
    "nodes_n = pp.scalePosition(nodes_n, (1.65,1.65,6))\n",
    "\n",
    "# create the graphs for both networks\n",
    "G_nerve = pp.createGraph(nodes_n, edges_n, index_addon =\"n\")\n",
    "G_lymph = pp.createGraph(nodes_l, edges_l, index_addon =\"l\")\n",
    "\n",
    "# get short description of graph\n",
    "pp.graphSummary(G_nerve)\n",
    "pp.graphSummary(G_lymph)\n",
    "\n",
    "# get rid of self-loops, multi edges and isolated nodes\n",
    "G_nerve_einf = pp.convertToEinfach(G_nerve)\n",
    "G_lymph_einf = pp.convertToEinfach(G_lymph)\n",
    "\n",
    "# enrich the attributes of the nodes with information from the incident edges\n",
    "pp.enrichNodeAttributes(G_lymph_einf)\n",
    "pp.enrichNodeAttributes(G_nerve_einf)\n"
   ]
  },
  {
   "cell_type": "markdown",
   "metadata": {},
   "source": [
    "# Graph Classification using Subsets of Lymph and Nerve Network for Training and Testing"
   ]
  },
  {
   "cell_type": "code",
   "execution_count": 3,
   "metadata": {},
   "outputs": [
    {
     "name": "stderr",
     "output_type": "stream",
     "text": [
      "Creating subgraphs using random node neighbor selection.: 100%|██████████| 100/100 [00:00<00:00, 438.49it/s]\n",
      "Creating subgraphs using random node neighbor selection.: 100%|██████████| 100/100 [00:00<00:00, 193.22it/s]\n"
     ]
    }
   ],
   "source": [
    "\n",
    "# create random samples \n",
    "randomSampleLymphNx, randomSampleLymph = sampling.randomGeomSubgraphs(G_lymph_einf, label = 1,starts = 100, node_sample_size = 100,  mode = \"rnn\")\n",
    "randomSampleNerveNx, randomSampleNerve = sampling.randomGeomSubgraphs(G_nerve_einf, label = 0,starts = 100, node_sample_size = 100,  mode = \"rnn\")\n",
    "\n",
    "# combine the graphs to a random set\n",
    "allGraphs = randomSampleLymph + randomSampleNerve\n",
    "random.shuffle(allGraphs)\n",
    "\n",
    "# split into training and test set\n",
    "breaker = int(len(allGraphs)*0.8)\n",
    "train_dataset = allGraphs[:breaker]\n",
    "test_dataset = allGraphs[breaker:]"
   ]
  },
  {
   "cell_type": "code",
   "execution_count": 4,
   "metadata": {},
   "outputs": [
    {
     "name": "stdout",
     "output_type": "stream",
     "text": [
      "Epoch: 001, Train Acc: 0.9167, Test Acc: 0.9167\n",
      "Epoch: 002, Train Acc: 0.7222, Test Acc: 0.6944\n",
      "Epoch: 003, Train Acc: 0.8611, Test Acc: 0.8889\n",
      "Epoch: 004, Train Acc: 0.7014, Test Acc: 0.7778\n",
      "Epoch: 005, Train Acc: 0.9236, Test Acc: 0.9444\n",
      "Epoch: 006, Train Acc: 0.8889, Test Acc: 0.9167\n",
      "Epoch: 007, Train Acc: 0.9236, Test Acc: 0.9722\n",
      "Epoch: 008, Train Acc: 0.8750, Test Acc: 0.9444\n",
      "Epoch: 009, Train Acc: 0.9167, Test Acc: 0.9444\n",
      "Epoch: 010, Train Acc: 0.9167, Test Acc: 0.9722\n"
     ]
    }
   ],
   "source": [
    "# selection of the features to use\n",
    "feat_slice = [1,3,7,8]\n",
    "\n",
    "# create the model\n",
    "model = graphClassifier.GCN_GC(hidden_channels=32, in_features = len(feat_slice), classes = 2)\n",
    "optimizer = torch.optim.Adam(model.parameters(), lr=0.01)\n",
    "criterion = torch.nn.CrossEntropyLoss()\n",
    "\n",
    "# create brach data loaders for training and test set\n",
    "train_loader = DataLoader(train_dataset, batch_size= 64, shuffle=True)\n",
    "test_loader = DataLoader(test_dataset, batch_size=64, shuffle=False)\n",
    "\n",
    "\n",
    "\n",
    "def train_GC():\n",
    "    model.train()\n",
    "\n",
    "    for data in train_loader:  # Iterate in batches over the training dataset.\n",
    "         out = model(data.x[:,feat_slice], data.edge_index, data.batch)  # Perform a single forward pass.\n",
    "         loss = criterion(out, data.y)  # Compute the loss.\n",
    "         loss.backward()  # Derive gradients.\n",
    "         optimizer.step()  # Update parameters based on gradients.\n",
    "         optimizer.zero_grad()  # Clear gradients.\n",
    "\n",
    "def test_GC(loader):\n",
    "     model.eval()\n",
    "\n",
    "     correct = 0\n",
    "     for data in loader:  # Iterate in batches over the training/test dataset.\n",
    "         out = model(data.x[:,feat_slice], data.edge_index, data.batch)  \n",
    "         pred = out.argmax(dim=1)  # Use the class with highest probability.\n",
    "         correct += int((pred == data.y).sum())  # Check against ground-truth labels.\n",
    "     return correct / len(loader.dataset)  # Derive ratio of correct predictions.\n",
    "\n",
    "\n",
    "\n",
    "for epoch in range(1, 11):\n",
    "    train_GC()\n",
    "    train_acc = test_GC(train_loader)\n",
    "    test_acc = test_GC(test_loader)\n",
    "    print(f'Epoch: {epoch:03d}, Train Acc: {train_acc:.4f}, Test Acc: {test_acc:.4f}')\n",
    "\n",
    "\n",
    "\n",
    "# good features: 1,3 - both features that have to do with length                performance is best if just these 2 features are used\n",
    "# good features: 7,8 - both features that have to do with distance\n",
    "# medium features: 6 - num Voxels\n",
    "# medium features: 4 - curveness\n",
    "# trash feature: 0,2 - both features that have to do with minRadiusAvg\n",
    "# trash feature: 5 - avgRadiusStd\n",
    "\n",
    "\n",
    "\n",
    "# 16 hidden layers seems favorable compared to 64 or 8\n",
    "\n",
    "# slice = [1,3,7,8] leads to very good results\n",
    "# slice = [1,3] results are equal to 1,3,7,8 ... maybe better"
   ]
  },
  {
   "cell_type": "markdown",
   "metadata": {},
   "source": [
    "# Node Classification using a contracted graph by spatial proximity to differentiate 3 node types (nerve, lymph, connected)"
   ]
  },
  {
   "cell_type": "code",
   "execution_count": 5,
   "metadata": {},
   "outputs": [],
   "source": [
    "#rename the nodes to have unqiue identifiers for different types\n",
    "# giving nodes from different files unique names\n",
    "edges_n, nodes_n = pp.relable_edges_nodes(edges_n, nodes_n, \"n\")\n",
    "edges_l, nodes_l = pp.relable_edges_nodes(edges_l, nodes_l, \"l\")\n"
   ]
  },
  {
   "cell_type": "code",
   "execution_count": 6,
   "metadata": {},
   "outputs": [],
   "source": [
    "from scipy.spatial import KDTree\n",
    "from scipy.sparse import csr_matrix\n",
    "from scipy.sparse import dok_array\n",
    "from scipy.sparse.csgraph import connected_components\n",
    "\n",
    "# create an adjacency matrix for nodes from two node sets that are closer than a given distance\n",
    "adjMcsr = pp.distance_based_adjacency(nodes_n, nodes_l, th = 0.03)\n",
    "\n",
    "# find the connected components in the adjacency matrix (nodes that will be merged)\n",
    "num, labels = connected_components(csgraph=adjMcsr, directed = False)\n",
    "\n",
    "#create a dict where each new node contains all the nodes that will be merged into it\n",
    "con_comp = pp.connected_components_dict(labels)\n",
    "\n",
    "#take only the connected components that contain > 1 element, otherwise no merge is necessary \n",
    "rel_comp = pp.relevant_connected_components(con_comp, nodes_n.shape[0], (\"n\",\"l\"))\n",
    "\n",
    "\n",
    "\n",
    "reverse_dict= {}\n",
    "for k, v in rel_comp.items():\n",
    "    for val in v:\n",
    "        reverse_dict[val] = k\n",
    "\n"
   ]
  },
  {
   "cell_type": "code",
   "execution_count": 7,
   "metadata": {},
   "outputs": [
    {
     "name": "stdout",
     "output_type": "stream",
     "text": [
      "10498\n",
      "207\n",
      "10291\n"
     ]
    }
   ],
   "source": [
    "merged_nodes = pd.concat([nodes_l.loc[:,[\"pos_x\", \"pos_y\", \"pos_z\"]], nodes_n.loc[:,[\"pos_x\", \"pos_y\", \"pos_z\"]]])\n",
    "new_nodes = pd.DataFrame(columns=merged_nodes.columns )\n",
    "\n",
    "# replace the contracted node with new nodes\n",
    "# the position of the new node is an average of all the previous nodes\n",
    "for k, valList in rel_comp.items():\n",
    "    new_nodes.loc[k] = merged_nodes.loc[valList].mean()\n",
    "    merged_nodes.drop(valList, inplace = True)\n",
    "\n",
    "\n",
    "# concat the all nodes and the new nodes\n",
    "merged_nodes = pd.concat([merged_nodes, new_nodes])\n",
    "\n",
    "# createa a combined edge file\n",
    "merged_edges = pd.concat([edges_l, edges_n], ignore_index = True)\n",
    "\n",
    "print(merged_edges.shape[0])\n",
    "drop_count = 0\n",
    "# change the names of the edges to the new names\n",
    "for idxE, edge in merged_edges.iterrows():\n",
    "    if edge[\"node1id\"] in reverse_dict.keys():\n",
    "        merged_edges.loc[idxE,\"node1id\"] = reverse_dict[edge[\"node1id\"]]\n",
    "    if edge[\"node2id\"] in reverse_dict.keys():\n",
    "        merged_edges.loc[idxE,\"node2id\"] = reverse_dict[edge[\"node2id\"]]\n",
    "    if edge[\"hasNodeAtSampleBorder\"]:\n",
    "        merged_edges.drop([idxE], inplace = True)\n",
    "        drop_count +=1\n",
    "\n",
    "print(drop_count)\n",
    "print(merged_edges.shape[0])\n",
    "\n",
    "# create a new graph based on the old information\n",
    "G_contract = pp.createGraph(merged_nodes, merged_edges)\n",
    "G_contract_einf = pp.convertToEinfach(G_contract, self_loops = False, isolates = False)\n",
    "pp.enrichNodeAttributes(G_contract_einf)"
   ]
  },
  {
   "cell_type": "code",
   "execution_count": 8,
   "metadata": {},
   "outputs": [
    {
     "name": "stdout",
     "output_type": "stream",
     "text": [
      "Train-Mask Class Distribution: \n",
      "[0 1 2]\n",
      "[3177 2124  156]\n",
      "Test-Mask Class Distribution: \n",
      "[0 1 2]\n",
      "[778 553  34]\n"
     ]
    }
   ],
   "source": [
    "# create the ground truth for the node class\n",
    "all_nodes = list(G_contract_einf.nodes)\n",
    "nerve_class = np.array([elem[-1] == \"n\" for elem in all_nodes])*0\n",
    "lymph_class = np.array([elem[-1] == \"l\" for elem in all_nodes])*1\n",
    "combined_class = np.array([elem[-1] == \"c\" for elem in all_nodes])*2\n",
    "class_assign = nerve_class+lymph_class+combined_class\n",
    "\n",
    "\n",
    "# create the training and testing masks\n",
    "train_mask = np.random.choice(np.arange(0, len(class_assign)), size= int(len(class_assign)*0.8), replace = False)\n",
    "test_mask = np.delete(np.arange(0, len(class_assign)), train_mask)\n",
    "\n",
    "# convert to torch tensor objects\n",
    "train_mask= torch.tensor(train_mask)\n",
    "test_mask= torch.tensor(test_mask)\n",
    "\n",
    "np.random.seed(1234567)\n",
    "unique, counts = np.unique(class_assign[train_mask], return_counts=True)\n",
    "print(\"Train-Mask Class Distribution: \")\n",
    "print(unique)\n",
    "print(counts)\n",
    "\n",
    "print(\"Test-Mask Class Distribution: \")\n",
    "unique, counts = np.unique(class_assign[test_mask], return_counts=True)\n",
    "print(unique)\n",
    "print(counts)\n",
    "\n",
    "\n",
    "# convert the graph to a networkx graph\n",
    "\n",
    "from torch_geometric.utils.convert import from_networkx\n",
    "networkXG = from_networkx(G_contract_einf)\n",
    "networkXG.y = torch.tensor(class_assign)\n"
   ]
  },
  {
   "cell_type": "code",
   "execution_count": 9,
   "metadata": {},
   "outputs": [
    {
     "name": "stdout",
     "output_type": "stream",
     "text": [
      "Epoch: 001, Loss: 1.5030\n",
      "Epoch: 002, Loss: 1.5086\n",
      "Epoch: 003, Loss: 1.2441\n",
      "Epoch: 004, Loss: 1.1874\n",
      "Epoch: 005, Loss: 1.1578\n",
      "Epoch: 006, Loss: 1.0287\n",
      "Epoch: 007, Loss: 1.0192\n",
      "Epoch: 008, Loss: 0.9917\n",
      "Epoch: 009, Loss: 0.9361\n",
      "Epoch: 010, Loss: 0.8935\n",
      "Epoch: 011, Loss: 0.8890\n",
      "Epoch: 012, Loss: 0.8782\n",
      "Epoch: 013, Loss: 0.8430\n",
      "Epoch: 014, Loss: 0.8101\n",
      "Epoch: 015, Loss: 0.8075\n",
      "Epoch: 016, Loss: 0.8058\n",
      "Epoch: 017, Loss: 0.7847\n",
      "Epoch: 018, Loss: 0.7727\n",
      "Epoch: 019, Loss: 0.7717\n",
      "Epoch: 020, Loss: 0.7429\n",
      "Test Accuracy: 0.7744\n"
     ]
    }
   ],
   "source": [
    "num_feat = networkXG.x.shape[1]\n",
    "num_class = len(np.unique(networkXG.y))\n",
    "netGCN = nodeClassifier.GCN_NC\n",
    "netSAGE = nodeClassifier.SAGE_NC\n",
    "netWC = nodeClassifier.WC_NC\n",
    "\n",
    "optimizer = torch.optim.Adam\n",
    "criterion = torch.nn.CrossEntropyLoss\n",
    "modelGCN = nodeClassifier.nodeClassifier(netGCN, hidden_channels=32, features = np.arange(num_feat),classes = num_class, optimizer = optimizer, lossFunc = criterion)\n",
    "modelSAGE = nodeClassifier.nodeClassifier(netSAGE, hidden_channels=32, features = np.arange(num_feat),classes = num_class, optimizer = optimizer, lossFunc = criterion)\n",
    "modelWC = nodeClassifier.nodeClassifier(netWC, hidden_channels=32, features = np.arange(num_feat),classes = num_class, optimizer = optimizer, lossFunc = criterion)\n",
    "\n",
    "models = [modelGCN, modelSAGE, modelWC]\n",
    "models = [modelGCN]\n",
    "\n",
    "\n",
    "epochs = 20\n",
    "loss_l = np.zeros((epochs, len(models)))\n",
    "acc_l = np.zeros((epochs, len(models)))\n",
    "for epoch in range(1, epochs +1):\n",
    "      for i, model in enumerate(models):\n",
    "            loss = model.train(networkXG, train_mask)\n",
    "            loss_l[epoch-1, i] = loss.detach().numpy().copy()\n",
    "            print(f'Epoch: {epoch:03d}, Loss: {loss:.4f}')\n",
    "            test_acc = model.test(networkXG, test_mask)\n",
    "            acc_l[epoch-1, i] = test_acc\n",
    "\n",
    "for model in models:\n",
    "      test_acc = model.test(networkXG, test_mask)\n",
    "      print(f'Test Accuracy: {test_acc:.4f}')\n",
    "\n",
    "#100 iter:\n",
    "#13: 58.75%       trash\n",
    "#12: 58.75%       trash\n",
    "#11: 62.03%\n",
    "#10: 69.11 %\n",
    "#9:  58.75 %      trash\n",
    "#8:  78.69 %\n",
    "#7:  78.40 %\n",
    "#6:  81.08 %\n",
    "#5:  58.75 %      trash\n",
    "#4:  68.69 %\n",
    "#3:  79.97 %\n",
    "#2:  58.75 %      trash\n",
    "#1:  79.97 %\n",
    "#0:  58.75 %      trash\n",
    "\n",
    "#all:        82.56 %\n",
    "#no trash:   81.11 %\n",
    "# >75:       81.96 %\n",
    "#[1,6,8,10]: 80.77 %\n",
    "\n",
    "#500 iter:\n",
    "#all:        82.56 %\n"
   ]
  },
  {
   "cell_type": "code",
   "execution_count": 10,
   "metadata": {},
   "outputs": [
    {
     "data": {
      "image/png": "[encoded data removed]",
      "text/plain": [
       "<Figure size 640x480 with 2 Axes>"
      ]
     },
     "metadata": {},
     "output_type": "display_data"
    }
   ],
   "source": [
    "for i in range(len(models)):\n",
    "    fig, ax1 = plt.subplots()\n",
    "    ax2 = ax1.twinx()\n",
    "    ax1.plot(loss_l[:,i], color = \"red\")\n",
    "    ax2.plot(acc_l[:,i], color = \"blue\")\n",
    "\n",
    "    ax1.set_xlabel('Iterations / No.')\n",
    "    ax1.set_ylabel('Loss', color='r')\n",
    "    ax2.set_ylabel('Accuracy / %', color='b')\n",
    "\n"
   ]
  },
  {
   "cell_type": "markdown",
   "metadata": {},
   "source": [
    "# Try node classification for the dual graph."
   ]
  },
  {
   "cell_type": "code",
   "execution_count": 11,
   "metadata": {},
   "outputs": [
    {
     "name": "stderr",
     "output_type": "stream",
     "text": [
      "/home/laurin/.local/lib/python3.8/site-packages/torch_geometric/utils/convert.py:192: UserWarning: Creating a tensor from a list of numpy.ndarrays is extremely slow. Please consider converting the list to a single numpy.ndarray with numpy.array() before converting to a tensor. (Triggered internally at  ../torch/csrc/utils/tensor_new.cpp:204.)\n",
      "  data[key] = torch.tensor(value)\n"
     ]
    }
   ],
   "source": [
    "import networkx as nx\n",
    "L = nx.line_graph(G_contract_einf)\n",
    "\n",
    "\n",
    "\n",
    "dual_node_features ={}\n",
    "\n",
    "for idxE, edge in merged_edges.iterrows():\n",
    "    try:\n",
    "        L[(edge[\"node1id\"],edge[\"node2id\"])]\n",
    "        dual_node_features[(edge[\"node1id\"],edge[\"node2id\"])] = np.array(edge[2:], dtype = float)\n",
    "    except KeyError:\n",
    "        try:\n",
    "            L[(edge[\"node2id\"],edge[\"node1id\"])]\n",
    "            dual_node_features[(edge[\"node2id\"],edge[\"node1id\"])] = np.array(edge[2:], dtype = float)\n",
    "        except KeyError:\n",
    "            continue\n",
    "\n",
    "\n",
    "nx.set_node_attributes(L, dual_node_features, name=\"x\")\n",
    "\n",
    "\n",
    "networkDualXG = from_networkx(L)\n",
    "\n",
    "node_lab = {}\n",
    "class_label = -1\n",
    "class_label_list = []\n",
    "for k, node in L.nodes.items():\n",
    "    hashval = hash(k[0][-1]) + hash(k[0][-1])\n",
    "    try:\n",
    "        class_label_list.append(node_lab[hashval])\n",
    "    except KeyError:\n",
    "        class_label = class_label +1\n",
    "        node_lab[hashval] = class_label\n",
    "        class_label_list.append(node_lab[hashval])\n",
    "\n",
    "\n",
    "networkDualXG.y = torch.tensor(class_label_list)\n",
    "\n",
    "\n",
    "#networkDualXG.edge_index"
   ]
  },
  {
   "cell_type": "code",
   "execution_count": 12,
   "metadata": {},
   "outputs": [],
   "source": [
    "# create the training and testing masks\n",
    "train_mask_dual = np.random.choice(np.arange(0, len(class_label_list)), size= int(len(class_label_list)*0.8), replace = False)\n",
    "test_mask_dual = np.delete(np.arange(0, len(class_label_list)), train_mask_dual)\n",
    "\n",
    "# convert to torch tensor objects\n",
    "train_mask_dual= torch.tensor(train_mask_dual)\n",
    "test_mask_dual= torch.tensor(test_mask_dual)\n",
    "\n",
    "\n",
    "num_feat_dual = networkDualXG.x.shape[1]\n",
    "num_class_dual = len(np.unique(networkDualXG.y))\n"
   ]
  },
  {
   "cell_type": "code",
   "execution_count": 13,
   "metadata": {},
   "outputs": [
    {
     "name": "stdout",
     "output_type": "stream",
     "text": [
      "Epoch: 001, Loss: 2.0421\n",
      "Epoch: 002, Loss: 0.8451\n",
      "Epoch: 003, Loss: 0.7038\n",
      "Epoch: 004, Loss: 0.6561\n",
      "Epoch: 005, Loss: 0.5903\n",
      "Epoch: 006, Loss: 0.5852\n",
      "Epoch: 007, Loss: 0.5544\n",
      "Epoch: 008, Loss: 0.5789\n",
      "Epoch: 009, Loss: 0.5747\n",
      "Epoch: 010, Loss: 0.5851\n",
      "Epoch: 011, Loss: 0.5793\n",
      "Epoch: 012, Loss: 0.5838\n",
      "Epoch: 013, Loss: 0.5768\n",
      "Epoch: 014, Loss: 0.5622\n",
      "Epoch: 015, Loss: 0.5628\n",
      "Epoch: 016, Loss: 0.5491\n",
      "Epoch: 017, Loss: 0.5410\n",
      "Epoch: 018, Loss: 0.5414\n",
      "Epoch: 019, Loss: 0.5354\n",
      "Epoch: 020, Loss: 0.5338\n",
      "Test Accuracy: 0.7779\n"
     ]
    }
   ],
   "source": [
    "optimizer = torch.optim.Adam\n",
    "criterion = torch.nn.CrossEntropyLoss\n",
    "modelGCN = nodeClassifier.nodeClassifier(netGCN, hidden_channels=64, features = np.arange(num_feat_dual),classes = num_class_dual, optimizer = optimizer, lossFunc = criterion)\n",
    "modelSAGE = nodeClassifier.nodeClassifier(netSAGE, hidden_channels=32, features = np.arange(num_feat_dual),classes = num_class_dual, optimizer = optimizer, lossFunc = criterion)\n",
    "modelWC = nodeClassifier.nodeClassifier(netWC, hidden_channels=32, features = np.arange(num_feat_dual),classes = num_class_dual, optimizer = optimizer, lossFunc = criterion)\n",
    "\n",
    "\n",
    "dualModel = modelGCN\n",
    "\n",
    "\n",
    "epochs = 20\n",
    "loss_l = np.zeros((epochs, 1))\n",
    "acc_l = np.zeros((epochs, 1))\n",
    "for epoch in range(1, epochs +1):\n",
    "      loss = dualModel.train(networkDualXG, train_mask_dual)\n",
    "      loss_l[epoch-1, i] = loss.detach().numpy().copy()\n",
    "      print(f'Epoch: {epoch:03d}, Loss: {loss:.4f}')\n",
    "      test_acc = dualModel.test(networkDualXG, test_mask_dual)\n",
    "      acc_l[epoch-1, i] = test_acc\n",
    "\n",
    "\n",
    "test_acc = dualModel.test(networkDualXG, test_mask_dual)\n",
    "print(f'Test Accuracy: {test_acc:.4f}')"
   ]
  },
  {
   "cell_type": "code",
   "execution_count": 14,
   "metadata": {},
   "outputs": [
    {
     "data": {
      "image/png": "[encoded data removed]",
      "text/plain": [
       "<Figure size 640x480 with 2 Axes>"
      ]
     },
     "metadata": {},
     "output_type": "display_data"
    }
   ],
   "source": [
    "for i in range(len(models)):\n",
    "    fig, ax1 = plt.subplots()\n",
    "    ax2 = ax1.twinx()\n",
    "    ax1.plot(loss_l[:,i], color = \"red\")\n",
    "    ax2.plot(acc_l[:,i], color = \"blue\")\n",
    "\n",
    "    ax1.set_xlabel('Iterations / No.')\n",
    "    ax1.set_ylabel('Loss', color='r')\n",
    "    ax2.set_ylabel('Accuracy / %', color='b')"
   ]
  },
  {
   "cell_type": "markdown",
   "metadata": {},
   "source": [
    "# Use wadb to perform parameter for hyperparameter search "
   ]
  },
  {
   "cell_type": "code",
   "execution_count": 15,
   "metadata": {},
   "outputs": [
    {
     "name": "stdout",
     "output_type": "stream",
     "text": [
      "Create sweep with ID: x9iufgzv\n",
      "Sweep URL: https://wandb.ai/luxtu/node-classification/sweeps/x9iufgzv\n"
     ]
    }
   ],
   "source": [
    "# give more room to the weight decay\n",
    "sweep_variable_layyer_num = {\n",
    "    \"name\": \"gcn-sweep\",\n",
    "    \"method\": \"bayes\",\n",
    "    \"metric\": {\n",
    "        \"name\": \"gcn/accuracy\",\n",
    "        \"goal\": \"maximize\",\n",
    "    },\n",
    "    \"parameters\": {\n",
    "        \n",
    "        \"models\": {\n",
    "            \"values\": [\"SAGE\", \"GCN\"]\n",
    "        },\n",
    "        \"hidden_channels\": {\n",
    "            \"values\": [8, 16, 32, 64]\n",
    "        },\n",
    "\n",
    "        \"weight_decay\": {\n",
    "            \"distribution\": \"normal\",\n",
    "            \"mu\": 1e-4,\n",
    "            \"sigma\": 1e-5,\n",
    "        },\n",
    "        \"lr\": {\n",
    "            \"min\": 1e-4,\n",
    "            \"max\": 1e-3\n",
    "        },\n",
    "        \"dropout\": {\n",
    "            \"values\": [0.2, 0.4, 0.6]\n",
    "        },\n",
    "        \"num_layers\": {\n",
    "            \"values\": [2, 4, 8, 16]\n",
    "        }\n",
    "    }\n",
    "}\n",
    "\n",
    "# Register the Sweep with W&B\n",
    "import wandb\n",
    "sweep_id = wandb.sweep(sweep_variable_layyer_num, project=\"node-classification\")"
   ]
  },
  {
   "cell_type": "code",
   "execution_count": 16,
   "metadata": {},
   "outputs": [],
   "source": [
    "optimizerAdam = torch.optim.Adam\n",
    "criterionCEL = torch.nn.CrossEntropyLoss\n",
    "\n",
    "sweeper = nodeClassifier.nodeClassifierSweep(features = np.arange(num_feat_dual),classes = num_class_dual, optimizer = optimizerAdam, lossFunc = criterionCEL, graph = networkDualXG,  train_mask = train_mask, test_mask = test_mask, epochs = 100)"
   ]
  },
  {
   "cell_type": "code",
   "execution_count": null,
   "metadata": {},
   "outputs": [],
   "source": [
    "# Run the Sweeps agent\n",
    "wandb.agent(sweep_id, project=\"node-classification\", function=sweeper.agent_variable_size_model, count=50)\n",
    "\n",
    "#sweeper.agent_variable_size_model()"
   ]
  }
 ],
 "metadata": {
  "kernelspec": {
   "display_name": "Python 3.8.10 64-bit",
   "language": "python",
   "name": "python3"
  },
  "language_info": {
   "codemirror_mode": {
    "name": "ipython",
    "version": 3
   },
   "file_extension": ".py",
   "mimetype": "text/x-python",
   "name": "python",
   "nbconvert_exporter": "python",
   "pygments_lexer": "ipython3",
   "version": "3.8.10"
  },
  "orig_nbformat": 4,
  "vscode": {
   "interpreter": {
    "hash": "31f2aee4e71d21fbe5cf8b01ff0e069b9275f58929596ceb00d14d90e3e16cd6"
   }
  }
 },
 "nbformat": 4,
 "nbformat_minor": 2
}
