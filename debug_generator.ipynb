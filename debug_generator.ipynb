{
 "cells": [
  {
   "cell_type": "code",
   "execution_count": 1,
   "metadata": {},
   "outputs": [],
   "source": [
    "from generator import heterograph_from_vvg_generator\n",
    "# enable auto reload\n",
    "%load_ext autoreload\n",
    "%autoreload 2"
   ]
  },
  {
   "cell_type": "code",
   "execution_count": 8,
   "metadata": {},
   "outputs": [
    {
     "name": "stdout",
     "output_type": "stream",
     "text": [
      "0484_OS\n",
      "0001_OS\n",
      "0002_OS\n",
      "0003_OD\n",
      "0003_OS\n",
      "0004_OD\n",
      "0004_OS\n",
      "0005_OD\n",
      "0005_OS\n",
      "0006_OD\n",
      "0007_OD\n",
      "0007_OS\n",
      "0008_OS\n",
      "0009_OD\n",
      "0010_OD\n",
      "0011_OD\n",
      "0012_OD\n",
      "0012_OS\n",
      "0013_OD\n",
      "0013_OS\n",
      "0014_OD\n"
     ]
    },
    {
     "name": "stderr",
     "output_type": "stream",
     "text": [
      "/home/alex_johannes/octa_gnn/OCTA_gnn/generator/heterograph_from_vvg_generator.py:148: UserWarning: Any labeled images will be returned as a boolean array. Did you mean to use a boolean array?\n",
      "  region_labels = measure.label(morphology.remove_small_holes(seg, area_threshold=5, connectivity=1).astype(\"uint8\"), background=1)\n"
     ]
    },
    {
     "name": "stdout",
     "output_type": "stream",
     "text": [
      "1575 350\n",
      "7613\n",
      "258149 3104\n",
      "0015_OD\n"
     ]
    },
    {
     "name": "stderr",
     "output_type": "stream",
     "text": [
      "/home/alex_johannes/octa_gnn/OCTA_gnn/generator/heterograph_from_vvg_generator.py:148: UserWarning: Any labeled images will be returned as a boolean array. Did you mean to use a boolean array?\n",
      "  region_labels = measure.label(morphology.remove_small_holes(seg, area_threshold=5, connectivity=1).astype(\"uint8\"), background=1)\n"
     ]
    },
    {
     "name": "stdout",
     "output_type": "stream",
     "text": [
      "1941 444\n",
      "8696\n",
      "269226 3619\n",
      "0015_OS\n"
     ]
    },
    {
     "name": "stderr",
     "output_type": "stream",
     "text": [
      "/home/alex_johannes/octa_gnn/OCTA_gnn/generator/heterograph_from_vvg_generator.py:148: UserWarning: Any labeled images will be returned as a boolean array. Did you mean to use a boolean array?\n",
      "  region_labels = measure.label(morphology.remove_small_holes(seg, area_threshold=5, connectivity=1).astype(\"uint8\"), background=1)\n"
     ]
    },
    {
     "name": "stdout",
     "output_type": "stream",
     "text": [
      "2100 499\n",
      "9304\n",
      "272917 3958\n",
      "0016_OD\n"
     ]
    },
    {
     "name": "stderr",
     "output_type": "stream",
     "text": [
      "/home/alex_johannes/octa_gnn/OCTA_gnn/generator/heterograph_from_vvg_generator.py:148: UserWarning: Any labeled images will be returned as a boolean array. Did you mean to use a boolean array?\n",
      "  region_labels = measure.label(morphology.remove_small_holes(seg, area_threshold=5, connectivity=1).astype(\"uint8\"), background=1)\n"
     ]
    },
    {
     "name": "stdout",
     "output_type": "stream",
     "text": [
      "2068 432\n",
      "9330\n",
      "281220 3503\n",
      "0016_OS\n"
     ]
    },
    {
     "name": "stderr",
     "output_type": "stream",
     "text": [
      "/home/alex_johannes/octa_gnn/OCTA_gnn/generator/heterograph_from_vvg_generator.py:148: UserWarning: Any labeled images will be returned as a boolean array. Did you mean to use a boolean array?\n",
      "  region_labels = measure.label(morphology.remove_small_holes(seg, area_threshold=5, connectivity=1).astype(\"uint8\"), background=1)\n"
     ]
    },
    {
     "name": "stdout",
     "output_type": "stream",
     "text": [
      "2003 414\n",
      "9094\n",
      "282427 3056\n",
      "0017_OD\n"
     ]
    },
    {
     "name": "stderr",
     "output_type": "stream",
     "text": [
      "/home/alex_johannes/octa_gnn/OCTA_gnn/generator/heterograph_from_vvg_generator.py:148: UserWarning: Any labeled images will be returned as a boolean array. Did you mean to use a boolean array?\n",
      "  region_labels = measure.label(morphology.remove_small_holes(seg, area_threshold=5, connectivity=1).astype(\"uint8\"), background=1)\n"
     ]
    },
    {
     "name": "stdout",
     "output_type": "stream",
     "text": [
      "1841 434\n",
      "8509\n",
      "277104 3122\n",
      "0017_OS\n"
     ]
    },
    {
     "name": "stderr",
     "output_type": "stream",
     "text": [
      "/home/alex_johannes/octa_gnn/OCTA_gnn/generator/heterograph_from_vvg_generator.py:148: UserWarning: Any labeled images will be returned as a boolean array. Did you mean to use a boolean array?\n",
      "  region_labels = measure.label(morphology.remove_small_holes(seg, area_threshold=5, connectivity=1).astype(\"uint8\"), background=1)\n"
     ]
    },
    {
     "name": "stdout",
     "output_type": "stream",
     "text": [
      "1861 399\n",
      "8592\n",
      "273940 3911\n",
      "0018_OD\n"
     ]
    },
    {
     "name": "stderr",
     "output_type": "stream",
     "text": [
      "/home/alex_johannes/octa_gnn/OCTA_gnn/generator/heterograph_from_vvg_generator.py:148: UserWarning: Any labeled images will be returned as a boolean array. Did you mean to use a boolean array?\n",
      "  region_labels = measure.label(morphology.remove_small_holes(seg, area_threshold=5, connectivity=1).astype(\"uint8\"), background=1)\n"
     ]
    },
    {
     "name": "stdout",
     "output_type": "stream",
     "text": [
      "1779 410\n",
      "8501\n",
      "277463 3225\n",
      "0018_OS\n"
     ]
    },
    {
     "name": "stderr",
     "output_type": "stream",
     "text": [
      "/home/alex_johannes/octa_gnn/OCTA_gnn/generator/heterograph_from_vvg_generator.py:148: UserWarning: Any labeled images will be returned as a boolean array. Did you mean to use a boolean array?\n",
      "  region_labels = measure.label(morphology.remove_small_holes(seg, area_threshold=5, connectivity=1).astype(\"uint8\"), background=1)\n"
     ]
    },
    {
     "name": "stdout",
     "output_type": "stream",
     "text": [
      "1805 447\n",
      "8765\n",
      "276694 3435\n",
      "0019_OD\n"
     ]
    },
    {
     "name": "stderr",
     "output_type": "stream",
     "text": [
      "/home/alex_johannes/octa_gnn/OCTA_gnn/generator/heterograph_from_vvg_generator.py:148: UserWarning: Any labeled images will be returned as a boolean array. Did you mean to use a boolean array?\n",
      "  region_labels = measure.label(morphology.remove_small_holes(seg, area_threshold=5, connectivity=1).astype(\"uint8\"), background=1)\n"
     ]
    },
    {
     "name": "stdout",
     "output_type": "stream",
     "text": [
      "1894 409\n",
      "8884\n",
      "271965 3372\n",
      "0019_OS\n"
     ]
    },
    {
     "name": "stderr",
     "output_type": "stream",
     "text": [
      "/home/alex_johannes/octa_gnn/OCTA_gnn/generator/heterograph_from_vvg_generator.py:148: UserWarning: Any labeled images will be returned as a boolean array. Did you mean to use a boolean array?\n",
      "  region_labels = measure.label(morphology.remove_small_holes(seg, area_threshold=5, connectivity=1).astype(\"uint8\"), background=1)\n"
     ]
    },
    {
     "name": "stdout",
     "output_type": "stream",
     "text": [
      "1886 396\n",
      "8783\n",
      "278673 2898\n",
      "0020_OD\n"
     ]
    },
    {
     "name": "stderr",
     "output_type": "stream",
     "text": [
      "/home/alex_johannes/octa_gnn/OCTA_gnn/generator/heterograph_from_vvg_generator.py:148: UserWarning: Any labeled images will be returned as a boolean array. Did you mean to use a boolean array?\n",
      "  region_labels = measure.label(morphology.remove_small_holes(seg, area_threshold=5, connectivity=1).astype(\"uint8\"), background=1)\n"
     ]
    },
    {
     "name": "stdout",
     "output_type": "stream",
     "text": [
      "1384 289\n",
      "6843\n",
      "262184 3159\n",
      "0528_OD\n"
     ]
    },
    {
     "name": "stderr",
     "output_type": "stream",
     "text": [
      "/home/alex_johannes/octa_gnn/OCTA_gnn/generator/heterograph_from_vvg_generator.py:148: UserWarning: Any labeled images will be returned as a boolean array. Did you mean to use a boolean array?\n",
      "  region_labels = measure.label(morphology.remove_small_holes(seg, area_threshold=5, connectivity=1).astype(\"uint8\"), background=1)\n"
     ]
    },
    {
     "name": "stdout",
     "output_type": "stream",
     "text": [
      "2034 451\n",
      "9194\n",
      "278567 3392\n",
      "0528_OS\n"
     ]
    },
    {
     "name": "stderr",
     "output_type": "stream",
     "text": [
      "/home/alex_johannes/octa_gnn/OCTA_gnn/generator/heterograph_from_vvg_generator.py:148: UserWarning: Any labeled images will be returned as a boolean array. Did you mean to use a boolean array?\n",
      "  region_labels = measure.label(morphology.remove_small_holes(seg, area_threshold=5, connectivity=1).astype(\"uint8\"), background=1)\n"
     ]
    },
    {
     "name": "stdout",
     "output_type": "stream",
     "text": [
      "2018 510\n",
      "9029\n",
      "275182 3868\n",
      "0529_OD\n"
     ]
    },
    {
     "name": "stderr",
     "output_type": "stream",
     "text": [
      "/home/alex_johannes/octa_gnn/OCTA_gnn/generator/heterograph_from_vvg_generator.py:148: UserWarning: Any labeled images will be returned as a boolean array. Did you mean to use a boolean array?\n",
      "  region_labels = measure.label(morphology.remove_small_holes(seg, area_threshold=5, connectivity=1).astype(\"uint8\"), background=1)\n"
     ]
    },
    {
     "name": "stdout",
     "output_type": "stream",
     "text": [
      "1684 408\n",
      "8100\n",
      "259920 3547\n",
      "0529_OS\n"
     ]
    },
    {
     "name": "stderr",
     "output_type": "stream",
     "text": [
      "/home/alex_johannes/octa_gnn/OCTA_gnn/generator/heterograph_from_vvg_generator.py:148: UserWarning: Any labeled images will be returned as a boolean array. Did you mean to use a boolean array?\n",
      "  region_labels = measure.label(morphology.remove_small_holes(seg, area_threshold=5, connectivity=1).astype(\"uint8\"), background=1)\n"
     ]
    },
    {
     "name": "stdout",
     "output_type": "stream",
     "text": [
      "1747 395\n",
      "8316\n",
      "268385 3046\n",
      "0530_OD\n"
     ]
    },
    {
     "name": "stderr",
     "output_type": "stream",
     "text": [
      "/home/alex_johannes/octa_gnn/OCTA_gnn/generator/heterograph_from_vvg_generator.py:148: UserWarning: Any labeled images will be returned as a boolean array. Did you mean to use a boolean array?\n",
      "  region_labels = measure.label(morphology.remove_small_holes(seg, area_threshold=5, connectivity=1).astype(\"uint8\"), background=1)\n"
     ]
    },
    {
     "name": "stdout",
     "output_type": "stream",
     "text": [
      "1712 370\n",
      "8244\n",
      "268961 3427\n",
      "0530_OS\n"
     ]
    },
    {
     "name": "stderr",
     "output_type": "stream",
     "text": [
      "/home/alex_johannes/octa_gnn/OCTA_gnn/generator/heterograph_from_vvg_generator.py:148: UserWarning: Any labeled images will be returned as a boolean array. Did you mean to use a boolean array?\n",
      "  region_labels = measure.label(morphology.remove_small_holes(seg, area_threshold=5, connectivity=1).astype(\"uint8\"), background=1)\n"
     ]
    },
    {
     "name": "stdout",
     "output_type": "stream",
     "text": [
      "1519 329\n",
      "7534\n",
      "264591 2627\n",
      "0531_OD\n"
     ]
    },
    {
     "name": "stderr",
     "output_type": "stream",
     "text": [
      "/home/alex_johannes/octa_gnn/OCTA_gnn/generator/heterograph_from_vvg_generator.py:148: UserWarning: Any labeled images will be returned as a boolean array. Did you mean to use a boolean array?\n",
      "  region_labels = measure.label(morphology.remove_small_holes(seg, area_threshold=5, connectivity=1).astype(\"uint8\"), background=1)\n"
     ]
    },
    {
     "name": "stdout",
     "output_type": "stream",
     "text": [
      "1821 433\n",
      "8212\n",
      "264533 3611\n",
      "0531_OS\n"
     ]
    },
    {
     "name": "stderr",
     "output_type": "stream",
     "text": [
      "/home/alex_johannes/octa_gnn/OCTA_gnn/generator/heterograph_from_vvg_generator.py:148: UserWarning: Any labeled images will be returned as a boolean array. Did you mean to use a boolean array?\n",
      "  region_labels = measure.label(morphology.remove_small_holes(seg, area_threshold=5, connectivity=1).astype(\"uint8\"), background=1)\n"
     ]
    },
    {
     "name": "stdout",
     "output_type": "stream",
     "text": [
      "1645 352\n",
      "7892\n",
      "262724 3312\n",
      "0532_OD\n"
     ]
    },
    {
     "name": "stderr",
     "output_type": "stream",
     "text": [
      "/home/alex_johannes/octa_gnn/OCTA_gnn/generator/heterograph_from_vvg_generator.py:148: UserWarning: Any labeled images will be returned as a boolean array. Did you mean to use a boolean array?\n",
      "  region_labels = measure.label(morphology.remove_small_holes(seg, area_threshold=5, connectivity=1).astype(\"uint8\"), background=1)\n"
     ]
    },
    {
     "name": "stdout",
     "output_type": "stream",
     "text": [
      "1837 396\n",
      "8804\n",
      "283474 2735\n",
      "0532_OS\n"
     ]
    },
    {
     "name": "stderr",
     "output_type": "stream",
     "text": [
      "/home/alex_johannes/octa_gnn/OCTA_gnn/generator/heterograph_from_vvg_generator.py:148: UserWarning: Any labeled images will be returned as a boolean array. Did you mean to use a boolean array?\n",
      "  region_labels = measure.label(morphology.remove_small_holes(seg, area_threshold=5, connectivity=1).astype(\"uint8\"), background=1)\n"
     ]
    },
    {
     "name": "stdout",
     "output_type": "stream",
     "text": [
      "1998 460\n",
      "9386\n",
      "285439 3289\n",
      "0533_OS\n"
     ]
    },
    {
     "name": "stderr",
     "output_type": "stream",
     "text": [
      "/home/alex_johannes/octa_gnn/OCTA_gnn/generator/heterograph_from_vvg_generator.py:148: UserWarning: Any labeled images will be returned as a boolean array. Did you mean to use a boolean array?\n",
      "  region_labels = measure.label(morphology.remove_small_holes(seg, area_threshold=5, connectivity=1).astype(\"uint8\"), background=1)\n"
     ]
    },
    {
     "name": "stdout",
     "output_type": "stream",
     "text": [
      "1615 364\n",
      "7819\n",
      "266164 3045\n",
      "0534_OD\n"
     ]
    },
    {
     "name": "stderr",
     "output_type": "stream",
     "text": [
      "/home/alex_johannes/octa_gnn/OCTA_gnn/generator/heterograph_from_vvg_generator.py:148: UserWarning: Any labeled images will be returned as a boolean array. Did you mean to use a boolean array?\n",
      "  region_labels = measure.label(morphology.remove_small_holes(seg, area_threshold=5, connectivity=1).astype(\"uint8\"), background=1)\n"
     ]
    },
    {
     "name": "stdout",
     "output_type": "stream",
     "text": [
      "1773 348\n",
      "8381\n",
      "275374 2968\n",
      "0534_OS\n"
     ]
    },
    {
     "name": "stderr",
     "output_type": "stream",
     "text": [
      "/home/alex_johannes/octa_gnn/OCTA_gnn/generator/heterograph_from_vvg_generator.py:148: UserWarning: Any labeled images will be returned as a boolean array. Did you mean to use a boolean array?\n",
      "  region_labels = measure.label(morphology.remove_small_holes(seg, area_threshold=5, connectivity=1).astype(\"uint8\"), background=1)\n"
     ]
    },
    {
     "name": "stdout",
     "output_type": "stream",
     "text": [
      "1678 412\n",
      "8002\n",
      "270527 3167\n",
      "0535_OD\n"
     ]
    },
    {
     "name": "stderr",
     "output_type": "stream",
     "text": [
      "/home/alex_johannes/octa_gnn/OCTA_gnn/generator/heterograph_from_vvg_generator.py:148: UserWarning: Any labeled images will be returned as a boolean array. Did you mean to use a boolean array?\n",
      "  region_labels = measure.label(morphology.remove_small_holes(seg, area_threshold=5, connectivity=1).astype(\"uint8\"), background=1)\n"
     ]
    },
    {
     "name": "stdout",
     "output_type": "stream",
     "text": [
      "1491 321\n",
      "7374\n",
      "260014 3177\n",
      "0536_OD\n"
     ]
    },
    {
     "name": "stderr",
     "output_type": "stream",
     "text": [
      "/home/alex_johannes/octa_gnn/OCTA_gnn/generator/heterograph_from_vvg_generator.py:148: UserWarning: Any labeled images will be returned as a boolean array. Did you mean to use a boolean array?\n",
      "  region_labels = measure.label(morphology.remove_small_holes(seg, area_threshold=5, connectivity=1).astype(\"uint8\"), background=1)\n"
     ]
    },
    {
     "name": "stdout",
     "output_type": "stream",
     "text": [
      "1873 409\n",
      "8688\n",
      "270069 3358\n",
      "0536_OS\n"
     ]
    },
    {
     "name": "stderr",
     "output_type": "stream",
     "text": [
      "/home/alex_johannes/octa_gnn/OCTA_gnn/generator/heterograph_from_vvg_generator.py:148: UserWarning: Any labeled images will be returned as a boolean array. Did you mean to use a boolean array?\n",
      "  region_labels = measure.label(morphology.remove_small_holes(seg, area_threshold=5, connectivity=1).astype(\"uint8\"), background=1)\n"
     ]
    },
    {
     "name": "stdout",
     "output_type": "stream",
     "text": [
      "1751 440\n",
      "8325\n",
      "261473 3790\n",
      "0252_OD\n"
     ]
    },
    {
     "name": "stderr",
     "output_type": "stream",
     "text": [
      "/home/alex_johannes/octa_gnn/OCTA_gnn/generator/heterograph_from_vvg_generator.py:148: UserWarning: Any labeled images will be returned as a boolean array. Did you mean to use a boolean array?\n",
      "  region_labels = measure.label(morphology.remove_small_holes(seg, area_threshold=5, connectivity=1).astype(\"uint8\"), background=1)\n"
     ]
    },
    {
     "name": "stdout",
     "output_type": "stream",
     "text": [
      "1849 497\n",
      "8496\n",
      "261904 4073\n",
      "0253_OD\n"
     ]
    },
    {
     "name": "stderr",
     "output_type": "stream",
     "text": [
      "/home/alex_johannes/octa_gnn/OCTA_gnn/generator/heterograph_from_vvg_generator.py:148: UserWarning: Any labeled images will be returned as a boolean array. Did you mean to use a boolean array?\n",
      "  region_labels = measure.label(morphology.remove_small_holes(seg, area_threshold=5, connectivity=1).astype(\"uint8\"), background=1)\n"
     ]
    },
    {
     "name": "stdout",
     "output_type": "stream",
     "text": [
      "684 127\n",
      "4080\n",
      "220530 843\n",
      "0253_OS\n"
     ]
    },
    {
     "name": "stderr",
     "output_type": "stream",
     "text": [
      "/home/alex_johannes/octa_gnn/OCTA_gnn/generator/heterograph_from_vvg_generator.py:148: UserWarning: Any labeled images will be returned as a boolean array. Did you mean to use a boolean array?\n",
      "  region_labels = measure.label(morphology.remove_small_holes(seg, area_threshold=5, connectivity=1).astype(\"uint8\"), background=1)\n"
     ]
    },
    {
     "name": "stdout",
     "output_type": "stream",
     "text": [
      "1693 333\n",
      "8041\n",
      "268419 2816\n",
      "0254_OD\n"
     ]
    },
    {
     "name": "stderr",
     "output_type": "stream",
     "text": [
      "/home/alex_johannes/octa_gnn/OCTA_gnn/generator/heterograph_from_vvg_generator.py:148: UserWarning: Any labeled images will be returned as a boolean array. Did you mean to use a boolean array?\n",
      "  region_labels = measure.label(morphology.remove_small_holes(seg, area_threshold=5, connectivity=1).astype(\"uint8\"), background=1)\n"
     ]
    },
    {
     "name": "stdout",
     "output_type": "stream",
     "text": [
      "1905 411\n",
      "8818\n",
      "276574 2685\n",
      "0254_OS\n"
     ]
    },
    {
     "name": "stderr",
     "output_type": "stream",
     "text": [
      "/home/alex_johannes/octa_gnn/OCTA_gnn/generator/heterograph_from_vvg_generator.py:148: UserWarning: Any labeled images will be returned as a boolean array. Did you mean to use a boolean array?\n",
      "  region_labels = measure.label(morphology.remove_small_holes(seg, area_threshold=5, connectivity=1).astype(\"uint8\"), background=1)\n"
     ]
    },
    {
     "name": "stdout",
     "output_type": "stream",
     "text": [
      "1443 323\n",
      "7298\n",
      "253298 2649\n",
      "0255_OS\n"
     ]
    },
    {
     "name": "stderr",
     "output_type": "stream",
     "text": [
      "/home/alex_johannes/octa_gnn/OCTA_gnn/generator/heterograph_from_vvg_generator.py:148: UserWarning: Any labeled images will be returned as a boolean array. Did you mean to use a boolean array?\n",
      "  region_labels = measure.label(morphology.remove_small_holes(seg, area_threshold=5, connectivity=1).astype(\"uint8\"), background=1)\n"
     ]
    },
    {
     "name": "stdout",
     "output_type": "stream",
     "text": [
      "1394 352\n",
      "7003\n",
      "247621 3035\n",
      "0256_OD\n"
     ]
    },
    {
     "name": "stderr",
     "output_type": "stream",
     "text": [
      "/home/alex_johannes/octa_gnn/OCTA_gnn/generator/heterograph_from_vvg_generator.py:148: UserWarning: Any labeled images will be returned as a boolean array. Did you mean to use a boolean array?\n",
      "  region_labels = measure.label(morphology.remove_small_holes(seg, area_threshold=5, connectivity=1).astype(\"uint8\"), background=1)\n"
     ]
    },
    {
     "name": "stdout",
     "output_type": "stream",
     "text": [
      "1976 503\n",
      "9012\n",
      "277094 3835\n",
      "0256_OS\n"
     ]
    },
    {
     "name": "stderr",
     "output_type": "stream",
     "text": [
      "/home/alex_johannes/octa_gnn/OCTA_gnn/generator/heterograph_from_vvg_generator.py:148: UserWarning: Any labeled images will be returned as a boolean array. Did you mean to use a boolean array?\n",
      "  region_labels = measure.label(morphology.remove_small_holes(seg, area_threshold=5, connectivity=1).astype(\"uint8\"), background=1)\n"
     ]
    },
    {
     "name": "stdout",
     "output_type": "stream",
     "text": [
      "1773 422\n",
      "8483\n",
      "271377 3824\n",
      "0257_OD\n"
     ]
    },
    {
     "name": "stderr",
     "output_type": "stream",
     "text": [
      "/home/alex_johannes/octa_gnn/OCTA_gnn/generator/heterograph_from_vvg_generator.py:148: UserWarning: Any labeled images will be returned as a boolean array. Did you mean to use a boolean array?\n",
      "  region_labels = measure.label(morphology.remove_small_holes(seg, area_threshold=5, connectivity=1).astype(\"uint8\"), background=1)\n"
     ]
    },
    {
     "name": "stdout",
     "output_type": "stream",
     "text": [
      "1791 435\n",
      "8395\n",
      "266928 3320\n",
      "0258_OS\n"
     ]
    },
    {
     "name": "stderr",
     "output_type": "stream",
     "text": [
      "/home/alex_johannes/octa_gnn/OCTA_gnn/generator/heterograph_from_vvg_generator.py:148: UserWarning: Any labeled images will be returned as a boolean array. Did you mean to use a boolean array?\n",
      "  region_labels = measure.label(morphology.remove_small_holes(seg, area_threshold=5, connectivity=1).astype(\"uint8\"), background=1)\n"
     ]
    },
    {
     "name": "stdout",
     "output_type": "stream",
     "text": [
      "1888 463\n",
      "9007\n",
      "272370 4011\n",
      "0259_OD\n"
     ]
    },
    {
     "name": "stderr",
     "output_type": "stream",
     "text": [
      "/home/alex_johannes/octa_gnn/OCTA_gnn/generator/heterograph_from_vvg_generator.py:148: UserWarning: Any labeled images will be returned as a boolean array. Did you mean to use a boolean array?\n",
      "  region_labels = measure.label(morphology.remove_small_holes(seg, area_threshold=5, connectivity=1).astype(\"uint8\"), background=1)\n"
     ]
    },
    {
     "name": "stdout",
     "output_type": "stream",
     "text": [
      "1982 499\n",
      "8955\n",
      "273281 4065\n",
      "0259_OS\n"
     ]
    },
    {
     "name": "stderr",
     "output_type": "stream",
     "text": [
      "/home/alex_johannes/octa_gnn/OCTA_gnn/generator/heterograph_from_vvg_generator.py:148: UserWarning: Any labeled images will be returned as a boolean array. Did you mean to use a boolean array?\n",
      "  region_labels = measure.label(morphology.remove_small_holes(seg, area_threshold=5, connectivity=1).astype(\"uint8\"), background=1)\n"
     ]
    },
    {
     "name": "stdout",
     "output_type": "stream",
     "text": [
      "1968 450\n",
      "9012\n",
      "271937 3848\n",
      "0260_OD\n"
     ]
    },
    {
     "name": "stderr",
     "output_type": "stream",
     "text": [
      "/home/alex_johannes/octa_gnn/OCTA_gnn/generator/heterograph_from_vvg_generator.py:148: UserWarning: Any labeled images will be returned as a boolean array. Did you mean to use a boolean array?\n",
      "  region_labels = measure.label(morphology.remove_small_holes(seg, area_threshold=5, connectivity=1).astype(\"uint8\"), background=1)\n"
     ]
    },
    {
     "name": "stdout",
     "output_type": "stream",
     "text": [
      "1752 438\n",
      "8141\n",
      "255366 3878\n",
      "0261_OS\n"
     ]
    },
    {
     "name": "stderr",
     "output_type": "stream",
     "text": [
      "/home/alex_johannes/octa_gnn/OCTA_gnn/generator/heterograph_from_vvg_generator.py:148: UserWarning: Any labeled images will be returned as a boolean array. Did you mean to use a boolean array?\n",
      "  region_labels = measure.label(morphology.remove_small_holes(seg, area_threshold=5, connectivity=1).astype(\"uint8\"), background=1)\n"
     ]
    },
    {
     "name": "stdout",
     "output_type": "stream",
     "text": [
      "1810 412\n",
      "8459\n",
      "263778 3128\n",
      "0262_OD\n"
     ]
    },
    {
     "name": "stderr",
     "output_type": "stream",
     "text": [
      "/home/alex_johannes/octa_gnn/OCTA_gnn/generator/heterograph_from_vvg_generator.py:148: UserWarning: Any labeled images will be returned as a boolean array. Did you mean to use a boolean array?\n",
      "  region_labels = measure.label(morphology.remove_small_holes(seg, area_threshold=5, connectivity=1).astype(\"uint8\"), background=1)\n"
     ]
    },
    {
     "name": "stdout",
     "output_type": "stream",
     "text": [
      "1939 405\n",
      "8996\n",
      "285069 2855\n",
      "0263_OD\n"
     ]
    },
    {
     "name": "stderr",
     "output_type": "stream",
     "text": [
      "/home/alex_johannes/octa_gnn/OCTA_gnn/generator/heterograph_from_vvg_generator.py:148: UserWarning: Any labeled images will be returned as a boolean array. Did you mean to use a boolean array?\n",
      "  region_labels = measure.label(morphology.remove_small_holes(seg, area_threshold=5, connectivity=1).astype(\"uint8\"), background=1)\n"
     ]
    },
    {
     "name": "stdout",
     "output_type": "stream",
     "text": [
      "1626 410\n",
      "7806\n",
      "256913 3749\n",
      "0263_OS\n"
     ]
    },
    {
     "name": "stderr",
     "output_type": "stream",
     "text": [
      "/home/alex_johannes/octa_gnn/OCTA_gnn/generator/heterograph_from_vvg_generator.py:148: UserWarning: Any labeled images will be returned as a boolean array. Did you mean to use a boolean array?\n",
      "  region_labels = measure.label(morphology.remove_small_holes(seg, area_threshold=5, connectivity=1).astype(\"uint8\"), background=1)\n"
     ]
    },
    {
     "name": "stdout",
     "output_type": "stream",
     "text": [
      "1583 425\n",
      "7641\n",
      "262451 3342\n",
      "0264_OS\n"
     ]
    },
    {
     "name": "stderr",
     "output_type": "stream",
     "text": [
      "/home/alex_johannes/octa_gnn/OCTA_gnn/generator/heterograph_from_vvg_generator.py:148: UserWarning: Any labeled images will be returned as a boolean array. Did you mean to use a boolean array?\n",
      "  region_labels = measure.label(morphology.remove_small_holes(seg, area_threshold=5, connectivity=1).astype(\"uint8\"), background=1)\n"
     ]
    },
    {
     "name": "stdout",
     "output_type": "stream",
     "text": [
      "499 110\n",
      "3211\n",
      "177170 1096\n",
      "0265_OD\n"
     ]
    },
    {
     "name": "stderr",
     "output_type": "stream",
     "text": [
      "/home/alex_johannes/octa_gnn/OCTA_gnn/generator/heterograph_from_vvg_generator.py:148: UserWarning: Any labeled images will be returned as a boolean array. Did you mean to use a boolean array?\n",
      "  region_labels = measure.label(morphology.remove_small_holes(seg, area_threshold=5, connectivity=1).astype(\"uint8\"), background=1)\n"
     ]
    },
    {
     "name": "stdout",
     "output_type": "stream",
     "text": [
      "1272 293\n",
      "6429\n",
      "240369 2938\n",
      "0266_OD\n"
     ]
    },
    {
     "name": "stderr",
     "output_type": "stream",
     "text": [
      "/home/alex_johannes/octa_gnn/OCTA_gnn/generator/heterograph_from_vvg_generator.py:148: UserWarning: Any labeled images will be returned as a boolean array. Did you mean to use a boolean array?\n",
      "  region_labels = measure.label(morphology.remove_small_holes(seg, area_threshold=5, connectivity=1).astype(\"uint8\"), background=1)\n"
     ]
    },
    {
     "name": "stdout",
     "output_type": "stream",
     "text": [
      "1247 296\n",
      "6540\n",
      "243749 2774\n",
      "0266_OS\n"
     ]
    },
    {
     "name": "stderr",
     "output_type": "stream",
     "text": [
      "/home/alex_johannes/octa_gnn/OCTA_gnn/generator/heterograph_from_vvg_generator.py:148: UserWarning: Any labeled images will be returned as a boolean array. Did you mean to use a boolean array?\n",
      "  region_labels = measure.label(morphology.remove_small_holes(seg, area_threshold=5, connectivity=1).astype(\"uint8\"), background=1)\n"
     ]
    },
    {
     "name": "stdout",
     "output_type": "stream",
     "text": [
      "1286 334\n",
      "6702\n",
      "240568 3089\n",
      "0267_OD\n"
     ]
    },
    {
     "name": "stderr",
     "output_type": "stream",
     "text": [
      "/home/alex_johannes/octa_gnn/OCTA_gnn/generator/heterograph_from_vvg_generator.py:148: UserWarning: Any labeled images will be returned as a boolean array. Did you mean to use a boolean array?\n",
      "  region_labels = measure.label(morphology.remove_small_holes(seg, area_threshold=5, connectivity=1).astype(\"uint8\"), background=1)\n"
     ]
    },
    {
     "name": "stdout",
     "output_type": "stream",
     "text": [
      "1824 416\n",
      "8441\n",
      "267995 2912\n",
      "0267_OS\n"
     ]
    },
    {
     "name": "stderr",
     "output_type": "stream",
     "text": [
      "/home/alex_johannes/octa_gnn/OCTA_gnn/generator/heterograph_from_vvg_generator.py:148: UserWarning: Any labeled images will be returned as a boolean array. Did you mean to use a boolean array?\n",
      "  region_labels = measure.label(morphology.remove_small_holes(seg, area_threshold=5, connectivity=1).astype(\"uint8\"), background=1)\n"
     ]
    },
    {
     "name": "stdout",
     "output_type": "stream",
     "text": [
      "1780 396\n",
      "8447\n",
      "269301 3346\n",
      "0268_OD\n"
     ]
    },
    {
     "name": "stderr",
     "output_type": "stream",
     "text": [
      "/home/alex_johannes/octa_gnn/OCTA_gnn/generator/heterograph_from_vvg_generator.py:148: UserWarning: Any labeled images will be returned as a boolean array. Did you mean to use a boolean array?\n",
      "  region_labels = measure.label(morphology.remove_small_holes(seg, area_threshold=5, connectivity=1).astype(\"uint8\"), background=1)\n"
     ]
    },
    {
     "name": "stdout",
     "output_type": "stream",
     "text": [
      "2102 523\n",
      "9254\n",
      "271737 3589\n",
      "0269_OD\n"
     ]
    },
    {
     "name": "stderr",
     "output_type": "stream",
     "text": [
      "/home/alex_johannes/octa_gnn/OCTA_gnn/generator/heterograph_from_vvg_generator.py:148: UserWarning: Any labeled images will be returned as a boolean array. Did you mean to use a boolean array?\n",
      "  region_labels = measure.label(morphology.remove_small_holes(seg, area_threshold=5, connectivity=1).astype(\"uint8\"), background=1)\n"
     ]
    },
    {
     "name": "stdout",
     "output_type": "stream",
     "text": [
      "519 137\n",
      "3275\n",
      "174512 1586\n",
      "0269_OS\n"
     ]
    },
    {
     "name": "stderr",
     "output_type": "stream",
     "text": [
      "/home/alex_johannes/octa_gnn/OCTA_gnn/generator/heterograph_from_vvg_generator.py:148: UserWarning: Any labeled images will be returned as a boolean array. Did you mean to use a boolean array?\n",
      "  region_labels = measure.label(morphology.remove_small_holes(seg, area_threshold=5, connectivity=1).astype(\"uint8\"), background=1)\n"
     ]
    },
    {
     "name": "stdout",
     "output_type": "stream",
     "text": [
      "487 117\n",
      "3157\n",
      "177867 875\n",
      "0668_OS\n"
     ]
    },
    {
     "name": "stderr",
     "output_type": "stream",
     "text": [
      "/home/alex_johannes/octa_gnn/OCTA_gnn/generator/heterograph_from_vvg_generator.py:148: UserWarning: Any labeled images will be returned as a boolean array. Did you mean to use a boolean array?\n",
      "  region_labels = measure.label(morphology.remove_small_holes(seg, area_threshold=5, connectivity=1).astype(\"uint8\"), background=1)\n"
     ]
    },
    {
     "name": "stdout",
     "output_type": "stream",
     "text": [
      "1814 345\n",
      "8463\n",
      "272781 3314\n",
      "0669_OS\n"
     ]
    },
    {
     "name": "stderr",
     "output_type": "stream",
     "text": [
      "/home/alex_johannes/octa_gnn/OCTA_gnn/generator/heterograph_from_vvg_generator.py:148: UserWarning: Any labeled images will be returned as a boolean array. Did you mean to use a boolean array?\n",
      "  region_labels = measure.label(morphology.remove_small_holes(seg, area_threshold=5, connectivity=1).astype(\"uint8\"), background=1)\n"
     ]
    },
    {
     "name": "stdout",
     "output_type": "stream",
     "text": [
      "2188 487\n",
      "9930\n",
      "285567 4404\n",
      "0670_OD\n"
     ]
    },
    {
     "name": "stderr",
     "output_type": "stream",
     "text": [
      "/home/alex_johannes/octa_gnn/OCTA_gnn/generator/heterograph_from_vvg_generator.py:148: UserWarning: Any labeled images will be returned as a boolean array. Did you mean to use a boolean array?\n",
      "  region_labels = measure.label(morphology.remove_small_holes(seg, area_threshold=5, connectivity=1).astype(\"uint8\"), background=1)\n"
     ]
    },
    {
     "name": "stdout",
     "output_type": "stream",
     "text": [
      "1375 344\n",
      "6706\n",
      "251365 2965\n",
      "0670_OS\n"
     ]
    },
    {
     "name": "stderr",
     "output_type": "stream",
     "text": [
      "/home/alex_johannes/octa_gnn/OCTA_gnn/generator/heterograph_from_vvg_generator.py:148: UserWarning: Any labeled images will be returned as a boolean array. Did you mean to use a boolean array?\n",
      "  region_labels = measure.label(morphology.remove_small_holes(seg, area_threshold=5, connectivity=1).astype(\"uint8\"), background=1)\n"
     ]
    },
    {
     "name": "stdout",
     "output_type": "stream",
     "text": [
      "1250 324\n",
      "6380\n",
      "237678 2577\n",
      "0671_OD\n"
     ]
    },
    {
     "name": "stderr",
     "output_type": "stream",
     "text": [
      "/home/alex_johannes/octa_gnn/OCTA_gnn/generator/heterograph_from_vvg_generator.py:148: UserWarning: Any labeled images will be returned as a boolean array. Did you mean to use a boolean array?\n",
      "  region_labels = measure.label(morphology.remove_small_holes(seg, area_threshold=5, connectivity=1).astype(\"uint8\"), background=1)\n"
     ]
    },
    {
     "name": "stdout",
     "output_type": "stream",
     "text": [
      "1308 334\n",
      "6555\n",
      "235159 3169\n",
      "0671_OS\n"
     ]
    },
    {
     "name": "stderr",
     "output_type": "stream",
     "text": [
      "/home/alex_johannes/octa_gnn/OCTA_gnn/generator/heterograph_from_vvg_generator.py:148: UserWarning: Any labeled images will be returned as a boolean array. Did you mean to use a boolean array?\n",
      "  region_labels = measure.label(morphology.remove_small_holes(seg, area_threshold=5, connectivity=1).astype(\"uint8\"), background=1)\n"
     ]
    },
    {
     "name": "stdout",
     "output_type": "stream",
     "text": [
      "1205 251\n",
      "6162\n",
      "242245 1997\n",
      "0672_OD\n"
     ]
    },
    {
     "name": "stderr",
     "output_type": "stream",
     "text": [
      "/home/alex_johannes/octa_gnn/OCTA_gnn/generator/heterograph_from_vvg_generator.py:148: UserWarning: Any labeled images will be returned as a boolean array. Did you mean to use a boolean array?\n",
      "  region_labels = measure.label(morphology.remove_small_holes(seg, area_threshold=5, connectivity=1).astype(\"uint8\"), background=1)\n"
     ]
    },
    {
     "name": "stdout",
     "output_type": "stream",
     "text": [
      "542 110\n",
      "3236\n",
      "186509 1267\n",
      "0672_OS\n"
     ]
    },
    {
     "name": "stderr",
     "output_type": "stream",
     "text": [
      "/home/alex_johannes/octa_gnn/OCTA_gnn/generator/heterograph_from_vvg_generator.py:148: UserWarning: Any labeled images will be returned as a boolean array. Did you mean to use a boolean array?\n",
      "  region_labels = measure.label(morphology.remove_small_holes(seg, area_threshold=5, connectivity=1).astype(\"uint8\"), background=1)\n"
     ]
    },
    {
     "name": "stdout",
     "output_type": "stream",
     "text": [
      "443 90\n",
      "2790\n",
      "180971 838\n",
      "0673_OD\n"
     ]
    },
    {
     "name": "stderr",
     "output_type": "stream",
     "text": [
      "/home/alex_johannes/octa_gnn/OCTA_gnn/generator/heterograph_from_vvg_generator.py:148: UserWarning: Any labeled images will be returned as a boolean array. Did you mean to use a boolean array?\n",
      "  region_labels = measure.label(morphology.remove_small_holes(seg, area_threshold=5, connectivity=1).astype(\"uint8\"), background=1)\n"
     ]
    },
    {
     "name": "stdout",
     "output_type": "stream",
     "text": [
      "2296 561\n",
      "9603\n",
      "266165 4323\n",
      "0673_OS\n"
     ]
    },
    {
     "name": "stderr",
     "output_type": "stream",
     "text": [
      "/home/alex_johannes/octa_gnn/OCTA_gnn/generator/heterograph_from_vvg_generator.py:148: UserWarning: Any labeled images will be returned as a boolean array. Did you mean to use a boolean array?\n",
      "  region_labels = measure.label(morphology.remove_small_holes(seg, area_threshold=5, connectivity=1).astype(\"uint8\"), background=1)\n"
     ]
    },
    {
     "name": "stdout",
     "output_type": "stream",
     "text": [
      "1995 464\n",
      "9156\n",
      "276175 3490\n",
      "0674_OD\n"
     ]
    },
    {
     "name": "stderr",
     "output_type": "stream",
     "text": [
      "/home/alex_johannes/octa_gnn/OCTA_gnn/generator/heterograph_from_vvg_generator.py:148: UserWarning: Any labeled images will be returned as a boolean array. Did you mean to use a boolean array?\n",
      "  region_labels = measure.label(morphology.remove_small_holes(seg, area_threshold=5, connectivity=1).astype(\"uint8\"), background=1)\n"
     ]
    },
    {
     "name": "stdout",
     "output_type": "stream",
     "text": [
      "937 245\n",
      "5110\n",
      "220977 2612\n",
      "0674_OS\n"
     ]
    },
    {
     "name": "stderr",
     "output_type": "stream",
     "text": [
      "/home/alex_johannes/octa_gnn/OCTA_gnn/generator/heterograph_from_vvg_generator.py:148: UserWarning: Any labeled images will be returned as a boolean array. Did you mean to use a boolean array?\n",
      "  region_labels = measure.label(morphology.remove_small_holes(seg, area_threshold=5, connectivity=1).astype(\"uint8\"), background=1)\n"
     ]
    },
    {
     "name": "stdout",
     "output_type": "stream",
     "text": [
      "766 198\n",
      "4212\n",
      "204509 2148\n",
      "0675_OD\n"
     ]
    },
    {
     "name": "stderr",
     "output_type": "stream",
     "text": [
      "/home/alex_johannes/octa_gnn/OCTA_gnn/generator/heterograph_from_vvg_generator.py:148: UserWarning: Any labeled images will be returned as a boolean array. Did you mean to use a boolean array?\n",
      "  region_labels = measure.label(morphology.remove_small_holes(seg, area_threshold=5, connectivity=1).astype(\"uint8\"), background=1)\n"
     ]
    },
    {
     "name": "stdout",
     "output_type": "stream",
     "text": [
      "937 245\n",
      "5110\n",
      "220977 2612\n",
      "0675_OS\n"
     ]
    },
    {
     "name": "stderr",
     "output_type": "stream",
     "text": [
      "/home/alex_johannes/octa_gnn/OCTA_gnn/generator/heterograph_from_vvg_generator.py:148: UserWarning: Any labeled images will be returned as a boolean array. Did you mean to use a boolean array?\n",
      "  region_labels = measure.label(morphology.remove_small_holes(seg, area_threshold=5, connectivity=1).astype(\"uint8\"), background=1)\n"
     ]
    },
    {
     "name": "stdout",
     "output_type": "stream",
     "text": [
      "766 198\n",
      "4212\n",
      "204509 2148\n",
      "0676_OD\n"
     ]
    },
    {
     "name": "stderr",
     "output_type": "stream",
     "text": [
      "/home/alex_johannes/octa_gnn/OCTA_gnn/generator/heterograph_from_vvg_generator.py:148: UserWarning: Any labeled images will be returned as a boolean array. Did you mean to use a boolean array?\n",
      "  region_labels = measure.label(morphology.remove_small_holes(seg, area_threshold=5, connectivity=1).astype(\"uint8\"), background=1)\n"
     ]
    },
    {
     "name": "stdout",
     "output_type": "stream",
     "text": [
      "345 74\n",
      "2172\n",
      "160767 804\n",
      "0676_OS\n"
     ]
    },
    {
     "name": "stderr",
     "output_type": "stream",
     "text": [
      "/home/alex_johannes/octa_gnn/OCTA_gnn/generator/heterograph_from_vvg_generator.py:148: UserWarning: Any labeled images will be returned as a boolean array. Did you mean to use a boolean array?\n",
      "  region_labels = measure.label(morphology.remove_small_holes(seg, area_threshold=5, connectivity=1).astype(\"uint8\"), background=1)\n"
     ]
    },
    {
     "name": "stdout",
     "output_type": "stream",
     "text": [
      "362 68\n",
      "2359\n",
      "183749 820\n",
      "0021_OD\n"
     ]
    },
    {
     "name": "stderr",
     "output_type": "stream",
     "text": [
      "/home/alex_johannes/octa_gnn/OCTA_gnn/generator/heterograph_from_vvg_generator.py:148: UserWarning: Any labeled images will be returned as a boolean array. Did you mean to use a boolean array?\n",
      "  region_labels = measure.label(morphology.remove_small_holes(seg, area_threshold=5, connectivity=1).astype(\"uint8\"), background=1)\n"
     ]
    },
    {
     "name": "stdout",
     "output_type": "stream",
     "text": [
      "2087 442\n",
      "9436\n",
      "285518 3302\n",
      "0031_OD\n"
     ]
    },
    {
     "name": "stderr",
     "output_type": "stream",
     "text": [
      "/home/alex_johannes/octa_gnn/OCTA_gnn/generator/heterograph_from_vvg_generator.py:148: UserWarning: Any labeled images will be returned as a boolean array. Did you mean to use a boolean array?\n",
      "  region_labels = measure.label(morphology.remove_small_holes(seg, area_threshold=5, connectivity=1).astype(\"uint8\"), background=1)\n"
     ]
    },
    {
     "name": "stdout",
     "output_type": "stream",
     "text": [
      "689 128\n",
      "4092\n",
      "208765 979\n",
      "0044_OD\n"
     ]
    },
    {
     "name": "stderr",
     "output_type": "stream",
     "text": [
      "/home/alex_johannes/octa_gnn/OCTA_gnn/generator/heterograph_from_vvg_generator.py:148: UserWarning: Any labeled images will be returned as a boolean array. Did you mean to use a boolean array?\n",
      "  region_labels = measure.label(morphology.remove_small_holes(seg, area_threshold=5, connectivity=1).astype(\"uint8\"), background=1)\n"
     ]
    },
    {
     "name": "stdout",
     "output_type": "stream",
     "text": [
      "489 120\n",
      "3153\n",
      "179387 1217\n",
      "0058_OD\n"
     ]
    },
    {
     "name": "stderr",
     "output_type": "stream",
     "text": [
      "/home/alex_johannes/octa_gnn/OCTA_gnn/generator/heterograph_from_vvg_generator.py:148: UserWarning: Any labeled images will be returned as a boolean array. Did you mean to use a boolean array?\n",
      "  region_labels = measure.label(morphology.remove_small_holes(seg, area_threshold=5, connectivity=1).astype(\"uint8\"), background=1)\n"
     ]
    },
    {
     "name": "stdout",
     "output_type": "stream",
     "text": [
      "1393 326\n",
      "7017\n",
      "248317 2870\n",
      "0074_OS\n"
     ]
    },
    {
     "name": "stderr",
     "output_type": "stream",
     "text": [
      "/home/alex_johannes/octa_gnn/OCTA_gnn/generator/heterograph_from_vvg_generator.py:148: UserWarning: Any labeled images will be returned as a boolean array. Did you mean to use a boolean array?\n",
      "  region_labels = measure.label(morphology.remove_small_holes(seg, area_threshold=5, connectivity=1).astype(\"uint8\"), background=1)\n"
     ]
    },
    {
     "name": "stdout",
     "output_type": "stream",
     "text": [
      "2053 552\n",
      "9327\n",
      "275198 3857\n",
      "0087_OS\n"
     ]
    },
    {
     "name": "stderr",
     "output_type": "stream",
     "text": [
      "/home/alex_johannes/octa_gnn/OCTA_gnn/generator/heterograph_from_vvg_generator.py:148: UserWarning: Any labeled images will be returned as a boolean array. Did you mean to use a boolean array?\n",
      "  region_labels = measure.label(morphology.remove_small_holes(seg, area_threshold=5, connectivity=1).astype(\"uint8\"), background=1)\n"
     ]
    },
    {
     "name": "stdout",
     "output_type": "stream",
     "text": [
      "1319 254\n",
      "6607\n",
      "244211 2428\n",
      "0102_OD\n"
     ]
    },
    {
     "name": "stderr",
     "output_type": "stream",
     "text": [
      "/home/alex_johannes/octa_gnn/OCTA_gnn/generator/heterograph_from_vvg_generator.py:148: UserWarning: Any labeled images will be returned as a boolean array. Did you mean to use a boolean array?\n",
      "  region_labels = measure.label(morphology.remove_small_holes(seg, area_threshold=5, connectivity=1).astype(\"uint8\"), background=1)\n"
     ]
    },
    {
     "name": "stdout",
     "output_type": "stream",
     "text": [
      "1647 334\n",
      "8060\n",
      "266893 3491\n",
      "0114_OS\n"
     ]
    },
    {
     "name": "stderr",
     "output_type": "stream",
     "text": [
      "/home/alex_johannes/octa_gnn/OCTA_gnn/generator/heterograph_from_vvg_generator.py:148: UserWarning: Any labeled images will be returned as a boolean array. Did you mean to use a boolean array?\n",
      "  region_labels = measure.label(morphology.remove_small_holes(seg, area_threshold=5, connectivity=1).astype(\"uint8\"), background=1)\n"
     ]
    },
    {
     "name": "stdout",
     "output_type": "stream",
     "text": [
      "1456 333\n",
      "7005\n",
      "259172 2861\n",
      "0130_OD\n"
     ]
    },
    {
     "name": "stderr",
     "output_type": "stream",
     "text": [
      "/home/alex_johannes/octa_gnn/OCTA_gnn/generator/heterograph_from_vvg_generator.py:148: UserWarning: Any labeled images will be returned as a boolean array. Did you mean to use a boolean array?\n",
      "  region_labels = measure.label(morphology.remove_small_holes(seg, area_threshold=5, connectivity=1).astype(\"uint8\"), background=1)\n"
     ]
    },
    {
     "name": "stdout",
     "output_type": "stream",
     "text": [
      "1778 418\n",
      "8434\n",
      "271093 3869\n",
      "0141_OD\n"
     ]
    },
    {
     "name": "stderr",
     "output_type": "stream",
     "text": [
      "/home/alex_johannes/octa_gnn/OCTA_gnn/generator/heterograph_from_vvg_generator.py:148: UserWarning: Any labeled images will be returned as a boolean array. Did you mean to use a boolean array?\n",
      "  region_labels = measure.label(morphology.remove_small_holes(seg, area_threshold=5, connectivity=1).astype(\"uint8\"), background=1)\n"
     ]
    },
    {
     "name": "stdout",
     "output_type": "stream",
     "text": [
      "1825 456\n",
      "8564\n",
      "272876 3726\n",
      "0154_OD\n"
     ]
    },
    {
     "name": "stderr",
     "output_type": "stream",
     "text": [
      "/home/alex_johannes/octa_gnn/OCTA_gnn/generator/heterograph_from_vvg_generator.py:148: UserWarning: Any labeled images will be returned as a boolean array. Did you mean to use a boolean array?\n",
      "  region_labels = measure.label(morphology.remove_small_holes(seg, area_threshold=5, connectivity=1).astype(\"uint8\"), background=1)\n"
     ]
    },
    {
     "name": "stdout",
     "output_type": "stream",
     "text": [
      "1878 488\n",
      "8590\n",
      "258779 4015\n",
      "0169_OD\n"
     ]
    },
    {
     "name": "stderr",
     "output_type": "stream",
     "text": [
      "/home/alex_johannes/octa_gnn/OCTA_gnn/generator/heterograph_from_vvg_generator.py:148: UserWarning: Any labeled images will be returned as a boolean array. Did you mean to use a boolean array?\n",
      "  region_labels = measure.label(morphology.remove_small_holes(seg, area_threshold=5, connectivity=1).astype(\"uint8\"), background=1)\n"
     ]
    },
    {
     "name": "stdout",
     "output_type": "stream",
     "text": [
      "1303 330\n",
      "6616\n",
      "236540 2983\n",
      "0182_OD\n"
     ]
    },
    {
     "name": "stderr",
     "output_type": "stream",
     "text": [
      "/home/alex_johannes/octa_gnn/OCTA_gnn/generator/heterograph_from_vvg_generator.py:148: UserWarning: Any labeled images will be returned as a boolean array. Did you mean to use a boolean array?\n",
      "  region_labels = measure.label(morphology.remove_small_holes(seg, area_threshold=5, connectivity=1).astype(\"uint8\"), background=1)\n"
     ]
    },
    {
     "name": "stdout",
     "output_type": "stream",
     "text": [
      "1562 344\n",
      "7520\n",
      "264394 3387\n",
      "0194_OD\n"
     ]
    },
    {
     "name": "stderr",
     "output_type": "stream",
     "text": [
      "/home/alex_johannes/octa_gnn/OCTA_gnn/generator/heterograph_from_vvg_generator.py:148: UserWarning: Any labeled images will be returned as a boolean array. Did you mean to use a boolean array?\n",
      "  region_labels = measure.label(morphology.remove_small_holes(seg, area_threshold=5, connectivity=1).astype(\"uint8\"), background=1)\n"
     ]
    },
    {
     "name": "stdout",
     "output_type": "stream",
     "text": [
      "1686 369\n",
      "8092\n",
      "269494 2929\n",
      "0212_OS\n"
     ]
    },
    {
     "name": "stderr",
     "output_type": "stream",
     "text": [
      "/home/alex_johannes/octa_gnn/OCTA_gnn/generator/heterograph_from_vvg_generator.py:148: UserWarning: Any labeled images will be returned as a boolean array. Did you mean to use a boolean array?\n",
      "  region_labels = measure.label(morphology.remove_small_holes(seg, area_threshold=5, connectivity=1).astype(\"uint8\"), background=1)\n"
     ]
    },
    {
     "name": "stdout",
     "output_type": "stream",
     "text": [
      "1854 406\n",
      "8529\n",
      "268634 3100\n",
      "0229_OS\n"
     ]
    },
    {
     "name": "stderr",
     "output_type": "stream",
     "text": [
      "/home/alex_johannes/octa_gnn/OCTA_gnn/generator/heterograph_from_vvg_generator.py:148: UserWarning: Any labeled images will be returned as a boolean array. Did you mean to use a boolean array?\n",
      "  region_labels = measure.label(morphology.remove_small_holes(seg, area_threshold=5, connectivity=1).astype(\"uint8\"), background=1)\n"
     ]
    },
    {
     "name": "stdout",
     "output_type": "stream",
     "text": [
      "573 119\n",
      "3413\n",
      "192084 1112\n",
      "0251_OS\n"
     ]
    },
    {
     "name": "stderr",
     "output_type": "stream",
     "text": [
      "/home/alex_johannes/octa_gnn/OCTA_gnn/generator/heterograph_from_vvg_generator.py:148: UserWarning: Any labeled images will be returned as a boolean array. Did you mean to use a boolean array?\n",
      "  region_labels = measure.label(morphology.remove_small_holes(seg, area_threshold=5, connectivity=1).astype(\"uint8\"), background=1)\n"
     ]
    },
    {
     "name": "stdout",
     "output_type": "stream",
     "text": [
      "1466 394\n",
      "7552\n",
      "262107 3090\n",
      "0270_OS\n"
     ]
    },
    {
     "name": "stderr",
     "output_type": "stream",
     "text": [
      "/home/alex_johannes/octa_gnn/OCTA_gnn/generator/heterograph_from_vvg_generator.py:148: UserWarning: Any labeled images will be returned as a boolean array. Did you mean to use a boolean array?\n",
      "  region_labels = measure.label(morphology.remove_small_holes(seg, area_threshold=5, connectivity=1).astype(\"uint8\"), background=1)\n"
     ]
    },
    {
     "name": "stdout",
     "output_type": "stream",
     "text": [
      "1900 428\n",
      "8797\n",
      "266791 3367\n",
      "0287_OD\n"
     ]
    },
    {
     "name": "stderr",
     "output_type": "stream",
     "text": [
      "/home/alex_johannes/octa_gnn/OCTA_gnn/generator/heterograph_from_vvg_generator.py:148: UserWarning: Any labeled images will be returned as a boolean array. Did you mean to use a boolean array?\n",
      "  region_labels = measure.label(morphology.remove_small_holes(seg, area_threshold=5, connectivity=1).astype(\"uint8\"), background=1)\n"
     ]
    },
    {
     "name": "stdout",
     "output_type": "stream",
     "text": [
      "1437 344\n",
      "7343\n",
      "259842 2503\n",
      "0306_OD\n"
     ]
    },
    {
     "name": "stderr",
     "output_type": "stream",
     "text": [
      "/home/alex_johannes/octa_gnn/OCTA_gnn/generator/heterograph_from_vvg_generator.py:148: UserWarning: Any labeled images will be returned as a boolean array. Did you mean to use a boolean array?\n",
      "  region_labels = measure.label(morphology.remove_small_holes(seg, area_threshold=5, connectivity=1).astype(\"uint8\"), background=1)\n"
     ]
    },
    {
     "name": "stdout",
     "output_type": "stream",
     "text": [
      "1774 381\n",
      "8361\n",
      "275898 2770\n",
      "0320_OS\n"
     ]
    },
    {
     "name": "stderr",
     "output_type": "stream",
     "text": [
      "/home/alex_johannes/octa_gnn/OCTA_gnn/generator/heterograph_from_vvg_generator.py:148: UserWarning: Any labeled images will be returned as a boolean array. Did you mean to use a boolean array?\n",
      "  region_labels = measure.label(morphology.remove_small_holes(seg, area_threshold=5, connectivity=1).astype(\"uint8\"), background=1)\n"
     ]
    },
    {
     "name": "stdout",
     "output_type": "stream",
     "text": [
      "1718 379\n",
      "8065\n",
      "263970 3785\n",
      "0343_OD\n"
     ]
    },
    {
     "name": "stderr",
     "output_type": "stream",
     "text": [
      "/home/alex_johannes/octa_gnn/OCTA_gnn/generator/heterograph_from_vvg_generator.py:148: UserWarning: Any labeled images will be returned as a boolean array. Did you mean to use a boolean array?\n",
      "  region_labels = measure.label(morphology.remove_small_holes(seg, area_threshold=5, connectivity=1).astype(\"uint8\"), background=1)\n"
     ]
    },
    {
     "name": "stdout",
     "output_type": "stream",
     "text": [
      "1541 359\n",
      "7607\n",
      "255251 2732\n",
      "0360_OD\n"
     ]
    },
    {
     "name": "stderr",
     "output_type": "stream",
     "text": [
      "/home/alex_johannes/octa_gnn/OCTA_gnn/generator/heterograph_from_vvg_generator.py:148: UserWarning: Any labeled images will be returned as a boolean array. Did you mean to use a boolean array?\n",
      "  region_labels = measure.label(morphology.remove_small_holes(seg, area_threshold=5, connectivity=1).astype(\"uint8\"), background=1)\n"
     ]
    },
    {
     "name": "stdout",
     "output_type": "stream",
     "text": [
      "1787 388\n",
      "8375\n",
      "277953 3607\n",
      "0375_OD\n"
     ]
    },
    {
     "name": "stderr",
     "output_type": "stream",
     "text": [
      "/home/alex_johannes/octa_gnn/OCTA_gnn/generator/heterograph_from_vvg_generator.py:148: UserWarning: Any labeled images will be returned as a boolean array. Did you mean to use a boolean array?\n",
      "  region_labels = measure.label(morphology.remove_small_holes(seg, area_threshold=5, connectivity=1).astype(\"uint8\"), background=1)\n"
     ]
    },
    {
     "name": "stdout",
     "output_type": "stream",
     "text": [
      "1705 384\n",
      "8425\n",
      "270349 3399\n",
      "0393_OD\n"
     ]
    },
    {
     "name": "stderr",
     "output_type": "stream",
     "text": [
      "/home/alex_johannes/octa_gnn/OCTA_gnn/generator/heterograph_from_vvg_generator.py:148: UserWarning: Any labeled images will be returned as a boolean array. Did you mean to use a boolean array?\n",
      "  region_labels = measure.label(morphology.remove_small_holes(seg, area_threshold=5, connectivity=1).astype(\"uint8\"), background=1)\n"
     ]
    },
    {
     "name": "stdout",
     "output_type": "stream",
     "text": [
      "742 168\n",
      "4383\n",
      "201434 1792\n",
      "0425_OS\n"
     ]
    },
    {
     "name": "stderr",
     "output_type": "stream",
     "text": [
      "/home/alex_johannes/octa_gnn/OCTA_gnn/generator/heterograph_from_vvg_generator.py:148: UserWarning: Any labeled images will be returned as a boolean array. Did you mean to use a boolean array?\n",
      "  region_labels = measure.label(morphology.remove_small_holes(seg, area_threshold=5, connectivity=1).astype(\"uint8\"), background=1)\n"
     ]
    },
    {
     "name": "stdout",
     "output_type": "stream",
     "text": [
      "1353 308\n",
      "6691\n",
      "236877 2577\n",
      "0441_OD\n"
     ]
    },
    {
     "name": "stderr",
     "output_type": "stream",
     "text": [
      "/home/alex_johannes/octa_gnn/OCTA_gnn/generator/heterograph_from_vvg_generator.py:148: UserWarning: Any labeled images will be returned as a boolean array. Did you mean to use a boolean array?\n",
      "  region_labels = measure.label(morphology.remove_small_holes(seg, area_threshold=5, connectivity=1).astype(\"uint8\"), background=1)\n"
     ]
    },
    {
     "name": "stdout",
     "output_type": "stream",
     "text": [
      "1434 367\n",
      "7294\n",
      "251418 2666\n",
      "0463_OD\n"
     ]
    },
    {
     "name": "stderr",
     "output_type": "stream",
     "text": [
      "/home/alex_johannes/octa_gnn/OCTA_gnn/generator/heterograph_from_vvg_generator.py:148: UserWarning: Any labeled images will be returned as a boolean array. Did you mean to use a boolean array?\n",
      "  region_labels = measure.label(morphology.remove_small_holes(seg, area_threshold=5, connectivity=1).astype(\"uint8\"), background=1)\n"
     ]
    },
    {
     "name": "stdout",
     "output_type": "stream",
     "text": [
      "1335 262\n",
      "6775\n",
      "250541 2447\n",
      "0394_OS\n"
     ]
    },
    {
     "name": "stderr",
     "output_type": "stream",
     "text": [
      "/home/alex_johannes/octa_gnn/OCTA_gnn/generator/heterograph_from_vvg_generator.py:148: UserWarning: Any labeled images will be returned as a boolean array. Did you mean to use a boolean array?\n",
      "  region_labels = measure.label(morphology.remove_small_holes(seg, area_threshold=5, connectivity=1).astype(\"uint8\"), background=1)\n"
     ]
    },
    {
     "name": "stdout",
     "output_type": "stream",
     "text": [
      "1539 357\n",
      "7536\n",
      "267511 3110\n",
      "0395_OD\n"
     ]
    },
    {
     "name": "stderr",
     "output_type": "stream",
     "text": [
      "/home/alex_johannes/octa_gnn/OCTA_gnn/generator/heterograph_from_vvg_generator.py:148: UserWarning: Any labeled images will be returned as a boolean array. Did you mean to use a boolean array?\n",
      "  region_labels = measure.label(morphology.remove_small_holes(seg, area_threshold=5, connectivity=1).astype(\"uint8\"), background=1)\n"
     ]
    },
    {
     "name": "stdout",
     "output_type": "stream",
     "text": [
      "1000 210\n",
      "5459\n",
      "219565 2263\n",
      "0396_OD\n"
     ]
    },
    {
     "name": "stderr",
     "output_type": "stream",
     "text": [
      "/home/alex_johannes/octa_gnn/OCTA_gnn/generator/heterograph_from_vvg_generator.py:148: UserWarning: Any labeled images will be returned as a boolean array. Did you mean to use a boolean array?\n",
      "  region_labels = measure.label(morphology.remove_small_holes(seg, area_threshold=5, connectivity=1).astype(\"uint8\"), background=1)\n"
     ]
    },
    {
     "name": "stdout",
     "output_type": "stream",
     "text": [
      "1054 225\n",
      "5466\n",
      "232379 1945\n",
      "0397_OD\n"
     ]
    },
    {
     "name": "stderr",
     "output_type": "stream",
     "text": [
      "/home/alex_johannes/octa_gnn/OCTA_gnn/generator/heterograph_from_vvg_generator.py:148: UserWarning: Any labeled images will be returned as a boolean array. Did you mean to use a boolean array?\n",
      "  region_labels = measure.label(morphology.remove_small_holes(seg, area_threshold=5, connectivity=1).astype(\"uint8\"), background=1)\n"
     ]
    },
    {
     "name": "stdout",
     "output_type": "stream",
     "text": [
      "1501 345\n",
      "7399\n",
      "258623 2356\n",
      "0398_OD\n"
     ]
    },
    {
     "name": "stderr",
     "output_type": "stream",
     "text": [
      "/home/alex_johannes/octa_gnn/OCTA_gnn/generator/heterograph_from_vvg_generator.py:148: UserWarning: Any labeled images will be returned as a boolean array. Did you mean to use a boolean array?\n",
      "  region_labels = measure.label(morphology.remove_small_holes(seg, area_threshold=5, connectivity=1).astype(\"uint8\"), background=1)\n"
     ]
    },
    {
     "name": "stdout",
     "output_type": "stream",
     "text": [
      "1021 224\n",
      "5690\n",
      "232447 1711\n",
      "0398_OS\n"
     ]
    },
    {
     "name": "stderr",
     "output_type": "stream",
     "text": [
      "/home/alex_johannes/octa_gnn/OCTA_gnn/generator/heterograph_from_vvg_generator.py:148: UserWarning: Any labeled images will be returned as a boolean array. Did you mean to use a boolean array?\n",
      "  region_labels = measure.label(morphology.remove_small_holes(seg, area_threshold=5, connectivity=1).astype(\"uint8\"), background=1)\n"
     ]
    },
    {
     "name": "stdout",
     "output_type": "stream",
     "text": [
      "1122 301\n",
      "5898\n",
      "228504 2561\n",
      "0399_OS\n"
     ]
    },
    {
     "name": "stderr",
     "output_type": "stream",
     "text": [
      "/home/alex_johannes/octa_gnn/OCTA_gnn/generator/heterograph_from_vvg_generator.py:148: UserWarning: Any labeled images will be returned as a boolean array. Did you mean to use a boolean array?\n",
      "  region_labels = measure.label(morphology.remove_small_holes(seg, area_threshold=5, connectivity=1).astype(\"uint8\"), background=1)\n"
     ]
    },
    {
     "name": "stdout",
     "output_type": "stream",
     "text": [
      "1844 408\n",
      "8865\n",
      "279593 2955\n",
      "0400_OD\n"
     ]
    },
    {
     "name": "stderr",
     "output_type": "stream",
     "text": [
      "/home/alex_johannes/octa_gnn/OCTA_gnn/generator/heterograph_from_vvg_generator.py:148: UserWarning: Any labeled images will be returned as a boolean array. Did you mean to use a boolean array?\n",
      "  region_labels = measure.label(morphology.remove_small_holes(seg, area_threshold=5, connectivity=1).astype(\"uint8\"), background=1)\n"
     ]
    },
    {
     "name": "stdout",
     "output_type": "stream",
     "text": [
      "1740 447\n",
      "8232\n",
      "266960 3599\n",
      "0401_OD\n"
     ]
    },
    {
     "name": "stderr",
     "output_type": "stream",
     "text": [
      "/home/alex_johannes/octa_gnn/OCTA_gnn/generator/heterograph_from_vvg_generator.py:148: UserWarning: Any labeled images will be returned as a boolean array. Did you mean to use a boolean array?\n",
      "  region_labels = measure.label(morphology.remove_small_holes(seg, area_threshold=5, connectivity=1).astype(\"uint8\"), background=1)\n"
     ]
    },
    {
     "name": "stdout",
     "output_type": "stream",
     "text": [
      "1476 353\n",
      "7194\n",
      "252358 3296\n",
      "0402_OD\n"
     ]
    },
    {
     "name": "stderr",
     "output_type": "stream",
     "text": [
      "/home/alex_johannes/octa_gnn/OCTA_gnn/generator/heterograph_from_vvg_generator.py:148: UserWarning: Any labeled images will be returned as a boolean array. Did you mean to use a boolean array?\n",
      "  region_labels = measure.label(morphology.remove_small_holes(seg, area_threshold=5, connectivity=1).astype(\"uint8\"), background=1)\n"
     ]
    },
    {
     "name": "stdout",
     "output_type": "stream",
     "text": [
      "1923 473\n",
      "8594\n",
      "262435 4355\n",
      "0402_OS\n"
     ]
    },
    {
     "name": "stderr",
     "output_type": "stream",
     "text": [
      "/home/alex_johannes/octa_gnn/OCTA_gnn/generator/heterograph_from_vvg_generator.py:148: UserWarning: Any labeled images will be returned as a boolean array. Did you mean to use a boolean array?\n",
      "  region_labels = measure.label(morphology.remove_small_holes(seg, area_threshold=5, connectivity=1).astype(\"uint8\"), background=1)\n"
     ]
    },
    {
     "name": "stdout",
     "output_type": "stream",
     "text": [
      "1953 507\n",
      "8670\n",
      "253967 4499\n",
      "0403_OD\n"
     ]
    },
    {
     "name": "stderr",
     "output_type": "stream",
     "text": [
      "/home/alex_johannes/octa_gnn/OCTA_gnn/generator/heterograph_from_vvg_generator.py:148: UserWarning: Any labeled images will be returned as a boolean array. Did you mean to use a boolean array?\n",
      "  region_labels = measure.label(morphology.remove_small_holes(seg, area_threshold=5, connectivity=1).astype(\"uint8\"), background=1)\n"
     ]
    },
    {
     "name": "stdout",
     "output_type": "stream",
     "text": [
      "1718 386\n",
      "8032\n",
      "265298 3206\n",
      "0403_OS\n"
     ]
    },
    {
     "name": "stderr",
     "output_type": "stream",
     "text": [
      "/home/alex_johannes/octa_gnn/OCTA_gnn/generator/heterograph_from_vvg_generator.py:148: UserWarning: Any labeled images will be returned as a boolean array. Did you mean to use a boolean array?\n",
      "  region_labels = measure.label(morphology.remove_small_holes(seg, area_threshold=5, connectivity=1).astype(\"uint8\"), background=1)\n"
     ]
    },
    {
     "name": "stdout",
     "output_type": "stream",
     "text": [
      "1901 436\n",
      "8602\n",
      "262285 3534\n",
      "0404_OD\n"
     ]
    },
    {
     "name": "stderr",
     "output_type": "stream",
     "text": [
      "/home/alex_johannes/octa_gnn/OCTA_gnn/generator/heterograph_from_vvg_generator.py:148: UserWarning: Any labeled images will be returned as a boolean array. Did you mean to use a boolean array?\n",
      "  region_labels = measure.label(morphology.remove_small_holes(seg, area_threshold=5, connectivity=1).astype(\"uint8\"), background=1)\n"
     ]
    },
    {
     "name": "stdout",
     "output_type": "stream",
     "text": [
      "1271 254\n",
      "6238\n",
      "247710 2474\n",
      "0405_OD\n"
     ]
    },
    {
     "name": "stderr",
     "output_type": "stream",
     "text": [
      "/home/alex_johannes/octa_gnn/OCTA_gnn/generator/heterograph_from_vvg_generator.py:148: UserWarning: Any labeled images will be returned as a boolean array. Did you mean to use a boolean array?\n",
      "  region_labels = measure.label(morphology.remove_small_holes(seg, area_threshold=5, connectivity=1).astype(\"uint8\"), background=1)\n"
     ]
    },
    {
     "name": "stdout",
     "output_type": "stream",
     "text": [
      "562 106\n",
      "3378\n",
      "186763 894\n",
      "0408_OS\n"
     ]
    },
    {
     "name": "stderr",
     "output_type": "stream",
     "text": [
      "/home/alex_johannes/octa_gnn/OCTA_gnn/generator/heterograph_from_vvg_generator.py:148: UserWarning: Any labeled images will be returned as a boolean array. Did you mean to use a boolean array?\n",
      "  region_labels = measure.label(morphology.remove_small_holes(seg, area_threshold=5, connectivity=1).astype(\"uint8\"), background=1)\n"
     ]
    },
    {
     "name": "stdout",
     "output_type": "stream",
     "text": [
      "1232 332\n",
      "6526\n",
      "236272 3026\n",
      "0415_OD\n"
     ]
    },
    {
     "name": "stderr",
     "output_type": "stream",
     "text": [
      "/home/alex_johannes/octa_gnn/OCTA_gnn/generator/heterograph_from_vvg_generator.py:148: UserWarning: Any labeled images will be returned as a boolean array. Did you mean to use a boolean array?\n",
      "  region_labels = measure.label(morphology.remove_small_holes(seg, area_threshold=5, connectivity=1).astype(\"uint8\"), background=1)\n"
     ]
    },
    {
     "name": "stdout",
     "output_type": "stream",
     "text": [
      "552 110\n",
      "3348\n",
      "180436 1156\n",
      "0415_OS\n"
     ]
    },
    {
     "name": "stderr",
     "output_type": "stream",
     "text": [
      "/home/alex_johannes/octa_gnn/OCTA_gnn/generator/heterograph_from_vvg_generator.py:148: UserWarning: Any labeled images will be returned as a boolean array. Did you mean to use a boolean array?\n",
      "  region_labels = measure.label(morphology.remove_small_holes(seg, area_threshold=5, connectivity=1).astype(\"uint8\"), background=1)\n"
     ]
    },
    {
     "name": "stdout",
     "output_type": "stream",
     "text": [
      "508 102\n",
      "3221\n",
      "183092 867\n",
      "0416_OD\n"
     ]
    },
    {
     "name": "stderr",
     "output_type": "stream",
     "text": [
      "/home/alex_johannes/octa_gnn/OCTA_gnn/generator/heterograph_from_vvg_generator.py:148: UserWarning: Any labeled images will be returned as a boolean array. Did you mean to use a boolean array?\n",
      "  region_labels = measure.label(morphology.remove_small_holes(seg, area_threshold=5, connectivity=1).astype(\"uint8\"), background=1)\n"
     ]
    },
    {
     "name": "stdout",
     "output_type": "stream",
     "text": [
      "2089 453\n",
      "9513\n",
      "284049 3796\n",
      "0417_OS\n"
     ]
    },
    {
     "name": "stderr",
     "output_type": "stream",
     "text": [
      "/home/alex_johannes/octa_gnn/OCTA_gnn/generator/heterograph_from_vvg_generator.py:148: UserWarning: Any labeled images will be returned as a boolean array. Did you mean to use a boolean array?\n",
      "  region_labels = measure.label(morphology.remove_small_holes(seg, area_threshold=5, connectivity=1).astype(\"uint8\"), background=1)\n"
     ]
    },
    {
     "name": "stdout",
     "output_type": "stream",
     "text": [
      "1002 216\n",
      "5542\n",
      "236905 1820\n",
      "0418_OD\n"
     ]
    },
    {
     "name": "stderr",
     "output_type": "stream",
     "text": [
      "/home/alex_johannes/octa_gnn/OCTA_gnn/generator/heterograph_from_vvg_generator.py:148: UserWarning: Any labeled images will be returned as a boolean array. Did you mean to use a boolean array?\n",
      "  region_labels = measure.label(morphology.remove_small_holes(seg, area_threshold=5, connectivity=1).astype(\"uint8\"), background=1)\n"
     ]
    },
    {
     "name": "stdout",
     "output_type": "stream",
     "text": [
      "796 193\n",
      "4650\n",
      "200561 2306\n",
      "0419_OD\n"
     ]
    },
    {
     "name": "stderr",
     "output_type": "stream",
     "text": [
      "/home/alex_johannes/octa_gnn/OCTA_gnn/generator/heterograph_from_vvg_generator.py:148: UserWarning: Any labeled images will be returned as a boolean array. Did you mean to use a boolean array?\n",
      "  region_labels = measure.label(morphology.remove_small_holes(seg, area_threshold=5, connectivity=1).astype(\"uint8\"), background=1)\n"
     ]
    },
    {
     "name": "stdout",
     "output_type": "stream",
     "text": [
      "1065 259\n",
      "5568\n",
      "229396 2280\n",
      "0419_OS\n"
     ]
    },
    {
     "name": "stderr",
     "output_type": "stream",
     "text": [
      "/home/alex_johannes/octa_gnn/OCTA_gnn/generator/heterograph_from_vvg_generator.py:148: UserWarning: Any labeled images will be returned as a boolean array. Did you mean to use a boolean array?\n",
      "  region_labels = measure.label(morphology.remove_small_holes(seg, area_threshold=5, connectivity=1).astype(\"uint8\"), background=1)\n"
     ]
    },
    {
     "name": "stdout",
     "output_type": "stream",
     "text": [
      "1187 305\n",
      "5959\n",
      "231051 2668\n",
      "0420_OD\n"
     ]
    },
    {
     "name": "stderr",
     "output_type": "stream",
     "text": [
      "/home/alex_johannes/octa_gnn/OCTA_gnn/generator/heterograph_from_vvg_generator.py:148: UserWarning: Any labeled images will be returned as a boolean array. Did you mean to use a boolean array?\n",
      "  region_labels = measure.label(morphology.remove_small_holes(seg, area_threshold=5, connectivity=1).astype(\"uint8\"), background=1)\n"
     ]
    },
    {
     "name": "stdout",
     "output_type": "stream",
     "text": [
      "1459 319\n",
      "7080\n",
      "247498 3253\n",
      "0421_OD\n"
     ]
    },
    {
     "name": "stderr",
     "output_type": "stream",
     "text": [
      "/home/alex_johannes/octa_gnn/OCTA_gnn/generator/heterograph_from_vvg_generator.py:148: UserWarning: Any labeled images will be returned as a boolean array. Did you mean to use a boolean array?\n",
      "  region_labels = measure.label(morphology.remove_small_holes(seg, area_threshold=5, connectivity=1).astype(\"uint8\"), background=1)\n"
     ]
    },
    {
     "name": "stdout",
     "output_type": "stream",
     "text": [
      "1542 356\n",
      "7548\n",
      "252420 3164\n",
      "0422_OS\n"
     ]
    },
    {
     "name": "stderr",
     "output_type": "stream",
     "text": [
      "/home/alex_johannes/octa_gnn/OCTA_gnn/generator/heterograph_from_vvg_generator.py:148: UserWarning: Any labeled images will be returned as a boolean array. Did you mean to use a boolean array?\n",
      "  region_labels = measure.label(morphology.remove_small_holes(seg, area_threshold=5, connectivity=1).astype(\"uint8\"), background=1)\n"
     ]
    },
    {
     "name": "stdout",
     "output_type": "stream",
     "text": [
      "2049 433\n",
      "9063\n",
      "273352 3712\n",
      "0423_OD\n"
     ]
    },
    {
     "name": "stderr",
     "output_type": "stream",
     "text": [
      "/home/alex_johannes/octa_gnn/OCTA_gnn/generator/heterograph_from_vvg_generator.py:148: UserWarning: Any labeled images will be returned as a boolean array. Did you mean to use a boolean array?\n",
      "  region_labels = measure.label(morphology.remove_small_holes(seg, area_threshold=5, connectivity=1).astype(\"uint8\"), background=1)\n"
     ]
    },
    {
     "name": "stdout",
     "output_type": "stream",
     "text": [
      "1775 361\n",
      "8446\n",
      "274854 2891\n",
      "0423_OS\n"
     ]
    },
    {
     "name": "stderr",
     "output_type": "stream",
     "text": [
      "/home/alex_johannes/octa_gnn/OCTA_gnn/generator/heterograph_from_vvg_generator.py:148: UserWarning: Any labeled images will be returned as a boolean array. Did you mean to use a boolean array?\n",
      "  region_labels = measure.label(morphology.remove_small_holes(seg, area_threshold=5, connectivity=1).astype(\"uint8\"), background=1)\n"
     ]
    },
    {
     "name": "stdout",
     "output_type": "stream",
     "text": [
      "1901 421\n",
      "8696\n",
      "275439 3427\n",
      "0424_OD\n"
     ]
    },
    {
     "name": "stderr",
     "output_type": "stream",
     "text": [
      "/home/alex_johannes/octa_gnn/OCTA_gnn/generator/heterograph_from_vvg_generator.py:148: UserWarning: Any labeled images will be returned as a boolean array. Did you mean to use a boolean array?\n",
      "  region_labels = measure.label(morphology.remove_small_holes(seg, area_threshold=5, connectivity=1).astype(\"uint8\"), background=1)\n"
     ]
    },
    {
     "name": "stdout",
     "output_type": "stream",
     "text": [
      "1818 455\n",
      "8287\n",
      "256241 4368\n",
      "0103_OS\n"
     ]
    },
    {
     "name": "stderr",
     "output_type": "stream",
     "text": [
      "/home/alex_johannes/octa_gnn/OCTA_gnn/generator/heterograph_from_vvg_generator.py:148: UserWarning: Any labeled images will be returned as a boolean array. Did you mean to use a boolean array?\n",
      "  region_labels = measure.label(morphology.remove_small_holes(seg, area_threshold=5, connectivity=1).astype(\"uint8\"), background=1)\n"
     ]
    },
    {
     "name": "stdout",
     "output_type": "stream",
     "text": [
      "657 136\n",
      "3961\n",
      "211226 1771\n",
      "0104_OD\n"
     ]
    },
    {
     "name": "stderr",
     "output_type": "stream",
     "text": [
      "/home/alex_johannes/octa_gnn/OCTA_gnn/generator/heterograph_from_vvg_generator.py:148: UserWarning: Any labeled images will be returned as a boolean array. Did you mean to use a boolean array?\n",
      "  region_labels = measure.label(morphology.remove_small_holes(seg, area_threshold=5, connectivity=1).astype(\"uint8\"), background=1)\n"
     ]
    },
    {
     "name": "stdout",
     "output_type": "stream",
     "text": [
      "1566 319\n",
      "7600\n",
      "260684 3030\n",
      "0104_OS\n"
     ]
    },
    {
     "name": "stderr",
     "output_type": "stream",
     "text": [
      "/home/alex_johannes/octa_gnn/OCTA_gnn/generator/heterograph_from_vvg_generator.py:148: UserWarning: Any labeled images will be returned as a boolean array. Did you mean to use a boolean array?\n",
      "  region_labels = measure.label(morphology.remove_small_holes(seg, area_threshold=5, connectivity=1).astype(\"uint8\"), background=1)\n"
     ]
    },
    {
     "name": "stdout",
     "output_type": "stream",
     "text": [
      "1555 368\n",
      "7646\n",
      "262329 3274\n",
      "0105_OD\n"
     ]
    },
    {
     "name": "stderr",
     "output_type": "stream",
     "text": [
      "/home/alex_johannes/octa_gnn/OCTA_gnn/generator/heterograph_from_vvg_generator.py:148: UserWarning: Any labeled images will be returned as a boolean array. Did you mean to use a boolean array?\n",
      "  region_labels = measure.label(morphology.remove_small_holes(seg, area_threshold=5, connectivity=1).astype(\"uint8\"), background=1)\n"
     ]
    },
    {
     "name": "stdout",
     "output_type": "stream",
     "text": [
      "739 166\n",
      "4311\n",
      "208623 1472\n",
      "0105_OS\n"
     ]
    },
    {
     "name": "stderr",
     "output_type": "stream",
     "text": [
      "/home/alex_johannes/octa_gnn/OCTA_gnn/generator/heterograph_from_vvg_generator.py:148: UserWarning: Any labeled images will be returned as a boolean array. Did you mean to use a boolean array?\n",
      "  region_labels = measure.label(morphology.remove_small_holes(seg, area_threshold=5, connectivity=1).astype(\"uint8\"), background=1)\n"
     ]
    },
    {
     "name": "stdout",
     "output_type": "stream",
     "text": [
      "531 111\n",
      "3216\n",
      "178838 1051\n",
      "0106_OS\n"
     ]
    },
    {
     "name": "stderr",
     "output_type": "stream",
     "text": [
      "/home/alex_johannes/octa_gnn/OCTA_gnn/generator/heterograph_from_vvg_generator.py:148: UserWarning: Any labeled images will be returned as a boolean array. Did you mean to use a boolean array?\n",
      "  region_labels = measure.label(morphology.remove_small_holes(seg, area_threshold=5, connectivity=1).astype(\"uint8\"), background=1)\n"
     ]
    },
    {
     "name": "stdout",
     "output_type": "stream",
     "text": [
      "1813 412\n",
      "8417\n",
      "271909 3513\n",
      "0107_OD\n"
     ]
    },
    {
     "name": "stderr",
     "output_type": "stream",
     "text": [
      "/home/alex_johannes/octa_gnn/OCTA_gnn/generator/heterograph_from_vvg_generator.py:148: UserWarning: Any labeled images will be returned as a boolean array. Did you mean to use a boolean array?\n",
      "  region_labels = measure.label(morphology.remove_small_holes(seg, area_threshold=5, connectivity=1).astype(\"uint8\"), background=1)\n"
     ]
    },
    {
     "name": "stdout",
     "output_type": "stream",
     "text": [
      "595 112\n",
      "3642\n",
      "192857 1017\n",
      "0108_OD\n"
     ]
    },
    {
     "name": "stderr",
     "output_type": "stream",
     "text": [
      "/home/alex_johannes/octa_gnn/OCTA_gnn/generator/heterograph_from_vvg_generator.py:148: UserWarning: Any labeled images will be returned as a boolean array. Did you mean to use a boolean array?\n",
      "  region_labels = measure.label(morphology.remove_small_holes(seg, area_threshold=5, connectivity=1).astype(\"uint8\"), background=1)\n"
     ]
    },
    {
     "name": "stdout",
     "output_type": "stream",
     "text": [
      "1237 275\n",
      "6338\n",
      "232227 2541\n",
      "0108_OS\n"
     ]
    },
    {
     "name": "stderr",
     "output_type": "stream",
     "text": [
      "/home/alex_johannes/octa_gnn/OCTA_gnn/generator/heterograph_from_vvg_generator.py:148: UserWarning: Any labeled images will be returned as a boolean array. Did you mean to use a boolean array?\n",
      "  region_labels = measure.label(morphology.remove_small_holes(seg, area_threshold=5, connectivity=1).astype(\"uint8\"), background=1)\n"
     ]
    },
    {
     "name": "stdout",
     "output_type": "stream",
     "text": [
      "928 257\n",
      "5138\n",
      "209518 2577\n",
      "0109_OS\n"
     ]
    },
    {
     "name": "stderr",
     "output_type": "stream",
     "text": [
      "/home/alex_johannes/octa_gnn/OCTA_gnn/generator/heterograph_from_vvg_generator.py:148: UserWarning: Any labeled images will be returned as a boolean array. Did you mean to use a boolean array?\n",
      "  region_labels = measure.label(morphology.remove_small_holes(seg, area_threshold=5, connectivity=1).astype(\"uint8\"), background=1)\n"
     ]
    },
    {
     "name": "stdout",
     "output_type": "stream",
     "text": [
      "1565 330\n",
      "7520\n",
      "262976 3200\n",
      "0110_OD\n"
     ]
    },
    {
     "name": "stderr",
     "output_type": "stream",
     "text": [
      "/home/alex_johannes/octa_gnn/OCTA_gnn/generator/heterograph_from_vvg_generator.py:148: UserWarning: Any labeled images will be returned as a boolean array. Did you mean to use a boolean array?\n",
      "  region_labels = measure.label(morphology.remove_small_holes(seg, area_threshold=5, connectivity=1).astype(\"uint8\"), background=1)\n"
     ]
    },
    {
     "name": "stdout",
     "output_type": "stream",
     "text": [
      "1628 408\n",
      "7719\n",
      "254445 3155\n",
      "0110_OS\n"
     ]
    },
    {
     "name": "stderr",
     "output_type": "stream",
     "text": [
      "/home/alex_johannes/octa_gnn/OCTA_gnn/generator/heterograph_from_vvg_generator.py:148: UserWarning: Any labeled images will be returned as a boolean array. Did you mean to use a boolean array?\n",
      "  region_labels = measure.label(morphology.remove_small_holes(seg, area_threshold=5, connectivity=1).astype(\"uint8\"), background=1)\n"
     ]
    },
    {
     "name": "stdout",
     "output_type": "stream",
     "text": [
      "1807 455\n",
      "8263\n",
      "263124 3531\n",
      "0111_OD\n"
     ]
    },
    {
     "name": "stderr",
     "output_type": "stream",
     "text": [
      "/home/alex_johannes/octa_gnn/OCTA_gnn/generator/heterograph_from_vvg_generator.py:148: UserWarning: Any labeled images will be returned as a boolean array. Did you mean to use a boolean array?\n",
      "  region_labels = measure.label(morphology.remove_small_holes(seg, area_threshold=5, connectivity=1).astype(\"uint8\"), background=1)\n"
     ]
    },
    {
     "name": "stdout",
     "output_type": "stream",
     "text": [
      "1646 371\n",
      "7873\n",
      "261144 3046\n",
      "0111_OS\n"
     ]
    },
    {
     "name": "stderr",
     "output_type": "stream",
     "text": [
      "/home/alex_johannes/octa_gnn/OCTA_gnn/generator/heterograph_from_vvg_generator.py:148: UserWarning: Any labeled images will be returned as a boolean array. Did you mean to use a boolean array?\n",
      "  region_labels = measure.label(morphology.remove_small_holes(seg, area_threshold=5, connectivity=1).astype(\"uint8\"), background=1)\n"
     ]
    },
    {
     "name": "stdout",
     "output_type": "stream",
     "text": [
      "1722 401\n",
      "8300\n",
      "272422 4064\n",
      "0112_OS\n"
     ]
    },
    {
     "name": "stderr",
     "output_type": "stream",
     "text": [
      "/home/alex_johannes/octa_gnn/OCTA_gnn/generator/heterograph_from_vvg_generator.py:148: UserWarning: Any labeled images will be returned as a boolean array. Did you mean to use a boolean array?\n",
      "  region_labels = measure.label(morphology.remove_small_holes(seg, area_threshold=5, connectivity=1).astype(\"uint8\"), background=1)\n"
     ]
    },
    {
     "name": "stdout",
     "output_type": "stream",
     "text": [
      "1962 434\n",
      "9039\n",
      "278293 3116\n",
      "0113_OD\n"
     ]
    },
    {
     "name": "stderr",
     "output_type": "stream",
     "text": [
      "/home/alex_johannes/octa_gnn/OCTA_gnn/generator/heterograph_from_vvg_generator.py:148: UserWarning: Any labeled images will be returned as a boolean array. Did you mean to use a boolean array?\n",
      "  region_labels = measure.label(morphology.remove_small_holes(seg, area_threshold=5, connectivity=1).astype(\"uint8\"), background=1)\n"
     ]
    },
    {
     "name": "stdout",
     "output_type": "stream",
     "text": [
      "1722 436\n",
      "8246\n",
      "257906 3901\n",
      "0113_OS\n"
     ]
    },
    {
     "name": "stderr",
     "output_type": "stream",
     "text": [
      "/home/alex_johannes/octa_gnn/OCTA_gnn/generator/heterograph_from_vvg_generator.py:148: UserWarning: Any labeled images will be returned as a boolean array. Did you mean to use a boolean array?\n",
      "  region_labels = measure.label(morphology.remove_small_holes(seg, area_threshold=5, connectivity=1).astype(\"uint8\"), background=1)\n"
     ]
    },
    {
     "name": "stdout",
     "output_type": "stream",
     "text": [
      "1532 426\n",
      "7706\n",
      "253110 3650\n",
      "0114_OD\n"
     ]
    },
    {
     "name": "stderr",
     "output_type": "stream",
     "text": [
      "/home/alex_johannes/octa_gnn/OCTA_gnn/generator/heterograph_from_vvg_generator.py:148: UserWarning: Any labeled images will be returned as a boolean array. Did you mean to use a boolean array?\n",
      "  region_labels = measure.label(morphology.remove_small_holes(seg, area_threshold=5, connectivity=1).astype(\"uint8\"), background=1)\n"
     ]
    },
    {
     "name": "stdout",
     "output_type": "stream",
     "text": [
      "1754 393\n",
      "8254\n",
      "270508 2939\n",
      "0782_OD\n"
     ]
    },
    {
     "name": "stderr",
     "output_type": "stream",
     "text": [
      "/home/alex_johannes/octa_gnn/OCTA_gnn/generator/heterograph_from_vvg_generator.py:148: UserWarning: Any labeled images will be returned as a boolean array. Did you mean to use a boolean array?\n",
      "  region_labels = measure.label(morphology.remove_small_holes(seg, area_threshold=5, connectivity=1).astype(\"uint8\"), background=1)\n"
     ]
    },
    {
     "name": "stdout",
     "output_type": "stream",
     "text": [
      "1238 287\n",
      "6536\n",
      "238625 2634\n",
      "0782_OS\n"
     ]
    },
    {
     "name": "stderr",
     "output_type": "stream",
     "text": [
      "/home/alex_johannes/octa_gnn/OCTA_gnn/generator/heterograph_from_vvg_generator.py:148: UserWarning: Any labeled images will be returned as a boolean array. Did you mean to use a boolean array?\n",
      "  region_labels = measure.label(morphology.remove_small_holes(seg, area_threshold=5, connectivity=1).astype(\"uint8\"), background=1)\n"
     ]
    },
    {
     "name": "stdout",
     "output_type": "stream",
     "text": [
      "1503 313\n",
      "7589\n",
      "259258 2889\n",
      "0783_OD\n"
     ]
    },
    {
     "name": "stderr",
     "output_type": "stream",
     "text": [
      "/home/alex_johannes/octa_gnn/OCTA_gnn/generator/heterograph_from_vvg_generator.py:148: UserWarning: Any labeled images will be returned as a boolean array. Did you mean to use a boolean array?\n",
      "  region_labels = measure.label(morphology.remove_small_holes(seg, area_threshold=5, connectivity=1).astype(\"uint8\"), background=1)\n"
     ]
    },
    {
     "name": "stdout",
     "output_type": "stream",
     "text": [
      "1938 441\n",
      "8823\n",
      "278009 3767\n",
      "0783_OS\n"
     ]
    },
    {
     "name": "stderr",
     "output_type": "stream",
     "text": [
      "/home/alex_johannes/octa_gnn/OCTA_gnn/generator/heterograph_from_vvg_generator.py:148: UserWarning: Any labeled images will be returned as a boolean array. Did you mean to use a boolean array?\n",
      "  region_labels = measure.label(morphology.remove_small_holes(seg, area_threshold=5, connectivity=1).astype(\"uint8\"), background=1)\n"
     ]
    },
    {
     "name": "stdout",
     "output_type": "stream",
     "text": [
      "1954 428\n",
      "8846\n",
      "274053 3242\n",
      "0784_OD\n"
     ]
    },
    {
     "name": "stderr",
     "output_type": "stream",
     "text": [
      "/home/alex_johannes/octa_gnn/OCTA_gnn/generator/heterograph_from_vvg_generator.py:148: UserWarning: Any labeled images will be returned as a boolean array. Did you mean to use a boolean array?\n",
      "  region_labels = measure.label(morphology.remove_small_holes(seg, area_threshold=5, connectivity=1).astype(\"uint8\"), background=1)\n"
     ]
    },
    {
     "name": "stdout",
     "output_type": "stream",
     "text": [
      "1859 429\n",
      "8574\n",
      "266723 3583\n",
      "0784_OS\n"
     ]
    },
    {
     "name": "stderr",
     "output_type": "stream",
     "text": [
      "/home/alex_johannes/octa_gnn/OCTA_gnn/generator/heterograph_from_vvg_generator.py:148: UserWarning: Any labeled images will be returned as a boolean array. Did you mean to use a boolean array?\n",
      "  region_labels = measure.label(morphology.remove_small_holes(seg, area_threshold=5, connectivity=1).astype(\"uint8\"), background=1)\n"
     ]
    },
    {
     "name": "stdout",
     "output_type": "stream",
     "text": [
      "1821 426\n",
      "8493\n",
      "272672 3475\n",
      "0785_OD\n"
     ]
    },
    {
     "name": "stderr",
     "output_type": "stream",
     "text": [
      "/home/alex_johannes/octa_gnn/OCTA_gnn/generator/heterograph_from_vvg_generator.py:148: UserWarning: Any labeled images will be returned as a boolean array. Did you mean to use a boolean array?\n",
      "  region_labels = measure.label(morphology.remove_small_holes(seg, area_threshold=5, connectivity=1).astype(\"uint8\"), background=1)\n"
     ]
    },
    {
     "name": "stdout",
     "output_type": "stream",
     "text": [
      "1635 412\n",
      "8292\n",
      "270312 3033\n",
      "0785_OS\n"
     ]
    },
    {
     "name": "stderr",
     "output_type": "stream",
     "text": [
      "/home/alex_johannes/octa_gnn/OCTA_gnn/generator/heterograph_from_vvg_generator.py:148: UserWarning: Any labeled images will be returned as a boolean array. Did you mean to use a boolean array?\n",
      "  region_labels = measure.label(morphology.remove_small_holes(seg, area_threshold=5, connectivity=1).astype(\"uint8\"), background=1)\n"
     ]
    },
    {
     "name": "stdout",
     "output_type": "stream",
     "text": [
      "1943 480\n",
      "9178\n",
      "281310 3255\n",
      "0786_OD\n"
     ]
    },
    {
     "name": "stderr",
     "output_type": "stream",
     "text": [
      "/home/alex_johannes/octa_gnn/OCTA_gnn/generator/heterograph_from_vvg_generator.py:148: UserWarning: Any labeled images will be returned as a boolean array. Did you mean to use a boolean array?\n",
      "  region_labels = measure.label(morphology.remove_small_holes(seg, area_threshold=5, connectivity=1).astype(\"uint8\"), background=1)\n"
     ]
    },
    {
     "name": "stdout",
     "output_type": "stream",
     "text": [
      "1454 337\n",
      "7252\n",
      "254619 2723\n",
      "0787_OD\n"
     ]
    },
    {
     "name": "stderr",
     "output_type": "stream",
     "text": [
      "/home/alex_johannes/octa_gnn/OCTA_gnn/generator/heterograph_from_vvg_generator.py:148: UserWarning: Any labeled images will be returned as a boolean array. Did you mean to use a boolean array?\n",
      "  region_labels = measure.label(morphology.remove_small_holes(seg, area_threshold=5, connectivity=1).astype(\"uint8\"), background=1)\n"
     ]
    },
    {
     "name": "stdout",
     "output_type": "stream",
     "text": [
      "1347 324\n",
      "6749\n",
      "234229 3285\n",
      "0787_OS\n"
     ]
    },
    {
     "name": "stderr",
     "output_type": "stream",
     "text": [
      "/home/alex_johannes/octa_gnn/OCTA_gnn/generator/heterograph_from_vvg_generator.py:148: UserWarning: Any labeled images will be returned as a boolean array. Did you mean to use a boolean array?\n",
      "  region_labels = measure.label(morphology.remove_small_holes(seg, area_threshold=5, connectivity=1).astype(\"uint8\"), background=1)\n"
     ]
    },
    {
     "name": "stdout",
     "output_type": "stream",
     "text": [
      "1384 297\n",
      "6873\n",
      "251819 2253\n",
      "0788_OS\n"
     ]
    },
    {
     "name": "stderr",
     "output_type": "stream",
     "text": [
      "/home/alex_johannes/octa_gnn/OCTA_gnn/generator/heterograph_from_vvg_generator.py:148: UserWarning: Any labeled images will be returned as a boolean array. Did you mean to use a boolean array?\n",
      "  region_labels = measure.label(morphology.remove_small_holes(seg, area_threshold=5, connectivity=1).astype(\"uint8\"), background=1)\n"
     ]
    },
    {
     "name": "stdout",
     "output_type": "stream",
     "text": [
      "1650 364\n",
      "7846\n",
      "268080 3080\n",
      "0789_OD\n"
     ]
    },
    {
     "name": "stderr",
     "output_type": "stream",
     "text": [
      "/home/alex_johannes/octa_gnn/OCTA_gnn/generator/heterograph_from_vvg_generator.py:148: UserWarning: Any labeled images will be returned as a boolean array. Did you mean to use a boolean array?\n",
      "  region_labels = measure.label(morphology.remove_small_holes(seg, area_threshold=5, connectivity=1).astype(\"uint8\"), background=1)\n"
     ]
    },
    {
     "name": "stdout",
     "output_type": "stream",
     "text": [
      "1439 391\n",
      "6958\n",
      "242802 3692\n",
      "0790_OD\n"
     ]
    },
    {
     "name": "stderr",
     "output_type": "stream",
     "text": [
      "/home/alex_johannes/octa_gnn/OCTA_gnn/generator/heterograph_from_vvg_generator.py:148: UserWarning: Any labeled images will be returned as a boolean array. Did you mean to use a boolean array?\n",
      "  region_labels = measure.label(morphology.remove_small_holes(seg, area_threshold=5, connectivity=1).astype(\"uint8\"), background=1)\n"
     ]
    },
    {
     "name": "stdout",
     "output_type": "stream",
     "text": [
      "895 203\n",
      "4940\n",
      "215088 1713\n",
      "0790_OS\n"
     ]
    },
    {
     "name": "stderr",
     "output_type": "stream",
     "text": [
      "/home/alex_johannes/octa_gnn/OCTA_gnn/generator/heterograph_from_vvg_generator.py:148: UserWarning: Any labeled images will be returned as a boolean array. Did you mean to use a boolean array?\n",
      "  region_labels = measure.label(morphology.remove_small_holes(seg, area_threshold=5, connectivity=1).astype(\"uint8\"), background=1)\n",
      "/home/alex_johannes/octa_gnn/OCTA_gnn/.venv/lib/python3.10/site-packages/skimage/measure/_regionprops.py:647: RuntimeWarning: invalid value encountered in scalar divide\n",
      "  tuple(M[_get_element(axis)] / M0 for axis in range(self._ndim)))\n"
     ]
    },
    {
     "name": "stdout",
     "output_type": "stream",
     "text": [
      "1008 220\n",
      "5432\n",
      "229880 2204\n",
      "0791_OS\n"
     ]
    },
    {
     "name": "stderr",
     "output_type": "stream",
     "text": [
      "/home/alex_johannes/octa_gnn/OCTA_gnn/generator/heterograph_from_vvg_generator.py:148: UserWarning: Any labeled images will be returned as a boolean array. Did you mean to use a boolean array?\n",
      "  region_labels = measure.label(morphology.remove_small_holes(seg, area_threshold=5, connectivity=1).astype(\"uint8\"), background=1)\n"
     ]
    },
    {
     "name": "stdout",
     "output_type": "stream",
     "text": [
      "1822 464\n",
      "8424\n",
      "266208 3290\n",
      "0792_OD\n"
     ]
    },
    {
     "name": "stderr",
     "output_type": "stream",
     "text": [
      "/home/alex_johannes/octa_gnn/OCTA_gnn/generator/heterograph_from_vvg_generator.py:148: UserWarning: Any labeled images will be returned as a boolean array. Did you mean to use a boolean array?\n",
      "  region_labels = measure.label(morphology.remove_small_holes(seg, area_threshold=5, connectivity=1).astype(\"uint8\"), background=1)\n"
     ]
    },
    {
     "name": "stdout",
     "output_type": "stream",
     "text": [
      "1734 414\n",
      "8265\n",
      "274938 2857\n",
      "0792_OS\n"
     ]
    },
    {
     "name": "stderr",
     "output_type": "stream",
     "text": [
      "/home/alex_johannes/octa_gnn/OCTA_gnn/generator/heterograph_from_vvg_generator.py:148: UserWarning: Any labeled images will be returned as a boolean array. Did you mean to use a boolean array?\n",
      "  region_labels = measure.label(morphology.remove_small_holes(seg, area_threshold=5, connectivity=1).astype(\"uint8\"), background=1)\n"
     ]
    },
    {
     "name": "stdout",
     "output_type": "stream",
     "text": [
      "1785 406\n",
      "8389\n",
      "278660 3100\n",
      "0793_OD\n"
     ]
    },
    {
     "name": "stderr",
     "output_type": "stream",
     "text": [
      "/home/alex_johannes/octa_gnn/OCTA_gnn/generator/heterograph_from_vvg_generator.py:148: UserWarning: Any labeled images will be returned as a boolean array. Did you mean to use a boolean array?\n",
      "  region_labels = measure.label(morphology.remove_small_holes(seg, area_threshold=5, connectivity=1).astype(\"uint8\"), background=1)\n"
     ]
    },
    {
     "name": "stdout",
     "output_type": "stream",
     "text": [
      "1259 343\n",
      "6708\n",
      "238526 2956\n",
      "0169_OS\n"
     ]
    },
    {
     "name": "stderr",
     "output_type": "stream",
     "text": [
      "/home/alex_johannes/octa_gnn/OCTA_gnn/generator/heterograph_from_vvg_generator.py:148: UserWarning: Any labeled images will be returned as a boolean array. Did you mean to use a boolean array?\n",
      "  region_labels = measure.label(morphology.remove_small_holes(seg, area_threshold=5, connectivity=1).astype(\"uint8\"), background=1)\n"
     ]
    },
    {
     "name": "stdout",
     "output_type": "stream",
     "text": [
      "1725 367\n",
      "8245\n",
      "274271 2224\n",
      "0170_OD\n"
     ]
    },
    {
     "name": "stderr",
     "output_type": "stream",
     "text": [
      "/home/alex_johannes/octa_gnn/OCTA_gnn/generator/heterograph_from_vvg_generator.py:148: UserWarning: Any labeled images will be returned as a boolean array. Did you mean to use a boolean array?\n",
      "  region_labels = measure.label(morphology.remove_small_holes(seg, area_threshold=5, connectivity=1).astype(\"uint8\"), background=1)\n"
     ]
    },
    {
     "name": "stdout",
     "output_type": "stream",
     "text": [
      "1579 389\n",
      "7669\n",
      "257866 3773\n",
      "0170_OS\n"
     ]
    },
    {
     "name": "stderr",
     "output_type": "stream",
     "text": [
      "/home/alex_johannes/octa_gnn/OCTA_gnn/generator/heterograph_from_vvg_generator.py:148: UserWarning: Any labeled images will be returned as a boolean array. Did you mean to use a boolean array?\n",
      "  region_labels = measure.label(morphology.remove_small_holes(seg, area_threshold=5, connectivity=1).astype(\"uint8\"), background=1)\n",
      "/home/alex_johannes/octa_gnn/OCTA_gnn/.venv/lib/python3.10/site-packages/skimage/measure/_regionprops.py:647: RuntimeWarning: invalid value encountered in scalar divide\n",
      "  tuple(M[_get_element(axis)] / M0 for axis in range(self._ndim)))\n"
     ]
    },
    {
     "name": "stdout",
     "output_type": "stream",
     "text": [
      "1698 453\n",
      "7950\n",
      "257171 4215\n",
      "0171_OD\n"
     ]
    },
    {
     "name": "stderr",
     "output_type": "stream",
     "text": [
      "/home/alex_johannes/octa_gnn/OCTA_gnn/generator/heterograph_from_vvg_generator.py:148: UserWarning: Any labeled images will be returned as a boolean array. Did you mean to use a boolean array?\n",
      "  region_labels = measure.label(morphology.remove_small_holes(seg, area_threshold=5, connectivity=1).astype(\"uint8\"), background=1)\n"
     ]
    },
    {
     "name": "stdout",
     "output_type": "stream",
     "text": [
      "1416 403\n",
      "7032\n",
      "243411 3248\n",
      "0171_OS\n"
     ]
    },
    {
     "name": "stderr",
     "output_type": "stream",
     "text": [
      "/home/alex_johannes/octa_gnn/OCTA_gnn/generator/heterograph_from_vvg_generator.py:148: UserWarning: Any labeled images will be returned as a boolean array. Did you mean to use a boolean array?\n",
      "  region_labels = measure.label(morphology.remove_small_holes(seg, area_threshold=5, connectivity=1).astype(\"uint8\"), background=1)\n"
     ]
    },
    {
     "name": "stdout",
     "output_type": "stream",
     "text": [
      "1203 295\n",
      "6243\n",
      "236677 2473\n",
      "0172_OD\n"
     ]
    },
    {
     "name": "stderr",
     "output_type": "stream",
     "text": [
      "/home/alex_johannes/octa_gnn/OCTA_gnn/generator/heterograph_from_vvg_generator.py:148: UserWarning: Any labeled images will be returned as a boolean array. Did you mean to use a boolean array?\n",
      "  region_labels = measure.label(morphology.remove_small_holes(seg, area_threshold=5, connectivity=1).astype(\"uint8\"), background=1)\n"
     ]
    },
    {
     "name": "stdout",
     "output_type": "stream",
     "text": [
      "1880 447\n",
      "8649\n",
      "268752 3582\n",
      "0172_OS\n"
     ]
    },
    {
     "name": "stderr",
     "output_type": "stream",
     "text": [
      "/home/alex_johannes/octa_gnn/OCTA_gnn/generator/heterograph_from_vvg_generator.py:148: UserWarning: Any labeled images will be returned as a boolean array. Did you mean to use a boolean array?\n",
      "  region_labels = measure.label(morphology.remove_small_holes(seg, area_threshold=5, connectivity=1).astype(\"uint8\"), background=1)\n"
     ]
    },
    {
     "name": "stdout",
     "output_type": "stream",
     "text": [
      "1999 483\n",
      "9184\n",
      "280453 3417\n",
      "0173_OD\n"
     ]
    },
    {
     "name": "stderr",
     "output_type": "stream",
     "text": [
      "/home/alex_johannes/octa_gnn/OCTA_gnn/generator/heterograph_from_vvg_generator.py:148: UserWarning: Any labeled images will be returned as a boolean array. Did you mean to use a boolean array?\n",
      "  region_labels = measure.label(morphology.remove_small_holes(seg, area_threshold=5, connectivity=1).astype(\"uint8\"), background=1)\n"
     ]
    },
    {
     "name": "stdout",
     "output_type": "stream",
     "text": [
      "503 147\n",
      "3256\n",
      "181556 1653\n",
      "0174_OD\n"
     ]
    },
    {
     "name": "stderr",
     "output_type": "stream",
     "text": [
      "/home/alex_johannes/octa_gnn/OCTA_gnn/generator/heterograph_from_vvg_generator.py:148: UserWarning: Any labeled images will be returned as a boolean array. Did you mean to use a boolean array?\n",
      "  region_labels = measure.label(morphology.remove_small_holes(seg, area_threshold=5, connectivity=1).astype(\"uint8\"), background=1)\n"
     ]
    },
    {
     "name": "stdout",
     "output_type": "stream",
     "text": [
      "1791 443\n",
      "8318\n",
      "248824 4152\n",
      "0177_OS\n"
     ]
    },
    {
     "name": "stderr",
     "output_type": "stream",
     "text": [
      "/home/alex_johannes/octa_gnn/OCTA_gnn/generator/heterograph_from_vvg_generator.py:148: UserWarning: Any labeled images will be returned as a boolean array. Did you mean to use a boolean array?\n",
      "  region_labels = measure.label(morphology.remove_small_holes(seg, area_threshold=5, connectivity=1).astype(\"uint8\"), background=1)\n"
     ]
    },
    {
     "name": "stdout",
     "output_type": "stream",
     "text": [
      "1897 446\n",
      "8618\n",
      "271047 3877\n",
      "0178_OD\n"
     ]
    },
    {
     "name": "stderr",
     "output_type": "stream",
     "text": [
      "/home/alex_johannes/octa_gnn/OCTA_gnn/generator/heterograph_from_vvg_generator.py:148: UserWarning: Any labeled images will be returned as a boolean array. Did you mean to use a boolean array?\n",
      "  region_labels = measure.label(morphology.remove_small_holes(seg, area_threshold=5, connectivity=1).astype(\"uint8\"), background=1)\n"
     ]
    },
    {
     "name": "stdout",
     "output_type": "stream",
     "text": [
      "1687 428\n",
      "8280\n",
      "256615 3092\n",
      "0178_OS\n"
     ]
    },
    {
     "name": "stderr",
     "output_type": "stream",
     "text": [
      "/home/alex_johannes/octa_gnn/OCTA_gnn/generator/heterograph_from_vvg_generator.py:148: UserWarning: Any labeled images will be returned as a boolean array. Did you mean to use a boolean array?\n",
      "  region_labels = measure.label(morphology.remove_small_holes(seg, area_threshold=5, connectivity=1).astype(\"uint8\"), background=1)\n"
     ]
    },
    {
     "name": "stdout",
     "output_type": "stream",
     "text": [
      "1680 396\n",
      "7945\n",
      "255124 3141\n",
      "0179_OD\n"
     ]
    },
    {
     "name": "stderr",
     "output_type": "stream",
     "text": [
      "/home/alex_johannes/octa_gnn/OCTA_gnn/generator/heterograph_from_vvg_generator.py:148: UserWarning: Any labeled images will be returned as a boolean array. Did you mean to use a boolean array?\n",
      "  region_labels = measure.label(morphology.remove_small_holes(seg, area_threshold=5, connectivity=1).astype(\"uint8\"), background=1)\n"
     ]
    },
    {
     "name": "stdout",
     "output_type": "stream",
     "text": [
      "1449 379\n",
      "7321\n",
      "255110 3292\n",
      "0179_OS\n"
     ]
    },
    {
     "name": "stderr",
     "output_type": "stream",
     "text": [
      "/home/alex_johannes/octa_gnn/OCTA_gnn/generator/heterograph_from_vvg_generator.py:148: UserWarning: Any labeled images will be returned as a boolean array. Did you mean to use a boolean array?\n",
      "  region_labels = measure.label(morphology.remove_small_holes(seg, area_threshold=5, connectivity=1).astype(\"uint8\"), background=1)\n"
     ]
    },
    {
     "name": "stdout",
     "output_type": "stream",
     "text": [
      "1502 392\n",
      "7183\n",
      "238357 4005\n",
      "0180_OD\n"
     ]
    },
    {
     "name": "stderr",
     "output_type": "stream",
     "text": [
      "/home/alex_johannes/octa_gnn/OCTA_gnn/generator/heterograph_from_vvg_generator.py:148: UserWarning: Any labeled images will be returned as a boolean array. Did you mean to use a boolean array?\n",
      "  region_labels = measure.label(morphology.remove_small_holes(seg, area_threshold=5, connectivity=1).astype(\"uint8\"), background=1)\n"
     ]
    },
    {
     "name": "stdout",
     "output_type": "stream",
     "text": [
      "1623 351\n",
      "7637\n",
      "264040 3432\n",
      "0181_OS\n"
     ]
    },
    {
     "name": "stderr",
     "output_type": "stream",
     "text": [
      "/home/alex_johannes/octa_gnn/OCTA_gnn/generator/heterograph_from_vvg_generator.py:148: UserWarning: Any labeled images will be returned as a boolean array. Did you mean to use a boolean array?\n",
      "  region_labels = measure.label(morphology.remove_small_holes(seg, area_threshold=5, connectivity=1).astype(\"uint8\"), background=1)\n"
     ]
    },
    {
     "name": "stdout",
     "output_type": "stream",
     "text": [
      "417 78\n",
      "2860\n",
      "166863 758\n",
      "0601_OD\n"
     ]
    },
    {
     "name": "stderr",
     "output_type": "stream",
     "text": [
      "/home/alex_johannes/octa_gnn/OCTA_gnn/generator/heterograph_from_vvg_generator.py:148: UserWarning: Any labeled images will be returned as a boolean array. Did you mean to use a boolean array?\n",
      "  region_labels = measure.label(morphology.remove_small_holes(seg, area_threshold=5, connectivity=1).astype(\"uint8\"), background=1)\n"
     ]
    },
    {
     "name": "stdout",
     "output_type": "stream",
     "text": [
      "1723 355\n",
      "8260\n",
      "270916 2758\n",
      "0601_OS\n"
     ]
    },
    {
     "name": "stderr",
     "output_type": "stream",
     "text": [
      "/home/alex_johannes/octa_gnn/OCTA_gnn/generator/heterograph_from_vvg_generator.py:148: UserWarning: Any labeled images will be returned as a boolean array. Did you mean to use a boolean array?\n",
      "  region_labels = measure.label(morphology.remove_small_holes(seg, area_threshold=5, connectivity=1).astype(\"uint8\"), background=1)\n"
     ]
    },
    {
     "name": "stdout",
     "output_type": "stream",
     "text": [
      "1835 505\n",
      "8567\n",
      "254306 4462\n",
      "0602_OD\n"
     ]
    },
    {
     "name": "stderr",
     "output_type": "stream",
     "text": [
      "/home/alex_johannes/octa_gnn/OCTA_gnn/generator/heterograph_from_vvg_generator.py:148: UserWarning: Any labeled images will be returned as a boolean array. Did you mean to use a boolean array?\n",
      "  region_labels = measure.label(morphology.remove_small_holes(seg, area_threshold=5, connectivity=1).astype(\"uint8\"), background=1)\n"
     ]
    },
    {
     "name": "stdout",
     "output_type": "stream",
     "text": [
      "1574 321\n",
      "7624\n",
      "266093 2705\n",
      "0602_OS\n"
     ]
    },
    {
     "name": "stderr",
     "output_type": "stream",
     "text": [
      "/home/alex_johannes/octa_gnn/OCTA_gnn/generator/heterograph_from_vvg_generator.py:148: UserWarning: Any labeled images will be returned as a boolean array. Did you mean to use a boolean array?\n",
      "  region_labels = measure.label(morphology.remove_small_holes(seg, area_threshold=5, connectivity=1).astype(\"uint8\"), background=1)\n"
     ]
    },
    {
     "name": "stdout",
     "output_type": "stream",
     "text": [
      "1869 404\n",
      "8604\n",
      "273721 2746\n",
      "0603_OD\n"
     ]
    },
    {
     "name": "stderr",
     "output_type": "stream",
     "text": [
      "/home/alex_johannes/octa_gnn/OCTA_gnn/generator/heterograph_from_vvg_generator.py:148: UserWarning: Any labeled images will be returned as a boolean array. Did you mean to use a boolean array?\n",
      "  region_labels = measure.label(morphology.remove_small_holes(seg, area_threshold=5, connectivity=1).astype(\"uint8\"), background=1)\n"
     ]
    },
    {
     "name": "stdout",
     "output_type": "stream",
     "text": [
      "411 69\n",
      "2602\n",
      "167323 687\n",
      "0604_OD\n"
     ]
    },
    {
     "name": "stderr",
     "output_type": "stream",
     "text": [
      "/home/alex_johannes/octa_gnn/OCTA_gnn/generator/heterograph_from_vvg_generator.py:148: UserWarning: Any labeled images will be returned as a boolean array. Did you mean to use a boolean array?\n",
      "  region_labels = measure.label(morphology.remove_small_holes(seg, area_threshold=5, connectivity=1).astype(\"uint8\"), background=1)\n"
     ]
    },
    {
     "name": "stdout",
     "output_type": "stream",
     "text": [
      "400 85\n",
      "2476\n",
      "170353 786\n",
      "0605_OD\n"
     ]
    },
    {
     "name": "stderr",
     "output_type": "stream",
     "text": [
      "/home/alex_johannes/octa_gnn/OCTA_gnn/generator/heterograph_from_vvg_generator.py:148: UserWarning: Any labeled images will be returned as a boolean array. Did you mean to use a boolean array?\n",
      "  region_labels = measure.label(morphology.remove_small_holes(seg, area_threshold=5, connectivity=1).astype(\"uint8\"), background=1)\n"
     ]
    },
    {
     "name": "stdout",
     "output_type": "stream",
     "text": [
      "482 119\n",
      "3003\n",
      "166686 1652\n",
      "0605_OS\n"
     ]
    },
    {
     "name": "stderr",
     "output_type": "stream",
     "text": [
      "/home/alex_johannes/octa_gnn/OCTA_gnn/generator/heterograph_from_vvg_generator.py:148: UserWarning: Any labeled images will be returned as a boolean array. Did you mean to use a boolean array?\n",
      "  region_labels = measure.label(morphology.remove_small_holes(seg, area_threshold=5, connectivity=1).astype(\"uint8\"), background=1)\n"
     ]
    },
    {
     "name": "stdout",
     "output_type": "stream",
     "text": [
      "488 99\n",
      "3108\n",
      "171687 1302\n",
      "0606_OD\n"
     ]
    },
    {
     "name": "stderr",
     "output_type": "stream",
     "text": [
      "/home/alex_johannes/octa_gnn/OCTA_gnn/generator/heterograph_from_vvg_generator.py:148: UserWarning: Any labeled images will be returned as a boolean array. Did you mean to use a boolean array?\n",
      "  region_labels = measure.label(morphology.remove_small_holes(seg, area_threshold=5, connectivity=1).astype(\"uint8\"), background=1)\n"
     ]
    },
    {
     "name": "stdout",
     "output_type": "stream",
     "text": [
      "1668 379\n",
      "7906\n",
      "268390 2595\n",
      "0607_OS\n"
     ]
    },
    {
     "name": "stderr",
     "output_type": "stream",
     "text": [
      "/home/alex_johannes/octa_gnn/OCTA_gnn/generator/heterograph_from_vvg_generator.py:148: UserWarning: Any labeled images will be returned as a boolean array. Did you mean to use a boolean array?\n",
      "  region_labels = measure.label(morphology.remove_small_holes(seg, area_threshold=5, connectivity=1).astype(\"uint8\"), background=1)\n"
     ]
    },
    {
     "name": "stdout",
     "output_type": "stream",
     "text": [
      "1428 370\n",
      "7371\n",
      "255094 2750\n",
      "0608_OD\n"
     ]
    },
    {
     "name": "stderr",
     "output_type": "stream",
     "text": [
      "/home/alex_johannes/octa_gnn/OCTA_gnn/generator/heterograph_from_vvg_generator.py:148: UserWarning: Any labeled images will be returned as a boolean array. Did you mean to use a boolean array?\n",
      "  region_labels = measure.label(morphology.remove_small_holes(seg, area_threshold=5, connectivity=1).astype(\"uint8\"), background=1)\n"
     ]
    },
    {
     "name": "stdout",
     "output_type": "stream",
     "text": [
      "1875 412\n",
      "8637\n",
      "272573 2919\n",
      "0608_OS\n"
     ]
    },
    {
     "name": "stderr",
     "output_type": "stream",
     "text": [
      "/home/alex_johannes/octa_gnn/OCTA_gnn/generator/heterograph_from_vvg_generator.py:148: UserWarning: Any labeled images will be returned as a boolean array. Did you mean to use a boolean array?\n",
      "  region_labels = measure.label(morphology.remove_small_holes(seg, area_threshold=5, connectivity=1).astype(\"uint8\"), background=1)\n"
     ]
    },
    {
     "name": "stdout",
     "output_type": "stream",
     "text": [
      "1879 458\n",
      "8723\n",
      "273823 3575\n",
      "0609_OD\n"
     ]
    },
    {
     "name": "stderr",
     "output_type": "stream",
     "text": [
      "/home/alex_johannes/octa_gnn/OCTA_gnn/generator/heterograph_from_vvg_generator.py:148: UserWarning: Any labeled images will be returned as a boolean array. Did you mean to use a boolean array?\n",
      "  region_labels = measure.label(morphology.remove_small_holes(seg, area_threshold=5, connectivity=1).astype(\"uint8\"), background=1)\n"
     ]
    },
    {
     "name": "stdout",
     "output_type": "stream",
     "text": [
      "1730 401\n",
      "8278\n",
      "260280 3101\n",
      "0609_OS\n"
     ]
    },
    {
     "name": "stderr",
     "output_type": "stream",
     "text": [
      "/home/alex_johannes/octa_gnn/OCTA_gnn/generator/heterograph_from_vvg_generator.py:148: UserWarning: Any labeled images will be returned as a boolean array. Did you mean to use a boolean array?\n",
      "  region_labels = measure.label(morphology.remove_small_holes(seg, area_threshold=5, connectivity=1).astype(\"uint8\"), background=1)\n"
     ]
    },
    {
     "name": "stdout",
     "output_type": "stream",
     "text": [
      "1865 451\n",
      "8698\n",
      "265312 3406\n",
      "0610_OD\n"
     ]
    },
    {
     "name": "stderr",
     "output_type": "stream",
     "text": [
      "/home/alex_johannes/octa_gnn/OCTA_gnn/generator/heterograph_from_vvg_generator.py:148: UserWarning: Any labeled images will be returned as a boolean array. Did you mean to use a boolean array?\n",
      "  region_labels = measure.label(morphology.remove_small_holes(seg, area_threshold=5, connectivity=1).astype(\"uint8\"), background=1)\n"
     ]
    },
    {
     "name": "stdout",
     "output_type": "stream",
     "text": [
      "1790 452\n",
      "8557\n",
      "279379 3414\n",
      "0610_OS\n"
     ]
    },
    {
     "name": "stderr",
     "output_type": "stream",
     "text": [
      "/home/alex_johannes/octa_gnn/OCTA_gnn/generator/heterograph_from_vvg_generator.py:148: UserWarning: Any labeled images will be returned as a boolean array. Did you mean to use a boolean array?\n",
      "  region_labels = measure.label(morphology.remove_small_holes(seg, area_threshold=5, connectivity=1).astype(\"uint8\"), background=1)\n"
     ]
    },
    {
     "name": "stdout",
     "output_type": "stream",
     "text": [
      "1854 426\n",
      "8810\n",
      "280737 3149\n",
      "0611_OD\n"
     ]
    },
    {
     "name": "stderr",
     "output_type": "stream",
     "text": [
      "/home/alex_johannes/octa_gnn/OCTA_gnn/generator/heterograph_from_vvg_generator.py:148: UserWarning: Any labeled images will be returned as a boolean array. Did you mean to use a boolean array?\n",
      "  region_labels = measure.label(morphology.remove_small_holes(seg, area_threshold=5, connectivity=1).astype(\"uint8\"), background=1)\n"
     ]
    },
    {
     "name": "stdout",
     "output_type": "stream",
     "text": [
      "1812 467\n",
      "8709\n",
      "270846 4284\n",
      "0611_OS\n"
     ]
    },
    {
     "name": "stderr",
     "output_type": "stream",
     "text": [
      "/home/alex_johannes/octa_gnn/OCTA_gnn/generator/heterograph_from_vvg_generator.py:148: UserWarning: Any labeled images will be returned as a boolean array. Did you mean to use a boolean array?\n",
      "  region_labels = measure.label(morphology.remove_small_holes(seg, area_threshold=5, connectivity=1).astype(\"uint8\"), background=1)\n"
     ]
    },
    {
     "name": "stdout",
     "output_type": "stream",
     "text": [
      "1700 420\n",
      "8121\n",
      "263588 3467\n",
      "0612_OD\n"
     ]
    },
    {
     "name": "stderr",
     "output_type": "stream",
     "text": [
      "/home/alex_johannes/octa_gnn/OCTA_gnn/generator/heterograph_from_vvg_generator.py:148: UserWarning: Any labeled images will be returned as a boolean array. Did you mean to use a boolean array?\n",
      "  region_labels = measure.label(morphology.remove_small_holes(seg, area_threshold=5, connectivity=1).astype(\"uint8\"), background=1)\n"
     ]
    },
    {
     "name": "stdout",
     "output_type": "stream",
     "text": [
      "1979 407\n",
      "9113\n",
      "276644 3106\n",
      "0485_OD\n"
     ]
    },
    {
     "name": "stderr",
     "output_type": "stream",
     "text": [
      "/home/alex_johannes/octa_gnn/OCTA_gnn/generator/heterograph_from_vvg_generator.py:148: UserWarning: Any labeled images will be returned as a boolean array. Did you mean to use a boolean array?\n",
      "  region_labels = measure.label(morphology.remove_small_holes(seg, area_threshold=5, connectivity=1).astype(\"uint8\"), background=1)\n"
     ]
    },
    {
     "name": "stdout",
     "output_type": "stream",
     "text": [
      "1187 274\n",
      "6238\n",
      "237394 2090\n",
      "0486_OD\n"
     ]
    },
    {
     "name": "stderr",
     "output_type": "stream",
     "text": [
      "/home/alex_johannes/octa_gnn/OCTA_gnn/generator/heterograph_from_vvg_generator.py:148: UserWarning: Any labeled images will be returned as a boolean array. Did you mean to use a boolean array?\n",
      "  region_labels = measure.label(morphology.remove_small_holes(seg, area_threshold=5, connectivity=1).astype(\"uint8\"), background=1)\n"
     ]
    },
    {
     "name": "stdout",
     "output_type": "stream",
     "text": [
      "489 118\n",
      "3111\n",
      "173650 1051\n",
      "0487_OD\n"
     ]
    },
    {
     "name": "stderr",
     "output_type": "stream",
     "text": [
      "/home/alex_johannes/octa_gnn/OCTA_gnn/generator/heterograph_from_vvg_generator.py:148: UserWarning: Any labeled images will be returned as a boolean array. Did you mean to use a boolean array?\n",
      "  region_labels = measure.label(morphology.remove_small_holes(seg, area_threshold=5, connectivity=1).astype(\"uint8\"), background=1)\n"
     ]
    },
    {
     "name": "stdout",
     "output_type": "stream",
     "text": [
      "1393 347\n",
      "7209\n",
      "257075 2693\n",
      "0487_OS\n"
     ]
    },
    {
     "name": "stderr",
     "output_type": "stream",
     "text": [
      "/home/alex_johannes/octa_gnn/OCTA_gnn/generator/heterograph_from_vvg_generator.py:148: UserWarning: Any labeled images will be returned as a boolean array. Did you mean to use a boolean array?\n",
      "  region_labels = measure.label(morphology.remove_small_holes(seg, area_threshold=5, connectivity=1).astype(\"uint8\"), background=1)\n"
     ]
    },
    {
     "name": "stdout",
     "output_type": "stream",
     "text": [
      "1832 489\n",
      "8545\n",
      "258585 3417\n",
      "0488_OD\n"
     ]
    },
    {
     "name": "stderr",
     "output_type": "stream",
     "text": [
      "/home/alex_johannes/octa_gnn/OCTA_gnn/generator/heterograph_from_vvg_generator.py:148: UserWarning: Any labeled images will be returned as a boolean array. Did you mean to use a boolean array?\n",
      "  region_labels = measure.label(morphology.remove_small_holes(seg, area_threshold=5, connectivity=1).astype(\"uint8\"), background=1)\n"
     ]
    },
    {
     "name": "stdout",
     "output_type": "stream",
     "text": [
      "1640 340\n",
      "8219\n",
      "272338 2765\n",
      "0488_OS\n"
     ]
    },
    {
     "name": "stderr",
     "output_type": "stream",
     "text": [
      "/home/alex_johannes/octa_gnn/OCTA_gnn/generator/heterograph_from_vvg_generator.py:148: UserWarning: Any labeled images will be returned as a boolean array. Did you mean to use a boolean array?\n",
      "  region_labels = measure.label(morphology.remove_small_holes(seg, area_threshold=5, connectivity=1).astype(\"uint8\"), background=1)\n"
     ]
    },
    {
     "name": "stdout",
     "output_type": "stream",
     "text": [
      "1765 381\n",
      "8469\n",
      "277099 3023\n",
      "0489_OD\n"
     ]
    },
    {
     "name": "stderr",
     "output_type": "stream",
     "text": [
      "/home/alex_johannes/octa_gnn/OCTA_gnn/generator/heterograph_from_vvg_generator.py:148: UserWarning: Any labeled images will be returned as a boolean array. Did you mean to use a boolean array?\n",
      "  region_labels = measure.label(morphology.remove_small_holes(seg, area_threshold=5, connectivity=1).astype(\"uint8\"), background=1)\n"
     ]
    },
    {
     "name": "stdout",
     "output_type": "stream",
     "text": [
      "1907 404\n",
      "9015\n",
      "289263 2531\n",
      "0489_OS\n"
     ]
    },
    {
     "name": "stderr",
     "output_type": "stream",
     "text": [
      "/home/alex_johannes/octa_gnn/OCTA_gnn/generator/heterograph_from_vvg_generator.py:148: UserWarning: Any labeled images will be returned as a boolean array. Did you mean to use a boolean array?\n",
      "  region_labels = measure.label(morphology.remove_small_holes(seg, area_threshold=5, connectivity=1).astype(\"uint8\"), background=1)\n"
     ]
    },
    {
     "name": "stdout",
     "output_type": "stream",
     "text": [
      "1992 415\n",
      "9063\n",
      "287483 3621\n",
      "0490_OS\n"
     ]
    },
    {
     "name": "stderr",
     "output_type": "stream",
     "text": [
      "/home/alex_johannes/octa_gnn/OCTA_gnn/generator/heterograph_from_vvg_generator.py:148: UserWarning: Any labeled images will be returned as a boolean array. Did you mean to use a boolean array?\n",
      "  region_labels = measure.label(morphology.remove_small_holes(seg, area_threshold=5, connectivity=1).astype(\"uint8\"), background=1)\n",
      "/home/alex_johannes/octa_gnn/OCTA_gnn/.venv/lib/python3.10/site-packages/skimage/measure/_regionprops.py:647: RuntimeWarning: invalid value encountered in scalar divide\n",
      "  tuple(M[_get_element(axis)] / M0 for axis in range(self._ndim)))\n"
     ]
    },
    {
     "name": "stdout",
     "output_type": "stream",
     "text": [
      "1569 345\n",
      "7832\n",
      "278102 2502\n",
      "0491_OD\n"
     ]
    },
    {
     "name": "stderr",
     "output_type": "stream",
     "text": [
      "/home/alex_johannes/octa_gnn/OCTA_gnn/generator/heterograph_from_vvg_generator.py:148: UserWarning: Any labeled images will be returned as a boolean array. Did you mean to use a boolean array?\n",
      "  region_labels = measure.label(morphology.remove_small_holes(seg, area_threshold=5, connectivity=1).astype(\"uint8\"), background=1)\n"
     ]
    },
    {
     "name": "stdout",
     "output_type": "stream",
     "text": [
      "1733 396\n",
      "8211\n",
      "266789 3242\n",
      "0491_OS\n"
     ]
    },
    {
     "name": "stderr",
     "output_type": "stream",
     "text": [
      "/home/alex_johannes/octa_gnn/OCTA_gnn/generator/heterograph_from_vvg_generator.py:148: UserWarning: Any labeled images will be returned as a boolean array. Did you mean to use a boolean array?\n",
      "  region_labels = measure.label(morphology.remove_small_holes(seg, area_threshold=5, connectivity=1).astype(\"uint8\"), background=1)\n"
     ]
    },
    {
     "name": "stdout",
     "output_type": "stream",
     "text": [
      "1694 385\n",
      "8085\n",
      "264165 3313\n",
      "0492_OS\n"
     ]
    },
    {
     "name": "stderr",
     "output_type": "stream",
     "text": [
      "/home/alex_johannes/octa_gnn/OCTA_gnn/generator/heterograph_from_vvg_generator.py:148: UserWarning: Any labeled images will be returned as a boolean array. Did you mean to use a boolean array?\n",
      "  region_labels = measure.label(morphology.remove_small_holes(seg, area_threshold=5, connectivity=1).astype(\"uint8\"), background=1)\n"
     ]
    },
    {
     "name": "stdout",
     "output_type": "stream",
     "text": [
      "1614 407\n",
      "7621\n",
      "259684 3547\n",
      "0493_OD\n"
     ]
    },
    {
     "name": "stderr",
     "output_type": "stream",
     "text": [
      "/home/alex_johannes/octa_gnn/OCTA_gnn/generator/heterograph_from_vvg_generator.py:148: UserWarning: Any labeled images will be returned as a boolean array. Did you mean to use a boolean array?\n",
      "  region_labels = measure.label(morphology.remove_small_holes(seg, area_threshold=5, connectivity=1).astype(\"uint8\"), background=1)\n"
     ]
    },
    {
     "name": "stdout",
     "output_type": "stream",
     "text": [
      "1082 252\n",
      "5898\n",
      "241715 2049\n",
      "0493_OS\n"
     ]
    },
    {
     "name": "stderr",
     "output_type": "stream",
     "text": [
      "/home/alex_johannes/octa_gnn/OCTA_gnn/generator/heterograph_from_vvg_generator.py:148: UserWarning: Any labeled images will be returned as a boolean array. Did you mean to use a boolean array?\n",
      "  region_labels = measure.label(morphology.remove_small_holes(seg, area_threshold=5, connectivity=1).astype(\"uint8\"), background=1)\n"
     ]
    },
    {
     "name": "stdout",
     "output_type": "stream",
     "text": [
      "795 149\n",
      "4588\n",
      "202750 1408\n",
      "0494_OS\n"
     ]
    },
    {
     "name": "stderr",
     "output_type": "stream",
     "text": [
      "/home/alex_johannes/octa_gnn/OCTA_gnn/generator/heterograph_from_vvg_generator.py:148: UserWarning: Any labeled images will be returned as a boolean array. Did you mean to use a boolean array?\n",
      "  region_labels = measure.label(morphology.remove_small_holes(seg, area_threshold=5, connectivity=1).astype(\"uint8\"), background=1)\n"
     ]
    },
    {
     "name": "stdout",
     "output_type": "stream",
     "text": [
      "923 194\n",
      "5204\n",
      "231621 1551\n",
      "0321_OS\n"
     ]
    },
    {
     "name": "stderr",
     "output_type": "stream",
     "text": [
      "/home/alex_johannes/octa_gnn/OCTA_gnn/generator/heterograph_from_vvg_generator.py:148: UserWarning: Any labeled images will be returned as a boolean array. Did you mean to use a boolean array?\n",
      "  region_labels = measure.label(morphology.remove_small_holes(seg, area_threshold=5, connectivity=1).astype(\"uint8\"), background=1)\n"
     ]
    },
    {
     "name": "stdout",
     "output_type": "stream",
     "text": [
      "1599 412\n",
      "8062\n",
      "258427 3344\n",
      "0322_OS\n"
     ]
    },
    {
     "name": "stderr",
     "output_type": "stream",
     "text": [
      "/home/alex_johannes/octa_gnn/OCTA_gnn/generator/heterograph_from_vvg_generator.py:148: UserWarning: Any labeled images will be returned as a boolean array. Did you mean to use a boolean array?\n",
      "  region_labels = measure.label(morphology.remove_small_holes(seg, area_threshold=5, connectivity=1).astype(\"uint8\"), background=1)\n"
     ]
    },
    {
     "name": "stdout",
     "output_type": "stream",
     "text": [
      "1136 280\n",
      "5839\n",
      "227659 3236\n",
      "0323_OD\n"
     ]
    },
    {
     "name": "stderr",
     "output_type": "stream",
     "text": [
      "/home/alex_johannes/octa_gnn/OCTA_gnn/generator/heterograph_from_vvg_generator.py:148: UserWarning: Any labeled images will be returned as a boolean array. Did you mean to use a boolean array?\n",
      "  region_labels = measure.label(morphology.remove_small_holes(seg, area_threshold=5, connectivity=1).astype(\"uint8\"), background=1)\n"
     ]
    },
    {
     "name": "stdout",
     "output_type": "stream",
     "text": [
      "1381 398\n",
      "7205\n",
      "243311 3690\n",
      "0324_OD\n"
     ]
    },
    {
     "name": "stderr",
     "output_type": "stream",
     "text": [
      "/home/alex_johannes/octa_gnn/OCTA_gnn/generator/heterograph_from_vvg_generator.py:148: UserWarning: Any labeled images will be returned as a boolean array. Did you mean to use a boolean array?\n",
      "  region_labels = measure.label(morphology.remove_small_holes(seg, area_threshold=5, connectivity=1).astype(\"uint8\"), background=1)\n"
     ]
    },
    {
     "name": "stdout",
     "output_type": "stream",
     "text": [
      "1071 225\n",
      "5801\n",
      "234198 2371\n",
      "0324_OS\n"
     ]
    },
    {
     "name": "stderr",
     "output_type": "stream",
     "text": [
      "/home/alex_johannes/octa_gnn/OCTA_gnn/generator/heterograph_from_vvg_generator.py:148: UserWarning: Any labeled images will be returned as a boolean array. Did you mean to use a boolean array?\n",
      "  region_labels = measure.label(morphology.remove_small_holes(seg, area_threshold=5, connectivity=1).astype(\"uint8\"), background=1)\n"
     ]
    },
    {
     "name": "stdout",
     "output_type": "stream",
     "text": [
      "1337 338\n",
      "6688\n",
      "232365 2987\n",
      "0325_OD\n"
     ]
    },
    {
     "name": "stderr",
     "output_type": "stream",
     "text": [
      "/home/alex_johannes/octa_gnn/OCTA_gnn/generator/heterograph_from_vvg_generator.py:148: UserWarning: Any labeled images will be returned as a boolean array. Did you mean to use a boolean array?\n",
      "  region_labels = measure.label(morphology.remove_small_holes(seg, area_threshold=5, connectivity=1).astype(\"uint8\"), background=1)\n"
     ]
    },
    {
     "name": "stdout",
     "output_type": "stream",
     "text": [
      "1535 322\n",
      "7390\n",
      "261187 2403\n",
      "0326_OD\n"
     ]
    },
    {
     "name": "stderr",
     "output_type": "stream",
     "text": [
      "/home/alex_johannes/octa_gnn/OCTA_gnn/generator/heterograph_from_vvg_generator.py:148: UserWarning: Any labeled images will be returned as a boolean array. Did you mean to use a boolean array?\n",
      "  region_labels = measure.label(morphology.remove_small_holes(seg, area_threshold=5, connectivity=1).astype(\"uint8\"), background=1)\n"
     ]
    },
    {
     "name": "stdout",
     "output_type": "stream",
     "text": [
      "1578 392\n",
      "7780\n",
      "263048 3555\n",
      "0327_OD\n"
     ]
    },
    {
     "name": "stderr",
     "output_type": "stream",
     "text": [
      "/home/alex_johannes/octa_gnn/OCTA_gnn/generator/heterograph_from_vvg_generator.py:148: UserWarning: Any labeled images will be returned as a boolean array. Did you mean to use a boolean array?\n",
      "  region_labels = measure.label(morphology.remove_small_holes(seg, area_threshold=5, connectivity=1).astype(\"uint8\"), background=1)\n"
     ]
    },
    {
     "name": "stdout",
     "output_type": "stream",
     "text": [
      "1816 383\n",
      "8542\n",
      "270463 3790\n",
      "0328_OS\n"
     ]
    },
    {
     "name": "stderr",
     "output_type": "stream",
     "text": [
      "/home/alex_johannes/octa_gnn/OCTA_gnn/generator/heterograph_from_vvg_generator.py:148: UserWarning: Any labeled images will be returned as a boolean array. Did you mean to use a boolean array?\n",
      "  region_labels = measure.label(morphology.remove_small_holes(seg, area_threshold=5, connectivity=1).astype(\"uint8\"), background=1)\n"
     ]
    },
    {
     "name": "stdout",
     "output_type": "stream",
     "text": [
      "1264 246\n",
      "6571\n",
      "252289 2197\n",
      "0329_OD\n"
     ]
    },
    {
     "name": "stderr",
     "output_type": "stream",
     "text": [
      "/home/alex_johannes/octa_gnn/OCTA_gnn/generator/heterograph_from_vvg_generator.py:148: UserWarning: Any labeled images will be returned as a boolean array. Did you mean to use a boolean array?\n",
      "  region_labels = measure.label(morphology.remove_small_holes(seg, area_threshold=5, connectivity=1).astype(\"uint8\"), background=1)\n"
     ]
    },
    {
     "name": "stdout",
     "output_type": "stream",
     "text": [
      "675 157\n",
      "4097\n",
      "195396 1424\n",
      "0329_OS\n"
     ]
    },
    {
     "name": "stderr",
     "output_type": "stream",
     "text": [
      "/home/alex_johannes/octa_gnn/OCTA_gnn/generator/heterograph_from_vvg_generator.py:148: UserWarning: Any labeled images will be returned as a boolean array. Did you mean to use a boolean array?\n",
      "  region_labels = measure.label(morphology.remove_small_holes(seg, area_threshold=5, connectivity=1).astype(\"uint8\"), background=1)\n"
     ]
    },
    {
     "name": "stdout",
     "output_type": "stream",
     "text": [
      "528 114\n",
      "3363\n",
      "174742 1377\n",
      "0330_OD\n"
     ]
    },
    {
     "name": "stderr",
     "output_type": "stream",
     "text": [
      "/home/alex_johannes/octa_gnn/OCTA_gnn/generator/heterograph_from_vvg_generator.py:148: UserWarning: Any labeled images will be returned as a boolean array. Did you mean to use a boolean array?\n",
      "  region_labels = measure.label(morphology.remove_small_holes(seg, area_threshold=5, connectivity=1).astype(\"uint8\"), background=1)\n"
     ]
    },
    {
     "name": "stdout",
     "output_type": "stream",
     "text": [
      "1819 357\n",
      "8625\n",
      "284200 2445\n",
      "0331_OS\n"
     ]
    },
    {
     "name": "stderr",
     "output_type": "stream",
     "text": [
      "/home/alex_johannes/octa_gnn/OCTA_gnn/generator/heterograph_from_vvg_generator.py:148: UserWarning: Any labeled images will be returned as a boolean array. Did you mean to use a boolean array?\n",
      "  region_labels = measure.label(morphology.remove_small_holes(seg, area_threshold=5, connectivity=1).astype(\"uint8\"), background=1)\n"
     ]
    },
    {
     "name": "stdout",
     "output_type": "stream",
     "text": [
      "1780 405\n",
      "8376\n",
      "271281 2939\n",
      "0332_OS\n"
     ]
    },
    {
     "name": "stderr",
     "output_type": "stream",
     "text": [
      "/home/alex_johannes/octa_gnn/OCTA_gnn/generator/heterograph_from_vvg_generator.py:148: UserWarning: Any labeled images will be returned as a boolean array. Did you mean to use a boolean array?\n",
      "  region_labels = measure.label(morphology.remove_small_holes(seg, area_threshold=5, connectivity=1).astype(\"uint8\"), background=1)\n"
     ]
    },
    {
     "name": "stdout",
     "output_type": "stream",
     "text": [
      "1733 439\n",
      "8219\n",
      "263610 3811\n",
      "0333_OS\n"
     ]
    },
    {
     "name": "stderr",
     "output_type": "stream",
     "text": [
      "/home/alex_johannes/octa_gnn/OCTA_gnn/generator/heterograph_from_vvg_generator.py:148: UserWarning: Any labeled images will be returned as a boolean array. Did you mean to use a boolean array?\n",
      "  region_labels = measure.label(morphology.remove_small_holes(seg, area_threshold=5, connectivity=1).astype(\"uint8\"), background=1)\n"
     ]
    },
    {
     "name": "stdout",
     "output_type": "stream",
     "text": [
      "1585 398\n",
      "7385\n",
      "245786 4392\n",
      "0334_OD\n"
     ]
    },
    {
     "name": "stderr",
     "output_type": "stream",
     "text": [
      "/home/alex_johannes/octa_gnn/OCTA_gnn/generator/heterograph_from_vvg_generator.py:148: UserWarning: Any labeled images will be returned as a boolean array. Did you mean to use a boolean array?\n",
      "  region_labels = measure.label(morphology.remove_small_holes(seg, area_threshold=5, connectivity=1).astype(\"uint8\"), background=1)\n"
     ]
    },
    {
     "name": "stdout",
     "output_type": "stream",
     "text": [
      "1889 459\n",
      "8442\n",
      "261647 4108\n",
      "0334_OS\n"
     ]
    },
    {
     "name": "stderr",
     "output_type": "stream",
     "text": [
      "/home/alex_johannes/octa_gnn/OCTA_gnn/generator/heterograph_from_vvg_generator.py:148: UserWarning: Any labeled images will be returned as a boolean array. Did you mean to use a boolean array?\n",
      "  region_labels = measure.label(morphology.remove_small_holes(seg, area_threshold=5, connectivity=1).astype(\"uint8\"), background=1)\n"
     ]
    },
    {
     "name": "stdout",
     "output_type": "stream",
     "text": [
      "1858 442\n",
      "8432\n",
      "263569 3250\n",
      "0335_OD\n"
     ]
    },
    {
     "name": "stderr",
     "output_type": "stream",
     "text": [
      "/home/alex_johannes/octa_gnn/OCTA_gnn/generator/heterograph_from_vvg_generator.py:148: UserWarning: Any labeled images will be returned as a boolean array. Did you mean to use a boolean array?\n",
      "  region_labels = measure.label(morphology.remove_small_holes(seg, area_threshold=5, connectivity=1).astype(\"uint8\"), background=1)\n"
     ]
    },
    {
     "name": "stdout",
     "output_type": "stream",
     "text": [
      "1152 258\n",
      "6105\n",
      "234794 2612\n",
      "0336_OS\n"
     ]
    },
    {
     "name": "stderr",
     "output_type": "stream",
     "text": [
      "/home/alex_johannes/octa_gnn/OCTA_gnn/generator/heterograph_from_vvg_generator.py:148: UserWarning: Any labeled images will be returned as a boolean array. Did you mean to use a boolean array?\n",
      "  region_labels = measure.label(morphology.remove_small_holes(seg, area_threshold=5, connectivity=1).astype(\"uint8\"), background=1)\n"
     ]
    },
    {
     "name": "stdout",
     "output_type": "stream",
     "text": [
      "1439 392\n",
      "7467\n",
      "249294 3067\n",
      "0337_OD\n"
     ]
    },
    {
     "name": "stderr",
     "output_type": "stream",
     "text": [
      "/home/alex_johannes/octa_gnn/OCTA_gnn/generator/heterograph_from_vvg_generator.py:148: UserWarning: Any labeled images will be returned as a boolean array. Did you mean to use a boolean array?\n",
      "  region_labels = measure.label(morphology.remove_small_holes(seg, area_threshold=5, connectivity=1).astype(\"uint8\"), background=1)\n"
     ]
    },
    {
     "name": "stdout",
     "output_type": "stream",
     "text": [
      "1226 306\n",
      "6391\n",
      "231905 3471\n",
      "0338_OD\n"
     ]
    },
    {
     "name": "stderr",
     "output_type": "stream",
     "text": [
      "/home/alex_johannes/octa_gnn/OCTA_gnn/generator/heterograph_from_vvg_generator.py:148: UserWarning: Any labeled images will be returned as a boolean array. Did you mean to use a boolean array?\n",
      "  region_labels = measure.label(morphology.remove_small_holes(seg, area_threshold=5, connectivity=1).astype(\"uint8\"), background=1)\n"
     ]
    },
    {
     "name": "stdout",
     "output_type": "stream",
     "text": [
      "275 65\n",
      "1929\n",
      "128300 1016\n",
      "0338_OS\n"
     ]
    },
    {
     "name": "stderr",
     "output_type": "stream",
     "text": [
      "/home/alex_johannes/octa_gnn/OCTA_gnn/generator/heterograph_from_vvg_generator.py:148: UserWarning: Any labeled images will be returned as a boolean array. Did you mean to use a boolean array?\n",
      "  region_labels = measure.label(morphology.remove_small_holes(seg, area_threshold=5, connectivity=1).astype(\"uint8\"), background=1)\n"
     ]
    },
    {
     "name": "stdout",
     "output_type": "stream",
     "text": [
      "1459 375\n",
      "6914\n",
      "237842 3325\n",
      "0339_OD\n"
     ]
    },
    {
     "name": "stderr",
     "output_type": "stream",
     "text": [
      "/home/alex_johannes/octa_gnn/OCTA_gnn/generator/heterograph_from_vvg_generator.py:148: UserWarning: Any labeled images will be returned as a boolean array. Did you mean to use a boolean array?\n",
      "  region_labels = measure.label(morphology.remove_small_holes(seg, area_threshold=5, connectivity=1).astype(\"uint8\"), background=1)\n"
     ]
    },
    {
     "name": "stdout",
     "output_type": "stream",
     "text": [
      "669 125\n",
      "4014\n",
      "211250 1020\n",
      "0340_OS\n"
     ]
    },
    {
     "name": "stderr",
     "output_type": "stream",
     "text": [
      "/home/alex_johannes/octa_gnn/OCTA_gnn/generator/heterograph_from_vvg_generator.py:148: UserWarning: Any labeled images will be returned as a boolean array. Did you mean to use a boolean array?\n",
      "  region_labels = measure.label(morphology.remove_small_holes(seg, area_threshold=5, connectivity=1).astype(\"uint8\"), background=1)\n"
     ]
    },
    {
     "name": "stdout",
     "output_type": "stream",
     "text": [
      "1291 287\n",
      "6282\n",
      "251809 2330\n",
      "0341_OD\n"
     ]
    },
    {
     "name": "stderr",
     "output_type": "stream",
     "text": [
      "/home/alex_johannes/octa_gnn/OCTA_gnn/generator/heterograph_from_vvg_generator.py:148: UserWarning: Any labeled images will be returned as a boolean array. Did you mean to use a boolean array?\n",
      "  region_labels = measure.label(morphology.remove_small_holes(seg, area_threshold=5, connectivity=1).astype(\"uint8\"), background=1)\n"
     ]
    },
    {
     "name": "stdout",
     "output_type": "stream",
     "text": [
      "1722 368\n",
      "7939\n",
      "267023 2987\n",
      "0342_OS\n"
     ]
    },
    {
     "name": "stderr",
     "output_type": "stream",
     "text": [
      "/home/alex_johannes/octa_gnn/OCTA_gnn/generator/heterograph_from_vvg_generator.py:148: UserWarning: Any labeled images will be returned as a boolean array. Did you mean to use a boolean array?\n",
      "  region_labels = measure.label(morphology.remove_small_holes(seg, area_threshold=5, connectivity=1).astype(\"uint8\"), background=1)\n"
     ]
    },
    {
     "name": "stdout",
     "output_type": "stream",
     "text": [
      "1987 515\n",
      "8844\n",
      "262083 4683\n",
      "0716_OD\n"
     ]
    },
    {
     "name": "stderr",
     "output_type": "stream",
     "text": [
      "/home/alex_johannes/octa_gnn/OCTA_gnn/generator/heterograph_from_vvg_generator.py:148: UserWarning: Any labeled images will be returned as a boolean array. Did you mean to use a boolean array?\n",
      "  region_labels = measure.label(morphology.remove_small_holes(seg, area_threshold=5, connectivity=1).astype(\"uint8\"), background=1)\n"
     ]
    },
    {
     "name": "stdout",
     "output_type": "stream",
     "text": [
      "2026 504\n",
      "9155\n",
      "281258 3718\n",
      "0716_OS\n"
     ]
    },
    {
     "name": "stderr",
     "output_type": "stream",
     "text": [
      "/home/alex_johannes/octa_gnn/OCTA_gnn/generator/heterograph_from_vvg_generator.py:148: UserWarning: Any labeled images will be returned as a boolean array. Did you mean to use a boolean array?\n",
      "  region_labels = measure.label(morphology.remove_small_holes(seg, area_threshold=5, connectivity=1).astype(\"uint8\"), background=1)\n"
     ]
    },
    {
     "name": "stdout",
     "output_type": "stream",
     "text": [
      "1949 471\n",
      "9011\n",
      "276381 3325\n",
      "0717_OD\n"
     ]
    },
    {
     "name": "stderr",
     "output_type": "stream",
     "text": [
      "/home/alex_johannes/octa_gnn/OCTA_gnn/generator/heterograph_from_vvg_generator.py:148: UserWarning: Any labeled images will be returned as a boolean array. Did you mean to use a boolean array?\n",
      "  region_labels = measure.label(morphology.remove_small_holes(seg, area_threshold=5, connectivity=1).astype(\"uint8\"), background=1)\n"
     ]
    },
    {
     "name": "stdout",
     "output_type": "stream",
     "text": [
      "503 95\n",
      "3077\n",
      "169707 1263\n",
      "0718_OD\n"
     ]
    },
    {
     "name": "stderr",
     "output_type": "stream",
     "text": [
      "/home/alex_johannes/octa_gnn/OCTA_gnn/generator/heterograph_from_vvg_generator.py:148: UserWarning: Any labeled images will be returned as a boolean array. Did you mean to use a boolean array?\n",
      "  region_labels = measure.label(morphology.remove_small_holes(seg, area_threshold=5, connectivity=1).astype(\"uint8\"), background=1)\n"
     ]
    },
    {
     "name": "stdout",
     "output_type": "stream",
     "text": [
      "534 100\n",
      "3241\n",
      "192601 942\n",
      "0719_OD\n"
     ]
    },
    {
     "name": "stderr",
     "output_type": "stream",
     "text": [
      "/home/alex_johannes/octa_gnn/OCTA_gnn/generator/heterograph_from_vvg_generator.py:148: UserWarning: Any labeled images will be returned as a boolean array. Did you mean to use a boolean array?\n",
      "  region_labels = measure.label(morphology.remove_small_holes(seg, area_threshold=5, connectivity=1).astype(\"uint8\"), background=1)\n"
     ]
    },
    {
     "name": "stdout",
     "output_type": "stream",
     "text": [
      "1012 232\n",
      "5703\n",
      "224674 2456\n",
      "0719_OS\n"
     ]
    },
    {
     "name": "stderr",
     "output_type": "stream",
     "text": [
      "/home/alex_johannes/octa_gnn/OCTA_gnn/generator/heterograph_from_vvg_generator.py:148: UserWarning: Any labeled images will be returned as a boolean array. Did you mean to use a boolean array?\n",
      "  region_labels = measure.label(morphology.remove_small_holes(seg, area_threshold=5, connectivity=1).astype(\"uint8\"), background=1)\n"
     ]
    },
    {
     "name": "stdout",
     "output_type": "stream",
     "text": [
      "527 126\n",
      "3475\n",
      "179867 820\n",
      "0720_OD\n"
     ]
    },
    {
     "name": "stderr",
     "output_type": "stream",
     "text": [
      "/home/alex_johannes/octa_gnn/OCTA_gnn/generator/heterograph_from_vvg_generator.py:148: UserWarning: Any labeled images will be returned as a boolean array. Did you mean to use a boolean array?\n",
      "  region_labels = measure.label(morphology.remove_small_holes(seg, area_threshold=5, connectivity=1).astype(\"uint8\"), background=1)\n"
     ]
    },
    {
     "name": "stdout",
     "output_type": "stream",
     "text": [
      "1874 410\n",
      "8739\n",
      "284197 2893\n",
      "0721_OD\n"
     ]
    },
    {
     "name": "stderr",
     "output_type": "stream",
     "text": [
      "/home/alex_johannes/octa_gnn/OCTA_gnn/generator/heterograph_from_vvg_generator.py:148: UserWarning: Any labeled images will be returned as a boolean array. Did you mean to use a boolean array?\n",
      "  region_labels = measure.label(morphology.remove_small_holes(seg, area_threshold=5, connectivity=1).astype(\"uint8\"), background=1)\n"
     ]
    },
    {
     "name": "stdout",
     "output_type": "stream",
     "text": [
      "1703 397\n",
      "8026\n",
      "266437 3557\n",
      "0721_OS\n"
     ]
    },
    {
     "name": "stderr",
     "output_type": "stream",
     "text": [
      "/home/alex_johannes/octa_gnn/OCTA_gnn/generator/heterograph_from_vvg_generator.py:148: UserWarning: Any labeled images will be returned as a boolean array. Did you mean to use a boolean array?\n",
      "  region_labels = measure.label(morphology.remove_small_holes(seg, area_threshold=5, connectivity=1).astype(\"uint8\"), background=1)\n"
     ]
    },
    {
     "name": "stdout",
     "output_type": "stream",
     "text": [
      "1892 405\n",
      "8527\n",
      "264904 3730\n",
      "0722_OD\n"
     ]
    },
    {
     "name": "stderr",
     "output_type": "stream",
     "text": [
      "/home/alex_johannes/octa_gnn/OCTA_gnn/generator/heterograph_from_vvg_generator.py:148: UserWarning: Any labeled images will be returned as a boolean array. Did you mean to use a boolean array?\n",
      "  region_labels = measure.label(morphology.remove_small_holes(seg, area_threshold=5, connectivity=1).astype(\"uint8\"), background=1)\n"
     ]
    },
    {
     "name": "stdout",
     "output_type": "stream",
     "text": [
      "1869 444\n",
      "8445\n",
      "262450 3505\n",
      "0722_OS\n"
     ]
    },
    {
     "name": "stderr",
     "output_type": "stream",
     "text": [
      "/home/alex_johannes/octa_gnn/OCTA_gnn/generator/heterograph_from_vvg_generator.py:148: UserWarning: Any labeled images will be returned as a boolean array. Did you mean to use a boolean array?\n",
      "  region_labels = measure.label(morphology.remove_small_holes(seg, area_threshold=5, connectivity=1).astype(\"uint8\"), background=1)\n"
     ]
    },
    {
     "name": "stdout",
     "output_type": "stream",
     "text": [
      "1999 403\n",
      "8901\n",
      "270014 2927\n",
      "0723_OD\n"
     ]
    },
    {
     "name": "stderr",
     "output_type": "stream",
     "text": [
      "/home/alex_johannes/octa_gnn/OCTA_gnn/generator/heterograph_from_vvg_generator.py:148: UserWarning: Any labeled images will be returned as a boolean array. Did you mean to use a boolean array?\n",
      "  region_labels = measure.label(morphology.remove_small_holes(seg, area_threshold=5, connectivity=1).astype(\"uint8\"), background=1)\n"
     ]
    },
    {
     "name": "stdout",
     "output_type": "stream",
     "text": [
      "1800 403\n",
      "8537\n",
      "272215 3111\n",
      "0723_OS\n"
     ]
    },
    {
     "name": "stderr",
     "output_type": "stream",
     "text": [
      "/home/alex_johannes/octa_gnn/OCTA_gnn/generator/heterograph_from_vvg_generator.py:148: UserWarning: Any labeled images will be returned as a boolean array. Did you mean to use a boolean array?\n",
      "  region_labels = measure.label(morphology.remove_small_holes(seg, area_threshold=5, connectivity=1).astype(\"uint8\"), background=1)\n"
     ]
    },
    {
     "name": "stdout",
     "output_type": "stream",
     "text": [
      "1913 436\n",
      "8880\n",
      "280875 3074\n",
      "0724_OD\n"
     ]
    },
    {
     "name": "stderr",
     "output_type": "stream",
     "text": [
      "/home/alex_johannes/octa_gnn/OCTA_gnn/generator/heterograph_from_vvg_generator.py:148: UserWarning: Any labeled images will be returned as a boolean array. Did you mean to use a boolean array?\n",
      "  region_labels = measure.label(morphology.remove_small_holes(seg, area_threshold=5, connectivity=1).astype(\"uint8\"), background=1)\n"
     ]
    },
    {
     "name": "stdout",
     "output_type": "stream",
     "text": [
      "1293 289\n",
      "6766\n",
      "253555 2624\n",
      "0725_OS\n"
     ]
    },
    {
     "name": "stderr",
     "output_type": "stream",
     "text": [
      "/home/alex_johannes/octa_gnn/OCTA_gnn/generator/heterograph_from_vvg_generator.py:148: UserWarning: Any labeled images will be returned as a boolean array. Did you mean to use a boolean array?\n",
      "  region_labels = measure.label(morphology.remove_small_holes(seg, area_threshold=5, connectivity=1).astype(\"uint8\"), background=1)\n"
     ]
    },
    {
     "name": "stdout",
     "output_type": "stream",
     "text": [
      "1562 383\n",
      "7471\n",
      "248447 3974\n",
      "0726_OS\n"
     ]
    },
    {
     "name": "stderr",
     "output_type": "stream",
     "text": [
      "/home/alex_johannes/octa_gnn/OCTA_gnn/generator/heterograph_from_vvg_generator.py:148: UserWarning: Any labeled images will be returned as a boolean array. Did you mean to use a boolean array?\n",
      "  region_labels = measure.label(morphology.remove_small_holes(seg, area_threshold=5, connectivity=1).astype(\"uint8\"), background=1)\n"
     ]
    },
    {
     "name": "stdout",
     "output_type": "stream",
     "text": [
      "1747 460\n",
      "8258\n",
      "264178 4044\n",
      "0727_OS\n"
     ]
    },
    {
     "name": "stderr",
     "output_type": "stream",
     "text": [
      "/home/alex_johannes/octa_gnn/OCTA_gnn/generator/heterograph_from_vvg_generator.py:148: UserWarning: Any labeled images will be returned as a boolean array. Did you mean to use a boolean array?\n",
      "  region_labels = measure.label(morphology.remove_small_holes(seg, area_threshold=5, connectivity=1).astype(\"uint8\"), background=1)\n"
     ]
    },
    {
     "name": "stdout",
     "output_type": "stream",
     "text": [
      "461 75\n",
      "2957\n",
      "191308 700\n",
      "0728_OS\n"
     ]
    },
    {
     "name": "stderr",
     "output_type": "stream",
     "text": [
      "/home/alex_johannes/octa_gnn/OCTA_gnn/generator/heterograph_from_vvg_generator.py:148: UserWarning: Any labeled images will be returned as a boolean array. Did you mean to use a boolean array?\n",
      "  region_labels = measure.label(morphology.remove_small_holes(seg, area_threshold=5, connectivity=1).astype(\"uint8\"), background=1)\n"
     ]
    },
    {
     "name": "stdout",
     "output_type": "stream",
     "text": [
      "1186 294\n",
      "6181\n",
      "243155 2434\n",
      "0729_OD\n"
     ]
    },
    {
     "name": "stderr",
     "output_type": "stream",
     "text": [
      "/home/alex_johannes/octa_gnn/OCTA_gnn/generator/heterograph_from_vvg_generator.py:148: UserWarning: Any labeled images will be returned as a boolean array. Did you mean to use a boolean array?\n",
      "  region_labels = measure.label(morphology.remove_small_holes(seg, area_threshold=5, connectivity=1).astype(\"uint8\"), background=1)\n"
     ]
    },
    {
     "name": "stdout",
     "output_type": "stream",
     "text": [
      "798 206\n",
      "4794\n",
      "208328 1954\n",
      "0729_OS\n"
     ]
    },
    {
     "name": "stderr",
     "output_type": "stream",
     "text": [
      "/home/alex_johannes/octa_gnn/OCTA_gnn/generator/heterograph_from_vvg_generator.py:148: UserWarning: Any labeled images will be returned as a boolean array. Did you mean to use a boolean array?\n",
      "  region_labels = measure.label(morphology.remove_small_holes(seg, area_threshold=5, connectivity=1).astype(\"uint8\"), background=1)\n"
     ]
    },
    {
     "name": "stdout",
     "output_type": "stream",
     "text": [
      "1399 296\n",
      "7148\n",
      "259936 2483\n",
      "0730_OD\n"
     ]
    },
    {
     "name": "stderr",
     "output_type": "stream",
     "text": [
      "/home/alex_johannes/octa_gnn/OCTA_gnn/generator/heterograph_from_vvg_generator.py:148: UserWarning: Any labeled images will be returned as a boolean array. Did you mean to use a boolean array?\n",
      "  region_labels = measure.label(morphology.remove_small_holes(seg, area_threshold=5, connectivity=1).astype(\"uint8\"), background=1)\n"
     ]
    },
    {
     "name": "stdout",
     "output_type": "stream",
     "text": [
      "1134 313\n",
      "5785\n",
      "222462 3068\n",
      "0730_OS\n"
     ]
    },
    {
     "name": "stderr",
     "output_type": "stream",
     "text": [
      "/home/alex_johannes/octa_gnn/OCTA_gnn/generator/heterograph_from_vvg_generator.py:148: UserWarning: Any labeled images will be returned as a boolean array. Did you mean to use a boolean array?\n",
      "  region_labels = measure.label(morphology.remove_small_holes(seg, area_threshold=5, connectivity=1).astype(\"uint8\"), background=1)\n"
     ]
    },
    {
     "name": "stdout",
     "output_type": "stream",
     "text": [
      "953 204\n",
      "5065\n",
      "219711 1777\n",
      "0731_OD\n"
     ]
    },
    {
     "name": "stderr",
     "output_type": "stream",
     "text": [
      "/home/alex_johannes/octa_gnn/OCTA_gnn/generator/heterograph_from_vvg_generator.py:148: UserWarning: Any labeled images will be returned as a boolean array. Did you mean to use a boolean array?\n",
      "  region_labels = measure.label(morphology.remove_small_holes(seg, area_threshold=5, connectivity=1).astype(\"uint8\"), background=1)\n"
     ]
    },
    {
     "name": "stdout",
     "output_type": "stream",
     "text": [
      "1445 387\n",
      "7436\n",
      "260629 3602\n",
      "0731_OS\n"
     ]
    },
    {
     "name": "stderr",
     "output_type": "stream",
     "text": [
      "/home/alex_johannes/octa_gnn/OCTA_gnn/generator/heterograph_from_vvg_generator.py:148: UserWarning: Any labeled images will be returned as a boolean array. Did you mean to use a boolean array?\n",
      "  region_labels = measure.label(morphology.remove_small_holes(seg, area_threshold=5, connectivity=1).astype(\"uint8\"), background=1)\n"
     ]
    },
    {
     "name": "stdout",
     "output_type": "stream",
     "text": [
      "1650 392\n",
      "8098\n",
      "266076 3469\n",
      "0732_OS\n"
     ]
    },
    {
     "name": "stderr",
     "output_type": "stream",
     "text": [
      "/home/alex_johannes/octa_gnn/OCTA_gnn/generator/heterograph_from_vvg_generator.py:148: UserWarning: Any labeled images will be returned as a boolean array. Did you mean to use a boolean array?\n",
      "  region_labels = measure.label(morphology.remove_small_holes(seg, area_threshold=5, connectivity=1).astype(\"uint8\"), background=1)\n"
     ]
    },
    {
     "name": "stdout",
     "output_type": "stream",
     "text": [
      "542 139\n",
      "3312\n",
      "170322 1631\n",
      "0733_OD\n"
     ]
    },
    {
     "name": "stderr",
     "output_type": "stream",
     "text": [
      "/home/alex_johannes/octa_gnn/OCTA_gnn/generator/heterograph_from_vvg_generator.py:148: UserWarning: Any labeled images will be returned as a boolean array. Did you mean to use a boolean array?\n",
      "  region_labels = measure.label(morphology.remove_small_holes(seg, area_threshold=5, connectivity=1).astype(\"uint8\"), background=1)\n"
     ]
    },
    {
     "name": "stdout",
     "output_type": "stream",
     "text": [
      "2160 521\n",
      "9587\n",
      "282191 4111\n",
      "0734_OD\n"
     ]
    },
    {
     "name": "stderr",
     "output_type": "stream",
     "text": [
      "/home/alex_johannes/octa_gnn/OCTA_gnn/generator/heterograph_from_vvg_generator.py:148: UserWarning: Any labeled images will be returned as a boolean array. Did you mean to use a boolean array?\n",
      "  region_labels = measure.label(morphology.remove_small_holes(seg, area_threshold=5, connectivity=1).astype(\"uint8\"), background=1)\n"
     ]
    },
    {
     "name": "stdout",
     "output_type": "stream",
     "text": [
      "2219 495\n",
      "9822\n",
      "284109 3904\n",
      "0734_OS\n"
     ]
    },
    {
     "name": "stderr",
     "output_type": "stream",
     "text": [
      "/home/alex_johannes/octa_gnn/OCTA_gnn/generator/heterograph_from_vvg_generator.py:148: UserWarning: Any labeled images will be returned as a boolean array. Did you mean to use a boolean array?\n",
      "  region_labels = measure.label(morphology.remove_small_holes(seg, area_threshold=5, connectivity=1).astype(\"uint8\"), background=1)\n"
     ]
    },
    {
     "name": "stdout",
     "output_type": "stream",
     "text": [
      "2218 521\n",
      "9800\n",
      "281522 3742\n",
      "0735_OS\n"
     ]
    },
    {
     "name": "stderr",
     "output_type": "stream",
     "text": [
      "/home/alex_johannes/octa_gnn/OCTA_gnn/generator/heterograph_from_vvg_generator.py:148: UserWarning: Any labeled images will be returned as a boolean array. Did you mean to use a boolean array?\n",
      "  region_labels = measure.label(morphology.remove_small_holes(seg, area_threshold=5, connectivity=1).astype(\"uint8\"), background=1)\n"
     ]
    },
    {
     "name": "stdout",
     "output_type": "stream",
     "text": [
      "1261 350\n",
      "6494\n",
      "237206 2987\n",
      "0736_OD\n"
     ]
    },
    {
     "name": "stderr",
     "output_type": "stream",
     "text": [
      "/home/alex_johannes/octa_gnn/OCTA_gnn/generator/heterograph_from_vvg_generator.py:148: UserWarning: Any labeled images will be returned as a boolean array. Did you mean to use a boolean array?\n",
      "  region_labels = measure.label(morphology.remove_small_holes(seg, area_threshold=5, connectivity=1).astype(\"uint8\"), background=1)\n"
     ]
    },
    {
     "name": "stdout",
     "output_type": "stream",
     "text": [
      "599 135\n",
      "3643\n",
      "192847 1573\n",
      "0736_OS\n"
     ]
    },
    {
     "name": "stderr",
     "output_type": "stream",
     "text": [
      "/home/alex_johannes/octa_gnn/OCTA_gnn/generator/heterograph_from_vvg_generator.py:148: UserWarning: Any labeled images will be returned as a boolean array. Did you mean to use a boolean array?\n",
      "  region_labels = measure.label(morphology.remove_small_holes(seg, area_threshold=5, connectivity=1).astype(\"uint8\"), background=1)\n"
     ]
    },
    {
     "name": "stdout",
     "output_type": "stream",
     "text": [
      "597 124\n",
      "3695\n",
      "203309 1468\n",
      "0825_OS\n"
     ]
    },
    {
     "name": "stderr",
     "output_type": "stream",
     "text": [
      "/home/alex_johannes/octa_gnn/OCTA_gnn/generator/heterograph_from_vvg_generator.py:148: UserWarning: Any labeled images will be returned as a boolean array. Did you mean to use a boolean array?\n",
      "  region_labels = measure.label(morphology.remove_small_holes(seg, area_threshold=5, connectivity=1).astype(\"uint8\"), background=1)\n"
     ]
    },
    {
     "name": "stdout",
     "output_type": "stream",
     "text": [
      "2046 511\n",
      "9055\n",
      "267294 3631\n",
      "0826_OD\n"
     ]
    },
    {
     "name": "stderr",
     "output_type": "stream",
     "text": [
      "/home/alex_johannes/octa_gnn/OCTA_gnn/generator/heterograph_from_vvg_generator.py:148: UserWarning: Any labeled images will be returned as a boolean array. Did you mean to use a boolean array?\n",
      "  region_labels = measure.label(morphology.remove_small_holes(seg, area_threshold=5, connectivity=1).astype(\"uint8\"), background=1)\n"
     ]
    },
    {
     "name": "stdout",
     "output_type": "stream",
     "text": [
      "586 128\n",
      "3611\n",
      "200417 1379\n",
      "0826_OS\n"
     ]
    },
    {
     "name": "stderr",
     "output_type": "stream",
     "text": [
      "/home/alex_johannes/octa_gnn/OCTA_gnn/generator/heterograph_from_vvg_generator.py:148: UserWarning: Any labeled images will be returned as a boolean array. Did you mean to use a boolean array?\n",
      "  region_labels = measure.label(morphology.remove_small_holes(seg, area_threshold=5, connectivity=1).astype(\"uint8\"), background=1)\n"
     ]
    },
    {
     "name": "stdout",
     "output_type": "stream",
     "text": [
      "432 100\n",
      "2779\n",
      "171401 1205\n",
      "0827_OD\n"
     ]
    },
    {
     "name": "stderr",
     "output_type": "stream",
     "text": [
      "/home/alex_johannes/octa_gnn/OCTA_gnn/generator/heterograph_from_vvg_generator.py:148: UserWarning: Any labeled images will be returned as a boolean array. Did you mean to use a boolean array?\n",
      "  region_labels = measure.label(morphology.remove_small_holes(seg, area_threshold=5, connectivity=1).astype(\"uint8\"), background=1)\n"
     ]
    },
    {
     "name": "stdout",
     "output_type": "stream",
     "text": [
      "1575 347\n",
      "7423\n",
      "249854 3281\n",
      "0827_OS\n"
     ]
    },
    {
     "name": "stderr",
     "output_type": "stream",
     "text": [
      "/home/alex_johannes/octa_gnn/OCTA_gnn/generator/heterograph_from_vvg_generator.py:148: UserWarning: Any labeled images will be returned as a boolean array. Did you mean to use a boolean array?\n",
      "  region_labels = measure.label(morphology.remove_small_holes(seg, area_threshold=5, connectivity=1).astype(\"uint8\"), background=1)\n"
     ]
    },
    {
     "name": "stdout",
     "output_type": "stream",
     "text": [
      "1826 463\n",
      "8118\n",
      "249452 4134\n",
      "0828_OD\n"
     ]
    },
    {
     "name": "stderr",
     "output_type": "stream",
     "text": [
      "/home/alex_johannes/octa_gnn/OCTA_gnn/generator/heterograph_from_vvg_generator.py:148: UserWarning: Any labeled images will be returned as a boolean array. Did you mean to use a boolean array?\n",
      "  region_labels = measure.label(morphology.remove_small_holes(seg, area_threshold=5, connectivity=1).astype(\"uint8\"), background=1)\n"
     ]
    },
    {
     "name": "stdout",
     "output_type": "stream",
     "text": [
      "2100 510\n",
      "9318\n",
      "273880 4948\n",
      "0828_OS\n"
     ]
    },
    {
     "name": "stderr",
     "output_type": "stream",
     "text": [
      "/home/alex_johannes/octa_gnn/OCTA_gnn/generator/heterograph_from_vvg_generator.py:148: UserWarning: Any labeled images will be returned as a boolean array. Did you mean to use a boolean array?\n",
      "  region_labels = measure.label(morphology.remove_small_holes(seg, area_threshold=5, connectivity=1).astype(\"uint8\"), background=1)\n"
     ]
    },
    {
     "name": "stdout",
     "output_type": "stream",
     "text": [
      "2034 430\n",
      "9283\n",
      "276866 3650\n",
      "0829_OD\n"
     ]
    },
    {
     "name": "stderr",
     "output_type": "stream",
     "text": [
      "/home/alex_johannes/octa_gnn/OCTA_gnn/generator/heterograph_from_vvg_generator.py:148: UserWarning: Any labeled images will be returned as a boolean array. Did you mean to use a boolean array?\n",
      "  region_labels = measure.label(morphology.remove_small_holes(seg, area_threshold=5, connectivity=1).astype(\"uint8\"), background=1)\n"
     ]
    },
    {
     "name": "stdout",
     "output_type": "stream",
     "text": [
      "1757 409\n",
      "8490\n",
      "267319 3457\n",
      "0829_OS\n"
     ]
    },
    {
     "name": "stderr",
     "output_type": "stream",
     "text": [
      "/home/alex_johannes/octa_gnn/OCTA_gnn/generator/heterograph_from_vvg_generator.py:148: UserWarning: Any labeled images will be returned as a boolean array. Did you mean to use a boolean array?\n",
      "  region_labels = measure.label(morphology.remove_small_holes(seg, area_threshold=5, connectivity=1).astype(\"uint8\"), background=1)\n"
     ]
    },
    {
     "name": "stdout",
     "output_type": "stream",
     "text": [
      "1806 426\n",
      "8255\n",
      "262050 3247\n",
      "0830_OS\n"
     ]
    },
    {
     "name": "stderr",
     "output_type": "stream",
     "text": [
      "/home/alex_johannes/octa_gnn/OCTA_gnn/generator/heterograph_from_vvg_generator.py:148: UserWarning: Any labeled images will be returned as a boolean array. Did you mean to use a boolean array?\n",
      "  region_labels = measure.label(morphology.remove_small_holes(seg, area_threshold=5, connectivity=1).astype(\"uint8\"), background=1)\n"
     ]
    },
    {
     "name": "stdout",
     "output_type": "stream",
     "text": [
      "1856 449\n",
      "8488\n",
      "265918 3694\n",
      "0831_OD\n"
     ]
    },
    {
     "name": "stderr",
     "output_type": "stream",
     "text": [
      "/home/alex_johannes/octa_gnn/OCTA_gnn/generator/heterograph_from_vvg_generator.py:148: UserWarning: Any labeled images will be returned as a boolean array. Did you mean to use a boolean array?\n",
      "  region_labels = measure.label(morphology.remove_small_holes(seg, area_threshold=5, connectivity=1).astype(\"uint8\"), background=1)\n"
     ]
    },
    {
     "name": "stdout",
     "output_type": "stream",
     "text": [
      "614 143\n",
      "3792\n",
      "183914 1053\n",
      "0832_OD\n"
     ]
    },
    {
     "name": "stderr",
     "output_type": "stream",
     "text": [
      "/home/alex_johannes/octa_gnn/OCTA_gnn/generator/heterograph_from_vvg_generator.py:148: UserWarning: Any labeled images will be returned as a boolean array. Did you mean to use a boolean array?\n",
      "  region_labels = measure.label(morphology.remove_small_holes(seg, area_threshold=5, connectivity=1).astype(\"uint8\"), background=1)\n"
     ]
    },
    {
     "name": "stdout",
     "output_type": "stream",
     "text": [
      "1678 421\n",
      "8029\n",
      "266714 3929\n",
      "0833_OD\n"
     ]
    },
    {
     "name": "stderr",
     "output_type": "stream",
     "text": [
      "/home/alex_johannes/octa_gnn/OCTA_gnn/generator/heterograph_from_vvg_generator.py:148: UserWarning: Any labeled images will be returned as a boolean array. Did you mean to use a boolean array?\n",
      "  region_labels = measure.label(morphology.remove_small_holes(seg, area_threshold=5, connectivity=1).astype(\"uint8\"), background=1)\n"
     ]
    },
    {
     "name": "stdout",
     "output_type": "stream",
     "text": [
      "1846 455\n",
      "8529\n",
      "267248 3660\n",
      "0833_OS\n"
     ]
    },
    {
     "name": "stderr",
     "output_type": "stream",
     "text": [
      "/home/alex_johannes/octa_gnn/OCTA_gnn/generator/heterograph_from_vvg_generator.py:148: UserWarning: Any labeled images will be returned as a boolean array. Did you mean to use a boolean array?\n",
      "  region_labels = measure.label(morphology.remove_small_holes(seg, area_threshold=5, connectivity=1).astype(\"uint8\"), background=1)\n"
     ]
    },
    {
     "name": "stdout",
     "output_type": "stream",
     "text": [
      "1762 435\n",
      "8208\n",
      "268899 3420\n",
      "0834_OS\n"
     ]
    },
    {
     "name": "stderr",
     "output_type": "stream",
     "text": [
      "/home/alex_johannes/octa_gnn/OCTA_gnn/generator/heterograph_from_vvg_generator.py:148: UserWarning: Any labeled images will be returned as a boolean array. Did you mean to use a boolean array?\n",
      "  region_labels = measure.label(morphology.remove_small_holes(seg, area_threshold=5, connectivity=1).astype(\"uint8\"), background=1)\n"
     ]
    },
    {
     "name": "stdout",
     "output_type": "stream",
     "text": [
      "1576 371\n",
      "7688\n",
      "263534 2828\n",
      "0835_OD\n"
     ]
    },
    {
     "name": "stderr",
     "output_type": "stream",
     "text": [
      "/home/alex_johannes/octa_gnn/OCTA_gnn/generator/heterograph_from_vvg_generator.py:148: UserWarning: Any labeled images will be returned as a boolean array. Did you mean to use a boolean array?\n",
      "  region_labels = measure.label(morphology.remove_small_holes(seg, area_threshold=5, connectivity=1).astype(\"uint8\"), background=1)\n"
     ]
    },
    {
     "name": "stdout",
     "output_type": "stream",
     "text": [
      "1456 363\n",
      "7181\n",
      "249026 3246\n",
      "0835_OS\n"
     ]
    },
    {
     "name": "stderr",
     "output_type": "stream",
     "text": [
      "/home/alex_johannes/octa_gnn/OCTA_gnn/generator/heterograph_from_vvg_generator.py:148: UserWarning: Any labeled images will be returned as a boolean array. Did you mean to use a boolean array?\n",
      "  region_labels = measure.label(morphology.remove_small_holes(seg, area_threshold=5, connectivity=1).astype(\"uint8\"), background=1)\n"
     ]
    },
    {
     "name": "stdout",
     "output_type": "stream",
     "text": [
      "1223 286\n",
      "6414\n",
      "240922 2611\n",
      "0836_OD\n"
     ]
    },
    {
     "name": "stderr",
     "output_type": "stream",
     "text": [
      "/home/alex_johannes/octa_gnn/OCTA_gnn/generator/heterograph_from_vvg_generator.py:148: UserWarning: Any labeled images will be returned as a boolean array. Did you mean to use a boolean array?\n",
      "  region_labels = measure.label(morphology.remove_small_holes(seg, area_threshold=5, connectivity=1).astype(\"uint8\"), background=1)\n"
     ]
    },
    {
     "name": "stdout",
     "output_type": "stream",
     "text": [
      "1655 341\n",
      "8095\n",
      "272851 2841\n",
      "0836_OS\n"
     ]
    },
    {
     "name": "stderr",
     "output_type": "stream",
     "text": [
      "/home/alex_johannes/octa_gnn/OCTA_gnn/generator/heterograph_from_vvg_generator.py:148: UserWarning: Any labeled images will be returned as a boolean array. Did you mean to use a boolean array?\n",
      "  region_labels = measure.label(morphology.remove_small_holes(seg, area_threshold=5, connectivity=1).astype(\"uint8\"), background=1)\n"
     ]
    },
    {
     "name": "stdout",
     "output_type": "stream",
     "text": [
      "1689 379\n",
      "8153\n",
      "271904 3206\n",
      "0837_OD\n"
     ]
    },
    {
     "name": "stderr",
     "output_type": "stream",
     "text": [
      "/home/alex_johannes/octa_gnn/OCTA_gnn/generator/heterograph_from_vvg_generator.py:148: UserWarning: Any labeled images will be returned as a boolean array. Did you mean to use a boolean array?\n",
      "  region_labels = measure.label(morphology.remove_small_holes(seg, area_threshold=5, connectivity=1).astype(\"uint8\"), background=1)\n"
     ]
    },
    {
     "name": "stdout",
     "output_type": "stream",
     "text": [
      "785 195\n",
      "4535\n",
      "214615 1538\n",
      "0213_OD\n"
     ]
    },
    {
     "name": "stderr",
     "output_type": "stream",
     "text": [
      "/home/alex_johannes/octa_gnn/OCTA_gnn/generator/heterograph_from_vvg_generator.py:148: UserWarning: Any labeled images will be returned as a boolean array. Did you mean to use a boolean array?\n",
      "  region_labels = measure.label(morphology.remove_small_holes(seg, area_threshold=5, connectivity=1).astype(\"uint8\"), background=1)\n"
     ]
    },
    {
     "name": "stdout",
     "output_type": "stream",
     "text": [
      "1895 454\n",
      "8536\n",
      "266461 3166\n",
      "0214_OD\n"
     ]
    },
    {
     "name": "stderr",
     "output_type": "stream",
     "text": [
      "/home/alex_johannes/octa_gnn/OCTA_gnn/generator/heterograph_from_vvg_generator.py:148: UserWarning: Any labeled images will be returned as a boolean array. Did you mean to use a boolean array?\n",
      "  region_labels = measure.label(morphology.remove_small_holes(seg, area_threshold=5, connectivity=1).astype(\"uint8\"), background=1)\n"
     ]
    },
    {
     "name": "stdout",
     "output_type": "stream",
     "text": [
      "1001 202\n",
      "5555\n",
      "239448 1899\n",
      "0214_OS\n"
     ]
    },
    {
     "name": "stderr",
     "output_type": "stream",
     "text": [
      "/home/alex_johannes/octa_gnn/OCTA_gnn/generator/heterograph_from_vvg_generator.py:148: UserWarning: Any labeled images will be returned as a boolean array. Did you mean to use a boolean array?\n",
      "  region_labels = measure.label(morphology.remove_small_holes(seg, area_threshold=5, connectivity=1).astype(\"uint8\"), background=1)\n"
     ]
    },
    {
     "name": "stdout",
     "output_type": "stream",
     "text": [
      "909 241\n",
      "5152\n",
      "221417 2199\n",
      "0215_OD\n"
     ]
    },
    {
     "name": "stderr",
     "output_type": "stream",
     "text": [
      "/home/alex_johannes/octa_gnn/OCTA_gnn/generator/heterograph_from_vvg_generator.py:148: UserWarning: Any labeled images will be returned as a boolean array. Did you mean to use a boolean array?\n",
      "  region_labels = measure.label(morphology.remove_small_holes(seg, area_threshold=5, connectivity=1).astype(\"uint8\"), background=1)\n"
     ]
    },
    {
     "name": "stdout",
     "output_type": "stream",
     "text": [
      "1812 424\n",
      "8304\n",
      "263851 3303\n",
      "0215_OS\n"
     ]
    },
    {
     "name": "stderr",
     "output_type": "stream",
     "text": [
      "/home/alex_johannes/octa_gnn/OCTA_gnn/generator/heterograph_from_vvg_generator.py:148: UserWarning: Any labeled images will be returned as a boolean array. Did you mean to use a boolean array?\n",
      "  region_labels = measure.label(morphology.remove_small_holes(seg, area_threshold=5, connectivity=1).astype(\"uint8\"), background=1)\n"
     ]
    },
    {
     "name": "stdout",
     "output_type": "stream",
     "text": [
      "1719 411\n",
      "8004\n",
      "258935 4036\n",
      "0216_OD\n"
     ]
    },
    {
     "name": "stderr",
     "output_type": "stream",
     "text": [
      "/home/alex_johannes/octa_gnn/OCTA_gnn/generator/heterograph_from_vvg_generator.py:148: UserWarning: Any labeled images will be returned as a boolean array. Did you mean to use a boolean array?\n",
      "  region_labels = measure.label(morphology.remove_small_holes(seg, area_threshold=5, connectivity=1).astype(\"uint8\"), background=1)\n"
     ]
    },
    {
     "name": "stdout",
     "output_type": "stream",
     "text": [
      "1641 353\n",
      "7986\n",
      "258043 2669\n",
      "0216_OS\n"
     ]
    },
    {
     "name": "stderr",
     "output_type": "stream",
     "text": [
      "/home/alex_johannes/octa_gnn/OCTA_gnn/generator/heterograph_from_vvg_generator.py:148: UserWarning: Any labeled images will be returned as a boolean array. Did you mean to use a boolean array?\n",
      "  region_labels = measure.label(morphology.remove_small_holes(seg, area_threshold=5, connectivity=1).astype(\"uint8\"), background=1)\n"
     ]
    },
    {
     "name": "stdout",
     "output_type": "stream",
     "text": [
      "1592 472\n",
      "7724\n",
      "243073 4116\n",
      "0217_OS\n"
     ]
    },
    {
     "name": "stderr",
     "output_type": "stream",
     "text": [
      "/home/alex_johannes/octa_gnn/OCTA_gnn/generator/heterograph_from_vvg_generator.py:148: UserWarning: Any labeled images will be returned as a boolean array. Did you mean to use a boolean array?\n",
      "  region_labels = measure.label(morphology.remove_small_holes(seg, area_threshold=5, connectivity=1).astype(\"uint8\"), background=1)\n"
     ]
    },
    {
     "name": "stdout",
     "output_type": "stream",
     "text": [
      "1744 380\n",
      "8158\n",
      "270018 4065\n",
      "0218_OD\n"
     ]
    },
    {
     "name": "stderr",
     "output_type": "stream",
     "text": [
      "/home/alex_johannes/octa_gnn/OCTA_gnn/generator/heterograph_from_vvg_generator.py:148: UserWarning: Any labeled images will be returned as a boolean array. Did you mean to use a boolean array?\n",
      "  region_labels = measure.label(morphology.remove_small_holes(seg, area_threshold=5, connectivity=1).astype(\"uint8\"), background=1)\n"
     ]
    },
    {
     "name": "stdout",
     "output_type": "stream",
     "text": [
      "1869 476\n",
      "8813\n",
      "278267 3290\n",
      "0219_OS\n"
     ]
    },
    {
     "name": "stderr",
     "output_type": "stream",
     "text": [
      "/home/alex_johannes/octa_gnn/OCTA_gnn/generator/heterograph_from_vvg_generator.py:148: UserWarning: Any labeled images will be returned as a boolean array. Did you mean to use a boolean array?\n",
      "  region_labels = measure.label(morphology.remove_small_holes(seg, area_threshold=5, connectivity=1).astype(\"uint8\"), background=1)\n",
      "/home/alex_johannes/octa_gnn/OCTA_gnn/.venv/lib/python3.10/site-packages/skimage/measure/_regionprops.py:647: RuntimeWarning: invalid value encountered in scalar divide\n",
      "  tuple(M[_get_element(axis)] / M0 for axis in range(self._ndim)))\n"
     ]
    },
    {
     "name": "stdout",
     "output_type": "stream",
     "text": [
      "1189 351\n",
      "6386\n",
      "228814 2821\n",
      "0220_OD\n"
     ]
    },
    {
     "name": "stderr",
     "output_type": "stream",
     "text": [
      "/home/alex_johannes/octa_gnn/OCTA_gnn/generator/heterograph_from_vvg_generator.py:148: UserWarning: Any labeled images will be returned as a boolean array. Did you mean to use a boolean array?\n",
      "  region_labels = measure.label(morphology.remove_small_holes(seg, area_threshold=5, connectivity=1).astype(\"uint8\"), background=1)\n"
     ]
    },
    {
     "name": "stdout",
     "output_type": "stream",
     "text": [
      "1503 331\n",
      "7461\n",
      "260496 2873\n",
      "0220_OS\n"
     ]
    },
    {
     "name": "stderr",
     "output_type": "stream",
     "text": [
      "/home/alex_johannes/octa_gnn/OCTA_gnn/generator/heterograph_from_vvg_generator.py:148: UserWarning: Any labeled images will be returned as a boolean array. Did you mean to use a boolean array?\n",
      "  region_labels = measure.label(morphology.remove_small_holes(seg, area_threshold=5, connectivity=1).astype(\"uint8\"), background=1)\n"
     ]
    },
    {
     "name": "stdout",
     "output_type": "stream",
     "text": [
      "1714 411\n",
      "8230\n",
      "261821 3641\n",
      "0221_OD\n"
     ]
    },
    {
     "name": "stderr",
     "output_type": "stream",
     "text": [
      "/home/alex_johannes/octa_gnn/OCTA_gnn/generator/heterograph_from_vvg_generator.py:148: UserWarning: Any labeled images will be returned as a boolean array. Did you mean to use a boolean array?\n",
      "  region_labels = measure.label(morphology.remove_small_holes(seg, area_threshold=5, connectivity=1).astype(\"uint8\"), background=1)\n"
     ]
    },
    {
     "name": "stdout",
     "output_type": "stream",
     "text": [
      "394 70\n",
      "2785\n",
      "177730 783\n",
      "0222_OD\n"
     ]
    },
    {
     "name": "stderr",
     "output_type": "stream",
     "text": [
      "/home/alex_johannes/octa_gnn/OCTA_gnn/generator/heterograph_from_vvg_generator.py:148: UserWarning: Any labeled images will be returned as a boolean array. Did you mean to use a boolean array?\n",
      "  region_labels = measure.label(morphology.remove_small_holes(seg, area_threshold=5, connectivity=1).astype(\"uint8\"), background=1)\n"
     ]
    },
    {
     "name": "stdout",
     "output_type": "stream",
     "text": [
      "1738 397\n",
      "8164\n",
      "274942 2868\n",
      "0222_OS\n"
     ]
    },
    {
     "name": "stderr",
     "output_type": "stream",
     "text": [
      "/home/alex_johannes/octa_gnn/OCTA_gnn/generator/heterograph_from_vvg_generator.py:148: UserWarning: Any labeled images will be returned as a boolean array. Did you mean to use a boolean array?\n",
      "  region_labels = measure.label(morphology.remove_small_holes(seg, area_threshold=5, connectivity=1).astype(\"uint8\"), background=1)\n"
     ]
    },
    {
     "name": "stdout",
     "output_type": "stream",
     "text": [
      "1279 332\n",
      "6435\n",
      "238526 2991\n",
      "0223_OD\n"
     ]
    },
    {
     "name": "stderr",
     "output_type": "stream",
     "text": [
      "/home/alex_johannes/octa_gnn/OCTA_gnn/generator/heterograph_from_vvg_generator.py:148: UserWarning: Any labeled images will be returned as a boolean array. Did you mean to use a boolean array?\n",
      "  region_labels = measure.label(morphology.remove_small_holes(seg, area_threshold=5, connectivity=1).astype(\"uint8\"), background=1)\n"
     ]
    },
    {
     "name": "stdout",
     "output_type": "stream",
     "text": [
      "1605 358\n",
      "7692\n",
      "260649 2734\n",
      "0224_OD\n"
     ]
    },
    {
     "name": "stderr",
     "output_type": "stream",
     "text": [
      "/home/alex_johannes/octa_gnn/OCTA_gnn/generator/heterograph_from_vvg_generator.py:148: UserWarning: Any labeled images will be returned as a boolean array. Did you mean to use a boolean array?\n",
      "  region_labels = measure.label(morphology.remove_small_holes(seg, area_threshold=5, connectivity=1).astype(\"uint8\"), background=1)\n"
     ]
    },
    {
     "name": "stdout",
     "output_type": "stream",
     "text": [
      "1911 426\n",
      "8662\n",
      "270528 3616\n",
      "0224_OS\n"
     ]
    },
    {
     "name": "stderr",
     "output_type": "stream",
     "text": [
      "/home/alex_johannes/octa_gnn/OCTA_gnn/generator/heterograph_from_vvg_generator.py:148: UserWarning: Any labeled images will be returned as a boolean array. Did you mean to use a boolean array?\n",
      "  region_labels = measure.label(morphology.remove_small_holes(seg, area_threshold=5, connectivity=1).astype(\"uint8\"), background=1)\n"
     ]
    },
    {
     "name": "stdout",
     "output_type": "stream",
     "text": [
      "1833 446\n",
      "8510\n",
      "258137 3725\n",
      "0225_OD\n"
     ]
    },
    {
     "name": "stderr",
     "output_type": "stream",
     "text": [
      "/home/alex_johannes/octa_gnn/OCTA_gnn/generator/heterograph_from_vvg_generator.py:148: UserWarning: Any labeled images will be returned as a boolean array. Did you mean to use a boolean array?\n",
      "  region_labels = measure.label(morphology.remove_small_holes(seg, area_threshold=5, connectivity=1).astype(\"uint8\"), background=1)\n"
     ]
    },
    {
     "name": "stdout",
     "output_type": "stream",
     "text": [
      "1702 387\n",
      "7899\n",
      "285646 3463\n",
      "0225_OS\n"
     ]
    },
    {
     "name": "stderr",
     "output_type": "stream",
     "text": [
      "/home/alex_johannes/octa_gnn/OCTA_gnn/generator/heterograph_from_vvg_generator.py:148: UserWarning: Any labeled images will be returned as a boolean array. Did you mean to use a boolean array?\n",
      "  region_labels = measure.label(morphology.remove_small_holes(seg, area_threshold=5, connectivity=1).astype(\"uint8\"), background=1)\n"
     ]
    },
    {
     "name": "stdout",
     "output_type": "stream",
     "text": [
      "1699 396\n",
      "7748\n",
      "267795 3704\n",
      "0226_OD\n"
     ]
    },
    {
     "name": "stderr",
     "output_type": "stream",
     "text": [
      "/home/alex_johannes/octa_gnn/OCTA_gnn/generator/heterograph_from_vvg_generator.py:148: UserWarning: Any labeled images will be returned as a boolean array. Did you mean to use a boolean array?\n",
      "  region_labels = measure.label(morphology.remove_small_holes(seg, area_threshold=5, connectivity=1).astype(\"uint8\"), background=1)\n"
     ]
    },
    {
     "name": "stdout",
     "output_type": "stream",
     "text": [
      "1630 465\n",
      "7812\n",
      "247188 3737\n",
      "0226_OS\n"
     ]
    },
    {
     "name": "stderr",
     "output_type": "stream",
     "text": [
      "/home/alex_johannes/octa_gnn/OCTA_gnn/generator/heterograph_from_vvg_generator.py:148: UserWarning: Any labeled images will be returned as a boolean array. Did you mean to use a boolean array?\n",
      "  region_labels = measure.label(morphology.remove_small_holes(seg, area_threshold=5, connectivity=1).astype(\"uint8\"), background=1)\n"
     ]
    },
    {
     "name": "stdout",
     "output_type": "stream",
     "text": [
      "1428 343\n",
      "7248\n",
      "250744 2800\n",
      "0227_OS\n"
     ]
    },
    {
     "name": "stderr",
     "output_type": "stream",
     "text": [
      "/home/alex_johannes/octa_gnn/OCTA_gnn/generator/heterograph_from_vvg_generator.py:148: UserWarning: Any labeled images will be returned as a boolean array. Did you mean to use a boolean array?\n",
      "  region_labels = measure.label(morphology.remove_small_holes(seg, area_threshold=5, connectivity=1).astype(\"uint8\"), background=1)\n"
     ]
    },
    {
     "name": "stdout",
     "output_type": "stream",
     "text": [
      "1697 417\n",
      "8061\n",
      "253791 3549\n",
      "0228_OD\n"
     ]
    },
    {
     "name": "stderr",
     "output_type": "stream",
     "text": [
      "/home/alex_johannes/octa_gnn/OCTA_gnn/generator/heterograph_from_vvg_generator.py:148: UserWarning: Any labeled images will be returned as a boolean array. Did you mean to use a boolean array?\n",
      "  region_labels = measure.label(morphology.remove_small_holes(seg, area_threshold=5, connectivity=1).astype(\"uint8\"), background=1)\n"
     ]
    },
    {
     "name": "stdout",
     "output_type": "stream",
     "text": [
      "1994 485\n",
      "9193\n",
      "280221 3595\n",
      "0228_OS\n"
     ]
    },
    {
     "name": "stderr",
     "output_type": "stream",
     "text": [
      "/home/alex_johannes/octa_gnn/OCTA_gnn/generator/heterograph_from_vvg_generator.py:148: UserWarning: Any labeled images will be returned as a boolean array. Did you mean to use a boolean array?\n",
      "  region_labels = measure.label(morphology.remove_small_holes(seg, area_threshold=5, connectivity=1).astype(\"uint8\"), background=1)\n"
     ]
    },
    {
     "name": "stdout",
     "output_type": "stream",
     "text": [
      "1886 441\n",
      "8876\n",
      "275982 3239\n",
      "0229_OD\n"
     ]
    },
    {
     "name": "stderr",
     "output_type": "stream",
     "text": [
      "/home/alex_johannes/octa_gnn/OCTA_gnn/generator/heterograph_from_vvg_generator.py:148: UserWarning: Any labeled images will be returned as a boolean array. Did you mean to use a boolean array?\n",
      "  region_labels = measure.label(morphology.remove_small_holes(seg, area_threshold=5, connectivity=1).astype(\"uint8\"), background=1)\n"
     ]
    },
    {
     "name": "stdout",
     "output_type": "stream",
     "text": [
      "587 126\n",
      "3636\n",
      "195048 1161\n",
      "0059_OS\n"
     ]
    },
    {
     "name": "stderr",
     "output_type": "stream",
     "text": [
      "/home/alex_johannes/octa_gnn/OCTA_gnn/generator/heterograph_from_vvg_generator.py:148: UserWarning: Any labeled images will be returned as a boolean array. Did you mean to use a boolean array?\n",
      "  region_labels = measure.label(morphology.remove_small_holes(seg, area_threshold=5, connectivity=1).astype(\"uint8\"), background=1)\n"
     ]
    },
    {
     "name": "stdout",
     "output_type": "stream",
     "text": [
      "1385 320\n",
      "6806\n",
      "239617 2928\n",
      "0060_OD\n"
     ]
    },
    {
     "name": "stderr",
     "output_type": "stream",
     "text": [
      "/home/alex_johannes/octa_gnn/OCTA_gnn/generator/heterograph_from_vvg_generator.py:148: UserWarning: Any labeled images will be returned as a boolean array. Did you mean to use a boolean array?\n",
      "  region_labels = measure.label(morphology.remove_small_holes(seg, area_threshold=5, connectivity=1).astype(\"uint8\"), background=1)\n"
     ]
    },
    {
     "name": "stdout",
     "output_type": "stream",
     "text": [
      "1763 403\n",
      "8376\n",
      "270492 3200\n",
      "0060_OS\n"
     ]
    },
    {
     "name": "stderr",
     "output_type": "stream",
     "text": [
      "/home/alex_johannes/octa_gnn/OCTA_gnn/generator/heterograph_from_vvg_generator.py:148: UserWarning: Any labeled images will be returned as a boolean array. Did you mean to use a boolean array?\n",
      "  region_labels = measure.label(morphology.remove_small_holes(seg, area_threshold=5, connectivity=1).astype(\"uint8\"), background=1)\n"
     ]
    },
    {
     "name": "stdout",
     "output_type": "stream",
     "text": [
      "1665 342\n",
      "8029\n",
      "270198 2566\n",
      "0061_OD\n"
     ]
    },
    {
     "name": "stderr",
     "output_type": "stream",
     "text": [
      "/home/alex_johannes/octa_gnn/OCTA_gnn/generator/heterograph_from_vvg_generator.py:148: UserWarning: Any labeled images will be returned as a boolean array. Did you mean to use a boolean array?\n",
      "  region_labels = measure.label(morphology.remove_small_holes(seg, area_threshold=5, connectivity=1).astype(\"uint8\"), background=1)\n"
     ]
    },
    {
     "name": "stdout",
     "output_type": "stream",
     "text": [
      "1556 375\n",
      "7629\n",
      "265113 3542\n",
      "0061_OS\n"
     ]
    },
    {
     "name": "stderr",
     "output_type": "stream",
     "text": [
      "/home/alex_johannes/octa_gnn/OCTA_gnn/generator/heterograph_from_vvg_generator.py:148: UserWarning: Any labeled images will be returned as a boolean array. Did you mean to use a boolean array?\n",
      "  region_labels = measure.label(morphology.remove_small_holes(seg, area_threshold=5, connectivity=1).astype(\"uint8\"), background=1)\n"
     ]
    },
    {
     "name": "stdout",
     "output_type": "stream",
     "text": [
      "1571 339\n",
      "7640\n",
      "268445 2687\n",
      "0062_OD\n"
     ]
    },
    {
     "name": "stderr",
     "output_type": "stream",
     "text": [
      "/home/alex_johannes/octa_gnn/OCTA_gnn/generator/heterograph_from_vvg_generator.py:148: UserWarning: Any labeled images will be returned as a boolean array. Did you mean to use a boolean array?\n",
      "  region_labels = measure.label(morphology.remove_small_holes(seg, area_threshold=5, connectivity=1).astype(\"uint8\"), background=1)\n"
     ]
    },
    {
     "name": "stdout",
     "output_type": "stream",
     "text": [
      "1825 390\n",
      "8452\n",
      "273678 3221\n",
      "0062_OS\n"
     ]
    },
    {
     "name": "stderr",
     "output_type": "stream",
     "text": [
      "/home/alex_johannes/octa_gnn/OCTA_gnn/generator/heterograph_from_vvg_generator.py:148: UserWarning: Any labeled images will be returned as a boolean array. Did you mean to use a boolean array?\n",
      "  region_labels = measure.label(morphology.remove_small_holes(seg, area_threshold=5, connectivity=1).astype(\"uint8\"), background=1)\n"
     ]
    },
    {
     "name": "stdout",
     "output_type": "stream",
     "text": [
      "1816 426\n",
      "8517\n",
      "278502 3383\n",
      "0063_OD\n"
     ]
    },
    {
     "name": "stderr",
     "output_type": "stream",
     "text": [
      "/home/alex_johannes/octa_gnn/OCTA_gnn/generator/heterograph_from_vvg_generator.py:148: UserWarning: Any labeled images will be returned as a boolean array. Did you mean to use a boolean array?\n",
      "  region_labels = measure.label(morphology.remove_small_holes(seg, area_threshold=5, connectivity=1).astype(\"uint8\"), background=1)\n"
     ]
    },
    {
     "name": "stdout",
     "output_type": "stream",
     "text": [
      "2005 410\n",
      "9131\n",
      "283873 2821\n",
      "0063_OS\n"
     ]
    },
    {
     "name": "stderr",
     "output_type": "stream",
     "text": [
      "/home/alex_johannes/octa_gnn/OCTA_gnn/generator/heterograph_from_vvg_generator.py:148: UserWarning: Any labeled images will be returned as a boolean array. Did you mean to use a boolean array?\n",
      "  region_labels = measure.label(morphology.remove_small_holes(seg, area_threshold=5, connectivity=1).astype(\"uint8\"), background=1)\n"
     ]
    },
    {
     "name": "stdout",
     "output_type": "stream",
     "text": [
      "2016 421\n",
      "9264\n",
      "283341 3443\n",
      "0064_OD\n"
     ]
    },
    {
     "name": "stderr",
     "output_type": "stream",
     "text": [
      "/home/alex_johannes/octa_gnn/OCTA_gnn/generator/heterograph_from_vvg_generator.py:148: UserWarning: Any labeled images will be returned as a boolean array. Did you mean to use a boolean array?\n",
      "  region_labels = measure.label(morphology.remove_small_holes(seg, area_threshold=5, connectivity=1).astype(\"uint8\"), background=1)\n"
     ]
    },
    {
     "name": "stdout",
     "output_type": "stream",
     "text": [
      "1835 397\n",
      "8674\n",
      "271938 3652\n",
      "0064_OS\n"
     ]
    },
    {
     "name": "stderr",
     "output_type": "stream",
     "text": [
      "/home/alex_johannes/octa_gnn/OCTA_gnn/generator/heterograph_from_vvg_generator.py:148: UserWarning: Any labeled images will be returned as a boolean array. Did you mean to use a boolean array?\n",
      "  region_labels = measure.label(morphology.remove_small_holes(seg, area_threshold=5, connectivity=1).astype(\"uint8\"), background=1)\n"
     ]
    },
    {
     "name": "stdout",
     "output_type": "stream",
     "text": [
      "1635 339\n",
      "7924\n",
      "266191 3161\n",
      "0065_OD\n"
     ]
    },
    {
     "name": "stderr",
     "output_type": "stream",
     "text": [
      "/home/alex_johannes/octa_gnn/OCTA_gnn/generator/heterograph_from_vvg_generator.py:148: UserWarning: Any labeled images will be returned as a boolean array. Did you mean to use a boolean array?\n",
      "  region_labels = measure.label(morphology.remove_small_holes(seg, area_threshold=5, connectivity=1).astype(\"uint8\"), background=1)\n"
     ]
    },
    {
     "name": "stdout",
     "output_type": "stream",
     "text": [
      "1688 389\n",
      "7963\n",
      "266733 3243\n",
      "0065_OS\n"
     ]
    },
    {
     "name": "stderr",
     "output_type": "stream",
     "text": [
      "/home/alex_johannes/octa_gnn/OCTA_gnn/generator/heterograph_from_vvg_generator.py:148: UserWarning: Any labeled images will be returned as a boolean array. Did you mean to use a boolean array?\n",
      "  region_labels = measure.label(morphology.remove_small_holes(seg, area_threshold=5, connectivity=1).astype(\"uint8\"), background=1)\n"
     ]
    },
    {
     "name": "stdout",
     "output_type": "stream",
     "text": [
      "1814 429\n",
      "8428\n",
      "273869 3191\n",
      "0066_OD\n"
     ]
    },
    {
     "name": "stderr",
     "output_type": "stream",
     "text": [
      "/home/alex_johannes/octa_gnn/OCTA_gnn/generator/heterograph_from_vvg_generator.py:148: UserWarning: Any labeled images will be returned as a boolean array. Did you mean to use a boolean array?\n",
      "  region_labels = measure.label(morphology.remove_small_holes(seg, area_threshold=5, connectivity=1).astype(\"uint8\"), background=1)\n"
     ]
    },
    {
     "name": "stdout",
     "output_type": "stream",
     "text": [
      "1956 445\n",
      "8946\n",
      "277749 3422\n",
      "0066_OS\n"
     ]
    },
    {
     "name": "stderr",
     "output_type": "stream",
     "text": [
      "/home/alex_johannes/octa_gnn/OCTA_gnn/generator/heterograph_from_vvg_generator.py:148: UserWarning: Any labeled images will be returned as a boolean array. Did you mean to use a boolean array?\n",
      "  region_labels = measure.label(morphology.remove_small_holes(seg, area_threshold=5, connectivity=1).astype(\"uint8\"), background=1)\n"
     ]
    },
    {
     "name": "stdout",
     "output_type": "stream",
     "text": [
      "1686 426\n",
      "8027\n",
      "260491 2975\n",
      "0067_OD\n"
     ]
    },
    {
     "name": "stderr",
     "output_type": "stream",
     "text": [
      "/home/alex_johannes/octa_gnn/OCTA_gnn/generator/heterograph_from_vvg_generator.py:148: UserWarning: Any labeled images will be returned as a boolean array. Did you mean to use a boolean array?\n",
      "  region_labels = measure.label(morphology.remove_small_holes(seg, area_threshold=5, connectivity=1).astype(\"uint8\"), background=1)\n"
     ]
    },
    {
     "name": "stdout",
     "output_type": "stream",
     "text": [
      "1633 357\n",
      "8078\n",
      "268518 2714\n",
      "0067_OS\n"
     ]
    },
    {
     "name": "stderr",
     "output_type": "stream",
     "text": [
      "/home/alex_johannes/octa_gnn/OCTA_gnn/generator/heterograph_from_vvg_generator.py:148: UserWarning: Any labeled images will be returned as a boolean array. Did you mean to use a boolean array?\n",
      "  region_labels = measure.label(morphology.remove_small_holes(seg, area_threshold=5, connectivity=1).astype(\"uint8\"), background=1)\n"
     ]
    },
    {
     "name": "stdout",
     "output_type": "stream",
     "text": [
      "1720 412\n",
      "8308\n",
      "272513 2939\n",
      "0068_OD\n"
     ]
    },
    {
     "name": "stderr",
     "output_type": "stream",
     "text": [
      "/home/alex_johannes/octa_gnn/OCTA_gnn/generator/heterograph_from_vvg_generator.py:148: UserWarning: Any labeled images will be returned as a boolean array. Did you mean to use a boolean array?\n",
      "  region_labels = measure.label(morphology.remove_small_holes(seg, area_threshold=5, connectivity=1).astype(\"uint8\"), background=1)\n"
     ]
    },
    {
     "name": "stdout",
     "output_type": "stream",
     "text": [
      "1772 406\n",
      "8543\n",
      "273107 3507\n",
      "0069_OS\n"
     ]
    },
    {
     "name": "stderr",
     "output_type": "stream",
     "text": [
      "/home/alex_johannes/octa_gnn/OCTA_gnn/generator/heterograph_from_vvg_generator.py:148: UserWarning: Any labeled images will be returned as a boolean array. Did you mean to use a boolean array?\n",
      "  region_labels = measure.label(morphology.remove_small_holes(seg, area_threshold=5, connectivity=1).astype(\"uint8\"), background=1)\n"
     ]
    },
    {
     "name": "stdout",
     "output_type": "stream",
     "text": [
      "1503 330\n",
      "7410\n",
      "256610 2607\n",
      "0070_OD\n"
     ]
    },
    {
     "name": "stderr",
     "output_type": "stream",
     "text": [
      "/home/alex_johannes/octa_gnn/OCTA_gnn/generator/heterograph_from_vvg_generator.py:148: UserWarning: Any labeled images will be returned as a boolean array. Did you mean to use a boolean array?\n",
      "  region_labels = measure.label(morphology.remove_small_holes(seg, area_threshold=5, connectivity=1).astype(\"uint8\"), background=1)\n"
     ]
    },
    {
     "name": "stdout",
     "output_type": "stream",
     "text": [
      "2031 479\n",
      "9219\n",
      "272701 4259\n",
      "0070_OS\n"
     ]
    },
    {
     "name": "stderr",
     "output_type": "stream",
     "text": [
      "/home/alex_johannes/octa_gnn/OCTA_gnn/generator/heterograph_from_vvg_generator.py:148: UserWarning: Any labeled images will be returned as a boolean array. Did you mean to use a boolean array?\n",
      "  region_labels = measure.label(morphology.remove_small_holes(seg, area_threshold=5, connectivity=1).astype(\"uint8\"), background=1)\n"
     ]
    },
    {
     "name": "stdout",
     "output_type": "stream",
     "text": [
      "1850 473\n",
      "8642\n",
      "262230 3978\n",
      "0071_OD\n"
     ]
    },
    {
     "name": "stderr",
     "output_type": "stream",
     "text": [
      "/home/alex_johannes/octa_gnn/OCTA_gnn/generator/heterograph_from_vvg_generator.py:148: UserWarning: Any labeled images will be returned as a boolean array. Did you mean to use a boolean array?\n",
      "  region_labels = measure.label(morphology.remove_small_holes(seg, area_threshold=5, connectivity=1).astype(\"uint8\"), background=1)\n"
     ]
    },
    {
     "name": "stdout",
     "output_type": "stream",
     "text": [
      "1455 310\n",
      "7222\n",
      "255215 2777\n",
      "0071_OS\n"
     ]
    },
    {
     "name": "stderr",
     "output_type": "stream",
     "text": [
      "/home/alex_johannes/octa_gnn/OCTA_gnn/generator/heterograph_from_vvg_generator.py:148: UserWarning: Any labeled images will be returned as a boolean array. Did you mean to use a boolean array?\n",
      "  region_labels = measure.label(morphology.remove_small_holes(seg, area_threshold=5, connectivity=1).astype(\"uint8\"), background=1)\n"
     ]
    },
    {
     "name": "stdout",
     "output_type": "stream",
     "text": [
      "1409 281\n",
      "7279\n",
      "262290 2131\n",
      "0072_OD\n"
     ]
    },
    {
     "name": "stderr",
     "output_type": "stream",
     "text": [
      "/home/alex_johannes/octa_gnn/OCTA_gnn/generator/heterograph_from_vvg_generator.py:148: UserWarning: Any labeled images will be returned as a boolean array. Did you mean to use a boolean array?\n",
      "  region_labels = measure.label(morphology.remove_small_holes(seg, area_threshold=5, connectivity=1).astype(\"uint8\"), background=1)\n"
     ]
    },
    {
     "name": "stdout",
     "output_type": "stream",
     "text": [
      "1893 383\n",
      "8689\n",
      "274618 3655\n",
      "0072_OS\n"
     ]
    },
    {
     "name": "stderr",
     "output_type": "stream",
     "text": [
      "/home/alex_johannes/octa_gnn/OCTA_gnn/generator/heterograph_from_vvg_generator.py:148: UserWarning: Any labeled images will be returned as a boolean array. Did you mean to use a boolean array?\n",
      "  region_labels = measure.label(morphology.remove_small_holes(seg, area_threshold=5, connectivity=1).astype(\"uint8\"), background=1)\n"
     ]
    },
    {
     "name": "stdout",
     "output_type": "stream",
     "text": [
      "1723 399\n",
      "8220\n",
      "273120 3162\n",
      "0073_OD\n"
     ]
    },
    {
     "name": "stderr",
     "output_type": "stream",
     "text": [
      "/home/alex_johannes/octa_gnn/OCTA_gnn/generator/heterograph_from_vvg_generator.py:148: UserWarning: Any labeled images will be returned as a boolean array. Did you mean to use a boolean array?\n",
      "  region_labels = measure.label(morphology.remove_small_holes(seg, area_threshold=5, connectivity=1).astype(\"uint8\"), background=1)\n"
     ]
    },
    {
     "name": "stdout",
     "output_type": "stream",
     "text": [
      "1739 405\n",
      "8233\n",
      "273263 3047\n",
      "0073_OS\n"
     ]
    },
    {
     "name": "stderr",
     "output_type": "stream",
     "text": [
      "/home/alex_johannes/octa_gnn/OCTA_gnn/generator/heterograph_from_vvg_generator.py:148: UserWarning: Any labeled images will be returned as a boolean array. Did you mean to use a boolean array?\n",
      "  region_labels = measure.label(morphology.remove_small_holes(seg, area_threshold=5, connectivity=1).astype(\"uint8\"), background=1)\n"
     ]
    },
    {
     "name": "stdout",
     "output_type": "stream",
     "text": [
      "1781 426\n",
      "8345\n",
      "266129 3807\n",
      "0074_OD\n"
     ]
    },
    {
     "name": "stderr",
     "output_type": "stream",
     "text": [
      "/home/alex_johannes/octa_gnn/OCTA_gnn/generator/heterograph_from_vvg_generator.py:148: UserWarning: Any labeled images will be returned as a boolean array. Did you mean to use a boolean array?\n",
      "  region_labels = measure.label(morphology.remove_small_holes(seg, area_threshold=5, connectivity=1).astype(\"uint8\"), background=1)\n"
     ]
    },
    {
     "name": "stdout",
     "output_type": "stream",
     "text": [
      "2150 469\n",
      "9661\n",
      "286903 3661\n",
      "0567_OS\n"
     ]
    },
    {
     "name": "stderr",
     "output_type": "stream",
     "text": [
      "/home/alex_johannes/octa_gnn/OCTA_gnn/generator/heterograph_from_vvg_generator.py:148: UserWarning: Any labeled images will be returned as a boolean array. Did you mean to use a boolean array?\n",
      "  region_labels = measure.label(morphology.remove_small_holes(seg, area_threshold=5, connectivity=1).astype(\"uint8\"), background=1)\n"
     ]
    },
    {
     "name": "stdout",
     "output_type": "stream",
     "text": [
      "1976 500\n",
      "8888\n",
      "269621 4084\n",
      "0568_OS\n"
     ]
    },
    {
     "name": "stderr",
     "output_type": "stream",
     "text": [
      "/home/alex_johannes/octa_gnn/OCTA_gnn/generator/heterograph_from_vvg_generator.py:148: UserWarning: Any labeled images will be returned as a boolean array. Did you mean to use a boolean array?\n",
      "  region_labels = measure.label(morphology.remove_small_holes(seg, area_threshold=5, connectivity=1).astype(\"uint8\"), background=1)\n"
     ]
    },
    {
     "name": "stdout",
     "output_type": "stream",
     "text": [
      "1627 386\n",
      "8022\n",
      "269023 3694\n",
      "0569_OD\n"
     ]
    },
    {
     "name": "stderr",
     "output_type": "stream",
     "text": [
      "/home/alex_johannes/octa_gnn/OCTA_gnn/generator/heterograph_from_vvg_generator.py:148: UserWarning: Any labeled images will be returned as a boolean array. Did you mean to use a boolean array?\n",
      "  region_labels = measure.label(morphology.remove_small_holes(seg, area_threshold=5, connectivity=1).astype(\"uint8\"), background=1)\n"
     ]
    },
    {
     "name": "stdout",
     "output_type": "stream",
     "text": [
      "1331 319\n",
      "6951\n",
      "253737 2527\n",
      "0570_OD\n"
     ]
    },
    {
     "name": "stderr",
     "output_type": "stream",
     "text": [
      "/home/alex_johannes/octa_gnn/OCTA_gnn/generator/heterograph_from_vvg_generator.py:148: UserWarning: Any labeled images will be returned as a boolean array. Did you mean to use a boolean array?\n",
      "  region_labels = measure.label(morphology.remove_small_holes(seg, area_threshold=5, connectivity=1).astype(\"uint8\"), background=1)\n"
     ]
    },
    {
     "name": "stdout",
     "output_type": "stream",
     "text": [
      "1311 325\n",
      "6694\n",
      "242689 3261\n",
      "0570_OS\n"
     ]
    },
    {
     "name": "stderr",
     "output_type": "stream",
     "text": [
      "/home/alex_johannes/octa_gnn/OCTA_gnn/generator/heterograph_from_vvg_generator.py:148: UserWarning: Any labeled images will be returned as a boolean array. Did you mean to use a boolean array?\n",
      "  region_labels = measure.label(morphology.remove_small_holes(seg, area_threshold=5, connectivity=1).astype(\"uint8\"), background=1)\n"
     ]
    },
    {
     "name": "stdout",
     "output_type": "stream",
     "text": [
      "1619 433\n",
      "7451\n",
      "250372 3473\n",
      "0571_OD\n"
     ]
    },
    {
     "name": "stderr",
     "output_type": "stream",
     "text": [
      "/home/alex_johannes/octa_gnn/OCTA_gnn/generator/heterograph_from_vvg_generator.py:148: UserWarning: Any labeled images will be returned as a boolean array. Did you mean to use a boolean array?\n",
      "  region_labels = measure.label(morphology.remove_small_holes(seg, area_threshold=5, connectivity=1).astype(\"uint8\"), background=1)\n"
     ]
    },
    {
     "name": "stdout",
     "output_type": "stream",
     "text": [
      "1475 354\n",
      "7161\n",
      "255949 2794\n",
      "0571_OS\n"
     ]
    },
    {
     "name": "stderr",
     "output_type": "stream",
     "text": [
      "/home/alex_johannes/octa_gnn/OCTA_gnn/generator/heterograph_from_vvg_generator.py:148: UserWarning: Any labeled images will be returned as a boolean array. Did you mean to use a boolean array?\n",
      "  region_labels = measure.label(morphology.remove_small_holes(seg, area_threshold=5, connectivity=1).astype(\"uint8\"), background=1)\n"
     ]
    },
    {
     "name": "stdout",
     "output_type": "stream",
     "text": [
      "1750 335\n",
      "8113\n",
      "271402 2599\n",
      "0572_OD\n"
     ]
    },
    {
     "name": "stderr",
     "output_type": "stream",
     "text": [
      "/home/alex_johannes/octa_gnn/OCTA_gnn/generator/heterograph_from_vvg_generator.py:148: UserWarning: Any labeled images will be returned as a boolean array. Did you mean to use a boolean array?\n",
      "  region_labels = measure.label(morphology.remove_small_holes(seg, area_threshold=5, connectivity=1).astype(\"uint8\"), background=1)\n"
     ]
    },
    {
     "name": "stdout",
     "output_type": "stream",
     "text": [
      "1896 463\n",
      "8697\n",
      "275610 3615\n",
      "0572_OS\n"
     ]
    },
    {
     "name": "stderr",
     "output_type": "stream",
     "text": [
      "/home/alex_johannes/octa_gnn/OCTA_gnn/generator/heterograph_from_vvg_generator.py:148: UserWarning: Any labeled images will be returned as a boolean array. Did you mean to use a boolean array?\n",
      "  region_labels = measure.label(morphology.remove_small_holes(seg, area_threshold=5, connectivity=1).astype(\"uint8\"), background=1)\n"
     ]
    },
    {
     "name": "stdout",
     "output_type": "stream",
     "text": [
      "1777 407\n",
      "8261\n",
      "274029 3057\n",
      "0573_OD\n"
     ]
    },
    {
     "name": "stderr",
     "output_type": "stream",
     "text": [
      "/home/alex_johannes/octa_gnn/OCTA_gnn/generator/heterograph_from_vvg_generator.py:148: UserWarning: Any labeled images will be returned as a boolean array. Did you mean to use a boolean array?\n",
      "  region_labels = measure.label(morphology.remove_small_holes(seg, area_threshold=5, connectivity=1).astype(\"uint8\"), background=1)\n"
     ]
    },
    {
     "name": "stdout",
     "output_type": "stream",
     "text": [
      "1604 440\n",
      "7723\n",
      "254980 4088\n",
      "0573_OS\n"
     ]
    },
    {
     "name": "stderr",
     "output_type": "stream",
     "text": [
      "/home/alex_johannes/octa_gnn/OCTA_gnn/generator/heterograph_from_vvg_generator.py:148: UserWarning: Any labeled images will be returned as a boolean array. Did you mean to use a boolean array?\n",
      "  region_labels = measure.label(morphology.remove_small_holes(seg, area_threshold=5, connectivity=1).astype(\"uint8\"), background=1)\n"
     ]
    },
    {
     "name": "stdout",
     "output_type": "stream",
     "text": [
      "1606 355\n",
      "7947\n",
      "262057 3319\n",
      "0574_OD\n"
     ]
    },
    {
     "name": "stderr",
     "output_type": "stream",
     "text": [
      "/home/alex_johannes/octa_gnn/OCTA_gnn/generator/heterograph_from_vvg_generator.py:148: UserWarning: Any labeled images will be returned as a boolean array. Did you mean to use a boolean array?\n",
      "  region_labels = measure.label(morphology.remove_small_holes(seg, area_threshold=5, connectivity=1).astype(\"uint8\"), background=1)\n"
     ]
    },
    {
     "name": "stdout",
     "output_type": "stream",
     "text": [
      "1899 510\n",
      "8559\n",
      "262502 3909\n",
      "0574_OS\n"
     ]
    },
    {
     "name": "stderr",
     "output_type": "stream",
     "text": [
      "/home/alex_johannes/octa_gnn/OCTA_gnn/generator/heterograph_from_vvg_generator.py:148: UserWarning: Any labeled images will be returned as a boolean array. Did you mean to use a boolean array?\n",
      "  region_labels = measure.label(morphology.remove_small_holes(seg, area_threshold=5, connectivity=1).astype(\"uint8\"), background=1)\n"
     ]
    },
    {
     "name": "stdout",
     "output_type": "stream",
     "text": [
      "2086 466\n",
      "9306\n",
      "277115 3217\n",
      "0575_OD\n"
     ]
    },
    {
     "name": "stderr",
     "output_type": "stream",
     "text": [
      "/home/alex_johannes/octa_gnn/OCTA_gnn/generator/heterograph_from_vvg_generator.py:148: UserWarning: Any labeled images will be returned as a boolean array. Did you mean to use a boolean array?\n",
      "  region_labels = measure.label(morphology.remove_small_holes(seg, area_threshold=5, connectivity=1).astype(\"uint8\"), background=1)\n"
     ]
    },
    {
     "name": "stdout",
     "output_type": "stream",
     "text": [
      "1836 514\n",
      "8462\n",
      "256441 4403\n",
      "0575_OS\n"
     ]
    },
    {
     "name": "stderr",
     "output_type": "stream",
     "text": [
      "/home/alex_johannes/octa_gnn/OCTA_gnn/generator/heterograph_from_vvg_generator.py:148: UserWarning: Any labeled images will be returned as a boolean array. Did you mean to use a boolean array?\n",
      "  region_labels = measure.label(morphology.remove_small_holes(seg, area_threshold=5, connectivity=1).astype(\"uint8\"), background=1)\n"
     ]
    },
    {
     "name": "stdout",
     "output_type": "stream",
     "text": [
      "1943 482\n",
      "8912\n",
      "268995 4345\n",
      "0576_OD\n"
     ]
    },
    {
     "name": "stderr",
     "output_type": "stream",
     "text": [
      "/home/alex_johannes/octa_gnn/OCTA_gnn/generator/heterograph_from_vvg_generator.py:148: UserWarning: Any labeled images will be returned as a boolean array. Did you mean to use a boolean array?\n",
      "  region_labels = measure.label(morphology.remove_small_holes(seg, area_threshold=5, connectivity=1).astype(\"uint8\"), background=1)\n"
     ]
    },
    {
     "name": "stdout",
     "output_type": "stream",
     "text": [
      "1482 373\n",
      "7095\n",
      "248896 3337\n",
      "0577_OD\n"
     ]
    },
    {
     "name": "stderr",
     "output_type": "stream",
     "text": [
      "/home/alex_johannes/octa_gnn/OCTA_gnn/generator/heterograph_from_vvg_generator.py:148: UserWarning: Any labeled images will be returned as a boolean array. Did you mean to use a boolean array?\n",
      "  region_labels = measure.label(morphology.remove_small_holes(seg, area_threshold=5, connectivity=1).astype(\"uint8\"), background=1)\n"
     ]
    },
    {
     "name": "stdout",
     "output_type": "stream",
     "text": [
      "1832 477\n",
      "8477\n",
      "265888 3781\n",
      "0577_OS\n"
     ]
    },
    {
     "name": "stderr",
     "output_type": "stream",
     "text": [
      "/home/alex_johannes/octa_gnn/OCTA_gnn/generator/heterograph_from_vvg_generator.py:148: UserWarning: Any labeled images will be returned as a boolean array. Did you mean to use a boolean array?\n",
      "  region_labels = measure.label(morphology.remove_small_holes(seg, area_threshold=5, connectivity=1).astype(\"uint8\"), background=1)\n"
     ]
    },
    {
     "name": "stdout",
     "output_type": "stream",
     "text": [
      "1721 410\n",
      "8320\n",
      "271227 3113\n",
      "0578_OD\n"
     ]
    },
    {
     "name": "stderr",
     "output_type": "stream",
     "text": [
      "/home/alex_johannes/octa_gnn/OCTA_gnn/generator/heterograph_from_vvg_generator.py:148: UserWarning: Any labeled images will be returned as a boolean array. Did you mean to use a boolean array?\n",
      "  region_labels = measure.label(morphology.remove_small_holes(seg, area_threshold=5, connectivity=1).astype(\"uint8\"), background=1)\n"
     ]
    },
    {
     "name": "stdout",
     "output_type": "stream",
     "text": [
      "1172 305\n",
      "6107\n",
      "226554 3422\n",
      "0578_OS\n"
     ]
    },
    {
     "name": "stderr",
     "output_type": "stream",
     "text": [
      "/home/alex_johannes/octa_gnn/OCTA_gnn/generator/heterograph_from_vvg_generator.py:148: UserWarning: Any labeled images will be returned as a boolean array. Did you mean to use a boolean array?\n",
      "  region_labels = measure.label(morphology.remove_small_holes(seg, area_threshold=5, connectivity=1).astype(\"uint8\"), background=1)\n"
     ]
    },
    {
     "name": "stdout",
     "output_type": "stream",
     "text": [
      "2087 480\n",
      "9127\n",
      "270230 3734\n",
      "0579_OD\n"
     ]
    },
    {
     "name": "stderr",
     "output_type": "stream",
     "text": [
      "/home/alex_johannes/octa_gnn/OCTA_gnn/generator/heterograph_from_vvg_generator.py:148: UserWarning: Any labeled images will be returned as a boolean array. Did you mean to use a boolean array?\n",
      "  region_labels = measure.label(morphology.remove_small_holes(seg, area_threshold=5, connectivity=1).astype(\"uint8\"), background=1)\n"
     ]
    },
    {
     "name": "stdout",
     "output_type": "stream",
     "text": [
      "1812 376\n",
      "8465\n",
      "273086 3033\n",
      "0579_OS\n"
     ]
    },
    {
     "name": "stderr",
     "output_type": "stream",
     "text": [
      "/home/alex_johannes/octa_gnn/OCTA_gnn/generator/heterograph_from_vvg_generator.py:148: UserWarning: Any labeled images will be returned as a boolean array. Did you mean to use a boolean array?\n",
      "  region_labels = measure.label(morphology.remove_small_holes(seg, area_threshold=5, connectivity=1).astype(\"uint8\"), background=1)\n"
     ]
    },
    {
     "name": "stdout",
     "output_type": "stream",
     "text": [
      "1673 376\n",
      "8060\n",
      "260978 3043\n",
      "0580_OS\n"
     ]
    },
    {
     "name": "stderr",
     "output_type": "stream",
     "text": [
      "/home/alex_johannes/octa_gnn/OCTA_gnn/generator/heterograph_from_vvg_generator.py:148: UserWarning: Any labeled images will be returned as a boolean array. Did you mean to use a boolean array?\n",
      "  region_labels = measure.label(morphology.remove_small_holes(seg, area_threshold=5, connectivity=1).astype(\"uint8\"), background=1)\n"
     ]
    },
    {
     "name": "stdout",
     "output_type": "stream",
     "text": [
      "1763 405\n",
      "8237\n",
      "266175 3417\n",
      "0581_OD\n"
     ]
    },
    {
     "name": "stderr",
     "output_type": "stream",
     "text": [
      "/home/alex_johannes/octa_gnn/OCTA_gnn/generator/heterograph_from_vvg_generator.py:148: UserWarning: Any labeled images will be returned as a boolean array. Did you mean to use a boolean array?\n",
      "  region_labels = measure.label(morphology.remove_small_holes(seg, area_threshold=5, connectivity=1).astype(\"uint8\"), background=1)\n"
     ]
    },
    {
     "name": "stdout",
     "output_type": "stream",
     "text": [
      "468 92\n",
      "3050\n",
      "179545 904\n",
      "0581_OS\n"
     ]
    },
    {
     "name": "stderr",
     "output_type": "stream",
     "text": [
      "/home/alex_johannes/octa_gnn/OCTA_gnn/generator/heterograph_from_vvg_generator.py:148: UserWarning: Any labeled images will be returned as a boolean array. Did you mean to use a boolean array?\n",
      "  region_labels = measure.label(morphology.remove_small_holes(seg, area_threshold=5, connectivity=1).astype(\"uint8\"), background=1)\n"
     ]
    },
    {
     "name": "stdout",
     "output_type": "stream",
     "text": [
      "714 112\n",
      "4274\n",
      "214790 1195\n",
      "0582_OD\n"
     ]
    },
    {
     "name": "stderr",
     "output_type": "stream",
     "text": [
      "/home/alex_johannes/octa_gnn/OCTA_gnn/generator/heterograph_from_vvg_generator.py:148: UserWarning: Any labeled images will be returned as a boolean array. Did you mean to use a boolean array?\n",
      "  region_labels = measure.label(morphology.remove_small_holes(seg, area_threshold=5, connectivity=1).astype(\"uint8\"), background=1)\n"
     ]
    },
    {
     "name": "stdout",
     "output_type": "stream",
     "text": [
      "476 84\n",
      "2970\n",
      "171107 879\n",
      "0582_OS\n"
     ]
    },
    {
     "name": "stderr",
     "output_type": "stream",
     "text": [
      "/home/alex_johannes/octa_gnn/OCTA_gnn/generator/heterograph_from_vvg_generator.py:148: UserWarning: Any labeled images will be returned as a boolean array. Did you mean to use a boolean array?\n",
      "  region_labels = measure.label(morphology.remove_small_holes(seg, area_threshold=5, connectivity=1).astype(\"uint8\"), background=1)\n"
     ]
    },
    {
     "name": "stdout",
     "output_type": "stream",
     "text": [
      "509 96\n",
      "3116\n",
      "179912 738\n",
      "0583_OD\n"
     ]
    },
    {
     "name": "stderr",
     "output_type": "stream",
     "text": [
      "/home/alex_johannes/octa_gnn/OCTA_gnn/generator/heterograph_from_vvg_generator.py:148: UserWarning: Any labeled images will be returned as a boolean array. Did you mean to use a boolean array?\n",
      "  region_labels = measure.label(morphology.remove_small_holes(seg, area_threshold=5, connectivity=1).astype(\"uint8\"), background=1)\n"
     ]
    },
    {
     "name": "stdout",
     "output_type": "stream",
     "text": [
      "1899 407\n",
      "8609\n",
      "273085 3188\n",
      "0583_OS\n"
     ]
    },
    {
     "name": "stderr",
     "output_type": "stream",
     "text": [
      "/home/alex_johannes/octa_gnn/OCTA_gnn/generator/heterograph_from_vvg_generator.py:148: UserWarning: Any labeled images will be returned as a boolean array. Did you mean to use a boolean array?\n",
      "  region_labels = measure.label(morphology.remove_small_holes(seg, area_threshold=5, connectivity=1).astype(\"uint8\"), background=1)\n"
     ]
    },
    {
     "name": "stdout",
     "output_type": "stream",
     "text": [
      "1936 487\n",
      "8787\n",
      "261562 4479\n",
      "0584_OD\n"
     ]
    },
    {
     "name": "stderr",
     "output_type": "stream",
     "text": [
      "/home/alex_johannes/octa_gnn/OCTA_gnn/generator/heterograph_from_vvg_generator.py:148: UserWarning: Any labeled images will be returned as a boolean array. Did you mean to use a boolean array?\n",
      "  region_labels = measure.label(morphology.remove_small_holes(seg, area_threshold=5, connectivity=1).astype(\"uint8\"), background=1)\n"
     ]
    },
    {
     "name": "stdout",
     "output_type": "stream",
     "text": [
      "1300 317\n",
      "6717\n",
      "250065 2367\n",
      "0585_OS\n"
     ]
    },
    {
     "name": "stderr",
     "output_type": "stream",
     "text": [
      "/home/alex_johannes/octa_gnn/OCTA_gnn/generator/heterograph_from_vvg_generator.py:148: UserWarning: Any labeled images will be returned as a boolean array. Did you mean to use a boolean array?\n",
      "  region_labels = measure.label(morphology.remove_small_holes(seg, area_threshold=5, connectivity=1).astype(\"uint8\"), background=1)\n"
     ]
    },
    {
     "name": "stdout",
     "output_type": "stream",
     "text": [
      "570 131\n",
      "3494\n",
      "181317 1254\n",
      "0441_OS\n"
     ]
    },
    {
     "name": "stderr",
     "output_type": "stream",
     "text": [
      "/home/alex_johannes/octa_gnn/OCTA_gnn/generator/heterograph_from_vvg_generator.py:148: UserWarning: Any labeled images will be returned as a boolean array. Did you mean to use a boolean array?\n",
      "  region_labels = measure.label(morphology.remove_small_holes(seg, area_threshold=5, connectivity=1).astype(\"uint8\"), background=1)\n"
     ]
    },
    {
     "name": "stdout",
     "output_type": "stream",
     "text": [
      "1700 412\n",
      "8308\n",
      "274045 3555\n",
      "0442_OD\n"
     ]
    },
    {
     "name": "stderr",
     "output_type": "stream",
     "text": [
      "/home/alex_johannes/octa_gnn/OCTA_gnn/generator/heterograph_from_vvg_generator.py:148: UserWarning: Any labeled images will be returned as a boolean array. Did you mean to use a boolean array?\n",
      "  region_labels = measure.label(morphology.remove_small_holes(seg, area_threshold=5, connectivity=1).astype(\"uint8\"), background=1)\n"
     ]
    },
    {
     "name": "stdout",
     "output_type": "stream",
     "text": [
      "657 133\n",
      "4012\n",
      "189172 1234\n",
      "0443_OS\n"
     ]
    },
    {
     "name": "stderr",
     "output_type": "stream",
     "text": [
      "/home/alex_johannes/octa_gnn/OCTA_gnn/generator/heterograph_from_vvg_generator.py:148: UserWarning: Any labeled images will be returned as a boolean array. Did you mean to use a boolean array?\n",
      "  region_labels = measure.label(morphology.remove_small_holes(seg, area_threshold=5, connectivity=1).astype(\"uint8\"), background=1)\n"
     ]
    },
    {
     "name": "stdout",
     "output_type": "stream",
     "text": [
      "1760 409\n",
      "8139\n",
      "269097 3598\n",
      "0444_OD\n"
     ]
    },
    {
     "name": "stderr",
     "output_type": "stream",
     "text": [
      "/home/alex_johannes/octa_gnn/OCTA_gnn/generator/heterograph_from_vvg_generator.py:148: UserWarning: Any labeled images will be returned as a boolean array. Did you mean to use a boolean array?\n",
      "  region_labels = measure.label(morphology.remove_small_holes(seg, area_threshold=5, connectivity=1).astype(\"uint8\"), background=1)\n"
     ]
    },
    {
     "name": "stdout",
     "output_type": "stream",
     "text": [
      "1150 288\n",
      "6074\n",
      "240489 2320\n",
      "0444_OS\n"
     ]
    },
    {
     "name": "stderr",
     "output_type": "stream",
     "text": [
      "/home/alex_johannes/octa_gnn/OCTA_gnn/generator/heterograph_from_vvg_generator.py:148: UserWarning: Any labeled images will be returned as a boolean array. Did you mean to use a boolean array?\n",
      "  region_labels = measure.label(morphology.remove_small_holes(seg, area_threshold=5, connectivity=1).astype(\"uint8\"), background=1)\n"
     ]
    },
    {
     "name": "stdout",
     "output_type": "stream",
     "text": [
      "1182 253\n",
      "6459\n",
      "247290 1914\n",
      "0445_OD\n"
     ]
    },
    {
     "name": "stderr",
     "output_type": "stream",
     "text": [
      "/home/alex_johannes/octa_gnn/OCTA_gnn/generator/heterograph_from_vvg_generator.py:148: UserWarning: Any labeled images will be returned as a boolean array. Did you mean to use a boolean array?\n",
      "  region_labels = measure.label(morphology.remove_small_holes(seg, area_threshold=5, connectivity=1).astype(\"uint8\"), background=1)\n"
     ]
    },
    {
     "name": "stdout",
     "output_type": "stream",
     "text": [
      "1615 354\n",
      "7743\n",
      "257609 3061\n",
      "0445_OS\n"
     ]
    },
    {
     "name": "stderr",
     "output_type": "stream",
     "text": [
      "/home/alex_johannes/octa_gnn/OCTA_gnn/generator/heterograph_from_vvg_generator.py:148: UserWarning: Any labeled images will be returned as a boolean array. Did you mean to use a boolean array?\n",
      "  region_labels = measure.label(morphology.remove_small_holes(seg, area_threshold=5, connectivity=1).astype(\"uint8\"), background=1)\n"
     ]
    },
    {
     "name": "stdout",
     "output_type": "stream",
     "text": [
      "1854 382\n",
      "8445\n",
      "273849 3313\n",
      "0446_OD\n"
     ]
    },
    {
     "name": "stderr",
     "output_type": "stream",
     "text": [
      "/home/alex_johannes/octa_gnn/OCTA_gnn/generator/heterograph_from_vvg_generator.py:148: UserWarning: Any labeled images will be returned as a boolean array. Did you mean to use a boolean array?\n",
      "  region_labels = measure.label(morphology.remove_small_holes(seg, area_threshold=5, connectivity=1).astype(\"uint8\"), background=1)\n"
     ]
    },
    {
     "name": "stdout",
     "output_type": "stream",
     "text": [
      "1613 377\n",
      "7893\n",
      "265787 3515\n",
      "0447_OD\n"
     ]
    },
    {
     "name": "stderr",
     "output_type": "stream",
     "text": [
      "/home/alex_johannes/octa_gnn/OCTA_gnn/generator/heterograph_from_vvg_generator.py:148: UserWarning: Any labeled images will be returned as a boolean array. Did you mean to use a boolean array?\n",
      "  region_labels = measure.label(morphology.remove_small_holes(seg, area_threshold=5, connectivity=1).astype(\"uint8\"), background=1)\n"
     ]
    },
    {
     "name": "stdout",
     "output_type": "stream",
     "text": [
      "1571 371\n",
      "7749\n",
      "261865 3873\n",
      "0448_OD\n"
     ]
    },
    {
     "name": "stderr",
     "output_type": "stream",
     "text": [
      "/home/alex_johannes/octa_gnn/OCTA_gnn/generator/heterograph_from_vvg_generator.py:148: UserWarning: Any labeled images will be returned as a boolean array. Did you mean to use a boolean array?\n",
      "  region_labels = measure.label(morphology.remove_small_holes(seg, area_threshold=5, connectivity=1).astype(\"uint8\"), background=1)\n"
     ]
    },
    {
     "name": "stdout",
     "output_type": "stream",
     "text": [
      "2027 447\n",
      "8959\n",
      "269975 3956\n",
      "0448_OS\n"
     ]
    },
    {
     "name": "stderr",
     "output_type": "stream",
     "text": [
      "/home/alex_johannes/octa_gnn/OCTA_gnn/generator/heterograph_from_vvg_generator.py:148: UserWarning: Any labeled images will be returned as a boolean array. Did you mean to use a boolean array?\n",
      "  region_labels = measure.label(morphology.remove_small_holes(seg, area_threshold=5, connectivity=1).astype(\"uint8\"), background=1)\n"
     ]
    },
    {
     "name": "stdout",
     "output_type": "stream",
     "text": [
      "1784 418\n",
      "8237\n",
      "271451 3339\n",
      "0449_OD\n"
     ]
    },
    {
     "name": "stderr",
     "output_type": "stream",
     "text": [
      "/home/alex_johannes/octa_gnn/OCTA_gnn/generator/heterograph_from_vvg_generator.py:148: UserWarning: Any labeled images will be returned as a boolean array. Did you mean to use a boolean array?\n",
      "  region_labels = measure.label(morphology.remove_small_holes(seg, area_threshold=5, connectivity=1).astype(\"uint8\"), background=1)\n"
     ]
    },
    {
     "name": "stdout",
     "output_type": "stream",
     "text": [
      "1890 401\n",
      "8814\n",
      "276150 3437\n",
      "0450_OS\n"
     ]
    },
    {
     "name": "stderr",
     "output_type": "stream",
     "text": [
      "/home/alex_johannes/octa_gnn/OCTA_gnn/generator/heterograph_from_vvg_generator.py:148: UserWarning: Any labeled images will be returned as a boolean array. Did you mean to use a boolean array?\n",
      "  region_labels = measure.label(morphology.remove_small_holes(seg, area_threshold=5, connectivity=1).astype(\"uint8\"), background=1)\n"
     ]
    },
    {
     "name": "stdout",
     "output_type": "stream",
     "text": [
      "1501 329\n",
      "7378\n",
      "254843 2597\n",
      "0451_OD\n"
     ]
    },
    {
     "name": "stderr",
     "output_type": "stream",
     "text": [
      "/home/alex_johannes/octa_gnn/OCTA_gnn/generator/heterograph_from_vvg_generator.py:148: UserWarning: Any labeled images will be returned as a boolean array. Did you mean to use a boolean array?\n",
      "  region_labels = measure.label(morphology.remove_small_holes(seg, area_threshold=5, connectivity=1).astype(\"uint8\"), background=1)\n"
     ]
    },
    {
     "name": "stdout",
     "output_type": "stream",
     "text": [
      "1874 392\n",
      "8637\n",
      "275208 2845\n",
      "0452_OD\n"
     ]
    },
    {
     "name": "stderr",
     "output_type": "stream",
     "text": [
      "/home/alex_johannes/octa_gnn/OCTA_gnn/generator/heterograph_from_vvg_generator.py:148: UserWarning: Any labeled images will be returned as a boolean array. Did you mean to use a boolean array?\n",
      "  region_labels = measure.label(morphology.remove_small_holes(seg, area_threshold=5, connectivity=1).astype(\"uint8\"), background=1)\n"
     ]
    },
    {
     "name": "stdout",
     "output_type": "stream",
     "text": [
      "856 170\n",
      "4743\n",
      "207939 1996\n",
      "0453_OS\n"
     ]
    },
    {
     "name": "stderr",
     "output_type": "stream",
     "text": [
      "/home/alex_johannes/octa_gnn/OCTA_gnn/generator/heterograph_from_vvg_generator.py:148: UserWarning: Any labeled images will be returned as a boolean array. Did you mean to use a boolean array?\n",
      "  region_labels = measure.label(morphology.remove_small_holes(seg, area_threshold=5, connectivity=1).astype(\"uint8\"), background=1)\n"
     ]
    },
    {
     "name": "stdout",
     "output_type": "stream",
     "text": [
      "1537 366\n",
      "7395\n",
      "256436 3060\n",
      "0454_OS\n"
     ]
    },
    {
     "name": "stderr",
     "output_type": "stream",
     "text": [
      "/home/alex_johannes/octa_gnn/OCTA_gnn/generator/heterograph_from_vvg_generator.py:148: UserWarning: Any labeled images will be returned as a boolean array. Did you mean to use a boolean array?\n",
      "  region_labels = measure.label(morphology.remove_small_holes(seg, area_threshold=5, connectivity=1).astype(\"uint8\"), background=1)\n"
     ]
    },
    {
     "name": "stdout",
     "output_type": "stream",
     "text": [
      "2012 431\n",
      "9290\n",
      "286976 3208\n",
      "0455_OD\n"
     ]
    },
    {
     "name": "stderr",
     "output_type": "stream",
     "text": [
      "/home/alex_johannes/octa_gnn/OCTA_gnn/generator/heterograph_from_vvg_generator.py:148: UserWarning: Any labeled images will be returned as a boolean array. Did you mean to use a boolean array?\n",
      "  region_labels = measure.label(morphology.remove_small_holes(seg, area_threshold=5, connectivity=1).astype(\"uint8\"), background=1)\n"
     ]
    },
    {
     "name": "stdout",
     "output_type": "stream",
     "text": [
      "1828 427\n",
      "8530\n",
      "266887 3315\n",
      "0456_OD\n"
     ]
    },
    {
     "name": "stderr",
     "output_type": "stream",
     "text": [
      "/home/alex_johannes/octa_gnn/OCTA_gnn/generator/heterograph_from_vvg_generator.py:148: UserWarning: Any labeled images will be returned as a boolean array. Did you mean to use a boolean array?\n",
      "  region_labels = measure.label(morphology.remove_small_holes(seg, area_threshold=5, connectivity=1).astype(\"uint8\"), background=1)\n"
     ]
    },
    {
     "name": "stdout",
     "output_type": "stream",
     "text": [
      "1779 377\n",
      "8451\n",
      "279397 2910\n",
      "0456_OS\n"
     ]
    },
    {
     "name": "stderr",
     "output_type": "stream",
     "text": [
      "/home/alex_johannes/octa_gnn/OCTA_gnn/generator/heterograph_from_vvg_generator.py:148: UserWarning: Any labeled images will be returned as a boolean array. Did you mean to use a boolean array?\n",
      "  region_labels = measure.label(morphology.remove_small_holes(seg, area_threshold=5, connectivity=1).astype(\"uint8\"), background=1)\n"
     ]
    },
    {
     "name": "stdout",
     "output_type": "stream",
     "text": [
      "1861 422\n",
      "8644\n",
      "271127 3205\n",
      "0457_OD\n"
     ]
    },
    {
     "name": "stderr",
     "output_type": "stream",
     "text": [
      "/home/alex_johannes/octa_gnn/OCTA_gnn/generator/heterograph_from_vvg_generator.py:148: UserWarning: Any labeled images will be returned as a boolean array. Did you mean to use a boolean array?\n",
      "  region_labels = measure.label(morphology.remove_small_holes(seg, area_threshold=5, connectivity=1).astype(\"uint8\"), background=1)\n"
     ]
    },
    {
     "name": "stdout",
     "output_type": "stream",
     "text": [
      "1959 450\n",
      "9047\n",
      "270176 3628\n",
      "0457_OS\n"
     ]
    },
    {
     "name": "stderr",
     "output_type": "stream",
     "text": [
      "/home/alex_johannes/octa_gnn/OCTA_gnn/generator/heterograph_from_vvg_generator.py:148: UserWarning: Any labeled images will be returned as a boolean array. Did you mean to use a boolean array?\n",
      "  region_labels = measure.label(morphology.remove_small_holes(seg, area_threshold=5, connectivity=1).astype(\"uint8\"), background=1)\n"
     ]
    },
    {
     "name": "stdout",
     "output_type": "stream",
     "text": [
      "2087 561\n",
      "9215\n",
      "267676 4543\n",
      "0458_OD\n"
     ]
    },
    {
     "name": "stderr",
     "output_type": "stream",
     "text": [
      "/home/alex_johannes/octa_gnn/OCTA_gnn/generator/heterograph_from_vvg_generator.py:148: UserWarning: Any labeled images will be returned as a boolean array. Did you mean to use a boolean array?\n",
      "  region_labels = measure.label(morphology.remove_small_holes(seg, area_threshold=5, connectivity=1).astype(\"uint8\"), background=1)\n"
     ]
    },
    {
     "name": "stdout",
     "output_type": "stream",
     "text": [
      "1971 446\n",
      "9034\n",
      "276970 3758\n",
      "0459_OD\n"
     ]
    },
    {
     "name": "stderr",
     "output_type": "stream",
     "text": [
      "/home/alex_johannes/octa_gnn/OCTA_gnn/generator/heterograph_from_vvg_generator.py:148: UserWarning: Any labeled images will be returned as a boolean array. Did you mean to use a boolean array?\n",
      "  region_labels = measure.label(morphology.remove_small_holes(seg, area_threshold=5, connectivity=1).astype(\"uint8\"), background=1)\n"
     ]
    },
    {
     "name": "stdout",
     "output_type": "stream",
     "text": [
      "1768 390\n",
      "8213\n",
      "261240 3282\n",
      "0459_OS\n"
     ]
    },
    {
     "name": "stderr",
     "output_type": "stream",
     "text": [
      "/home/alex_johannes/octa_gnn/OCTA_gnn/generator/heterograph_from_vvg_generator.py:148: UserWarning: Any labeled images will be returned as a boolean array. Did you mean to use a boolean array?\n",
      "  region_labels = measure.label(morphology.remove_small_holes(seg, area_threshold=5, connectivity=1).astype(\"uint8\"), background=1)\n"
     ]
    },
    {
     "name": "stdout",
     "output_type": "stream",
     "text": [
      "1667 410\n",
      "8156\n",
      "268999 3683\n",
      "0460_OD\n"
     ]
    },
    {
     "name": "stderr",
     "output_type": "stream",
     "text": [
      "/home/alex_johannes/octa_gnn/OCTA_gnn/generator/heterograph_from_vvg_generator.py:148: UserWarning: Any labeled images will be returned as a boolean array. Did you mean to use a boolean array?\n",
      "  region_labels = measure.label(morphology.remove_small_holes(seg, area_threshold=5, connectivity=1).astype(\"uint8\"), background=1)\n"
     ]
    },
    {
     "name": "stdout",
     "output_type": "stream",
     "text": [
      "1406 297\n",
      "7167\n",
      "255963 2385\n",
      "0460_OS\n"
     ]
    },
    {
     "name": "stderr",
     "output_type": "stream",
     "text": [
      "/home/alex_johannes/octa_gnn/OCTA_gnn/generator/heterograph_from_vvg_generator.py:148: UserWarning: Any labeled images will be returned as a boolean array. Did you mean to use a boolean array?\n",
      "  region_labels = measure.label(morphology.remove_small_holes(seg, area_threshold=5, connectivity=1).astype(\"uint8\"), background=1)\n"
     ]
    },
    {
     "name": "stdout",
     "output_type": "stream",
     "text": [
      "1459 372\n",
      "7139\n",
      "246485 3924\n",
      "0461_OS\n"
     ]
    },
    {
     "name": "stderr",
     "output_type": "stream",
     "text": [
      "/home/alex_johannes/octa_gnn/OCTA_gnn/generator/heterograph_from_vvg_generator.py:148: UserWarning: Any labeled images will be returned as a boolean array. Did you mean to use a boolean array?\n",
      "  region_labels = measure.label(morphology.remove_small_holes(seg, area_threshold=5, connectivity=1).astype(\"uint8\"), background=1)\n"
     ]
    },
    {
     "name": "stdout",
     "output_type": "stream",
     "text": [
      "1993 466\n",
      "8827\n",
      "259938 4489\n",
      "0462_OD\n"
     ]
    },
    {
     "name": "stderr",
     "output_type": "stream",
     "text": [
      "/home/alex_johannes/octa_gnn/OCTA_gnn/generator/heterograph_from_vvg_generator.py:148: UserWarning: Any labeled images will be returned as a boolean array. Did you mean to use a boolean array?\n",
      "  region_labels = measure.label(morphology.remove_small_holes(seg, area_threshold=5, connectivity=1).astype(\"uint8\"), background=1)\n"
     ]
    },
    {
     "name": "stdout",
     "output_type": "stream",
     "text": [
      "1496 355\n",
      "7282\n",
      "254624 3317\n",
      "0627_OD\n"
     ]
    },
    {
     "name": "stderr",
     "output_type": "stream",
     "text": [
      "/home/alex_johannes/octa_gnn/OCTA_gnn/generator/heterograph_from_vvg_generator.py:148: UserWarning: Any labeled images will be returned as a boolean array. Did you mean to use a boolean array?\n",
      "  region_labels = measure.label(morphology.remove_small_holes(seg, area_threshold=5, connectivity=1).astype(\"uint8\"), background=1)\n"
     ]
    },
    {
     "name": "stdout",
     "output_type": "stream",
     "text": [
      "1528 369\n",
      "7518\n",
      "261150 2979\n",
      "0627_OS\n"
     ]
    },
    {
     "name": "stderr",
     "output_type": "stream",
     "text": [
      "/home/alex_johannes/octa_gnn/OCTA_gnn/generator/heterograph_from_vvg_generator.py:148: UserWarning: Any labeled images will be returned as a boolean array. Did you mean to use a boolean array?\n",
      "  region_labels = measure.label(morphology.remove_small_holes(seg, area_threshold=5, connectivity=1).astype(\"uint8\"), background=1)\n"
     ]
    },
    {
     "name": "stdout",
     "output_type": "stream",
     "text": [
      "1347 321\n",
      "6853\n",
      "240635 2699\n",
      "0628_OD\n"
     ]
    },
    {
     "name": "stderr",
     "output_type": "stream",
     "text": [
      "/home/alex_johannes/octa_gnn/OCTA_gnn/generator/heterograph_from_vvg_generator.py:148: UserWarning: Any labeled images will be returned as a boolean array. Did you mean to use a boolean array?\n",
      "  region_labels = measure.label(morphology.remove_small_holes(seg, area_threshold=5, connectivity=1).astype(\"uint8\"), background=1)\n"
     ]
    },
    {
     "name": "stdout",
     "output_type": "stream",
     "text": [
      "1815 422\n",
      "8296\n",
      "258986 3879\n",
      "0629_OS\n"
     ]
    },
    {
     "name": "stderr",
     "output_type": "stream",
     "text": [
      "/home/alex_johannes/octa_gnn/OCTA_gnn/generator/heterograph_from_vvg_generator.py:148: UserWarning: Any labeled images will be returned as a boolean array. Did you mean to use a boolean array?\n",
      "  region_labels = measure.label(morphology.remove_small_holes(seg, area_threshold=5, connectivity=1).astype(\"uint8\"), background=1)\n"
     ]
    },
    {
     "name": "stdout",
     "output_type": "stream",
     "text": [
      "1917 371\n",
      "8702\n",
      "265246 3124\n",
      "0630_OD\n"
     ]
    },
    {
     "name": "stderr",
     "output_type": "stream",
     "text": [
      "/home/alex_johannes/octa_gnn/OCTA_gnn/generator/heterograph_from_vvg_generator.py:148: UserWarning: Any labeled images will be returned as a boolean array. Did you mean to use a boolean array?\n",
      "  region_labels = measure.label(morphology.remove_small_holes(seg, area_threshold=5, connectivity=1).astype(\"uint8\"), background=1)\n"
     ]
    },
    {
     "name": "stdout",
     "output_type": "stream",
     "text": [
      "1681 377\n",
      "7972\n",
      "268402 2658\n",
      "0630_OS\n"
     ]
    },
    {
     "name": "stderr",
     "output_type": "stream",
     "text": [
      "/home/alex_johannes/octa_gnn/OCTA_gnn/generator/heterograph_from_vvg_generator.py:148: UserWarning: Any labeled images will be returned as a boolean array. Did you mean to use a boolean array?\n",
      "  region_labels = measure.label(morphology.remove_small_holes(seg, area_threshold=5, connectivity=1).astype(\"uint8\"), background=1)\n"
     ]
    },
    {
     "name": "stdout",
     "output_type": "stream",
     "text": [
      "1711 361\n",
      "8244\n",
      "274001 2337\n",
      "0631_OS\n"
     ]
    },
    {
     "name": "stderr",
     "output_type": "stream",
     "text": [
      "/home/alex_johannes/octa_gnn/OCTA_gnn/generator/heterograph_from_vvg_generator.py:148: UserWarning: Any labeled images will be returned as a boolean array. Did you mean to use a boolean array?\n",
      "  region_labels = measure.label(morphology.remove_small_holes(seg, area_threshold=5, connectivity=1).astype(\"uint8\"), background=1)\n"
     ]
    },
    {
     "name": "stdout",
     "output_type": "stream",
     "text": [
      "472 83\n",
      "3062\n",
      "187666 998\n",
      "0632_OD\n"
     ]
    },
    {
     "name": "stderr",
     "output_type": "stream",
     "text": [
      "/home/alex_johannes/octa_gnn/OCTA_gnn/generator/heterograph_from_vvg_generator.py:148: UserWarning: Any labeled images will be returned as a boolean array. Did you mean to use a boolean array?\n",
      "  region_labels = measure.label(morphology.remove_small_holes(seg, area_threshold=5, connectivity=1).astype(\"uint8\"), background=1)\n"
     ]
    },
    {
     "name": "stdout",
     "output_type": "stream",
     "text": [
      "1871 423\n",
      "8343\n",
      "263295 3239\n",
      "0633_OS\n"
     ]
    },
    {
     "name": "stderr",
     "output_type": "stream",
     "text": [
      "/home/alex_johannes/octa_gnn/OCTA_gnn/generator/heterograph_from_vvg_generator.py:148: UserWarning: Any labeled images will be returned as a boolean array. Did you mean to use a boolean array?\n",
      "  region_labels = measure.label(morphology.remove_small_holes(seg, area_threshold=5, connectivity=1).astype(\"uint8\"), background=1)\n"
     ]
    },
    {
     "name": "stdout",
     "output_type": "stream",
     "text": [
      "1697 425\n",
      "8050\n",
      "266262 3271\n",
      "0634_OD\n"
     ]
    },
    {
     "name": "stderr",
     "output_type": "stream",
     "text": [
      "/home/alex_johannes/octa_gnn/OCTA_gnn/generator/heterograph_from_vvg_generator.py:148: UserWarning: Any labeled images will be returned as a boolean array. Did you mean to use a boolean array?\n",
      "  region_labels = measure.label(morphology.remove_small_holes(seg, area_threshold=5, connectivity=1).astype(\"uint8\"), background=1)\n"
     ]
    },
    {
     "name": "stdout",
     "output_type": "stream",
     "text": [
      "835 193\n",
      "4736\n",
      "231241 1432\n",
      "0634_OS\n"
     ]
    },
    {
     "name": "stderr",
     "output_type": "stream",
     "text": [
      "/home/alex_johannes/octa_gnn/OCTA_gnn/generator/heterograph_from_vvg_generator.py:148: UserWarning: Any labeled images will be returned as a boolean array. Did you mean to use a boolean array?\n",
      "  region_labels = measure.label(morphology.remove_small_holes(seg, area_threshold=5, connectivity=1).astype(\"uint8\"), background=1)\n"
     ]
    },
    {
     "name": "stdout",
     "output_type": "stream",
     "text": [
      "739 212\n",
      "4346\n",
      "195340 2095\n",
      "0635_OD\n"
     ]
    },
    {
     "name": "stderr",
     "output_type": "stream",
     "text": [
      "/home/alex_johannes/octa_gnn/OCTA_gnn/generator/heterograph_from_vvg_generator.py:148: UserWarning: Any labeled images will be returned as a boolean array. Did you mean to use a boolean array?\n",
      "  region_labels = measure.label(morphology.remove_small_holes(seg, area_threshold=5, connectivity=1).astype(\"uint8\"), background=1)\n"
     ]
    },
    {
     "name": "stdout",
     "output_type": "stream",
     "text": [
      "1894 468\n",
      "8910\n",
      "281598 3374\n",
      "0635_OS\n"
     ]
    },
    {
     "name": "stderr",
     "output_type": "stream",
     "text": [
      "/home/alex_johannes/octa_gnn/OCTA_gnn/generator/heterograph_from_vvg_generator.py:148: UserWarning: Any labeled images will be returned as a boolean array. Did you mean to use a boolean array?\n",
      "  region_labels = measure.label(morphology.remove_small_holes(seg, area_threshold=5, connectivity=1).astype(\"uint8\"), background=1)\n"
     ]
    },
    {
     "name": "stdout",
     "output_type": "stream",
     "text": [
      "1765 453\n",
      "8369\n",
      "271978 4151\n",
      "0636_OD\n"
     ]
    },
    {
     "name": "stderr",
     "output_type": "stream",
     "text": [
      "/home/alex_johannes/octa_gnn/OCTA_gnn/generator/heterograph_from_vvg_generator.py:148: UserWarning: Any labeled images will be returned as a boolean array. Did you mean to use a boolean array?\n",
      "  region_labels = measure.label(morphology.remove_small_holes(seg, area_threshold=5, connectivity=1).astype(\"uint8\"), background=1)\n"
     ]
    },
    {
     "name": "stdout",
     "output_type": "stream",
     "text": [
      "1594 372\n",
      "7822\n",
      "251376 3149\n",
      "0636_OS\n"
     ]
    },
    {
     "name": "stderr",
     "output_type": "stream",
     "text": [
      "/home/alex_johannes/octa_gnn/OCTA_gnn/generator/heterograph_from_vvg_generator.py:148: UserWarning: Any labeled images will be returned as a boolean array. Did you mean to use a boolean array?\n",
      "  region_labels = measure.label(morphology.remove_small_holes(seg, area_threshold=5, connectivity=1).astype(\"uint8\"), background=1)\n"
     ]
    },
    {
     "name": "stdout",
     "output_type": "stream",
     "text": [
      "1316 355\n",
      "6749\n",
      "243559 2698\n",
      "0637_OD\n"
     ]
    },
    {
     "name": "stderr",
     "output_type": "stream",
     "text": [
      "/home/alex_johannes/octa_gnn/OCTA_gnn/generator/heterograph_from_vvg_generator.py:148: UserWarning: Any labeled images will be returned as a boolean array. Did you mean to use a boolean array?\n",
      "  region_labels = measure.label(morphology.remove_small_holes(seg, area_threshold=5, connectivity=1).astype(\"uint8\"), background=1)\n"
     ]
    },
    {
     "name": "stdout",
     "output_type": "stream",
     "text": [
      "520 113\n",
      "3170\n",
      "177098 1219\n",
      "0637_OS\n"
     ]
    },
    {
     "name": "stderr",
     "output_type": "stream",
     "text": [
      "/home/alex_johannes/octa_gnn/OCTA_gnn/generator/heterograph_from_vvg_generator.py:148: UserWarning: Any labeled images will be returned as a boolean array. Did you mean to use a boolean array?\n",
      "  region_labels = measure.label(morphology.remove_small_holes(seg, area_threshold=5, connectivity=1).astype(\"uint8\"), background=1)\n"
     ]
    },
    {
     "name": "stdout",
     "output_type": "stream",
     "text": [
      "498 97\n",
      "3063\n",
      "179055 1084\n",
      "0638_OD\n"
     ]
    },
    {
     "name": "stderr",
     "output_type": "stream",
     "text": [
      "/home/alex_johannes/octa_gnn/OCTA_gnn/generator/heterograph_from_vvg_generator.py:148: UserWarning: Any labeled images will be returned as a boolean array. Did you mean to use a boolean array?\n",
      "  region_labels = measure.label(morphology.remove_small_holes(seg, area_threshold=5, connectivity=1).astype(\"uint8\"), background=1)\n"
     ]
    },
    {
     "name": "stdout",
     "output_type": "stream",
     "text": [
      "1957 474\n",
      "8869\n",
      "273171 4115\n",
      "0638_OS\n"
     ]
    },
    {
     "name": "stderr",
     "output_type": "stream",
     "text": [
      "/home/alex_johannes/octa_gnn/OCTA_gnn/generator/heterograph_from_vvg_generator.py:148: UserWarning: Any labeled images will be returned as a boolean array. Did you mean to use a boolean array?\n",
      "  region_labels = measure.label(morphology.remove_small_holes(seg, area_threshold=5, connectivity=1).astype(\"uint8\"), background=1)\n"
     ]
    },
    {
     "name": "stdout",
     "output_type": "stream",
     "text": [
      "1993 437\n",
      "9059\n",
      "281329 3262\n",
      "0639_OD\n"
     ]
    },
    {
     "name": "stderr",
     "output_type": "stream",
     "text": [
      "/home/alex_johannes/octa_gnn/OCTA_gnn/generator/heterograph_from_vvg_generator.py:148: UserWarning: Any labeled images will be returned as a boolean array. Did you mean to use a boolean array?\n",
      "  region_labels = measure.label(morphology.remove_small_holes(seg, area_threshold=5, connectivity=1).astype(\"uint8\"), background=1)\n"
     ]
    },
    {
     "name": "stdout",
     "output_type": "stream",
     "text": [
      "1750 404\n",
      "8244\n",
      "265748 3583\n",
      "0640_OD\n"
     ]
    },
    {
     "name": "stderr",
     "output_type": "stream",
     "text": [
      "/home/alex_johannes/octa_gnn/OCTA_gnn/generator/heterograph_from_vvg_generator.py:148: UserWarning: Any labeled images will be returned as a boolean array. Did you mean to use a boolean array?\n",
      "  region_labels = measure.label(morphology.remove_small_holes(seg, area_threshold=5, connectivity=1).astype(\"uint8\"), background=1)\n"
     ]
    },
    {
     "name": "stdout",
     "output_type": "stream",
     "text": [
      "1776 402\n",
      "8509\n",
      "267556 3519\n",
      "0640_OS\n"
     ]
    },
    {
     "name": "stderr",
     "output_type": "stream",
     "text": [
      "/home/alex_johannes/octa_gnn/OCTA_gnn/generator/heterograph_from_vvg_generator.py:148: UserWarning: Any labeled images will be returned as a boolean array. Did you mean to use a boolean array?\n",
      "  region_labels = measure.label(morphology.remove_small_holes(seg, area_threshold=5, connectivity=1).astype(\"uint8\"), background=1)\n"
     ]
    },
    {
     "name": "stdout",
     "output_type": "stream",
     "text": [
      "1875 408\n",
      "8952\n",
      "279647 3414\n",
      "0641_OS\n"
     ]
    },
    {
     "name": "stderr",
     "output_type": "stream",
     "text": [
      "/home/alex_johannes/octa_gnn/OCTA_gnn/generator/heterograph_from_vvg_generator.py:148: UserWarning: Any labeled images will be returned as a boolean array. Did you mean to use a boolean array?\n",
      "  region_labels = measure.label(morphology.remove_small_holes(seg, area_threshold=5, connectivity=1).astype(\"uint8\"), background=1)\n"
     ]
    },
    {
     "name": "stdout",
     "output_type": "stream",
     "text": [
      "1930 418\n",
      "8861\n",
      "276364 3239\n",
      "0642_OS\n"
     ]
    },
    {
     "name": "stderr",
     "output_type": "stream",
     "text": [
      "/home/alex_johannes/octa_gnn/OCTA_gnn/generator/heterograph_from_vvg_generator.py:148: UserWarning: Any labeled images will be returned as a boolean array. Did you mean to use a boolean array?\n",
      "  region_labels = measure.label(morphology.remove_small_holes(seg, area_threshold=5, connectivity=1).astype(\"uint8\"), background=1)\n"
     ]
    },
    {
     "name": "stdout",
     "output_type": "stream",
     "text": [
      "354 75\n",
      "2326\n",
      "161114 517\n",
      "0643_OD\n"
     ]
    },
    {
     "name": "stderr",
     "output_type": "stream",
     "text": [
      "/home/alex_johannes/octa_gnn/OCTA_gnn/generator/heterograph_from_vvg_generator.py:148: UserWarning: Any labeled images will be returned as a boolean array. Did you mean to use a boolean array?\n",
      "  region_labels = measure.label(morphology.remove_small_holes(seg, area_threshold=5, connectivity=1).astype(\"uint8\"), background=1)\n"
     ]
    },
    {
     "name": "stdout",
     "output_type": "stream",
     "text": [
      "1828 393\n",
      "8538\n",
      "276446 2774\n",
      "0643_OS\n"
     ]
    },
    {
     "name": "stderr",
     "output_type": "stream",
     "text": [
      "/home/alex_johannes/octa_gnn/OCTA_gnn/generator/heterograph_from_vvg_generator.py:148: UserWarning: Any labeled images will be returned as a boolean array. Did you mean to use a boolean array?\n",
      "  region_labels = measure.label(morphology.remove_small_holes(seg, area_threshold=5, connectivity=1).astype(\"uint8\"), background=1)\n"
     ]
    },
    {
     "name": "stdout",
     "output_type": "stream",
     "text": [
      "2098 499\n",
      "9299\n",
      "273446 4341\n",
      "0644_OD\n"
     ]
    },
    {
     "name": "stderr",
     "output_type": "stream",
     "text": [
      "/home/alex_johannes/octa_gnn/OCTA_gnn/generator/heterograph_from_vvg_generator.py:148: UserWarning: Any labeled images will be returned as a boolean array. Did you mean to use a boolean array?\n",
      "  region_labels = measure.label(morphology.remove_small_holes(seg, area_threshold=5, connectivity=1).astype(\"uint8\"), background=1)\n"
     ]
    },
    {
     "name": "stdout",
     "output_type": "stream",
     "text": [
      "1011 255\n",
      "5404\n",
      "222359 2378\n",
      "0644_OS\n"
     ]
    },
    {
     "name": "stderr",
     "output_type": "stream",
     "text": [
      "/home/alex_johannes/octa_gnn/OCTA_gnn/generator/heterograph_from_vvg_generator.py:148: UserWarning: Any labeled images will be returned as a boolean array. Did you mean to use a boolean array?\n",
      "  region_labels = measure.label(morphology.remove_small_holes(seg, area_threshold=5, connectivity=1).astype(\"uint8\"), background=1)\n"
     ]
    },
    {
     "name": "stdout",
     "output_type": "stream",
     "text": [
      "1559 373\n",
      "7321\n",
      "251410 3247\n",
      "0645_OD\n"
     ]
    },
    {
     "name": "stderr",
     "output_type": "stream",
     "text": [
      "/home/alex_johannes/octa_gnn/OCTA_gnn/generator/heterograph_from_vvg_generator.py:148: UserWarning: Any labeled images will be returned as a boolean array. Did you mean to use a boolean array?\n",
      "  region_labels = measure.label(morphology.remove_small_holes(seg, area_threshold=5, connectivity=1).astype(\"uint8\"), background=1)\n"
     ]
    },
    {
     "name": "stdout",
     "output_type": "stream",
     "text": [
      "1862 444\n",
      "8283\n",
      "262386 4068\n",
      "0360_OS\n"
     ]
    },
    {
     "name": "stderr",
     "output_type": "stream",
     "text": [
      "/home/alex_johannes/octa_gnn/OCTA_gnn/generator/heterograph_from_vvg_generator.py:148: UserWarning: Any labeled images will be returned as a boolean array. Did you mean to use a boolean array?\n",
      "  region_labels = measure.label(morphology.remove_small_holes(seg, area_threshold=5, connectivity=1).astype(\"uint8\"), background=1)\n"
     ]
    },
    {
     "name": "stdout",
     "output_type": "stream",
     "text": [
      "1818 459\n",
      "8316\n",
      "264830 3877\n",
      "0361_OS\n"
     ]
    },
    {
     "name": "stderr",
     "output_type": "stream",
     "text": [
      "/home/alex_johannes/octa_gnn/OCTA_gnn/generator/heterograph_from_vvg_generator.py:148: UserWarning: Any labeled images will be returned as a boolean array. Did you mean to use a boolean array?\n",
      "  region_labels = measure.label(morphology.remove_small_holes(seg, area_threshold=5, connectivity=1).astype(\"uint8\"), background=1)\n"
     ]
    },
    {
     "name": "stdout",
     "output_type": "stream",
     "text": [
      "1991 455\n",
      "9175\n",
      "280206 3655\n",
      "0362_OD\n"
     ]
    },
    {
     "name": "stderr",
     "output_type": "stream",
     "text": [
      "/home/alex_johannes/octa_gnn/OCTA_gnn/generator/heterograph_from_vvg_generator.py:148: UserWarning: Any labeled images will be returned as a boolean array. Did you mean to use a boolean array?\n",
      "  region_labels = measure.label(morphology.remove_small_holes(seg, area_threshold=5, connectivity=1).astype(\"uint8\"), background=1)\n"
     ]
    },
    {
     "name": "stdout",
     "output_type": "stream",
     "text": [
      "1878 379\n",
      "8930\n",
      "277896 2571\n",
      "0363_OD\n"
     ]
    },
    {
     "name": "stderr",
     "output_type": "stream",
     "text": [
      "/home/alex_johannes/octa_gnn/OCTA_gnn/generator/heterograph_from_vvg_generator.py:148: UserWarning: Any labeled images will be returned as a boolean array. Did you mean to use a boolean array?\n",
      "  region_labels = measure.label(morphology.remove_small_holes(seg, area_threshold=5, connectivity=1).astype(\"uint8\"), background=1)\n"
     ]
    },
    {
     "name": "stdout",
     "output_type": "stream",
     "text": [
      "1483 376\n",
      "7585\n",
      "267637 3521\n",
      "0363_OS\n"
     ]
    },
    {
     "name": "stderr",
     "output_type": "stream",
     "text": [
      "/home/alex_johannes/octa_gnn/OCTA_gnn/generator/heterograph_from_vvg_generator.py:148: UserWarning: Any labeled images will be returned as a boolean array. Did you mean to use a boolean array?\n",
      "  region_labels = measure.label(morphology.remove_small_holes(seg, area_threshold=5, connectivity=1).astype(\"uint8\"), background=1)\n"
     ]
    },
    {
     "name": "stdout",
     "output_type": "stream",
     "text": [
      "1492 354\n",
      "7358\n",
      "256721 3101\n",
      "0364_OS\n"
     ]
    },
    {
     "name": "stderr",
     "output_type": "stream",
     "text": [
      "/home/alex_johannes/octa_gnn/OCTA_gnn/generator/heterograph_from_vvg_generator.py:148: UserWarning: Any labeled images will be returned as a boolean array. Did you mean to use a boolean array?\n",
      "  region_labels = measure.label(morphology.remove_small_holes(seg, area_threshold=5, connectivity=1).astype(\"uint8\"), background=1)\n"
     ]
    },
    {
     "name": "stdout",
     "output_type": "stream",
     "text": [
      "531 114\n",
      "3127\n",
      "178079 1072\n",
      "0365_OD\n"
     ]
    },
    {
     "name": "stderr",
     "output_type": "stream",
     "text": [
      "/home/alex_johannes/octa_gnn/OCTA_gnn/generator/heterograph_from_vvg_generator.py:148: UserWarning: Any labeled images will be returned as a boolean array. Did you mean to use a boolean array?\n",
      "  region_labels = measure.label(morphology.remove_small_holes(seg, area_threshold=5, connectivity=1).astype(\"uint8\"), background=1)\n"
     ]
    },
    {
     "name": "stdout",
     "output_type": "stream",
     "text": [
      "1849 362\n",
      "8745\n",
      "281066 2819\n",
      "0365_OS\n"
     ]
    },
    {
     "name": "stderr",
     "output_type": "stream",
     "text": [
      "/home/alex_johannes/octa_gnn/OCTA_gnn/generator/heterograph_from_vvg_generator.py:148: UserWarning: Any labeled images will be returned as a boolean array. Did you mean to use a boolean array?\n",
      "  region_labels = measure.label(morphology.remove_small_holes(seg, area_threshold=5, connectivity=1).astype(\"uint8\"), background=1)\n"
     ]
    },
    {
     "name": "stdout",
     "output_type": "stream",
     "text": [
      "1721 424\n",
      "8276\n",
      "271587 3481\n",
      "0366_OD\n"
     ]
    },
    {
     "name": "stderr",
     "output_type": "stream",
     "text": [
      "/home/alex_johannes/octa_gnn/OCTA_gnn/generator/heterograph_from_vvg_generator.py:148: UserWarning: Any labeled images will be returned as a boolean array. Did you mean to use a boolean array?\n",
      "  region_labels = measure.label(morphology.remove_small_holes(seg, area_threshold=5, connectivity=1).astype(\"uint8\"), background=1)\n"
     ]
    },
    {
     "name": "stdout",
     "output_type": "stream",
     "text": [
      "368 90\n",
      "1896\n",
      "137299 1270\n",
      "0367_OD\n"
     ]
    },
    {
     "name": "stderr",
     "output_type": "stream",
     "text": [
      "/home/alex_johannes/octa_gnn/OCTA_gnn/generator/heterograph_from_vvg_generator.py:148: UserWarning: Any labeled images will be returned as a boolean array. Did you mean to use a boolean array?\n",
      "  region_labels = measure.label(morphology.remove_small_holes(seg, area_threshold=5, connectivity=1).astype(\"uint8\"), background=1)\n"
     ]
    },
    {
     "name": "stdout",
     "output_type": "stream",
     "text": [
      "1899 496\n",
      "8650\n",
      "260778 4284\n",
      "0368_OD\n"
     ]
    },
    {
     "name": "stderr",
     "output_type": "stream",
     "text": [
      "/home/alex_johannes/octa_gnn/OCTA_gnn/generator/heterograph_from_vvg_generator.py:148: UserWarning: Any labeled images will be returned as a boolean array. Did you mean to use a boolean array?\n",
      "  region_labels = measure.label(morphology.remove_small_holes(seg, area_threshold=5, connectivity=1).astype(\"uint8\"), background=1)\n"
     ]
    },
    {
     "name": "stdout",
     "output_type": "stream",
     "text": [
      "1702 399\n",
      "8622\n",
      "276092 3275\n",
      "0368_OS\n"
     ]
    },
    {
     "name": "stderr",
     "output_type": "stream",
     "text": [
      "/home/alex_johannes/octa_gnn/OCTA_gnn/generator/heterograph_from_vvg_generator.py:148: UserWarning: Any labeled images will be returned as a boolean array. Did you mean to use a boolean array?\n",
      "  region_labels = measure.label(morphology.remove_small_holes(seg, area_threshold=5, connectivity=1).astype(\"uint8\"), background=1)\n"
     ]
    },
    {
     "name": "stdout",
     "output_type": "stream",
     "text": [
      "1779 420\n",
      "8663\n",
      "281609 3038\n",
      "0369_OD\n"
     ]
    },
    {
     "name": "stderr",
     "output_type": "stream",
     "text": [
      "/home/alex_johannes/octa_gnn/OCTA_gnn/generator/heterograph_from_vvg_generator.py:148: UserWarning: Any labeled images will be returned as a boolean array. Did you mean to use a boolean array?\n",
      "  region_labels = measure.label(morphology.remove_small_holes(seg, area_threshold=5, connectivity=1).astype(\"uint8\"), background=1)\n"
     ]
    },
    {
     "name": "stdout",
     "output_type": "stream",
     "text": [
      "492 134\n",
      "3242\n",
      "177025 1907\n",
      "0369_OS\n"
     ]
    },
    {
     "name": "stderr",
     "output_type": "stream",
     "text": [
      "/home/alex_johannes/octa_gnn/OCTA_gnn/generator/heterograph_from_vvg_generator.py:148: UserWarning: Any labeled images will be returned as a boolean array. Did you mean to use a boolean array?\n",
      "  region_labels = measure.label(morphology.remove_small_holes(seg, area_threshold=5, connectivity=1).astype(\"uint8\"), background=1)\n"
     ]
    },
    {
     "name": "stdout",
     "output_type": "stream",
     "text": [
      "659 148\n",
      "3833\n",
      "203988 1217\n",
      "0370_OD\n"
     ]
    },
    {
     "name": "stderr",
     "output_type": "stream",
     "text": [
      "/home/alex_johannes/octa_gnn/OCTA_gnn/generator/heterograph_from_vvg_generator.py:148: UserWarning: Any labeled images will be returned as a boolean array. Did you mean to use a boolean array?\n",
      "  region_labels = measure.label(morphology.remove_small_holes(seg, area_threshold=5, connectivity=1).astype(\"uint8\"), background=1)\n"
     ]
    },
    {
     "name": "stdout",
     "output_type": "stream",
     "text": [
      "1738 454\n",
      "7987\n",
      "253280 3862\n",
      "0370_OS\n"
     ]
    },
    {
     "name": "stderr",
     "output_type": "stream",
     "text": [
      "/home/alex_johannes/octa_gnn/OCTA_gnn/generator/heterograph_from_vvg_generator.py:148: UserWarning: Any labeled images will be returned as a boolean array. Did you mean to use a boolean array?\n",
      "  region_labels = measure.label(morphology.remove_small_holes(seg, area_threshold=5, connectivity=1).astype(\"uint8\"), background=1)\n"
     ]
    },
    {
     "name": "stdout",
     "output_type": "stream",
     "text": [
      "1960 420\n",
      "8987\n",
      "277871 3965\n",
      "0371_OS\n"
     ]
    },
    {
     "name": "stderr",
     "output_type": "stream",
     "text": [
      "/home/alex_johannes/octa_gnn/OCTA_gnn/generator/heterograph_from_vvg_generator.py:148: UserWarning: Any labeled images will be returned as a boolean array. Did you mean to use a boolean array?\n",
      "  region_labels = measure.label(morphology.remove_small_holes(seg, area_threshold=5, connectivity=1).astype(\"uint8\"), background=1)\n"
     ]
    },
    {
     "name": "stdout",
     "output_type": "stream",
     "text": [
      "887 244\n",
      "5001\n",
      "220737 2086\n",
      "0372_OD\n"
     ]
    },
    {
     "name": "stderr",
     "output_type": "stream",
     "text": [
      "/home/alex_johannes/octa_gnn/OCTA_gnn/generator/heterograph_from_vvg_generator.py:148: UserWarning: Any labeled images will be returned as a boolean array. Did you mean to use a boolean array?\n",
      "  region_labels = measure.label(morphology.remove_small_holes(seg, area_threshold=5, connectivity=1).astype(\"uint8\"), background=1)\n"
     ]
    },
    {
     "name": "stdout",
     "output_type": "stream",
     "text": [
      "1520 384\n",
      "7220\n",
      "246576 3287\n",
      "0372_OS\n"
     ]
    },
    {
     "name": "stderr",
     "output_type": "stream",
     "text": [
      "/home/alex_johannes/octa_gnn/OCTA_gnn/generator/heterograph_from_vvg_generator.py:148: UserWarning: Any labeled images will be returned as a boolean array. Did you mean to use a boolean array?\n",
      "  region_labels = measure.label(morphology.remove_small_holes(seg, area_threshold=5, connectivity=1).astype(\"uint8\"), background=1)\n"
     ]
    },
    {
     "name": "stdout",
     "output_type": "stream",
     "text": [
      "1221 300\n",
      "6242\n",
      "232723 2712\n",
      "0373_OS\n"
     ]
    },
    {
     "name": "stderr",
     "output_type": "stream",
     "text": [
      "/home/alex_johannes/octa_gnn/OCTA_gnn/generator/heterograph_from_vvg_generator.py:148: UserWarning: Any labeled images will be returned as a boolean array. Did you mean to use a boolean array?\n",
      "  region_labels = measure.label(morphology.remove_small_holes(seg, area_threshold=5, connectivity=1).astype(\"uint8\"), background=1)\n"
     ]
    },
    {
     "name": "stdout",
     "output_type": "stream",
     "text": [
      "904 218\n",
      "4882\n",
      "206452 2595\n",
      "0374_OS\n"
     ]
    },
    {
     "name": "stderr",
     "output_type": "stream",
     "text": [
      "/home/alex_johannes/octa_gnn/OCTA_gnn/generator/heterograph_from_vvg_generator.py:148: UserWarning: Any labeled images will be returned as a boolean array. Did you mean to use a boolean array?\n",
      "  region_labels = measure.label(morphology.remove_small_holes(seg, area_threshold=5, connectivity=1).astype(\"uint8\"), background=1)\n"
     ]
    },
    {
     "name": "stdout",
     "output_type": "stream",
     "text": [
      "1688 365\n",
      "8119\n",
      "269079 2998\n",
      "0287_OS\n"
     ]
    },
    {
     "name": "stderr",
     "output_type": "stream",
     "text": [
      "/home/alex_johannes/octa_gnn/OCTA_gnn/generator/heterograph_from_vvg_generator.py:148: UserWarning: Any labeled images will be returned as a boolean array. Did you mean to use a boolean array?\n",
      "  region_labels = measure.label(morphology.remove_small_holes(seg, area_threshold=5, connectivity=1).astype(\"uint8\"), background=1)\n"
     ]
    },
    {
     "name": "stdout",
     "output_type": "stream",
     "text": [
      "761 171\n",
      "4314\n",
      "195409 1488\n",
      "0288_OS\n"
     ]
    },
    {
     "name": "stderr",
     "output_type": "stream",
     "text": [
      "/home/alex_johannes/octa_gnn/OCTA_gnn/generator/heterograph_from_vvg_generator.py:148: UserWarning: Any labeled images will be returned as a boolean array. Did you mean to use a boolean array?\n",
      "  region_labels = measure.label(morphology.remove_small_holes(seg, area_threshold=5, connectivity=1).astype(\"uint8\"), background=1)\n"
     ]
    },
    {
     "name": "stdout",
     "output_type": "stream",
     "text": [
      "1351 330\n",
      "7094\n",
      "246588 2495\n",
      "0289_OD\n"
     ]
    },
    {
     "name": "stderr",
     "output_type": "stream",
     "text": [
      "/home/alex_johannes/octa_gnn/OCTA_gnn/generator/heterograph_from_vvg_generator.py:148: UserWarning: Any labeled images will be returned as a boolean array. Did you mean to use a boolean array?\n",
      "  region_labels = measure.label(morphology.remove_small_holes(seg, area_threshold=5, connectivity=1).astype(\"uint8\"), background=1)\n"
     ]
    },
    {
     "name": "stdout",
     "output_type": "stream",
     "text": [
      "1845 404\n",
      "8558\n",
      "268429 3263\n",
      "0289_OS\n"
     ]
    },
    {
     "name": "stderr",
     "output_type": "stream",
     "text": [
      "/home/alex_johannes/octa_gnn/OCTA_gnn/generator/heterograph_from_vvg_generator.py:148: UserWarning: Any labeled images will be returned as a boolean array. Did you mean to use a boolean array?\n",
      "  region_labels = measure.label(morphology.remove_small_holes(seg, area_threshold=5, connectivity=1).astype(\"uint8\"), background=1)\n"
     ]
    },
    {
     "name": "stdout",
     "output_type": "stream",
     "text": [
      "1003 243\n",
      "5542\n",
      "224711 2373\n",
      "0290_OD\n"
     ]
    },
    {
     "name": "stderr",
     "output_type": "stream",
     "text": [
      "/home/alex_johannes/octa_gnn/OCTA_gnn/generator/heterograph_from_vvg_generator.py:148: UserWarning: Any labeled images will be returned as a boolean array. Did you mean to use a boolean array?\n",
      "  region_labels = measure.label(morphology.remove_small_holes(seg, area_threshold=5, connectivity=1).astype(\"uint8\"), background=1)\n"
     ]
    },
    {
     "name": "stdout",
     "output_type": "stream",
     "text": [
      "931 213\n",
      "5142\n",
      "214238 2346\n",
      "0290_OS\n"
     ]
    },
    {
     "name": "stderr",
     "output_type": "stream",
     "text": [
      "/home/alex_johannes/octa_gnn/OCTA_gnn/generator/heterograph_from_vvg_generator.py:148: UserWarning: Any labeled images will be returned as a boolean array. Did you mean to use a boolean array?\n",
      "  region_labels = measure.label(morphology.remove_small_holes(seg, area_threshold=5, connectivity=1).astype(\"uint8\"), background=1)\n"
     ]
    },
    {
     "name": "stdout",
     "output_type": "stream",
     "text": [
      "736 185\n",
      "4489\n",
      "196737 2091\n",
      "0291_OD\n"
     ]
    },
    {
     "name": "stderr",
     "output_type": "stream",
     "text": [
      "/home/alex_johannes/octa_gnn/OCTA_gnn/generator/heterograph_from_vvg_generator.py:148: UserWarning: Any labeled images will be returned as a boolean array. Did you mean to use a boolean array?\n",
      "  region_labels = measure.label(morphology.remove_small_holes(seg, area_threshold=5, connectivity=1).astype(\"uint8\"), background=1)\n"
     ]
    },
    {
     "name": "stdout",
     "output_type": "stream",
     "text": [
      "1301 322\n",
      "6556\n",
      "242394 3181\n",
      "0291_OS\n"
     ]
    },
    {
     "name": "stderr",
     "output_type": "stream",
     "text": [
      "/home/alex_johannes/octa_gnn/OCTA_gnn/generator/heterograph_from_vvg_generator.py:148: UserWarning: Any labeled images will be returned as a boolean array. Did you mean to use a boolean array?\n",
      "  region_labels = measure.label(morphology.remove_small_holes(seg, area_threshold=5, connectivity=1).astype(\"uint8\"), background=1)\n"
     ]
    },
    {
     "name": "stdout",
     "output_type": "stream",
     "text": [
      "1553 331\n",
      "7458\n",
      "261128 2771\n",
      "0292_OD\n"
     ]
    },
    {
     "name": "stderr",
     "output_type": "stream",
     "text": [
      "/home/alex_johannes/octa_gnn/OCTA_gnn/generator/heterograph_from_vvg_generator.py:148: UserWarning: Any labeled images will be returned as a boolean array. Did you mean to use a boolean array?\n",
      "  region_labels = measure.label(morphology.remove_small_holes(seg, area_threshold=5, connectivity=1).astype(\"uint8\"), background=1)\n",
      "/home/alex_johannes/octa_gnn/OCTA_gnn/.venv/lib/python3.10/site-packages/skimage/measure/_regionprops.py:647: RuntimeWarning: invalid value encountered in scalar divide\n",
      "  tuple(M[_get_element(axis)] / M0 for axis in range(self._ndim)))\n"
     ]
    },
    {
     "name": "stdout",
     "output_type": "stream",
     "text": [
      "1200 259\n",
      "6326\n",
      "242791 2362\n",
      "0292_OS\n"
     ]
    },
    {
     "name": "stderr",
     "output_type": "stream",
     "text": [
      "/home/alex_johannes/octa_gnn/OCTA_gnn/generator/heterograph_from_vvg_generator.py:148: UserWarning: Any labeled images will be returned as a boolean array. Did you mean to use a boolean array?\n",
      "  region_labels = measure.label(morphology.remove_small_holes(seg, area_threshold=5, connectivity=1).astype(\"uint8\"), background=1)\n"
     ]
    },
    {
     "name": "stdout",
     "output_type": "stream",
     "text": [
      "1925 397\n",
      "9058\n",
      "278995 3068\n",
      "0293_OD\n"
     ]
    },
    {
     "name": "stderr",
     "output_type": "stream",
     "text": [
      "/home/alex_johannes/octa_gnn/OCTA_gnn/generator/heterograph_from_vvg_generator.py:148: UserWarning: Any labeled images will be returned as a boolean array. Did you mean to use a boolean array?\n",
      "  region_labels = measure.label(morphology.remove_small_holes(seg, area_threshold=5, connectivity=1).astype(\"uint8\"), background=1)\n"
     ]
    },
    {
     "name": "stdout",
     "output_type": "stream",
     "text": [
      "1391 350\n",
      "7010\n",
      "245968 2761\n",
      "0293_OS\n"
     ]
    },
    {
     "name": "stderr",
     "output_type": "stream",
     "text": [
      "/home/alex_johannes/octa_gnn/OCTA_gnn/generator/heterograph_from_vvg_generator.py:148: UserWarning: Any labeled images will be returned as a boolean array. Did you mean to use a boolean array?\n",
      "  region_labels = measure.label(morphology.remove_small_holes(seg, area_threshold=5, connectivity=1).astype(\"uint8\"), background=1)\n"
     ]
    },
    {
     "name": "stdout",
     "output_type": "stream",
     "text": [
      "1290 321\n",
      "6498\n",
      "227725 3324\n",
      "0294_OD\n"
     ]
    },
    {
     "name": "stderr",
     "output_type": "stream",
     "text": [
      "/home/alex_johannes/octa_gnn/OCTA_gnn/generator/heterograph_from_vvg_generator.py:148: UserWarning: Any labeled images will be returned as a boolean array. Did you mean to use a boolean array?\n",
      "  region_labels = measure.label(morphology.remove_small_holes(seg, area_threshold=5, connectivity=1).astype(\"uint8\"), background=1)\n"
     ]
    },
    {
     "name": "stdout",
     "output_type": "stream",
     "text": [
      "850 222\n",
      "4740\n",
      "210967 2133\n",
      "0294_OS\n"
     ]
    },
    {
     "name": "stderr",
     "output_type": "stream",
     "text": [
      "/home/alex_johannes/octa_gnn/OCTA_gnn/generator/heterograph_from_vvg_generator.py:148: UserWarning: Any labeled images will be returned as a boolean array. Did you mean to use a boolean array?\n",
      "  region_labels = measure.label(morphology.remove_small_holes(seg, area_threshold=5, connectivity=1).astype(\"uint8\"), background=1)\n"
     ]
    },
    {
     "name": "stdout",
     "output_type": "stream",
     "text": [
      "711 194\n",
      "4179\n",
      "196782 2184\n",
      "0295_OS\n"
     ]
    },
    {
     "name": "stderr",
     "output_type": "stream",
     "text": [
      "/home/alex_johannes/octa_gnn/OCTA_gnn/generator/heterograph_from_vvg_generator.py:148: UserWarning: Any labeled images will be returned as a boolean array. Did you mean to use a boolean array?\n",
      "  region_labels = measure.label(morphology.remove_small_holes(seg, area_threshold=5, connectivity=1).astype(\"uint8\"), background=1)\n"
     ]
    },
    {
     "name": "stdout",
     "output_type": "stream",
     "text": [
      "1515 389\n",
      "7634\n",
      "256502 3513\n",
      "0296_OD\n"
     ]
    },
    {
     "name": "stderr",
     "output_type": "stream",
     "text": [
      "/home/alex_johannes/octa_gnn/OCTA_gnn/generator/heterograph_from_vvg_generator.py:148: UserWarning: Any labeled images will be returned as a boolean array. Did you mean to use a boolean array?\n",
      "  region_labels = measure.label(morphology.remove_small_holes(seg, area_threshold=5, connectivity=1).astype(\"uint8\"), background=1)\n"
     ]
    },
    {
     "name": "stdout",
     "output_type": "stream",
     "text": [
      "1678 461\n",
      "8130\n",
      "259747 3802\n",
      "0297_OD\n"
     ]
    },
    {
     "name": "stderr",
     "output_type": "stream",
     "text": [
      "/home/alex_johannes/octa_gnn/OCTA_gnn/generator/heterograph_from_vvg_generator.py:148: UserWarning: Any labeled images will be returned as a boolean array. Did you mean to use a boolean array?\n",
      "  region_labels = measure.label(morphology.remove_small_holes(seg, area_threshold=5, connectivity=1).astype(\"uint8\"), background=1)\n"
     ]
    },
    {
     "name": "stdout",
     "output_type": "stream",
     "text": [
      "1310 405\n",
      "6767\n",
      "234582 3693\n",
      "0297_OS\n"
     ]
    },
    {
     "name": "stderr",
     "output_type": "stream",
     "text": [
      "/home/alex_johannes/octa_gnn/OCTA_gnn/generator/heterograph_from_vvg_generator.py:148: UserWarning: Any labeled images will be returned as a boolean array. Did you mean to use a boolean array?\n",
      "  region_labels = measure.label(morphology.remove_small_holes(seg, area_threshold=5, connectivity=1).astype(\"uint8\"), background=1)\n"
     ]
    },
    {
     "name": "stdout",
     "output_type": "stream",
     "text": [
      "1475 424\n",
      "7412\n",
      "253604 3749\n",
      "0298_OD\n"
     ]
    },
    {
     "name": "stderr",
     "output_type": "stream",
     "text": [
      "/home/alex_johannes/octa_gnn/OCTA_gnn/generator/heterograph_from_vvg_generator.py:148: UserWarning: Any labeled images will be returned as a boolean array. Did you mean to use a boolean array?\n",
      "  region_labels = measure.label(morphology.remove_small_holes(seg, area_threshold=5, connectivity=1).astype(\"uint8\"), background=1)\n"
     ]
    },
    {
     "name": "stdout",
     "output_type": "stream",
     "text": [
      "1759 441\n",
      "8386\n",
      "269405 3416\n",
      "0298_OS\n"
     ]
    },
    {
     "name": "stderr",
     "output_type": "stream",
     "text": [
      "/home/alex_johannes/octa_gnn/OCTA_gnn/generator/heterograph_from_vvg_generator.py:148: UserWarning: Any labeled images will be returned as a boolean array. Did you mean to use a boolean array?\n",
      "  region_labels = measure.label(morphology.remove_small_holes(seg, area_threshold=5, connectivity=1).astype(\"uint8\"), background=1)\n"
     ]
    },
    {
     "name": "stdout",
     "output_type": "stream",
     "text": [
      "1777 446\n",
      "8405\n",
      "270134 3899\n",
      "0299_OD\n"
     ]
    },
    {
     "name": "stderr",
     "output_type": "stream",
     "text": [
      "/home/alex_johannes/octa_gnn/OCTA_gnn/generator/heterograph_from_vvg_generator.py:148: UserWarning: Any labeled images will be returned as a boolean array. Did you mean to use a boolean array?\n",
      "  region_labels = measure.label(morphology.remove_small_holes(seg, area_threshold=5, connectivity=1).astype(\"uint8\"), background=1)\n"
     ]
    },
    {
     "name": "stdout",
     "output_type": "stream",
     "text": [
      "2011 428\n",
      "9085\n",
      "268347 4022\n",
      "0299_OS\n"
     ]
    },
    {
     "name": "stderr",
     "output_type": "stream",
     "text": [
      "/home/alex_johannes/octa_gnn/OCTA_gnn/generator/heterograph_from_vvg_generator.py:148: UserWarning: Any labeled images will be returned as a boolean array. Did you mean to use a boolean array?\n",
      "  region_labels = measure.label(morphology.remove_small_holes(seg, area_threshold=5, connectivity=1).astype(\"uint8\"), background=1)\n"
     ]
    },
    {
     "name": "stdout",
     "output_type": "stream",
     "text": [
      "1909 410\n",
      "8840\n",
      "271486 2955\n",
      "0300_OD\n"
     ]
    },
    {
     "name": "stderr",
     "output_type": "stream",
     "text": [
      "/home/alex_johannes/octa_gnn/OCTA_gnn/generator/heterograph_from_vvg_generator.py:148: UserWarning: Any labeled images will be returned as a boolean array. Did you mean to use a boolean array?\n",
      "  region_labels = measure.label(morphology.remove_small_holes(seg, area_threshold=5, connectivity=1).astype(\"uint8\"), background=1)\n"
     ]
    },
    {
     "name": "stdout",
     "output_type": "stream",
     "text": [
      "1969 501\n",
      "9022\n",
      "271803 3849\n",
      "0301_OD\n"
     ]
    },
    {
     "name": "stderr",
     "output_type": "stream",
     "text": [
      "/home/alex_johannes/octa_gnn/OCTA_gnn/generator/heterograph_from_vvg_generator.py:148: UserWarning: Any labeled images will be returned as a boolean array. Did you mean to use a boolean array?\n",
      "  region_labels = measure.label(morphology.remove_small_holes(seg, area_threshold=5, connectivity=1).astype(\"uint8\"), background=1)\n"
     ]
    },
    {
     "name": "stdout",
     "output_type": "stream",
     "text": [
      "2036 432\n",
      "9135\n",
      "284953 3127\n",
      "0302_OD\n"
     ]
    },
    {
     "name": "stderr",
     "output_type": "stream",
     "text": [
      "/home/alex_johannes/octa_gnn/OCTA_gnn/generator/heterograph_from_vvg_generator.py:148: UserWarning: Any labeled images will be returned as a boolean array. Did you mean to use a boolean array?\n",
      "  region_labels = measure.label(morphology.remove_small_holes(seg, area_threshold=5, connectivity=1).astype(\"uint8\"), background=1)\n"
     ]
    },
    {
     "name": "stdout",
     "output_type": "stream",
     "text": [
      "493 142\n",
      "3101\n",
      "172950 1617\n",
      "0302_OS\n"
     ]
    },
    {
     "name": "stderr",
     "output_type": "stream",
     "text": [
      "/home/alex_johannes/octa_gnn/OCTA_gnn/generator/heterograph_from_vvg_generator.py:148: UserWarning: Any labeled images will be returned as a boolean array. Did you mean to use a boolean array?\n",
      "  region_labels = measure.label(morphology.remove_small_holes(seg, area_threshold=5, connectivity=1).astype(\"uint8\"), background=1)\n"
     ]
    },
    {
     "name": "stdout",
     "output_type": "stream",
     "text": [
      "464 111\n",
      "3097\n",
      "176410 1339\n",
      "0303_OD\n"
     ]
    },
    {
     "name": "stderr",
     "output_type": "stream",
     "text": [
      "/home/alex_johannes/octa_gnn/OCTA_gnn/generator/heterograph_from_vvg_generator.py:148: UserWarning: Any labeled images will be returned as a boolean array. Did you mean to use a boolean array?\n",
      "  region_labels = measure.label(morphology.remove_small_holes(seg, area_threshold=5, connectivity=1).astype(\"uint8\"), background=1)\n"
     ]
    },
    {
     "name": "stdout",
     "output_type": "stream",
     "text": [
      "485 110\n",
      "3159\n",
      "176834 1108\n",
      "0303_OS\n"
     ]
    },
    {
     "name": "stderr",
     "output_type": "stream",
     "text": [
      "/home/alex_johannes/octa_gnn/OCTA_gnn/generator/heterograph_from_vvg_generator.py:148: UserWarning: Any labeled images will be returned as a boolean array. Did you mean to use a boolean array?\n",
      "  region_labels = measure.label(morphology.remove_small_holes(seg, area_threshold=5, connectivity=1).astype(\"uint8\"), background=1)\n"
     ]
    },
    {
     "name": "stdout",
     "output_type": "stream",
     "text": [
      "439 77\n",
      "2903\n",
      "174528 1039\n",
      "0304_OD\n"
     ]
    },
    {
     "name": "stderr",
     "output_type": "stream",
     "text": [
      "/home/alex_johannes/octa_gnn/OCTA_gnn/generator/heterograph_from_vvg_generator.py:148: UserWarning: Any labeled images will be returned as a boolean array. Did you mean to use a boolean array?\n",
      "  region_labels = measure.label(morphology.remove_small_holes(seg, area_threshold=5, connectivity=1).astype(\"uint8\"), background=1)\n"
     ]
    },
    {
     "name": "stdout",
     "output_type": "stream",
     "text": [
      "1845 448\n",
      "8598\n",
      "273123 3979\n",
      "0304_OS\n"
     ]
    },
    {
     "name": "stderr",
     "output_type": "stream",
     "text": [
      "/home/alex_johannes/octa_gnn/OCTA_gnn/generator/heterograph_from_vvg_generator.py:148: UserWarning: Any labeled images will be returned as a boolean array. Did you mean to use a boolean array?\n",
      "  region_labels = measure.label(morphology.remove_small_holes(seg, area_threshold=5, connectivity=1).astype(\"uint8\"), background=1)\n"
     ]
    },
    {
     "name": "stdout",
     "output_type": "stream",
     "text": [
      "1650 369\n",
      "8017\n",
      "264165 3452\n",
      "0305_OS\n"
     ]
    },
    {
     "name": "stderr",
     "output_type": "stream",
     "text": [
      "/home/alex_johannes/octa_gnn/OCTA_gnn/generator/heterograph_from_vvg_generator.py:148: UserWarning: Any labeled images will be returned as a boolean array. Did you mean to use a boolean array?\n",
      "  region_labels = measure.label(morphology.remove_small_holes(seg, area_threshold=5, connectivity=1).astype(\"uint8\"), background=1)\n"
     ]
    },
    {
     "name": "stdout",
     "output_type": "stream",
     "text": [
      "1526 381\n",
      "7545\n",
      "258751 2717\n",
      "0141_OS\n"
     ]
    },
    {
     "name": "stderr",
     "output_type": "stream",
     "text": [
      "/home/alex_johannes/octa_gnn/OCTA_gnn/generator/heterograph_from_vvg_generator.py:148: UserWarning: Any labeled images will be returned as a boolean array. Did you mean to use a boolean array?\n",
      "  region_labels = measure.label(morphology.remove_small_holes(seg, area_threshold=5, connectivity=1).astype(\"uint8\"), background=1)\n"
     ]
    },
    {
     "name": "stdout",
     "output_type": "stream",
     "text": [
      "1941 450\n",
      "9134\n",
      "280774 3152\n",
      "0142_OD\n"
     ]
    },
    {
     "name": "stderr",
     "output_type": "stream",
     "text": [
      "/home/alex_johannes/octa_gnn/OCTA_gnn/generator/heterograph_from_vvg_generator.py:148: UserWarning: Any labeled images will be returned as a boolean array. Did you mean to use a boolean array?\n",
      "  region_labels = measure.label(morphology.remove_small_holes(seg, area_threshold=5, connectivity=1).astype(\"uint8\"), background=1)\n"
     ]
    },
    {
     "name": "stdout",
     "output_type": "stream",
     "text": [
      "708 175\n",
      "3971\n",
      "192315 1515\n",
      "0142_OS\n"
     ]
    },
    {
     "name": "stderr",
     "output_type": "stream",
     "text": [
      "/home/alex_johannes/octa_gnn/OCTA_gnn/generator/heterograph_from_vvg_generator.py:148: UserWarning: Any labeled images will be returned as a boolean array. Did you mean to use a boolean array?\n",
      "  region_labels = measure.label(morphology.remove_small_holes(seg, area_threshold=5, connectivity=1).astype(\"uint8\"), background=1)\n"
     ]
    },
    {
     "name": "stdout",
     "output_type": "stream",
     "text": [
      "1875 423\n",
      "8466\n",
      "263801 3354\n",
      "0143_OD\n"
     ]
    },
    {
     "name": "stderr",
     "output_type": "stream",
     "text": [
      "/home/alex_johannes/octa_gnn/OCTA_gnn/generator/heterograph_from_vvg_generator.py:148: UserWarning: Any labeled images will be returned as a boolean array. Did you mean to use a boolean array?\n",
      "  region_labels = measure.label(morphology.remove_small_holes(seg, area_threshold=5, connectivity=1).astype(\"uint8\"), background=1)\n"
     ]
    },
    {
     "name": "stdout",
     "output_type": "stream",
     "text": [
      "1017 255\n",
      "5577\n",
      "227924 2382\n",
      "0143_OS\n"
     ]
    },
    {
     "name": "stderr",
     "output_type": "stream",
     "text": [
      "/home/alex_johannes/octa_gnn/OCTA_gnn/generator/heterograph_from_vvg_generator.py:148: UserWarning: Any labeled images will be returned as a boolean array. Did you mean to use a boolean array?\n",
      "  region_labels = measure.label(morphology.remove_small_holes(seg, area_threshold=5, connectivity=1).astype(\"uint8\"), background=1)\n"
     ]
    },
    {
     "name": "stdout",
     "output_type": "stream",
     "text": [
      "729 183\n",
      "4233\n",
      "195258 1812\n",
      "0144_OD\n"
     ]
    },
    {
     "name": "stderr",
     "output_type": "stream",
     "text": [
      "/home/alex_johannes/octa_gnn/OCTA_gnn/generator/heterograph_from_vvg_generator.py:148: UserWarning: Any labeled images will be returned as a boolean array. Did you mean to use a boolean array?\n",
      "  region_labels = measure.label(morphology.remove_small_holes(seg, area_threshold=5, connectivity=1).astype(\"uint8\"), background=1)\n"
     ]
    },
    {
     "name": "stdout",
     "output_type": "stream",
     "text": [
      "2024 464\n",
      "9024\n",
      "270647 3347\n",
      "0144_OS\n"
     ]
    },
    {
     "name": "stderr",
     "output_type": "stream",
     "text": [
      "/home/alex_johannes/octa_gnn/OCTA_gnn/generator/heterograph_from_vvg_generator.py:148: UserWarning: Any labeled images will be returned as a boolean array. Did you mean to use a boolean array?\n",
      "  region_labels = measure.label(morphology.remove_small_holes(seg, area_threshold=5, connectivity=1).astype(\"uint8\"), background=1)\n"
     ]
    },
    {
     "name": "stdout",
     "output_type": "stream",
     "text": [
      "1980 450\n",
      "8943\n",
      "271732 3787\n",
      "0145_OD\n"
     ]
    },
    {
     "name": "stderr",
     "output_type": "stream",
     "text": [
      "/home/alex_johannes/octa_gnn/OCTA_gnn/generator/heterograph_from_vvg_generator.py:148: UserWarning: Any labeled images will be returned as a boolean array. Did you mean to use a boolean array?\n",
      "  region_labels = measure.label(morphology.remove_small_holes(seg, area_threshold=5, connectivity=1).astype(\"uint8\"), background=1)\n"
     ]
    },
    {
     "name": "stdout",
     "output_type": "stream",
     "text": [
      "1050 286\n",
      "5462\n",
      "221012 2601\n",
      "0145_OS\n"
     ]
    },
    {
     "name": "stderr",
     "output_type": "stream",
     "text": [
      "/home/alex_johannes/octa_gnn/OCTA_gnn/generator/heterograph_from_vvg_generator.py:148: UserWarning: Any labeled images will be returned as a boolean array. Did you mean to use a boolean array?\n",
      "  region_labels = measure.label(morphology.remove_small_holes(seg, area_threshold=5, connectivity=1).astype(\"uint8\"), background=1)\n"
     ]
    },
    {
     "name": "stdout",
     "output_type": "stream",
     "text": [
      "523 103\n",
      "3331\n",
      "174230 1556\n",
      "0146_OD\n"
     ]
    },
    {
     "name": "stderr",
     "output_type": "stream",
     "text": [
      "/home/alex_johannes/octa_gnn/OCTA_gnn/generator/heterograph_from_vvg_generator.py:148: UserWarning: Any labeled images will be returned as a boolean array. Did you mean to use a boolean array?\n",
      "  region_labels = measure.label(morphology.remove_small_holes(seg, area_threshold=5, connectivity=1).astype(\"uint8\"), background=1)\n"
     ]
    },
    {
     "name": "stdout",
     "output_type": "stream",
     "text": [
      "1760 365\n",
      "8344\n",
      "270350 3076\n",
      "0146_OS\n"
     ]
    },
    {
     "name": "stderr",
     "output_type": "stream",
     "text": [
      "/home/alex_johannes/octa_gnn/OCTA_gnn/generator/heterograph_from_vvg_generator.py:148: UserWarning: Any labeled images will be returned as a boolean array. Did you mean to use a boolean array?\n",
      "  region_labels = measure.label(morphology.remove_small_holes(seg, area_threshold=5, connectivity=1).astype(\"uint8\"), background=1)\n"
     ]
    },
    {
     "name": "stdout",
     "output_type": "stream",
     "text": [
      "1705 377\n",
      "8104\n",
      "259020 2961\n",
      "0147_OD\n"
     ]
    },
    {
     "name": "stderr",
     "output_type": "stream",
     "text": [
      "/home/alex_johannes/octa_gnn/OCTA_gnn/generator/heterograph_from_vvg_generator.py:148: UserWarning: Any labeled images will be returned as a boolean array. Did you mean to use a boolean array?\n",
      "  region_labels = measure.label(morphology.remove_small_holes(seg, area_threshold=5, connectivity=1).astype(\"uint8\"), background=1)\n"
     ]
    },
    {
     "name": "stdout",
     "output_type": "stream",
     "text": [
      "1847 440\n",
      "8623\n",
      "267258 3519\n",
      "0147_OS\n"
     ]
    },
    {
     "name": "stderr",
     "output_type": "stream",
     "text": [
      "/home/alex_johannes/octa_gnn/OCTA_gnn/generator/heterograph_from_vvg_generator.py:148: UserWarning: Any labeled images will be returned as a boolean array. Did you mean to use a boolean array?\n",
      "  region_labels = measure.label(morphology.remove_small_holes(seg, area_threshold=5, connectivity=1).astype(\"uint8\"), background=1)\n"
     ]
    },
    {
     "name": "stdout",
     "output_type": "stream",
     "text": [
      "2115 557\n",
      "9471\n",
      "279788 4182\n",
      "0148_OD\n"
     ]
    },
    {
     "name": "stderr",
     "output_type": "stream",
     "text": [
      "/home/alex_johannes/octa_gnn/OCTA_gnn/generator/heterograph_from_vvg_generator.py:148: UserWarning: Any labeled images will be returned as a boolean array. Did you mean to use a boolean array?\n",
      "  region_labels = measure.label(morphology.remove_small_holes(seg, area_threshold=5, connectivity=1).astype(\"uint8\"), background=1)\n"
     ]
    },
    {
     "name": "stdout",
     "output_type": "stream",
     "text": [
      "487 88\n",
      "2775\n",
      "163611 1229\n",
      "0148_OS\n"
     ]
    },
    {
     "name": "stderr",
     "output_type": "stream",
     "text": [
      "/home/alex_johannes/octa_gnn/OCTA_gnn/generator/heterograph_from_vvg_generator.py:148: UserWarning: Any labeled images will be returned as a boolean array. Did you mean to use a boolean array?\n",
      "  region_labels = measure.label(morphology.remove_small_holes(seg, area_threshold=5, connectivity=1).astype(\"uint8\"), background=1)\n"
     ]
    },
    {
     "name": "stdout",
     "output_type": "stream",
     "text": [
      "1462 375\n",
      "6963\n",
      "234863 4391\n",
      "0149_OS\n"
     ]
    },
    {
     "name": "stderr",
     "output_type": "stream",
     "text": [
      "/home/alex_johannes/octa_gnn/OCTA_gnn/generator/heterograph_from_vvg_generator.py:148: UserWarning: Any labeled images will be returned as a boolean array. Did you mean to use a boolean array?\n",
      "  region_labels = measure.label(morphology.remove_small_holes(seg, area_threshold=5, connectivity=1).astype(\"uint8\"), background=1)\n"
     ]
    },
    {
     "name": "stdout",
     "output_type": "stream",
     "text": [
      "748 170\n",
      "4255\n",
      "207183 1724\n",
      "0150_OD\n"
     ]
    },
    {
     "name": "stderr",
     "output_type": "stream",
     "text": [
      "/home/alex_johannes/octa_gnn/OCTA_gnn/generator/heterograph_from_vvg_generator.py:148: UserWarning: Any labeled images will be returned as a boolean array. Did you mean to use a boolean array?\n",
      "  region_labels = measure.label(morphology.remove_small_holes(seg, area_threshold=5, connectivity=1).astype(\"uint8\"), background=1)\n"
     ]
    },
    {
     "name": "stdout",
     "output_type": "stream",
     "text": [
      "335 69\n",
      "2125\n",
      "163100 967\n",
      "0151_OD\n"
     ]
    },
    {
     "name": "stderr",
     "output_type": "stream",
     "text": [
      "/home/alex_johannes/octa_gnn/OCTA_gnn/generator/heterograph_from_vvg_generator.py:148: UserWarning: Any labeled images will be returned as a boolean array. Did you mean to use a boolean array?\n",
      "  region_labels = measure.label(morphology.remove_small_holes(seg, area_threshold=5, connectivity=1).astype(\"uint8\"), background=1)\n"
     ]
    },
    {
     "name": "stdout",
     "output_type": "stream",
     "text": [
      "2150 456\n",
      "9619\n",
      "279253 3596\n",
      "0152_OD\n"
     ]
    },
    {
     "name": "stderr",
     "output_type": "stream",
     "text": [
      "/home/alex_johannes/octa_gnn/OCTA_gnn/generator/heterograph_from_vvg_generator.py:148: UserWarning: Any labeled images will be returned as a boolean array. Did you mean to use a boolean array?\n",
      "  region_labels = measure.label(morphology.remove_small_holes(seg, area_threshold=5, connectivity=1).astype(\"uint8\"), background=1)\n"
     ]
    },
    {
     "name": "stdout",
     "output_type": "stream",
     "text": [
      "1919 427\n",
      "8827\n",
      "278791 2740\n",
      "0152_OS\n"
     ]
    },
    {
     "name": "stderr",
     "output_type": "stream",
     "text": [
      "/home/alex_johannes/octa_gnn/OCTA_gnn/generator/heterograph_from_vvg_generator.py:148: UserWarning: Any labeled images will be returned as a boolean array. Did you mean to use a boolean array?\n",
      "  region_labels = measure.label(morphology.remove_small_holes(seg, area_threshold=5, connectivity=1).astype(\"uint8\"), background=1)\n",
      "/home/alex_johannes/octa_gnn/OCTA_gnn/.venv/lib/python3.10/site-packages/skimage/measure/_regionprops.py:647: RuntimeWarning: invalid value encountered in scalar divide\n",
      "  tuple(M[_get_element(axis)] / M0 for axis in range(self._ndim)))\n"
     ]
    },
    {
     "name": "stdout",
     "output_type": "stream",
     "text": [
      "1878 405\n",
      "8850\n",
      "283824 3231\n",
      "0153_OD\n"
     ]
    },
    {
     "name": "stderr",
     "output_type": "stream",
     "text": [
      "/home/alex_johannes/octa_gnn/OCTA_gnn/generator/heterograph_from_vvg_generator.py:148: UserWarning: Any labeled images will be returned as a boolean array. Did you mean to use a boolean array?\n",
      "  region_labels = measure.label(morphology.remove_small_holes(seg, area_threshold=5, connectivity=1).astype(\"uint8\"), background=1)\n"
     ]
    },
    {
     "name": "stdout",
     "output_type": "stream",
     "text": [
      "1851 439\n",
      "8680\n",
      "271091 3227\n",
      "0153_OS\n"
     ]
    },
    {
     "name": "stderr",
     "output_type": "stream",
     "text": [
      "/home/alex_johannes/octa_gnn/OCTA_gnn/generator/heterograph_from_vvg_generator.py:148: UserWarning: Any labeled images will be returned as a boolean array. Did you mean to use a boolean array?\n",
      "  region_labels = measure.label(morphology.remove_small_holes(seg, area_threshold=5, connectivity=1).astype(\"uint8\"), background=1)\n"
     ]
    },
    {
     "name": "stdout",
     "output_type": "stream",
     "text": [
      "1867 432\n",
      "8654\n",
      "267965 3366\n",
      "0805_OS\n"
     ]
    },
    {
     "name": "stderr",
     "output_type": "stream",
     "text": [
      "/home/alex_johannes/octa_gnn/OCTA_gnn/generator/heterograph_from_vvg_generator.py:148: UserWarning: Any labeled images will be returned as a boolean array. Did you mean to use a boolean array?\n",
      "  region_labels = measure.label(morphology.remove_small_holes(seg, area_threshold=5, connectivity=1).astype(\"uint8\"), background=1)\n"
     ]
    },
    {
     "name": "stdout",
     "output_type": "stream",
     "text": [
      "1985 458\n",
      "8934\n",
      "268268 3493\n",
      "0806_OD\n"
     ]
    },
    {
     "name": "stderr",
     "output_type": "stream",
     "text": [
      "/home/alex_johannes/octa_gnn/OCTA_gnn/generator/heterograph_from_vvg_generator.py:148: UserWarning: Any labeled images will be returned as a boolean array. Did you mean to use a boolean array?\n",
      "  region_labels = measure.label(morphology.remove_small_holes(seg, area_threshold=5, connectivity=1).astype(\"uint8\"), background=1)\n"
     ]
    },
    {
     "name": "stdout",
     "output_type": "stream",
     "text": [
      "1882 396\n",
      "8637\n",
      "277642 2666\n",
      "0807_OD\n"
     ]
    },
    {
     "name": "stderr",
     "output_type": "stream",
     "text": [
      "/home/alex_johannes/octa_gnn/OCTA_gnn/generator/heterograph_from_vvg_generator.py:148: UserWarning: Any labeled images will be returned as a boolean array. Did you mean to use a boolean array?\n",
      "  region_labels = measure.label(morphology.remove_small_holes(seg, area_threshold=5, connectivity=1).astype(\"uint8\"), background=1)\n"
     ]
    },
    {
     "name": "stdout",
     "output_type": "stream",
     "text": [
      "1622 331\n",
      "7748\n",
      "261993 3011\n",
      "0808_OD\n"
     ]
    },
    {
     "name": "stderr",
     "output_type": "stream",
     "text": [
      "/home/alex_johannes/octa_gnn/OCTA_gnn/generator/heterograph_from_vvg_generator.py:148: UserWarning: Any labeled images will be returned as a boolean array. Did you mean to use a boolean array?\n",
      "  region_labels = measure.label(morphology.remove_small_holes(seg, area_threshold=5, connectivity=1).astype(\"uint8\"), background=1)\n"
     ]
    },
    {
     "name": "stdout",
     "output_type": "stream",
     "text": [
      "401 103\n",
      "2624\n",
      "158661 1261\n",
      "0808_OS\n"
     ]
    },
    {
     "name": "stderr",
     "output_type": "stream",
     "text": [
      "/home/alex_johannes/octa_gnn/OCTA_gnn/generator/heterograph_from_vvg_generator.py:148: UserWarning: Any labeled images will be returned as a boolean array. Did you mean to use a boolean array?\n",
      "  region_labels = measure.label(morphology.remove_small_holes(seg, area_threshold=5, connectivity=1).astype(\"uint8\"), background=1)\n"
     ]
    },
    {
     "name": "stdout",
     "output_type": "stream",
     "text": [
      "361 65\n",
      "2090\n",
      "153312 624\n",
      "0809_OD\n"
     ]
    },
    {
     "name": "stderr",
     "output_type": "stream",
     "text": [
      "/home/alex_johannes/octa_gnn/OCTA_gnn/generator/heterograph_from_vvg_generator.py:148: UserWarning: Any labeled images will be returned as a boolean array. Did you mean to use a boolean array?\n",
      "  region_labels = measure.label(morphology.remove_small_holes(seg, area_threshold=5, connectivity=1).astype(\"uint8\"), background=1)\n"
     ]
    },
    {
     "name": "stdout",
     "output_type": "stream",
     "text": [
      "1183 275\n",
      "6259\n",
      "234239 1985\n",
      "0810_OD\n"
     ]
    },
    {
     "name": "stderr",
     "output_type": "stream",
     "text": [
      "/home/alex_johannes/octa_gnn/OCTA_gnn/generator/heterograph_from_vvg_generator.py:148: UserWarning: Any labeled images will be returned as a boolean array. Did you mean to use a boolean array?\n",
      "  region_labels = measure.label(morphology.remove_small_holes(seg, area_threshold=5, connectivity=1).astype(\"uint8\"), background=1)\n"
     ]
    },
    {
     "name": "stdout",
     "output_type": "stream",
     "text": [
      "1726 410\n",
      "8055\n",
      "259477 3508\n",
      "0811_OD\n"
     ]
    },
    {
     "name": "stderr",
     "output_type": "stream",
     "text": [
      "/home/alex_johannes/octa_gnn/OCTA_gnn/generator/heterograph_from_vvg_generator.py:148: UserWarning: Any labeled images will be returned as a boolean array. Did you mean to use a boolean array?\n",
      "  region_labels = measure.label(morphology.remove_small_holes(seg, area_threshold=5, connectivity=1).astype(\"uint8\"), background=1)\n"
     ]
    },
    {
     "name": "stdout",
     "output_type": "stream",
     "text": [
      "2028 458\n",
      "9315\n",
      "284557 3654\n",
      "0811_OS\n"
     ]
    },
    {
     "name": "stderr",
     "output_type": "stream",
     "text": [
      "/home/alex_johannes/octa_gnn/OCTA_gnn/generator/heterograph_from_vvg_generator.py:148: UserWarning: Any labeled images will be returned as a boolean array. Did you mean to use a boolean array?\n",
      "  region_labels = measure.label(morphology.remove_small_holes(seg, area_threshold=5, connectivity=1).astype(\"uint8\"), background=1)\n"
     ]
    },
    {
     "name": "stdout",
     "output_type": "stream",
     "text": [
      "2031 426\n",
      "9305\n",
      "290580 3341\n",
      "0812_OS\n"
     ]
    },
    {
     "name": "stderr",
     "output_type": "stream",
     "text": [
      "/home/alex_johannes/octa_gnn/OCTA_gnn/generator/heterograph_from_vvg_generator.py:148: UserWarning: Any labeled images will be returned as a boolean array. Did you mean to use a boolean array?\n",
      "  region_labels = measure.label(morphology.remove_small_holes(seg, area_threshold=5, connectivity=1).astype(\"uint8\"), background=1)\n"
     ]
    },
    {
     "name": "stdout",
     "output_type": "stream",
     "text": [
      "863 244\n",
      "4934\n",
      "215642 2232\n",
      "0813_OD\n"
     ]
    },
    {
     "name": "stderr",
     "output_type": "stream",
     "text": [
      "/home/alex_johannes/octa_gnn/OCTA_gnn/generator/heterograph_from_vvg_generator.py:148: UserWarning: Any labeled images will be returned as a boolean array. Did you mean to use a boolean array?\n",
      "  region_labels = measure.label(morphology.remove_small_holes(seg, area_threshold=5, connectivity=1).astype(\"uint8\"), background=1)\n"
     ]
    },
    {
     "name": "stdout",
     "output_type": "stream",
     "text": [
      "1813 467\n",
      "8815\n",
      "279054 3438\n",
      "0813_OS\n"
     ]
    },
    {
     "name": "stderr",
     "output_type": "stream",
     "text": [
      "/home/alex_johannes/octa_gnn/OCTA_gnn/generator/heterograph_from_vvg_generator.py:148: UserWarning: Any labeled images will be returned as a boolean array. Did you mean to use a boolean array?\n",
      "  region_labels = measure.label(morphology.remove_small_holes(seg, area_threshold=5, connectivity=1).astype(\"uint8\"), background=1)\n"
     ]
    },
    {
     "name": "stdout",
     "output_type": "stream",
     "text": [
      "1688 398\n",
      "8572\n",
      "260455 3312\n",
      "0814_OD\n"
     ]
    },
    {
     "name": "stderr",
     "output_type": "stream",
     "text": [
      "/home/alex_johannes/octa_gnn/OCTA_gnn/generator/heterograph_from_vvg_generator.py:148: UserWarning: Any labeled images will be returned as a boolean array. Did you mean to use a boolean array?\n",
      "  region_labels = measure.label(morphology.remove_small_holes(seg, area_threshold=5, connectivity=1).astype(\"uint8\"), background=1)\n"
     ]
    },
    {
     "name": "stdout",
     "output_type": "stream",
     "text": [
      "427 100\n",
      "2711\n",
      "177607 877\n",
      "0814_OS\n"
     ]
    },
    {
     "name": "stderr",
     "output_type": "stream",
     "text": [
      "/home/alex_johannes/octa_gnn/OCTA_gnn/generator/heterograph_from_vvg_generator.py:148: UserWarning: Any labeled images will be returned as a boolean array. Did you mean to use a boolean array?\n",
      "  region_labels = measure.label(morphology.remove_small_holes(seg, area_threshold=5, connectivity=1).astype(\"uint8\"), background=1)\n"
     ]
    },
    {
     "name": "stdout",
     "output_type": "stream",
     "text": [
      "421 69\n",
      "2511\n",
      "182876 994\n",
      "0815_OD\n"
     ]
    },
    {
     "name": "stderr",
     "output_type": "stream",
     "text": [
      "/home/alex_johannes/octa_gnn/OCTA_gnn/generator/heterograph_from_vvg_generator.py:148: UserWarning: Any labeled images will be returned as a boolean array. Did you mean to use a boolean array?\n",
      "  region_labels = measure.label(morphology.remove_small_holes(seg, area_threshold=5, connectivity=1).astype(\"uint8\"), background=1)\n"
     ]
    },
    {
     "name": "stdout",
     "output_type": "stream",
     "text": [
      "1376 280\n",
      "6977\n",
      "252228 2107\n",
      "0815_OS\n"
     ]
    },
    {
     "name": "stderr",
     "output_type": "stream",
     "text": [
      "/home/alex_johannes/octa_gnn/OCTA_gnn/generator/heterograph_from_vvg_generator.py:148: UserWarning: Any labeled images will be returned as a boolean array. Did you mean to use a boolean array?\n",
      "  region_labels = measure.label(morphology.remove_small_holes(seg, area_threshold=5, connectivity=1).astype(\"uint8\"), background=1)\n"
     ]
    },
    {
     "name": "stdout",
     "output_type": "stream",
     "text": [
      "1811 418\n",
      "8589\n",
      "278422 3365\n",
      "0737_OS\n"
     ]
    },
    {
     "name": "stderr",
     "output_type": "stream",
     "text": [
      "/home/alex_johannes/octa_gnn/OCTA_gnn/generator/heterograph_from_vvg_generator.py:148: UserWarning: Any labeled images will be returned as a boolean array. Did you mean to use a boolean array?\n",
      "  region_labels = measure.label(morphology.remove_small_holes(seg, area_threshold=5, connectivity=1).astype(\"uint8\"), background=1)\n"
     ]
    },
    {
     "name": "stdout",
     "output_type": "stream",
     "text": [
      "1743 400\n",
      "8278\n",
      "265068 3050\n",
      "0738_OS\n"
     ]
    },
    {
     "name": "stderr",
     "output_type": "stream",
     "text": [
      "/home/alex_johannes/octa_gnn/OCTA_gnn/generator/heterograph_from_vvg_generator.py:148: UserWarning: Any labeled images will be returned as a boolean array. Did you mean to use a boolean array?\n",
      "  region_labels = measure.label(morphology.remove_small_holes(seg, area_threshold=5, connectivity=1).astype(\"uint8\"), background=1)\n"
     ]
    },
    {
     "name": "stdout",
     "output_type": "stream",
     "text": [
      "1253 285\n",
      "6577\n",
      "250422 3030\n",
      "0739_OD\n"
     ]
    },
    {
     "name": "stderr",
     "output_type": "stream",
     "text": [
      "/home/alex_johannes/octa_gnn/OCTA_gnn/generator/heterograph_from_vvg_generator.py:148: UserWarning: Any labeled images will be returned as a boolean array. Did you mean to use a boolean array?\n",
      "  region_labels = measure.label(morphology.remove_small_holes(seg, area_threshold=5, connectivity=1).astype(\"uint8\"), background=1)\n"
     ]
    },
    {
     "name": "stdout",
     "output_type": "stream",
     "text": [
      "1770 386\n",
      "8262\n",
      "268425 3182\n",
      "0739_OS\n"
     ]
    },
    {
     "name": "stderr",
     "output_type": "stream",
     "text": [
      "/home/alex_johannes/octa_gnn/OCTA_gnn/generator/heterograph_from_vvg_generator.py:148: UserWarning: Any labeled images will be returned as a boolean array. Did you mean to use a boolean array?\n",
      "  region_labels = measure.label(morphology.remove_small_holes(seg, area_threshold=5, connectivity=1).astype(\"uint8\"), background=1)\n"
     ]
    },
    {
     "name": "stdout",
     "output_type": "stream",
     "text": [
      "1774 394\n",
      "8312\n",
      "266798 3246\n",
      "0740_OD\n"
     ]
    },
    {
     "name": "stderr",
     "output_type": "stream",
     "text": [
      "/home/alex_johannes/octa_gnn/OCTA_gnn/generator/heterograph_from_vvg_generator.py:148: UserWarning: Any labeled images will be returned as a boolean array. Did you mean to use a boolean array?\n",
      "  region_labels = measure.label(morphology.remove_small_holes(seg, area_threshold=5, connectivity=1).astype(\"uint8\"), background=1)\n"
     ]
    },
    {
     "name": "stdout",
     "output_type": "stream",
     "text": [
      "1793 376\n",
      "8448\n",
      "268084 3039\n",
      "0740_OS\n"
     ]
    },
    {
     "name": "stderr",
     "output_type": "stream",
     "text": [
      "/home/alex_johannes/octa_gnn/OCTA_gnn/generator/heterograph_from_vvg_generator.py:148: UserWarning: Any labeled images will be returned as a boolean array. Did you mean to use a boolean array?\n",
      "  region_labels = measure.label(morphology.remove_small_holes(seg, area_threshold=5, connectivity=1).astype(\"uint8\"), background=1)\n"
     ]
    },
    {
     "name": "stdout",
     "output_type": "stream",
     "text": [
      "1784 444\n",
      "8376\n",
      "265564 3423\n",
      "0741_OD\n"
     ]
    },
    {
     "name": "stderr",
     "output_type": "stream",
     "text": [
      "/home/alex_johannes/octa_gnn/OCTA_gnn/generator/heterograph_from_vvg_generator.py:148: UserWarning: Any labeled images will be returned as a boolean array. Did you mean to use a boolean array?\n",
      "  region_labels = measure.label(morphology.remove_small_holes(seg, area_threshold=5, connectivity=1).astype(\"uint8\"), background=1)\n"
     ]
    },
    {
     "name": "stdout",
     "output_type": "stream",
     "text": [
      "1818 497\n",
      "8610\n",
      "253339 4918\n",
      "0741_OS\n"
     ]
    },
    {
     "name": "stderr",
     "output_type": "stream",
     "text": [
      "/home/alex_johannes/octa_gnn/OCTA_gnn/generator/heterograph_from_vvg_generator.py:148: UserWarning: Any labeled images will be returned as a boolean array. Did you mean to use a boolean array?\n",
      "  region_labels = measure.label(morphology.remove_small_holes(seg, area_threshold=5, connectivity=1).astype(\"uint8\"), background=1)\n"
     ]
    },
    {
     "name": "stdout",
     "output_type": "stream",
     "text": [
      "1743 389\n",
      "8247\n",
      "269270 3132\n",
      "0742_OD\n"
     ]
    },
    {
     "name": "stderr",
     "output_type": "stream",
     "text": [
      "/home/alex_johannes/octa_gnn/OCTA_gnn/generator/heterograph_from_vvg_generator.py:148: UserWarning: Any labeled images will be returned as a boolean array. Did you mean to use a boolean array?\n",
      "  region_labels = measure.label(morphology.remove_small_holes(seg, area_threshold=5, connectivity=1).astype(\"uint8\"), background=1)\n"
     ]
    },
    {
     "name": "stdout",
     "output_type": "stream",
     "text": [
      "1160 294\n",
      "5993\n",
      "223402 2987\n",
      "0742_OS\n"
     ]
    },
    {
     "name": "stderr",
     "output_type": "stream",
     "text": [
      "/home/alex_johannes/octa_gnn/OCTA_gnn/generator/heterograph_from_vvg_generator.py:148: UserWarning: Any labeled images will be returned as a boolean array. Did you mean to use a boolean array?\n",
      "  region_labels = measure.label(morphology.remove_small_holes(seg, area_threshold=5, connectivity=1).astype(\"uint8\"), background=1)\n"
     ]
    },
    {
     "name": "stdout",
     "output_type": "stream",
     "text": [
      "1471 394\n",
      "7143\n",
      "245031 3288\n",
      "0743_OD\n"
     ]
    },
    {
     "name": "stderr",
     "output_type": "stream",
     "text": [
      "/home/alex_johannes/octa_gnn/OCTA_gnn/generator/heterograph_from_vvg_generator.py:148: UserWarning: Any labeled images will be returned as a boolean array. Did you mean to use a boolean array?\n",
      "  region_labels = measure.label(morphology.remove_small_holes(seg, area_threshold=5, connectivity=1).astype(\"uint8\"), background=1)\n"
     ]
    },
    {
     "name": "stdout",
     "output_type": "stream",
     "text": [
      "1521 350\n",
      "7282\n",
      "249701 3290\n",
      "0744_OS\n"
     ]
    },
    {
     "name": "stderr",
     "output_type": "stream",
     "text": [
      "/home/alex_johannes/octa_gnn/OCTA_gnn/generator/heterograph_from_vvg_generator.py:148: UserWarning: Any labeled images will be returned as a boolean array. Did you mean to use a boolean array?\n",
      "  region_labels = measure.label(morphology.remove_small_holes(seg, area_threshold=5, connectivity=1).astype(\"uint8\"), background=1)\n"
     ]
    },
    {
     "name": "stdout",
     "output_type": "stream",
     "text": [
      "323 80\n",
      "1993\n",
      "139922 1620\n",
      "0745_OD\n"
     ]
    },
    {
     "name": "stderr",
     "output_type": "stream",
     "text": [
      "/home/alex_johannes/octa_gnn/OCTA_gnn/generator/heterograph_from_vvg_generator.py:148: UserWarning: Any labeled images will be returned as a boolean array. Did you mean to use a boolean array?\n",
      "  region_labels = measure.label(morphology.remove_small_holes(seg, area_threshold=5, connectivity=1).astype(\"uint8\"), background=1)\n"
     ]
    },
    {
     "name": "stdout",
     "output_type": "stream",
     "text": [
      "2110 518\n",
      "9454\n",
      "271201 4039\n",
      "0746_OD\n"
     ]
    },
    {
     "name": "stderr",
     "output_type": "stream",
     "text": [
      "/home/alex_johannes/octa_gnn/OCTA_gnn/generator/heterograph_from_vvg_generator.py:148: UserWarning: Any labeled images will be returned as a boolean array. Did you mean to use a boolean array?\n",
      "  region_labels = measure.label(morphology.remove_small_holes(seg, area_threshold=5, connectivity=1).astype(\"uint8\"), background=1)\n"
     ]
    },
    {
     "name": "stdout",
     "output_type": "stream",
     "text": [
      "1636 356\n",
      "7834\n",
      "258557 2921\n",
      "0746_OS\n"
     ]
    },
    {
     "name": "stderr",
     "output_type": "stream",
     "text": [
      "/home/alex_johannes/octa_gnn/OCTA_gnn/generator/heterograph_from_vvg_generator.py:148: UserWarning: Any labeled images will be returned as a boolean array. Did you mean to use a boolean array?\n",
      "  region_labels = measure.label(morphology.remove_small_holes(seg, area_threshold=5, connectivity=1).astype(\"uint8\"), background=1)\n"
     ]
    },
    {
     "name": "stdout",
     "output_type": "stream",
     "text": [
      "1709 377\n",
      "7859\n",
      "257094 2855\n",
      "0747_OD\n"
     ]
    },
    {
     "name": "stderr",
     "output_type": "stream",
     "text": [
      "/home/alex_johannes/octa_gnn/OCTA_gnn/generator/heterograph_from_vvg_generator.py:148: UserWarning: Any labeled images will be returned as a boolean array. Did you mean to use a boolean array?\n",
      "  region_labels = measure.label(morphology.remove_small_holes(seg, area_threshold=5, connectivity=1).astype(\"uint8\"), background=1)\n",
      "/home/alex_johannes/octa_gnn/OCTA_gnn/.venv/lib/python3.10/site-packages/skimage/measure/_regionprops.py:647: RuntimeWarning: invalid value encountered in scalar divide\n",
      "  tuple(M[_get_element(axis)] / M0 for axis in range(self._ndim)))\n"
     ]
    },
    {
     "name": "stdout",
     "output_type": "stream",
     "text": [
      "1886 442\n",
      "8516\n",
      "266496 3345\n",
      "0021_OS\n"
     ]
    },
    {
     "name": "stderr",
     "output_type": "stream",
     "text": [
      "/home/alex_johannes/octa_gnn/OCTA_gnn/generator/heterograph_from_vvg_generator.py:148: UserWarning: Any labeled images will be returned as a boolean array. Did you mean to use a boolean array?\n",
      "  region_labels = measure.label(morphology.remove_small_holes(seg, area_threshold=5, connectivity=1).astype(\"uint8\"), background=1)\n"
     ]
    },
    {
     "name": "stdout",
     "output_type": "stream",
     "text": [
      "1991 473\n",
      "9085\n",
      "283151 3478\n",
      "0022_OD\n"
     ]
    },
    {
     "name": "stderr",
     "output_type": "stream",
     "text": [
      "/home/alex_johannes/octa_gnn/OCTA_gnn/generator/heterograph_from_vvg_generator.py:148: UserWarning: Any labeled images will be returned as a boolean array. Did you mean to use a boolean array?\n",
      "  region_labels = measure.label(morphology.remove_small_holes(seg, area_threshold=5, connectivity=1).astype(\"uint8\"), background=1)\n"
     ]
    },
    {
     "name": "stdout",
     "output_type": "stream",
     "text": [
      "2055 492\n",
      "9215\n",
      "272470 4080\n",
      "0022_OS\n"
     ]
    },
    {
     "name": "stderr",
     "output_type": "stream",
     "text": [
      "/home/alex_johannes/octa_gnn/OCTA_gnn/generator/heterograph_from_vvg_generator.py:148: UserWarning: Any labeled images will be returned as a boolean array. Did you mean to use a boolean array?\n",
      "  region_labels = measure.label(morphology.remove_small_holes(seg, area_threshold=5, connectivity=1).astype(\"uint8\"), background=1)\n"
     ]
    },
    {
     "name": "stdout",
     "output_type": "stream",
     "text": [
      "2243 492\n",
      "9883\n",
      "287549 4120\n",
      "0023_OS\n"
     ]
    },
    {
     "name": "stderr",
     "output_type": "stream",
     "text": [
      "/home/alex_johannes/octa_gnn/OCTA_gnn/generator/heterograph_from_vvg_generator.py:148: UserWarning: Any labeled images will be returned as a boolean array. Did you mean to use a boolean array?\n",
      "  region_labels = measure.label(morphology.remove_small_holes(seg, area_threshold=5, connectivity=1).astype(\"uint8\"), background=1)\n"
     ]
    },
    {
     "name": "stdout",
     "output_type": "stream",
     "text": [
      "993 217\n",
      "5329\n",
      "233808 1939\n",
      "0024_OD\n"
     ]
    },
    {
     "name": "stderr",
     "output_type": "stream",
     "text": [
      "/home/alex_johannes/octa_gnn/OCTA_gnn/generator/heterograph_from_vvg_generator.py:148: UserWarning: Any labeled images will be returned as a boolean array. Did you mean to use a boolean array?\n",
      "  region_labels = measure.label(morphology.remove_small_holes(seg, area_threshold=5, connectivity=1).astype(\"uint8\"), background=1)\n"
     ]
    },
    {
     "name": "stdout",
     "output_type": "stream",
     "text": [
      "1838 456\n",
      "8505\n",
      "259615 4338\n",
      "0024_OS\n"
     ]
    },
    {
     "name": "stderr",
     "output_type": "stream",
     "text": [
      "/home/alex_johannes/octa_gnn/OCTA_gnn/generator/heterograph_from_vvg_generator.py:148: UserWarning: Any labeled images will be returned as a boolean array. Did you mean to use a boolean array?\n",
      "  region_labels = measure.label(morphology.remove_small_holes(seg, area_threshold=5, connectivity=1).astype(\"uint8\"), background=1)\n"
     ]
    },
    {
     "name": "stdout",
     "output_type": "stream",
     "text": [
      "1697 395\n",
      "8034\n",
      "262076 4259\n",
      "0025_OD\n"
     ]
    },
    {
     "name": "stderr",
     "output_type": "stream",
     "text": [
      "/home/alex_johannes/octa_gnn/OCTA_gnn/generator/heterograph_from_vvg_generator.py:148: UserWarning: Any labeled images will be returned as a boolean array. Did you mean to use a boolean array?\n",
      "  region_labels = measure.label(morphology.remove_small_holes(seg, area_threshold=5, connectivity=1).astype(\"uint8\"), background=1)\n"
     ]
    },
    {
     "name": "stdout",
     "output_type": "stream",
     "text": [
      "1898 465\n",
      "8801\n",
      "272771 3459\n",
      "0026_OD\n"
     ]
    },
    {
     "name": "stderr",
     "output_type": "stream",
     "text": [
      "/home/alex_johannes/octa_gnn/OCTA_gnn/generator/heterograph_from_vvg_generator.py:148: UserWarning: Any labeled images will be returned as a boolean array. Did you mean to use a boolean array?\n",
      "  region_labels = measure.label(morphology.remove_small_holes(seg, area_threshold=5, connectivity=1).astype(\"uint8\"), background=1)\n"
     ]
    },
    {
     "name": "stdout",
     "output_type": "stream",
     "text": [
      "1676 342\n",
      "8180\n",
      "273218 2793\n",
      "0026_OS\n"
     ]
    },
    {
     "name": "stderr",
     "output_type": "stream",
     "text": [
      "/home/alex_johannes/octa_gnn/OCTA_gnn/generator/heterograph_from_vvg_generator.py:148: UserWarning: Any labeled images will be returned as a boolean array. Did you mean to use a boolean array?\n",
      "  region_labels = measure.label(morphology.remove_small_holes(seg, area_threshold=5, connectivity=1).astype(\"uint8\"), background=1)\n"
     ]
    },
    {
     "name": "stdout",
     "output_type": "stream",
     "text": [
      "1514 346\n",
      "7638\n",
      "264058 2693\n",
      "0027_OD\n"
     ]
    },
    {
     "name": "stderr",
     "output_type": "stream",
     "text": [
      "/home/alex_johannes/octa_gnn/OCTA_gnn/generator/heterograph_from_vvg_generator.py:148: UserWarning: Any labeled images will be returned as a boolean array. Did you mean to use a boolean array?\n",
      "  region_labels = measure.label(morphology.remove_small_holes(seg, area_threshold=5, connectivity=1).astype(\"uint8\"), background=1)\n"
     ]
    },
    {
     "name": "stdout",
     "output_type": "stream",
     "text": [
      "1892 452\n",
      "8988\n",
      "285295 3513\n",
      "0027_OS\n"
     ]
    },
    {
     "name": "stderr",
     "output_type": "stream",
     "text": [
      "/home/alex_johannes/octa_gnn/OCTA_gnn/generator/heterograph_from_vvg_generator.py:148: UserWarning: Any labeled images will be returned as a boolean array. Did you mean to use a boolean array?\n",
      "  region_labels = measure.label(morphology.remove_small_holes(seg, area_threshold=5, connectivity=1).astype(\"uint8\"), background=1)\n"
     ]
    },
    {
     "name": "stdout",
     "output_type": "stream",
     "text": [
      "1946 479\n",
      "9090\n",
      "274646 3383\n",
      "0028_OD\n"
     ]
    },
    {
     "name": "stderr",
     "output_type": "stream",
     "text": [
      "/home/alex_johannes/octa_gnn/OCTA_gnn/generator/heterograph_from_vvg_generator.py:148: UserWarning: Any labeled images will be returned as a boolean array. Did you mean to use a boolean array?\n",
      "  region_labels = measure.label(morphology.remove_small_holes(seg, area_threshold=5, connectivity=1).astype(\"uint8\"), background=1)\n"
     ]
    },
    {
     "name": "stdout",
     "output_type": "stream",
     "text": [
      "661 121\n",
      "3968\n",
      "210327 1387\n",
      "0029_OD\n"
     ]
    },
    {
     "name": "stderr",
     "output_type": "stream",
     "text": [
      "/home/alex_johannes/octa_gnn/OCTA_gnn/generator/heterograph_from_vvg_generator.py:148: UserWarning: Any labeled images will be returned as a boolean array. Did you mean to use a boolean array?\n",
      "  region_labels = measure.label(morphology.remove_small_holes(seg, area_threshold=5, connectivity=1).astype(\"uint8\"), background=1)\n"
     ]
    },
    {
     "name": "stdout",
     "output_type": "stream",
     "text": [
      "1613 360\n",
      "7771\n",
      "259391 3004\n",
      "0030_OD\n"
     ]
    },
    {
     "name": "stderr",
     "output_type": "stream",
     "text": [
      "/home/alex_johannes/octa_gnn/OCTA_gnn/generator/heterograph_from_vvg_generator.py:148: UserWarning: Any labeled images will be returned as a boolean array. Did you mean to use a boolean array?\n",
      "  region_labels = measure.label(morphology.remove_small_holes(seg, area_threshold=5, connectivity=1).astype(\"uint8\"), background=1)\n"
     ]
    },
    {
     "name": "stdout",
     "output_type": "stream",
     "text": [
      "2105 464\n",
      "9448\n",
      "279662 3451\n",
      "0030_OS\n"
     ]
    },
    {
     "name": "stderr",
     "output_type": "stream",
     "text": [
      "/home/alex_johannes/octa_gnn/OCTA_gnn/generator/heterograph_from_vvg_generator.py:148: UserWarning: Any labeled images will be returned as a boolean array. Did you mean to use a boolean array?\n",
      "  region_labels = measure.label(morphology.remove_small_holes(seg, area_threshold=5, connectivity=1).astype(\"uint8\"), background=1)\n"
     ]
    },
    {
     "name": "stdout",
     "output_type": "stream",
     "text": [
      "2113 499\n",
      "9570\n",
      "284136 3994\n",
      "0691_OS\n"
     ]
    },
    {
     "name": "stderr",
     "output_type": "stream",
     "text": [
      "/home/alex_johannes/octa_gnn/OCTA_gnn/generator/heterograph_from_vvg_generator.py:148: UserWarning: Any labeled images will be returned as a boolean array. Did you mean to use a boolean array?\n",
      "  region_labels = measure.label(morphology.remove_small_holes(seg, area_threshold=5, connectivity=1).astype(\"uint8\"), background=1)\n"
     ]
    },
    {
     "name": "stdout",
     "output_type": "stream",
     "text": [
      "1645 445\n",
      "8319\n",
      "267329 3630\n",
      "0692_OD\n"
     ]
    },
    {
     "name": "stderr",
     "output_type": "stream",
     "text": [
      "/home/alex_johannes/octa_gnn/OCTA_gnn/generator/heterograph_from_vvg_generator.py:148: UserWarning: Any labeled images will be returned as a boolean array. Did you mean to use a boolean array?\n",
      "  region_labels = measure.label(morphology.remove_small_holes(seg, area_threshold=5, connectivity=1).astype(\"uint8\"), background=1)\n"
     ]
    },
    {
     "name": "stdout",
     "output_type": "stream",
     "text": [
      "1132 277\n",
      "6251\n",
      "239822 2401\n",
      "0693_OD\n"
     ]
    },
    {
     "name": "stderr",
     "output_type": "stream",
     "text": [
      "/home/alex_johannes/octa_gnn/OCTA_gnn/generator/heterograph_from_vvg_generator.py:148: UserWarning: Any labeled images will be returned as a boolean array. Did you mean to use a boolean array?\n",
      "  region_labels = measure.label(morphology.remove_small_holes(seg, area_threshold=5, connectivity=1).astype(\"uint8\"), background=1)\n"
     ]
    },
    {
     "name": "stdout",
     "output_type": "stream",
     "text": [
      "1600 346\n",
      "7565\n",
      "245741 2915\n",
      "0693_OS\n"
     ]
    },
    {
     "name": "stderr",
     "output_type": "stream",
     "text": [
      "/home/alex_johannes/octa_gnn/OCTA_gnn/generator/heterograph_from_vvg_generator.py:148: UserWarning: Any labeled images will be returned as a boolean array. Did you mean to use a boolean array?\n",
      "  region_labels = measure.label(morphology.remove_small_holes(seg, area_threshold=5, connectivity=1).astype(\"uint8\"), background=1)\n"
     ]
    },
    {
     "name": "stdout",
     "output_type": "stream",
     "text": [
      "1814 422\n",
      "8393\n",
      "264343 3941\n",
      "0694_OS\n"
     ]
    },
    {
     "name": "stderr",
     "output_type": "stream",
     "text": [
      "/home/alex_johannes/octa_gnn/OCTA_gnn/generator/heterograph_from_vvg_generator.py:148: UserWarning: Any labeled images will be returned as a boolean array. Did you mean to use a boolean array?\n",
      "  region_labels = measure.label(morphology.remove_small_holes(seg, area_threshold=5, connectivity=1).astype(\"uint8\"), background=1)\n"
     ]
    },
    {
     "name": "stdout",
     "output_type": "stream",
     "text": [
      "1647 363\n",
      "7911\n",
      "265455 2523\n",
      "0695_OD\n"
     ]
    },
    {
     "name": "stderr",
     "output_type": "stream",
     "text": [
      "/home/alex_johannes/octa_gnn/OCTA_gnn/generator/heterograph_from_vvg_generator.py:148: UserWarning: Any labeled images will be returned as a boolean array. Did you mean to use a boolean array?\n",
      "  region_labels = measure.label(morphology.remove_small_holes(seg, area_threshold=5, connectivity=1).astype(\"uint8\"), background=1)\n"
     ]
    },
    {
     "name": "stdout",
     "output_type": "stream",
     "text": [
      "1751 398\n",
      "8697\n",
      "269062 2993\n",
      "0695_OS\n"
     ]
    },
    {
     "name": "stderr",
     "output_type": "stream",
     "text": [
      "/home/alex_johannes/octa_gnn/OCTA_gnn/generator/heterograph_from_vvg_generator.py:148: UserWarning: Any labeled images will be returned as a boolean array. Did you mean to use a boolean array?\n",
      "  region_labels = measure.label(morphology.remove_small_holes(seg, area_threshold=5, connectivity=1).astype(\"uint8\"), background=1)\n"
     ]
    },
    {
     "name": "stdout",
     "output_type": "stream",
     "text": [
      "1827 469\n",
      "8761\n",
      "271887 3702\n",
      "0696_OS\n"
     ]
    },
    {
     "name": "stderr",
     "output_type": "stream",
     "text": [
      "/home/alex_johannes/octa_gnn/OCTA_gnn/generator/heterograph_from_vvg_generator.py:148: UserWarning: Any labeled images will be returned as a boolean array. Did you mean to use a boolean array?\n",
      "  region_labels = measure.label(morphology.remove_small_holes(seg, area_threshold=5, connectivity=1).astype(\"uint8\"), background=1)\n"
     ]
    },
    {
     "name": "stdout",
     "output_type": "stream",
     "text": [
      "1440 304\n",
      "7245\n",
      "251332 2026\n",
      "0697_OD\n"
     ]
    },
    {
     "name": "stderr",
     "output_type": "stream",
     "text": [
      "/home/alex_johannes/octa_gnn/OCTA_gnn/generator/heterograph_from_vvg_generator.py:148: UserWarning: Any labeled images will be returned as a boolean array. Did you mean to use a boolean array?\n",
      "  region_labels = measure.label(morphology.remove_small_holes(seg, area_threshold=5, connectivity=1).astype(\"uint8\"), background=1)\n"
     ]
    },
    {
     "name": "stdout",
     "output_type": "stream",
     "text": [
      "495 102\n",
      "2980\n",
      "182067 1204\n",
      "0697_OS\n"
     ]
    },
    {
     "name": "stderr",
     "output_type": "stream",
     "text": [
      "/home/alex_johannes/octa_gnn/OCTA_gnn/generator/heterograph_from_vvg_generator.py:148: UserWarning: Any labeled images will be returned as a boolean array. Did you mean to use a boolean array?\n",
      "  region_labels = measure.label(morphology.remove_small_holes(seg, area_threshold=5, connectivity=1).astype(\"uint8\"), background=1)\n"
     ]
    },
    {
     "name": "stdout",
     "output_type": "stream",
     "text": [
      "623 114\n",
      "3747\n",
      "206733 1117\n",
      "0698_OS\n"
     ]
    },
    {
     "name": "stderr",
     "output_type": "stream",
     "text": [
      "/home/alex_johannes/octa_gnn/OCTA_gnn/generator/heterograph_from_vvg_generator.py:148: UserWarning: Any labeled images will be returned as a boolean array. Did you mean to use a boolean array?\n",
      "  region_labels = measure.label(morphology.remove_small_holes(seg, area_threshold=5, connectivity=1).astype(\"uint8\"), background=1)\n"
     ]
    },
    {
     "name": "stdout",
     "output_type": "stream",
     "text": [
      "1494 368\n",
      "7359\n",
      "255401 2962\n",
      "0699_OD\n"
     ]
    },
    {
     "name": "stderr",
     "output_type": "stream",
     "text": [
      "/home/alex_johannes/octa_gnn/OCTA_gnn/generator/heterograph_from_vvg_generator.py:148: UserWarning: Any labeled images will be returned as a boolean array. Did you mean to use a boolean array?\n",
      "  region_labels = measure.label(morphology.remove_small_holes(seg, area_threshold=5, connectivity=1).astype(\"uint8\"), background=1)\n"
     ]
    },
    {
     "name": "stdout",
     "output_type": "stream",
     "text": [
      "1472 348\n",
      "7374\n",
      "258399 3377\n",
      "0699_OS\n"
     ]
    },
    {
     "name": "stderr",
     "output_type": "stream",
     "text": [
      "/home/alex_johannes/octa_gnn/OCTA_gnn/generator/heterograph_from_vvg_generator.py:148: UserWarning: Any labeled images will be returned as a boolean array. Did you mean to use a boolean array?\n",
      "  region_labels = measure.label(morphology.remove_small_holes(seg, area_threshold=5, connectivity=1).astype(\"uint8\"), background=1)\n"
     ]
    },
    {
     "name": "stdout",
     "output_type": "stream",
     "text": [
      "1569 377\n",
      "7613\n",
      "259550 3382\n",
      "0700_OD\n"
     ]
    },
    {
     "name": "stderr",
     "output_type": "stream",
     "text": [
      "/home/alex_johannes/octa_gnn/OCTA_gnn/generator/heterograph_from_vvg_generator.py:148: UserWarning: Any labeled images will be returned as a boolean array. Did you mean to use a boolean array?\n",
      "  region_labels = measure.label(morphology.remove_small_holes(seg, area_threshold=5, connectivity=1).astype(\"uint8\"), background=1)\n"
     ]
    },
    {
     "name": "stdout",
     "output_type": "stream",
     "text": [
      "1803 424\n",
      "8338\n",
      "269888 3262\n",
      "0700_OS\n"
     ]
    },
    {
     "name": "stderr",
     "output_type": "stream",
     "text": [
      "/home/alex_johannes/octa_gnn/OCTA_gnn/generator/heterograph_from_vvg_generator.py:148: UserWarning: Any labeled images will be returned as a boolean array. Did you mean to use a boolean array?\n",
      "  region_labels = measure.label(morphology.remove_small_holes(seg, area_threshold=5, connectivity=1).astype(\"uint8\"), background=1)\n"
     ]
    },
    {
     "name": "stdout",
     "output_type": "stream",
     "text": [
      "1800 404\n",
      "8254\n",
      "277179 3121\n",
      "0701_OS\n"
     ]
    },
    {
     "name": "stderr",
     "output_type": "stream",
     "text": [
      "/home/alex_johannes/octa_gnn/OCTA_gnn/generator/heterograph_from_vvg_generator.py:148: UserWarning: Any labeled images will be returned as a boolean array. Did you mean to use a boolean array?\n",
      "  region_labels = measure.label(morphology.remove_small_holes(seg, area_threshold=5, connectivity=1).astype(\"uint8\"), background=1)\n"
     ]
    },
    {
     "name": "stdout",
     "output_type": "stream",
     "text": [
      "639 118\n",
      "3871\n",
      "203026 1040\n",
      "0702_OD\n"
     ]
    },
    {
     "name": "stderr",
     "output_type": "stream",
     "text": [
      "/home/alex_johannes/octa_gnn/OCTA_gnn/generator/heterograph_from_vvg_generator.py:148: UserWarning: Any labeled images will be returned as a boolean array. Did you mean to use a boolean array?\n",
      "  region_labels = measure.label(morphology.remove_small_holes(seg, area_threshold=5, connectivity=1).astype(\"uint8\"), background=1)\n"
     ]
    },
    {
     "name": "stdout",
     "output_type": "stream",
     "text": [
      "214 48\n",
      "1037\n",
      "101450 842\n",
      "0702_OS\n"
     ]
    },
    {
     "name": "stderr",
     "output_type": "stream",
     "text": [
      "/home/alex_johannes/octa_gnn/OCTA_gnn/generator/heterograph_from_vvg_generator.py:148: UserWarning: Any labeled images will be returned as a boolean array. Did you mean to use a boolean array?\n",
      "  region_labels = measure.label(morphology.remove_small_holes(seg, area_threshold=5, connectivity=1).astype(\"uint8\"), background=1)\n"
     ]
    },
    {
     "name": "stdout",
     "output_type": "stream",
     "text": [
      "345 85\n",
      "2205\n",
      "162814 994\n",
      "0548_OD\n"
     ]
    },
    {
     "name": "stderr",
     "output_type": "stream",
     "text": [
      "/home/alex_johannes/octa_gnn/OCTA_gnn/generator/heterograph_from_vvg_generator.py:148: UserWarning: Any labeled images will be returned as a boolean array. Did you mean to use a boolean array?\n",
      "  region_labels = measure.label(morphology.remove_small_holes(seg, area_threshold=5, connectivity=1).astype(\"uint8\"), background=1)\n"
     ]
    },
    {
     "name": "stdout",
     "output_type": "stream",
     "text": [
      "1603 351\n",
      "7749\n",
      "259526 2735\n",
      "0549_OS\n"
     ]
    },
    {
     "name": "stderr",
     "output_type": "stream",
     "text": [
      "/home/alex_johannes/octa_gnn/OCTA_gnn/generator/heterograph_from_vvg_generator.py:148: UserWarning: Any labeled images will be returned as a boolean array. Did you mean to use a boolean array?\n",
      "  region_labels = measure.label(morphology.remove_small_holes(seg, area_threshold=5, connectivity=1).astype(\"uint8\"), background=1)\n"
     ]
    },
    {
     "name": "stdout",
     "output_type": "stream",
     "text": [
      "1798 478\n",
      "8391\n",
      "259787 4208\n",
      "0550_OD\n"
     ]
    },
    {
     "name": "stderr",
     "output_type": "stream",
     "text": [
      "/home/alex_johannes/octa_gnn/OCTA_gnn/generator/heterograph_from_vvg_generator.py:148: UserWarning: Any labeled images will be returned as a boolean array. Did you mean to use a boolean array?\n",
      "  region_labels = measure.label(morphology.remove_small_holes(seg, area_threshold=5, connectivity=1).astype(\"uint8\"), background=1)\n"
     ]
    },
    {
     "name": "stdout",
     "output_type": "stream",
     "text": [
      "1723 411\n",
      "8080\n",
      "258776 3810\n",
      "0551_OD\n"
     ]
    },
    {
     "name": "stderr",
     "output_type": "stream",
     "text": [
      "/home/alex_johannes/octa_gnn/OCTA_gnn/generator/heterograph_from_vvg_generator.py:148: UserWarning: Any labeled images will be returned as a boolean array. Did you mean to use a boolean array?\n",
      "  region_labels = measure.label(morphology.remove_small_holes(seg, area_threshold=5, connectivity=1).astype(\"uint8\"), background=1)\n"
     ]
    },
    {
     "name": "stdout",
     "output_type": "stream",
     "text": [
      "1352 271\n",
      "6621\n",
      "251189 2398\n",
      "0551_OS\n"
     ]
    },
    {
     "name": "stderr",
     "output_type": "stream",
     "text": [
      "/home/alex_johannes/octa_gnn/OCTA_gnn/generator/heterograph_from_vvg_generator.py:148: UserWarning: Any labeled images will be returned as a boolean array. Did you mean to use a boolean array?\n",
      "  region_labels = measure.label(morphology.remove_small_holes(seg, area_threshold=5, connectivity=1).astype(\"uint8\"), background=1)\n"
     ]
    },
    {
     "name": "stdout",
     "output_type": "stream",
     "text": [
      "1603 373\n",
      "7581\n",
      "255252 3422\n",
      "0552_OD\n"
     ]
    },
    {
     "name": "stderr",
     "output_type": "stream",
     "text": [
      "/home/alex_johannes/octa_gnn/OCTA_gnn/generator/heterograph_from_vvg_generator.py:148: UserWarning: Any labeled images will be returned as a boolean array. Did you mean to use a boolean array?\n",
      "  region_labels = measure.label(morphology.remove_small_holes(seg, area_threshold=5, connectivity=1).astype(\"uint8\"), background=1)\n"
     ]
    },
    {
     "name": "stdout",
     "output_type": "stream",
     "text": [
      "688 142\n",
      "4094\n",
      "201153 1388\n",
      "0553_OD\n"
     ]
    },
    {
     "name": "stderr",
     "output_type": "stream",
     "text": [
      "/home/alex_johannes/octa_gnn/OCTA_gnn/generator/heterograph_from_vvg_generator.py:148: UserWarning: Any labeled images will be returned as a boolean array. Did you mean to use a boolean array?\n",
      "  region_labels = measure.label(morphology.remove_small_holes(seg, area_threshold=5, connectivity=1).astype(\"uint8\"), background=1)\n"
     ]
    },
    {
     "name": "stdout",
     "output_type": "stream",
     "text": [
      "2067 468\n",
      "9396\n",
      "283557 3012\n",
      "0553_OS\n"
     ]
    },
    {
     "name": "stderr",
     "output_type": "stream",
     "text": [
      "/home/alex_johannes/octa_gnn/OCTA_gnn/generator/heterograph_from_vvg_generator.py:148: UserWarning: Any labeled images will be returned as a boolean array. Did you mean to use a boolean array?\n",
      "  region_labels = measure.label(morphology.remove_small_holes(seg, area_threshold=5, connectivity=1).astype(\"uint8\"), background=1)\n"
     ]
    },
    {
     "name": "stdout",
     "output_type": "stream",
     "text": [
      "1882 399\n",
      "8770\n",
      "266944 3328\n",
      "0554_OD\n"
     ]
    },
    {
     "name": "stderr",
     "output_type": "stream",
     "text": [
      "/home/alex_johannes/octa_gnn/OCTA_gnn/generator/heterograph_from_vvg_generator.py:148: UserWarning: Any labeled images will be returned as a boolean array. Did you mean to use a boolean array?\n",
      "  region_labels = measure.label(morphology.remove_small_holes(seg, area_threshold=5, connectivity=1).astype(\"uint8\"), background=1)\n"
     ]
    },
    {
     "name": "stdout",
     "output_type": "stream",
     "text": [
      "2200 484\n",
      "9832\n",
      "295544 3739\n",
      "0554_OS\n"
     ]
    },
    {
     "name": "stderr",
     "output_type": "stream",
     "text": [
      "/home/alex_johannes/octa_gnn/OCTA_gnn/generator/heterograph_from_vvg_generator.py:148: UserWarning: Any labeled images will be returned as a boolean array. Did you mean to use a boolean array?\n",
      "  region_labels = measure.label(morphology.remove_small_holes(seg, area_threshold=5, connectivity=1).astype(\"uint8\"), background=1)\n"
     ]
    },
    {
     "name": "stdout",
     "output_type": "stream",
     "text": [
      "2137 553\n",
      "9357\n",
      "272457 4495\n",
      "0555_OD\n"
     ]
    },
    {
     "name": "stderr",
     "output_type": "stream",
     "text": [
      "/home/alex_johannes/octa_gnn/OCTA_gnn/generator/heterograph_from_vvg_generator.py:148: UserWarning: Any labeled images will be returned as a boolean array. Did you mean to use a boolean array?\n",
      "  region_labels = measure.label(morphology.remove_small_holes(seg, area_threshold=5, connectivity=1).astype(\"uint8\"), background=1)\n"
     ]
    },
    {
     "name": "stdout",
     "output_type": "stream",
     "text": [
      "2039 493\n",
      "9230\n",
      "271163 4736\n",
      "0555_OS\n"
     ]
    },
    {
     "name": "stderr",
     "output_type": "stream",
     "text": [
      "/home/alex_johannes/octa_gnn/OCTA_gnn/generator/heterograph_from_vvg_generator.py:148: UserWarning: Any labeled images will be returned as a boolean array. Did you mean to use a boolean array?\n",
      "  region_labels = measure.label(morphology.remove_small_holes(seg, area_threshold=5, connectivity=1).astype(\"uint8\"), background=1)\n"
     ]
    },
    {
     "name": "stdout",
     "output_type": "stream",
     "text": [
      "2090 574\n",
      "9341\n",
      "267309 5484\n",
      "0556_OD\n"
     ]
    },
    {
     "name": "stderr",
     "output_type": "stream",
     "text": [
      "/home/alex_johannes/octa_gnn/OCTA_gnn/generator/heterograph_from_vvg_generator.py:148: UserWarning: Any labeled images will be returned as a boolean array. Did you mean to use a boolean array?\n",
      "  region_labels = measure.label(morphology.remove_small_holes(seg, area_threshold=5, connectivity=1).astype(\"uint8\"), background=1)\n"
     ]
    },
    {
     "name": "stdout",
     "output_type": "stream",
     "text": [
      "1728 460\n",
      "8136\n",
      "263496 3484\n",
      "0556_OS\n"
     ]
    },
    {
     "name": "stderr",
     "output_type": "stream",
     "text": [
      "/home/alex_johannes/octa_gnn/OCTA_gnn/generator/heterograph_from_vvg_generator.py:148: UserWarning: Any labeled images will be returned as a boolean array. Did you mean to use a boolean array?\n",
      "  region_labels = measure.label(morphology.remove_small_holes(seg, area_threshold=5, connectivity=1).astype(\"uint8\"), background=1)\n"
     ]
    },
    {
     "name": "stdout",
     "output_type": "stream",
     "text": [
      "1905 450\n",
      "8714\n",
      "265330 3922\n",
      "0557_OD\n"
     ]
    },
    {
     "name": "stderr",
     "output_type": "stream",
     "text": [
      "/home/alex_johannes/octa_gnn/OCTA_gnn/generator/heterograph_from_vvg_generator.py:148: UserWarning: Any labeled images will be returned as a boolean array. Did you mean to use a boolean array?\n",
      "  region_labels = measure.label(morphology.remove_small_holes(seg, area_threshold=5, connectivity=1).astype(\"uint8\"), background=1)\n"
     ]
    },
    {
     "name": "stdout",
     "output_type": "stream",
     "text": [
      "1979 410\n",
      "8930\n",
      "278209 3511\n",
      "0557_OS\n"
     ]
    },
    {
     "name": "stderr",
     "output_type": "stream",
     "text": [
      "/home/alex_johannes/octa_gnn/OCTA_gnn/generator/heterograph_from_vvg_generator.py:148: UserWarning: Any labeled images will be returned as a boolean array. Did you mean to use a boolean array?\n",
      "  region_labels = measure.label(morphology.remove_small_holes(seg, area_threshold=5, connectivity=1).astype(\"uint8\"), background=1)\n"
     ]
    },
    {
     "name": "stdout",
     "output_type": "stream",
     "text": [
      "1619 442\n",
      "8172\n",
      "264345 3350\n",
      "0558_OD\n"
     ]
    },
    {
     "name": "stderr",
     "output_type": "stream",
     "text": [
      "/home/alex_johannes/octa_gnn/OCTA_gnn/generator/heterograph_from_vvg_generator.py:148: UserWarning: Any labeled images will be returned as a boolean array. Did you mean to use a boolean array?\n",
      "  region_labels = measure.label(morphology.remove_small_holes(seg, area_threshold=5, connectivity=1).astype(\"uint8\"), background=1)\n"
     ]
    },
    {
     "name": "stdout",
     "output_type": "stream",
     "text": [
      "1880 445\n",
      "8734\n",
      "270505 3652\n",
      "0558_OS\n"
     ]
    },
    {
     "name": "stderr",
     "output_type": "stream",
     "text": [
      "/home/alex_johannes/octa_gnn/OCTA_gnn/generator/heterograph_from_vvg_generator.py:148: UserWarning: Any labeled images will be returned as a boolean array. Did you mean to use a boolean array?\n",
      "  region_labels = measure.label(morphology.remove_small_holes(seg, area_threshold=5, connectivity=1).astype(\"uint8\"), background=1)\n"
     ]
    },
    {
     "name": "stdout",
     "output_type": "stream",
     "text": [
      "1964 439\n",
      "8986\n",
      "275662 3749\n",
      "0559_OD\n"
     ]
    },
    {
     "name": "stderr",
     "output_type": "stream",
     "text": [
      "/home/alex_johannes/octa_gnn/OCTA_gnn/generator/heterograph_from_vvg_generator.py:148: UserWarning: Any labeled images will be returned as a boolean array. Did you mean to use a boolean array?\n",
      "  region_labels = measure.label(morphology.remove_small_holes(seg, area_threshold=5, connectivity=1).astype(\"uint8\"), background=1)\n"
     ]
    },
    {
     "name": "stdout",
     "output_type": "stream",
     "text": [
      "1298 290\n",
      "6485\n",
      "242086 2635\n",
      "0560_OD\n"
     ]
    },
    {
     "name": "stderr",
     "output_type": "stream",
     "text": [
      "/home/alex_johannes/octa_gnn/OCTA_gnn/generator/heterograph_from_vvg_generator.py:148: UserWarning: Any labeled images will be returned as a boolean array. Did you mean to use a boolean array?\n",
      "  region_labels = measure.label(morphology.remove_small_holes(seg, area_threshold=5, connectivity=1).astype(\"uint8\"), background=1)\n"
     ]
    },
    {
     "name": "stdout",
     "output_type": "stream",
     "text": [
      "1689 365\n",
      "7974\n",
      "267001 3135\n",
      "0561_OD\n"
     ]
    },
    {
     "name": "stderr",
     "output_type": "stream",
     "text": [
      "/home/alex_johannes/octa_gnn/OCTA_gnn/generator/heterograph_from_vvg_generator.py:148: UserWarning: Any labeled images will be returned as a boolean array. Did you mean to use a boolean array?\n",
      "  region_labels = measure.label(morphology.remove_small_holes(seg, area_threshold=5, connectivity=1).astype(\"uint8\"), background=1)\n"
     ]
    },
    {
     "name": "stdout",
     "output_type": "stream",
     "text": [
      "1512 326\n",
      "7580\n",
      "259623 2615\n",
      "0561_OS\n"
     ]
    },
    {
     "name": "stderr",
     "output_type": "stream",
     "text": [
      "/home/alex_johannes/octa_gnn/OCTA_gnn/generator/heterograph_from_vvg_generator.py:148: UserWarning: Any labeled images will be returned as a boolean array. Did you mean to use a boolean array?\n",
      "  region_labels = measure.label(morphology.remove_small_holes(seg, area_threshold=5, connectivity=1).astype(\"uint8\"), background=1)\n"
     ]
    },
    {
     "name": "stdout",
     "output_type": "stream",
     "text": [
      "1499 308\n",
      "7531\n",
      "263486 2597\n",
      "0562_OS\n"
     ]
    },
    {
     "name": "stderr",
     "output_type": "stream",
     "text": [
      "/home/alex_johannes/octa_gnn/OCTA_gnn/generator/heterograph_from_vvg_generator.py:148: UserWarning: Any labeled images will be returned as a boolean array. Did you mean to use a boolean array?\n",
      "  region_labels = measure.label(morphology.remove_small_holes(seg, area_threshold=5, connectivity=1).astype(\"uint8\"), background=1)\n"
     ]
    },
    {
     "name": "stdout",
     "output_type": "stream",
     "text": [
      "1626 487\n",
      "7779\n",
      "242862 4188\n",
      "0563_OD\n"
     ]
    },
    {
     "name": "stderr",
     "output_type": "stream",
     "text": [
      "/home/alex_johannes/octa_gnn/OCTA_gnn/generator/heterograph_from_vvg_generator.py:148: UserWarning: Any labeled images will be returned as a boolean array. Did you mean to use a boolean array?\n",
      "  region_labels = measure.label(morphology.remove_small_holes(seg, area_threshold=5, connectivity=1).astype(\"uint8\"), background=1)\n"
     ]
    },
    {
     "name": "stdout",
     "output_type": "stream",
     "text": [
      "1663 341\n",
      "8009\n",
      "271959 3313\n",
      "0563_OS\n"
     ]
    },
    {
     "name": "stderr",
     "output_type": "stream",
     "text": [
      "/home/alex_johannes/octa_gnn/OCTA_gnn/generator/heterograph_from_vvg_generator.py:148: UserWarning: Any labeled images will be returned as a boolean array. Did you mean to use a boolean array?\n",
      "  region_labels = measure.label(morphology.remove_small_holes(seg, area_threshold=5, connectivity=1).astype(\"uint8\"), background=1)\n"
     ]
    },
    {
     "name": "stdout",
     "output_type": "stream",
     "text": [
      "731 144\n",
      "4389\n",
      "219411 1938\n",
      "0564_OS\n"
     ]
    },
    {
     "name": "stderr",
     "output_type": "stream",
     "text": [
      "/home/alex_johannes/octa_gnn/OCTA_gnn/generator/heterograph_from_vvg_generator.py:148: UserWarning: Any labeled images will be returned as a boolean array. Did you mean to use a boolean array?\n",
      "  region_labels = measure.label(morphology.remove_small_holes(seg, area_threshold=5, connectivity=1).astype(\"uint8\"), background=1)\n"
     ]
    },
    {
     "name": "stdout",
     "output_type": "stream",
     "text": [
      "1407 354\n",
      "7087\n",
      "250152 3314\n",
      "0565_OD\n"
     ]
    },
    {
     "name": "stderr",
     "output_type": "stream",
     "text": [
      "/home/alex_johannes/octa_gnn/OCTA_gnn/generator/heterograph_from_vvg_generator.py:148: UserWarning: Any labeled images will be returned as a boolean array. Did you mean to use a boolean array?\n",
      "  region_labels = measure.label(morphology.remove_small_holes(seg, area_threshold=5, connectivity=1).astype(\"uint8\"), background=1)\n"
     ]
    },
    {
     "name": "stdout",
     "output_type": "stream",
     "text": [
      "1755 385\n",
      "8114\n",
      "267621 2742\n",
      "0566_OS\n"
     ]
    },
    {
     "name": "stderr",
     "output_type": "stream",
     "text": [
      "/home/alex_johannes/octa_gnn/OCTA_gnn/generator/heterograph_from_vvg_generator.py:148: UserWarning: Any labeled images will be returned as a boolean array. Did you mean to use a boolean array?\n",
      "  region_labels = measure.label(morphology.remove_small_holes(seg, area_threshold=5, connectivity=1).astype(\"uint8\"), background=1)\n"
     ]
    },
    {
     "name": "stdout",
     "output_type": "stream",
     "text": [
      "1442 352\n",
      "7225\n",
      "252871 3071\n",
      "0075_OD\n"
     ]
    },
    {
     "name": "stderr",
     "output_type": "stream",
     "text": [
      "/home/alex_johannes/octa_gnn/OCTA_gnn/generator/heterograph_from_vvg_generator.py:148: UserWarning: Any labeled images will be returned as a boolean array. Did you mean to use a boolean array?\n",
      "  region_labels = measure.label(morphology.remove_small_holes(seg, area_threshold=5, connectivity=1).astype(\"uint8\"), background=1)\n"
     ]
    },
    {
     "name": "stdout",
     "output_type": "stream",
     "text": [
      "1898 483\n",
      "8801\n",
      "276982 3529\n",
      "0075_OS\n"
     ]
    },
    {
     "name": "stderr",
     "output_type": "stream",
     "text": [
      "/home/alex_johannes/octa_gnn/OCTA_gnn/generator/heterograph_from_vvg_generator.py:148: UserWarning: Any labeled images will be returned as a boolean array. Did you mean to use a boolean array?\n",
      "  region_labels = measure.label(morphology.remove_small_holes(seg, area_threshold=5, connectivity=1).astype(\"uint8\"), background=1)\n"
     ]
    },
    {
     "name": "stdout",
     "output_type": "stream",
     "text": [
      "2086 464\n",
      "9309\n",
      "281553 3291\n",
      "0076_OD\n"
     ]
    },
    {
     "name": "stderr",
     "output_type": "stream",
     "text": [
      "/home/alex_johannes/octa_gnn/OCTA_gnn/generator/heterograph_from_vvg_generator.py:148: UserWarning: Any labeled images will be returned as a boolean array. Did you mean to use a boolean array?\n",
      "  region_labels = measure.label(morphology.remove_small_holes(seg, area_threshold=5, connectivity=1).astype(\"uint8\"), background=1)\n"
     ]
    },
    {
     "name": "stdout",
     "output_type": "stream",
     "text": [
      "1605 377\n",
      "7842\n",
      "261899 3588\n",
      "0076_OS\n"
     ]
    },
    {
     "name": "stderr",
     "output_type": "stream",
     "text": [
      "/home/alex_johannes/octa_gnn/OCTA_gnn/generator/heterograph_from_vvg_generator.py:148: UserWarning: Any labeled images will be returned as a boolean array. Did you mean to use a boolean array?\n",
      "  region_labels = measure.label(morphology.remove_small_holes(seg, area_threshold=5, connectivity=1).astype(\"uint8\"), background=1)\n"
     ]
    },
    {
     "name": "stdout",
     "output_type": "stream",
     "text": [
      "1684 369\n",
      "8143\n",
      "265105 3483\n",
      "0077_OD\n"
     ]
    },
    {
     "name": "stderr",
     "output_type": "stream",
     "text": [
      "/home/alex_johannes/octa_gnn/OCTA_gnn/generator/heterograph_from_vvg_generator.py:148: UserWarning: Any labeled images will be returned as a boolean array. Did you mean to use a boolean array?\n",
      "  region_labels = measure.label(morphology.remove_small_holes(seg, area_threshold=5, connectivity=1).astype(\"uint8\"), background=1)\n"
     ]
    },
    {
     "name": "stdout",
     "output_type": "stream",
     "text": [
      "2023 446\n",
      "9212\n",
      "269089 4007\n",
      "0077_OS\n"
     ]
    },
    {
     "name": "stderr",
     "output_type": "stream",
     "text": [
      "/home/alex_johannes/octa_gnn/OCTA_gnn/generator/heterograph_from_vvg_generator.py:148: UserWarning: Any labeled images will be returned as a boolean array. Did you mean to use a boolean array?\n",
      "  region_labels = measure.label(morphology.remove_small_holes(seg, area_threshold=5, connectivity=1).astype(\"uint8\"), background=1)\n"
     ]
    },
    {
     "name": "stdout",
     "output_type": "stream",
     "text": [
      "2029 449\n",
      "9233\n",
      "283739 3235\n",
      "0078_OD\n"
     ]
    },
    {
     "name": "stderr",
     "output_type": "stream",
     "text": [
      "/home/alex_johannes/octa_gnn/OCTA_gnn/generator/heterograph_from_vvg_generator.py:148: UserWarning: Any labeled images will be returned as a boolean array. Did you mean to use a boolean array?\n",
      "  region_labels = measure.label(morphology.remove_small_holes(seg, area_threshold=5, connectivity=1).astype(\"uint8\"), background=1)\n"
     ]
    },
    {
     "name": "stdout",
     "output_type": "stream",
     "text": [
      "2147 466\n",
      "9764\n",
      "291705 3659\n",
      "0078_OS\n"
     ]
    },
    {
     "name": "stderr",
     "output_type": "stream",
     "text": [
      "/home/alex_johannes/octa_gnn/OCTA_gnn/generator/heterograph_from_vvg_generator.py:148: UserWarning: Any labeled images will be returned as a boolean array. Did you mean to use a boolean array?\n",
      "  region_labels = measure.label(morphology.remove_small_holes(seg, area_threshold=5, connectivity=1).astype(\"uint8\"), background=1)\n"
     ]
    },
    {
     "name": "stdout",
     "output_type": "stream",
     "text": [
      "2159 543\n",
      "9677\n",
      "275425 3815\n",
      "0079_OD\n"
     ]
    },
    {
     "name": "stderr",
     "output_type": "stream",
     "text": [
      "/home/alex_johannes/octa_gnn/OCTA_gnn/generator/heterograph_from_vvg_generator.py:148: UserWarning: Any labeled images will be returned as a boolean array. Did you mean to use a boolean array?\n",
      "  region_labels = measure.label(morphology.remove_small_holes(seg, area_threshold=5, connectivity=1).astype(\"uint8\"), background=1)\n"
     ]
    },
    {
     "name": "stdout",
     "output_type": "stream",
     "text": [
      "870 172\n",
      "4743\n",
      "219379 1816\n",
      "0079_OS\n"
     ]
    },
    {
     "name": "stderr",
     "output_type": "stream",
     "text": [
      "/home/alex_johannes/octa_gnn/OCTA_gnn/generator/heterograph_from_vvg_generator.py:148: UserWarning: Any labeled images will be returned as a boolean array. Did you mean to use a boolean array?\n",
      "  region_labels = measure.label(morphology.remove_small_holes(seg, area_threshold=5, connectivity=1).astype(\"uint8\"), background=1)\n"
     ]
    },
    {
     "name": "stdout",
     "output_type": "stream",
     "text": [
      "375 72\n",
      "2525\n",
      "155958 896\n",
      "0080_OD\n"
     ]
    },
    {
     "name": "stderr",
     "output_type": "stream",
     "text": [
      "/home/alex_johannes/octa_gnn/OCTA_gnn/generator/heterograph_from_vvg_generator.py:148: UserWarning: Any labeled images will be returned as a boolean array. Did you mean to use a boolean array?\n",
      "  region_labels = measure.label(morphology.remove_small_holes(seg, area_threshold=5, connectivity=1).astype(\"uint8\"), background=1)\n",
      "/home/alex_johannes/octa_gnn/OCTA_gnn/.venv/lib/python3.10/site-packages/skimage/measure/_regionprops.py:647: RuntimeWarning: invalid value encountered in scalar divide\n",
      "  tuple(M[_get_element(axis)] / M0 for axis in range(self._ndim)))\n"
     ]
    },
    {
     "name": "stdout",
     "output_type": "stream",
     "text": [
      "1707 436\n",
      "8182\n",
      "267788 3422\n",
      "0080_OS\n"
     ]
    },
    {
     "name": "stderr",
     "output_type": "stream",
     "text": [
      "/home/alex_johannes/octa_gnn/OCTA_gnn/generator/heterograph_from_vvg_generator.py:148: UserWarning: Any labeled images will be returned as a boolean array. Did you mean to use a boolean array?\n",
      "  region_labels = measure.label(morphology.remove_small_holes(seg, area_threshold=5, connectivity=1).astype(\"uint8\"), background=1)\n"
     ]
    },
    {
     "name": "stdout",
     "output_type": "stream",
     "text": [
      "1826 371\n",
      "8450\n",
      "270928 2968\n",
      "0081_OS\n"
     ]
    },
    {
     "name": "stderr",
     "output_type": "stream",
     "text": [
      "/home/alex_johannes/octa_gnn/OCTA_gnn/generator/heterograph_from_vvg_generator.py:148: UserWarning: Any labeled images will be returned as a boolean array. Did you mean to use a boolean array?\n",
      "  region_labels = measure.label(morphology.remove_small_holes(seg, area_threshold=5, connectivity=1).astype(\"uint8\"), background=1)\n"
     ]
    },
    {
     "name": "stdout",
     "output_type": "stream",
     "text": [
      "1919 451\n",
      "8802\n",
      "274338 4030\n",
      "0082_OD\n"
     ]
    },
    {
     "name": "stderr",
     "output_type": "stream",
     "text": [
      "/home/alex_johannes/octa_gnn/OCTA_gnn/generator/heterograph_from_vvg_generator.py:148: UserWarning: Any labeled images will be returned as a boolean array. Did you mean to use a boolean array?\n",
      "  region_labels = measure.label(morphology.remove_small_holes(seg, area_threshold=5, connectivity=1).astype(\"uint8\"), background=1)\n"
     ]
    },
    {
     "name": "stdout",
     "output_type": "stream",
     "text": [
      "1978 440\n",
      "9019\n",
      "272505 3547\n",
      "0082_OS\n"
     ]
    },
    {
     "name": "stderr",
     "output_type": "stream",
     "text": [
      "/home/alex_johannes/octa_gnn/OCTA_gnn/generator/heterograph_from_vvg_generator.py:148: UserWarning: Any labeled images will be returned as a boolean array. Did you mean to use a boolean array?\n",
      "  region_labels = measure.label(morphology.remove_small_holes(seg, area_threshold=5, connectivity=1).astype(\"uint8\"), background=1)\n"
     ]
    },
    {
     "name": "stdout",
     "output_type": "stream",
     "text": [
      "2020 444\n",
      "9305\n",
      "278754 3543\n",
      "0083_OD\n"
     ]
    },
    {
     "name": "stderr",
     "output_type": "stream",
     "text": [
      "/home/alex_johannes/octa_gnn/OCTA_gnn/generator/heterograph_from_vvg_generator.py:148: UserWarning: Any labeled images will be returned as a boolean array. Did you mean to use a boolean array?\n",
      "  region_labels = measure.label(morphology.remove_small_holes(seg, area_threshold=5, connectivity=1).astype(\"uint8\"), background=1)\n"
     ]
    },
    {
     "name": "stdout",
     "output_type": "stream",
     "text": [
      "1462 333\n",
      "7247\n",
      "254131 2685\n",
      "0084_OD\n"
     ]
    },
    {
     "name": "stderr",
     "output_type": "stream",
     "text": [
      "/home/alex_johannes/octa_gnn/OCTA_gnn/generator/heterograph_from_vvg_generator.py:148: UserWarning: Any labeled images will be returned as a boolean array. Did you mean to use a boolean array?\n",
      "  region_labels = measure.label(morphology.remove_small_holes(seg, area_threshold=5, connectivity=1).astype(\"uint8\"), background=1)\n"
     ]
    },
    {
     "name": "stdout",
     "output_type": "stream",
     "text": [
      "1732 403\n",
      "8120\n",
      "257956 3645\n",
      "0084_OS\n"
     ]
    },
    {
     "name": "stderr",
     "output_type": "stream",
     "text": [
      "/home/alex_johannes/octa_gnn/OCTA_gnn/generator/heterograph_from_vvg_generator.py:148: UserWarning: Any labeled images will be returned as a boolean array. Did you mean to use a boolean array?\n",
      "  region_labels = measure.label(morphology.remove_small_holes(seg, area_threshold=5, connectivity=1).astype(\"uint8\"), background=1)\n"
     ]
    },
    {
     "name": "stdout",
     "output_type": "stream",
     "text": [
      "1658 419\n",
      "7833\n",
      "252741 3481\n",
      "0085_OD\n"
     ]
    },
    {
     "name": "stderr",
     "output_type": "stream",
     "text": [
      "/home/alex_johannes/octa_gnn/OCTA_gnn/generator/heterograph_from_vvg_generator.py:148: UserWarning: Any labeled images will be returned as a boolean array. Did you mean to use a boolean array?\n",
      "  region_labels = measure.label(morphology.remove_small_holes(seg, area_threshold=5, connectivity=1).astype(\"uint8\"), background=1)\n"
     ]
    },
    {
     "name": "stdout",
     "output_type": "stream",
     "text": [
      "1686 405\n",
      "8046\n",
      "266594 3401\n",
      "0085_OS\n"
     ]
    },
    {
     "name": "stderr",
     "output_type": "stream",
     "text": [
      "/home/alex_johannes/octa_gnn/OCTA_gnn/generator/heterograph_from_vvg_generator.py:148: UserWarning: Any labeled images will be returned as a boolean array. Did you mean to use a boolean array?\n",
      "  region_labels = measure.label(morphology.remove_small_holes(seg, area_threshold=5, connectivity=1).astype(\"uint8\"), background=1)\n"
     ]
    },
    {
     "name": "stdout",
     "output_type": "stream",
     "text": [
      "1685 364\n",
      "8112\n",
      "269284 2281\n",
      "0086_OD\n"
     ]
    },
    {
     "name": "stderr",
     "output_type": "stream",
     "text": [
      "/home/alex_johannes/octa_gnn/OCTA_gnn/generator/heterograph_from_vvg_generator.py:148: UserWarning: Any labeled images will be returned as a boolean array. Did you mean to use a boolean array?\n",
      "  region_labels = measure.label(morphology.remove_small_holes(seg, area_threshold=5, connectivity=1).astype(\"uint8\"), background=1)\n"
     ]
    },
    {
     "name": "stdout",
     "output_type": "stream",
     "text": [
      "1936 393\n",
      "9002\n",
      "279890 3725\n",
      "0086_OS\n"
     ]
    },
    {
     "name": "stderr",
     "output_type": "stream",
     "text": [
      "/home/alex_johannes/octa_gnn/OCTA_gnn/generator/heterograph_from_vvg_generator.py:148: UserWarning: Any labeled images will be returned as a boolean array. Did you mean to use a boolean array?\n",
      "  region_labels = measure.label(morphology.remove_small_holes(seg, area_threshold=5, connectivity=1).astype(\"uint8\"), background=1)\n"
     ]
    },
    {
     "name": "stdout",
     "output_type": "stream",
     "text": [
      "1975 469\n",
      "9061\n",
      "276646 3646\n",
      "0087_OD\n"
     ]
    },
    {
     "name": "stderr",
     "output_type": "stream",
     "text": [
      "/home/alex_johannes/octa_gnn/OCTA_gnn/generator/heterograph_from_vvg_generator.py:148: UserWarning: Any labeled images will be returned as a boolean array. Did you mean to use a boolean array?\n",
      "  region_labels = measure.label(morphology.remove_small_holes(seg, area_threshold=5, connectivity=1).astype(\"uint8\"), background=1)\n"
     ]
    },
    {
     "name": "stdout",
     "output_type": "stream",
     "text": [
      "1157 294\n",
      "6090\n",
      "224372 2578\n",
      "0849_OD\n"
     ]
    },
    {
     "name": "stderr",
     "output_type": "stream",
     "text": [
      "/home/alex_johannes/octa_gnn/OCTA_gnn/generator/heterograph_from_vvg_generator.py:148: UserWarning: Any labeled images will be returned as a boolean array. Did you mean to use a boolean array?\n",
      "  region_labels = measure.label(morphology.remove_small_holes(seg, area_threshold=5, connectivity=1).astype(\"uint8\"), background=1)\n"
     ]
    },
    {
     "name": "stdout",
     "output_type": "stream",
     "text": [
      "1120 261\n",
      "5869\n",
      "244525 2395\n",
      "0849_OS\n"
     ]
    },
    {
     "name": "stderr",
     "output_type": "stream",
     "text": [
      "/home/alex_johannes/octa_gnn/OCTA_gnn/generator/heterograph_from_vvg_generator.py:148: UserWarning: Any labeled images will be returned as a boolean array. Did you mean to use a boolean array?\n",
      "  region_labels = measure.label(morphology.remove_small_holes(seg, area_threshold=5, connectivity=1).astype(\"uint8\"), background=1)\n"
     ]
    },
    {
     "name": "stdout",
     "output_type": "stream",
     "text": [
      "1304 278\n",
      "6656\n",
      "258568 2617\n",
      "0850_OD\n"
     ]
    },
    {
     "name": "stderr",
     "output_type": "stream",
     "text": [
      "/home/alex_johannes/octa_gnn/OCTA_gnn/generator/heterograph_from_vvg_generator.py:148: UserWarning: Any labeled images will be returned as a boolean array. Did you mean to use a boolean array?\n",
      "  region_labels = measure.label(morphology.remove_small_holes(seg, area_threshold=5, connectivity=1).astype(\"uint8\"), background=1)\n"
     ]
    },
    {
     "name": "stdout",
     "output_type": "stream",
     "text": [
      "1961 436\n",
      "9032\n",
      "278564 4235\n",
      "0850_OS\n"
     ]
    },
    {
     "name": "stderr",
     "output_type": "stream",
     "text": [
      "/home/alex_johannes/octa_gnn/OCTA_gnn/generator/heterograph_from_vvg_generator.py:148: UserWarning: Any labeled images will be returned as a boolean array. Did you mean to use a boolean array?\n",
      "  region_labels = measure.label(morphology.remove_small_holes(seg, area_threshold=5, connectivity=1).astype(\"uint8\"), background=1)\n"
     ]
    },
    {
     "name": "stdout",
     "output_type": "stream",
     "text": [
      "1885 439\n",
      "8872\n",
      "276556 2968\n",
      "0851_OD\n"
     ]
    },
    {
     "name": "stderr",
     "output_type": "stream",
     "text": [
      "/home/alex_johannes/octa_gnn/OCTA_gnn/generator/heterograph_from_vvg_generator.py:148: UserWarning: Any labeled images will be returned as a boolean array. Did you mean to use a boolean array?\n",
      "  region_labels = measure.label(morphology.remove_small_holes(seg, area_threshold=5, connectivity=1).astype(\"uint8\"), background=1)\n"
     ]
    },
    {
     "name": "stdout",
     "output_type": "stream",
     "text": [
      "905 193\n",
      "5001\n",
      "223911 1706\n",
      "0852_OD\n"
     ]
    },
    {
     "name": "stderr",
     "output_type": "stream",
     "text": [
      "/home/alex_johannes/octa_gnn/OCTA_gnn/generator/heterograph_from_vvg_generator.py:148: UserWarning: Any labeled images will be returned as a boolean array. Did you mean to use a boolean array?\n",
      "  region_labels = measure.label(morphology.remove_small_holes(seg, area_threshold=5, connectivity=1).astype(\"uint8\"), background=1)\n"
     ]
    },
    {
     "name": "stdout",
     "output_type": "stream",
     "text": [
      "1687 349\n",
      "8056\n",
      "269218 2932\n",
      "0853_OD\n"
     ]
    },
    {
     "name": "stderr",
     "output_type": "stream",
     "text": [
      "/home/alex_johannes/octa_gnn/OCTA_gnn/generator/heterograph_from_vvg_generator.py:148: UserWarning: Any labeled images will be returned as a boolean array. Did you mean to use a boolean array?\n",
      "  region_labels = measure.label(morphology.remove_small_holes(seg, area_threshold=5, connectivity=1).astype(\"uint8\"), background=1)\n"
     ]
    },
    {
     "name": "stdout",
     "output_type": "stream",
     "text": [
      "1925 489\n",
      "8803\n",
      "266661 3557\n",
      "0853_OS\n"
     ]
    },
    {
     "name": "stderr",
     "output_type": "stream",
     "text": [
      "/home/alex_johannes/octa_gnn/OCTA_gnn/generator/heterograph_from_vvg_generator.py:148: UserWarning: Any labeled images will be returned as a boolean array. Did you mean to use a boolean array?\n",
      "  region_labels = measure.label(morphology.remove_small_holes(seg, area_threshold=5, connectivity=1).astype(\"uint8\"), background=1)\n"
     ]
    },
    {
     "name": "stdout",
     "output_type": "stream",
     "text": [
      "2014 464\n",
      "8997\n",
      "273377 3894\n",
      "0854_OD\n"
     ]
    },
    {
     "name": "stderr",
     "output_type": "stream",
     "text": [
      "/home/alex_johannes/octa_gnn/OCTA_gnn/generator/heterograph_from_vvg_generator.py:148: UserWarning: Any labeled images will be returned as a boolean array. Did you mean to use a boolean array?\n",
      "  region_labels = measure.label(morphology.remove_small_holes(seg, area_threshold=5, connectivity=1).astype(\"uint8\"), background=1)\n"
     ]
    },
    {
     "name": "stdout",
     "output_type": "stream",
     "text": [
      "1653 348\n",
      "8020\n",
      "270244 2580\n",
      "0854_OS\n"
     ]
    },
    {
     "name": "stderr",
     "output_type": "stream",
     "text": [
      "/home/alex_johannes/octa_gnn/OCTA_gnn/generator/heterograph_from_vvg_generator.py:148: UserWarning: Any labeled images will be returned as a boolean array. Did you mean to use a boolean array?\n",
      "  region_labels = measure.label(morphology.remove_small_holes(seg, area_threshold=5, connectivity=1).astype(\"uint8\"), background=1)\n"
     ]
    },
    {
     "name": "stdout",
     "output_type": "stream",
     "text": [
      "1449 356\n",
      "7203\n",
      "245690 2946\n",
      "0855_OS\n"
     ]
    },
    {
     "name": "stderr",
     "output_type": "stream",
     "text": [
      "/home/alex_johannes/octa_gnn/OCTA_gnn/generator/heterograph_from_vvg_generator.py:148: UserWarning: Any labeled images will be returned as a boolean array. Did you mean to use a boolean array?\n",
      "  region_labels = measure.label(morphology.remove_small_holes(seg, area_threshold=5, connectivity=1).astype(\"uint8\"), background=1)\n"
     ]
    },
    {
     "name": "stdout",
     "output_type": "stream",
     "text": [
      "1076 301\n",
      "5778\n",
      "227547 2735\n",
      "0856_OD\n"
     ]
    },
    {
     "name": "stderr",
     "output_type": "stream",
     "text": [
      "/home/alex_johannes/octa_gnn/OCTA_gnn/generator/heterograph_from_vvg_generator.py:148: UserWarning: Any labeled images will be returned as a boolean array. Did you mean to use a boolean array?\n",
      "  region_labels = measure.label(morphology.remove_small_holes(seg, area_threshold=5, connectivity=1).astype(\"uint8\"), background=1)\n"
     ]
    },
    {
     "name": "stdout",
     "output_type": "stream",
     "text": [
      "1456 329\n",
      "7055\n",
      "260071 3106\n",
      "0857_OD\n"
     ]
    },
    {
     "name": "stderr",
     "output_type": "stream",
     "text": [
      "/home/alex_johannes/octa_gnn/OCTA_gnn/generator/heterograph_from_vvg_generator.py:148: UserWarning: Any labeled images will be returned as a boolean array. Did you mean to use a boolean array?\n",
      "  region_labels = measure.label(morphology.remove_small_holes(seg, area_threshold=5, connectivity=1).astype(\"uint8\"), background=1)\n"
     ]
    },
    {
     "name": "stdout",
     "output_type": "stream",
     "text": [
      "1713 378\n",
      "8230\n",
      "271488 3140\n",
      "0857_OS\n"
     ]
    },
    {
     "name": "stderr",
     "output_type": "stream",
     "text": [
      "/home/alex_johannes/octa_gnn/OCTA_gnn/generator/heterograph_from_vvg_generator.py:148: UserWarning: Any labeled images will be returned as a boolean array. Did you mean to use a boolean array?\n",
      "  region_labels = measure.label(morphology.remove_small_holes(seg, area_threshold=5, connectivity=1).astype(\"uint8\"), background=1)\n"
     ]
    },
    {
     "name": "stdout",
     "output_type": "stream",
     "text": [
      "1647 378\n",
      "7844\n",
      "264391 3669\n",
      "0858_OS\n"
     ]
    },
    {
     "name": "stderr",
     "output_type": "stream",
     "text": [
      "/home/alex_johannes/octa_gnn/OCTA_gnn/generator/heterograph_from_vvg_generator.py:148: UserWarning: Any labeled images will be returned as a boolean array. Did you mean to use a boolean array?\n",
      "  region_labels = measure.label(morphology.remove_small_holes(seg, area_threshold=5, connectivity=1).astype(\"uint8\"), background=1)\n"
     ]
    },
    {
     "name": "stdout",
     "output_type": "stream",
     "text": [
      "1059 204\n",
      "5436\n",
      "227856 1461\n",
      "0859_OD\n"
     ]
    },
    {
     "name": "stderr",
     "output_type": "stream",
     "text": [
      "/home/alex_johannes/octa_gnn/OCTA_gnn/generator/heterograph_from_vvg_generator.py:148: UserWarning: Any labeled images will be returned as a boolean array. Did you mean to use a boolean array?\n",
      "  region_labels = measure.label(morphology.remove_small_holes(seg, area_threshold=5, connectivity=1).astype(\"uint8\"), background=1)\n"
     ]
    },
    {
     "name": "stdout",
     "output_type": "stream",
     "text": [
      "1664 356\n",
      "7912\n",
      "262939 3436\n",
      "0859_OS\n"
     ]
    },
    {
     "name": "stderr",
     "output_type": "stream",
     "text": [
      "/home/alex_johannes/octa_gnn/OCTA_gnn/generator/heterograph_from_vvg_generator.py:148: UserWarning: Any labeled images will be returned as a boolean array. Did you mean to use a boolean array?\n",
      "  region_labels = measure.label(morphology.remove_small_holes(seg, area_threshold=5, connectivity=1).astype(\"uint8\"), background=1)\n"
     ]
    },
    {
     "name": "stdout",
     "output_type": "stream",
     "text": [
      "1647 396\n",
      "8000\n",
      "267527 3206\n",
      "0860_OD\n"
     ]
    },
    {
     "name": "stderr",
     "output_type": "stream",
     "text": [
      "/home/alex_johannes/octa_gnn/OCTA_gnn/generator/heterograph_from_vvg_generator.py:148: UserWarning: Any labeled images will be returned as a boolean array. Did you mean to use a boolean array?\n",
      "  region_labels = measure.label(morphology.remove_small_holes(seg, area_threshold=5, connectivity=1).astype(\"uint8\"), background=1)\n"
     ]
    },
    {
     "name": "stdout",
     "output_type": "stream",
     "text": [
      "1897 460\n",
      "8718\n",
      "259015 3531\n",
      "0861_OD\n"
     ]
    },
    {
     "name": "stderr",
     "output_type": "stream",
     "text": [
      "/home/alex_johannes/octa_gnn/OCTA_gnn/generator/heterograph_from_vvg_generator.py:148: UserWarning: Any labeled images will be returned as a boolean array. Did you mean to use a boolean array?\n",
      "  region_labels = measure.label(morphology.remove_small_holes(seg, area_threshold=5, connectivity=1).astype(\"uint8\"), background=1)\n"
     ]
    },
    {
     "name": "stdout",
     "output_type": "stream",
     "text": [
      "1959 425\n",
      "8857\n",
      "283535 3261\n",
      "0861_OS\n"
     ]
    },
    {
     "name": "stderr",
     "output_type": "stream",
     "text": [
      "/home/alex_johannes/octa_gnn/OCTA_gnn/generator/heterograph_from_vvg_generator.py:148: UserWarning: Any labeled images will be returned as a boolean array. Did you mean to use a boolean array?\n",
      "  region_labels = measure.label(morphology.remove_small_holes(seg, area_threshold=5, connectivity=1).astype(\"uint8\"), background=1)\n"
     ]
    },
    {
     "name": "stdout",
     "output_type": "stream",
     "text": [
      "1911 392\n",
      "8631\n",
      "276737 3376\n",
      "0862_OS\n"
     ]
    },
    {
     "name": "stderr",
     "output_type": "stream",
     "text": [
      "/home/alex_johannes/octa_gnn/OCTA_gnn/generator/heterograph_from_vvg_generator.py:148: UserWarning: Any labeled images will be returned as a boolean array. Did you mean to use a boolean array?\n",
      "  region_labels = measure.label(morphology.remove_small_holes(seg, area_threshold=5, connectivity=1).astype(\"uint8\"), background=1)\n"
     ]
    },
    {
     "name": "stdout",
     "output_type": "stream",
     "text": [
      "1808 404\n",
      "8047\n",
      "255875 3532\n",
      "0863_OD\n"
     ]
    },
    {
     "name": "stderr",
     "output_type": "stream",
     "text": [
      "/home/alex_johannes/octa_gnn/OCTA_gnn/generator/heterograph_from_vvg_generator.py:148: UserWarning: Any labeled images will be returned as a boolean array. Did you mean to use a boolean array?\n",
      "  region_labels = measure.label(morphology.remove_small_holes(seg, area_threshold=5, connectivity=1).astype(\"uint8\"), background=1)\n"
     ]
    },
    {
     "name": "stdout",
     "output_type": "stream",
     "text": [
      "1829 398\n",
      "8523\n",
      "273074 3287\n",
      "0863_OS\n"
     ]
    },
    {
     "name": "stderr",
     "output_type": "stream",
     "text": [
      "/home/alex_johannes/octa_gnn/OCTA_gnn/generator/heterograph_from_vvg_generator.py:148: UserWarning: Any labeled images will be returned as a boolean array. Did you mean to use a boolean array?\n",
      "  region_labels = measure.label(morphology.remove_small_holes(seg, area_threshold=5, connectivity=1).astype(\"uint8\"), background=1)\n"
     ]
    },
    {
     "name": "stdout",
     "output_type": "stream",
     "text": [
      "1047 242\n",
      "5506\n",
      "226963 2562\n",
      "0864_OS\n"
     ]
    },
    {
     "name": "stderr",
     "output_type": "stream",
     "text": [
      "/home/alex_johannes/octa_gnn/OCTA_gnn/generator/heterograph_from_vvg_generator.py:148: UserWarning: Any labeled images will be returned as a boolean array. Did you mean to use a boolean array?\n",
      "  region_labels = measure.label(morphology.remove_small_holes(seg, area_threshold=5, connectivity=1).astype(\"uint8\"), background=1)\n"
     ]
    },
    {
     "name": "stdout",
     "output_type": "stream",
     "text": [
      "1523 315\n",
      "7524\n",
      "259617 2426\n",
      "0865_OD\n"
     ]
    },
    {
     "name": "stderr",
     "output_type": "stream",
     "text": [
      "/home/alex_johannes/octa_gnn/OCTA_gnn/generator/heterograph_from_vvg_generator.py:148: UserWarning: Any labeled images will be returned as a boolean array. Did you mean to use a boolean array?\n",
      "  region_labels = measure.label(morphology.remove_small_holes(seg, area_threshold=5, connectivity=1).astype(\"uint8\"), background=1)\n"
     ]
    },
    {
     "name": "stdout",
     "output_type": "stream",
     "text": [
      "1530 382\n",
      "7544\n",
      "256935 3613\n",
      "0865_OS\n"
     ]
    },
    {
     "name": "stderr",
     "output_type": "stream",
     "text": [
      "/home/alex_johannes/octa_gnn/OCTA_gnn/generator/heterograph_from_vvg_generator.py:148: UserWarning: Any labeled images will be returned as a boolean array. Did you mean to use a boolean array?\n",
      "  region_labels = measure.label(morphology.remove_small_holes(seg, area_threshold=5, connectivity=1).astype(\"uint8\"), background=1)\n"
     ]
    },
    {
     "name": "stdout",
     "output_type": "stream",
     "text": [
      "1091 245\n",
      "6063\n",
      "241055 2052\n",
      "0866_OD\n"
     ]
    },
    {
     "name": "stderr",
     "output_type": "stream",
     "text": [
      "/home/alex_johannes/octa_gnn/OCTA_gnn/generator/heterograph_from_vvg_generator.py:148: UserWarning: Any labeled images will be returned as a boolean array. Did you mean to use a boolean array?\n",
      "  region_labels = measure.label(morphology.remove_small_holes(seg, area_threshold=5, connectivity=1).astype(\"uint8\"), background=1)\n"
     ]
    },
    {
     "name": "stdout",
     "output_type": "stream",
     "text": [
      "1786 363\n",
      "8404\n",
      "277581 2642\n",
      "0866_OS\n"
     ]
    },
    {
     "name": "stderr",
     "output_type": "stream",
     "text": [
      "/home/alex_johannes/octa_gnn/OCTA_gnn/generator/heterograph_from_vvg_generator.py:148: UserWarning: Any labeled images will be returned as a boolean array. Did you mean to use a boolean array?\n",
      "  region_labels = measure.label(morphology.remove_small_holes(seg, area_threshold=5, connectivity=1).astype(\"uint8\"), background=1)\n"
     ]
    },
    {
     "name": "stdout",
     "output_type": "stream",
     "text": [
      "1732 460\n",
      "7973\n",
      "252627 4117\n",
      "0867_OS\n"
     ]
    },
    {
     "name": "stderr",
     "output_type": "stream",
     "text": [
      "/home/alex_johannes/octa_gnn/OCTA_gnn/generator/heterograph_from_vvg_generator.py:148: UserWarning: Any labeled images will be returned as a boolean array. Did you mean to use a boolean array?\n",
      "  region_labels = measure.label(morphology.remove_small_holes(seg, area_threshold=5, connectivity=1).astype(\"uint8\"), background=1)\n"
     ]
    },
    {
     "name": "stdout",
     "output_type": "stream",
     "text": [
      "464 91\n",
      "3131\n",
      "175075 1093\n",
      "0868_OD\n"
     ]
    },
    {
     "name": "stderr",
     "output_type": "stream",
     "text": [
      "/home/alex_johannes/octa_gnn/OCTA_gnn/generator/heterograph_from_vvg_generator.py:148: UserWarning: Any labeled images will be returned as a boolean array. Did you mean to use a boolean array?\n",
      "  region_labels = measure.label(morphology.remove_small_holes(seg, area_threshold=5, connectivity=1).astype(\"uint8\"), background=1)\n",
      "/home/alex_johannes/octa_gnn/OCTA_gnn/.venv/lib/python3.10/site-packages/skimage/measure/_regionprops.py:647: RuntimeWarning: invalid value encountered in scalar divide\n",
      "  tuple(M[_get_element(axis)] / M0 for axis in range(self._ndim)))\n"
     ]
    },
    {
     "name": "stdout",
     "output_type": "stream",
     "text": [
      "718 165\n",
      "4257\n",
      "199816 1246\n",
      "0509_OD\n"
     ]
    },
    {
     "name": "stderr",
     "output_type": "stream",
     "text": [
      "/home/alex_johannes/octa_gnn/OCTA_gnn/generator/heterograph_from_vvg_generator.py:148: UserWarning: Any labeled images will be returned as a boolean array. Did you mean to use a boolean array?\n",
      "  region_labels = measure.label(morphology.remove_small_holes(seg, area_threshold=5, connectivity=1).astype(\"uint8\"), background=1)\n"
     ]
    },
    {
     "name": "stdout",
     "output_type": "stream",
     "text": [
      "1222 289\n",
      "6266\n",
      "233209 2697\n",
      "0509_OS\n"
     ]
    },
    {
     "name": "stderr",
     "output_type": "stream",
     "text": [
      "/home/alex_johannes/octa_gnn/OCTA_gnn/generator/heterograph_from_vvg_generator.py:148: UserWarning: Any labeled images will be returned as a boolean array. Did you mean to use a boolean array?\n",
      "  region_labels = measure.label(morphology.remove_small_holes(seg, area_threshold=5, connectivity=1).astype(\"uint8\"), background=1)\n"
     ]
    },
    {
     "name": "stdout",
     "output_type": "stream",
     "text": [
      "1404 320\n",
      "6987\n",
      "244324 2833\n",
      "0510_OD\n"
     ]
    },
    {
     "name": "stderr",
     "output_type": "stream",
     "text": [
      "/home/alex_johannes/octa_gnn/OCTA_gnn/generator/heterograph_from_vvg_generator.py:148: UserWarning: Any labeled images will be returned as a boolean array. Did you mean to use a boolean array?\n",
      "  region_labels = measure.label(morphology.remove_small_holes(seg, area_threshold=5, connectivity=1).astype(\"uint8\"), background=1)\n"
     ]
    },
    {
     "name": "stdout",
     "output_type": "stream",
     "text": [
      "608 144\n",
      "3694\n",
      "187097 1511\n",
      "0510_OS\n"
     ]
    },
    {
     "name": "stderr",
     "output_type": "stream",
     "text": [
      "/home/alex_johannes/octa_gnn/OCTA_gnn/generator/heterograph_from_vvg_generator.py:148: UserWarning: Any labeled images will be returned as a boolean array. Did you mean to use a boolean array?\n",
      "  region_labels = measure.label(morphology.remove_small_holes(seg, area_threshold=5, connectivity=1).astype(\"uint8\"), background=1)\n"
     ]
    },
    {
     "name": "stdout",
     "output_type": "stream",
     "text": [
      "535 114\n",
      "3442\n",
      "185913 928\n",
      "0511_OD\n"
     ]
    },
    {
     "name": "stderr",
     "output_type": "stream",
     "text": [
      "/home/alex_johannes/octa_gnn/OCTA_gnn/generator/heterograph_from_vvg_generator.py:148: UserWarning: Any labeled images will be returned as a boolean array. Did you mean to use a boolean array?\n",
      "  region_labels = measure.label(morphology.remove_small_holes(seg, area_threshold=5, connectivity=1).astype(\"uint8\"), background=1)\n"
     ]
    },
    {
     "name": "stdout",
     "output_type": "stream",
     "text": [
      "1574 368\n",
      "7542\n",
      "262242 2871\n",
      "0511_OS\n"
     ]
    },
    {
     "name": "stderr",
     "output_type": "stream",
     "text": [
      "/home/alex_johannes/octa_gnn/OCTA_gnn/generator/heterograph_from_vvg_generator.py:148: UserWarning: Any labeled images will be returned as a boolean array. Did you mean to use a boolean array?\n",
      "  region_labels = measure.label(morphology.remove_small_holes(seg, area_threshold=5, connectivity=1).astype(\"uint8\"), background=1)\n"
     ]
    },
    {
     "name": "stdout",
     "output_type": "stream",
     "text": [
      "1458 351\n",
      "7193\n",
      "251324 2947\n",
      "0512_OD\n"
     ]
    },
    {
     "name": "stderr",
     "output_type": "stream",
     "text": [
      "/home/alex_johannes/octa_gnn/OCTA_gnn/generator/heterograph_from_vvg_generator.py:148: UserWarning: Any labeled images will be returned as a boolean array. Did you mean to use a boolean array?\n",
      "  region_labels = measure.label(morphology.remove_small_holes(seg, area_threshold=5, connectivity=1).astype(\"uint8\"), background=1)\n"
     ]
    },
    {
     "name": "stdout",
     "output_type": "stream",
     "text": [
      "499 118\n",
      "2707\n",
      "160641 1490\n",
      "0512_OS\n"
     ]
    },
    {
     "name": "stderr",
     "output_type": "stream",
     "text": [
      "/home/alex_johannes/octa_gnn/OCTA_gnn/generator/heterograph_from_vvg_generator.py:148: UserWarning: Any labeled images will be returned as a boolean array. Did you mean to use a boolean array?\n",
      "  region_labels = measure.label(morphology.remove_small_holes(seg, area_threshold=5, connectivity=1).astype(\"uint8\"), background=1)\n"
     ]
    },
    {
     "name": "stdout",
     "output_type": "stream",
     "text": [
      "1555 384\n",
      "7278\n",
      "248772 3961\n",
      "0513_OS\n"
     ]
    },
    {
     "name": "stderr",
     "output_type": "stream",
     "text": [
      "/home/alex_johannes/octa_gnn/OCTA_gnn/generator/heterograph_from_vvg_generator.py:148: UserWarning: Any labeled images will be returned as a boolean array. Did you mean to use a boolean array?\n",
      "  region_labels = measure.label(morphology.remove_small_holes(seg, area_threshold=5, connectivity=1).astype(\"uint8\"), background=1)\n"
     ]
    },
    {
     "name": "stdout",
     "output_type": "stream",
     "text": [
      "2000 455\n",
      "9041\n",
      "271822 3327\n",
      "0514_OS\n"
     ]
    },
    {
     "name": "stderr",
     "output_type": "stream",
     "text": [
      "/home/alex_johannes/octa_gnn/OCTA_gnn/generator/heterograph_from_vvg_generator.py:148: UserWarning: Any labeled images will be returned as a boolean array. Did you mean to use a boolean array?\n",
      "  region_labels = measure.label(morphology.remove_small_holes(seg, area_threshold=5, connectivity=1).astype(\"uint8\"), background=1)\n"
     ]
    },
    {
     "name": "stdout",
     "output_type": "stream",
     "text": [
      "1449 337\n",
      "7134\n",
      "248482 2957\n",
      "0515_OD\n"
     ]
    },
    {
     "name": "stderr",
     "output_type": "stream",
     "text": [
      "/home/alex_johannes/octa_gnn/OCTA_gnn/generator/heterograph_from_vvg_generator.py:148: UserWarning: Any labeled images will be returned as a boolean array. Did you mean to use a boolean array?\n",
      "  region_labels = measure.label(morphology.remove_small_holes(seg, area_threshold=5, connectivity=1).astype(\"uint8\"), background=1)\n"
     ]
    },
    {
     "name": "stdout",
     "output_type": "stream",
     "text": [
      "2012 466\n",
      "9281\n",
      "283910 4059\n",
      "0516_OD\n"
     ]
    },
    {
     "name": "stderr",
     "output_type": "stream",
     "text": [
      "/home/alex_johannes/octa_gnn/OCTA_gnn/generator/heterograph_from_vvg_generator.py:148: UserWarning: Any labeled images will be returned as a boolean array. Did you mean to use a boolean array?\n",
      "  region_labels = measure.label(morphology.remove_small_holes(seg, area_threshold=5, connectivity=1).astype(\"uint8\"), background=1)\n"
     ]
    },
    {
     "name": "stdout",
     "output_type": "stream",
     "text": [
      "1437 303\n",
      "7162\n",
      "252142 2897\n",
      "0517_OD\n"
     ]
    },
    {
     "name": "stderr",
     "output_type": "stream",
     "text": [
      "/home/alex_johannes/octa_gnn/OCTA_gnn/generator/heterograph_from_vvg_generator.py:148: UserWarning: Any labeled images will be returned as a boolean array. Did you mean to use a boolean array?\n",
      "  region_labels = measure.label(morphology.remove_small_holes(seg, area_threshold=5, connectivity=1).astype(\"uint8\"), background=1)\n"
     ]
    },
    {
     "name": "stdout",
     "output_type": "stream",
     "text": [
      "1856 417\n",
      "8704\n",
      "276220 3343\n",
      "0517_OS\n"
     ]
    },
    {
     "name": "stderr",
     "output_type": "stream",
     "text": [
      "/home/alex_johannes/octa_gnn/OCTA_gnn/generator/heterograph_from_vvg_generator.py:148: UserWarning: Any labeled images will be returned as a boolean array. Did you mean to use a boolean array?\n",
      "  region_labels = measure.label(morphology.remove_small_holes(seg, area_threshold=5, connectivity=1).astype(\"uint8\"), background=1)\n"
     ]
    },
    {
     "name": "stdout",
     "output_type": "stream",
     "text": [
      "1945 435\n",
      "9009\n",
      "273585 3786\n",
      "0518_OD\n"
     ]
    },
    {
     "name": "stderr",
     "output_type": "stream",
     "text": [
      "/home/alex_johannes/octa_gnn/OCTA_gnn/generator/heterograph_from_vvg_generator.py:148: UserWarning: Any labeled images will be returned as a boolean array. Did you mean to use a boolean array?\n",
      "  region_labels = measure.label(morphology.remove_small_holes(seg, area_threshold=5, connectivity=1).astype(\"uint8\"), background=1)\n"
     ]
    },
    {
     "name": "stdout",
     "output_type": "stream",
     "text": [
      "1760 407\n",
      "8521\n",
      "276321 3345\n",
      "0519_OD\n"
     ]
    },
    {
     "name": "stderr",
     "output_type": "stream",
     "text": [
      "/home/alex_johannes/octa_gnn/OCTA_gnn/generator/heterograph_from_vvg_generator.py:148: UserWarning: Any labeled images will be returned as a boolean array. Did you mean to use a boolean array?\n",
      "  region_labels = measure.label(morphology.remove_small_holes(seg, area_threshold=5, connectivity=1).astype(\"uint8\"), background=1)\n",
      "/home/alex_johannes/octa_gnn/OCTA_gnn/.venv/lib/python3.10/site-packages/skimage/measure/_regionprops.py:647: RuntimeWarning: invalid value encountered in scalar divide\n",
      "  tuple(M[_get_element(axis)] / M0 for axis in range(self._ndim)))\n"
     ]
    },
    {
     "name": "stdout",
     "output_type": "stream",
     "text": [
      "1397 361\n",
      "6985\n",
      "245739 2585\n",
      "0520_OD\n"
     ]
    },
    {
     "name": "stderr",
     "output_type": "stream",
     "text": [
      "/home/alex_johannes/octa_gnn/OCTA_gnn/generator/heterograph_from_vvg_generator.py:148: UserWarning: Any labeled images will be returned as a boolean array. Did you mean to use a boolean array?\n",
      "  region_labels = measure.label(morphology.remove_small_holes(seg, area_threshold=5, connectivity=1).astype(\"uint8\"), background=1)\n",
      "/home/alex_johannes/octa_gnn/OCTA_gnn/.venv/lib/python3.10/site-packages/skimage/measure/_regionprops.py:647: RuntimeWarning: invalid value encountered in scalar divide\n",
      "  tuple(M[_get_element(axis)] / M0 for axis in range(self._ndim)))\n"
     ]
    },
    {
     "name": "stdout",
     "output_type": "stream",
     "text": [
      "789 166\n",
      "4620\n",
      "195746 1426\n",
      "0520_OS\n"
     ]
    },
    {
     "name": "stderr",
     "output_type": "stream",
     "text": [
      "/home/alex_johannes/octa_gnn/OCTA_gnn/generator/heterograph_from_vvg_generator.py:148: UserWarning: Any labeled images will be returned as a boolean array. Did you mean to use a boolean array?\n",
      "  region_labels = measure.label(morphology.remove_small_holes(seg, area_threshold=5, connectivity=1).astype(\"uint8\"), background=1)\n"
     ]
    },
    {
     "name": "stdout",
     "output_type": "stream",
     "text": [
      "705 162\n",
      "4422\n",
      "204664 1931\n",
      "0521_OS\n"
     ]
    },
    {
     "name": "stderr",
     "output_type": "stream",
     "text": [
      "/home/alex_johannes/octa_gnn/OCTA_gnn/generator/heterograph_from_vvg_generator.py:148: UserWarning: Any labeled images will be returned as a boolean array. Did you mean to use a boolean array?\n",
      "  region_labels = measure.label(morphology.remove_small_holes(seg, area_threshold=5, connectivity=1).astype(\"uint8\"), background=1)\n"
     ]
    },
    {
     "name": "stdout",
     "output_type": "stream",
     "text": [
      "731 186\n",
      "3975\n",
      "193338 1838\n",
      "0522_OD\n"
     ]
    },
    {
     "name": "stderr",
     "output_type": "stream",
     "text": [
      "/home/alex_johannes/octa_gnn/OCTA_gnn/generator/heterograph_from_vvg_generator.py:148: UserWarning: Any labeled images will be returned as a boolean array. Did you mean to use a boolean array?\n",
      "  region_labels = measure.label(morphology.remove_small_holes(seg, area_threshold=5, connectivity=1).astype(\"uint8\"), background=1)\n"
     ]
    },
    {
     "name": "stdout",
     "output_type": "stream",
     "text": [
      "1084 225\n",
      "5808\n",
      "233234 1801\n",
      "0522_OS\n"
     ]
    },
    {
     "name": "stderr",
     "output_type": "stream",
     "text": [
      "/home/alex_johannes/octa_gnn/OCTA_gnn/generator/heterograph_from_vvg_generator.py:148: UserWarning: Any labeled images will be returned as a boolean array. Did you mean to use a boolean array?\n",
      "  region_labels = measure.label(morphology.remove_small_holes(seg, area_threshold=5, connectivity=1).astype(\"uint8\"), background=1)\n"
     ]
    },
    {
     "name": "stdout",
     "output_type": "stream",
     "text": [
      "1631 355\n",
      "7811\n",
      "268790 2963\n",
      "0523_OD\n"
     ]
    },
    {
     "name": "stderr",
     "output_type": "stream",
     "text": [
      "/home/alex_johannes/octa_gnn/OCTA_gnn/generator/heterograph_from_vvg_generator.py:148: UserWarning: Any labeled images will be returned as a boolean array. Did you mean to use a boolean array?\n",
      "  region_labels = measure.label(morphology.remove_small_holes(seg, area_threshold=5, connectivity=1).astype(\"uint8\"), background=1)\n"
     ]
    },
    {
     "name": "stdout",
     "output_type": "stream",
     "text": [
      "2006 480\n",
      "9035\n",
      "275748 4170\n",
      "0523_OS\n"
     ]
    },
    {
     "name": "stderr",
     "output_type": "stream",
     "text": [
      "/home/alex_johannes/octa_gnn/OCTA_gnn/generator/heterograph_from_vvg_generator.py:148: UserWarning: Any labeled images will be returned as a boolean array. Did you mean to use a boolean array?\n",
      "  region_labels = measure.label(morphology.remove_small_holes(seg, area_threshold=5, connectivity=1).astype(\"uint8\"), background=1)\n"
     ]
    },
    {
     "name": "stdout",
     "output_type": "stream",
     "text": [
      "2112 509\n",
      "9510\n",
      "275409 3888\n",
      "0524_OD\n"
     ]
    },
    {
     "name": "stderr",
     "output_type": "stream",
     "text": [
      "/home/alex_johannes/octa_gnn/OCTA_gnn/generator/heterograph_from_vvg_generator.py:148: UserWarning: Any labeled images will be returned as a boolean array. Did you mean to use a boolean array?\n",
      "  region_labels = measure.label(morphology.remove_small_holes(seg, area_threshold=5, connectivity=1).astype(\"uint8\"), background=1)\n"
     ]
    },
    {
     "name": "stdout",
     "output_type": "stream",
     "text": [
      "1747 447\n",
      "8106\n",
      "263823 4140\n",
      "0525_OD\n"
     ]
    },
    {
     "name": "stderr",
     "output_type": "stream",
     "text": [
      "/home/alex_johannes/octa_gnn/OCTA_gnn/generator/heterograph_from_vvg_generator.py:148: UserWarning: Any labeled images will be returned as a boolean array. Did you mean to use a boolean array?\n",
      "  region_labels = measure.label(morphology.remove_small_holes(seg, area_threshold=5, connectivity=1).astype(\"uint8\"), background=1)\n"
     ]
    },
    {
     "name": "stdout",
     "output_type": "stream",
     "text": [
      "572 119\n",
      "3476\n",
      "179872 1187\n",
      "0526_OD\n"
     ]
    },
    {
     "name": "stderr",
     "output_type": "stream",
     "text": [
      "/home/alex_johannes/octa_gnn/OCTA_gnn/generator/heterograph_from_vvg_generator.py:148: UserWarning: Any labeled images will be returned as a boolean array. Did you mean to use a boolean array?\n",
      "  region_labels = measure.label(morphology.remove_small_holes(seg, area_threshold=5, connectivity=1).astype(\"uint8\"), background=1)\n"
     ]
    },
    {
     "name": "stdout",
     "output_type": "stream",
     "text": [
      "1962 451\n",
      "8926\n",
      "276043 3458\n",
      "0526_OS\n"
     ]
    },
    {
     "name": "stderr",
     "output_type": "stream",
     "text": [
      "/home/alex_johannes/octa_gnn/OCTA_gnn/generator/heterograph_from_vvg_generator.py:148: UserWarning: Any labeled images will be returned as a boolean array. Did you mean to use a boolean array?\n",
      "  region_labels = measure.label(morphology.remove_small_holes(seg, area_threshold=5, connectivity=1).astype(\"uint8\"), background=1)\n"
     ]
    },
    {
     "name": "stdout",
     "output_type": "stream",
     "text": [
      "2073 442\n",
      "9259\n",
      "271389 3216\n",
      "0527_OD\n"
     ]
    },
    {
     "name": "stderr",
     "output_type": "stream",
     "text": [
      "/home/alex_johannes/octa_gnn/OCTA_gnn/generator/heterograph_from_vvg_generator.py:148: UserWarning: Any labeled images will be returned as a boolean array. Did you mean to use a boolean array?\n",
      "  region_labels = measure.label(morphology.remove_small_holes(seg, area_threshold=5, connectivity=1).astype(\"uint8\"), background=1)\n"
     ]
    },
    {
     "name": "stdout",
     "output_type": "stream",
     "text": [
      "1744 398\n",
      "8303\n",
      "266922 3214\n",
      "0195_OS\n"
     ]
    },
    {
     "name": "stderr",
     "output_type": "stream",
     "text": [
      "/home/alex_johannes/octa_gnn/OCTA_gnn/generator/heterograph_from_vvg_generator.py:148: UserWarning: Any labeled images will be returned as a boolean array. Did you mean to use a boolean array?\n",
      "  region_labels = measure.label(morphology.remove_small_holes(seg, area_threshold=5, connectivity=1).astype(\"uint8\"), background=1)\n"
     ]
    },
    {
     "name": "stdout",
     "output_type": "stream",
     "text": [
      "979 286\n",
      "5234\n",
      "208237 2616\n",
      "0196_OS\n"
     ]
    },
    {
     "name": "stderr",
     "output_type": "stream",
     "text": [
      "/home/alex_johannes/octa_gnn/OCTA_gnn/generator/heterograph_from_vvg_generator.py:148: UserWarning: Any labeled images will be returned as a boolean array. Did you mean to use a boolean array?\n",
      "  region_labels = measure.label(morphology.remove_small_holes(seg, area_threshold=5, connectivity=1).astype(\"uint8\"), background=1)\n"
     ]
    },
    {
     "name": "stdout",
     "output_type": "stream",
     "text": [
      "545 77\n",
      "3275\n",
      "196228 947\n",
      "0197_OS\n"
     ]
    },
    {
     "name": "stderr",
     "output_type": "stream",
     "text": [
      "/home/alex_johannes/octa_gnn/OCTA_gnn/generator/heterograph_from_vvg_generator.py:148: UserWarning: Any labeled images will be returned as a boolean array. Did you mean to use a boolean array?\n",
      "  region_labels = measure.label(morphology.remove_small_holes(seg, area_threshold=5, connectivity=1).astype(\"uint8\"), background=1)\n"
     ]
    },
    {
     "name": "stdout",
     "output_type": "stream",
     "text": [
      "632 144\n",
      "3887\n",
      "198035 1703\n",
      "0198_OS\n"
     ]
    },
    {
     "name": "stderr",
     "output_type": "stream",
     "text": [
      "/home/alex_johannes/octa_gnn/OCTA_gnn/generator/heterograph_from_vvg_generator.py:148: UserWarning: Any labeled images will be returned as a boolean array. Did you mean to use a boolean array?\n",
      "  region_labels = measure.label(morphology.remove_small_holes(seg, area_threshold=5, connectivity=1).astype(\"uint8\"), background=1)\n"
     ]
    },
    {
     "name": "stdout",
     "output_type": "stream",
     "text": [
      "1141 239\n",
      "6033\n",
      "247062 1918\n",
      "0199_OD\n"
     ]
    },
    {
     "name": "stderr",
     "output_type": "stream",
     "text": [
      "/home/alex_johannes/octa_gnn/OCTA_gnn/generator/heterograph_from_vvg_generator.py:148: UserWarning: Any labeled images will be returned as a boolean array. Did you mean to use a boolean array?\n",
      "  region_labels = measure.label(morphology.remove_small_holes(seg, area_threshold=5, connectivity=1).astype(\"uint8\"), background=1)\n"
     ]
    },
    {
     "name": "stdout",
     "output_type": "stream",
     "text": [
      "1273 267\n",
      "6755\n",
      "261264 2216\n",
      "0199_OS\n"
     ]
    },
    {
     "name": "stderr",
     "output_type": "stream",
     "text": [
      "/home/alex_johannes/octa_gnn/OCTA_gnn/generator/heterograph_from_vvg_generator.py:148: UserWarning: Any labeled images will be returned as a boolean array. Did you mean to use a boolean array?\n",
      "  region_labels = measure.label(morphology.remove_small_holes(seg, area_threshold=5, connectivity=1).astype(\"uint8\"), background=1)\n"
     ]
    },
    {
     "name": "stdout",
     "output_type": "stream",
     "text": [
      "1154 259\n",
      "6427\n",
      "248753 2021\n",
      "0200_OS\n"
     ]
    },
    {
     "name": "stderr",
     "output_type": "stream",
     "text": [
      "/home/alex_johannes/octa_gnn/OCTA_gnn/generator/heterograph_from_vvg_generator.py:148: UserWarning: Any labeled images will be returned as a boolean array. Did you mean to use a boolean array?\n",
      "  region_labels = measure.label(morphology.remove_small_holes(seg, area_threshold=5, connectivity=1).astype(\"uint8\"), background=1)\n"
     ]
    },
    {
     "name": "stdout",
     "output_type": "stream",
     "text": [
      "1346 318\n",
      "6572\n",
      "243025 3436\n",
      "0201_OD\n"
     ]
    },
    {
     "name": "stderr",
     "output_type": "stream",
     "text": [
      "/home/alex_johannes/octa_gnn/OCTA_gnn/generator/heterograph_from_vvg_generator.py:148: UserWarning: Any labeled images will be returned as a boolean array. Did you mean to use a boolean array?\n",
      "  region_labels = measure.label(morphology.remove_small_holes(seg, area_threshold=5, connectivity=1).astype(\"uint8\"), background=1)\n"
     ]
    },
    {
     "name": "stdout",
     "output_type": "stream",
     "text": [
      "1815 430\n",
      "8466\n",
      "273028 3350\n",
      "0201_OS\n"
     ]
    },
    {
     "name": "stderr",
     "output_type": "stream",
     "text": [
      "/home/alex_johannes/octa_gnn/OCTA_gnn/generator/heterograph_from_vvg_generator.py:148: UserWarning: Any labeled images will be returned as a boolean array. Did you mean to use a boolean array?\n",
      "  region_labels = measure.label(morphology.remove_small_holes(seg, area_threshold=5, connectivity=1).astype(\"uint8\"), background=1)\n"
     ]
    },
    {
     "name": "stdout",
     "output_type": "stream",
     "text": [
      "1717 402\n",
      "8158\n",
      "269935 3297\n",
      "0202_OD\n"
     ]
    },
    {
     "name": "stderr",
     "output_type": "stream",
     "text": [
      "/home/alex_johannes/octa_gnn/OCTA_gnn/generator/heterograph_from_vvg_generator.py:148: UserWarning: Any labeled images will be returned as a boolean array. Did you mean to use a boolean array?\n",
      "  region_labels = measure.label(morphology.remove_small_holes(seg, area_threshold=5, connectivity=1).astype(\"uint8\"), background=1)\n"
     ]
    },
    {
     "name": "stdout",
     "output_type": "stream",
     "text": [
      "1565 357\n",
      "7629\n",
      "261897 2855\n",
      "0202_OS\n"
     ]
    },
    {
     "name": "stderr",
     "output_type": "stream",
     "text": [
      "/home/alex_johannes/octa_gnn/OCTA_gnn/generator/heterograph_from_vvg_generator.py:148: UserWarning: Any labeled images will be returned as a boolean array. Did you mean to use a boolean array?\n",
      "  region_labels = measure.label(morphology.remove_small_holes(seg, area_threshold=5, connectivity=1).astype(\"uint8\"), background=1)\n"
     ]
    },
    {
     "name": "stdout",
     "output_type": "stream",
     "text": [
      "1888 446\n",
      "8877\n",
      "276190 3495\n",
      "0203_OD\n"
     ]
    },
    {
     "name": "stderr",
     "output_type": "stream",
     "text": [
      "/home/alex_johannes/octa_gnn/OCTA_gnn/generator/heterograph_from_vvg_generator.py:148: UserWarning: Any labeled images will be returned as a boolean array. Did you mean to use a boolean array?\n",
      "  region_labels = measure.label(morphology.remove_small_holes(seg, area_threshold=5, connectivity=1).astype(\"uint8\"), background=1)\n"
     ]
    },
    {
     "name": "stdout",
     "output_type": "stream",
     "text": [
      "1853 374\n",
      "8659\n",
      "271442 3491\n",
      "0204_OD\n"
     ]
    },
    {
     "name": "stderr",
     "output_type": "stream",
     "text": [
      "/home/alex_johannes/octa_gnn/OCTA_gnn/generator/heterograph_from_vvg_generator.py:148: UserWarning: Any labeled images will be returned as a boolean array. Did you mean to use a boolean array?\n",
      "  region_labels = measure.label(morphology.remove_small_holes(seg, area_threshold=5, connectivity=1).astype(\"uint8\"), background=1)\n"
     ]
    },
    {
     "name": "stdout",
     "output_type": "stream",
     "text": [
      "1599 375\n",
      "7594\n",
      "253339 3677\n",
      "0204_OS\n"
     ]
    },
    {
     "name": "stderr",
     "output_type": "stream",
     "text": [
      "/home/alex_johannes/octa_gnn/OCTA_gnn/generator/heterograph_from_vvg_generator.py:148: UserWarning: Any labeled images will be returned as a boolean array. Did you mean to use a boolean array?\n",
      "  region_labels = measure.label(morphology.remove_small_holes(seg, area_threshold=5, connectivity=1).astype(\"uint8\"), background=1)\n",
      "/home/alex_johannes/octa_gnn/OCTA_gnn/.venv/lib/python3.10/site-packages/skimage/measure/_regionprops.py:647: RuntimeWarning: invalid value encountered in scalar divide\n",
      "  tuple(M[_get_element(axis)] / M0 for axis in range(self._ndim)))\n"
     ]
    },
    {
     "name": "stdout",
     "output_type": "stream",
     "text": [
      "1648 394\n",
      "7858\n",
      "260327 3252\n",
      "0205_OD\n"
     ]
    },
    {
     "name": "stderr",
     "output_type": "stream",
     "text": [
      "/home/alex_johannes/octa_gnn/OCTA_gnn/generator/heterograph_from_vvg_generator.py:148: UserWarning: Any labeled images will be returned as a boolean array. Did you mean to use a boolean array?\n",
      "  region_labels = measure.label(morphology.remove_small_holes(seg, area_threshold=5, connectivity=1).astype(\"uint8\"), background=1)\n"
     ]
    },
    {
     "name": "stdout",
     "output_type": "stream",
     "text": [
      "1766 386\n",
      "8409\n",
      "278215 2914\n",
      "0206_OD\n"
     ]
    },
    {
     "name": "stderr",
     "output_type": "stream",
     "text": [
      "/home/alex_johannes/octa_gnn/OCTA_gnn/generator/heterograph_from_vvg_generator.py:148: UserWarning: Any labeled images will be returned as a boolean array. Did you mean to use a boolean array?\n",
      "  region_labels = measure.label(morphology.remove_small_holes(seg, area_threshold=5, connectivity=1).astype(\"uint8\"), background=1)\n"
     ]
    },
    {
     "name": "stdout",
     "output_type": "stream",
     "text": [
      "789 180\n",
      "4663\n",
      "208709 1809\n",
      "0206_OS\n"
     ]
    },
    {
     "name": "stderr",
     "output_type": "stream",
     "text": [
      "/home/alex_johannes/octa_gnn/OCTA_gnn/generator/heterograph_from_vvg_generator.py:148: UserWarning: Any labeled images will be returned as a boolean array. Did you mean to use a boolean array?\n",
      "  region_labels = measure.label(morphology.remove_small_holes(seg, area_threshold=5, connectivity=1).astype(\"uint8\"), background=1)\n"
     ]
    },
    {
     "name": "stdout",
     "output_type": "stream",
     "text": [
      "1005 223\n",
      "5456\n",
      "228365 1767\n",
      "0207_OD\n"
     ]
    },
    {
     "name": "stderr",
     "output_type": "stream",
     "text": [
      "/home/alex_johannes/octa_gnn/OCTA_gnn/generator/heterograph_from_vvg_generator.py:148: UserWarning: Any labeled images will be returned as a boolean array. Did you mean to use a boolean array?\n",
      "  region_labels = measure.label(morphology.remove_small_holes(seg, area_threshold=5, connectivity=1).astype(\"uint8\"), background=1)\n"
     ]
    },
    {
     "name": "stdout",
     "output_type": "stream",
     "text": [
      "1698 417\n",
      "8188\n",
      "270225 3368\n",
      "0207_OS\n"
     ]
    },
    {
     "name": "stderr",
     "output_type": "stream",
     "text": [
      "/home/alex_johannes/octa_gnn/OCTA_gnn/generator/heterograph_from_vvg_generator.py:148: UserWarning: Any labeled images will be returned as a boolean array. Did you mean to use a boolean array?\n",
      "  region_labels = measure.label(morphology.remove_small_holes(seg, area_threshold=5, connectivity=1).astype(\"uint8\"), background=1)\n"
     ]
    },
    {
     "name": "stdout",
     "output_type": "stream",
     "text": [
      "1756 407\n",
      "8343\n",
      "274855 3192\n",
      "0208_OS\n"
     ]
    },
    {
     "name": "stderr",
     "output_type": "stream",
     "text": [
      "/home/alex_johannes/octa_gnn/OCTA_gnn/generator/heterograph_from_vvg_generator.py:148: UserWarning: Any labeled images will be returned as a boolean array. Did you mean to use a boolean array?\n",
      "  region_labels = measure.label(morphology.remove_small_holes(seg, area_threshold=5, connectivity=1).astype(\"uint8\"), background=1)\n"
     ]
    },
    {
     "name": "stdout",
     "output_type": "stream",
     "text": [
      "1464 343\n",
      "7190\n",
      "252114 2661\n",
      "0209_OD\n"
     ]
    },
    {
     "name": "stderr",
     "output_type": "stream",
     "text": [
      "/home/alex_johannes/octa_gnn/OCTA_gnn/generator/heterograph_from_vvg_generator.py:148: UserWarning: Any labeled images will be returned as a boolean array. Did you mean to use a boolean array?\n",
      "  region_labels = measure.label(morphology.remove_small_holes(seg, area_threshold=5, connectivity=1).astype(\"uint8\"), background=1)\n"
     ]
    },
    {
     "name": "stdout",
     "output_type": "stream",
     "text": [
      "1543 329\n",
      "7582\n",
      "261973 3071\n",
      "0210_OD\n"
     ]
    },
    {
     "name": "stderr",
     "output_type": "stream",
     "text": [
      "/home/alex_johannes/octa_gnn/OCTA_gnn/generator/heterograph_from_vvg_generator.py:148: UserWarning: Any labeled images will be returned as a boolean array. Did you mean to use a boolean array?\n",
      "  region_labels = measure.label(morphology.remove_small_holes(seg, area_threshold=5, connectivity=1).astype(\"uint8\"), background=1)\n"
     ]
    },
    {
     "name": "stdout",
     "output_type": "stream",
     "text": [
      "1262 278\n",
      "6366\n",
      "246995 2543\n",
      "0211_OS\n"
     ]
    },
    {
     "name": "stderr",
     "output_type": "stream",
     "text": [
      "/home/alex_johannes/octa_gnn/OCTA_gnn/generator/heterograph_from_vvg_generator.py:148: UserWarning: Any labeled images will be returned as a boolean array. Did you mean to use a boolean array?\n",
      "  region_labels = measure.label(morphology.remove_small_holes(seg, area_threshold=5, connectivity=1).astype(\"uint8\"), background=1)\n"
     ]
    },
    {
     "name": "stdout",
     "output_type": "stream",
     "text": [
      "244 54\n",
      "1647\n",
      "130574 557\n",
      "0212_OD\n"
     ]
    },
    {
     "name": "stderr",
     "output_type": "stream",
     "text": [
      "/home/alex_johannes/octa_gnn/OCTA_gnn/generator/heterograph_from_vvg_generator.py:148: UserWarning: Any labeled images will be returned as a boolean array. Did you mean to use a boolean array?\n",
      "  region_labels = measure.label(morphology.remove_small_holes(seg, area_threshold=5, connectivity=1).astype(\"uint8\"), background=1)\n"
     ]
    },
    {
     "name": "stdout",
     "output_type": "stream",
     "text": [
      "1955 419\n",
      "8860\n",
      "275874 3191\n",
      "0230_OS\n"
     ]
    },
    {
     "name": "stderr",
     "output_type": "stream",
     "text": [
      "/home/alex_johannes/octa_gnn/OCTA_gnn/generator/heterograph_from_vvg_generator.py:148: UserWarning: Any labeled images will be returned as a boolean array. Did you mean to use a boolean array?\n",
      "  region_labels = measure.label(morphology.remove_small_holes(seg, area_threshold=5, connectivity=1).astype(\"uint8\"), background=1)\n"
     ]
    },
    {
     "name": "stdout",
     "output_type": "stream",
     "text": [
      "939 207\n",
      "5164\n",
      "219693 1918\n",
      "0231_OS\n"
     ]
    },
    {
     "name": "stderr",
     "output_type": "stream",
     "text": [
      "/home/alex_johannes/octa_gnn/OCTA_gnn/generator/heterograph_from_vvg_generator.py:148: UserWarning: Any labeled images will be returned as a boolean array. Did you mean to use a boolean array?\n",
      "  region_labels = measure.label(morphology.remove_small_holes(seg, area_threshold=5, connectivity=1).astype(\"uint8\"), background=1)\n"
     ]
    },
    {
     "name": "stdout",
     "output_type": "stream",
     "text": [
      "1702 454\n",
      "8003\n",
      "256244 3793\n",
      "0232_OD\n"
     ]
    },
    {
     "name": "stderr",
     "output_type": "stream",
     "text": [
      "/home/alex_johannes/octa_gnn/OCTA_gnn/generator/heterograph_from_vvg_generator.py:148: UserWarning: Any labeled images will be returned as a boolean array. Did you mean to use a boolean array?\n",
      "  region_labels = measure.label(morphology.remove_small_holes(seg, area_threshold=5, connectivity=1).astype(\"uint8\"), background=1)\n"
     ]
    },
    {
     "name": "stdout",
     "output_type": "stream",
     "text": [
      "1738 416\n",
      "7969\n",
      "258647 3740\n",
      "0233_OS\n"
     ]
    },
    {
     "name": "stderr",
     "output_type": "stream",
     "text": [
      "/home/alex_johannes/octa_gnn/OCTA_gnn/generator/heterograph_from_vvg_generator.py:148: UserWarning: Any labeled images will be returned as a boolean array. Did you mean to use a boolean array?\n",
      "  region_labels = measure.label(morphology.remove_small_holes(seg, area_threshold=5, connectivity=1).astype(\"uint8\"), background=1)\n"
     ]
    },
    {
     "name": "stdout",
     "output_type": "stream",
     "text": [
      "1829 483\n",
      "8580\n",
      "259439 4004\n",
      "0234_OD\n"
     ]
    },
    {
     "name": "stderr",
     "output_type": "stream",
     "text": [
      "/home/alex_johannes/octa_gnn/OCTA_gnn/generator/heterograph_from_vvg_generator.py:148: UserWarning: Any labeled images will be returned as a boolean array. Did you mean to use a boolean array?\n",
      "  region_labels = measure.label(morphology.remove_small_holes(seg, area_threshold=5, connectivity=1).astype(\"uint8\"), background=1)\n"
     ]
    },
    {
     "name": "stdout",
     "output_type": "stream",
     "text": [
      "489 106\n",
      "3297\n",
      "167197 1021\n",
      "0235_OD\n"
     ]
    },
    {
     "name": "stderr",
     "output_type": "stream",
     "text": [
      "/home/alex_johannes/octa_gnn/OCTA_gnn/generator/heterograph_from_vvg_generator.py:148: UserWarning: Any labeled images will be returned as a boolean array. Did you mean to use a boolean array?\n",
      "  region_labels = measure.label(morphology.remove_small_holes(seg, area_threshold=5, connectivity=1).astype(\"uint8\"), background=1)\n"
     ]
    },
    {
     "name": "stdout",
     "output_type": "stream",
     "text": [
      "548 107\n",
      "3449\n",
      "187133 1220\n",
      "0236_OS\n"
     ]
    },
    {
     "name": "stderr",
     "output_type": "stream",
     "text": [
      "/home/alex_johannes/octa_gnn/OCTA_gnn/generator/heterograph_from_vvg_generator.py:148: UserWarning: Any labeled images will be returned as a boolean array. Did you mean to use a boolean array?\n",
      "  region_labels = measure.label(morphology.remove_small_holes(seg, area_threshold=5, connectivity=1).astype(\"uint8\"), background=1)\n"
     ]
    },
    {
     "name": "stdout",
     "output_type": "stream",
     "text": [
      "1944 405\n",
      "8751\n",
      "275481 2560\n",
      "0237_OD\n"
     ]
    },
    {
     "name": "stderr",
     "output_type": "stream",
     "text": [
      "/home/alex_johannes/octa_gnn/OCTA_gnn/generator/heterograph_from_vvg_generator.py:148: UserWarning: Any labeled images will be returned as a boolean array. Did you mean to use a boolean array?\n",
      "  region_labels = measure.label(morphology.remove_small_holes(seg, area_threshold=5, connectivity=1).astype(\"uint8\"), background=1)\n"
     ]
    },
    {
     "name": "stdout",
     "output_type": "stream",
     "text": [
      "533 104\n",
      "3307\n",
      "191237 1246\n",
      "0237_OS\n"
     ]
    },
    {
     "name": "stderr",
     "output_type": "stream",
     "text": [
      "/home/alex_johannes/octa_gnn/OCTA_gnn/generator/heterograph_from_vvg_generator.py:148: UserWarning: Any labeled images will be returned as a boolean array. Did you mean to use a boolean array?\n",
      "  region_labels = measure.label(morphology.remove_small_holes(seg, area_threshold=5, connectivity=1).astype(\"uint8\"), background=1)\n"
     ]
    },
    {
     "name": "stdout",
     "output_type": "stream",
     "text": [
      "484 99\n",
      "3018\n",
      "181390 1229\n",
      "0238_OD\n"
     ]
    },
    {
     "name": "stderr",
     "output_type": "stream",
     "text": [
      "/home/alex_johannes/octa_gnn/OCTA_gnn/generator/heterograph_from_vvg_generator.py:148: UserWarning: Any labeled images will be returned as a boolean array. Did you mean to use a boolean array?\n",
      "  region_labels = measure.label(morphology.remove_small_holes(seg, area_threshold=5, connectivity=1).astype(\"uint8\"), background=1)\n"
     ]
    },
    {
     "name": "stdout",
     "output_type": "stream",
     "text": [
      "1677 402\n",
      "8120\n",
      "265962 3526\n",
      "0238_OS\n"
     ]
    },
    {
     "name": "stderr",
     "output_type": "stream",
     "text": [
      "/home/alex_johannes/octa_gnn/OCTA_gnn/generator/heterograph_from_vvg_generator.py:148: UserWarning: Any labeled images will be returned as a boolean array. Did you mean to use a boolean array?\n",
      "  region_labels = measure.label(morphology.remove_small_holes(seg, area_threshold=5, connectivity=1).astype(\"uint8\"), background=1)\n"
     ]
    },
    {
     "name": "stdout",
     "output_type": "stream",
     "text": [
      "1676 408\n",
      "8175\n",
      "258249 3736\n",
      "0239_OD\n"
     ]
    },
    {
     "name": "stderr",
     "output_type": "stream",
     "text": [
      "/home/alex_johannes/octa_gnn/OCTA_gnn/generator/heterograph_from_vvg_generator.py:148: UserWarning: Any labeled images will be returned as a boolean array. Did you mean to use a boolean array?\n",
      "  region_labels = measure.label(morphology.remove_small_holes(seg, area_threshold=5, connectivity=1).astype(\"uint8\"), background=1)\n"
     ]
    },
    {
     "name": "stdout",
     "output_type": "stream",
     "text": [
      "1179 271\n",
      "6156\n",
      "249599 2064\n",
      "0240_OS\n"
     ]
    },
    {
     "name": "stderr",
     "output_type": "stream",
     "text": [
      "/home/alex_johannes/octa_gnn/OCTA_gnn/generator/heterograph_from_vvg_generator.py:148: UserWarning: Any labeled images will be returned as a boolean array. Did you mean to use a boolean array?\n",
      "  region_labels = measure.label(morphology.remove_small_holes(seg, area_threshold=5, connectivity=1).astype(\"uint8\"), background=1)\n"
     ]
    },
    {
     "name": "stdout",
     "output_type": "stream",
     "text": [
      "846 166\n",
      "4804\n",
      "227258 1467\n",
      "0241_OD\n"
     ]
    },
    {
     "name": "stderr",
     "output_type": "stream",
     "text": [
      "/home/alex_johannes/octa_gnn/OCTA_gnn/generator/heterograph_from_vvg_generator.py:148: UserWarning: Any labeled images will be returned as a boolean array. Did you mean to use a boolean array?\n",
      "  region_labels = measure.label(morphology.remove_small_holes(seg, area_threshold=5, connectivity=1).astype(\"uint8\"), background=1)\n"
     ]
    },
    {
     "name": "stdout",
     "output_type": "stream",
     "text": [
      "569 113\n",
      "3540\n",
      "194076 1436\n",
      "0241_OS\n"
     ]
    },
    {
     "name": "stderr",
     "output_type": "stream",
     "text": [
      "/home/alex_johannes/octa_gnn/OCTA_gnn/generator/heterograph_from_vvg_generator.py:148: UserWarning: Any labeled images will be returned as a boolean array. Did you mean to use a boolean array?\n",
      "  region_labels = measure.label(morphology.remove_small_holes(seg, area_threshold=5, connectivity=1).astype(\"uint8\"), background=1)\n"
     ]
    },
    {
     "name": "stdout",
     "output_type": "stream",
     "text": [
      "662 152\n",
      "3958\n",
      "213297 1681\n",
      "0242_OS\n"
     ]
    },
    {
     "name": "stderr",
     "output_type": "stream",
     "text": [
      "/home/alex_johannes/octa_gnn/OCTA_gnn/generator/heterograph_from_vvg_generator.py:148: UserWarning: Any labeled images will be returned as a boolean array. Did you mean to use a boolean array?\n",
      "  region_labels = measure.label(morphology.remove_small_holes(seg, area_threshold=5, connectivity=1).astype(\"uint8\"), background=1)\n"
     ]
    },
    {
     "name": "stdout",
     "output_type": "stream",
     "text": [
      "1619 414\n",
      "7925\n",
      "258719 2994\n",
      "0243_OD\n"
     ]
    },
    {
     "name": "stderr",
     "output_type": "stream",
     "text": [
      "/home/alex_johannes/octa_gnn/OCTA_gnn/generator/heterograph_from_vvg_generator.py:148: UserWarning: Any labeled images will be returned as a boolean array. Did you mean to use a boolean array?\n",
      "  region_labels = measure.label(morphology.remove_small_holes(seg, area_threshold=5, connectivity=1).astype(\"uint8\"), background=1)\n"
     ]
    },
    {
     "name": "stdout",
     "output_type": "stream",
     "text": [
      "1660 340\n",
      "7931\n",
      "270423 3024\n",
      "0244_OD\n"
     ]
    },
    {
     "name": "stderr",
     "output_type": "stream",
     "text": [
      "/home/alex_johannes/octa_gnn/OCTA_gnn/generator/heterograph_from_vvg_generator.py:148: UserWarning: Any labeled images will be returned as a boolean array. Did you mean to use a boolean array?\n",
      "  region_labels = measure.label(morphology.remove_small_holes(seg, area_threshold=5, connectivity=1).astype(\"uint8\"), background=1)\n"
     ]
    },
    {
     "name": "stdout",
     "output_type": "stream",
     "text": [
      "641 121\n",
      "3888\n",
      "196878 1290\n",
      "0244_OS\n"
     ]
    },
    {
     "name": "stderr",
     "output_type": "stream",
     "text": [
      "/home/alex_johannes/octa_gnn/OCTA_gnn/generator/heterograph_from_vvg_generator.py:148: UserWarning: Any labeled images will be returned as a boolean array. Did you mean to use a boolean array?\n",
      "  region_labels = measure.label(morphology.remove_small_holes(seg, area_threshold=5, connectivity=1).astype(\"uint8\"), background=1)\n"
     ]
    },
    {
     "name": "stdout",
     "output_type": "stream",
     "text": [
      "1771 439\n",
      "8324\n",
      "273296 3562\n",
      "0245_OD\n"
     ]
    },
    {
     "name": "stderr",
     "output_type": "stream",
     "text": [
      "/home/alex_johannes/octa_gnn/OCTA_gnn/generator/heterograph_from_vvg_generator.py:148: UserWarning: Any labeled images will be returned as a boolean array. Did you mean to use a boolean array?\n",
      "  region_labels = measure.label(morphology.remove_small_holes(seg, area_threshold=5, connectivity=1).astype(\"uint8\"), background=1)\n"
     ]
    },
    {
     "name": "stdout",
     "output_type": "stream",
     "text": [
      "1806 423\n",
      "8411\n",
      "270515 3811\n",
      "0245_OS\n"
     ]
    },
    {
     "name": "stderr",
     "output_type": "stream",
     "text": [
      "/home/alex_johannes/octa_gnn/OCTA_gnn/generator/heterograph_from_vvg_generator.py:148: UserWarning: Any labeled images will be returned as a boolean array. Did you mean to use a boolean array?\n",
      "  region_labels = measure.label(morphology.remove_small_holes(seg, area_threshold=5, connectivity=1).astype(\"uint8\"), background=1)\n"
     ]
    },
    {
     "name": "stdout",
     "output_type": "stream",
     "text": [
      "1831 411\n",
      "8464\n",
      "265742 3691\n",
      "0246_OD\n"
     ]
    },
    {
     "name": "stderr",
     "output_type": "stream",
     "text": [
      "/home/alex_johannes/octa_gnn/OCTA_gnn/generator/heterograph_from_vvg_generator.py:148: UserWarning: Any labeled images will be returned as a boolean array. Did you mean to use a boolean array?\n",
      "  region_labels = measure.label(morphology.remove_small_holes(seg, area_threshold=5, connectivity=1).astype(\"uint8\"), background=1)\n"
     ]
    },
    {
     "name": "stdout",
     "output_type": "stream",
     "text": [
      "618 144\n",
      "3786\n",
      "194619 1136\n",
      "0247_OD\n"
     ]
    },
    {
     "name": "stderr",
     "output_type": "stream",
     "text": [
      "/home/alex_johannes/octa_gnn/OCTA_gnn/generator/heterograph_from_vvg_generator.py:148: UserWarning: Any labeled images will be returned as a boolean array. Did you mean to use a boolean array?\n",
      "  region_labels = measure.label(morphology.remove_small_holes(seg, area_threshold=5, connectivity=1).astype(\"uint8\"), background=1)\n"
     ]
    },
    {
     "name": "stdout",
     "output_type": "stream",
     "text": [
      "1936 449\n",
      "9043\n",
      "278539 3384\n",
      "0247_OS\n"
     ]
    },
    {
     "name": "stderr",
     "output_type": "stream",
     "text": [
      "/home/alex_johannes/octa_gnn/OCTA_gnn/generator/heterograph_from_vvg_generator.py:148: UserWarning: Any labeled images will be returned as a boolean array. Did you mean to use a boolean array?\n",
      "  region_labels = measure.label(morphology.remove_small_holes(seg, area_threshold=5, connectivity=1).astype(\"uint8\"), background=1)\n"
     ]
    },
    {
     "name": "stdout",
     "output_type": "stream",
     "text": [
      "1791 396\n",
      "8614\n",
      "285305 3084\n",
      "0248_OD\n"
     ]
    },
    {
     "name": "stderr",
     "output_type": "stream",
     "text": [
      "/home/alex_johannes/octa_gnn/OCTA_gnn/generator/heterograph_from_vvg_generator.py:148: UserWarning: Any labeled images will be returned as a boolean array. Did you mean to use a boolean array?\n",
      "  region_labels = measure.label(morphology.remove_small_holes(seg, area_threshold=5, connectivity=1).astype(\"uint8\"), background=1)\n"
     ]
    },
    {
     "name": "stdout",
     "output_type": "stream",
     "text": [
      "652 120\n",
      "4092\n",
      "197484 1411\n",
      "0249_OD\n"
     ]
    },
    {
     "name": "stderr",
     "output_type": "stream",
     "text": [
      "/home/alex_johannes/octa_gnn/OCTA_gnn/generator/heterograph_from_vvg_generator.py:148: UserWarning: Any labeled images will be returned as a boolean array. Did you mean to use a boolean array?\n",
      "  region_labels = measure.label(morphology.remove_small_holes(seg, area_threshold=5, connectivity=1).astype(\"uint8\"), background=1)\n"
     ]
    },
    {
     "name": "stdout",
     "output_type": "stream",
     "text": [
      "1619 385\n",
      "8036\n",
      "266202 3387\n",
      "0249_OS\n"
     ]
    },
    {
     "name": "stderr",
     "output_type": "stream",
     "text": [
      "/home/alex_johannes/octa_gnn/OCTA_gnn/generator/heterograph_from_vvg_generator.py:148: UserWarning: Any labeled images will be returned as a boolean array. Did you mean to use a boolean array?\n",
      "  region_labels = measure.label(morphology.remove_small_holes(seg, area_threshold=5, connectivity=1).astype(\"uint8\"), background=1)\n"
     ]
    },
    {
     "name": "stdout",
     "output_type": "stream",
     "text": [
      "1543 338\n",
      "7791\n",
      "266361 2623\n",
      "0250_OS\n"
     ]
    },
    {
     "name": "stderr",
     "output_type": "stream",
     "text": [
      "/home/alex_johannes/octa_gnn/OCTA_gnn/generator/heterograph_from_vvg_generator.py:148: UserWarning: Any labeled images will be returned as a boolean array. Did you mean to use a boolean array?\n",
      "  region_labels = measure.label(morphology.remove_small_holes(seg, area_threshold=5, connectivity=1).astype(\"uint8\"), background=1)\n"
     ]
    },
    {
     "name": "stdout",
     "output_type": "stream",
     "text": [
      "1719 426\n",
      "8027\n",
      "258309 3138\n",
      "0251_OD\n"
     ]
    },
    {
     "name": "stderr",
     "output_type": "stream",
     "text": [
      "/home/alex_johannes/octa_gnn/OCTA_gnn/generator/heterograph_from_vvg_generator.py:148: UserWarning: Any labeled images will be returned as a boolean array. Did you mean to use a boolean array?\n",
      "  region_labels = measure.label(morphology.remove_small_holes(seg, area_threshold=5, connectivity=1).astype(\"uint8\"), background=1)\n"
     ]
    },
    {
     "name": "stdout",
     "output_type": "stream",
     "text": [
      "1669 360\n",
      "8132\n",
      "268818 2810\n",
      "0495_OD\n"
     ]
    },
    {
     "name": "stderr",
     "output_type": "stream",
     "text": [
      "/home/alex_johannes/octa_gnn/OCTA_gnn/generator/heterograph_from_vvg_generator.py:148: UserWarning: Any labeled images will be returned as a boolean array. Did you mean to use a boolean array?\n",
      "  region_labels = measure.label(morphology.remove_small_holes(seg, area_threshold=5, connectivity=1).astype(\"uint8\"), background=1)\n"
     ]
    },
    {
     "name": "stdout",
     "output_type": "stream",
     "text": [
      "1711 398\n",
      "8165\n",
      "273708 3377\n",
      "0508_OS\n"
     ]
    },
    {
     "name": "stderr",
     "output_type": "stream",
     "text": [
      "/home/alex_johannes/octa_gnn/OCTA_gnn/generator/heterograph_from_vvg_generator.py:148: UserWarning: Any labeled images will be returned as a boolean array. Did you mean to use a boolean array?\n",
      "  region_labels = measure.label(morphology.remove_small_holes(seg, area_threshold=5, connectivity=1).astype(\"uint8\"), background=1)\n"
     ]
    },
    {
     "name": "stdout",
     "output_type": "stream",
     "text": [
      "2005 505\n",
      "9169\n",
      "272515 4220\n",
      "0527_OS\n"
     ]
    },
    {
     "name": "stderr",
     "output_type": "stream",
     "text": [
      "/home/alex_johannes/octa_gnn/OCTA_gnn/generator/heterograph_from_vvg_generator.py:148: UserWarning: Any labeled images will be returned as a boolean array. Did you mean to use a boolean array?\n",
      "  region_labels = measure.label(morphology.remove_small_holes(seg, area_threshold=5, connectivity=1).astype(\"uint8\"), background=1)\n"
     ]
    },
    {
     "name": "stdout",
     "output_type": "stream",
     "text": [
      "1769 464\n",
      "8315\n",
      "263043 3841\n",
      "0537_OD\n"
     ]
    },
    {
     "name": "stderr",
     "output_type": "stream",
     "text": [
      "/home/alex_johannes/octa_gnn/OCTA_gnn/generator/heterograph_from_vvg_generator.py:148: UserWarning: Any labeled images will be returned as a boolean array. Did you mean to use a boolean array?\n",
      "  region_labels = measure.label(morphology.remove_small_holes(seg, area_threshold=5, connectivity=1).astype(\"uint8\"), background=1)\n"
     ]
    },
    {
     "name": "stdout",
     "output_type": "stream",
     "text": [
      "1976 549\n",
      "9075\n",
      "272065 4354\n",
      "0547_OS\n"
     ]
    },
    {
     "name": "stderr",
     "output_type": "stream",
     "text": [
      "/home/alex_johannes/octa_gnn/OCTA_gnn/generator/heterograph_from_vvg_generator.py:148: UserWarning: Any labeled images will be returned as a boolean array. Did you mean to use a boolean array?\n",
      "  region_labels = measure.label(morphology.remove_small_holes(seg, area_threshold=5, connectivity=1).astype(\"uint8\"), background=1)\n"
     ]
    },
    {
     "name": "stdout",
     "output_type": "stream",
     "text": [
      "1727 446\n",
      "8162\n",
      "256489 3449\n",
      "0567_OD\n"
     ]
    },
    {
     "name": "stderr",
     "output_type": "stream",
     "text": [
      "/home/alex_johannes/octa_gnn/OCTA_gnn/generator/heterograph_from_vvg_generator.py:148: UserWarning: Any labeled images will be returned as a boolean array. Did you mean to use a boolean array?\n",
      "  region_labels = measure.label(morphology.remove_small_holes(seg, area_threshold=5, connectivity=1).astype(\"uint8\"), background=1)\n"
     ]
    },
    {
     "name": "stdout",
     "output_type": "stream",
     "text": [
      "1647 393\n",
      "7924\n",
      "264570 3760\n",
      "0586_OD\n"
     ]
    },
    {
     "name": "stderr",
     "output_type": "stream",
     "text": [
      "/home/alex_johannes/octa_gnn/OCTA_gnn/generator/heterograph_from_vvg_generator.py:148: UserWarning: Any labeled images will be returned as a boolean array. Did you mean to use a boolean array?\n",
      "  region_labels = measure.label(morphology.remove_small_holes(seg, area_threshold=5, connectivity=1).astype(\"uint8\"), background=1)\n"
     ]
    },
    {
     "name": "stdout",
     "output_type": "stream",
     "text": [
      "1969 423\n",
      "8962\n",
      "276231 3238\n",
      "0600_OS\n"
     ]
    },
    {
     "name": "stderr",
     "output_type": "stream",
     "text": [
      "/home/alex_johannes/octa_gnn/OCTA_gnn/generator/heterograph_from_vvg_generator.py:148: UserWarning: Any labeled images will be returned as a boolean array. Did you mean to use a boolean array?\n",
      "  region_labels = measure.label(morphology.remove_small_holes(seg, area_threshold=5, connectivity=1).astype(\"uint8\"), background=1)\n"
     ]
    },
    {
     "name": "stdout",
     "output_type": "stream",
     "text": [
      "1263 250\n",
      "6487\n",
      "252981 1836\n",
      "0612_OS\n"
     ]
    },
    {
     "name": "stderr",
     "output_type": "stream",
     "text": [
      "/home/alex_johannes/octa_gnn/OCTA_gnn/generator/heterograph_from_vvg_generator.py:148: UserWarning: Any labeled images will be returned as a boolean array. Did you mean to use a boolean array?\n",
      "  region_labels = measure.label(morphology.remove_small_holes(seg, area_threshold=5, connectivity=1).astype(\"uint8\"), background=1)\n"
     ]
    },
    {
     "name": "stdout",
     "output_type": "stream",
     "text": [
      "1787 411\n",
      "8515\n",
      "277943 3074\n",
      "0626_OS\n"
     ]
    },
    {
     "name": "stderr",
     "output_type": "stream",
     "text": [
      "/home/alex_johannes/octa_gnn/OCTA_gnn/generator/heterograph_from_vvg_generator.py:148: UserWarning: Any labeled images will be returned as a boolean array. Did you mean to use a boolean array?\n",
      "  region_labels = measure.label(morphology.remove_small_holes(seg, area_threshold=5, connectivity=1).astype(\"uint8\"), background=1)\n"
     ]
    },
    {
     "name": "stdout",
     "output_type": "stream",
     "text": [
      "1904 473\n",
      "8739\n",
      "274412 3516\n",
      "0646_OD\n"
     ]
    },
    {
     "name": "stderr",
     "output_type": "stream",
     "text": [
      "/home/alex_johannes/octa_gnn/OCTA_gnn/generator/heterograph_from_vvg_generator.py:148: UserWarning: Any labeled images will be returned as a boolean array. Did you mean to use a boolean array?\n",
      "  region_labels = measure.label(morphology.remove_small_holes(seg, area_threshold=5, connectivity=1).astype(\"uint8\"), background=1)\n"
     ]
    },
    {
     "name": "stdout",
     "output_type": "stream",
     "text": [
      "1456 334\n",
      "7572\n",
      "256432 2758\n",
      "0668_OD\n"
     ]
    },
    {
     "name": "stderr",
     "output_type": "stream",
     "text": [
      "/home/alex_johannes/octa_gnn/OCTA_gnn/generator/heterograph_from_vvg_generator.py:148: UserWarning: Any labeled images will be returned as a boolean array. Did you mean to use a boolean array?\n",
      "  region_labels = measure.label(morphology.remove_small_holes(seg, area_threshold=5, connectivity=1).astype(\"uint8\"), background=1)\n"
     ]
    },
    {
     "name": "stdout",
     "output_type": "stream",
     "text": [
      "1559 369\n",
      "7476\n",
      "255937 3068\n",
      "0677_OD\n"
     ]
    },
    {
     "name": "stderr",
     "output_type": "stream",
     "text": [
      "/home/alex_johannes/octa_gnn/OCTA_gnn/generator/heterograph_from_vvg_generator.py:148: UserWarning: Any labeled images will be returned as a boolean array. Did you mean to use a boolean array?\n",
      "  region_labels = measure.label(morphology.remove_small_holes(seg, area_threshold=5, connectivity=1).astype(\"uint8\"), background=1)\n"
     ]
    },
    {
     "name": "stdout",
     "output_type": "stream",
     "text": [
      "1425 296\n",
      "7168\n",
      "254018 2026\n",
      "0690_OS\n"
     ]
    },
    {
     "name": "stderr",
     "output_type": "stream",
     "text": [
      "/home/alex_johannes/octa_gnn/OCTA_gnn/generator/heterograph_from_vvg_generator.py:148: UserWarning: Any labeled images will be returned as a boolean array. Did you mean to use a boolean array?\n",
      "  region_labels = measure.label(morphology.remove_small_holes(seg, area_threshold=5, connectivity=1).astype(\"uint8\"), background=1)\n"
     ]
    },
    {
     "name": "stdout",
     "output_type": "stream",
     "text": [
      "1105 244\n",
      "5847\n",
      "232343 2572\n",
      "0703_OS\n"
     ]
    },
    {
     "name": "stderr",
     "output_type": "stream",
     "text": [
      "/home/alex_johannes/octa_gnn/OCTA_gnn/generator/heterograph_from_vvg_generator.py:148: UserWarning: Any labeled images will be returned as a boolean array. Did you mean to use a boolean array?\n",
      "  region_labels = measure.label(morphology.remove_small_holes(seg, area_threshold=5, connectivity=1).astype(\"uint8\"), background=1)\n"
     ]
    },
    {
     "name": "stdout",
     "output_type": "stream",
     "text": [
      "1908 418\n",
      "8676\n",
      "271380 3512\n",
      "0715_OD\n"
     ]
    },
    {
     "name": "stderr",
     "output_type": "stream",
     "text": [
      "/home/alex_johannes/octa_gnn/OCTA_gnn/generator/heterograph_from_vvg_generator.py:148: UserWarning: Any labeled images will be returned as a boolean array. Did you mean to use a boolean array?\n",
      "  region_labels = measure.label(morphology.remove_small_holes(seg, area_threshold=5, connectivity=1).astype(\"uint8\"), background=1)\n"
     ]
    },
    {
     "name": "stdout",
     "output_type": "stream",
     "text": [
      "1153 231\n",
      "5883\n",
      "237468 2122\n",
      "0737_OD\n"
     ]
    },
    {
     "name": "stderr",
     "output_type": "stream",
     "text": [
      "/home/alex_johannes/octa_gnn/OCTA_gnn/generator/heterograph_from_vvg_generator.py:148: UserWarning: Any labeled images will be returned as a boolean array. Did you mean to use a boolean array?\n",
      "  region_labels = measure.label(morphology.remove_small_holes(seg, area_threshold=5, connectivity=1).astype(\"uint8\"), background=1)\n"
     ]
    },
    {
     "name": "stdout",
     "output_type": "stream",
     "text": [
      "1772 346\n",
      "8183\n",
      "267979 3584\n",
      "0748_OD\n"
     ]
    },
    {
     "name": "stderr",
     "output_type": "stream",
     "text": [
      "/home/alex_johannes/octa_gnn/OCTA_gnn/generator/heterograph_from_vvg_generator.py:148: UserWarning: Any labeled images will be returned as a boolean array. Did you mean to use a boolean array?\n",
      "  region_labels = measure.label(morphology.remove_small_holes(seg, area_threshold=5, connectivity=1).astype(\"uint8\"), background=1)\n"
     ]
    },
    {
     "name": "stdout",
     "output_type": "stream",
     "text": [
      "597 145\n",
      "3851\n",
      "183539 1965\n",
      "0759_OD\n"
     ]
    },
    {
     "name": "stderr",
     "output_type": "stream",
     "text": [
      "/home/alex_johannes/octa_gnn/OCTA_gnn/generator/heterograph_from_vvg_generator.py:148: UserWarning: Any labeled images will be returned as a boolean array. Did you mean to use a boolean array?\n",
      "  region_labels = measure.label(morphology.remove_small_holes(seg, area_threshold=5, connectivity=1).astype(\"uint8\"), background=1)\n"
     ]
    },
    {
     "name": "stdout",
     "output_type": "stream",
     "text": [
      "1919 435\n",
      "8770\n",
      "270119 4133\n",
      "0781_OS\n"
     ]
    },
    {
     "name": "stderr",
     "output_type": "stream",
     "text": [
      "/home/alex_johannes/octa_gnn/OCTA_gnn/generator/heterograph_from_vvg_generator.py:148: UserWarning: Any labeled images will be returned as a boolean array. Did you mean to use a boolean array?\n",
      "  region_labels = measure.label(morphology.remove_small_holes(seg, area_threshold=5, connectivity=1).astype(\"uint8\"), background=1)\n"
     ]
    },
    {
     "name": "stdout",
     "output_type": "stream",
     "text": [
      "1935 419\n",
      "8899\n",
      "284990 3244\n",
      "0793_OS\n"
     ]
    },
    {
     "name": "stderr",
     "output_type": "stream",
     "text": [
      "/home/alex_johannes/octa_gnn/OCTA_gnn/generator/heterograph_from_vvg_generator.py:148: UserWarning: Any labeled images will be returned as a boolean array. Did you mean to use a boolean array?\n",
      "  region_labels = measure.label(morphology.remove_small_holes(seg, area_threshold=5, connectivity=1).astype(\"uint8\"), background=1)\n"
     ]
    },
    {
     "name": "stdout",
     "output_type": "stream",
     "text": [
      "908 210\n",
      "5149\n",
      "221604 2064\n",
      "0805_OD\n"
     ]
    },
    {
     "name": "stderr",
     "output_type": "stream",
     "text": [
      "/home/alex_johannes/octa_gnn/OCTA_gnn/generator/heterograph_from_vvg_generator.py:148: UserWarning: Any labeled images will be returned as a boolean array. Did you mean to use a boolean array?\n",
      "  region_labels = measure.label(morphology.remove_small_holes(seg, area_threshold=5, connectivity=1).astype(\"uint8\"), background=1)\n"
     ]
    },
    {
     "name": "stdout",
     "output_type": "stream",
     "text": [
      "1923 398\n",
      "8853\n",
      "277023 2899\n",
      "0816_OS\n"
     ]
    },
    {
     "name": "stderr",
     "output_type": "stream",
     "text": [
      "/home/alex_johannes/octa_gnn/OCTA_gnn/generator/heterograph_from_vvg_generator.py:148: UserWarning: Any labeled images will be returned as a boolean array. Did you mean to use a boolean array?\n",
      "  region_labels = measure.label(morphology.remove_small_holes(seg, area_threshold=5, connectivity=1).astype(\"uint8\"), background=1)\n"
     ]
    },
    {
     "name": "stdout",
     "output_type": "stream",
     "text": [
      "1552 324\n",
      "7331\n",
      "252791 2833\n",
      "0825_OD\n"
     ]
    },
    {
     "name": "stderr",
     "output_type": "stream",
     "text": [
      "/home/alex_johannes/octa_gnn/OCTA_gnn/generator/heterograph_from_vvg_generator.py:148: UserWarning: Any labeled images will be returned as a boolean array. Did you mean to use a boolean array?\n",
      "  region_labels = measure.label(morphology.remove_small_holes(seg, area_threshold=5, connectivity=1).astype(\"uint8\"), background=1)\n"
     ]
    },
    {
     "name": "stdout",
     "output_type": "stream",
     "text": [
      "2023 458\n",
      "9207\n",
      "281015 4214\n",
      "0837_OS\n"
     ]
    },
    {
     "name": "stderr",
     "output_type": "stream",
     "text": [
      "/home/alex_johannes/octa_gnn/OCTA_gnn/generator/heterograph_from_vvg_generator.py:148: UserWarning: Any labeled images will be returned as a boolean array. Did you mean to use a boolean array?\n",
      "  region_labels = measure.label(morphology.remove_small_holes(seg, area_threshold=5, connectivity=1).astype(\"uint8\"), background=1)\n"
     ]
    },
    {
     "name": "stdout",
     "output_type": "stream",
     "text": [
      "923 201\n",
      "5093\n",
      "229860 1557\n",
      "0848_OS\n"
     ]
    },
    {
     "name": "stderr",
     "output_type": "stream",
     "text": [
      "/home/alex_johannes/octa_gnn/OCTA_gnn/generator/heterograph_from_vvg_generator.py:148: UserWarning: Any labeled images will be returned as a boolean array. Did you mean to use a boolean array?\n",
      "  region_labels = measure.label(morphology.remove_small_holes(seg, area_threshold=5, connectivity=1).astype(\"uint8\"), background=1)\n"
     ]
    },
    {
     "name": "stdout",
     "output_type": "stream",
     "text": [
      "1635 322\n",
      "7927\n",
      "275003 2176\n",
      "0463_OS\n"
     ]
    },
    {
     "name": "stderr",
     "output_type": "stream",
     "text": [
      "/home/alex_johannes/octa_gnn/OCTA_gnn/generator/heterograph_from_vvg_generator.py:148: UserWarning: Any labeled images will be returned as a boolean array. Did you mean to use a boolean array?\n",
      "  region_labels = measure.label(morphology.remove_small_holes(seg, area_threshold=5, connectivity=1).astype(\"uint8\"), background=1)\n"
     ]
    },
    {
     "name": "stdout",
     "output_type": "stream",
     "text": [
      "850 190\n",
      "4756\n",
      "212332 1898\n",
      "0464_OS\n"
     ]
    },
    {
     "name": "stderr",
     "output_type": "stream",
     "text": [
      "/home/alex_johannes/octa_gnn/OCTA_gnn/generator/heterograph_from_vvg_generator.py:148: UserWarning: Any labeled images will be returned as a boolean array. Did you mean to use a boolean array?\n",
      "  region_labels = measure.label(morphology.remove_small_holes(seg, area_threshold=5, connectivity=1).astype(\"uint8\"), background=1)\n"
     ]
    },
    {
     "name": "stdout",
     "output_type": "stream",
     "text": [
      "1932 461\n",
      "8576\n",
      "256289 3826\n",
      "0465_OD\n"
     ]
    },
    {
     "name": "stderr",
     "output_type": "stream",
     "text": [
      "/home/alex_johannes/octa_gnn/OCTA_gnn/generator/heterograph_from_vvg_generator.py:148: UserWarning: Any labeled images will be returned as a boolean array. Did you mean to use a boolean array?\n",
      "  region_labels = measure.label(morphology.remove_small_holes(seg, area_threshold=5, connectivity=1).astype(\"uint8\"), background=1)\n"
     ]
    },
    {
     "name": "stdout",
     "output_type": "stream",
     "text": [
      "1912 439\n",
      "8584\n",
      "269751 3122\n",
      "0465_OS\n"
     ]
    },
    {
     "name": "stderr",
     "output_type": "stream",
     "text": [
      "/home/alex_johannes/octa_gnn/OCTA_gnn/generator/heterograph_from_vvg_generator.py:148: UserWarning: Any labeled images will be returned as a boolean array. Did you mean to use a boolean array?\n",
      "  region_labels = measure.label(morphology.remove_small_holes(seg, area_threshold=5, connectivity=1).astype(\"uint8\"), background=1)\n"
     ]
    },
    {
     "name": "stdout",
     "output_type": "stream",
     "text": [
      "1321 326\n",
      "7123\n",
      "252472 2963\n",
      "0466_OD\n"
     ]
    },
    {
     "name": "stderr",
     "output_type": "stream",
     "text": [
      "/home/alex_johannes/octa_gnn/OCTA_gnn/generator/heterograph_from_vvg_generator.py:148: UserWarning: Any labeled images will be returned as a boolean array. Did you mean to use a boolean array?\n",
      "  region_labels = measure.label(morphology.remove_small_holes(seg, area_threshold=5, connectivity=1).astype(\"uint8\"), background=1)\n"
     ]
    },
    {
     "name": "stdout",
     "output_type": "stream",
     "text": [
      "383 66\n",
      "2413\n",
      "166794 675\n",
      "0467_OD\n"
     ]
    },
    {
     "name": "stderr",
     "output_type": "stream",
     "text": [
      "/home/alex_johannes/octa_gnn/OCTA_gnn/generator/heterograph_from_vvg_generator.py:148: UserWarning: Any labeled images will be returned as a boolean array. Did you mean to use a boolean array?\n",
      "  region_labels = measure.label(morphology.remove_small_holes(seg, area_threshold=5, connectivity=1).astype(\"uint8\"), background=1)\n"
     ]
    },
    {
     "name": "stdout",
     "output_type": "stream",
     "text": [
      "2086 497\n",
      "9400\n",
      "277113 4110\n",
      "0467_OS\n"
     ]
    },
    {
     "name": "stderr",
     "output_type": "stream",
     "text": [
      "/home/alex_johannes/octa_gnn/OCTA_gnn/generator/heterograph_from_vvg_generator.py:148: UserWarning: Any labeled images will be returned as a boolean array. Did you mean to use a boolean array?\n",
      "  region_labels = measure.label(morphology.remove_small_holes(seg, area_threshold=5, connectivity=1).astype(\"uint8\"), background=1)\n"
     ]
    },
    {
     "name": "stdout",
     "output_type": "stream",
     "text": [
      "1919 480\n",
      "8849\n",
      "267179 4143\n",
      "0468_OS\n"
     ]
    },
    {
     "name": "stderr",
     "output_type": "stream",
     "text": [
      "/home/alex_johannes/octa_gnn/OCTA_gnn/generator/heterograph_from_vvg_generator.py:148: UserWarning: Any labeled images will be returned as a boolean array. Did you mean to use a boolean array?\n",
      "  region_labels = measure.label(morphology.remove_small_holes(seg, area_threshold=5, connectivity=1).astype(\"uint8\"), background=1)\n"
     ]
    },
    {
     "name": "stdout",
     "output_type": "stream",
     "text": [
      "1708 376\n",
      "7968\n",
      "261252 3337\n",
      "0469_OD\n"
     ]
    },
    {
     "name": "stderr",
     "output_type": "stream",
     "text": [
      "/home/alex_johannes/octa_gnn/OCTA_gnn/generator/heterograph_from_vvg_generator.py:148: UserWarning: Any labeled images will be returned as a boolean array. Did you mean to use a boolean array?\n",
      "  region_labels = measure.label(morphology.remove_small_holes(seg, area_threshold=5, connectivity=1).astype(\"uint8\"), background=1)\n"
     ]
    },
    {
     "name": "stdout",
     "output_type": "stream",
     "text": [
      "1611 411\n",
      "7536\n",
      "252072 3471\n",
      "0469_OS\n"
     ]
    },
    {
     "name": "stderr",
     "output_type": "stream",
     "text": [
      "/home/alex_johannes/octa_gnn/OCTA_gnn/generator/heterograph_from_vvg_generator.py:148: UserWarning: Any labeled images will be returned as a boolean array. Did you mean to use a boolean array?\n",
      "  region_labels = measure.label(morphology.remove_small_holes(seg, area_threshold=5, connectivity=1).astype(\"uint8\"), background=1)\n"
     ]
    },
    {
     "name": "stdout",
     "output_type": "stream",
     "text": [
      "1335 298\n",
      "6826\n",
      "243516 2496\n",
      "0470_OD\n"
     ]
    },
    {
     "name": "stderr",
     "output_type": "stream",
     "text": [
      "/home/alex_johannes/octa_gnn/OCTA_gnn/generator/heterograph_from_vvg_generator.py:148: UserWarning: Any labeled images will be returned as a boolean array. Did you mean to use a boolean array?\n",
      "  region_labels = measure.label(morphology.remove_small_holes(seg, area_threshold=5, connectivity=1).astype(\"uint8\"), background=1)\n"
     ]
    },
    {
     "name": "stdout",
     "output_type": "stream",
     "text": [
      "1647 405\n",
      "7899\n",
      "268368 3478\n",
      "0471_OD\n"
     ]
    },
    {
     "name": "stderr",
     "output_type": "stream",
     "text": [
      "/home/alex_johannes/octa_gnn/OCTA_gnn/generator/heterograph_from_vvg_generator.py:148: UserWarning: Any labeled images will be returned as a boolean array. Did you mean to use a boolean array?\n",
      "  region_labels = measure.label(morphology.remove_small_holes(seg, area_threshold=5, connectivity=1).astype(\"uint8\"), background=1)\n"
     ]
    },
    {
     "name": "stdout",
     "output_type": "stream",
     "text": [
      "1855 444\n",
      "8512\n",
      "261767 3908\n",
      "0472_OD\n"
     ]
    },
    {
     "name": "stderr",
     "output_type": "stream",
     "text": [
      "/home/alex_johannes/octa_gnn/OCTA_gnn/generator/heterograph_from_vvg_generator.py:148: UserWarning: Any labeled images will be returned as a boolean array. Did you mean to use a boolean array?\n",
      "  region_labels = measure.label(morphology.remove_small_holes(seg, area_threshold=5, connectivity=1).astype(\"uint8\"), background=1)\n"
     ]
    },
    {
     "name": "stdout",
     "output_type": "stream",
     "text": [
      "1684 444\n",
      "8092\n",
      "264585 3553\n",
      "0472_OS\n"
     ]
    },
    {
     "name": "stderr",
     "output_type": "stream",
     "text": [
      "/home/alex_johannes/octa_gnn/OCTA_gnn/generator/heterograph_from_vvg_generator.py:148: UserWarning: Any labeled images will be returned as a boolean array. Did you mean to use a boolean array?\n",
      "  region_labels = measure.label(morphology.remove_small_holes(seg, area_threshold=5, connectivity=1).astype(\"uint8\"), background=1)\n"
     ]
    },
    {
     "name": "stdout",
     "output_type": "stream",
     "text": [
      "1772 396\n",
      "8339\n",
      "266066 3374\n",
      "0473_OD\n"
     ]
    },
    {
     "name": "stderr",
     "output_type": "stream",
     "text": [
      "/home/alex_johannes/octa_gnn/OCTA_gnn/generator/heterograph_from_vvg_generator.py:148: UserWarning: Any labeled images will be returned as a boolean array. Did you mean to use a boolean array?\n",
      "  region_labels = measure.label(morphology.remove_small_holes(seg, area_threshold=5, connectivity=1).astype(\"uint8\"), background=1)\n"
     ]
    },
    {
     "name": "stdout",
     "output_type": "stream",
     "text": [
      "1723 407\n",
      "8081\n",
      "265794 3757\n",
      "0474_OD\n"
     ]
    },
    {
     "name": "stderr",
     "output_type": "stream",
     "text": [
      "/home/alex_johannes/octa_gnn/OCTA_gnn/generator/heterograph_from_vvg_generator.py:148: UserWarning: Any labeled images will be returned as a boolean array. Did you mean to use a boolean array?\n",
      "  region_labels = measure.label(morphology.remove_small_holes(seg, area_threshold=5, connectivity=1).astype(\"uint8\"), background=1)\n"
     ]
    },
    {
     "name": "stdout",
     "output_type": "stream",
     "text": [
      "1218 295\n",
      "6388\n",
      "248966 2625\n",
      "0475_OS\n"
     ]
    },
    {
     "name": "stderr",
     "output_type": "stream",
     "text": [
      "/home/alex_johannes/octa_gnn/OCTA_gnn/generator/heterograph_from_vvg_generator.py:148: UserWarning: Any labeled images will be returned as a boolean array. Did you mean to use a boolean array?\n",
      "  region_labels = measure.label(morphology.remove_small_holes(seg, area_threshold=5, connectivity=1).astype(\"uint8\"), background=1)\n"
     ]
    },
    {
     "name": "stdout",
     "output_type": "stream",
     "text": [
      "1933 434\n",
      "8859\n",
      "282136 2983\n",
      "0476_OD\n"
     ]
    },
    {
     "name": "stderr",
     "output_type": "stream",
     "text": [
      "/home/alex_johannes/octa_gnn/OCTA_gnn/generator/heterograph_from_vvg_generator.py:148: UserWarning: Any labeled images will be returned as a boolean array. Did you mean to use a boolean array?\n",
      "  region_labels = measure.label(morphology.remove_small_holes(seg, area_threshold=5, connectivity=1).astype(\"uint8\"), background=1)\n"
     ]
    },
    {
     "name": "stdout",
     "output_type": "stream",
     "text": [
      "1623 399\n",
      "8026\n",
      "278498 2767\n",
      "0477_OD\n"
     ]
    },
    {
     "name": "stderr",
     "output_type": "stream",
     "text": [
      "/home/alex_johannes/octa_gnn/OCTA_gnn/generator/heterograph_from_vvg_generator.py:148: UserWarning: Any labeled images will be returned as a boolean array. Did you mean to use a boolean array?\n",
      "  region_labels = measure.label(morphology.remove_small_holes(seg, area_threshold=5, connectivity=1).astype(\"uint8\"), background=1)\n"
     ]
    },
    {
     "name": "stdout",
     "output_type": "stream",
     "text": [
      "503 113\n",
      "3205\n",
      "191135 1450\n",
      "0477_OS\n"
     ]
    },
    {
     "name": "stderr",
     "output_type": "stream",
     "text": [
      "/home/alex_johannes/octa_gnn/OCTA_gnn/generator/heterograph_from_vvg_generator.py:148: UserWarning: Any labeled images will be returned as a boolean array. Did you mean to use a boolean array?\n",
      "  region_labels = measure.label(morphology.remove_small_holes(seg, area_threshold=5, connectivity=1).astype(\"uint8\"), background=1)\n"
     ]
    },
    {
     "name": "stdout",
     "output_type": "stream",
     "text": [
      "799 165\n",
      "4575\n",
      "224285 1921\n",
      "0478_OD\n"
     ]
    },
    {
     "name": "stderr",
     "output_type": "stream",
     "text": [
      "/home/alex_johannes/octa_gnn/OCTA_gnn/generator/heterograph_from_vvg_generator.py:148: UserWarning: Any labeled images will be returned as a boolean array. Did you mean to use a boolean array?\n",
      "  region_labels = measure.label(morphology.remove_small_holes(seg, area_threshold=5, connectivity=1).astype(\"uint8\"), background=1)\n"
     ]
    },
    {
     "name": "stdout",
     "output_type": "stream",
     "text": [
      "1803 439\n",
      "8521\n",
      "266329 2910\n",
      "0478_OS\n"
     ]
    },
    {
     "name": "stderr",
     "output_type": "stream",
     "text": [
      "/home/alex_johannes/octa_gnn/OCTA_gnn/generator/heterograph_from_vvg_generator.py:148: UserWarning: Any labeled images will be returned as a boolean array. Did you mean to use a boolean array?\n",
      "  region_labels = measure.label(morphology.remove_small_holes(seg, area_threshold=5, connectivity=1).astype(\"uint8\"), background=1)\n"
     ]
    },
    {
     "name": "stdout",
     "output_type": "stream",
     "text": [
      "1628 408\n",
      "7946\n",
      "259419 3396\n",
      "0479_OD\n"
     ]
    },
    {
     "name": "stderr",
     "output_type": "stream",
     "text": [
      "/home/alex_johannes/octa_gnn/OCTA_gnn/generator/heterograph_from_vvg_generator.py:148: UserWarning: Any labeled images will be returned as a boolean array. Did you mean to use a boolean array?\n",
      "  region_labels = measure.label(morphology.remove_small_holes(seg, area_threshold=5, connectivity=1).astype(\"uint8\"), background=1)\n"
     ]
    },
    {
     "name": "stdout",
     "output_type": "stream",
     "text": [
      "389 77\n",
      "2676\n",
      "169659 792\n",
      "0479_OS\n"
     ]
    },
    {
     "name": "stderr",
     "output_type": "stream",
     "text": [
      "/home/alex_johannes/octa_gnn/OCTA_gnn/generator/heterograph_from_vvg_generator.py:148: UserWarning: Any labeled images will be returned as a boolean array. Did you mean to use a boolean array?\n",
      "  region_labels = measure.label(morphology.remove_small_holes(seg, area_threshold=5, connectivity=1).astype(\"uint8\"), background=1)\n"
     ]
    },
    {
     "name": "stdout",
     "output_type": "stream",
     "text": [
      "704 169\n",
      "4117\n",
      "208718 1406\n",
      "0480_OD\n"
     ]
    },
    {
     "name": "stderr",
     "output_type": "stream",
     "text": [
      "/home/alex_johannes/octa_gnn/OCTA_gnn/generator/heterograph_from_vvg_generator.py:148: UserWarning: Any labeled images will be returned as a boolean array. Did you mean to use a boolean array?\n",
      "  region_labels = measure.label(morphology.remove_small_holes(seg, area_threshold=5, connectivity=1).astype(\"uint8\"), background=1)\n"
     ]
    },
    {
     "name": "stdout",
     "output_type": "stream",
     "text": [
      "1680 399\n",
      "7856\n",
      "260442 3340\n",
      "0480_OS\n"
     ]
    },
    {
     "name": "stderr",
     "output_type": "stream",
     "text": [
      "/home/alex_johannes/octa_gnn/OCTA_gnn/generator/heterograph_from_vvg_generator.py:148: UserWarning: Any labeled images will be returned as a boolean array. Did you mean to use a boolean array?\n",
      "  region_labels = measure.label(morphology.remove_small_holes(seg, area_threshold=5, connectivity=1).astype(\"uint8\"), background=1)\n"
     ]
    },
    {
     "name": "stdout",
     "output_type": "stream",
     "text": [
      "1580 370\n",
      "7726\n",
      "256094 3028\n",
      "0481_OD\n"
     ]
    },
    {
     "name": "stderr",
     "output_type": "stream",
     "text": [
      "/home/alex_johannes/octa_gnn/OCTA_gnn/generator/heterograph_from_vvg_generator.py:148: UserWarning: Any labeled images will be returned as a boolean array. Did you mean to use a boolean array?\n",
      "  region_labels = measure.label(morphology.remove_small_holes(seg, area_threshold=5, connectivity=1).astype(\"uint8\"), background=1)\n"
     ]
    },
    {
     "name": "stdout",
     "output_type": "stream",
     "text": [
      "1600 384\n",
      "7703\n",
      "258243 3402\n",
      "0482_OD\n"
     ]
    },
    {
     "name": "stderr",
     "output_type": "stream",
     "text": [
      "/home/alex_johannes/octa_gnn/OCTA_gnn/generator/heterograph_from_vvg_generator.py:148: UserWarning: Any labeled images will be returned as a boolean array. Did you mean to use a boolean array?\n",
      "  region_labels = measure.label(morphology.remove_small_holes(seg, area_threshold=5, connectivity=1).astype(\"uint8\"), background=1)\n"
     ]
    },
    {
     "name": "stdout",
     "output_type": "stream",
     "text": [
      "1806 367\n",
      "8569\n",
      "275790 2692\n",
      "0482_OS\n"
     ]
    },
    {
     "name": "stderr",
     "output_type": "stream",
     "text": [
      "/home/alex_johannes/octa_gnn/OCTA_gnn/generator/heterograph_from_vvg_generator.py:148: UserWarning: Any labeled images will be returned as a boolean array. Did you mean to use a boolean array?\n",
      "  region_labels = measure.label(morphology.remove_small_holes(seg, area_threshold=5, connectivity=1).astype(\"uint8\"), background=1)\n"
     ]
    },
    {
     "name": "stdout",
     "output_type": "stream",
     "text": [
      "813 217\n",
      "4819\n",
      "193556 1883\n",
      "0483_OS\n"
     ]
    },
    {
     "name": "stderr",
     "output_type": "stream",
     "text": [
      "/home/alex_johannes/octa_gnn/OCTA_gnn/generator/heterograph_from_vvg_generator.py:148: UserWarning: Any labeled images will be returned as a boolean array. Did you mean to use a boolean array?\n",
      "  region_labels = measure.label(morphology.remove_small_holes(seg, area_threshold=5, connectivity=1).astype(\"uint8\"), background=1)\n"
     ]
    },
    {
     "name": "stdout",
     "output_type": "stream",
     "text": [
      "2101 479\n",
      "9174\n",
      "270704 3383\n",
      "0484_OD\n"
     ]
    },
    {
     "name": "stderr",
     "output_type": "stream",
     "text": [
      "/home/alex_johannes/octa_gnn/OCTA_gnn/generator/heterograph_from_vvg_generator.py:148: UserWarning: Any labeled images will be returned as a boolean array. Did you mean to use a boolean array?\n",
      "  region_labels = measure.label(morphology.remove_small_holes(seg, area_threshold=5, connectivity=1).astype(\"uint8\"), background=1)\n"
     ]
    },
    {
     "name": "stdout",
     "output_type": "stream",
     "text": [
      "1811 401\n",
      "8532\n",
      "276447 3420\n",
      "0586_OS\n"
     ]
    },
    {
     "name": "stderr",
     "output_type": "stream",
     "text": [
      "/home/alex_johannes/octa_gnn/OCTA_gnn/generator/heterograph_from_vvg_generator.py:148: UserWarning: Any labeled images will be returned as a boolean array. Did you mean to use a boolean array?\n",
      "  region_labels = measure.label(morphology.remove_small_holes(seg, area_threshold=5, connectivity=1).astype(\"uint8\"), background=1)\n"
     ]
    },
    {
     "name": "stdout",
     "output_type": "stream",
     "text": [
      "1834 473\n",
      "8373\n",
      "253269 4363\n",
      "0587_OD\n"
     ]
    },
    {
     "name": "stderr",
     "output_type": "stream",
     "text": [
      "/home/alex_johannes/octa_gnn/OCTA_gnn/generator/heterograph_from_vvg_generator.py:148: UserWarning: Any labeled images will be returned as a boolean array. Did you mean to use a boolean array?\n",
      "  region_labels = measure.label(morphology.remove_small_holes(seg, area_threshold=5, connectivity=1).astype(\"uint8\"), background=1)\n"
     ]
    },
    {
     "name": "stdout",
     "output_type": "stream",
     "text": [
      "1626 353\n",
      "7774\n",
      "257475 3645\n",
      "0587_OS\n"
     ]
    },
    {
     "name": "stderr",
     "output_type": "stream",
     "text": [
      "/home/alex_johannes/octa_gnn/OCTA_gnn/generator/heterograph_from_vvg_generator.py:148: UserWarning: Any labeled images will be returned as a boolean array. Did you mean to use a boolean array?\n",
      "  region_labels = measure.label(morphology.remove_small_holes(seg, area_threshold=5, connectivity=1).astype(\"uint8\"), background=1)\n"
     ]
    },
    {
     "name": "stdout",
     "output_type": "stream",
     "text": [
      "1413 395\n",
      "7331\n",
      "239054 3560\n",
      "0588_OS\n"
     ]
    },
    {
     "name": "stderr",
     "output_type": "stream",
     "text": [
      "/home/alex_johannes/octa_gnn/OCTA_gnn/generator/heterograph_from_vvg_generator.py:148: UserWarning: Any labeled images will be returned as a boolean array. Did you mean to use a boolean array?\n",
      "  region_labels = measure.label(morphology.remove_small_holes(seg, area_threshold=5, connectivity=1).astype(\"uint8\"), background=1)\n"
     ]
    },
    {
     "name": "stdout",
     "output_type": "stream",
     "text": [
      "1316 278\n",
      "6834\n",
      "251140 2023\n",
      "0589_OS\n"
     ]
    },
    {
     "name": "stderr",
     "output_type": "stream",
     "text": [
      "/home/alex_johannes/octa_gnn/OCTA_gnn/generator/heterograph_from_vvg_generator.py:148: UserWarning: Any labeled images will be returned as a boolean array. Did you mean to use a boolean array?\n",
      "  region_labels = measure.label(morphology.remove_small_holes(seg, area_threshold=5, connectivity=1).astype(\"uint8\"), background=1)\n"
     ]
    },
    {
     "name": "stdout",
     "output_type": "stream",
     "text": [
      "1156 263\n",
      "6093\n",
      "240791 1927\n",
      "0590_OD\n"
     ]
    },
    {
     "name": "stderr",
     "output_type": "stream",
     "text": [
      "/home/alex_johannes/octa_gnn/OCTA_gnn/generator/heterograph_from_vvg_generator.py:148: UserWarning: Any labeled images will be returned as a boolean array. Did you mean to use a boolean array?\n",
      "  region_labels = measure.label(morphology.remove_small_holes(seg, area_threshold=5, connectivity=1).astype(\"uint8\"), background=1)\n"
     ]
    },
    {
     "name": "stdout",
     "output_type": "stream",
     "text": [
      "1813 341\n",
      "8625\n",
      "280702 2501\n",
      "0591_OD\n"
     ]
    },
    {
     "name": "stderr",
     "output_type": "stream",
     "text": [
      "/home/alex_johannes/octa_gnn/OCTA_gnn/generator/heterograph_from_vvg_generator.py:148: UserWarning: Any labeled images will be returned as a boolean array. Did you mean to use a boolean array?\n",
      "  region_labels = measure.label(morphology.remove_small_holes(seg, area_threshold=5, connectivity=1).astype(\"uint8\"), background=1)\n"
     ]
    },
    {
     "name": "stdout",
     "output_type": "stream",
     "text": [
      "1879 445\n",
      "8509\n",
      "268702 3292\n",
      "0591_OS\n"
     ]
    },
    {
     "name": "stderr",
     "output_type": "stream",
     "text": [
      "/home/alex_johannes/octa_gnn/OCTA_gnn/generator/heterograph_from_vvg_generator.py:148: UserWarning: Any labeled images will be returned as a boolean array. Did you mean to use a boolean array?\n",
      "  region_labels = measure.label(morphology.remove_small_holes(seg, area_threshold=5, connectivity=1).astype(\"uint8\"), background=1)\n"
     ]
    },
    {
     "name": "stdout",
     "output_type": "stream",
     "text": [
      "1706 431\n",
      "8075\n",
      "248968 3477\n",
      "0592_OS\n"
     ]
    },
    {
     "name": "stderr",
     "output_type": "stream",
     "text": [
      "/home/alex_johannes/octa_gnn/OCTA_gnn/generator/heterograph_from_vvg_generator.py:148: UserWarning: Any labeled images will be returned as a boolean array. Did you mean to use a boolean array?\n",
      "  region_labels = measure.label(morphology.remove_small_holes(seg, area_threshold=5, connectivity=1).astype(\"uint8\"), background=1)\n"
     ]
    },
    {
     "name": "stdout",
     "output_type": "stream",
     "text": [
      "1074 222\n",
      "5701\n",
      "239009 1496\n",
      "0593_OD\n"
     ]
    },
    {
     "name": "stderr",
     "output_type": "stream",
     "text": [
      "/home/alex_johannes/octa_gnn/OCTA_gnn/generator/heterograph_from_vvg_generator.py:148: UserWarning: Any labeled images will be returned as a boolean array. Did you mean to use a boolean array?\n",
      "  region_labels = measure.label(morphology.remove_small_holes(seg, area_threshold=5, connectivity=1).astype(\"uint8\"), background=1)\n"
     ]
    },
    {
     "name": "stdout",
     "output_type": "stream",
     "text": [
      "1376 340\n",
      "7309\n",
      "258080 3221\n",
      "0593_OS\n"
     ]
    },
    {
     "name": "stderr",
     "output_type": "stream",
     "text": [
      "/home/alex_johannes/octa_gnn/OCTA_gnn/generator/heterograph_from_vvg_generator.py:148: UserWarning: Any labeled images will be returned as a boolean array. Did you mean to use a boolean array?\n",
      "  region_labels = measure.label(morphology.remove_small_holes(seg, area_threshold=5, connectivity=1).astype(\"uint8\"), background=1)\n"
     ]
    },
    {
     "name": "stdout",
     "output_type": "stream",
     "text": [
      "1623 398\n",
      "8040\n",
      "251712 3236\n",
      "0594_OD\n"
     ]
    },
    {
     "name": "stderr",
     "output_type": "stream",
     "text": [
      "/home/alex_johannes/octa_gnn/OCTA_gnn/generator/heterograph_from_vvg_generator.py:148: UserWarning: Any labeled images will be returned as a boolean array. Did you mean to use a boolean array?\n",
      "  region_labels = measure.label(morphology.remove_small_holes(seg, area_threshold=5, connectivity=1).astype(\"uint8\"), background=1)\n"
     ]
    },
    {
     "name": "stdout",
     "output_type": "stream",
     "text": [
      "590 148\n",
      "3344\n",
      "181121 1403\n",
      "0594_OS\n"
     ]
    },
    {
     "name": "stderr",
     "output_type": "stream",
     "text": [
      "/home/alex_johannes/octa_gnn/OCTA_gnn/generator/heterograph_from_vvg_generator.py:148: UserWarning: Any labeled images will be returned as a boolean array. Did you mean to use a boolean array?\n",
      "  region_labels = measure.label(morphology.remove_small_holes(seg, area_threshold=5, connectivity=1).astype(\"uint8\"), background=1)\n"
     ]
    },
    {
     "name": "stdout",
     "output_type": "stream",
     "text": [
      "1492 387\n",
      "7101\n",
      "242331 3615\n",
      "0595_OD\n"
     ]
    },
    {
     "name": "stderr",
     "output_type": "stream",
     "text": [
      "/home/alex_johannes/octa_gnn/OCTA_gnn/generator/heterograph_from_vvg_generator.py:148: UserWarning: Any labeled images will be returned as a boolean array. Did you mean to use a boolean array?\n",
      "  region_labels = measure.label(morphology.remove_small_holes(seg, area_threshold=5, connectivity=1).astype(\"uint8\"), background=1)\n"
     ]
    },
    {
     "name": "stdout",
     "output_type": "stream",
     "text": [
      "1541 400\n",
      "7351\n",
      "249161 3191\n",
      "0595_OS\n"
     ]
    },
    {
     "name": "stderr",
     "output_type": "stream",
     "text": [
      "/home/alex_johannes/octa_gnn/OCTA_gnn/generator/heterograph_from_vvg_generator.py:148: UserWarning: Any labeled images will be returned as a boolean array. Did you mean to use a boolean array?\n",
      "  region_labels = measure.label(morphology.remove_small_holes(seg, area_threshold=5, connectivity=1).astype(\"uint8\"), background=1)\n"
     ]
    },
    {
     "name": "stdout",
     "output_type": "stream",
     "text": [
      "1208 256\n",
      "6138\n",
      "242768 2534\n",
      "0596_OD\n"
     ]
    },
    {
     "name": "stderr",
     "output_type": "stream",
     "text": [
      "/home/alex_johannes/octa_gnn/OCTA_gnn/generator/heterograph_from_vvg_generator.py:148: UserWarning: Any labeled images will be returned as a boolean array. Did you mean to use a boolean array?\n",
      "  region_labels = measure.label(morphology.remove_small_holes(seg, area_threshold=5, connectivity=1).astype(\"uint8\"), background=1)\n"
     ]
    },
    {
     "name": "stdout",
     "output_type": "stream",
     "text": [
      "1551 382\n",
      "7625\n",
      "253791 3392\n",
      "0596_OS\n"
     ]
    },
    {
     "name": "stderr",
     "output_type": "stream",
     "text": [
      "/home/alex_johannes/octa_gnn/OCTA_gnn/generator/heterograph_from_vvg_generator.py:148: UserWarning: Any labeled images will be returned as a boolean array. Did you mean to use a boolean array?\n",
      "  region_labels = measure.label(morphology.remove_small_holes(seg, area_threshold=5, connectivity=1).astype(\"uint8\"), background=1)\n"
     ]
    },
    {
     "name": "stdout",
     "output_type": "stream",
     "text": [
      "1748 481\n",
      "8327\n",
      "260911 4512\n",
      "0597_OD\n"
     ]
    },
    {
     "name": "stderr",
     "output_type": "stream",
     "text": [
      "/home/alex_johannes/octa_gnn/OCTA_gnn/generator/heterograph_from_vvg_generator.py:148: UserWarning: Any labeled images will be returned as a boolean array. Did you mean to use a boolean array?\n",
      "  region_labels = measure.label(morphology.remove_small_holes(seg, area_threshold=5, connectivity=1).astype(\"uint8\"), background=1)\n"
     ]
    },
    {
     "name": "stdout",
     "output_type": "stream",
     "text": [
      "1061 226\n",
      "5887\n",
      "233894 2030\n",
      "0597_OS\n"
     ]
    },
    {
     "name": "stderr",
     "output_type": "stream",
     "text": [
      "/home/alex_johannes/octa_gnn/OCTA_gnn/generator/heterograph_from_vvg_generator.py:148: UserWarning: Any labeled images will be returned as a boolean array. Did you mean to use a boolean array?\n",
      "  region_labels = measure.label(morphology.remove_small_holes(seg, area_threshold=5, connectivity=1).astype(\"uint8\"), background=1)\n"
     ]
    },
    {
     "name": "stdout",
     "output_type": "stream",
     "text": [
      "1227 287\n",
      "6471\n",
      "239658 2845\n",
      "0598_OD\n"
     ]
    },
    {
     "name": "stderr",
     "output_type": "stream",
     "text": [
      "/home/alex_johannes/octa_gnn/OCTA_gnn/generator/heterograph_from_vvg_generator.py:148: UserWarning: Any labeled images will be returned as a boolean array. Did you mean to use a boolean array?\n",
      "  region_labels = measure.label(morphology.remove_small_holes(seg, area_threshold=5, connectivity=1).astype(\"uint8\"), background=1)\n",
      "/home/alex_johannes/octa_gnn/OCTA_gnn/.venv/lib/python3.10/site-packages/skimage/measure/_regionprops.py:647: RuntimeWarning: invalid value encountered in scalar divide\n",
      "  tuple(M[_get_element(axis)] / M0 for axis in range(self._ndim)))\n"
     ]
    },
    {
     "name": "stdout",
     "output_type": "stream",
     "text": [
      "1002 273\n",
      "5575\n",
      "226802 2096\n",
      "0598_OS\n"
     ]
    },
    {
     "name": "stderr",
     "output_type": "stream",
     "text": [
      "/home/alex_johannes/octa_gnn/OCTA_gnn/generator/heterograph_from_vvg_generator.py:148: UserWarning: Any labeled images will be returned as a boolean array. Did you mean to use a boolean array?\n",
      "  region_labels = measure.label(morphology.remove_small_holes(seg, area_threshold=5, connectivity=1).astype(\"uint8\"), background=1)\n"
     ]
    },
    {
     "name": "stdout",
     "output_type": "stream",
     "text": [
      "1136 275\n",
      "5965\n",
      "225856 2740\n",
      "0599_OD\n"
     ]
    },
    {
     "name": "stderr",
     "output_type": "stream",
     "text": [
      "/home/alex_johannes/octa_gnn/OCTA_gnn/generator/heterograph_from_vvg_generator.py:148: UserWarning: Any labeled images will be returned as a boolean array. Did you mean to use a boolean array?\n",
      "  region_labels = measure.label(morphology.remove_small_holes(seg, area_threshold=5, connectivity=1).astype(\"uint8\"), background=1)\n"
     ]
    },
    {
     "name": "stdout",
     "output_type": "stream",
     "text": [
      "1933 424\n",
      "8747\n",
      "271960 3839\n",
      "0599_OS\n"
     ]
    },
    {
     "name": "stderr",
     "output_type": "stream",
     "text": [
      "/home/alex_johannes/octa_gnn/OCTA_gnn/generator/heterograph_from_vvg_generator.py:148: UserWarning: Any labeled images will be returned as a boolean array. Did you mean to use a boolean array?\n",
      "  region_labels = measure.label(morphology.remove_small_holes(seg, area_threshold=5, connectivity=1).astype(\"uint8\"), background=1)\n",
      "/home/alex_johannes/octa_gnn/OCTA_gnn/.venv/lib/python3.10/site-packages/skimage/measure/_regionprops.py:647: RuntimeWarning: invalid value encountered in scalar divide\n",
      "  tuple(M[_get_element(axis)] / M0 for axis in range(self._ndim)))\n"
     ]
    },
    {
     "name": "stdout",
     "output_type": "stream",
     "text": [
      "1898 412\n",
      "8696\n",
      "276930 3107\n",
      "0600_OD\n"
     ]
    },
    {
     "name": "stderr",
     "output_type": "stream",
     "text": [
      "/home/alex_johannes/octa_gnn/OCTA_gnn/generator/heterograph_from_vvg_generator.py:148: UserWarning: Any labeled images will be returned as a boolean array. Did you mean to use a boolean array?\n",
      "  region_labels = measure.label(morphology.remove_small_holes(seg, area_threshold=5, connectivity=1).astype(\"uint8\"), background=1)\n"
     ]
    },
    {
     "name": "stdout",
     "output_type": "stream",
     "text": [
      "1235 255\n",
      "6424\n",
      "249757 2417\n",
      "0115_OD\n"
     ]
    },
    {
     "name": "stderr",
     "output_type": "stream",
     "text": [
      "/home/alex_johannes/octa_gnn/OCTA_gnn/generator/heterograph_from_vvg_generator.py:148: UserWarning: Any labeled images will be returned as a boolean array. Did you mean to use a boolean array?\n",
      "  region_labels = measure.label(morphology.remove_small_holes(seg, area_threshold=5, connectivity=1).astype(\"uint8\"), background=1)\n"
     ]
    },
    {
     "name": "stdout",
     "output_type": "stream",
     "text": [
      "1779 425\n",
      "8309\n",
      "255911 3534\n",
      "0116_OD\n"
     ]
    },
    {
     "name": "stderr",
     "output_type": "stream",
     "text": [
      "/home/alex_johannes/octa_gnn/OCTA_gnn/generator/heterograph_from_vvg_generator.py:148: UserWarning: Any labeled images will be returned as a boolean array. Did you mean to use a boolean array?\n",
      "  region_labels = measure.label(morphology.remove_small_holes(seg, area_threshold=5, connectivity=1).astype(\"uint8\"), background=1)\n"
     ]
    },
    {
     "name": "stdout",
     "output_type": "stream",
     "text": [
      "2008 437\n",
      "8977\n",
      "265224 3801\n",
      "0116_OS\n"
     ]
    },
    {
     "name": "stderr",
     "output_type": "stream",
     "text": [
      "/home/alex_johannes/octa_gnn/OCTA_gnn/generator/heterograph_from_vvg_generator.py:148: UserWarning: Any labeled images will be returned as a boolean array. Did you mean to use a boolean array?\n",
      "  region_labels = measure.label(morphology.remove_small_holes(seg, area_threshold=5, connectivity=1).astype(\"uint8\"), background=1)\n"
     ]
    },
    {
     "name": "stdout",
     "output_type": "stream",
     "text": [
      "2042 432\n",
      "9163\n",
      "273235 3253\n",
      "0117_OD\n"
     ]
    },
    {
     "name": "stderr",
     "output_type": "stream",
     "text": [
      "/home/alex_johannes/octa_gnn/OCTA_gnn/generator/heterograph_from_vvg_generator.py:148: UserWarning: Any labeled images will be returned as a boolean array. Did you mean to use a boolean array?\n",
      "  region_labels = measure.label(morphology.remove_small_holes(seg, area_threshold=5, connectivity=1).astype(\"uint8\"), background=1)\n"
     ]
    },
    {
     "name": "stdout",
     "output_type": "stream",
     "text": [
      "372 89\n",
      "2410\n",
      "162157 1128\n",
      "0118_OS\n"
     ]
    },
    {
     "name": "stderr",
     "output_type": "stream",
     "text": [
      "/home/alex_johannes/octa_gnn/OCTA_gnn/generator/heterograph_from_vvg_generator.py:148: UserWarning: Any labeled images will be returned as a boolean array. Did you mean to use a boolean array?\n",
      "  region_labels = measure.label(morphology.remove_small_holes(seg, area_threshold=5, connectivity=1).astype(\"uint8\"), background=1)\n"
     ]
    },
    {
     "name": "stdout",
     "output_type": "stream",
     "text": [
      "502 97\n",
      "3311\n",
      "182492 870\n",
      "0119_OD\n"
     ]
    },
    {
     "name": "stderr",
     "output_type": "stream",
     "text": [
      "/home/alex_johannes/octa_gnn/OCTA_gnn/generator/heterograph_from_vvg_generator.py:148: UserWarning: Any labeled images will be returned as a boolean array. Did you mean to use a boolean array?\n",
      "  region_labels = measure.label(morphology.remove_small_holes(seg, area_threshold=5, connectivity=1).astype(\"uint8\"), background=1)\n"
     ]
    },
    {
     "name": "stdout",
     "output_type": "stream",
     "text": [
      "1693 431\n",
      "7961\n",
      "259592 3732\n",
      "0120_OD\n"
     ]
    },
    {
     "name": "stderr",
     "output_type": "stream",
     "text": [
      "/home/alex_johannes/octa_gnn/OCTA_gnn/generator/heterograph_from_vvg_generator.py:148: UserWarning: Any labeled images will be returned as a boolean array. Did you mean to use a boolean array?\n",
      "  region_labels = measure.label(morphology.remove_small_holes(seg, area_threshold=5, connectivity=1).astype(\"uint8\"), background=1)\n"
     ]
    },
    {
     "name": "stdout",
     "output_type": "stream",
     "text": [
      "1812 370\n",
      "8416\n",
      "269540 3013\n",
      "0121_OS\n"
     ]
    },
    {
     "name": "stderr",
     "output_type": "stream",
     "text": [
      "/home/alex_johannes/octa_gnn/OCTA_gnn/generator/heterograph_from_vvg_generator.py:148: UserWarning: Any labeled images will be returned as a boolean array. Did you mean to use a boolean array?\n",
      "  region_labels = measure.label(morphology.remove_small_holes(seg, area_threshold=5, connectivity=1).astype(\"uint8\"), background=1)\n"
     ]
    },
    {
     "name": "stdout",
     "output_type": "stream",
     "text": [
      "1673 419\n",
      "7914\n",
      "261138 3905\n",
      "0122_OD\n"
     ]
    },
    {
     "name": "stderr",
     "output_type": "stream",
     "text": [
      "/home/alex_johannes/octa_gnn/OCTA_gnn/generator/heterograph_from_vvg_generator.py:148: UserWarning: Any labeled images will be returned as a boolean array. Did you mean to use a boolean array?\n",
      "  region_labels = measure.label(morphology.remove_small_holes(seg, area_threshold=5, connectivity=1).astype(\"uint8\"), background=1)\n"
     ]
    },
    {
     "name": "stdout",
     "output_type": "stream",
     "text": [
      "1447 301\n",
      "7364\n",
      "268898 2254\n",
      "0123_OD\n"
     ]
    },
    {
     "name": "stderr",
     "output_type": "stream",
     "text": [
      "/home/alex_johannes/octa_gnn/OCTA_gnn/generator/heterograph_from_vvg_generator.py:148: UserWarning: Any labeled images will be returned as a boolean array. Did you mean to use a boolean array?\n",
      "  region_labels = measure.label(morphology.remove_small_holes(seg, area_threshold=5, connectivity=1).astype(\"uint8\"), background=1)\n"
     ]
    },
    {
     "name": "stdout",
     "output_type": "stream",
     "text": [
      "2009 438\n",
      "9270\n",
      "281576 3558\n",
      "0123_OS\n"
     ]
    },
    {
     "name": "stderr",
     "output_type": "stream",
     "text": [
      "/home/alex_johannes/octa_gnn/OCTA_gnn/generator/heterograph_from_vvg_generator.py:148: UserWarning: Any labeled images will be returned as a boolean array. Did you mean to use a boolean array?\n",
      "  region_labels = measure.label(morphology.remove_small_holes(seg, area_threshold=5, connectivity=1).astype(\"uint8\"), background=1)\n"
     ]
    },
    {
     "name": "stdout",
     "output_type": "stream",
     "text": [
      "1972 458\n",
      "9110\n",
      "282662 3610\n",
      "0124_OD\n"
     ]
    },
    {
     "name": "stderr",
     "output_type": "stream",
     "text": [
      "/home/alex_johannes/octa_gnn/OCTA_gnn/generator/heterograph_from_vvg_generator.py:148: UserWarning: Any labeled images will be returned as a boolean array. Did you mean to use a boolean array?\n",
      "  region_labels = measure.label(morphology.remove_small_holes(seg, area_threshold=5, connectivity=1).astype(\"uint8\"), background=1)\n"
     ]
    },
    {
     "name": "stdout",
     "output_type": "stream",
     "text": [
      "1868 432\n",
      "8447\n",
      "278215 3271\n",
      "0125_OS\n"
     ]
    },
    {
     "name": "stderr",
     "output_type": "stream",
     "text": [
      "/home/alex_johannes/octa_gnn/OCTA_gnn/generator/heterograph_from_vvg_generator.py:148: UserWarning: Any labeled images will be returned as a boolean array. Did you mean to use a boolean array?\n",
      "  region_labels = measure.label(morphology.remove_small_holes(seg, area_threshold=5, connectivity=1).astype(\"uint8\"), background=1)\n"
     ]
    },
    {
     "name": "stdout",
     "output_type": "stream",
     "text": [
      "1568 360\n",
      "7806\n",
      "265322 2675\n",
      "0126_OS\n"
     ]
    },
    {
     "name": "stderr",
     "output_type": "stream",
     "text": [
      "/home/alex_johannes/octa_gnn/OCTA_gnn/generator/heterograph_from_vvg_generator.py:148: UserWarning: Any labeled images will be returned as a boolean array. Did you mean to use a boolean array?\n",
      "  region_labels = measure.label(morphology.remove_small_holes(seg, area_threshold=5, connectivity=1).astype(\"uint8\"), background=1)\n"
     ]
    },
    {
     "name": "stdout",
     "output_type": "stream",
     "text": [
      "1719 372\n",
      "8094\n",
      "269928 2678\n",
      "0127_OS\n"
     ]
    },
    {
     "name": "stderr",
     "output_type": "stream",
     "text": [
      "/home/alex_johannes/octa_gnn/OCTA_gnn/generator/heterograph_from_vvg_generator.py:148: UserWarning: Any labeled images will be returned as a boolean array. Did you mean to use a boolean array?\n",
      "  region_labels = measure.label(morphology.remove_small_holes(seg, area_threshold=5, connectivity=1).astype(\"uint8\"), background=1)\n"
     ]
    },
    {
     "name": "stdout",
     "output_type": "stream",
     "text": [
      "1692 376\n",
      "8217\n",
      "271880 3262\n",
      "0128_OS\n"
     ]
    },
    {
     "name": "stderr",
     "output_type": "stream",
     "text": [
      "/home/alex_johannes/octa_gnn/OCTA_gnn/generator/heterograph_from_vvg_generator.py:148: UserWarning: Any labeled images will be returned as a boolean array. Did you mean to use a boolean array?\n",
      "  region_labels = measure.label(morphology.remove_small_holes(seg, area_threshold=5, connectivity=1).astype(\"uint8\"), background=1)\n"
     ]
    },
    {
     "name": "stdout",
     "output_type": "stream",
     "text": [
      "1200 305\n",
      "6123\n",
      "226468 2962\n",
      "0129_OD\n"
     ]
    },
    {
     "name": "stderr",
     "output_type": "stream",
     "text": [
      "/home/alex_johannes/octa_gnn/OCTA_gnn/generator/heterograph_from_vvg_generator.py:148: UserWarning: Any labeled images will be returned as a boolean array. Did you mean to use a boolean array?\n",
      "  region_labels = measure.label(morphology.remove_small_holes(seg, area_threshold=5, connectivity=1).astype(\"uint8\"), background=1)\n"
     ]
    },
    {
     "name": "stdout",
     "output_type": "stream",
     "text": [
      "2144 607\n",
      "9238\n",
      "262886 4779\n",
      "0129_OS\n"
     ]
    },
    {
     "name": "stderr",
     "output_type": "stream",
     "text": [
      "/home/alex_johannes/octa_gnn/OCTA_gnn/generator/heterograph_from_vvg_generator.py:148: UserWarning: Any labeled images will be returned as a boolean array. Did you mean to use a boolean array?\n",
      "  region_labels = measure.label(morphology.remove_small_holes(seg, area_threshold=5, connectivity=1).astype(\"uint8\"), background=1)\n"
     ]
    },
    {
     "name": "stdout",
     "output_type": "stream",
     "text": [
      "1918 401\n",
      "8682\n",
      "265874 3197\n",
      "0646_OS\n"
     ]
    },
    {
     "name": "stderr",
     "output_type": "stream",
     "text": [
      "/home/alex_johannes/octa_gnn/OCTA_gnn/generator/heterograph_from_vvg_generator.py:148: UserWarning: Any labeled images will be returned as a boolean array. Did you mean to use a boolean array?\n",
      "  region_labels = measure.label(morphology.remove_small_holes(seg, area_threshold=5, connectivity=1).astype(\"uint8\"), background=1)\n"
     ]
    },
    {
     "name": "stdout",
     "output_type": "stream",
     "text": [
      "1771 474\n",
      "8304\n",
      "253896 3746\n",
      "0647_OD\n"
     ]
    },
    {
     "name": "stderr",
     "output_type": "stream",
     "text": [
      "/home/alex_johannes/octa_gnn/OCTA_gnn/generator/heterograph_from_vvg_generator.py:148: UserWarning: Any labeled images will be returned as a boolean array. Did you mean to use a boolean array?\n",
      "  region_labels = measure.label(morphology.remove_small_holes(seg, area_threshold=5, connectivity=1).astype(\"uint8\"), background=1)\n"
     ]
    },
    {
     "name": "stdout",
     "output_type": "stream",
     "text": [
      "1869 463\n",
      "8603\n",
      "261053 3961\n",
      "0648_OS\n"
     ]
    },
    {
     "name": "stderr",
     "output_type": "stream",
     "text": [
      "/home/alex_johannes/octa_gnn/OCTA_gnn/generator/heterograph_from_vvg_generator.py:148: UserWarning: Any labeled images will be returned as a boolean array. Did you mean to use a boolean array?\n",
      "  region_labels = measure.label(morphology.remove_small_holes(seg, area_threshold=5, connectivity=1).astype(\"uint8\"), background=1)\n"
     ]
    },
    {
     "name": "stdout",
     "output_type": "stream",
     "text": [
      "1523 327\n",
      "7509\n",
      "256435 2868\n",
      "0649_OS\n"
     ]
    },
    {
     "name": "stderr",
     "output_type": "stream",
     "text": [
      "/home/alex_johannes/octa_gnn/OCTA_gnn/generator/heterograph_from_vvg_generator.py:148: UserWarning: Any labeled images will be returned as a boolean array. Did you mean to use a boolean array?\n",
      "  region_labels = measure.label(morphology.remove_small_holes(seg, area_threshold=5, connectivity=1).astype(\"uint8\"), background=1)\n"
     ]
    },
    {
     "name": "stdout",
     "output_type": "stream",
     "text": [
      "495 122\n",
      "3201\n",
      "182448 1515\n",
      "0650_OS\n"
     ]
    },
    {
     "name": "stderr",
     "output_type": "stream",
     "text": [
      "/home/alex_johannes/octa_gnn/OCTA_gnn/generator/heterograph_from_vvg_generator.py:148: UserWarning: Any labeled images will be returned as a boolean array. Did you mean to use a boolean array?\n",
      "  region_labels = measure.label(morphology.remove_small_holes(seg, area_threshold=5, connectivity=1).astype(\"uint8\"), background=1)\n"
     ]
    },
    {
     "name": "stdout",
     "output_type": "stream",
     "text": [
      "1737 400\n",
      "8040\n",
      "269029 3027\n",
      "0651_OD\n"
     ]
    },
    {
     "name": "stderr",
     "output_type": "stream",
     "text": [
      "/home/alex_johannes/octa_gnn/OCTA_gnn/generator/heterograph_from_vvg_generator.py:148: UserWarning: Any labeled images will be returned as a boolean array. Did you mean to use a boolean array?\n",
      "  region_labels = measure.label(morphology.remove_small_holes(seg, area_threshold=5, connectivity=1).astype(\"uint8\"), background=1)\n"
     ]
    },
    {
     "name": "stdout",
     "output_type": "stream",
     "text": [
      "2136 461\n",
      "9411\n",
      "282592 3865\n",
      "0652_OD\n"
     ]
    },
    {
     "name": "stderr",
     "output_type": "stream",
     "text": [
      "/home/alex_johannes/octa_gnn/OCTA_gnn/generator/heterograph_from_vvg_generator.py:148: UserWarning: Any labeled images will be returned as a boolean array. Did you mean to use a boolean array?\n",
      "  region_labels = measure.label(morphology.remove_small_holes(seg, area_threshold=5, connectivity=1).astype(\"uint8\"), background=1)\n"
     ]
    },
    {
     "name": "stdout",
     "output_type": "stream",
     "text": [
      "1356 296\n",
      "7086\n",
      "256608 2374\n",
      "0653_OD\n"
     ]
    },
    {
     "name": "stderr",
     "output_type": "stream",
     "text": [
      "/home/alex_johannes/octa_gnn/OCTA_gnn/generator/heterograph_from_vvg_generator.py:148: UserWarning: Any labeled images will be returned as a boolean array. Did you mean to use a boolean array?\n",
      "  region_labels = measure.label(morphology.remove_small_holes(seg, area_threshold=5, connectivity=1).astype(\"uint8\"), background=1)\n"
     ]
    },
    {
     "name": "stdout",
     "output_type": "stream",
     "text": [
      "1747 418\n",
      "7965\n",
      "255765 3626\n",
      "0653_OS\n"
     ]
    },
    {
     "name": "stderr",
     "output_type": "stream",
     "text": [
      "/home/alex_johannes/octa_gnn/OCTA_gnn/generator/heterograph_from_vvg_generator.py:148: UserWarning: Any labeled images will be returned as a boolean array. Did you mean to use a boolean array?\n",
      "  region_labels = measure.label(morphology.remove_small_holes(seg, area_threshold=5, connectivity=1).astype(\"uint8\"), background=1)\n"
     ]
    },
    {
     "name": "stdout",
     "output_type": "stream",
     "text": [
      "1603 381\n",
      "7702\n",
      "266931 3041\n",
      "0654_OS\n"
     ]
    },
    {
     "name": "stderr",
     "output_type": "stream",
     "text": [
      "/home/alex_johannes/octa_gnn/OCTA_gnn/generator/heterograph_from_vvg_generator.py:148: UserWarning: Any labeled images will be returned as a boolean array. Did you mean to use a boolean array?\n",
      "  region_labels = measure.label(morphology.remove_small_holes(seg, area_threshold=5, connectivity=1).astype(\"uint8\"), background=1)\n"
     ]
    },
    {
     "name": "stdout",
     "output_type": "stream",
     "text": [
      "1788 415\n",
      "8445\n",
      "272138 4145\n",
      "0655_OD\n"
     ]
    },
    {
     "name": "stderr",
     "output_type": "stream",
     "text": [
      "/home/alex_johannes/octa_gnn/OCTA_gnn/generator/heterograph_from_vvg_generator.py:148: UserWarning: Any labeled images will be returned as a boolean array. Did you mean to use a boolean array?\n",
      "  region_labels = measure.label(morphology.remove_small_holes(seg, area_threshold=5, connectivity=1).astype(\"uint8\"), background=1)\n"
     ]
    },
    {
     "name": "stdout",
     "output_type": "stream",
     "text": [
      "872 199\n",
      "4970\n",
      "201598 2237\n",
      "0656_OD\n"
     ]
    },
    {
     "name": "stderr",
     "output_type": "stream",
     "text": [
      "/home/alex_johannes/octa_gnn/OCTA_gnn/generator/heterograph_from_vvg_generator.py:148: UserWarning: Any labeled images will be returned as a boolean array. Did you mean to use a boolean array?\n",
      "  region_labels = measure.label(morphology.remove_small_holes(seg, area_threshold=5, connectivity=1).astype(\"uint8\"), background=1)\n"
     ]
    },
    {
     "name": "stdout",
     "output_type": "stream",
     "text": [
      "1415 319\n",
      "6693\n",
      "247041 3235\n",
      "0656_OS\n"
     ]
    },
    {
     "name": "stderr",
     "output_type": "stream",
     "text": [
      "/home/alex_johannes/octa_gnn/OCTA_gnn/generator/heterograph_from_vvg_generator.py:148: UserWarning: Any labeled images will be returned as a boolean array. Did you mean to use a boolean array?\n",
      "  region_labels = measure.label(morphology.remove_small_holes(seg, area_threshold=5, connectivity=1).astype(\"uint8\"), background=1)\n"
     ]
    },
    {
     "name": "stdout",
     "output_type": "stream",
     "text": [
      "1373 316\n",
      "6688\n",
      "248772 3066\n",
      "0657_OS\n"
     ]
    },
    {
     "name": "stderr",
     "output_type": "stream",
     "text": [
      "/home/alex_johannes/octa_gnn/OCTA_gnn/generator/heterograph_from_vvg_generator.py:148: UserWarning: Any labeled images will be returned as a boolean array. Did you mean to use a boolean array?\n",
      "  region_labels = measure.label(morphology.remove_small_holes(seg, area_threshold=5, connectivity=1).astype(\"uint8\"), background=1)\n"
     ]
    },
    {
     "name": "stdout",
     "output_type": "stream",
     "text": [
      "1352 303\n",
      "6836\n",
      "255070 2598\n",
      "0658_OS\n"
     ]
    },
    {
     "name": "stderr",
     "output_type": "stream",
     "text": [
      "/home/alex_johannes/octa_gnn/OCTA_gnn/generator/heterograph_from_vvg_generator.py:148: UserWarning: Any labeled images will be returned as a boolean array. Did you mean to use a boolean array?\n",
      "  region_labels = measure.label(morphology.remove_small_holes(seg, area_threshold=5, connectivity=1).astype(\"uint8\"), background=1)\n"
     ]
    },
    {
     "name": "stdout",
     "output_type": "stream",
     "text": [
      "1580 396\n",
      "7694\n",
      "252753 3085\n",
      "0659_OD\n"
     ]
    },
    {
     "name": "stderr",
     "output_type": "stream",
     "text": [
      "/home/alex_johannes/octa_gnn/OCTA_gnn/generator/heterograph_from_vvg_generator.py:148: UserWarning: Any labeled images will be returned as a boolean array. Did you mean to use a boolean array?\n",
      "  region_labels = measure.label(morphology.remove_small_holes(seg, area_threshold=5, connectivity=1).astype(\"uint8\"), background=1)\n"
     ]
    },
    {
     "name": "stdout",
     "output_type": "stream",
     "text": [
      "1134 301\n",
      "6038\n",
      "222126 3329\n",
      "0660_OD\n"
     ]
    },
    {
     "name": "stderr",
     "output_type": "stream",
     "text": [
      "/home/alex_johannes/octa_gnn/OCTA_gnn/generator/heterograph_from_vvg_generator.py:148: UserWarning: Any labeled images will be returned as a boolean array. Did you mean to use a boolean array?\n",
      "  region_labels = measure.label(morphology.remove_small_holes(seg, area_threshold=5, connectivity=1).astype(\"uint8\"), background=1)\n"
     ]
    },
    {
     "name": "stdout",
     "output_type": "stream",
     "text": [
      "1687 335\n",
      "8054\n",
      "268154 2764\n",
      "0660_OS\n"
     ]
    },
    {
     "name": "stderr",
     "output_type": "stream",
     "text": [
      "/home/alex_johannes/octa_gnn/OCTA_gnn/generator/heterograph_from_vvg_generator.py:148: UserWarning: Any labeled images will be returned as a boolean array. Did you mean to use a boolean array?\n",
      "  region_labels = measure.label(morphology.remove_small_holes(seg, area_threshold=5, connectivity=1).astype(\"uint8\"), background=1)\n"
     ]
    },
    {
     "name": "stdout",
     "output_type": "stream",
     "text": [
      "1740 433\n",
      "8179\n",
      "263388 3735\n",
      "0661_OD\n"
     ]
    },
    {
     "name": "stderr",
     "output_type": "stream",
     "text": [
      "/home/alex_johannes/octa_gnn/OCTA_gnn/generator/heterograph_from_vvg_generator.py:148: UserWarning: Any labeled images will be returned as a boolean array. Did you mean to use a boolean array?\n",
      "  region_labels = measure.label(morphology.remove_small_holes(seg, area_threshold=5, connectivity=1).astype(\"uint8\"), background=1)\n"
     ]
    },
    {
     "name": "stdout",
     "output_type": "stream",
     "text": [
      "2068 428\n",
      "9411\n",
      "282076 3703\n",
      "0661_OS\n"
     ]
    },
    {
     "name": "stderr",
     "output_type": "stream",
     "text": [
      "/home/alex_johannes/octa_gnn/OCTA_gnn/generator/heterograph_from_vvg_generator.py:148: UserWarning: Any labeled images will be returned as a boolean array. Did you mean to use a boolean array?\n",
      "  region_labels = measure.label(morphology.remove_small_holes(seg, area_threshold=5, connectivity=1).astype(\"uint8\"), background=1)\n"
     ]
    },
    {
     "name": "stdout",
     "output_type": "stream",
     "text": [
      "2215 526\n",
      "9759\n",
      "277969 3907\n",
      "0662_OS\n"
     ]
    },
    {
     "name": "stderr",
     "output_type": "stream",
     "text": [
      "/home/alex_johannes/octa_gnn/OCTA_gnn/generator/heterograph_from_vvg_generator.py:148: UserWarning: Any labeled images will be returned as a boolean array. Did you mean to use a boolean array?\n",
      "  region_labels = measure.label(morphology.remove_small_holes(seg, area_threshold=5, connectivity=1).astype(\"uint8\"), background=1)\n"
     ]
    },
    {
     "name": "stdout",
     "output_type": "stream",
     "text": [
      "1947 439\n",
      "9129\n",
      "285301 3081\n",
      "0663_OS\n"
     ]
    },
    {
     "name": "stderr",
     "output_type": "stream",
     "text": [
      "/home/alex_johannes/octa_gnn/OCTA_gnn/generator/heterograph_from_vvg_generator.py:148: UserWarning: Any labeled images will be returned as a boolean array. Did you mean to use a boolean array?\n",
      "  region_labels = measure.label(morphology.remove_small_holes(seg, area_threshold=5, connectivity=1).astype(\"uint8\"), background=1)\n"
     ]
    },
    {
     "name": "stdout",
     "output_type": "stream",
     "text": [
      "1105 269\n",
      "5801\n",
      "235196 1970\n",
      "0664_OD\n"
     ]
    },
    {
     "name": "stderr",
     "output_type": "stream",
     "text": [
      "/home/alex_johannes/octa_gnn/OCTA_gnn/generator/heterograph_from_vvg_generator.py:148: UserWarning: Any labeled images will be returned as a boolean array. Did you mean to use a boolean array?\n",
      "  region_labels = measure.label(morphology.remove_small_holes(seg, area_threshold=5, connectivity=1).astype(\"uint8\"), background=1)\n"
     ]
    },
    {
     "name": "stdout",
     "output_type": "stream",
     "text": [
      "1783 405\n",
      "8456\n",
      "274204 3623\n",
      "0665_OS\n"
     ]
    },
    {
     "name": "stderr",
     "output_type": "stream",
     "text": [
      "/home/alex_johannes/octa_gnn/OCTA_gnn/generator/heterograph_from_vvg_generator.py:148: UserWarning: Any labeled images will be returned as a boolean array. Did you mean to use a boolean array?\n",
      "  region_labels = measure.label(morphology.remove_small_holes(seg, area_threshold=5, connectivity=1).astype(\"uint8\"), background=1)\n"
     ]
    },
    {
     "name": "stdout",
     "output_type": "stream",
     "text": [
      "1871 406\n",
      "8586\n",
      "268779 3705\n",
      "0666_OD\n"
     ]
    },
    {
     "name": "stderr",
     "output_type": "stream",
     "text": [
      "/home/alex_johannes/octa_gnn/OCTA_gnn/generator/heterograph_from_vvg_generator.py:148: UserWarning: Any labeled images will be returned as a boolean array. Did you mean to use a boolean array?\n",
      "  region_labels = measure.label(morphology.remove_small_holes(seg, area_threshold=5, connectivity=1).astype(\"uint8\"), background=1)\n"
     ]
    },
    {
     "name": "stdout",
     "output_type": "stream",
     "text": [
      "1673 386\n",
      "7911\n",
      "271252 3230\n",
      "0666_OS\n"
     ]
    },
    {
     "name": "stderr",
     "output_type": "stream",
     "text": [
      "/home/alex_johannes/octa_gnn/OCTA_gnn/generator/heterograph_from_vvg_generator.py:148: UserWarning: Any labeled images will be returned as a boolean array. Did you mean to use a boolean array?\n",
      "  region_labels = measure.label(morphology.remove_small_holes(seg, area_threshold=5, connectivity=1).astype(\"uint8\"), background=1)\n"
     ]
    },
    {
     "name": "stdout",
     "output_type": "stream",
     "text": [
      "1761 376\n",
      "8214\n",
      "267339 3476\n",
      "0667_OS\n"
     ]
    },
    {
     "name": "stderr",
     "output_type": "stream",
     "text": [
      "/home/alex_johannes/octa_gnn/OCTA_gnn/generator/heterograph_from_vvg_generator.py:148: UserWarning: Any labeled images will be returned as a boolean array. Did you mean to use a boolean array?\n",
      "  region_labels = measure.label(morphology.remove_small_holes(seg, area_threshold=5, connectivity=1).astype(\"uint8\"), background=1)\n"
     ]
    },
    {
     "name": "stdout",
     "output_type": "stream",
     "text": [
      "1620 386\n",
      "7955\n",
      "263374 3206\n",
      "0759_OS\n"
     ]
    },
    {
     "name": "stderr",
     "output_type": "stream",
     "text": [
      "/home/alex_johannes/octa_gnn/OCTA_gnn/generator/heterograph_from_vvg_generator.py:148: UserWarning: Any labeled images will be returned as a boolean array. Did you mean to use a boolean array?\n",
      "  region_labels = measure.label(morphology.remove_small_holes(seg, area_threshold=5, connectivity=1).astype(\"uint8\"), background=1)\n"
     ]
    },
    {
     "name": "stdout",
     "output_type": "stream",
     "text": [
      "2029 505\n",
      "9192\n",
      "274055 4166\n",
      "0760_OS\n"
     ]
    },
    {
     "name": "stderr",
     "output_type": "stream",
     "text": [
      "/home/alex_johannes/octa_gnn/OCTA_gnn/generator/heterograph_from_vvg_generator.py:148: UserWarning: Any labeled images will be returned as a boolean array. Did you mean to use a boolean array?\n",
      "  region_labels = measure.label(morphology.remove_small_holes(seg, area_threshold=5, connectivity=1).astype(\"uint8\"), background=1)\n"
     ]
    },
    {
     "name": "stdout",
     "output_type": "stream",
     "text": [
      "1671 384\n",
      "8024\n",
      "270956 2861\n",
      "0761_OS\n"
     ]
    },
    {
     "name": "stderr",
     "output_type": "stream",
     "text": [
      "/home/alex_johannes/octa_gnn/OCTA_gnn/generator/heterograph_from_vvg_generator.py:148: UserWarning: Any labeled images will be returned as a boolean array. Did you mean to use a boolean array?\n",
      "  region_labels = measure.label(morphology.remove_small_holes(seg, area_threshold=5, connectivity=1).astype(\"uint8\"), background=1)\n"
     ]
    },
    {
     "name": "stdout",
     "output_type": "stream",
     "text": [
      "1674 400\n",
      "7962\n",
      "271059 3741\n",
      "0762_OS\n"
     ]
    },
    {
     "name": "stderr",
     "output_type": "stream",
     "text": [
      "/home/alex_johannes/octa_gnn/OCTA_gnn/generator/heterograph_from_vvg_generator.py:148: UserWarning: Any labeled images will be returned as a boolean array. Did you mean to use a boolean array?\n",
      "  region_labels = measure.label(morphology.remove_small_holes(seg, area_threshold=5, connectivity=1).astype(\"uint8\"), background=1)\n"
     ]
    },
    {
     "name": "stdout",
     "output_type": "stream",
     "text": [
      "2083 527\n",
      "9156\n",
      "271829 4613\n",
      "0763_OS\n"
     ]
    },
    {
     "name": "stderr",
     "output_type": "stream",
     "text": [
      "/home/alex_johannes/octa_gnn/OCTA_gnn/generator/heterograph_from_vvg_generator.py:148: UserWarning: Any labeled images will be returned as a boolean array. Did you mean to use a boolean array?\n",
      "  region_labels = measure.label(morphology.remove_small_holes(seg, area_threshold=5, connectivity=1).astype(\"uint8\"), background=1)\n"
     ]
    },
    {
     "name": "stdout",
     "output_type": "stream",
     "text": [
      "1757 393\n",
      "8142\n",
      "270958 2968\n",
      "0764_OD\n"
     ]
    },
    {
     "name": "stderr",
     "output_type": "stream",
     "text": [
      "/home/alex_johannes/octa_gnn/OCTA_gnn/generator/heterograph_from_vvg_generator.py:148: UserWarning: Any labeled images will be returned as a boolean array. Did you mean to use a boolean array?\n",
      "  region_labels = measure.label(morphology.remove_small_holes(seg, area_threshold=5, connectivity=1).astype(\"uint8\"), background=1)\n"
     ]
    },
    {
     "name": "stdout",
     "output_type": "stream",
     "text": [
      "1225 305\n",
      "6274\n",
      "242371 2673\n",
      "0765_OS\n"
     ]
    },
    {
     "name": "stderr",
     "output_type": "stream",
     "text": [
      "/home/alex_johannes/octa_gnn/OCTA_gnn/generator/heterograph_from_vvg_generator.py:148: UserWarning: Any labeled images will be returned as a boolean array. Did you mean to use a boolean array?\n",
      "  region_labels = measure.label(morphology.remove_small_holes(seg, area_threshold=5, connectivity=1).astype(\"uint8\"), background=1)\n"
     ]
    },
    {
     "name": "stdout",
     "output_type": "stream",
     "text": [
      "1667 373\n",
      "8039\n",
      "269974 3510\n",
      "0766_OD\n"
     ]
    },
    {
     "name": "stderr",
     "output_type": "stream",
     "text": [
      "/home/alex_johannes/octa_gnn/OCTA_gnn/generator/heterograph_from_vvg_generator.py:148: UserWarning: Any labeled images will be returned as a boolean array. Did you mean to use a boolean array?\n",
      "  region_labels = measure.label(morphology.remove_small_holes(seg, area_threshold=5, connectivity=1).astype(\"uint8\"), background=1)\n"
     ]
    },
    {
     "name": "stdout",
     "output_type": "stream",
     "text": [
      "688 137\n",
      "4037\n",
      "201127 1230\n",
      "0767_OS\n"
     ]
    },
    {
     "name": "stderr",
     "output_type": "stream",
     "text": [
      "/home/alex_johannes/octa_gnn/OCTA_gnn/generator/heterograph_from_vvg_generator.py:148: UserWarning: Any labeled images will be returned as a boolean array. Did you mean to use a boolean array?\n",
      "  region_labels = measure.label(morphology.remove_small_holes(seg, area_threshold=5, connectivity=1).astype(\"uint8\"), background=1)\n"
     ]
    },
    {
     "name": "stdout",
     "output_type": "stream",
     "text": [
      "1567 374\n",
      "7656\n",
      "260863 2842\n",
      "0768_OD\n"
     ]
    },
    {
     "name": "stderr",
     "output_type": "stream",
     "text": [
      "/home/alex_johannes/octa_gnn/OCTA_gnn/generator/heterograph_from_vvg_generator.py:148: UserWarning: Any labeled images will be returned as a boolean array. Did you mean to use a boolean array?\n",
      "  region_labels = measure.label(morphology.remove_small_holes(seg, area_threshold=5, connectivity=1).astype(\"uint8\"), background=1)\n"
     ]
    },
    {
     "name": "stdout",
     "output_type": "stream",
     "text": [
      "1607 349\n",
      "7861\n",
      "269014 3312\n",
      "0768_OS\n"
     ]
    },
    {
     "name": "stderr",
     "output_type": "stream",
     "text": [
      "/home/alex_johannes/octa_gnn/OCTA_gnn/generator/heterograph_from_vvg_generator.py:148: UserWarning: Any labeled images will be returned as a boolean array. Did you mean to use a boolean array?\n",
      "  region_labels = measure.label(morphology.remove_small_holes(seg, area_threshold=5, connectivity=1).astype(\"uint8\"), background=1)\n"
     ]
    },
    {
     "name": "stdout",
     "output_type": "stream",
     "text": [
      "1759 442\n",
      "8361\n",
      "269945 3969\n",
      "0769_OS\n"
     ]
    },
    {
     "name": "stderr",
     "output_type": "stream",
     "text": [
      "/home/alex_johannes/octa_gnn/OCTA_gnn/generator/heterograph_from_vvg_generator.py:148: UserWarning: Any labeled images will be returned as a boolean array. Did you mean to use a boolean array?\n",
      "  region_labels = measure.label(morphology.remove_small_holes(seg, area_threshold=5, connectivity=1).astype(\"uint8\"), background=1)\n"
     ]
    },
    {
     "name": "stdout",
     "output_type": "stream",
     "text": [
      "478 86\n",
      "3119\n",
      "182990 852\n",
      "0770_OD\n"
     ]
    },
    {
     "name": "stderr",
     "output_type": "stream",
     "text": [
      "/home/alex_johannes/octa_gnn/OCTA_gnn/generator/heterograph_from_vvg_generator.py:148: UserWarning: Any labeled images will be returned as a boolean array. Did you mean to use a boolean array?\n",
      "  region_labels = measure.label(morphology.remove_small_holes(seg, area_threshold=5, connectivity=1).astype(\"uint8\"), background=1)\n"
     ]
    },
    {
     "name": "stdout",
     "output_type": "stream",
     "text": [
      "385 67\n",
      "2519\n",
      "179476 868\n",
      "0771_OS\n"
     ]
    },
    {
     "name": "stderr",
     "output_type": "stream",
     "text": [
      "/home/alex_johannes/octa_gnn/OCTA_gnn/generator/heterograph_from_vvg_generator.py:148: UserWarning: Any labeled images will be returned as a boolean array. Did you mean to use a boolean array?\n",
      "  region_labels = measure.label(morphology.remove_small_holes(seg, area_threshold=5, connectivity=1).astype(\"uint8\"), background=1)\n"
     ]
    },
    {
     "name": "stdout",
     "output_type": "stream",
     "text": [
      "1864 497\n",
      "8668\n",
      "263469 3899\n",
      "0772_OD\n"
     ]
    },
    {
     "name": "stderr",
     "output_type": "stream",
     "text": [
      "/home/alex_johannes/octa_gnn/OCTA_gnn/generator/heterograph_from_vvg_generator.py:148: UserWarning: Any labeled images will be returned as a boolean array. Did you mean to use a boolean array?\n",
      "  region_labels = measure.label(morphology.remove_small_holes(seg, area_threshold=5, connectivity=1).astype(\"uint8\"), background=1)\n"
     ]
    },
    {
     "name": "stdout",
     "output_type": "stream",
     "text": [
      "1965 442\n",
      "8652\n",
      "266632 3687\n",
      "0772_OS\n"
     ]
    },
    {
     "name": "stderr",
     "output_type": "stream",
     "text": [
      "/home/alex_johannes/octa_gnn/OCTA_gnn/generator/heterograph_from_vvg_generator.py:148: UserWarning: Any labeled images will be returned as a boolean array. Did you mean to use a boolean array?\n",
      "  region_labels = measure.label(morphology.remove_small_holes(seg, area_threshold=5, connectivity=1).astype(\"uint8\"), background=1)\n"
     ]
    },
    {
     "name": "stdout",
     "output_type": "stream",
     "text": [
      "1947 483\n",
      "8697\n",
      "274218 3415\n",
      "0773_OD\n"
     ]
    },
    {
     "name": "stderr",
     "output_type": "stream",
     "text": [
      "/home/alex_johannes/octa_gnn/OCTA_gnn/generator/heterograph_from_vvg_generator.py:148: UserWarning: Any labeled images will be returned as a boolean array. Did you mean to use a boolean array?\n",
      "  region_labels = measure.label(morphology.remove_small_holes(seg, area_threshold=5, connectivity=1).astype(\"uint8\"), background=1)\n"
     ]
    },
    {
     "name": "stdout",
     "output_type": "stream",
     "text": [
      "1904 472\n",
      "8745\n",
      "271125 3579\n",
      "0774_OD\n"
     ]
    },
    {
     "name": "stderr",
     "output_type": "stream",
     "text": [
      "/home/alex_johannes/octa_gnn/OCTA_gnn/generator/heterograph_from_vvg_generator.py:148: UserWarning: Any labeled images will be returned as a boolean array. Did you mean to use a boolean array?\n",
      "  region_labels = measure.label(morphology.remove_small_holes(seg, area_threshold=5, connectivity=1).astype(\"uint8\"), background=1)\n"
     ]
    },
    {
     "name": "stdout",
     "output_type": "stream",
     "text": [
      "1862 463\n",
      "8383\n",
      "262342 3982\n",
      "0775_OD\n"
     ]
    },
    {
     "name": "stderr",
     "output_type": "stream",
     "text": [
      "/home/alex_johannes/octa_gnn/OCTA_gnn/generator/heterograph_from_vvg_generator.py:148: UserWarning: Any labeled images will be returned as a boolean array. Did you mean to use a boolean array?\n",
      "  region_labels = measure.label(morphology.remove_small_holes(seg, area_threshold=5, connectivity=1).astype(\"uint8\"), background=1)\n"
     ]
    },
    {
     "name": "stdout",
     "output_type": "stream",
     "text": [
      "405 86\n",
      "2777\n",
      "175084 1401\n",
      "0776_OS\n"
     ]
    },
    {
     "name": "stderr",
     "output_type": "stream",
     "text": [
      "/home/alex_johannes/octa_gnn/OCTA_gnn/generator/heterograph_from_vvg_generator.py:148: UserWarning: Any labeled images will be returned as a boolean array. Did you mean to use a boolean array?\n",
      "  region_labels = measure.label(morphology.remove_small_holes(seg, area_threshold=5, connectivity=1).astype(\"uint8\"), background=1)\n"
     ]
    },
    {
     "name": "stdout",
     "output_type": "stream",
     "text": [
      "1946 436\n",
      "8949\n",
      "268389 3826\n",
      "0777_OD\n"
     ]
    },
    {
     "name": "stderr",
     "output_type": "stream",
     "text": [
      "/home/alex_johannes/octa_gnn/OCTA_gnn/generator/heterograph_from_vvg_generator.py:148: UserWarning: Any labeled images will be returned as a boolean array. Did you mean to use a boolean array?\n",
      "  region_labels = measure.label(morphology.remove_small_holes(seg, area_threshold=5, connectivity=1).astype(\"uint8\"), background=1)\n"
     ]
    },
    {
     "name": "stdout",
     "output_type": "stream",
     "text": [
      "964 226\n",
      "5483\n",
      "221666 1988\n",
      "0777_OS\n"
     ]
    },
    {
     "name": "stderr",
     "output_type": "stream",
     "text": [
      "/home/alex_johannes/octa_gnn/OCTA_gnn/generator/heterograph_from_vvg_generator.py:148: UserWarning: Any labeled images will be returned as a boolean array. Did you mean to use a boolean array?\n",
      "  region_labels = measure.label(morphology.remove_small_holes(seg, area_threshold=5, connectivity=1).astype(\"uint8\"), background=1)\n"
     ]
    },
    {
     "name": "stdout",
     "output_type": "stream",
     "text": [
      "705 176\n",
      "4172\n",
      "198111 1940\n",
      "0778_OD\n"
     ]
    },
    {
     "name": "stderr",
     "output_type": "stream",
     "text": [
      "/home/alex_johannes/octa_gnn/OCTA_gnn/generator/heterograph_from_vvg_generator.py:148: UserWarning: Any labeled images will be returned as a boolean array. Did you mean to use a boolean array?\n",
      "  region_labels = measure.label(morphology.remove_small_holes(seg, area_threshold=5, connectivity=1).astype(\"uint8\"), background=1)\n"
     ]
    },
    {
     "name": "stdout",
     "output_type": "stream",
     "text": [
      "1468 341\n",
      "7486\n",
      "265830 2931\n",
      "0779_OD\n"
     ]
    },
    {
     "name": "stderr",
     "output_type": "stream",
     "text": [
      "/home/alex_johannes/octa_gnn/OCTA_gnn/generator/heterograph_from_vvg_generator.py:148: UserWarning: Any labeled images will be returned as a boolean array. Did you mean to use a boolean array?\n",
      "  region_labels = measure.label(morphology.remove_small_holes(seg, area_threshold=5, connectivity=1).astype(\"uint8\"), background=1)\n"
     ]
    },
    {
     "name": "stdout",
     "output_type": "stream",
     "text": [
      "1343 328\n",
      "6866\n",
      "235830 3223\n",
      "0780_OD\n"
     ]
    },
    {
     "name": "stderr",
     "output_type": "stream",
     "text": [
      "/home/alex_johannes/octa_gnn/OCTA_gnn/generator/heterograph_from_vvg_generator.py:148: UserWarning: Any labeled images will be returned as a boolean array. Did you mean to use a boolean array?\n",
      "  region_labels = measure.label(morphology.remove_small_holes(seg, area_threshold=5, connectivity=1).astype(\"uint8\"), background=1)\n"
     ]
    },
    {
     "name": "stdout",
     "output_type": "stream",
     "text": [
      "1915 470\n",
      "8744\n",
      "272634 3928\n",
      "0780_OS\n"
     ]
    },
    {
     "name": "stderr",
     "output_type": "stream",
     "text": [
      "/home/alex_johannes/octa_gnn/OCTA_gnn/generator/heterograph_from_vvg_generator.py:148: UserWarning: Any labeled images will be returned as a boolean array. Did you mean to use a boolean array?\n",
      "  region_labels = measure.label(morphology.remove_small_holes(seg, area_threshold=5, connectivity=1).astype(\"uint8\"), background=1)\n"
     ]
    },
    {
     "name": "stdout",
     "output_type": "stream",
     "text": [
      "1659 361\n",
      "8015\n",
      "276345 2293\n",
      "0781_OD\n"
     ]
    },
    {
     "name": "stderr",
     "output_type": "stream",
     "text": [
      "/home/alex_johannes/octa_gnn/OCTA_gnn/generator/heterograph_from_vvg_generator.py:148: UserWarning: Any labeled images will be returned as a boolean array. Did you mean to use a boolean array?\n",
      "  region_labels = measure.label(morphology.remove_small_holes(seg, area_threshold=5, connectivity=1).astype(\"uint8\"), background=1)\n"
     ]
    },
    {
     "name": "stdout",
     "output_type": "stream",
     "text": [
      "1862 386\n",
      "8652\n",
      "276368 3231\n",
      "0045_OD\n"
     ]
    },
    {
     "name": "stderr",
     "output_type": "stream",
     "text": [
      "/home/alex_johannes/octa_gnn/OCTA_gnn/generator/heterograph_from_vvg_generator.py:148: UserWarning: Any labeled images will be returned as a boolean array. Did you mean to use a boolean array?\n",
      "  region_labels = measure.label(morphology.remove_small_holes(seg, area_threshold=5, connectivity=1).astype(\"uint8\"), background=1)\n"
     ]
    },
    {
     "name": "stdout",
     "output_type": "stream",
     "text": [
      "1937 527\n",
      "8996\n",
      "269632 4762\n",
      "0045_OS\n"
     ]
    },
    {
     "name": "stderr",
     "output_type": "stream",
     "text": [
      "/home/alex_johannes/octa_gnn/OCTA_gnn/generator/heterograph_from_vvg_generator.py:148: UserWarning: Any labeled images will be returned as a boolean array. Did you mean to use a boolean array?\n",
      "  region_labels = measure.label(morphology.remove_small_holes(seg, area_threshold=5, connectivity=1).astype(\"uint8\"), background=1)\n"
     ]
    },
    {
     "name": "stdout",
     "output_type": "stream",
     "text": [
      "1906 468\n",
      "8828\n",
      "275074 4101\n",
      "0046_OD\n"
     ]
    },
    {
     "name": "stderr",
     "output_type": "stream",
     "text": [
      "/home/alex_johannes/octa_gnn/OCTA_gnn/generator/heterograph_from_vvg_generator.py:148: UserWarning: Any labeled images will be returned as a boolean array. Did you mean to use a boolean array?\n",
      "  region_labels = measure.label(morphology.remove_small_holes(seg, area_threshold=5, connectivity=1).astype(\"uint8\"), background=1)\n"
     ]
    },
    {
     "name": "stdout",
     "output_type": "stream",
     "text": [
      "998 284\n",
      "5557\n",
      "221529 2549\n",
      "0047_OD\n"
     ]
    },
    {
     "name": "stderr",
     "output_type": "stream",
     "text": [
      "/home/alex_johannes/octa_gnn/OCTA_gnn/generator/heterograph_from_vvg_generator.py:148: UserWarning: Any labeled images will be returned as a boolean array. Did you mean to use a boolean array?\n",
      "  region_labels = measure.label(morphology.remove_small_holes(seg, area_threshold=5, connectivity=1).astype(\"uint8\"), background=1)\n"
     ]
    },
    {
     "name": "stdout",
     "output_type": "stream",
     "text": [
      "2035 466\n",
      "9069\n",
      "273051 3800\n",
      "0047_OS\n"
     ]
    },
    {
     "name": "stderr",
     "output_type": "stream",
     "text": [
      "/home/alex_johannes/octa_gnn/OCTA_gnn/generator/heterograph_from_vvg_generator.py:148: UserWarning: Any labeled images will be returned as a boolean array. Did you mean to use a boolean array?\n",
      "  region_labels = measure.label(morphology.remove_small_holes(seg, area_threshold=5, connectivity=1).astype(\"uint8\"), background=1)\n"
     ]
    },
    {
     "name": "stdout",
     "output_type": "stream",
     "text": [
      "1907 450\n",
      "8809\n",
      "277390 3111\n",
      "0048_OS\n"
     ]
    },
    {
     "name": "stderr",
     "output_type": "stream",
     "text": [
      "/home/alex_johannes/octa_gnn/OCTA_gnn/generator/heterograph_from_vvg_generator.py:148: UserWarning: Any labeled images will be returned as a boolean array. Did you mean to use a boolean array?\n",
      "  region_labels = measure.label(morphology.remove_small_holes(seg, area_threshold=5, connectivity=1).astype(\"uint8\"), background=1)\n"
     ]
    },
    {
     "name": "stdout",
     "output_type": "stream",
     "text": [
      "1846 389\n",
      "8595\n",
      "278286 3520\n",
      "0049_OD\n"
     ]
    },
    {
     "name": "stderr",
     "output_type": "stream",
     "text": [
      "/home/alex_johannes/octa_gnn/OCTA_gnn/generator/heterograph_from_vvg_generator.py:148: UserWarning: Any labeled images will be returned as a boolean array. Did you mean to use a boolean array?\n",
      "  region_labels = measure.label(morphology.remove_small_holes(seg, area_threshold=5, connectivity=1).astype(\"uint8\"), background=1)\n"
     ]
    },
    {
     "name": "stdout",
     "output_type": "stream",
     "text": [
      "2058 442\n",
      "9286\n",
      "281098 3630\n",
      "0049_OS\n"
     ]
    },
    {
     "name": "stderr",
     "output_type": "stream",
     "text": [
      "/home/alex_johannes/octa_gnn/OCTA_gnn/generator/heterograph_from_vvg_generator.py:148: UserWarning: Any labeled images will be returned as a boolean array. Did you mean to use a boolean array?\n",
      "  region_labels = measure.label(morphology.remove_small_holes(seg, area_threshold=5, connectivity=1).astype(\"uint8\"), background=1)\n"
     ]
    },
    {
     "name": "stdout",
     "output_type": "stream",
     "text": [
      "1982 456\n",
      "9158\n",
      "280463 3641\n",
      "0050_OD\n"
     ]
    },
    {
     "name": "stderr",
     "output_type": "stream",
     "text": [
      "/home/alex_johannes/octa_gnn/OCTA_gnn/generator/heterograph_from_vvg_generator.py:148: UserWarning: Any labeled images will be returned as a boolean array. Did you mean to use a boolean array?\n",
      "  region_labels = measure.label(morphology.remove_small_holes(seg, area_threshold=5, connectivity=1).astype(\"uint8\"), background=1)\n"
     ]
    },
    {
     "name": "stdout",
     "output_type": "stream",
     "text": [
      "2099 443\n",
      "9567\n",
      "288933 3259\n",
      "0050_OS\n"
     ]
    },
    {
     "name": "stderr",
     "output_type": "stream",
     "text": [
      "/home/alex_johannes/octa_gnn/OCTA_gnn/generator/heterograph_from_vvg_generator.py:148: UserWarning: Any labeled images will be returned as a boolean array. Did you mean to use a boolean array?\n",
      "  region_labels = measure.label(morphology.remove_small_holes(seg, area_threshold=5, connectivity=1).astype(\"uint8\"), background=1)\n"
     ]
    },
    {
     "name": "stdout",
     "output_type": "stream",
     "text": [
      "2155 540\n",
      "9830\n",
      "288657 3463\n",
      "0051_OD\n"
     ]
    },
    {
     "name": "stderr",
     "output_type": "stream",
     "text": [
      "/home/alex_johannes/octa_gnn/OCTA_gnn/generator/heterograph_from_vvg_generator.py:148: UserWarning: Any labeled images will be returned as a boolean array. Did you mean to use a boolean array?\n",
      "  region_labels = measure.label(morphology.remove_small_holes(seg, area_threshold=5, connectivity=1).astype(\"uint8\"), background=1)\n"
     ]
    },
    {
     "name": "stdout",
     "output_type": "stream",
     "text": [
      "463 92\n",
      "2820\n",
      "177539 898\n",
      "0051_OS\n"
     ]
    },
    {
     "name": "stderr",
     "output_type": "stream",
     "text": [
      "/home/alex_johannes/octa_gnn/OCTA_gnn/generator/heterograph_from_vvg_generator.py:148: UserWarning: Any labeled images will be returned as a boolean array. Did you mean to use a boolean array?\n",
      "  region_labels = measure.label(morphology.remove_small_holes(seg, area_threshold=5, connectivity=1).astype(\"uint8\"), background=1)\n"
     ]
    },
    {
     "name": "stdout",
     "output_type": "stream",
     "text": [
      "374 82\n",
      "2572\n",
      "165847 1186\n",
      "0052_OD\n"
     ]
    },
    {
     "name": "stderr",
     "output_type": "stream",
     "text": [
      "/home/alex_johannes/octa_gnn/OCTA_gnn/generator/heterograph_from_vvg_generator.py:148: UserWarning: Any labeled images will be returned as a boolean array. Did you mean to use a boolean array?\n",
      "  region_labels = measure.label(morphology.remove_small_holes(seg, area_threshold=5, connectivity=1).astype(\"uint8\"), background=1)\n"
     ]
    },
    {
     "name": "stdout",
     "output_type": "stream",
     "text": [
      "2037 446\n",
      "8982\n",
      "261349 3986\n",
      "0052_OS\n"
     ]
    },
    {
     "name": "stderr",
     "output_type": "stream",
     "text": [
      "/home/alex_johannes/octa_gnn/OCTA_gnn/generator/heterograph_from_vvg_generator.py:148: UserWarning: Any labeled images will be returned as a boolean array. Did you mean to use a boolean array?\n",
      "  region_labels = measure.label(morphology.remove_small_holes(seg, area_threshold=5, connectivity=1).astype(\"uint8\"), background=1)\n"
     ]
    },
    {
     "name": "stdout",
     "output_type": "stream",
     "text": [
      "2002 469\n",
      "9136\n",
      "272037 3509\n",
      "0053_OS\n"
     ]
    },
    {
     "name": "stderr",
     "output_type": "stream",
     "text": [
      "/home/alex_johannes/octa_gnn/OCTA_gnn/generator/heterograph_from_vvg_generator.py:148: UserWarning: Any labeled images will be returned as a boolean array. Did you mean to use a boolean array?\n",
      "  region_labels = measure.label(morphology.remove_small_holes(seg, area_threshold=5, connectivity=1).astype(\"uint8\"), background=1)\n"
     ]
    },
    {
     "name": "stdout",
     "output_type": "stream",
     "text": [
      "1665 356\n",
      "8029\n",
      "269458 2596\n",
      "0054_OD\n"
     ]
    },
    {
     "name": "stderr",
     "output_type": "stream",
     "text": [
      "/home/alex_johannes/octa_gnn/OCTA_gnn/generator/heterograph_from_vvg_generator.py:148: UserWarning: Any labeled images will be returned as a boolean array. Did you mean to use a boolean array?\n",
      "  region_labels = measure.label(morphology.remove_small_holes(seg, area_threshold=5, connectivity=1).astype(\"uint8\"), background=1)\n"
     ]
    },
    {
     "name": "stdout",
     "output_type": "stream",
     "text": [
      "2033 505\n",
      "9342\n",
      "276658 3725\n",
      "0055_OD\n"
     ]
    },
    {
     "name": "stderr",
     "output_type": "stream",
     "text": [
      "/home/alex_johannes/octa_gnn/OCTA_gnn/generator/heterograph_from_vvg_generator.py:148: UserWarning: Any labeled images will be returned as a boolean array. Did you mean to use a boolean array?\n",
      "  region_labels = measure.label(morphology.remove_small_holes(seg, area_threshold=5, connectivity=1).astype(\"uint8\"), background=1)\n"
     ]
    },
    {
     "name": "stdout",
     "output_type": "stream",
     "text": [
      "1848 432\n",
      "8317\n",
      "260795 3294\n",
      "0055_OS\n"
     ]
    },
    {
     "name": "stderr",
     "output_type": "stream",
     "text": [
      "/home/alex_johannes/octa_gnn/OCTA_gnn/generator/heterograph_from_vvg_generator.py:148: UserWarning: Any labeled images will be returned as a boolean array. Did you mean to use a boolean array?\n",
      "  region_labels = measure.label(morphology.remove_small_holes(seg, area_threshold=5, connectivity=1).astype(\"uint8\"), background=1)\n"
     ]
    },
    {
     "name": "stdout",
     "output_type": "stream",
     "text": [
      "1843 466\n",
      "8574\n",
      "269964 3587\n",
      "0056_OD\n"
     ]
    },
    {
     "name": "stderr",
     "output_type": "stream",
     "text": [
      "/home/alex_johannes/octa_gnn/OCTA_gnn/generator/heterograph_from_vvg_generator.py:148: UserWarning: Any labeled images will be returned as a boolean array. Did you mean to use a boolean array?\n",
      "  region_labels = measure.label(morphology.remove_small_holes(seg, area_threshold=5, connectivity=1).astype(\"uint8\"), background=1)\n"
     ]
    },
    {
     "name": "stdout",
     "output_type": "stream",
     "text": [
      "2012 428\n",
      "9152\n",
      "279941 3351\n",
      "0056_OS\n"
     ]
    },
    {
     "name": "stderr",
     "output_type": "stream",
     "text": [
      "/home/alex_johannes/octa_gnn/OCTA_gnn/generator/heterograph_from_vvg_generator.py:148: UserWarning: Any labeled images will be returned as a boolean array. Did you mean to use a boolean array?\n",
      "  region_labels = measure.label(morphology.remove_small_holes(seg, area_threshold=5, connectivity=1).astype(\"uint8\"), background=1)\n"
     ]
    },
    {
     "name": "stdout",
     "output_type": "stream",
     "text": [
      "2116 509\n",
      "9521\n",
      "280161 4096\n",
      "0057_OD\n"
     ]
    },
    {
     "name": "stderr",
     "output_type": "stream",
     "text": [
      "/home/alex_johannes/octa_gnn/OCTA_gnn/generator/heterograph_from_vvg_generator.py:148: UserWarning: Any labeled images will be returned as a boolean array. Did you mean to use a boolean array?\n",
      "  region_labels = measure.label(morphology.remove_small_holes(seg, area_threshold=5, connectivity=1).astype(\"uint8\"), background=1)\n"
     ]
    },
    {
     "name": "stdout",
     "output_type": "stream",
     "text": [
      "1450 320\n",
      "7043\n",
      "257795 2261\n",
      "0057_OS\n"
     ]
    },
    {
     "name": "stderr",
     "output_type": "stream",
     "text": [
      "/home/alex_johannes/octa_gnn/OCTA_gnn/generator/heterograph_from_vvg_generator.py:148: UserWarning: Any labeled images will be returned as a boolean array. Did you mean to use a boolean array?\n",
      "  region_labels = measure.label(morphology.remove_small_holes(seg, area_threshold=5, connectivity=1).astype(\"uint8\"), background=1)\n"
     ]
    },
    {
     "name": "stdout",
     "output_type": "stream",
     "text": [
      "1164 240\n",
      "5982\n",
      "239957 2071\n",
      "0271_OD\n"
     ]
    },
    {
     "name": "stderr",
     "output_type": "stream",
     "text": [
      "/home/alex_johannes/octa_gnn/OCTA_gnn/generator/heterograph_from_vvg_generator.py:148: UserWarning: Any labeled images will be returned as a boolean array. Did you mean to use a boolean array?\n",
      "  region_labels = measure.label(morphology.remove_small_holes(seg, area_threshold=5, connectivity=1).astype(\"uint8\"), background=1)\n"
     ]
    },
    {
     "name": "stdout",
     "output_type": "stream",
     "text": [
      "1685 381\n",
      "8002\n",
      "260542 3108\n",
      "0272_OD\n"
     ]
    },
    {
     "name": "stderr",
     "output_type": "stream",
     "text": [
      "/home/alex_johannes/octa_gnn/OCTA_gnn/generator/heterograph_from_vvg_generator.py:148: UserWarning: Any labeled images will be returned as a boolean array. Did you mean to use a boolean array?\n",
      "  region_labels = measure.label(morphology.remove_small_holes(seg, area_threshold=5, connectivity=1).astype(\"uint8\"), background=1)\n"
     ]
    },
    {
     "name": "stdout",
     "output_type": "stream",
     "text": [
      "1508 332\n",
      "7284\n",
      "261310 3290\n",
      "0272_OS\n"
     ]
    },
    {
     "name": "stderr",
     "output_type": "stream",
     "text": [
      "/home/alex_johannes/octa_gnn/OCTA_gnn/generator/heterograph_from_vvg_generator.py:148: UserWarning: Any labeled images will be returned as a boolean array. Did you mean to use a boolean array?\n",
      "  region_labels = measure.label(morphology.remove_small_holes(seg, area_threshold=5, connectivity=1).astype(\"uint8\"), background=1)\n"
     ]
    },
    {
     "name": "stdout",
     "output_type": "stream",
     "text": [
      "1858 416\n",
      "8606\n",
      "275061 3699\n",
      "0273_OD\n"
     ]
    },
    {
     "name": "stderr",
     "output_type": "stream",
     "text": [
      "/home/alex_johannes/octa_gnn/OCTA_gnn/generator/heterograph_from_vvg_generator.py:148: UserWarning: Any labeled images will be returned as a boolean array. Did you mean to use a boolean array?\n",
      "  region_labels = measure.label(morphology.remove_small_holes(seg, area_threshold=5, connectivity=1).astype(\"uint8\"), background=1)\n"
     ]
    },
    {
     "name": "stdout",
     "output_type": "stream",
     "text": [
      "2024 514\n",
      "8957\n",
      "271341 4009\n",
      "0273_OS\n"
     ]
    },
    {
     "name": "stderr",
     "output_type": "stream",
     "text": [
      "/home/alex_johannes/octa_gnn/OCTA_gnn/generator/heterograph_from_vvg_generator.py:148: UserWarning: Any labeled images will be returned as a boolean array. Did you mean to use a boolean array?\n",
      "  region_labels = measure.label(morphology.remove_small_holes(seg, area_threshold=5, connectivity=1).astype(\"uint8\"), background=1)\n"
     ]
    },
    {
     "name": "stdout",
     "output_type": "stream",
     "text": [
      "2030 467\n",
      "8860\n",
      "263596 3934\n",
      "0274_OD\n"
     ]
    },
    {
     "name": "stderr",
     "output_type": "stream",
     "text": [
      "/home/alex_johannes/octa_gnn/OCTA_gnn/generator/heterograph_from_vvg_generator.py:148: UserWarning: Any labeled images will be returned as a boolean array. Did you mean to use a boolean array?\n",
      "  region_labels = measure.label(morphology.remove_small_holes(seg, area_threshold=5, connectivity=1).astype(\"uint8\"), background=1)\n"
     ]
    },
    {
     "name": "stdout",
     "output_type": "stream",
     "text": [
      "1820 353\n",
      "8536\n",
      "279232 2855\n",
      "0274_OS\n"
     ]
    },
    {
     "name": "stderr",
     "output_type": "stream",
     "text": [
      "/home/alex_johannes/octa_gnn/OCTA_gnn/generator/heterograph_from_vvg_generator.py:148: UserWarning: Any labeled images will be returned as a boolean array. Did you mean to use a boolean array?\n",
      "  region_labels = measure.label(morphology.remove_small_holes(seg, area_threshold=5, connectivity=1).astype(\"uint8\"), background=1)\n"
     ]
    },
    {
     "name": "stdout",
     "output_type": "stream",
     "text": [
      "308 67\n",
      "2083\n",
      "126618 822\n",
      "0275_OS\n"
     ]
    },
    {
     "name": "stderr",
     "output_type": "stream",
     "text": [
      "/home/alex_johannes/octa_gnn/OCTA_gnn/generator/heterograph_from_vvg_generator.py:148: UserWarning: Any labeled images will be returned as a boolean array. Did you mean to use a boolean array?\n",
      "  region_labels = measure.label(morphology.remove_small_holes(seg, area_threshold=5, connectivity=1).astype(\"uint8\"), background=1)\n"
     ]
    },
    {
     "name": "stdout",
     "output_type": "stream",
     "text": [
      "686 143\n",
      "4065\n",
      "198178 1387\n",
      "0276_OD\n"
     ]
    },
    {
     "name": "stderr",
     "output_type": "stream",
     "text": [
      "/home/alex_johannes/octa_gnn/OCTA_gnn/generator/heterograph_from_vvg_generator.py:148: UserWarning: Any labeled images will be returned as a boolean array. Did you mean to use a boolean array?\n",
      "  region_labels = measure.label(morphology.remove_small_holes(seg, area_threshold=5, connectivity=1).astype(\"uint8\"), background=1)\n"
     ]
    },
    {
     "name": "stdout",
     "output_type": "stream",
     "text": [
      "521 109\n",
      "3302\n",
      "182570 1158\n",
      "0276_OS\n"
     ]
    },
    {
     "name": "stderr",
     "output_type": "stream",
     "text": [
      "/home/alex_johannes/octa_gnn/OCTA_gnn/generator/heterograph_from_vvg_generator.py:148: UserWarning: Any labeled images will be returned as a boolean array. Did you mean to use a boolean array?\n",
      "  region_labels = measure.label(morphology.remove_small_holes(seg, area_threshold=5, connectivity=1).astype(\"uint8\"), background=1)\n"
     ]
    },
    {
     "name": "stdout",
     "output_type": "stream",
     "text": [
      "608 154\n",
      "3874\n",
      "183601 1423\n",
      "0277_OD\n"
     ]
    },
    {
     "name": "stderr",
     "output_type": "stream",
     "text": [
      "/home/alex_johannes/octa_gnn/OCTA_gnn/generator/heterograph_from_vvg_generator.py:148: UserWarning: Any labeled images will be returned as a boolean array. Did you mean to use a boolean array?\n",
      "  region_labels = measure.label(morphology.remove_small_holes(seg, area_threshold=5, connectivity=1).astype(\"uint8\"), background=1)\n"
     ]
    },
    {
     "name": "stdout",
     "output_type": "stream",
     "text": [
      "1707 390\n",
      "8035\n",
      "259934 3550\n",
      "0277_OS\n"
     ]
    },
    {
     "name": "stderr",
     "output_type": "stream",
     "text": [
      "/home/alex_johannes/octa_gnn/OCTA_gnn/generator/heterograph_from_vvg_generator.py:148: UserWarning: Any labeled images will be returned as a boolean array. Did you mean to use a boolean array?\n",
      "  region_labels = measure.label(morphology.remove_small_holes(seg, area_threshold=5, connectivity=1).astype(\"uint8\"), background=1)\n"
     ]
    },
    {
     "name": "stdout",
     "output_type": "stream",
     "text": [
      "1979 461\n",
      "8960\n",
      "272812 3008\n",
      "0278_OD\n"
     ]
    },
    {
     "name": "stderr",
     "output_type": "stream",
     "text": [
      "/home/alex_johannes/octa_gnn/OCTA_gnn/generator/heterograph_from_vvg_generator.py:148: UserWarning: Any labeled images will be returned as a boolean array. Did you mean to use a boolean array?\n",
      "  region_labels = measure.label(morphology.remove_small_holes(seg, area_threshold=5, connectivity=1).astype(\"uint8\"), background=1)\n"
     ]
    },
    {
     "name": "stdout",
     "output_type": "stream",
     "text": [
      "1750 380\n",
      "8216\n",
      "267880 2977\n",
      "0279_OS\n"
     ]
    },
    {
     "name": "stderr",
     "output_type": "stream",
     "text": [
      "/home/alex_johannes/octa_gnn/OCTA_gnn/generator/heterograph_from_vvg_generator.py:148: UserWarning: Any labeled images will be returned as a boolean array. Did you mean to use a boolean array?\n",
      "  region_labels = measure.label(morphology.remove_small_holes(seg, area_threshold=5, connectivity=1).astype(\"uint8\"), background=1)\n"
     ]
    },
    {
     "name": "stdout",
     "output_type": "stream",
     "text": [
      "770 162\n",
      "4476\n",
      "215552 1221\n",
      "0280_OS\n"
     ]
    },
    {
     "name": "stderr",
     "output_type": "stream",
     "text": [
      "/home/alex_johannes/octa_gnn/OCTA_gnn/generator/heterograph_from_vvg_generator.py:148: UserWarning: Any labeled images will be returned as a boolean array. Did you mean to use a boolean array?\n",
      "  region_labels = measure.label(morphology.remove_small_holes(seg, area_threshold=5, connectivity=1).astype(\"uint8\"), background=1)\n"
     ]
    },
    {
     "name": "stdout",
     "output_type": "stream",
     "text": [
      "2000 485\n",
      "8945\n",
      "267186 3525\n",
      "0281_OD\n"
     ]
    },
    {
     "name": "stderr",
     "output_type": "stream",
     "text": [
      "/home/alex_johannes/octa_gnn/OCTA_gnn/generator/heterograph_from_vvg_generator.py:148: UserWarning: Any labeled images will be returned as a boolean array. Did you mean to use a boolean array?\n",
      "  region_labels = measure.label(morphology.remove_small_holes(seg, area_threshold=5, connectivity=1).astype(\"uint8\"), background=1)\n"
     ]
    },
    {
     "name": "stdout",
     "output_type": "stream",
     "text": [
      "689 211\n",
      "4174\n",
      "199390 2026\n",
      "0281_OS\n"
     ]
    },
    {
     "name": "stderr",
     "output_type": "stream",
     "text": [
      "/home/alex_johannes/octa_gnn/OCTA_gnn/generator/heterograph_from_vvg_generator.py:148: UserWarning: Any labeled images will be returned as a boolean array. Did you mean to use a boolean array?\n",
      "  region_labels = measure.label(morphology.remove_small_holes(seg, area_threshold=5, connectivity=1).astype(\"uint8\"), background=1)\n"
     ]
    },
    {
     "name": "stdout",
     "output_type": "stream",
     "text": [
      "506 95\n",
      "3276\n",
      "181812 1425\n",
      "0282_OS\n"
     ]
    },
    {
     "name": "stderr",
     "output_type": "stream",
     "text": [
      "/home/alex_johannes/octa_gnn/OCTA_gnn/generator/heterograph_from_vvg_generator.py:148: UserWarning: Any labeled images will be returned as a boolean array. Did you mean to use a boolean array?\n",
      "  region_labels = measure.label(morphology.remove_small_holes(seg, area_threshold=5, connectivity=1).astype(\"uint8\"), background=1)\n"
     ]
    },
    {
     "name": "stdout",
     "output_type": "stream",
     "text": [
      "1688 435\n",
      "7933\n",
      "265757 4251\n",
      "0283_OD\n"
     ]
    },
    {
     "name": "stderr",
     "output_type": "stream",
     "text": [
      "/home/alex_johannes/octa_gnn/OCTA_gnn/generator/heterograph_from_vvg_generator.py:148: UserWarning: Any labeled images will be returned as a boolean array. Did you mean to use a boolean array?\n",
      "  region_labels = measure.label(morphology.remove_small_holes(seg, area_threshold=5, connectivity=1).astype(\"uint8\"), background=1)\n"
     ]
    },
    {
     "name": "stdout",
     "output_type": "stream",
     "text": [
      "1430 297\n",
      "7069\n",
      "241473 2561\n",
      "0283_OS\n"
     ]
    },
    {
     "name": "stderr",
     "output_type": "stream",
     "text": [
      "/home/alex_johannes/octa_gnn/OCTA_gnn/generator/heterograph_from_vvg_generator.py:148: UserWarning: Any labeled images will be returned as a boolean array. Did you mean to use a boolean array?\n",
      "  region_labels = measure.label(morphology.remove_small_holes(seg, area_threshold=5, connectivity=1).astype(\"uint8\"), background=1)\n"
     ]
    },
    {
     "name": "stdout",
     "output_type": "stream",
     "text": [
      "1592 376\n",
      "7672\n",
      "247189 3835\n",
      "0284_OS\n"
     ]
    },
    {
     "name": "stderr",
     "output_type": "stream",
     "text": [
      "/home/alex_johannes/octa_gnn/OCTA_gnn/generator/heterograph_from_vvg_generator.py:148: UserWarning: Any labeled images will be returned as a boolean array. Did you mean to use a boolean array?\n",
      "  region_labels = measure.label(morphology.remove_small_holes(seg, area_threshold=5, connectivity=1).astype(\"uint8\"), background=1)\n"
     ]
    },
    {
     "name": "stdout",
     "output_type": "stream",
     "text": [
      "1389 322\n",
      "6822\n",
      "258420 2964\n",
      "0285_OD\n"
     ]
    },
    {
     "name": "stderr",
     "output_type": "stream",
     "text": [
      "/home/alex_johannes/octa_gnn/OCTA_gnn/generator/heterograph_from_vvg_generator.py:148: UserWarning: Any labeled images will be returned as a boolean array. Did you mean to use a boolean array?\n",
      "  region_labels = measure.label(morphology.remove_small_holes(seg, area_threshold=5, connectivity=1).astype(\"uint8\"), background=1)\n"
     ]
    },
    {
     "name": "stdout",
     "output_type": "stream",
     "text": [
      "1976 410\n",
      "8990\n",
      "277709 3286\n",
      "0286_OD\n"
     ]
    },
    {
     "name": "stderr",
     "output_type": "stream",
     "text": [
      "/home/alex_johannes/octa_gnn/OCTA_gnn/generator/heterograph_from_vvg_generator.py:148: UserWarning: Any labeled images will be returned as a boolean array. Did you mean to use a boolean array?\n",
      "  region_labels = measure.label(morphology.remove_small_holes(seg, area_threshold=5, connectivity=1).astype(\"uint8\"), background=1)\n"
     ]
    },
    {
     "name": "stdout",
     "output_type": "stream",
     "text": [
      "1938 413\n",
      "9092\n",
      "286801 2614\n",
      "0286_OS\n"
     ]
    },
    {
     "name": "stderr",
     "output_type": "stream",
     "text": [
      "/home/alex_johannes/octa_gnn/OCTA_gnn/generator/heterograph_from_vvg_generator.py:148: UserWarning: Any labeled images will be returned as a boolean array. Did you mean to use a boolean array?\n",
      "  region_labels = measure.label(morphology.remove_small_holes(seg, area_threshold=5, connectivity=1).astype(\"uint8\"), background=1)\n"
     ]
    },
    {
     "name": "stdout",
     "output_type": "stream",
     "text": [
      "1938 456\n",
      "9199\n",
      "283255 3291\n",
      "0426_OD\n"
     ]
    },
    {
     "name": "stderr",
     "output_type": "stream",
     "text": [
      "/home/alex_johannes/octa_gnn/OCTA_gnn/generator/heterograph_from_vvg_generator.py:148: UserWarning: Any labeled images will be returned as a boolean array. Did you mean to use a boolean array?\n",
      "  region_labels = measure.label(morphology.remove_small_holes(seg, area_threshold=5, connectivity=1).astype(\"uint8\"), background=1)\n"
     ]
    },
    {
     "name": "stdout",
     "output_type": "stream",
     "text": [
      "1766 402\n",
      "8116\n",
      "264231 3041\n",
      "0426_OS\n"
     ]
    },
    {
     "name": "stderr",
     "output_type": "stream",
     "text": [
      "/home/alex_johannes/octa_gnn/OCTA_gnn/generator/heterograph_from_vvg_generator.py:148: UserWarning: Any labeled images will be returned as a boolean array. Did you mean to use a boolean array?\n",
      "  region_labels = measure.label(morphology.remove_small_holes(seg, area_threshold=5, connectivity=1).astype(\"uint8\"), background=1)\n"
     ]
    },
    {
     "name": "stdout",
     "output_type": "stream",
     "text": [
      "1676 413\n",
      "7973\n",
      "256303 3573\n",
      "0427_OD\n"
     ]
    },
    {
     "name": "stderr",
     "output_type": "stream",
     "text": [
      "/home/alex_johannes/octa_gnn/OCTA_gnn/generator/heterograph_from_vvg_generator.py:148: UserWarning: Any labeled images will be returned as a boolean array. Did you mean to use a boolean array?\n",
      "  region_labels = measure.label(morphology.remove_small_holes(seg, area_threshold=5, connectivity=1).astype(\"uint8\"), background=1)\n"
     ]
    },
    {
     "name": "stdout",
     "output_type": "stream",
     "text": [
      "1856 389\n",
      "8595\n",
      "276224 3158\n",
      "0428_OD\n"
     ]
    },
    {
     "name": "stderr",
     "output_type": "stream",
     "text": [
      "/home/alex_johannes/octa_gnn/OCTA_gnn/generator/heterograph_from_vvg_generator.py:148: UserWarning: Any labeled images will be returned as a boolean array. Did you mean to use a boolean array?\n",
      "  region_labels = measure.label(morphology.remove_small_holes(seg, area_threshold=5, connectivity=1).astype(\"uint8\"), background=1)\n",
      "/home/alex_johannes/octa_gnn/OCTA_gnn/.venv/lib/python3.10/site-packages/skimage/measure/_regionprops.py:647: RuntimeWarning: invalid value encountered in scalar divide\n",
      "  tuple(M[_get_element(axis)] / M0 for axis in range(self._ndim)))\n"
     ]
    },
    {
     "name": "stdout",
     "output_type": "stream",
     "text": [
      "941 231\n",
      "5099\n",
      "203860 2027\n",
      "0429_OS\n"
     ]
    },
    {
     "name": "stderr",
     "output_type": "stream",
     "text": [
      "/home/alex_johannes/octa_gnn/OCTA_gnn/generator/heterograph_from_vvg_generator.py:148: UserWarning: Any labeled images will be returned as a boolean array. Did you mean to use a boolean array?\n",
      "  region_labels = measure.label(morphology.remove_small_holes(seg, area_threshold=5, connectivity=1).astype(\"uint8\"), background=1)\n"
     ]
    },
    {
     "name": "stdout",
     "output_type": "stream",
     "text": [
      "746 191\n",
      "4285\n",
      "202843 1729\n",
      "0430_OS\n"
     ]
    },
    {
     "name": "stderr",
     "output_type": "stream",
     "text": [
      "/home/alex_johannes/octa_gnn/OCTA_gnn/generator/heterograph_from_vvg_generator.py:148: UserWarning: Any labeled images will be returned as a boolean array. Did you mean to use a boolean array?\n",
      "  region_labels = measure.label(morphology.remove_small_holes(seg, area_threshold=5, connectivity=1).astype(\"uint8\"), background=1)\n"
     ]
    },
    {
     "name": "stdout",
     "output_type": "stream",
     "text": [
      "896 234\n",
      "5045\n",
      "219171 2160\n",
      "0431_OD\n"
     ]
    },
    {
     "name": "stderr",
     "output_type": "stream",
     "text": [
      "/home/alex_johannes/octa_gnn/OCTA_gnn/generator/heterograph_from_vvg_generator.py:148: UserWarning: Any labeled images will be returned as a boolean array. Did you mean to use a boolean array?\n",
      "  region_labels = measure.label(morphology.remove_small_holes(seg, area_threshold=5, connectivity=1).astype(\"uint8\"), background=1)\n"
     ]
    },
    {
     "name": "stdout",
     "output_type": "stream",
     "text": [
      "1952 391\n",
      "8761\n",
      "272263 3226\n",
      "0431_OS\n"
     ]
    },
    {
     "name": "stderr",
     "output_type": "stream",
     "text": [
      "/home/alex_johannes/octa_gnn/OCTA_gnn/generator/heterograph_from_vvg_generator.py:148: UserWarning: Any labeled images will be returned as a boolean array. Did you mean to use a boolean array?\n",
      "  region_labels = measure.label(morphology.remove_small_holes(seg, area_threshold=5, connectivity=1).astype(\"uint8\"), background=1)\n"
     ]
    },
    {
     "name": "stdout",
     "output_type": "stream",
     "text": [
      "1096 240\n",
      "5909\n",
      "244793 2633\n",
      "0432_OD\n"
     ]
    },
    {
     "name": "stderr",
     "output_type": "stream",
     "text": [
      "/home/alex_johannes/octa_gnn/OCTA_gnn/generator/heterograph_from_vvg_generator.py:148: UserWarning: Any labeled images will be returned as a boolean array. Did you mean to use a boolean array?\n",
      "  region_labels = measure.label(morphology.remove_small_holes(seg, area_threshold=5, connectivity=1).astype(\"uint8\"), background=1)\n"
     ]
    },
    {
     "name": "stdout",
     "output_type": "stream",
     "text": [
      "631 150\n",
      "3998\n",
      "207202 1927\n",
      "0432_OS\n"
     ]
    },
    {
     "name": "stderr",
     "output_type": "stream",
     "text": [
      "/home/alex_johannes/octa_gnn/OCTA_gnn/generator/heterograph_from_vvg_generator.py:148: UserWarning: Any labeled images will be returned as a boolean array. Did you mean to use a boolean array?\n",
      "  region_labels = measure.label(morphology.remove_small_holes(seg, area_threshold=5, connectivity=1).astype(\"uint8\"), background=1)\n"
     ]
    },
    {
     "name": "stdout",
     "output_type": "stream",
     "text": [
      "1441 343\n",
      "7212\n",
      "255873 3077\n",
      "0433_OD\n"
     ]
    },
    {
     "name": "stderr",
     "output_type": "stream",
     "text": [
      "/home/alex_johannes/octa_gnn/OCTA_gnn/generator/heterograph_from_vvg_generator.py:148: UserWarning: Any labeled images will be returned as a boolean array. Did you mean to use a boolean array?\n",
      "  region_labels = measure.label(morphology.remove_small_holes(seg, area_threshold=5, connectivity=1).astype(\"uint8\"), background=1)\n"
     ]
    },
    {
     "name": "stdout",
     "output_type": "stream",
     "text": [
      "1675 384\n",
      "7916\n",
      "264820 3091\n",
      "0434_OD\n"
     ]
    },
    {
     "name": "stderr",
     "output_type": "stream",
     "text": [
      "/home/alex_johannes/octa_gnn/OCTA_gnn/generator/heterograph_from_vvg_generator.py:148: UserWarning: Any labeled images will be returned as a boolean array. Did you mean to use a boolean array?\n",
      "  region_labels = measure.label(morphology.remove_small_holes(seg, area_threshold=5, connectivity=1).astype(\"uint8\"), background=1)\n"
     ]
    },
    {
     "name": "stdout",
     "output_type": "stream",
     "text": [
      "1838 399\n",
      "8522\n",
      "270870 3937\n",
      "0435_OS\n"
     ]
    },
    {
     "name": "stderr",
     "output_type": "stream",
     "text": [
      "/home/alex_johannes/octa_gnn/OCTA_gnn/generator/heterograph_from_vvg_generator.py:148: UserWarning: Any labeled images will be returned as a boolean array. Did you mean to use a boolean array?\n",
      "  region_labels = measure.label(morphology.remove_small_holes(seg, area_threshold=5, connectivity=1).astype(\"uint8\"), background=1)\n"
     ]
    },
    {
     "name": "stdout",
     "output_type": "stream",
     "text": [
      "1700 400\n",
      "8181\n",
      "267315 3211\n",
      "0436_OD\n"
     ]
    },
    {
     "name": "stderr",
     "output_type": "stream",
     "text": [
      "/home/alex_johannes/octa_gnn/OCTA_gnn/generator/heterograph_from_vvg_generator.py:148: UserWarning: Any labeled images will be returned as a boolean array. Did you mean to use a boolean array?\n",
      "  region_labels = measure.label(morphology.remove_small_holes(seg, area_threshold=5, connectivity=1).astype(\"uint8\"), background=1)\n"
     ]
    },
    {
     "name": "stdout",
     "output_type": "stream",
     "text": [
      "2001 417\n",
      "9109\n",
      "275826 3202\n",
      "0437_OD\n"
     ]
    },
    {
     "name": "stderr",
     "output_type": "stream",
     "text": [
      "/home/alex_johannes/octa_gnn/OCTA_gnn/generator/heterograph_from_vvg_generator.py:148: UserWarning: Any labeled images will be returned as a boolean array. Did you mean to use a boolean array?\n",
      "  region_labels = measure.label(morphology.remove_small_holes(seg, area_threshold=5, connectivity=1).astype(\"uint8\"), background=1)\n"
     ]
    },
    {
     "name": "stdout",
     "output_type": "stream",
     "text": [
      "1809 428\n",
      "8230\n",
      "257890 3647\n",
      "0437_OS\n"
     ]
    },
    {
     "name": "stderr",
     "output_type": "stream",
     "text": [
      "/home/alex_johannes/octa_gnn/OCTA_gnn/generator/heterograph_from_vvg_generator.py:148: UserWarning: Any labeled images will be returned as a boolean array. Did you mean to use a boolean array?\n",
      "  region_labels = measure.label(morphology.remove_small_holes(seg, area_threshold=5, connectivity=1).astype(\"uint8\"), background=1)\n"
     ]
    },
    {
     "name": "stdout",
     "output_type": "stream",
     "text": [
      "1955 517\n",
      "8524\n",
      "247880 4632\n",
      "0438_OD\n"
     ]
    },
    {
     "name": "stderr",
     "output_type": "stream",
     "text": [
      "/home/alex_johannes/octa_gnn/OCTA_gnn/generator/heterograph_from_vvg_generator.py:148: UserWarning: Any labeled images will be returned as a boolean array. Did you mean to use a boolean array?\n",
      "  region_labels = measure.label(morphology.remove_small_holes(seg, area_threshold=5, connectivity=1).astype(\"uint8\"), background=1)\n"
     ]
    },
    {
     "name": "stdout",
     "output_type": "stream",
     "text": [
      "1994 435\n",
      "9088\n",
      "274590 3202\n",
      "0438_OS\n"
     ]
    },
    {
     "name": "stderr",
     "output_type": "stream",
     "text": [
      "/home/alex_johannes/octa_gnn/OCTA_gnn/generator/heterograph_from_vvg_generator.py:148: UserWarning: Any labeled images will be returned as a boolean array. Did you mean to use a boolean array?\n",
      "  region_labels = measure.label(morphology.remove_small_holes(seg, area_threshold=5, connectivity=1).astype(\"uint8\"), background=1)\n"
     ]
    },
    {
     "name": "stdout",
     "output_type": "stream",
     "text": [
      "1910 507\n",
      "8877\n",
      "262197 4425\n",
      "0439_OD\n"
     ]
    },
    {
     "name": "stderr",
     "output_type": "stream",
     "text": [
      "/home/alex_johannes/octa_gnn/OCTA_gnn/generator/heterograph_from_vvg_generator.py:148: UserWarning: Any labeled images will be returned as a boolean array. Did you mean to use a boolean array?\n",
      "  region_labels = measure.label(morphology.remove_small_holes(seg, area_threshold=5, connectivity=1).astype(\"uint8\"), background=1)\n"
     ]
    },
    {
     "name": "stdout",
     "output_type": "stream",
     "text": [
      "799 196\n",
      "4576\n",
      "217362 1816\n",
      "0439_OS\n"
     ]
    },
    {
     "name": "stderr",
     "output_type": "stream",
     "text": [
      "/home/alex_johannes/octa_gnn/OCTA_gnn/generator/heterograph_from_vvg_generator.py:148: UserWarning: Any labeled images will be returned as a boolean array. Did you mean to use a boolean array?\n",
      "  region_labels = measure.label(morphology.remove_small_holes(seg, area_threshold=5, connectivity=1).astype(\"uint8\"), background=1)\n"
     ]
    },
    {
     "name": "stdout",
     "output_type": "stream",
     "text": [
      "1154 272\n",
      "5975\n",
      "252782 2457\n",
      "0440_OD\n"
     ]
    },
    {
     "name": "stderr",
     "output_type": "stream",
     "text": [
      "/home/alex_johannes/octa_gnn/OCTA_gnn/generator/heterograph_from_vvg_generator.py:148: UserWarning: Any labeled images will be returned as a boolean array. Did you mean to use a boolean array?\n",
      "  region_labels = measure.label(morphology.remove_small_holes(seg, area_threshold=5, connectivity=1).astype(\"uint8\"), background=1)\n"
     ]
    },
    {
     "name": "stdout",
     "output_type": "stream",
     "text": [
      "1809 422\n",
      "8649\n",
      "267349 3683\n",
      "0440_OS\n"
     ]
    },
    {
     "name": "stderr",
     "output_type": "stream",
     "text": [
      "/home/alex_johannes/octa_gnn/OCTA_gnn/generator/heterograph_from_vvg_generator.py:148: UserWarning: Any labeled images will be returned as a boolean array. Did you mean to use a boolean array?\n",
      "  region_labels = measure.label(morphology.remove_small_holes(seg, area_threshold=5, connectivity=1).astype(\"uint8\"), background=1)\n"
     ]
    },
    {
     "name": "stdout",
     "output_type": "stream",
     "text": [
      "1745 424\n",
      "8355\n",
      "263667 3332\n",
      "0376_OD\n"
     ]
    },
    {
     "name": "stderr",
     "output_type": "stream",
     "text": [
      "/home/alex_johannes/octa_gnn/OCTA_gnn/generator/heterograph_from_vvg_generator.py:148: UserWarning: Any labeled images will be returned as a boolean array. Did you mean to use a boolean array?\n",
      "  region_labels = measure.label(morphology.remove_small_holes(seg, area_threshold=5, connectivity=1).astype(\"uint8\"), background=1)\n"
     ]
    },
    {
     "name": "stdout",
     "output_type": "stream",
     "text": [
      "1409 355\n",
      "7008\n",
      "252864 3084\n",
      "0377_OD\n"
     ]
    },
    {
     "name": "stderr",
     "output_type": "stream",
     "text": [
      "/home/alex_johannes/octa_gnn/OCTA_gnn/generator/heterograph_from_vvg_generator.py:148: UserWarning: Any labeled images will be returned as a boolean array. Did you mean to use a boolean array?\n",
      "  region_labels = measure.label(morphology.remove_small_holes(seg, area_threshold=5, connectivity=1).astype(\"uint8\"), background=1)\n"
     ]
    },
    {
     "name": "stdout",
     "output_type": "stream",
     "text": [
      "1467 368\n",
      "7181\n",
      "256123 3158\n",
      "0378_OD\n"
     ]
    },
    {
     "name": "stderr",
     "output_type": "stream",
     "text": [
      "/home/alex_johannes/octa_gnn/OCTA_gnn/generator/heterograph_from_vvg_generator.py:148: UserWarning: Any labeled images will be returned as a boolean array. Did you mean to use a boolean array?\n",
      "  region_labels = measure.label(morphology.remove_small_holes(seg, area_threshold=5, connectivity=1).astype(\"uint8\"), background=1)\n"
     ]
    },
    {
     "name": "stdout",
     "output_type": "stream",
     "text": [
      "1732 397\n",
      "8340\n",
      "270076 3566\n",
      "0379_OS\n"
     ]
    },
    {
     "name": "stderr",
     "output_type": "stream",
     "text": [
      "/home/alex_johannes/octa_gnn/OCTA_gnn/generator/heterograph_from_vvg_generator.py:148: UserWarning: Any labeled images will be returned as a boolean array. Did you mean to use a boolean array?\n",
      "  region_labels = measure.label(morphology.remove_small_holes(seg, area_threshold=5, connectivity=1).astype(\"uint8\"), background=1)\n"
     ]
    },
    {
     "name": "stdout",
     "output_type": "stream",
     "text": [
      "1555 395\n",
      "7331\n",
      "259881 3748\n",
      "0380_OD\n"
     ]
    },
    {
     "name": "stderr",
     "output_type": "stream",
     "text": [
      "/home/alex_johannes/octa_gnn/OCTA_gnn/generator/heterograph_from_vvg_generator.py:148: UserWarning: Any labeled images will be returned as a boolean array. Did you mean to use a boolean array?\n",
      "  region_labels = measure.label(morphology.remove_small_holes(seg, area_threshold=5, connectivity=1).astype(\"uint8\"), background=1)\n"
     ]
    },
    {
     "name": "stdout",
     "output_type": "stream",
     "text": [
      "1774 370\n",
      "8252\n",
      "268779 2349\n",
      "0380_OS\n"
     ]
    },
    {
     "name": "stderr",
     "output_type": "stream",
     "text": [
      "/home/alex_johannes/octa_gnn/OCTA_gnn/generator/heterograph_from_vvg_generator.py:148: UserWarning: Any labeled images will be returned as a boolean array. Did you mean to use a boolean array?\n",
      "  region_labels = measure.label(morphology.remove_small_holes(seg, area_threshold=5, connectivity=1).astype(\"uint8\"), background=1)\n"
     ]
    },
    {
     "name": "stdout",
     "output_type": "stream",
     "text": [
      "1818 419\n",
      "8252\n",
      "264657 3405\n",
      "0381_OD\n"
     ]
    },
    {
     "name": "stderr",
     "output_type": "stream",
     "text": [
      "/home/alex_johannes/octa_gnn/OCTA_gnn/generator/heterograph_from_vvg_generator.py:148: UserWarning: Any labeled images will be returned as a boolean array. Did you mean to use a boolean array?\n",
      "  region_labels = measure.label(morphology.remove_small_holes(seg, area_threshold=5, connectivity=1).astype(\"uint8\"), background=1)\n"
     ]
    },
    {
     "name": "stdout",
     "output_type": "stream",
     "text": [
      "1634 379\n",
      "8030\n",
      "266160 2584\n",
      "0381_OS\n"
     ]
    },
    {
     "name": "stderr",
     "output_type": "stream",
     "text": [
      "/home/alex_johannes/octa_gnn/OCTA_gnn/generator/heterograph_from_vvg_generator.py:148: UserWarning: Any labeled images will be returned as a boolean array. Did you mean to use a boolean array?\n",
      "  region_labels = measure.label(morphology.remove_small_holes(seg, area_threshold=5, connectivity=1).astype(\"uint8\"), background=1)\n"
     ]
    },
    {
     "name": "stdout",
     "output_type": "stream",
     "text": [
      "1806 349\n",
      "8547\n",
      "282767 2917\n",
      "0382_OD\n"
     ]
    },
    {
     "name": "stderr",
     "output_type": "stream",
     "text": [
      "/home/alex_johannes/octa_gnn/OCTA_gnn/generator/heterograph_from_vvg_generator.py:148: UserWarning: Any labeled images will be returned as a boolean array. Did you mean to use a boolean array?\n",
      "  region_labels = measure.label(morphology.remove_small_holes(seg, area_threshold=5, connectivity=1).astype(\"uint8\"), background=1)\n"
     ]
    },
    {
     "name": "stdout",
     "output_type": "stream",
     "text": [
      "2047 480\n",
      "9228\n",
      "279492 4063\n",
      "0382_OS\n"
     ]
    },
    {
     "name": "stderr",
     "output_type": "stream",
     "text": [
      "/home/alex_johannes/octa_gnn/OCTA_gnn/generator/heterograph_from_vvg_generator.py:148: UserWarning: Any labeled images will be returned as a boolean array. Did you mean to use a boolean array?\n",
      "  region_labels = measure.label(morphology.remove_small_holes(seg, area_threshold=5, connectivity=1).astype(\"uint8\"), background=1)\n"
     ]
    },
    {
     "name": "stdout",
     "output_type": "stream",
     "text": [
      "2083 463\n",
      "9299\n",
      "278061 4092\n",
      "0383_OD\n"
     ]
    },
    {
     "name": "stderr",
     "output_type": "stream",
     "text": [
      "/home/alex_johannes/octa_gnn/OCTA_gnn/generator/heterograph_from_vvg_generator.py:148: UserWarning: Any labeled images will be returned as a boolean array. Did you mean to use a boolean array?\n",
      "  region_labels = measure.label(morphology.remove_small_holes(seg, area_threshold=5, connectivity=1).astype(\"uint8\"), background=1)\n"
     ]
    },
    {
     "name": "stdout",
     "output_type": "stream",
     "text": [
      "1681 391\n",
      "8079\n",
      "262685 3451\n",
      "0384_OD\n"
     ]
    },
    {
     "name": "stderr",
     "output_type": "stream",
     "text": [
      "/home/alex_johannes/octa_gnn/OCTA_gnn/generator/heterograph_from_vvg_generator.py:148: UserWarning: Any labeled images will be returned as a boolean array. Did you mean to use a boolean array?\n",
      "  region_labels = measure.label(morphology.remove_small_holes(seg, area_threshold=5, connectivity=1).astype(\"uint8\"), background=1)\n"
     ]
    },
    {
     "name": "stdout",
     "output_type": "stream",
     "text": [
      "1517 337\n",
      "7192\n",
      "256178 3002\n",
      "0385_OS\n"
     ]
    },
    {
     "name": "stderr",
     "output_type": "stream",
     "text": [
      "/home/alex_johannes/octa_gnn/OCTA_gnn/generator/heterograph_from_vvg_generator.py:148: UserWarning: Any labeled images will be returned as a boolean array. Did you mean to use a boolean array?\n",
      "  region_labels = measure.label(morphology.remove_small_holes(seg, area_threshold=5, connectivity=1).astype(\"uint8\"), background=1)\n"
     ]
    },
    {
     "name": "stdout",
     "output_type": "stream",
     "text": [
      "1706 415\n",
      "8203\n",
      "260268 3316\n",
      "0386_OD\n"
     ]
    },
    {
     "name": "stderr",
     "output_type": "stream",
     "text": [
      "/home/alex_johannes/octa_gnn/OCTA_gnn/generator/heterograph_from_vvg_generator.py:148: UserWarning: Any labeled images will be returned as a boolean array. Did you mean to use a boolean array?\n",
      "  region_labels = measure.label(morphology.remove_small_holes(seg, area_threshold=5, connectivity=1).astype(\"uint8\"), background=1)\n"
     ]
    },
    {
     "name": "stdout",
     "output_type": "stream",
     "text": [
      "1998 439\n",
      "9191\n",
      "280468 3409\n",
      "0386_OS\n"
     ]
    },
    {
     "name": "stderr",
     "output_type": "stream",
     "text": [
      "/home/alex_johannes/octa_gnn/OCTA_gnn/generator/heterograph_from_vvg_generator.py:148: UserWarning: Any labeled images will be returned as a boolean array. Did you mean to use a boolean array?\n",
      "  region_labels = measure.label(morphology.remove_small_holes(seg, area_threshold=5, connectivity=1).astype(\"uint8\"), background=1)\n"
     ]
    },
    {
     "name": "stdout",
     "output_type": "stream",
     "text": [
      "2020 462\n",
      "9284\n",
      "278289 3979\n",
      "0387_OD\n"
     ]
    },
    {
     "name": "stderr",
     "output_type": "stream",
     "text": [
      "/home/alex_johannes/octa_gnn/OCTA_gnn/generator/heterograph_from_vvg_generator.py:148: UserWarning: Any labeled images will be returned as a boolean array. Did you mean to use a boolean array?\n",
      "  region_labels = measure.label(morphology.remove_small_holes(seg, area_threshold=5, connectivity=1).astype(\"uint8\"), background=1)\n"
     ]
    },
    {
     "name": "stdout",
     "output_type": "stream",
     "text": [
      "1908 413\n",
      "8872\n",
      "280517 3443\n",
      "0387_OS\n"
     ]
    },
    {
     "name": "stderr",
     "output_type": "stream",
     "text": [
      "/home/alex_johannes/octa_gnn/OCTA_gnn/generator/heterograph_from_vvg_generator.py:148: UserWarning: Any labeled images will be returned as a boolean array. Did you mean to use a boolean array?\n",
      "  region_labels = measure.label(morphology.remove_small_holes(seg, area_threshold=5, connectivity=1).astype(\"uint8\"), background=1)\n"
     ]
    },
    {
     "name": "stdout",
     "output_type": "stream",
     "text": [
      "1587 404\n",
      "7872\n",
      "263354 3795\n",
      "0388_OD\n"
     ]
    },
    {
     "name": "stderr",
     "output_type": "stream",
     "text": [
      "/home/alex_johannes/octa_gnn/OCTA_gnn/generator/heterograph_from_vvg_generator.py:148: UserWarning: Any labeled images will be returned as a boolean array. Did you mean to use a boolean array?\n",
      "  region_labels = measure.label(morphology.remove_small_holes(seg, area_threshold=5, connectivity=1).astype(\"uint8\"), background=1)\n"
     ]
    },
    {
     "name": "stdout",
     "output_type": "stream",
     "text": [
      "1428 312\n",
      "7177\n",
      "256013 3212\n",
      "0389_OD\n"
     ]
    },
    {
     "name": "stderr",
     "output_type": "stream",
     "text": [
      "/home/alex_johannes/octa_gnn/OCTA_gnn/generator/heterograph_from_vvg_generator.py:148: UserWarning: Any labeled images will be returned as a boolean array. Did you mean to use a boolean array?\n",
      "  region_labels = measure.label(morphology.remove_small_holes(seg, area_threshold=5, connectivity=1).astype(\"uint8\"), background=1)\n"
     ]
    },
    {
     "name": "stdout",
     "output_type": "stream",
     "text": [
      "1749 361\n",
      "8228\n",
      "268731 2760\n",
      "0389_OS\n"
     ]
    },
    {
     "name": "stderr",
     "output_type": "stream",
     "text": [
      "/home/alex_johannes/octa_gnn/OCTA_gnn/generator/heterograph_from_vvg_generator.py:148: UserWarning: Any labeled images will be returned as a boolean array. Did you mean to use a boolean array?\n",
      "  region_labels = measure.label(morphology.remove_small_holes(seg, area_threshold=5, connectivity=1).astype(\"uint8\"), background=1)\n"
     ]
    },
    {
     "name": "stdout",
     "output_type": "stream",
     "text": [
      "1439 390\n",
      "7111\n",
      "251108 3143\n",
      "0390_OD\n"
     ]
    },
    {
     "name": "stderr",
     "output_type": "stream",
     "text": [
      "/home/alex_johannes/octa_gnn/OCTA_gnn/generator/heterograph_from_vvg_generator.py:148: UserWarning: Any labeled images will be returned as a boolean array. Did you mean to use a boolean array?\n",
      "  region_labels = measure.label(morphology.remove_small_holes(seg, area_threshold=5, connectivity=1).astype(\"uint8\"), background=1)\n"
     ]
    },
    {
     "name": "stdout",
     "output_type": "stream",
     "text": [
      "1868 449\n",
      "8606\n",
      "273645 3445\n",
      "0390_OS\n"
     ]
    },
    {
     "name": "stderr",
     "output_type": "stream",
     "text": [
      "/home/alex_johannes/octa_gnn/OCTA_gnn/generator/heterograph_from_vvg_generator.py:148: UserWarning: Any labeled images will be returned as a boolean array. Did you mean to use a boolean array?\n",
      "  region_labels = measure.label(morphology.remove_small_holes(seg, area_threshold=5, connectivity=1).astype(\"uint8\"), background=1)\n"
     ]
    },
    {
     "name": "stdout",
     "output_type": "stream",
     "text": [
      "1638 322\n",
      "7895\n",
      "263029 2980\n",
      "0391_OS\n"
     ]
    },
    {
     "name": "stderr",
     "output_type": "stream",
     "text": [
      "/home/alex_johannes/octa_gnn/OCTA_gnn/generator/heterograph_from_vvg_generator.py:148: UserWarning: Any labeled images will be returned as a boolean array. Did you mean to use a boolean array?\n",
      "  region_labels = measure.label(morphology.remove_small_holes(seg, area_threshold=5, connectivity=1).astype(\"uint8\"), background=1)\n"
     ]
    },
    {
     "name": "stdout",
     "output_type": "stream",
     "text": [
      "1785 416\n",
      "8398\n",
      "265765 3130\n",
      "0392_OD\n"
     ]
    },
    {
     "name": "stderr",
     "output_type": "stream",
     "text": [
      "/home/alex_johannes/octa_gnn/OCTA_gnn/generator/heterograph_from_vvg_generator.py:148: UserWarning: Any labeled images will be returned as a boolean array. Did you mean to use a boolean array?\n",
      "  region_labels = measure.label(morphology.remove_small_holes(seg, area_threshold=5, connectivity=1).astype(\"uint8\"), background=1)\n"
     ]
    },
    {
     "name": "stdout",
     "output_type": "stream",
     "text": [
      "1907 430\n",
      "8618\n",
      "271393 3515\n",
      "0392_OS\n"
     ]
    },
    {
     "name": "stderr",
     "output_type": "stream",
     "text": [
      "/home/alex_johannes/octa_gnn/OCTA_gnn/generator/heterograph_from_vvg_generator.py:148: UserWarning: Any labeled images will be returned as a boolean array. Did you mean to use a boolean array?\n",
      "  region_labels = measure.label(morphology.remove_small_holes(seg, area_threshold=5, connectivity=1).astype(\"uint8\"), background=1)\n"
     ]
    },
    {
     "name": "stdout",
     "output_type": "stream",
     "text": [
      "1774 388\n",
      "8259\n",
      "269954 3439\n",
      "0306_OS\n"
     ]
    },
    {
     "name": "stderr",
     "output_type": "stream",
     "text": [
      "/home/alex_johannes/octa_gnn/OCTA_gnn/generator/heterograph_from_vvg_generator.py:148: UserWarning: Any labeled images will be returned as a boolean array. Did you mean to use a boolean array?\n",
      "  region_labels = measure.label(morphology.remove_small_holes(seg, area_threshold=5, connectivity=1).astype(\"uint8\"), background=1)\n"
     ]
    },
    {
     "name": "stdout",
     "output_type": "stream",
     "text": [
      "1860 392\n",
      "8555\n",
      "277848 2924\n",
      "0307_OD\n"
     ]
    },
    {
     "name": "stderr",
     "output_type": "stream",
     "text": [
      "/home/alex_johannes/octa_gnn/OCTA_gnn/generator/heterograph_from_vvg_generator.py:148: UserWarning: Any labeled images will be returned as a boolean array. Did you mean to use a boolean array?\n",
      "  region_labels = measure.label(morphology.remove_small_holes(seg, area_threshold=5, connectivity=1).astype(\"uint8\"), background=1)\n"
     ]
    },
    {
     "name": "stdout",
     "output_type": "stream",
     "text": [
      "1643 356\n",
      "7771\n",
      "263124 2687\n",
      "0307_OS\n"
     ]
    },
    {
     "name": "stderr",
     "output_type": "stream",
     "text": [
      "/home/alex_johannes/octa_gnn/OCTA_gnn/generator/heterograph_from_vvg_generator.py:148: UserWarning: Any labeled images will be returned as a boolean array. Did you mean to use a boolean array?\n",
      "  region_labels = measure.label(morphology.remove_small_holes(seg, area_threshold=5, connectivity=1).astype(\"uint8\"), background=1)\n"
     ]
    },
    {
     "name": "stdout",
     "output_type": "stream",
     "text": [
      "1905 458\n",
      "8522\n",
      "261814 4408\n",
      "0308_OD\n"
     ]
    },
    {
     "name": "stderr",
     "output_type": "stream",
     "text": [
      "/home/alex_johannes/octa_gnn/OCTA_gnn/generator/heterograph_from_vvg_generator.py:148: UserWarning: Any labeled images will be returned as a boolean array. Did you mean to use a boolean array?\n",
      "  region_labels = measure.label(morphology.remove_small_holes(seg, area_threshold=5, connectivity=1).astype(\"uint8\"), background=1)\n"
     ]
    },
    {
     "name": "stdout",
     "output_type": "stream",
     "text": [
      "542 111\n",
      "3494\n",
      "179128 1068\n",
      "0308_OS\n"
     ]
    },
    {
     "name": "stderr",
     "output_type": "stream",
     "text": [
      "/home/alex_johannes/octa_gnn/OCTA_gnn/generator/heterograph_from_vvg_generator.py:148: UserWarning: Any labeled images will be returned as a boolean array. Did you mean to use a boolean array?\n",
      "  region_labels = measure.label(morphology.remove_small_holes(seg, area_threshold=5, connectivity=1).astype(\"uint8\"), background=1)\n"
     ]
    },
    {
     "name": "stdout",
     "output_type": "stream",
     "text": [
      "804 209\n",
      "4992\n",
      "217553 2228\n",
      "0309_OD\n"
     ]
    },
    {
     "name": "stderr",
     "output_type": "stream",
     "text": [
      "/home/alex_johannes/octa_gnn/OCTA_gnn/generator/heterograph_from_vvg_generator.py:148: UserWarning: Any labeled images will be returned as a boolean array. Did you mean to use a boolean array?\n",
      "  region_labels = measure.label(morphology.remove_small_holes(seg, area_threshold=5, connectivity=1).astype(\"uint8\"), background=1)\n"
     ]
    },
    {
     "name": "stdout",
     "output_type": "stream",
     "text": [
      "954 189\n",
      "5287\n",
      "230114 1708\n",
      "0309_OS\n"
     ]
    },
    {
     "name": "stderr",
     "output_type": "stream",
     "text": [
      "/home/alex_johannes/octa_gnn/OCTA_gnn/generator/heterograph_from_vvg_generator.py:148: UserWarning: Any labeled images will be returned as a boolean array. Did you mean to use a boolean array?\n",
      "  region_labels = measure.label(morphology.remove_small_holes(seg, area_threshold=5, connectivity=1).astype(\"uint8\"), background=1)\n"
     ]
    },
    {
     "name": "stdout",
     "output_type": "stream",
     "text": [
      "586 104\n",
      "3578\n",
      "201804 1060\n",
      "0310_OD\n"
     ]
    },
    {
     "name": "stderr",
     "output_type": "stream",
     "text": [
      "/home/alex_johannes/octa_gnn/OCTA_gnn/generator/heterograph_from_vvg_generator.py:148: UserWarning: Any labeled images will be returned as a boolean array. Did you mean to use a boolean array?\n",
      "  region_labels = measure.label(morphology.remove_small_holes(seg, area_threshold=5, connectivity=1).astype(\"uint8\"), background=1)\n"
     ]
    },
    {
     "name": "stdout",
     "output_type": "stream",
     "text": [
      "692 142\n",
      "4206\n",
      "207296 1656\n",
      "0311_OD\n"
     ]
    },
    {
     "name": "stderr",
     "output_type": "stream",
     "text": [
      "/home/alex_johannes/octa_gnn/OCTA_gnn/generator/heterograph_from_vvg_generator.py:148: UserWarning: Any labeled images will be returned as a boolean array. Did you mean to use a boolean array?\n",
      "  region_labels = measure.label(morphology.remove_small_holes(seg, area_threshold=5, connectivity=1).astype(\"uint8\"), background=1)\n"
     ]
    },
    {
     "name": "stdout",
     "output_type": "stream",
     "text": [
      "1573 374\n",
      "7558\n",
      "250793 2761\n",
      "0311_OS\n"
     ]
    },
    {
     "name": "stderr",
     "output_type": "stream",
     "text": [
      "/home/alex_johannes/octa_gnn/OCTA_gnn/generator/heterograph_from_vvg_generator.py:148: UserWarning: Any labeled images will be returned as a boolean array. Did you mean to use a boolean array?\n",
      "  region_labels = measure.label(morphology.remove_small_holes(seg, area_threshold=5, connectivity=1).astype(\"uint8\"), background=1)\n"
     ]
    },
    {
     "name": "stdout",
     "output_type": "stream",
     "text": [
      "1681 390\n",
      "7728\n",
      "255139 3937\n",
      "0312_OD\n"
     ]
    },
    {
     "name": "stderr",
     "output_type": "stream",
     "text": [
      "/home/alex_johannes/octa_gnn/OCTA_gnn/generator/heterograph_from_vvg_generator.py:148: UserWarning: Any labeled images will be returned as a boolean array. Did you mean to use a boolean array?\n",
      "  region_labels = measure.label(morphology.remove_small_holes(seg, area_threshold=5, connectivity=1).astype(\"uint8\"), background=1)\n"
     ]
    },
    {
     "name": "stdout",
     "output_type": "stream",
     "text": [
      "1715 424\n",
      "8046\n",
      "245139 3608\n",
      "0312_OS\n"
     ]
    },
    {
     "name": "stderr",
     "output_type": "stream",
     "text": [
      "/home/alex_johannes/octa_gnn/OCTA_gnn/generator/heterograph_from_vvg_generator.py:148: UserWarning: Any labeled images will be returned as a boolean array. Did you mean to use a boolean array?\n",
      "  region_labels = measure.label(morphology.remove_small_holes(seg, area_threshold=5, connectivity=1).astype(\"uint8\"), background=1)\n"
     ]
    },
    {
     "name": "stdout",
     "output_type": "stream",
     "text": [
      "1923 438\n",
      "8798\n",
      "276917 3370\n",
      "0313_OS\n"
     ]
    },
    {
     "name": "stderr",
     "output_type": "stream",
     "text": [
      "/home/alex_johannes/octa_gnn/OCTA_gnn/generator/heterograph_from_vvg_generator.py:148: UserWarning: Any labeled images will be returned as a boolean array. Did you mean to use a boolean array?\n",
      "  region_labels = measure.label(morphology.remove_small_holes(seg, area_threshold=5, connectivity=1).astype(\"uint8\"), background=1)\n"
     ]
    },
    {
     "name": "stdout",
     "output_type": "stream",
     "text": [
      "452 95\n",
      "2937\n",
      "173057 975\n",
      "0314_OD\n"
     ]
    },
    {
     "name": "stderr",
     "output_type": "stream",
     "text": [
      "/home/alex_johannes/octa_gnn/OCTA_gnn/generator/heterograph_from_vvg_generator.py:148: UserWarning: Any labeled images will be returned as a boolean array. Did you mean to use a boolean array?\n",
      "  region_labels = measure.label(morphology.remove_small_holes(seg, area_threshold=5, connectivity=1).astype(\"uint8\"), background=1)\n"
     ]
    },
    {
     "name": "stdout",
     "output_type": "stream",
     "text": [
      "531 97\n",
      "3344\n",
      "191145 827\n",
      "0315_OD\n"
     ]
    },
    {
     "name": "stderr",
     "output_type": "stream",
     "text": [
      "/home/alex_johannes/octa_gnn/OCTA_gnn/generator/heterograph_from_vvg_generator.py:148: UserWarning: Any labeled images will be returned as a boolean array. Did you mean to use a boolean array?\n",
      "  region_labels = measure.label(morphology.remove_small_holes(seg, area_threshold=5, connectivity=1).astype(\"uint8\"), background=1)\n"
     ]
    },
    {
     "name": "stdout",
     "output_type": "stream",
     "text": [
      "419 66\n",
      "2708\n",
      "176657 872\n",
      "0315_OS\n"
     ]
    },
    {
     "name": "stderr",
     "output_type": "stream",
     "text": [
      "/home/alex_johannes/octa_gnn/OCTA_gnn/generator/heterograph_from_vvg_generator.py:148: UserWarning: Any labeled images will be returned as a boolean array. Did you mean to use a boolean array?\n",
      "  region_labels = measure.label(morphology.remove_small_holes(seg, area_threshold=5, connectivity=1).astype(\"uint8\"), background=1)\n"
     ]
    },
    {
     "name": "stdout",
     "output_type": "stream",
     "text": [
      "348 82\n",
      "2378\n",
      "155555 1113\n",
      "0316_OD\n"
     ]
    },
    {
     "name": "stderr",
     "output_type": "stream",
     "text": [
      "/home/alex_johannes/octa_gnn/OCTA_gnn/generator/heterograph_from_vvg_generator.py:148: UserWarning: Any labeled images will be returned as a boolean array. Did you mean to use a boolean array?\n",
      "  region_labels = measure.label(morphology.remove_small_holes(seg, area_threshold=5, connectivity=1).astype(\"uint8\"), background=1)\n"
     ]
    },
    {
     "name": "stdout",
     "output_type": "stream",
     "text": [
      "453 104\n",
      "2801\n",
      "147948 982\n",
      "0317_OD\n"
     ]
    },
    {
     "name": "stderr",
     "output_type": "stream",
     "text": [
      "/home/alex_johannes/octa_gnn/OCTA_gnn/generator/heterograph_from_vvg_generator.py:148: UserWarning: Any labeled images will be returned as a boolean array. Did you mean to use a boolean array?\n",
      "  region_labels = measure.label(morphology.remove_small_holes(seg, area_threshold=5, connectivity=1).astype(\"uint8\"), background=1)\n"
     ]
    },
    {
     "name": "stdout",
     "output_type": "stream",
     "text": [
      "567 169\n",
      "3122\n",
      "166409 2406\n",
      "0317_OS\n"
     ]
    },
    {
     "name": "stderr",
     "output_type": "stream",
     "text": [
      "/home/alex_johannes/octa_gnn/OCTA_gnn/generator/heterograph_from_vvg_generator.py:148: UserWarning: Any labeled images will be returned as a boolean array. Did you mean to use a boolean array?\n",
      "  region_labels = measure.label(morphology.remove_small_holes(seg, area_threshold=5, connectivity=1).astype(\"uint8\"), background=1)\n"
     ]
    },
    {
     "name": "stdout",
     "output_type": "stream",
     "text": [
      "595 162\n",
      "3645\n",
      "178547 1407\n",
      "0318_OD\n"
     ]
    },
    {
     "name": "stderr",
     "output_type": "stream",
     "text": [
      "/home/alex_johannes/octa_gnn/OCTA_gnn/generator/heterograph_from_vvg_generator.py:148: UserWarning: Any labeled images will be returned as a boolean array. Did you mean to use a boolean array?\n",
      "  region_labels = measure.label(morphology.remove_small_holes(seg, area_threshold=5, connectivity=1).astype(\"uint8\"), background=1)\n"
     ]
    },
    {
     "name": "stdout",
     "output_type": "stream",
     "text": [
      "1819 431\n",
      "8429\n",
      "266377 3263\n",
      "0318_OS\n"
     ]
    },
    {
     "name": "stderr",
     "output_type": "stream",
     "text": [
      "/home/alex_johannes/octa_gnn/OCTA_gnn/generator/heterograph_from_vvg_generator.py:148: UserWarning: Any labeled images will be returned as a boolean array. Did you mean to use a boolean array?\n",
      "  region_labels = measure.label(morphology.remove_small_holes(seg, area_threshold=5, connectivity=1).astype(\"uint8\"), background=1)\n"
     ]
    },
    {
     "name": "stdout",
     "output_type": "stream",
     "text": [
      "1852 513\n",
      "8415\n",
      "255939 4974\n",
      "0319_OD\n"
     ]
    },
    {
     "name": "stderr",
     "output_type": "stream",
     "text": [
      "/home/alex_johannes/octa_gnn/OCTA_gnn/generator/heterograph_from_vvg_generator.py:148: UserWarning: Any labeled images will be returned as a boolean array. Did you mean to use a boolean array?\n",
      "  region_labels = measure.label(morphology.remove_small_holes(seg, area_threshold=5, connectivity=1).astype(\"uint8\"), background=1)\n"
     ]
    },
    {
     "name": "stdout",
     "output_type": "stream",
     "text": [
      "489 96\n",
      "2510\n",
      "152205 1147\n",
      "0319_OS\n"
     ]
    },
    {
     "name": "stderr",
     "output_type": "stream",
     "text": [
      "/home/alex_johannes/octa_gnn/OCTA_gnn/generator/heterograph_from_vvg_generator.py:148: UserWarning: Any labeled images will be returned as a boolean array. Did you mean to use a boolean array?\n",
      "  region_labels = measure.label(morphology.remove_small_holes(seg, area_threshold=5, connectivity=1).astype(\"uint8\"), background=1)\n",
      "/home/alex_johannes/octa_gnn/OCTA_gnn/.venv/lib/python3.10/site-packages/skimage/measure/_regionprops.py:647: RuntimeWarning: invalid value encountered in scalar divide\n",
      "  tuple(M[_get_element(axis)] / M0 for axis in range(self._ndim)))\n"
     ]
    },
    {
     "name": "stdout",
     "output_type": "stream",
     "text": [
      "1176 304\n",
      "6047\n",
      "235580 3390\n",
      "0343_OS\n"
     ]
    },
    {
     "name": "stderr",
     "output_type": "stream",
     "text": [
      "/home/alex_johannes/octa_gnn/OCTA_gnn/generator/heterograph_from_vvg_generator.py:148: UserWarning: Any labeled images will be returned as a boolean array. Did you mean to use a boolean array?\n",
      "  region_labels = measure.label(morphology.remove_small_holes(seg, area_threshold=5, connectivity=1).astype(\"uint8\"), background=1)\n"
     ]
    },
    {
     "name": "stdout",
     "output_type": "stream",
     "text": [
      "1481 349\n",
      "7315\n",
      "257045 2754\n",
      "0344_OS\n"
     ]
    },
    {
     "name": "stderr",
     "output_type": "stream",
     "text": [
      "/home/alex_johannes/octa_gnn/OCTA_gnn/generator/heterograph_from_vvg_generator.py:148: UserWarning: Any labeled images will be returned as a boolean array. Did you mean to use a boolean array?\n",
      "  region_labels = measure.label(morphology.remove_small_holes(seg, area_threshold=5, connectivity=1).astype(\"uint8\"), background=1)\n"
     ]
    },
    {
     "name": "stdout",
     "output_type": "stream",
     "text": [
      "1391 333\n",
      "7026\n",
      "252253 2719\n",
      "0345_OD\n"
     ]
    },
    {
     "name": "stderr",
     "output_type": "stream",
     "text": [
      "/home/alex_johannes/octa_gnn/OCTA_gnn/generator/heterograph_from_vvg_generator.py:148: UserWarning: Any labeled images will be returned as a boolean array. Did you mean to use a boolean array?\n",
      "  region_labels = measure.label(morphology.remove_small_holes(seg, area_threshold=5, connectivity=1).astype(\"uint8\"), background=1)\n"
     ]
    },
    {
     "name": "stdout",
     "output_type": "stream",
     "text": [
      "624 137\n",
      "3880\n",
      "198118 1418\n",
      "0346_OS\n"
     ]
    },
    {
     "name": "stderr",
     "output_type": "stream",
     "text": [
      "/home/alex_johannes/octa_gnn/OCTA_gnn/generator/heterograph_from_vvg_generator.py:148: UserWarning: Any labeled images will be returned as a boolean array. Did you mean to use a boolean array?\n",
      "  region_labels = measure.label(morphology.remove_small_holes(seg, area_threshold=5, connectivity=1).astype(\"uint8\"), background=1)\n"
     ]
    },
    {
     "name": "stdout",
     "output_type": "stream",
     "text": [
      "1769 393\n",
      "8180\n",
      "266447 2856\n",
      "0347_OD\n"
     ]
    },
    {
     "name": "stderr",
     "output_type": "stream",
     "text": [
      "/home/alex_johannes/octa_gnn/OCTA_gnn/generator/heterograph_from_vvg_generator.py:148: UserWarning: Any labeled images will be returned as a boolean array. Did you mean to use a boolean array?\n",
      "  region_labels = measure.label(morphology.remove_small_holes(seg, area_threshold=5, connectivity=1).astype(\"uint8\"), background=1)\n"
     ]
    },
    {
     "name": "stdout",
     "output_type": "stream",
     "text": [
      "1628 301\n",
      "7897\n",
      "256127 2301\n",
      "0347_OS\n"
     ]
    },
    {
     "name": "stderr",
     "output_type": "stream",
     "text": [
      "/home/alex_johannes/octa_gnn/OCTA_gnn/generator/heterograph_from_vvg_generator.py:148: UserWarning: Any labeled images will be returned as a boolean array. Did you mean to use a boolean array?\n",
      "  region_labels = measure.label(morphology.remove_small_holes(seg, area_threshold=5, connectivity=1).astype(\"uint8\"), background=1)\n"
     ]
    },
    {
     "name": "stdout",
     "output_type": "stream",
     "text": [
      "1732 492\n",
      "8116\n",
      "256689 4270\n",
      "0348_OS\n"
     ]
    },
    {
     "name": "stderr",
     "output_type": "stream",
     "text": [
      "/home/alex_johannes/octa_gnn/OCTA_gnn/generator/heterograph_from_vvg_generator.py:148: UserWarning: Any labeled images will be returned as a boolean array. Did you mean to use a boolean array?\n",
      "  region_labels = measure.label(morphology.remove_small_holes(seg, area_threshold=5, connectivity=1).astype(\"uint8\"), background=1)\n"
     ]
    },
    {
     "name": "stdout",
     "output_type": "stream",
     "text": [
      "1035 192\n",
      "5654\n",
      "236945 1703\n",
      "0349_OD\n"
     ]
    },
    {
     "name": "stderr",
     "output_type": "stream",
     "text": [
      "/home/alex_johannes/octa_gnn/OCTA_gnn/generator/heterograph_from_vvg_generator.py:148: UserWarning: Any labeled images will be returned as a boolean array. Did you mean to use a boolean array?\n",
      "  region_labels = measure.label(morphology.remove_small_holes(seg, area_threshold=5, connectivity=1).astype(\"uint8\"), background=1)\n"
     ]
    },
    {
     "name": "stdout",
     "output_type": "stream",
     "text": [
      "1083 246\n",
      "5653\n",
      "223640 2405\n",
      "0349_OS\n"
     ]
    },
    {
     "name": "stderr",
     "output_type": "stream",
     "text": [
      "/home/alex_johannes/octa_gnn/OCTA_gnn/generator/heterograph_from_vvg_generator.py:148: UserWarning: Any labeled images will be returned as a boolean array. Did you mean to use a boolean array?\n",
      "  region_labels = measure.label(morphology.remove_small_holes(seg, area_threshold=5, connectivity=1).astype(\"uint8\"), background=1)\n"
     ]
    },
    {
     "name": "stdout",
     "output_type": "stream",
     "text": [
      "1524 408\n",
      "7325\n",
      "247360 3956\n",
      "0350_OD\n"
     ]
    },
    {
     "name": "stderr",
     "output_type": "stream",
     "text": [
      "/home/alex_johannes/octa_gnn/OCTA_gnn/generator/heterograph_from_vvg_generator.py:148: UserWarning: Any labeled images will be returned as a boolean array. Did you mean to use a boolean array?\n",
      "  region_labels = measure.label(morphology.remove_small_holes(seg, area_threshold=5, connectivity=1).astype(\"uint8\"), background=1)\n"
     ]
    },
    {
     "name": "stdout",
     "output_type": "stream",
     "text": [
      "1758 474\n",
      "8479\n",
      "260904 3766\n",
      "0351_OD\n"
     ]
    },
    {
     "name": "stderr",
     "output_type": "stream",
     "text": [
      "/home/alex_johannes/octa_gnn/OCTA_gnn/generator/heterograph_from_vvg_generator.py:148: UserWarning: Any labeled images will be returned as a boolean array. Did you mean to use a boolean array?\n",
      "  region_labels = measure.label(morphology.remove_small_holes(seg, area_threshold=5, connectivity=1).astype(\"uint8\"), background=1)\n"
     ]
    },
    {
     "name": "stdout",
     "output_type": "stream",
     "text": [
      "1619 357\n",
      "7689\n",
      "262473 3496\n",
      "0351_OS\n"
     ]
    },
    {
     "name": "stderr",
     "output_type": "stream",
     "text": [
      "/home/alex_johannes/octa_gnn/OCTA_gnn/generator/heterograph_from_vvg_generator.py:148: UserWarning: Any labeled images will be returned as a boolean array. Did you mean to use a boolean array?\n",
      "  region_labels = measure.label(morphology.remove_small_holes(seg, area_threshold=5, connectivity=1).astype(\"uint8\"), background=1)\n"
     ]
    },
    {
     "name": "stdout",
     "output_type": "stream",
     "text": [
      "1402 306\n",
      "6995\n",
      "261783 3144\n",
      "0352_OD\n"
     ]
    },
    {
     "name": "stderr",
     "output_type": "stream",
     "text": [
      "/home/alex_johannes/octa_gnn/OCTA_gnn/generator/heterograph_from_vvg_generator.py:148: UserWarning: Any labeled images will be returned as a boolean array. Did you mean to use a boolean array?\n",
      "  region_labels = measure.label(morphology.remove_small_holes(seg, area_threshold=5, connectivity=1).astype(\"uint8\"), background=1)\n"
     ]
    },
    {
     "name": "stdout",
     "output_type": "stream",
     "text": [
      "1726 397\n",
      "8072\n",
      "265680 3563\n",
      "0352_OS\n"
     ]
    },
    {
     "name": "stderr",
     "output_type": "stream",
     "text": [
      "/home/alex_johannes/octa_gnn/OCTA_gnn/generator/heterograph_from_vvg_generator.py:148: UserWarning: Any labeled images will be returned as a boolean array. Did you mean to use a boolean array?\n",
      "  region_labels = measure.label(morphology.remove_small_holes(seg, area_threshold=5, connectivity=1).astype(\"uint8\"), background=1)\n"
     ]
    },
    {
     "name": "stdout",
     "output_type": "stream",
     "text": [
      "1721 402\n",
      "8149\n",
      "264101 3026\n",
      "0353_OS\n"
     ]
    },
    {
     "name": "stderr",
     "output_type": "stream",
     "text": [
      "/home/alex_johannes/octa_gnn/OCTA_gnn/generator/heterograph_from_vvg_generator.py:148: UserWarning: Any labeled images will be returned as a boolean array. Did you mean to use a boolean array?\n",
      "  region_labels = measure.label(morphology.remove_small_holes(seg, area_threshold=5, connectivity=1).astype(\"uint8\"), background=1)\n"
     ]
    },
    {
     "name": "stdout",
     "output_type": "stream",
     "text": [
      "1822 453\n",
      "8698\n",
      "275008 3821\n",
      "0354_OD\n"
     ]
    },
    {
     "name": "stderr",
     "output_type": "stream",
     "text": [
      "/home/alex_johannes/octa_gnn/OCTA_gnn/generator/heterograph_from_vvg_generator.py:148: UserWarning: Any labeled images will be returned as a boolean array. Did you mean to use a boolean array?\n",
      "  region_labels = measure.label(morphology.remove_small_holes(seg, area_threshold=5, connectivity=1).astype(\"uint8\"), background=1)\n"
     ]
    },
    {
     "name": "stdout",
     "output_type": "stream",
     "text": [
      "502 93\n",
      "3105\n",
      "172179 810\n",
      "0355_OD\n"
     ]
    },
    {
     "name": "stderr",
     "output_type": "stream",
     "text": [
      "/home/alex_johannes/octa_gnn/OCTA_gnn/generator/heterograph_from_vvg_generator.py:148: UserWarning: Any labeled images will be returned as a boolean array. Did you mean to use a boolean array?\n",
      "  region_labels = measure.label(morphology.remove_small_holes(seg, area_threshold=5, connectivity=1).astype(\"uint8\"), background=1)\n"
     ]
    },
    {
     "name": "stdout",
     "output_type": "stream",
     "text": [
      "1256 325\n",
      "6618\n",
      "237569 2983\n",
      "0356_OD\n"
     ]
    },
    {
     "name": "stderr",
     "output_type": "stream",
     "text": [
      "/home/alex_johannes/octa_gnn/OCTA_gnn/generator/heterograph_from_vvg_generator.py:148: UserWarning: Any labeled images will be returned as a boolean array. Did you mean to use a boolean array?\n",
      "  region_labels = measure.label(morphology.remove_small_holes(seg, area_threshold=5, connectivity=1).astype(\"uint8\"), background=1)\n"
     ]
    },
    {
     "name": "stdout",
     "output_type": "stream",
     "text": [
      "1451 350\n",
      "7126\n",
      "247927 2991\n",
      "0356_OS\n"
     ]
    },
    {
     "name": "stderr",
     "output_type": "stream",
     "text": [
      "/home/alex_johannes/octa_gnn/OCTA_gnn/generator/heterograph_from_vvg_generator.py:148: UserWarning: Any labeled images will be returned as a boolean array. Did you mean to use a boolean array?\n",
      "  region_labels = measure.label(morphology.remove_small_holes(seg, area_threshold=5, connectivity=1).astype(\"uint8\"), background=1)\n"
     ]
    },
    {
     "name": "stdout",
     "output_type": "stream",
     "text": [
      "1478 349\n",
      "7123\n",
      "250873 3239\n",
      "0357_OD\n"
     ]
    },
    {
     "name": "stderr",
     "output_type": "stream",
     "text": [
      "/home/alex_johannes/octa_gnn/OCTA_gnn/generator/heterograph_from_vvg_generator.py:148: UserWarning: Any labeled images will be returned as a boolean array. Did you mean to use a boolean array?\n",
      "  region_labels = measure.label(morphology.remove_small_holes(seg, area_threshold=5, connectivity=1).astype(\"uint8\"), background=1)\n"
     ]
    },
    {
     "name": "stdout",
     "output_type": "stream",
     "text": [
      "1734 443\n",
      "8267\n",
      "260654 3655\n",
      "0358_OD\n"
     ]
    },
    {
     "name": "stderr",
     "output_type": "stream",
     "text": [
      "/home/alex_johannes/octa_gnn/OCTA_gnn/generator/heterograph_from_vvg_generator.py:148: UserWarning: Any labeled images will be returned as a boolean array. Did you mean to use a boolean array?\n",
      "  region_labels = measure.label(morphology.remove_small_holes(seg, area_threshold=5, connectivity=1).astype(\"uint8\"), background=1)\n"
     ]
    },
    {
     "name": "stdout",
     "output_type": "stream",
     "text": [
      "1853 497\n",
      "8557\n",
      "268870 4387\n",
      "0358_OS\n"
     ]
    },
    {
     "name": "stderr",
     "output_type": "stream",
     "text": [
      "/home/alex_johannes/octa_gnn/OCTA_gnn/generator/heterograph_from_vvg_generator.py:148: UserWarning: Any labeled images will be returned as a boolean array. Did you mean to use a boolean array?\n",
      "  region_labels = measure.label(morphology.remove_small_holes(seg, area_threshold=5, connectivity=1).astype(\"uint8\"), background=1)\n"
     ]
    },
    {
     "name": "stdout",
     "output_type": "stream",
     "text": [
      "1713 359\n",
      "8383\n",
      "272963 3033\n",
      "0359_OD\n"
     ]
    },
    {
     "name": "stderr",
     "output_type": "stream",
     "text": [
      "/home/alex_johannes/octa_gnn/OCTA_gnn/generator/heterograph_from_vvg_generator.py:148: UserWarning: Any labeled images will be returned as a boolean array. Did you mean to use a boolean array?\n",
      "  region_labels = measure.label(morphology.remove_small_holes(seg, area_threshold=5, connectivity=1).astype(\"uint8\"), background=1)\n"
     ]
    },
    {
     "name": "stdout",
     "output_type": "stream",
     "text": [
      "1864 443\n",
      "8412\n",
      "269776 3699\n",
      "0613_OD\n"
     ]
    },
    {
     "name": "stderr",
     "output_type": "stream",
     "text": [
      "/home/alex_johannes/octa_gnn/OCTA_gnn/generator/heterograph_from_vvg_generator.py:148: UserWarning: Any labeled images will be returned as a boolean array. Did you mean to use a boolean array?\n",
      "  region_labels = measure.label(morphology.remove_small_holes(seg, area_threshold=5, connectivity=1).astype(\"uint8\"), background=1)\n"
     ]
    },
    {
     "name": "stdout",
     "output_type": "stream",
     "text": [
      "1582 346\n",
      "7890\n",
      "265567 3173\n",
      "0613_OS\n"
     ]
    },
    {
     "name": "stderr",
     "output_type": "stream",
     "text": [
      "/home/alex_johannes/octa_gnn/OCTA_gnn/generator/heterograph_from_vvg_generator.py:148: UserWarning: Any labeled images will be returned as a boolean array. Did you mean to use a boolean array?\n",
      "  region_labels = measure.label(morphology.remove_small_holes(seg, area_threshold=5, connectivity=1).astype(\"uint8\"), background=1)\n"
     ]
    },
    {
     "name": "stdout",
     "output_type": "stream",
     "text": [
      "1494 349\n",
      "7463\n",
      "267282 2773\n",
      "0614_OD\n"
     ]
    },
    {
     "name": "stderr",
     "output_type": "stream",
     "text": [
      "/home/alex_johannes/octa_gnn/OCTA_gnn/generator/heterograph_from_vvg_generator.py:148: UserWarning: Any labeled images will be returned as a boolean array. Did you mean to use a boolean array?\n",
      "  region_labels = measure.label(morphology.remove_small_holes(seg, area_threshold=5, connectivity=1).astype(\"uint8\"), background=1)\n"
     ]
    },
    {
     "name": "stdout",
     "output_type": "stream",
     "text": [
      "1356 250\n",
      "6773\n",
      "255021 2579\n",
      "0614_OS\n"
     ]
    },
    {
     "name": "stderr",
     "output_type": "stream",
     "text": [
      "/home/alex_johannes/octa_gnn/OCTA_gnn/generator/heterograph_from_vvg_generator.py:148: UserWarning: Any labeled images will be returned as a boolean array. Did you mean to use a boolean array?\n",
      "  region_labels = measure.label(morphology.remove_small_holes(seg, area_threshold=5, connectivity=1).astype(\"uint8\"), background=1)\n"
     ]
    },
    {
     "name": "stdout",
     "output_type": "stream",
     "text": [
      "1398 308\n",
      "6862\n",
      "253524 2644\n",
      "0615_OD\n"
     ]
    },
    {
     "name": "stderr",
     "output_type": "stream",
     "text": [
      "/home/alex_johannes/octa_gnn/OCTA_gnn/generator/heterograph_from_vvg_generator.py:148: UserWarning: Any labeled images will be returned as a boolean array. Did you mean to use a boolean array?\n",
      "  region_labels = measure.label(morphology.remove_small_holes(seg, area_threshold=5, connectivity=1).astype(\"uint8\"), background=1)\n"
     ]
    },
    {
     "name": "stdout",
     "output_type": "stream",
     "text": [
      "1827 393\n",
      "8449\n",
      "277090 3387\n",
      "0615_OS\n"
     ]
    },
    {
     "name": "stderr",
     "output_type": "stream",
     "text": [
      "/home/alex_johannes/octa_gnn/OCTA_gnn/generator/heterograph_from_vvg_generator.py:148: UserWarning: Any labeled images will be returned as a boolean array. Did you mean to use a boolean array?\n",
      "  region_labels = measure.label(morphology.remove_small_holes(seg, area_threshold=5, connectivity=1).astype(\"uint8\"), background=1)\n"
     ]
    },
    {
     "name": "stdout",
     "output_type": "stream",
     "text": [
      "1974 446\n",
      "8881\n",
      "273580 3684\n",
      "0616_OS\n"
     ]
    },
    {
     "name": "stderr",
     "output_type": "stream",
     "text": [
      "/home/alex_johannes/octa_gnn/OCTA_gnn/generator/heterograph_from_vvg_generator.py:148: UserWarning: Any labeled images will be returned as a boolean array. Did you mean to use a boolean array?\n",
      "  region_labels = measure.label(morphology.remove_small_holes(seg, area_threshold=5, connectivity=1).astype(\"uint8\"), background=1)\n"
     ]
    },
    {
     "name": "stdout",
     "output_type": "stream",
     "text": [
      "893 196\n",
      "4912\n",
      "227891 1745\n",
      "0617_OD\n"
     ]
    },
    {
     "name": "stderr",
     "output_type": "stream",
     "text": [
      "/home/alex_johannes/octa_gnn/OCTA_gnn/generator/heterograph_from_vvg_generator.py:148: UserWarning: Any labeled images will be returned as a boolean array. Did you mean to use a boolean array?\n",
      "  region_labels = measure.label(morphology.remove_small_holes(seg, area_threshold=5, connectivity=1).astype(\"uint8\"), background=1)\n"
     ]
    },
    {
     "name": "stdout",
     "output_type": "stream",
     "text": [
      "1964 462\n",
      "8984\n",
      "274164 3713\n",
      "0617_OS\n"
     ]
    },
    {
     "name": "stderr",
     "output_type": "stream",
     "text": [
      "/home/alex_johannes/octa_gnn/OCTA_gnn/generator/heterograph_from_vvg_generator.py:148: UserWarning: Any labeled images will be returned as a boolean array. Did you mean to use a boolean array?\n",
      "  region_labels = measure.label(morphology.remove_small_holes(seg, area_threshold=5, connectivity=1).astype(\"uint8\"), background=1)\n"
     ]
    },
    {
     "name": "stdout",
     "output_type": "stream",
     "text": [
      "1940 444\n",
      "8899\n",
      "280010 2924\n",
      "0618_OD\n"
     ]
    },
    {
     "name": "stderr",
     "output_type": "stream",
     "text": [
      "/home/alex_johannes/octa_gnn/OCTA_gnn/generator/heterograph_from_vvg_generator.py:148: UserWarning: Any labeled images will be returned as a boolean array. Did you mean to use a boolean array?\n",
      "  region_labels = measure.label(morphology.remove_small_holes(seg, area_threshold=5, connectivity=1).astype(\"uint8\"), background=1)\n"
     ]
    },
    {
     "name": "stdout",
     "output_type": "stream",
     "text": [
      "1662 353\n",
      "8008\n",
      "266063 3041\n",
      "0618_OS\n"
     ]
    },
    {
     "name": "stderr",
     "output_type": "stream",
     "text": [
      "/home/alex_johannes/octa_gnn/OCTA_gnn/generator/heterograph_from_vvg_generator.py:148: UserWarning: Any labeled images will be returned as a boolean array. Did you mean to use a boolean array?\n",
      "  region_labels = measure.label(morphology.remove_small_holes(seg, area_threshold=5, connectivity=1).astype(\"uint8\"), background=1)\n"
     ]
    },
    {
     "name": "stdout",
     "output_type": "stream",
     "text": [
      "1706 404\n",
      "8017\n",
      "259941 3564\n",
      "0619_OD\n"
     ]
    },
    {
     "name": "stderr",
     "output_type": "stream",
     "text": [
      "/home/alex_johannes/octa_gnn/OCTA_gnn/generator/heterograph_from_vvg_generator.py:148: UserWarning: Any labeled images will be returned as a boolean array. Did you mean to use a boolean array?\n",
      "  region_labels = measure.label(morphology.remove_small_holes(seg, area_threshold=5, connectivity=1).astype(\"uint8\"), background=1)\n"
     ]
    },
    {
     "name": "stdout",
     "output_type": "stream",
     "text": [
      "2000 459\n",
      "9189\n",
      "280319 3967\n",
      "0619_OS\n"
     ]
    },
    {
     "name": "stderr",
     "output_type": "stream",
     "text": [
      "/home/alex_johannes/octa_gnn/OCTA_gnn/generator/heterograph_from_vvg_generator.py:148: UserWarning: Any labeled images will be returned as a boolean array. Did you mean to use a boolean array?\n",
      "  region_labels = measure.label(morphology.remove_small_holes(seg, area_threshold=5, connectivity=1).astype(\"uint8\"), background=1)\n"
     ]
    },
    {
     "name": "stdout",
     "output_type": "stream",
     "text": [
      "1874 384\n",
      "8691\n",
      "279667 3258\n",
      "0620_OD\n"
     ]
    },
    {
     "name": "stderr",
     "output_type": "stream",
     "text": [
      "/home/alex_johannes/octa_gnn/OCTA_gnn/generator/heterograph_from_vvg_generator.py:148: UserWarning: Any labeled images will be returned as a boolean array. Did you mean to use a boolean array?\n",
      "  region_labels = measure.label(morphology.remove_small_holes(seg, area_threshold=5, connectivity=1).astype(\"uint8\"), background=1)\n"
     ]
    },
    {
     "name": "stdout",
     "output_type": "stream",
     "text": [
      "559 100\n",
      "3301\n",
      "195447 1225\n",
      "0621_OD\n"
     ]
    },
    {
     "name": "stderr",
     "output_type": "stream",
     "text": [
      "/home/alex_johannes/octa_gnn/OCTA_gnn/generator/heterograph_from_vvg_generator.py:148: UserWarning: Any labeled images will be returned as a boolean array. Did you mean to use a boolean array?\n",
      "  region_labels = measure.label(morphology.remove_small_holes(seg, area_threshold=5, connectivity=1).astype(\"uint8\"), background=1)\n"
     ]
    },
    {
     "name": "stdout",
     "output_type": "stream",
     "text": [
      "340 75\n",
      "2300\n",
      "170467 879\n",
      "0621_OS\n"
     ]
    },
    {
     "name": "stderr",
     "output_type": "stream",
     "text": [
      "/home/alex_johannes/octa_gnn/OCTA_gnn/generator/heterograph_from_vvg_generator.py:148: UserWarning: Any labeled images will be returned as a boolean array. Did you mean to use a boolean array?\n",
      "  region_labels = measure.label(morphology.remove_small_holes(seg, area_threshold=5, connectivity=1).astype(\"uint8\"), background=1)\n"
     ]
    },
    {
     "name": "stdout",
     "output_type": "stream",
     "text": [
      "327 66\n",
      "2210\n",
      "162278 1017\n",
      "0622_OD\n"
     ]
    },
    {
     "name": "stderr",
     "output_type": "stream",
     "text": [
      "/home/alex_johannes/octa_gnn/OCTA_gnn/generator/heterograph_from_vvg_generator.py:148: UserWarning: Any labeled images will be returned as a boolean array. Did you mean to use a boolean array?\n",
      "  region_labels = measure.label(morphology.remove_small_holes(seg, area_threshold=5, connectivity=1).astype(\"uint8\"), background=1)\n"
     ]
    },
    {
     "name": "stdout",
     "output_type": "stream",
     "text": [
      "1687 424\n",
      "7972\n",
      "257394 3105\n",
      "0622_OS\n"
     ]
    },
    {
     "name": "stderr",
     "output_type": "stream",
     "text": [
      "/home/alex_johannes/octa_gnn/OCTA_gnn/generator/heterograph_from_vvg_generator.py:148: UserWarning: Any labeled images will be returned as a boolean array. Did you mean to use a boolean array?\n",
      "  region_labels = measure.label(morphology.remove_small_holes(seg, area_threshold=5, connectivity=1).astype(\"uint8\"), background=1)\n"
     ]
    },
    {
     "name": "stdout",
     "output_type": "stream",
     "text": [
      "1511 432\n",
      "7437\n",
      "245287 3341\n",
      "0623_OD\n"
     ]
    },
    {
     "name": "stderr",
     "output_type": "stream",
     "text": [
      "/home/alex_johannes/octa_gnn/OCTA_gnn/generator/heterograph_from_vvg_generator.py:148: UserWarning: Any labeled images will be returned as a boolean array. Did you mean to use a boolean array?\n",
      "  region_labels = measure.label(morphology.remove_small_holes(seg, area_threshold=5, connectivity=1).astype(\"uint8\"), background=1)\n"
     ]
    },
    {
     "name": "stdout",
     "output_type": "stream",
     "text": [
      "1734 412\n",
      "8231\n",
      "265147 3178\n",
      "0623_OS\n"
     ]
    },
    {
     "name": "stderr",
     "output_type": "stream",
     "text": [
      "/home/alex_johannes/octa_gnn/OCTA_gnn/generator/heterograph_from_vvg_generator.py:148: UserWarning: Any labeled images will be returned as a boolean array. Did you mean to use a boolean array?\n",
      "  region_labels = measure.label(morphology.remove_small_holes(seg, area_threshold=5, connectivity=1).astype(\"uint8\"), background=1)\n"
     ]
    },
    {
     "name": "stdout",
     "output_type": "stream",
     "text": [
      "1773 382\n",
      "8195\n",
      "269408 2971\n",
      "0624_OS\n"
     ]
    },
    {
     "name": "stderr",
     "output_type": "stream",
     "text": [
      "/home/alex_johannes/octa_gnn/OCTA_gnn/generator/heterograph_from_vvg_generator.py:148: UserWarning: Any labeled images will be returned as a boolean array. Did you mean to use a boolean array?\n",
      "  region_labels = measure.label(morphology.remove_small_holes(seg, area_threshold=5, connectivity=1).astype(\"uint8\"), background=1)\n"
     ]
    },
    {
     "name": "stdout",
     "output_type": "stream",
     "text": [
      "1609 386\n",
      "7828\n",
      "259659 2975\n",
      "0625_OS\n"
     ]
    },
    {
     "name": "stderr",
     "output_type": "stream",
     "text": [
      "/home/alex_johannes/octa_gnn/OCTA_gnn/generator/heterograph_from_vvg_generator.py:148: UserWarning: Any labeled images will be returned as a boolean array. Did you mean to use a boolean array?\n",
      "  region_labels = measure.label(morphology.remove_small_holes(seg, area_threshold=5, connectivity=1).astype(\"uint8\"), background=1)\n"
     ]
    },
    {
     "name": "stdout",
     "output_type": "stream",
     "text": [
      "1901 464\n",
      "8631\n",
      "264993 3298\n",
      "0155_OD\n"
     ]
    },
    {
     "name": "stderr",
     "output_type": "stream",
     "text": [
      "/home/alex_johannes/octa_gnn/OCTA_gnn/generator/heterograph_from_vvg_generator.py:148: UserWarning: Any labeled images will be returned as a boolean array. Did you mean to use a boolean array?\n",
      "  region_labels = measure.label(morphology.remove_small_holes(seg, area_threshold=5, connectivity=1).astype(\"uint8\"), background=1)\n"
     ]
    },
    {
     "name": "stdout",
     "output_type": "stream",
     "text": [
      "1757 377\n",
      "8399\n",
      "273857 2997\n",
      "0155_OS\n"
     ]
    },
    {
     "name": "stderr",
     "output_type": "stream",
     "text": [
      "/home/alex_johannes/octa_gnn/OCTA_gnn/generator/heterograph_from_vvg_generator.py:148: UserWarning: Any labeled images will be returned as a boolean array. Did you mean to use a boolean array?\n",
      "  region_labels = measure.label(morphology.remove_small_holes(seg, area_threshold=5, connectivity=1).astype(\"uint8\"), background=1)\n"
     ]
    },
    {
     "name": "stdout",
     "output_type": "stream",
     "text": [
      "1867 433\n",
      "8733\n",
      "267816 3791\n",
      "0156_OS\n"
     ]
    },
    {
     "name": "stderr",
     "output_type": "stream",
     "text": [
      "/home/alex_johannes/octa_gnn/OCTA_gnn/generator/heterograph_from_vvg_generator.py:148: UserWarning: Any labeled images will be returned as a boolean array. Did you mean to use a boolean array?\n",
      "  region_labels = measure.label(morphology.remove_small_holes(seg, area_threshold=5, connectivity=1).astype(\"uint8\"), background=1)\n"
     ]
    },
    {
     "name": "stdout",
     "output_type": "stream",
     "text": [
      "438 108\n",
      "2948\n",
      "182229 733\n",
      "0157_OS\n"
     ]
    },
    {
     "name": "stderr",
     "output_type": "stream",
     "text": [
      "/home/alex_johannes/octa_gnn/OCTA_gnn/generator/heterograph_from_vvg_generator.py:148: UserWarning: Any labeled images will be returned as a boolean array. Did you mean to use a boolean array?\n",
      "  region_labels = measure.label(morphology.remove_small_holes(seg, area_threshold=5, connectivity=1).astype(\"uint8\"), background=1)\n"
     ]
    },
    {
     "name": "stdout",
     "output_type": "stream",
     "text": [
      "1047 263\n",
      "5422\n",
      "233548 1993\n",
      "0158_OD\n"
     ]
    },
    {
     "name": "stderr",
     "output_type": "stream",
     "text": [
      "/home/alex_johannes/octa_gnn/OCTA_gnn/generator/heterograph_from_vvg_generator.py:148: UserWarning: Any labeled images will be returned as a boolean array. Did you mean to use a boolean array?\n",
      "  region_labels = measure.label(morphology.remove_small_holes(seg, area_threshold=5, connectivity=1).astype(\"uint8\"), background=1)\n"
     ]
    },
    {
     "name": "stdout",
     "output_type": "stream",
     "text": [
      "1683 464\n",
      "8227\n",
      "260642 3758\n",
      "0159_OD\n"
     ]
    },
    {
     "name": "stderr",
     "output_type": "stream",
     "text": [
      "/home/alex_johannes/octa_gnn/OCTA_gnn/generator/heterograph_from_vvg_generator.py:148: UserWarning: Any labeled images will be returned as a boolean array. Did you mean to use a boolean array?\n",
      "  region_labels = measure.label(morphology.remove_small_holes(seg, area_threshold=5, connectivity=1).astype(\"uint8\"), background=1)\n"
     ]
    },
    {
     "name": "stdout",
     "output_type": "stream",
     "text": [
      "1622 450\n",
      "7674\n",
      "251740 3916\n",
      "0159_OS\n"
     ]
    },
    {
     "name": "stderr",
     "output_type": "stream",
     "text": [
      "/home/alex_johannes/octa_gnn/OCTA_gnn/generator/heterograph_from_vvg_generator.py:148: UserWarning: Any labeled images will be returned as a boolean array. Did you mean to use a boolean array?\n",
      "  region_labels = measure.label(morphology.remove_small_holes(seg, area_threshold=5, connectivity=1).astype(\"uint8\"), background=1)\n"
     ]
    },
    {
     "name": "stdout",
     "output_type": "stream",
     "text": [
      "1754 479\n",
      "8197\n",
      "248270 4621\n",
      "0160_OS\n"
     ]
    },
    {
     "name": "stderr",
     "output_type": "stream",
     "text": [
      "/home/alex_johannes/octa_gnn/OCTA_gnn/generator/heterograph_from_vvg_generator.py:148: UserWarning: Any labeled images will be returned as a boolean array. Did you mean to use a boolean array?\n",
      "  region_labels = measure.label(morphology.remove_small_holes(seg, area_threshold=5, connectivity=1).astype(\"uint8\"), background=1)\n"
     ]
    },
    {
     "name": "stdout",
     "output_type": "stream",
     "text": [
      "1821 392\n",
      "8259\n",
      "265373 3056\n",
      "0161_OD\n"
     ]
    },
    {
     "name": "stderr",
     "output_type": "stream",
     "text": [
      "/home/alex_johannes/octa_gnn/OCTA_gnn/generator/heterograph_from_vvg_generator.py:148: UserWarning: Any labeled images will be returned as a boolean array. Did you mean to use a boolean array?\n",
      "  region_labels = measure.label(morphology.remove_small_holes(seg, area_threshold=5, connectivity=1).astype(\"uint8\"), background=1)\n"
     ]
    },
    {
     "name": "stdout",
     "output_type": "stream",
     "text": [
      "1286 350\n",
      "6725\n",
      "231077 3200\n",
      "0161_OS\n"
     ]
    },
    {
     "name": "stderr",
     "output_type": "stream",
     "text": [
      "/home/alex_johannes/octa_gnn/OCTA_gnn/generator/heterograph_from_vvg_generator.py:148: UserWarning: Any labeled images will be returned as a boolean array. Did you mean to use a boolean array?\n",
      "  region_labels = measure.label(morphology.remove_small_holes(seg, area_threshold=5, connectivity=1).astype(\"uint8\"), background=1)\n"
     ]
    },
    {
     "name": "stdout",
     "output_type": "stream",
     "text": [
      "1847 394\n",
      "8436\n",
      "262973 3296\n",
      "0162_OD\n"
     ]
    },
    {
     "name": "stderr",
     "output_type": "stream",
     "text": [
      "/home/alex_johannes/octa_gnn/OCTA_gnn/generator/heterograph_from_vvg_generator.py:148: UserWarning: Any labeled images will be returned as a boolean array. Did you mean to use a boolean array?\n",
      "  region_labels = measure.label(morphology.remove_small_holes(seg, area_threshold=5, connectivity=1).astype(\"uint8\"), background=1)\n"
     ]
    },
    {
     "name": "stdout",
     "output_type": "stream",
     "text": [
      "1767 433\n",
      "8389\n",
      "277070 3220\n",
      "0162_OS\n"
     ]
    },
    {
     "name": "stderr",
     "output_type": "stream",
     "text": [
      "/home/alex_johannes/octa_gnn/OCTA_gnn/generator/heterograph_from_vvg_generator.py:148: UserWarning: Any labeled images will be returned as a boolean array. Did you mean to use a boolean array?\n",
      "  region_labels = measure.label(morphology.remove_small_holes(seg, area_threshold=5, connectivity=1).astype(\"uint8\"), background=1)\n"
     ]
    },
    {
     "name": "stdout",
     "output_type": "stream",
     "text": [
      "780 194\n",
      "4505\n",
      "215428 1939\n",
      "0163_OD\n"
     ]
    },
    {
     "name": "stderr",
     "output_type": "stream",
     "text": [
      "/home/alex_johannes/octa_gnn/OCTA_gnn/generator/heterograph_from_vvg_generator.py:148: UserWarning: Any labeled images will be returned as a boolean array. Did you mean to use a boolean array?\n",
      "  region_labels = measure.label(morphology.remove_small_holes(seg, area_threshold=5, connectivity=1).astype(\"uint8\"), background=1)\n"
     ]
    },
    {
     "name": "stdout",
     "output_type": "stream",
     "text": [
      "1623 374\n",
      "7913\n",
      "262251 3492\n",
      "0164_OD\n"
     ]
    },
    {
     "name": "stderr",
     "output_type": "stream",
     "text": [
      "/home/alex_johannes/octa_gnn/OCTA_gnn/generator/heterograph_from_vvg_generator.py:148: UserWarning: Any labeled images will be returned as a boolean array. Did you mean to use a boolean array?\n",
      "  region_labels = measure.label(morphology.remove_small_holes(seg, area_threshold=5, connectivity=1).astype(\"uint8\"), background=1)\n"
     ]
    },
    {
     "name": "stdout",
     "output_type": "stream",
     "text": [
      "1873 414\n",
      "8703\n",
      "270489 3575\n",
      "0164_OS\n"
     ]
    },
    {
     "name": "stderr",
     "output_type": "stream",
     "text": [
      "/home/alex_johannes/octa_gnn/OCTA_gnn/generator/heterograph_from_vvg_generator.py:148: UserWarning: Any labeled images will be returned as a boolean array. Did you mean to use a boolean array?\n",
      "  region_labels = measure.label(morphology.remove_small_holes(seg, area_threshold=5, connectivity=1).astype(\"uint8\"), background=1)\n",
      "/home/alex_johannes/octa_gnn/OCTA_gnn/.venv/lib/python3.10/site-packages/skimage/measure/_regionprops.py:647: RuntimeWarning: invalid value encountered in scalar divide\n",
      "  tuple(M[_get_element(axis)] / M0 for axis in range(self._ndim)))\n"
     ]
    },
    {
     "name": "stdout",
     "output_type": "stream",
     "text": [
      "1895 480\n",
      "8564\n",
      "263089 4328\n",
      "0165_OD\n"
     ]
    },
    {
     "name": "stderr",
     "output_type": "stream",
     "text": [
      "/home/alex_johannes/octa_gnn/OCTA_gnn/generator/heterograph_from_vvg_generator.py:148: UserWarning: Any labeled images will be returned as a boolean array. Did you mean to use a boolean array?\n",
      "  region_labels = measure.label(morphology.remove_small_holes(seg, area_threshold=5, connectivity=1).astype(\"uint8\"), background=1)\n"
     ]
    },
    {
     "name": "stdout",
     "output_type": "stream",
     "text": [
      "918 223\n",
      "5082\n",
      "223927 1699\n",
      "0166_OD\n"
     ]
    },
    {
     "name": "stderr",
     "output_type": "stream",
     "text": [
      "/home/alex_johannes/octa_gnn/OCTA_gnn/generator/heterograph_from_vvg_generator.py:148: UserWarning: Any labeled images will be returned as a boolean array. Did you mean to use a boolean array?\n",
      "  region_labels = measure.label(morphology.remove_small_holes(seg, area_threshold=5, connectivity=1).astype(\"uint8\"), background=1)\n"
     ]
    },
    {
     "name": "stdout",
     "output_type": "stream",
     "text": [
      "1969 488\n",
      "8839\n",
      "266834 4103\n",
      "0166_OS\n"
     ]
    },
    {
     "name": "stderr",
     "output_type": "stream",
     "text": [
      "/home/alex_johannes/octa_gnn/OCTA_gnn/generator/heterograph_from_vvg_generator.py:148: UserWarning: Any labeled images will be returned as a boolean array. Did you mean to use a boolean array?\n",
      "  region_labels = measure.label(morphology.remove_small_holes(seg, area_threshold=5, connectivity=1).astype(\"uint8\"), background=1)\n"
     ]
    },
    {
     "name": "stdout",
     "output_type": "stream",
     "text": [
      "2066 402\n",
      "9251\n",
      "283938 3110\n",
      "0167_OS\n"
     ]
    },
    {
     "name": "stderr",
     "output_type": "stream",
     "text": [
      "/home/alex_johannes/octa_gnn/OCTA_gnn/generator/heterograph_from_vvg_generator.py:148: UserWarning: Any labeled images will be returned as a boolean array. Did you mean to use a boolean array?\n",
      "  region_labels = measure.label(morphology.remove_small_holes(seg, area_threshold=5, connectivity=1).astype(\"uint8\"), background=1)\n"
     ]
    },
    {
     "name": "stdout",
     "output_type": "stream",
     "text": [
      "1953 476\n",
      "9118\n",
      "276605 3428\n",
      "0168_OD\n"
     ]
    },
    {
     "name": "stderr",
     "output_type": "stream",
     "text": [
      "/home/alex_johannes/octa_gnn/OCTA_gnn/generator/heterograph_from_vvg_generator.py:148: UserWarning: Any labeled images will be returned as a boolean array. Did you mean to use a boolean array?\n",
      "  region_labels = measure.label(morphology.remove_small_holes(seg, area_threshold=5, connectivity=1).astype(\"uint8\"), background=1)\n"
     ]
    },
    {
     "name": "stdout",
     "output_type": "stream",
     "text": [
      "1463 386\n",
      "7416\n",
      "260373 3701\n",
      "0168_OS\n"
     ]
    },
    {
     "name": "stderr",
     "output_type": "stream",
     "text": [
      "/home/alex_johannes/octa_gnn/OCTA_gnn/generator/heterograph_from_vvg_generator.py:148: UserWarning: Any labeled images will be returned as a boolean array. Did you mean to use a boolean array?\n",
      "  region_labels = measure.label(morphology.remove_small_holes(seg, area_threshold=5, connectivity=1).astype(\"uint8\"), background=1)\n"
     ]
    },
    {
     "name": "stdout",
     "output_type": "stream",
     "text": [
      "1699 412\n",
      "8010\n",
      "262872 3772\n",
      "0088_OD\n"
     ]
    },
    {
     "name": "stderr",
     "output_type": "stream",
     "text": [
      "/home/alex_johannes/octa_gnn/OCTA_gnn/generator/heterograph_from_vvg_generator.py:148: UserWarning: Any labeled images will be returned as a boolean array. Did you mean to use a boolean array?\n",
      "  region_labels = measure.label(morphology.remove_small_holes(seg, area_threshold=5, connectivity=1).astype(\"uint8\"), background=1)\n"
     ]
    },
    {
     "name": "stdout",
     "output_type": "stream",
     "text": [
      "1614 350\n",
      "7921\n",
      "272420 2368\n",
      "0089_OD\n"
     ]
    },
    {
     "name": "stderr",
     "output_type": "stream",
     "text": [
      "/home/alex_johannes/octa_gnn/OCTA_gnn/generator/heterograph_from_vvg_generator.py:148: UserWarning: Any labeled images will be returned as a boolean array. Did you mean to use a boolean array?\n",
      "  region_labels = measure.label(morphology.remove_small_holes(seg, area_threshold=5, connectivity=1).astype(\"uint8\"), background=1)\n"
     ]
    },
    {
     "name": "stdout",
     "output_type": "stream",
     "text": [
      "1978 457\n",
      "9199\n",
      "277728 3397\n",
      "0089_OS\n"
     ]
    },
    {
     "name": "stderr",
     "output_type": "stream",
     "text": [
      "/home/alex_johannes/octa_gnn/OCTA_gnn/generator/heterograph_from_vvg_generator.py:148: UserWarning: Any labeled images will be returned as a boolean array. Did you mean to use a boolean array?\n",
      "  region_labels = measure.label(morphology.remove_small_holes(seg, area_threshold=5, connectivity=1).astype(\"uint8\"), background=1)\n"
     ]
    },
    {
     "name": "stdout",
     "output_type": "stream",
     "text": [
      "2095 550\n",
      "9588\n",
      "284317 3935\n",
      "0090_OD\n"
     ]
    },
    {
     "name": "stderr",
     "output_type": "stream",
     "text": [
      "/home/alex_johannes/octa_gnn/OCTA_gnn/generator/heterograph_from_vvg_generator.py:148: UserWarning: Any labeled images will be returned as a boolean array. Did you mean to use a boolean array?\n",
      "  region_labels = measure.label(morphology.remove_small_holes(seg, area_threshold=5, connectivity=1).astype(\"uint8\"), background=1)\n"
     ]
    },
    {
     "name": "stdout",
     "output_type": "stream",
     "text": [
      "643 120\n",
      "3912\n",
      "198181 991\n",
      "0091_OS\n"
     ]
    },
    {
     "name": "stderr",
     "output_type": "stream",
     "text": [
      "/home/alex_johannes/octa_gnn/OCTA_gnn/generator/heterograph_from_vvg_generator.py:148: UserWarning: Any labeled images will be returned as a boolean array. Did you mean to use a boolean array?\n",
      "  region_labels = measure.label(morphology.remove_small_holes(seg, area_threshold=5, connectivity=1).astype(\"uint8\"), background=1)\n"
     ]
    },
    {
     "name": "stdout",
     "output_type": "stream",
     "text": [
      "893 211\n",
      "5028\n",
      "223136 1595\n",
      "0092_OD\n"
     ]
    },
    {
     "name": "stderr",
     "output_type": "stream",
     "text": [
      "/home/alex_johannes/octa_gnn/OCTA_gnn/generator/heterograph_from_vvg_generator.py:148: UserWarning: Any labeled images will be returned as a boolean array. Did you mean to use a boolean array?\n",
      "  region_labels = measure.label(morphology.remove_small_holes(seg, area_threshold=5, connectivity=1).astype(\"uint8\"), background=1)\n"
     ]
    },
    {
     "name": "stdout",
     "output_type": "stream",
     "text": [
      "1566 352\n",
      "7589\n",
      "256965 2849\n",
      "0092_OS\n"
     ]
    },
    {
     "name": "stderr",
     "output_type": "stream",
     "text": [
      "/home/alex_johannes/octa_gnn/OCTA_gnn/generator/heterograph_from_vvg_generator.py:148: UserWarning: Any labeled images will be returned as a boolean array. Did you mean to use a boolean array?\n",
      "  region_labels = measure.label(morphology.remove_small_holes(seg, area_threshold=5, connectivity=1).astype(\"uint8\"), background=1)\n"
     ]
    },
    {
     "name": "stdout",
     "output_type": "stream",
     "text": [
      "1428 315\n",
      "7044\n",
      "247896 2704\n",
      "0093_OD\n"
     ]
    },
    {
     "name": "stderr",
     "output_type": "stream",
     "text": [
      "/home/alex_johannes/octa_gnn/OCTA_gnn/generator/heterograph_from_vvg_generator.py:148: UserWarning: Any labeled images will be returned as a boolean array. Did you mean to use a boolean array?\n",
      "  region_labels = measure.label(morphology.remove_small_holes(seg, area_threshold=5, connectivity=1).astype(\"uint8\"), background=1)\n"
     ]
    },
    {
     "name": "stdout",
     "output_type": "stream",
     "text": [
      "1328 294\n",
      "6642\n",
      "241323 2934\n",
      "0094_OD\n"
     ]
    },
    {
     "name": "stderr",
     "output_type": "stream",
     "text": [
      "/home/alex_johannes/octa_gnn/OCTA_gnn/generator/heterograph_from_vvg_generator.py:148: UserWarning: Any labeled images will be returned as a boolean array. Did you mean to use a boolean array?\n",
      "  region_labels = measure.label(morphology.remove_small_holes(seg, area_threshold=5, connectivity=1).astype(\"uint8\"), background=1)\n"
     ]
    },
    {
     "name": "stdout",
     "output_type": "stream",
     "text": [
      "853 210\n",
      "4978\n",
      "220438 2090\n",
      "0095_OD\n"
     ]
    },
    {
     "name": "stderr",
     "output_type": "stream",
     "text": [
      "/home/alex_johannes/octa_gnn/OCTA_gnn/generator/heterograph_from_vvg_generator.py:148: UserWarning: Any labeled images will be returned as a boolean array. Did you mean to use a boolean array?\n",
      "  region_labels = measure.label(morphology.remove_small_holes(seg, area_threshold=5, connectivity=1).astype(\"uint8\"), background=1)\n",
      "/home/alex_johannes/octa_gnn/OCTA_gnn/.venv/lib/python3.10/site-packages/skimage/measure/_regionprops.py:647: RuntimeWarning: invalid value encountered in scalar divide\n",
      "  tuple(M[_get_element(axis)] / M0 for axis in range(self._ndim)))\n"
     ]
    },
    {
     "name": "stdout",
     "output_type": "stream",
     "text": [
      "1521 318\n",
      "7570\n",
      "264590 3333\n",
      "0095_OS\n"
     ]
    },
    {
     "name": "stderr",
     "output_type": "stream",
     "text": [
      "/home/alex_johannes/octa_gnn/OCTA_gnn/generator/heterograph_from_vvg_generator.py:148: UserWarning: Any labeled images will be returned as a boolean array. Did you mean to use a boolean array?\n",
      "  region_labels = measure.label(morphology.remove_small_holes(seg, area_threshold=5, connectivity=1).astype(\"uint8\"), background=1)\n"
     ]
    },
    {
     "name": "stdout",
     "output_type": "stream",
     "text": [
      "1461 318\n",
      "7405\n",
      "262186 2792\n",
      "0096_OD\n"
     ]
    },
    {
     "name": "stderr",
     "output_type": "stream",
     "text": [
      "/home/alex_johannes/octa_gnn/OCTA_gnn/generator/heterograph_from_vvg_generator.py:148: UserWarning: Any labeled images will be returned as a boolean array. Did you mean to use a boolean array?\n",
      "  region_labels = measure.label(morphology.remove_small_holes(seg, area_threshold=5, connectivity=1).astype(\"uint8\"), background=1)\n"
     ]
    },
    {
     "name": "stdout",
     "output_type": "stream",
     "text": [
      "1554 342\n",
      "7764\n",
      "268009 2629\n",
      "0096_OS\n"
     ]
    },
    {
     "name": "stderr",
     "output_type": "stream",
     "text": [
      "/home/alex_johannes/octa_gnn/OCTA_gnn/generator/heterograph_from_vvg_generator.py:148: UserWarning: Any labeled images will be returned as a boolean array. Did you mean to use a boolean array?\n",
      "  region_labels = measure.label(morphology.remove_small_holes(seg, area_threshold=5, connectivity=1).astype(\"uint8\"), background=1)\n"
     ]
    },
    {
     "name": "stdout",
     "output_type": "stream",
     "text": [
      "1605 363\n",
      "7819\n",
      "273977 2923\n",
      "0097_OD\n"
     ]
    },
    {
     "name": "stderr",
     "output_type": "stream",
     "text": [
      "/home/alex_johannes/octa_gnn/OCTA_gnn/generator/heterograph_from_vvg_generator.py:148: UserWarning: Any labeled images will be returned as a boolean array. Did you mean to use a boolean array?\n",
      "  region_labels = measure.label(morphology.remove_small_holes(seg, area_threshold=5, connectivity=1).astype(\"uint8\"), background=1)\n"
     ]
    },
    {
     "name": "stdout",
     "output_type": "stream",
     "text": [
      "1858 431\n",
      "8715\n",
      "280452 2739\n",
      "0097_OS\n"
     ]
    },
    {
     "name": "stderr",
     "output_type": "stream",
     "text": [
      "/home/alex_johannes/octa_gnn/OCTA_gnn/generator/heterograph_from_vvg_generator.py:148: UserWarning: Any labeled images will be returned as a boolean array. Did you mean to use a boolean array?\n",
      "  region_labels = measure.label(morphology.remove_small_holes(seg, area_threshold=5, connectivity=1).astype(\"uint8\"), background=1)\n"
     ]
    },
    {
     "name": "stdout",
     "output_type": "stream",
     "text": [
      "1937 500\n",
      "8978\n",
      "277682 3790\n",
      "0098_OS\n"
     ]
    },
    {
     "name": "stderr",
     "output_type": "stream",
     "text": [
      "/home/alex_johannes/octa_gnn/OCTA_gnn/generator/heterograph_from_vvg_generator.py:148: UserWarning: Any labeled images will be returned as a boolean array. Did you mean to use a boolean array?\n",
      "  region_labels = measure.label(morphology.remove_small_holes(seg, area_threshold=5, connectivity=1).astype(\"uint8\"), background=1)\n"
     ]
    },
    {
     "name": "stdout",
     "output_type": "stream",
     "text": [
      "1974 450\n",
      "8729\n",
      "267811 3546\n",
      "0099_OS\n"
     ]
    },
    {
     "name": "stderr",
     "output_type": "stream",
     "text": [
      "/home/alex_johannes/octa_gnn/OCTA_gnn/generator/heterograph_from_vvg_generator.py:148: UserWarning: Any labeled images will be returned as a boolean array. Did you mean to use a boolean array?\n",
      "  region_labels = measure.label(morphology.remove_small_holes(seg, area_threshold=5, connectivity=1).astype(\"uint8\"), background=1)\n"
     ]
    },
    {
     "name": "stdout",
     "output_type": "stream",
     "text": [
      "1694 417\n",
      "8038\n",
      "264858 3622\n",
      "0100_OD\n"
     ]
    },
    {
     "name": "stderr",
     "output_type": "stream",
     "text": [
      "/home/alex_johannes/octa_gnn/OCTA_gnn/generator/heterograph_from_vvg_generator.py:148: UserWarning: Any labeled images will be returned as a boolean array. Did you mean to use a boolean array?\n",
      "  region_labels = measure.label(morphology.remove_small_holes(seg, area_threshold=5, connectivity=1).astype(\"uint8\"), background=1)\n"
     ]
    },
    {
     "name": "stdout",
     "output_type": "stream",
     "text": [
      "1407 339\n",
      "6960\n",
      "249204 3171\n",
      "0100_OS\n"
     ]
    },
    {
     "name": "stderr",
     "output_type": "stream",
     "text": [
      "/home/alex_johannes/octa_gnn/OCTA_gnn/generator/heterograph_from_vvg_generator.py:148: UserWarning: Any labeled images will be returned as a boolean array. Did you mean to use a boolean array?\n",
      "  region_labels = measure.label(morphology.remove_small_holes(seg, area_threshold=5, connectivity=1).astype(\"uint8\"), background=1)\n"
     ]
    },
    {
     "name": "stdout",
     "output_type": "stream",
     "text": [
      "583 115\n",
      "3747\n",
      "199615 973\n",
      "0101_OD\n"
     ]
    },
    {
     "name": "stderr",
     "output_type": "stream",
     "text": [
      "/home/alex_johannes/octa_gnn/OCTA_gnn/generator/heterograph_from_vvg_generator.py:148: UserWarning: Any labeled images will be returned as a boolean array. Did you mean to use a boolean array?\n",
      "  region_labels = measure.label(morphology.remove_small_holes(seg, area_threshold=5, connectivity=1).astype(\"uint8\"), background=1)\n"
     ]
    },
    {
     "name": "stdout",
     "output_type": "stream",
     "text": [
      "526 105\n",
      "3285\n",
      "180948 998\n",
      "0101_OS\n"
     ]
    },
    {
     "name": "stderr",
     "output_type": "stream",
     "text": [
      "/home/alex_johannes/octa_gnn/OCTA_gnn/generator/heterograph_from_vvg_generator.py:148: UserWarning: Any labeled images will be returned as a boolean array. Did you mean to use a boolean array?\n",
      "  region_labels = measure.label(morphology.remove_small_holes(seg, area_threshold=5, connectivity=1).astype(\"uint8\"), background=1)\n"
     ]
    },
    {
     "name": "stdout",
     "output_type": "stream",
     "text": [
      "1656 469\n",
      "7950\n",
      "246345 4447\n",
      "0704_OD\n"
     ]
    },
    {
     "name": "stderr",
     "output_type": "stream",
     "text": [
      "/home/alex_johannes/octa_gnn/OCTA_gnn/generator/heterograph_from_vvg_generator.py:148: UserWarning: Any labeled images will be returned as a boolean array. Did you mean to use a boolean array?\n",
      "  region_labels = measure.label(morphology.remove_small_holes(seg, area_threshold=5, connectivity=1).astype(\"uint8\"), background=1)\n"
     ]
    },
    {
     "name": "stdout",
     "output_type": "stream",
     "text": [
      "1540 354\n",
      "7537\n",
      "261459 3107\n",
      "0704_OS\n"
     ]
    },
    {
     "name": "stderr",
     "output_type": "stream",
     "text": [
      "/home/alex_johannes/octa_gnn/OCTA_gnn/generator/heterograph_from_vvg_generator.py:148: UserWarning: Any labeled images will be returned as a boolean array. Did you mean to use a boolean array?\n",
      "  region_labels = measure.label(morphology.remove_small_holes(seg, area_threshold=5, connectivity=1).astype(\"uint8\"), background=1)\n"
     ]
    },
    {
     "name": "stdout",
     "output_type": "stream",
     "text": [
      "1931 449\n",
      "8696\n",
      "265354 3702\n",
      "0705_OS\n"
     ]
    },
    {
     "name": "stderr",
     "output_type": "stream",
     "text": [
      "/home/alex_johannes/octa_gnn/OCTA_gnn/generator/heterograph_from_vvg_generator.py:148: UserWarning: Any labeled images will be returned as a boolean array. Did you mean to use a boolean array?\n",
      "  region_labels = measure.label(morphology.remove_small_holes(seg, area_threshold=5, connectivity=1).astype(\"uint8\"), background=1)\n"
     ]
    },
    {
     "name": "stdout",
     "output_type": "stream",
     "text": [
      "822 212\n",
      "4939\n",
      "216114 1924\n",
      "0706_OD\n"
     ]
    },
    {
     "name": "stderr",
     "output_type": "stream",
     "text": [
      "/home/alex_johannes/octa_gnn/OCTA_gnn/generator/heterograph_from_vvg_generator.py:148: UserWarning: Any labeled images will be returned as a boolean array. Did you mean to use a boolean array?\n",
      "  region_labels = measure.label(morphology.remove_small_holes(seg, area_threshold=5, connectivity=1).astype(\"uint8\"), background=1)\n"
     ]
    },
    {
     "name": "stdout",
     "output_type": "stream",
     "text": [
      "455 94\n",
      "3002\n",
      "179240 1033\n",
      "0707_OD\n"
     ]
    },
    {
     "name": "stderr",
     "output_type": "stream",
     "text": [
      "/home/alex_johannes/octa_gnn/OCTA_gnn/generator/heterograph_from_vvg_generator.py:148: UserWarning: Any labeled images will be returned as a boolean array. Did you mean to use a boolean array?\n",
      "  region_labels = measure.label(morphology.remove_small_holes(seg, area_threshold=5, connectivity=1).astype(\"uint8\"), background=1)\n"
     ]
    },
    {
     "name": "stdout",
     "output_type": "stream",
     "text": [
      "1862 387\n",
      "8392\n",
      "272976 3006\n",
      "0708_OD\n"
     ]
    },
    {
     "name": "stderr",
     "output_type": "stream",
     "text": [
      "/home/alex_johannes/octa_gnn/OCTA_gnn/generator/heterograph_from_vvg_generator.py:148: UserWarning: Any labeled images will be returned as a boolean array. Did you mean to use a boolean array?\n",
      "  region_labels = measure.label(morphology.remove_small_holes(seg, area_threshold=5, connectivity=1).astype(\"uint8\"), background=1)\n"
     ]
    },
    {
     "name": "stdout",
     "output_type": "stream",
     "text": [
      "1766 384\n",
      "8154\n",
      "271850 3492\n",
      "0708_OS\n"
     ]
    },
    {
     "name": "stderr",
     "output_type": "stream",
     "text": [
      "/home/alex_johannes/octa_gnn/OCTA_gnn/generator/heterograph_from_vvg_generator.py:148: UserWarning: Any labeled images will be returned as a boolean array. Did you mean to use a boolean array?\n",
      "  region_labels = measure.label(morphology.remove_small_holes(seg, area_threshold=5, connectivity=1).astype(\"uint8\"), background=1)\n"
     ]
    },
    {
     "name": "stdout",
     "output_type": "stream",
     "text": [
      "1866 406\n",
      "8408\n",
      "278090 3625\n",
      "0709_OS\n"
     ]
    },
    {
     "name": "stderr",
     "output_type": "stream",
     "text": [
      "/home/alex_johannes/octa_gnn/OCTA_gnn/generator/heterograph_from_vvg_generator.py:148: UserWarning: Any labeled images will be returned as a boolean array. Did you mean to use a boolean array?\n",
      "  region_labels = measure.label(morphology.remove_small_holes(seg, area_threshold=5, connectivity=1).astype(\"uint8\"), background=1)\n"
     ]
    },
    {
     "name": "stdout",
     "output_type": "stream",
     "text": [
      "1674 387\n",
      "8180\n",
      "265026 2803\n",
      "0710_OS\n"
     ]
    },
    {
     "name": "stderr",
     "output_type": "stream",
     "text": [
      "/home/alex_johannes/octa_gnn/OCTA_gnn/generator/heterograph_from_vvg_generator.py:148: UserWarning: Any labeled images will be returned as a boolean array. Did you mean to use a boolean array?\n",
      "  region_labels = measure.label(morphology.remove_small_holes(seg, area_threshold=5, connectivity=1).astype(\"uint8\"), background=1)\n"
     ]
    },
    {
     "name": "stdout",
     "output_type": "stream",
     "text": [
      "1591 411\n",
      "7462\n",
      "249040 3567\n",
      "0711_OD\n"
     ]
    },
    {
     "name": "stderr",
     "output_type": "stream",
     "text": [
      "/home/alex_johannes/octa_gnn/OCTA_gnn/generator/heterograph_from_vvg_generator.py:148: UserWarning: Any labeled images will be returned as a boolean array. Did you mean to use a boolean array?\n",
      "  region_labels = measure.label(morphology.remove_small_holes(seg, area_threshold=5, connectivity=1).astype(\"uint8\"), background=1)\n"
     ]
    },
    {
     "name": "stdout",
     "output_type": "stream",
     "text": [
      "1951 470\n",
      "9046\n",
      "282385 3654\n",
      "0711_OS\n"
     ]
    },
    {
     "name": "stderr",
     "output_type": "stream",
     "text": [
      "/home/alex_johannes/octa_gnn/OCTA_gnn/generator/heterograph_from_vvg_generator.py:148: UserWarning: Any labeled images will be returned as a boolean array. Did you mean to use a boolean array?\n",
      "  region_labels = measure.label(morphology.remove_small_holes(seg, area_threshold=5, connectivity=1).astype(\"uint8\"), background=1)\n"
     ]
    },
    {
     "name": "stdout",
     "output_type": "stream",
     "text": [
      "1943 547\n",
      "9042\n",
      "266936 4365\n",
      "0712_OD\n"
     ]
    },
    {
     "name": "stderr",
     "output_type": "stream",
     "text": [
      "/home/alex_johannes/octa_gnn/OCTA_gnn/generator/heterograph_from_vvg_generator.py:148: UserWarning: Any labeled images will be returned as a boolean array. Did you mean to use a boolean array?\n",
      "  region_labels = measure.label(morphology.remove_small_holes(seg, area_threshold=5, connectivity=1).astype(\"uint8\"), background=1)\n"
     ]
    },
    {
     "name": "stdout",
     "output_type": "stream",
     "text": [
      "1955 427\n",
      "9010\n",
      "279780 3443\n",
      "0712_OS\n"
     ]
    },
    {
     "name": "stderr",
     "output_type": "stream",
     "text": [
      "/home/alex_johannes/octa_gnn/OCTA_gnn/generator/heterograph_from_vvg_generator.py:148: UserWarning: Any labeled images will be returned as a boolean array. Did you mean to use a boolean array?\n",
      "  region_labels = measure.label(morphology.remove_small_holes(seg, area_threshold=5, connectivity=1).astype(\"uint8\"), background=1)\n"
     ]
    },
    {
     "name": "stdout",
     "output_type": "stream",
     "text": [
      "1930 427\n",
      "8986\n",
      "281217 3757\n",
      "0713_OD\n"
     ]
    },
    {
     "name": "stderr",
     "output_type": "stream",
     "text": [
      "/home/alex_johannes/octa_gnn/OCTA_gnn/generator/heterograph_from_vvg_generator.py:148: UserWarning: Any labeled images will be returned as a boolean array. Did you mean to use a boolean array?\n",
      "  region_labels = measure.label(morphology.remove_small_holes(seg, area_threshold=5, connectivity=1).astype(\"uint8\"), background=1)\n"
     ]
    },
    {
     "name": "stdout",
     "output_type": "stream",
     "text": [
      "1727 378\n",
      "8341\n",
      "281003 2925\n",
      "0714_OD\n"
     ]
    },
    {
     "name": "stderr",
     "output_type": "stream",
     "text": [
      "/home/alex_johannes/octa_gnn/OCTA_gnn/generator/heterograph_from_vvg_generator.py:148: UserWarning: Any labeled images will be returned as a boolean array. Did you mean to use a boolean array?\n",
      "  region_labels = measure.label(morphology.remove_small_holes(seg, area_threshold=5, connectivity=1).astype(\"uint8\"), background=1)\n"
     ]
    },
    {
     "name": "stdout",
     "output_type": "stream",
     "text": [
      "1981 480\n",
      "9046\n",
      "277153 3516\n",
      "0714_OS\n"
     ]
    },
    {
     "name": "stderr",
     "output_type": "stream",
     "text": [
      "/home/alex_johannes/octa_gnn/OCTA_gnn/generator/heterograph_from_vvg_generator.py:148: UserWarning: Any labeled images will be returned as a boolean array. Did you mean to use a boolean array?\n",
      "  region_labels = measure.label(morphology.remove_small_holes(seg, area_threshold=5, connectivity=1).astype(\"uint8\"), background=1)\n"
     ]
    },
    {
     "name": "stdout",
     "output_type": "stream",
     "text": [
      "2168 488\n",
      "9496\n",
      "278166 4273\n",
      "0794_OD\n"
     ]
    },
    {
     "name": "stderr",
     "output_type": "stream",
     "text": [
      "/home/alex_johannes/octa_gnn/OCTA_gnn/generator/heterograph_from_vvg_generator.py:148: UserWarning: Any labeled images will be returned as a boolean array. Did you mean to use a boolean array?\n",
      "  region_labels = measure.label(morphology.remove_small_holes(seg, area_threshold=5, connectivity=1).astype(\"uint8\"), background=1)\n"
     ]
    },
    {
     "name": "stdout",
     "output_type": "stream",
     "text": [
      "1769 387\n",
      "8545\n",
      "273931 3410\n",
      "0794_OS\n"
     ]
    },
    {
     "name": "stderr",
     "output_type": "stream",
     "text": [
      "/home/alex_johannes/octa_gnn/OCTA_gnn/generator/heterograph_from_vvg_generator.py:148: UserWarning: Any labeled images will be returned as a boolean array. Did you mean to use a boolean array?\n",
      "  region_labels = measure.label(morphology.remove_small_holes(seg, area_threshold=5, connectivity=1).astype(\"uint8\"), background=1)\n"
     ]
    },
    {
     "name": "stdout",
     "output_type": "stream",
     "text": [
      "1889 459\n",
      "8668\n",
      "267219 3597\n",
      "0795_OS\n"
     ]
    },
    {
     "name": "stderr",
     "output_type": "stream",
     "text": [
      "/home/alex_johannes/octa_gnn/OCTA_gnn/generator/heterograph_from_vvg_generator.py:148: UserWarning: Any labeled images will be returned as a boolean array. Did you mean to use a boolean array?\n",
      "  region_labels = measure.label(morphology.remove_small_holes(seg, area_threshold=5, connectivity=1).astype(\"uint8\"), background=1)\n"
     ]
    },
    {
     "name": "stdout",
     "output_type": "stream",
     "text": [
      "1413 321\n",
      "7150\n",
      "248278 2491\n",
      "0796_OD\n"
     ]
    },
    {
     "name": "stderr",
     "output_type": "stream",
     "text": [
      "/home/alex_johannes/octa_gnn/OCTA_gnn/generator/heterograph_from_vvg_generator.py:148: UserWarning: Any labeled images will be returned as a boolean array. Did you mean to use a boolean array?\n",
      "  region_labels = measure.label(morphology.remove_small_holes(seg, area_threshold=5, connectivity=1).astype(\"uint8\"), background=1)\n"
     ]
    },
    {
     "name": "stdout",
     "output_type": "stream",
     "text": [
      "1596 419\n",
      "7541\n",
      "245889 3999\n",
      "0797_OD\n"
     ]
    },
    {
     "name": "stderr",
     "output_type": "stream",
     "text": [
      "/home/alex_johannes/octa_gnn/OCTA_gnn/generator/heterograph_from_vvg_generator.py:148: UserWarning: Any labeled images will be returned as a boolean array. Did you mean to use a boolean array?\n",
      "  region_labels = measure.label(morphology.remove_small_holes(seg, area_threshold=5, connectivity=1).astype(\"uint8\"), background=1)\n"
     ]
    },
    {
     "name": "stdout",
     "output_type": "stream",
     "text": [
      "1422 414\n",
      "6900\n",
      "233020 4270\n",
      "0797_OS\n"
     ]
    },
    {
     "name": "stderr",
     "output_type": "stream",
     "text": [
      "/home/alex_johannes/octa_gnn/OCTA_gnn/generator/heterograph_from_vvg_generator.py:148: UserWarning: Any labeled images will be returned as a boolean array. Did you mean to use a boolean array?\n",
      "  region_labels = measure.label(morphology.remove_small_holes(seg, area_threshold=5, connectivity=1).astype(\"uint8\"), background=1)\n"
     ]
    },
    {
     "name": "stdout",
     "output_type": "stream",
     "text": [
      "1514 439\n",
      "7183\n",
      "233548 4089\n",
      "0798_OD\n"
     ]
    },
    {
     "name": "stderr",
     "output_type": "stream",
     "text": [
      "/home/alex_johannes/octa_gnn/OCTA_gnn/generator/heterograph_from_vvg_generator.py:148: UserWarning: Any labeled images will be returned as a boolean array. Did you mean to use a boolean array?\n",
      "  region_labels = measure.label(morphology.remove_small_holes(seg, area_threshold=5, connectivity=1).astype(\"uint8\"), background=1)\n"
     ]
    },
    {
     "name": "stdout",
     "output_type": "stream",
     "text": [
      "2003 490\n",
      "9144\n",
      "278512 4293\n",
      "0799_OD\n"
     ]
    },
    {
     "name": "stderr",
     "output_type": "stream",
     "text": [
      "/home/alex_johannes/octa_gnn/OCTA_gnn/generator/heterograph_from_vvg_generator.py:148: UserWarning: Any labeled images will be returned as a boolean array. Did you mean to use a boolean array?\n",
      "  region_labels = measure.label(morphology.remove_small_holes(seg, area_threshold=5, connectivity=1).astype(\"uint8\"), background=1)\n"
     ]
    },
    {
     "name": "stdout",
     "output_type": "stream",
     "text": [
      "1631 402\n",
      "8064\n",
      "266692 3559\n",
      "0799_OS\n"
     ]
    },
    {
     "name": "stderr",
     "output_type": "stream",
     "text": [
      "/home/alex_johannes/octa_gnn/OCTA_gnn/generator/heterograph_from_vvg_generator.py:148: UserWarning: Any labeled images will be returned as a boolean array. Did you mean to use a boolean array?\n",
      "  region_labels = measure.label(morphology.remove_small_holes(seg, area_threshold=5, connectivity=1).astype(\"uint8\"), background=1)\n"
     ]
    },
    {
     "name": "stdout",
     "output_type": "stream",
     "text": [
      "1680 422\n",
      "8125\n",
      "264020 3739\n",
      "0800_OD\n"
     ]
    },
    {
     "name": "stderr",
     "output_type": "stream",
     "text": [
      "/home/alex_johannes/octa_gnn/OCTA_gnn/generator/heterograph_from_vvg_generator.py:148: UserWarning: Any labeled images will be returned as a boolean array. Did you mean to use a boolean array?\n",
      "  region_labels = measure.label(morphology.remove_small_holes(seg, area_threshold=5, connectivity=1).astype(\"uint8\"), background=1)\n"
     ]
    },
    {
     "name": "stdout",
     "output_type": "stream",
     "text": [
      "1019 217\n",
      "5306\n",
      "229268 2241\n",
      "0800_OS\n"
     ]
    },
    {
     "name": "stderr",
     "output_type": "stream",
     "text": [
      "/home/alex_johannes/octa_gnn/OCTA_gnn/generator/heterograph_from_vvg_generator.py:148: UserWarning: Any labeled images will be returned as a boolean array. Did you mean to use a boolean array?\n",
      "  region_labels = measure.label(morphology.remove_small_holes(seg, area_threshold=5, connectivity=1).astype(\"uint8\"), background=1)\n"
     ]
    },
    {
     "name": "stdout",
     "output_type": "stream",
     "text": [
      "1897 436\n",
      "8632\n",
      "274811 3937\n",
      "0801_OD\n"
     ]
    },
    {
     "name": "stderr",
     "output_type": "stream",
     "text": [
      "/home/alex_johannes/octa_gnn/OCTA_gnn/generator/heterograph_from_vvg_generator.py:148: UserWarning: Any labeled images will be returned as a boolean array. Did you mean to use a boolean array?\n",
      "  region_labels = measure.label(morphology.remove_small_holes(seg, area_threshold=5, connectivity=1).astype(\"uint8\"), background=1)\n"
     ]
    },
    {
     "name": "stdout",
     "output_type": "stream",
     "text": [
      "1582 379\n",
      "7769\n",
      "261302 3642\n",
      "0801_OS\n"
     ]
    },
    {
     "name": "stderr",
     "output_type": "stream",
     "text": [
      "/home/alex_johannes/octa_gnn/OCTA_gnn/generator/heterograph_from_vvg_generator.py:148: UserWarning: Any labeled images will be returned as a boolean array. Did you mean to use a boolean array?\n",
      "  region_labels = measure.label(morphology.remove_small_holes(seg, area_threshold=5, connectivity=1).astype(\"uint8\"), background=1)\n"
     ]
    },
    {
     "name": "stdout",
     "output_type": "stream",
     "text": [
      "1670 427\n",
      "8169\n",
      "268374 3041\n",
      "0802_OD\n"
     ]
    },
    {
     "name": "stderr",
     "output_type": "stream",
     "text": [
      "/home/alex_johannes/octa_gnn/OCTA_gnn/generator/heterograph_from_vvg_generator.py:148: UserWarning: Any labeled images will be returned as a boolean array. Did you mean to use a boolean array?\n",
      "  region_labels = measure.label(morphology.remove_small_holes(seg, area_threshold=5, connectivity=1).astype(\"uint8\"), background=1)\n"
     ]
    },
    {
     "name": "stdout",
     "output_type": "stream",
     "text": [
      "1589 415\n",
      "7575\n",
      "249178 3769\n",
      "0802_OS\n"
     ]
    },
    {
     "name": "stderr",
     "output_type": "stream",
     "text": [
      "/home/alex_johannes/octa_gnn/OCTA_gnn/generator/heterograph_from_vvg_generator.py:148: UserWarning: Any labeled images will be returned as a boolean array. Did you mean to use a boolean array?\n",
      "  region_labels = measure.label(morphology.remove_small_holes(seg, area_threshold=5, connectivity=1).astype(\"uint8\"), background=1)\n"
     ]
    },
    {
     "name": "stdout",
     "output_type": "stream",
     "text": [
      "1495 345\n",
      "7265\n",
      "255522 2857\n",
      "0803_OS\n"
     ]
    },
    {
     "name": "stderr",
     "output_type": "stream",
     "text": [
      "/home/alex_johannes/octa_gnn/OCTA_gnn/generator/heterograph_from_vvg_generator.py:148: UserWarning: Any labeled images will be returned as a boolean array. Did you mean to use a boolean array?\n",
      "  region_labels = measure.label(morphology.remove_small_holes(seg, area_threshold=5, connectivity=1).astype(\"uint8\"), background=1)\n"
     ]
    },
    {
     "name": "stdout",
     "output_type": "stream",
     "text": [
      "2060 489\n",
      "9272\n",
      "280616 3458\n",
      "0804_OD\n"
     ]
    },
    {
     "name": "stderr",
     "output_type": "stream",
     "text": [
      "/home/alex_johannes/octa_gnn/OCTA_gnn/generator/heterograph_from_vvg_generator.py:148: UserWarning: Any labeled images will be returned as a boolean array. Did you mean to use a boolean array?\n",
      "  region_labels = measure.label(morphology.remove_small_holes(seg, area_threshold=5, connectivity=1).astype(\"uint8\"), background=1)\n"
     ]
    },
    {
     "name": "stdout",
     "output_type": "stream",
     "text": [
      "1893 490\n",
      "8772\n",
      "272415 4497\n",
      "0838_OD\n"
     ]
    },
    {
     "name": "stderr",
     "output_type": "stream",
     "text": [
      "/home/alex_johannes/octa_gnn/OCTA_gnn/generator/heterograph_from_vvg_generator.py:148: UserWarning: Any labeled images will be returned as a boolean array. Did you mean to use a boolean array?\n",
      "  region_labels = measure.label(morphology.remove_small_holes(seg, area_threshold=5, connectivity=1).astype(\"uint8\"), background=1)\n",
      "/home/alex_johannes/octa_gnn/OCTA_gnn/.venv/lib/python3.10/site-packages/skimage/measure/_regionprops.py:647: RuntimeWarning: invalid value encountered in scalar divide\n",
      "  tuple(M[_get_element(axis)] / M0 for axis in range(self._ndim)))\n"
     ]
    },
    {
     "name": "stdout",
     "output_type": "stream",
     "text": [
      "1748 375\n",
      "8126\n",
      "267373 3388\n",
      "0839_OD\n"
     ]
    },
    {
     "name": "stderr",
     "output_type": "stream",
     "text": [
      "/home/alex_johannes/octa_gnn/OCTA_gnn/generator/heterograph_from_vvg_generator.py:148: UserWarning: Any labeled images will be returned as a boolean array. Did you mean to use a boolean array?\n",
      "  region_labels = measure.label(morphology.remove_small_holes(seg, area_threshold=5, connectivity=1).astype(\"uint8\"), background=1)\n"
     ]
    },
    {
     "name": "stdout",
     "output_type": "stream",
     "text": [
      "1808 429\n",
      "8415\n",
      "263216 3238\n",
      "0839_OS\n"
     ]
    },
    {
     "name": "stderr",
     "output_type": "stream",
     "text": [
      "/home/alex_johannes/octa_gnn/OCTA_gnn/generator/heterograph_from_vvg_generator.py:148: UserWarning: Any labeled images will be returned as a boolean array. Did you mean to use a boolean array?\n",
      "  region_labels = measure.label(morphology.remove_small_holes(seg, area_threshold=5, connectivity=1).astype(\"uint8\"), background=1)\n"
     ]
    },
    {
     "name": "stdout",
     "output_type": "stream",
     "text": [
      "1801 392\n",
      "8325\n",
      "259397 3459\n",
      "0840_OD\n"
     ]
    },
    {
     "name": "stderr",
     "output_type": "stream",
     "text": [
      "/home/alex_johannes/octa_gnn/OCTA_gnn/generator/heterograph_from_vvg_generator.py:148: UserWarning: Any labeled images will be returned as a boolean array. Did you mean to use a boolean array?\n",
      "  region_labels = measure.label(morphology.remove_small_holes(seg, area_threshold=5, connectivity=1).astype(\"uint8\"), background=1)\n"
     ]
    },
    {
     "name": "stdout",
     "output_type": "stream",
     "text": [
      "1565 337\n",
      "7680\n",
      "269147 2869\n",
      "0841_OD\n"
     ]
    },
    {
     "name": "stderr",
     "output_type": "stream",
     "text": [
      "/home/alex_johannes/octa_gnn/OCTA_gnn/generator/heterograph_from_vvg_generator.py:148: UserWarning: Any labeled images will be returned as a boolean array. Did you mean to use a boolean array?\n",
      "  region_labels = measure.label(morphology.remove_small_holes(seg, area_threshold=5, connectivity=1).astype(\"uint8\"), background=1)\n"
     ]
    },
    {
     "name": "stdout",
     "output_type": "stream",
     "text": [
      "1296 357\n",
      "6824\n",
      "236794 2846\n",
      "0842_OD\n"
     ]
    },
    {
     "name": "stderr",
     "output_type": "stream",
     "text": [
      "/home/alex_johannes/octa_gnn/OCTA_gnn/generator/heterograph_from_vvg_generator.py:148: UserWarning: Any labeled images will be returned as a boolean array. Did you mean to use a boolean array?\n",
      "  region_labels = measure.label(morphology.remove_small_holes(seg, area_threshold=5, connectivity=1).astype(\"uint8\"), background=1)\n"
     ]
    },
    {
     "name": "stdout",
     "output_type": "stream",
     "text": [
      "1453 308\n",
      "7286\n",
      "252360 2908\n",
      "0842_OS\n"
     ]
    },
    {
     "name": "stderr",
     "output_type": "stream",
     "text": [
      "/home/alex_johannes/octa_gnn/OCTA_gnn/generator/heterograph_from_vvg_generator.py:148: UserWarning: Any labeled images will be returned as a boolean array. Did you mean to use a boolean array?\n",
      "  region_labels = measure.label(morphology.remove_small_holes(seg, area_threshold=5, connectivity=1).astype(\"uint8\"), background=1)\n"
     ]
    },
    {
     "name": "stdout",
     "output_type": "stream",
     "text": [
      "1485 372\n",
      "7496\n",
      "256242 3399\n",
      "0843_OD\n"
     ]
    },
    {
     "name": "stderr",
     "output_type": "stream",
     "text": [
      "/home/alex_johannes/octa_gnn/OCTA_gnn/generator/heterograph_from_vvg_generator.py:148: UserWarning: Any labeled images will be returned as a boolean array. Did you mean to use a boolean array?\n",
      "  region_labels = measure.label(morphology.remove_small_holes(seg, area_threshold=5, connectivity=1).astype(\"uint8\"), background=1)\n"
     ]
    },
    {
     "name": "stdout",
     "output_type": "stream",
     "text": [
      "1975 450\n",
      "9046\n",
      "273546 3850\n",
      "0843_OS\n"
     ]
    },
    {
     "name": "stderr",
     "output_type": "stream",
     "text": [
      "/home/alex_johannes/octa_gnn/OCTA_gnn/generator/heterograph_from_vvg_generator.py:148: UserWarning: Any labeled images will be returned as a boolean array. Did you mean to use a boolean array?\n",
      "  region_labels = measure.label(morphology.remove_small_holes(seg, area_threshold=5, connectivity=1).astype(\"uint8\"), background=1)\n"
     ]
    },
    {
     "name": "stdout",
     "output_type": "stream",
     "text": [
      "1987 463\n",
      "8932\n",
      "273904 3747\n",
      "0844_OD\n"
     ]
    },
    {
     "name": "stderr",
     "output_type": "stream",
     "text": [
      "/home/alex_johannes/octa_gnn/OCTA_gnn/generator/heterograph_from_vvg_generator.py:148: UserWarning: Any labeled images will be returned as a boolean array. Did you mean to use a boolean array?\n",
      "  region_labels = measure.label(morphology.remove_small_holes(seg, area_threshold=5, connectivity=1).astype(\"uint8\"), background=1)\n"
     ]
    },
    {
     "name": "stdout",
     "output_type": "stream",
     "text": [
      "1613 382\n",
      "7586\n",
      "248360 4580\n",
      "0844_OS\n"
     ]
    },
    {
     "name": "stderr",
     "output_type": "stream",
     "text": [
      "/home/alex_johannes/octa_gnn/OCTA_gnn/generator/heterograph_from_vvg_generator.py:148: UserWarning: Any labeled images will be returned as a boolean array. Did you mean to use a boolean array?\n",
      "  region_labels = measure.label(morphology.remove_small_holes(seg, area_threshold=5, connectivity=1).astype(\"uint8\"), background=1)\n"
     ]
    },
    {
     "name": "stdout",
     "output_type": "stream",
     "text": [
      "1528 402\n",
      "7196\n",
      "242975 4311\n",
      "0845_OD\n"
     ]
    },
    {
     "name": "stderr",
     "output_type": "stream",
     "text": [
      "/home/alex_johannes/octa_gnn/OCTA_gnn/generator/heterograph_from_vvg_generator.py:148: UserWarning: Any labeled images will be returned as a boolean array. Did you mean to use a boolean array?\n",
      "  region_labels = measure.label(morphology.remove_small_holes(seg, area_threshold=5, connectivity=1).astype(\"uint8\"), background=1)\n"
     ]
    },
    {
     "name": "stdout",
     "output_type": "stream",
     "text": [
      "1660 404\n",
      "7757\n",
      "261682 3654\n",
      "0845_OS\n"
     ]
    },
    {
     "name": "stderr",
     "output_type": "stream",
     "text": [
      "/home/alex_johannes/octa_gnn/OCTA_gnn/generator/heterograph_from_vvg_generator.py:148: UserWarning: Any labeled images will be returned as a boolean array. Did you mean to use a boolean array?\n",
      "  region_labels = measure.label(morphology.remove_small_holes(seg, area_threshold=5, connectivity=1).astype(\"uint8\"), background=1)\n"
     ]
    },
    {
     "name": "stdout",
     "output_type": "stream",
     "text": [
      "1694 378\n",
      "7916\n",
      "258855 3728\n",
      "0846_OD\n"
     ]
    },
    {
     "name": "stderr",
     "output_type": "stream",
     "text": [
      "/home/alex_johannes/octa_gnn/OCTA_gnn/generator/heterograph_from_vvg_generator.py:148: UserWarning: Any labeled images will be returned as a boolean array. Did you mean to use a boolean array?\n",
      "  region_labels = measure.label(morphology.remove_small_holes(seg, area_threshold=5, connectivity=1).astype(\"uint8\"), background=1)\n"
     ]
    },
    {
     "name": "stdout",
     "output_type": "stream",
     "text": [
      "2126 470\n",
      "9447\n",
      "280142 3317\n",
      "0846_OS\n"
     ]
    },
    {
     "name": "stderr",
     "output_type": "stream",
     "text": [
      "/home/alex_johannes/octa_gnn/OCTA_gnn/generator/heterograph_from_vvg_generator.py:148: UserWarning: Any labeled images will be returned as a boolean array. Did you mean to use a boolean array?\n",
      "  region_labels = measure.label(morphology.remove_small_holes(seg, area_threshold=5, connectivity=1).astype(\"uint8\"), background=1)\n"
     ]
    },
    {
     "name": "stdout",
     "output_type": "stream",
     "text": [
      "1938 483\n",
      "8997\n",
      "273497 3821\n",
      "0847_OD\n"
     ]
    },
    {
     "name": "stderr",
     "output_type": "stream",
     "text": [
      "/home/alex_johannes/octa_gnn/OCTA_gnn/generator/heterograph_from_vvg_generator.py:148: UserWarning: Any labeled images will be returned as a boolean array. Did you mean to use a boolean array?\n",
      "  region_labels = measure.label(morphology.remove_small_holes(seg, area_threshold=5, connectivity=1).astype(\"uint8\"), background=1)\n"
     ]
    },
    {
     "name": "stdout",
     "output_type": "stream",
     "text": [
      "1699 345\n",
      "8178\n",
      "272148 2690\n",
      "0847_OS\n"
     ]
    },
    {
     "name": "stderr",
     "output_type": "stream",
     "text": [
      "/home/alex_johannes/octa_gnn/OCTA_gnn/generator/heterograph_from_vvg_generator.py:148: UserWarning: Any labeled images will be returned as a boolean array. Did you mean to use a boolean array?\n",
      "  region_labels = measure.label(morphology.remove_small_holes(seg, area_threshold=5, connectivity=1).astype(\"uint8\"), background=1)\n"
     ]
    },
    {
     "name": "stdout",
     "output_type": "stream",
     "text": [
      "1590 410\n",
      "7644\n",
      "259780 2848\n",
      "0848_OD\n"
     ]
    },
    {
     "name": "stderr",
     "output_type": "stream",
     "text": [
      "/home/alex_johannes/octa_gnn/OCTA_gnn/generator/heterograph_from_vvg_generator.py:148: UserWarning: Any labeled images will be returned as a boolean array. Did you mean to use a boolean array?\n",
      "  region_labels = measure.label(morphology.remove_small_holes(seg, area_threshold=5, connectivity=1).astype(\"uint8\"), background=1)\n"
     ]
    },
    {
     "name": "stdout",
     "output_type": "stream",
     "text": [
      "1656 339\n",
      "7935\n",
      "268874 2871\n",
      "0130_OS\n"
     ]
    },
    {
     "name": "stderr",
     "output_type": "stream",
     "text": [
      "/home/alex_johannes/octa_gnn/OCTA_gnn/generator/heterograph_from_vvg_generator.py:148: UserWarning: Any labeled images will be returned as a boolean array. Did you mean to use a boolean array?\n",
      "  region_labels = measure.label(morphology.remove_small_holes(seg, area_threshold=5, connectivity=1).astype(\"uint8\"), background=1)\n"
     ]
    },
    {
     "name": "stdout",
     "output_type": "stream",
     "text": [
      "1811 359\n",
      "8594\n",
      "283023 2750\n",
      "0131_OD\n"
     ]
    },
    {
     "name": "stderr",
     "output_type": "stream",
     "text": [
      "/home/alex_johannes/octa_gnn/OCTA_gnn/generator/heterograph_from_vvg_generator.py:148: UserWarning: Any labeled images will be returned as a boolean array. Did you mean to use a boolean array?\n",
      "  region_labels = measure.label(morphology.remove_small_holes(seg, area_threshold=5, connectivity=1).astype(\"uint8\"), background=1)\n"
     ]
    },
    {
     "name": "stdout",
     "output_type": "stream",
     "text": [
      "1886 419\n",
      "8715\n",
      "274386 3478\n",
      "0131_OS\n"
     ]
    },
    {
     "name": "stderr",
     "output_type": "stream",
     "text": [
      "/home/alex_johannes/octa_gnn/OCTA_gnn/generator/heterograph_from_vvg_generator.py:148: UserWarning: Any labeled images will be returned as a boolean array. Did you mean to use a boolean array?\n",
      "  region_labels = measure.label(morphology.remove_small_holes(seg, area_threshold=5, connectivity=1).astype(\"uint8\"), background=1)\n"
     ]
    },
    {
     "name": "stdout",
     "output_type": "stream",
     "text": [
      "1883 433\n",
      "8745\n",
      "283819 3520\n",
      "0132_OD\n"
     ]
    },
    {
     "name": "stderr",
     "output_type": "stream",
     "text": [
      "/home/alex_johannes/octa_gnn/OCTA_gnn/generator/heterograph_from_vvg_generator.py:148: UserWarning: Any labeled images will be returned as a boolean array. Did you mean to use a boolean array?\n",
      "  region_labels = measure.label(morphology.remove_small_holes(seg, area_threshold=5, connectivity=1).astype(\"uint8\"), background=1)\n"
     ]
    },
    {
     "name": "stdout",
     "output_type": "stream",
     "text": [
      "2054 379\n",
      "9337\n",
      "292646 2611\n",
      "0132_OS\n"
     ]
    },
    {
     "name": "stderr",
     "output_type": "stream",
     "text": [
      "/home/alex_johannes/octa_gnn/OCTA_gnn/generator/heterograph_from_vvg_generator.py:148: UserWarning: Any labeled images will be returned as a boolean array. Did you mean to use a boolean array?\n",
      "  region_labels = measure.label(morphology.remove_small_holes(seg, area_threshold=5, connectivity=1).astype(\"uint8\"), background=1)\n"
     ]
    },
    {
     "name": "stdout",
     "output_type": "stream",
     "text": [
      "2035 475\n",
      "9050\n",
      "275629 4070\n",
      "0133_OD\n"
     ]
    },
    {
     "name": "stderr",
     "output_type": "stream",
     "text": [
      "/home/alex_johannes/octa_gnn/OCTA_gnn/generator/heterograph_from_vvg_generator.py:148: UserWarning: Any labeled images will be returned as a boolean array. Did you mean to use a boolean array?\n",
      "  region_labels = measure.label(morphology.remove_small_holes(seg, area_threshold=5, connectivity=1).astype(\"uint8\"), background=1)\n"
     ]
    },
    {
     "name": "stdout",
     "output_type": "stream",
     "text": [
      "1117 272\n",
      "5998\n",
      "232712 2156\n",
      "0133_OS\n"
     ]
    },
    {
     "name": "stderr",
     "output_type": "stream",
     "text": [
      "/home/alex_johannes/octa_gnn/OCTA_gnn/generator/heterograph_from_vvg_generator.py:148: UserWarning: Any labeled images will be returned as a boolean array. Did you mean to use a boolean array?\n",
      "  region_labels = measure.label(morphology.remove_small_holes(seg, area_threshold=5, connectivity=1).astype(\"uint8\"), background=1)\n"
     ]
    },
    {
     "name": "stdout",
     "output_type": "stream",
     "text": [
      "1039 265\n",
      "5747\n",
      "228224 2275\n",
      "0134_OS\n"
     ]
    },
    {
     "name": "stderr",
     "output_type": "stream",
     "text": [
      "/home/alex_johannes/octa_gnn/OCTA_gnn/generator/heterograph_from_vvg_generator.py:148: UserWarning: Any labeled images will be returned as a boolean array. Did you mean to use a boolean array?\n",
      "  region_labels = measure.label(morphology.remove_small_holes(seg, area_threshold=5, connectivity=1).astype(\"uint8\"), background=1)\n",
      "/home/alex_johannes/octa_gnn/OCTA_gnn/.venv/lib/python3.10/site-packages/skimage/measure/_regionprops.py:647: RuntimeWarning: invalid value encountered in scalar divide\n",
      "  tuple(M[_get_element(axis)] / M0 for axis in range(self._ndim)))\n"
     ]
    },
    {
     "name": "stdout",
     "output_type": "stream",
     "text": [
      "1827 424\n",
      "8585\n",
      "275074 3529\n",
      "0135_OD\n"
     ]
    },
    {
     "name": "stderr",
     "output_type": "stream",
     "text": [
      "/home/alex_johannes/octa_gnn/OCTA_gnn/generator/heterograph_from_vvg_generator.py:148: UserWarning: Any labeled images will be returned as a boolean array. Did you mean to use a boolean array?\n",
      "  region_labels = measure.label(morphology.remove_small_holes(seg, area_threshold=5, connectivity=1).astype(\"uint8\"), background=1)\n"
     ]
    },
    {
     "name": "stdout",
     "output_type": "stream",
     "text": [
      "714 147\n",
      "4339\n",
      "193577 1642\n",
      "0136_OD\n"
     ]
    },
    {
     "name": "stderr",
     "output_type": "stream",
     "text": [
      "/home/alex_johannes/octa_gnn/OCTA_gnn/generator/heterograph_from_vvg_generator.py:148: UserWarning: Any labeled images will be returned as a boolean array. Did you mean to use a boolean array?\n",
      "  region_labels = measure.label(morphology.remove_small_holes(seg, area_threshold=5, connectivity=1).astype(\"uint8\"), background=1)\n"
     ]
    },
    {
     "name": "stdout",
     "output_type": "stream",
     "text": [
      "1484 328\n",
      "7431\n",
      "252271 2269\n",
      "0137_OD\n"
     ]
    },
    {
     "name": "stderr",
     "output_type": "stream",
     "text": [
      "/home/alex_johannes/octa_gnn/OCTA_gnn/generator/heterograph_from_vvg_generator.py:148: UserWarning: Any labeled images will be returned as a boolean array. Did you mean to use a boolean array?\n",
      "  region_labels = measure.label(morphology.remove_small_holes(seg, area_threshold=5, connectivity=1).astype(\"uint8\"), background=1)\n"
     ]
    },
    {
     "name": "stdout",
     "output_type": "stream",
     "text": [
      "1725 434\n",
      "8050\n",
      "255794 3835\n",
      "0137_OS\n"
     ]
    },
    {
     "name": "stderr",
     "output_type": "stream",
     "text": [
      "/home/alex_johannes/octa_gnn/OCTA_gnn/generator/heterograph_from_vvg_generator.py:148: UserWarning: Any labeled images will be returned as a boolean array. Did you mean to use a boolean array?\n",
      "  region_labels = measure.label(morphology.remove_small_holes(seg, area_threshold=5, connectivity=1).astype(\"uint8\"), background=1)\n"
     ]
    },
    {
     "name": "stdout",
     "output_type": "stream",
     "text": [
      "1828 482\n",
      "8476\n",
      "259384 4126\n",
      "0138_OD\n"
     ]
    },
    {
     "name": "stderr",
     "output_type": "stream",
     "text": [
      "/home/alex_johannes/octa_gnn/OCTA_gnn/generator/heterograph_from_vvg_generator.py:148: UserWarning: Any labeled images will be returned as a boolean array. Did you mean to use a boolean array?\n",
      "  region_labels = measure.label(morphology.remove_small_holes(seg, area_threshold=5, connectivity=1).astype(\"uint8\"), background=1)\n"
     ]
    },
    {
     "name": "stdout",
     "output_type": "stream",
     "text": [
      "2040 574\n",
      "9134\n",
      "270406 4857\n",
      "0139_OD\n"
     ]
    },
    {
     "name": "stderr",
     "output_type": "stream",
     "text": [
      "/home/alex_johannes/octa_gnn/OCTA_gnn/generator/heterograph_from_vvg_generator.py:148: UserWarning: Any labeled images will be returned as a boolean array. Did you mean to use a boolean array?\n",
      "  region_labels = measure.label(morphology.remove_small_holes(seg, area_threshold=5, connectivity=1).astype(\"uint8\"), background=1)\n"
     ]
    },
    {
     "name": "stdout",
     "output_type": "stream",
     "text": [
      "1943 462\n",
      "8987\n",
      "284613 3272\n",
      "0139_OS\n"
     ]
    },
    {
     "name": "stderr",
     "output_type": "stream",
     "text": [
      "/home/alex_johannes/octa_gnn/OCTA_gnn/generator/heterograph_from_vvg_generator.py:148: UserWarning: Any labeled images will be returned as a boolean array. Did you mean to use a boolean array?\n",
      "  region_labels = measure.label(morphology.remove_small_holes(seg, area_threshold=5, connectivity=1).astype(\"uint8\"), background=1)\n"
     ]
    },
    {
     "name": "stdout",
     "output_type": "stream",
     "text": [
      "1878 456\n",
      "8844\n",
      "278792 3333\n",
      "0140_OD\n"
     ]
    },
    {
     "name": "stderr",
     "output_type": "stream",
     "text": [
      "/home/alex_johannes/octa_gnn/OCTA_gnn/generator/heterograph_from_vvg_generator.py:148: UserWarning: Any labeled images will be returned as a boolean array. Did you mean to use a boolean array?\n",
      "  region_labels = measure.label(morphology.remove_small_holes(seg, area_threshold=5, connectivity=1).astype(\"uint8\"), background=1)\n"
     ]
    },
    {
     "name": "stdout",
     "output_type": "stream",
     "text": [
      "1712 394\n",
      "8234\n",
      "267427 3421\n",
      "0140_OS\n"
     ]
    },
    {
     "name": "stderr",
     "output_type": "stream",
     "text": [
      "/home/alex_johannes/octa_gnn/OCTA_gnn/generator/heterograph_from_vvg_generator.py:148: UserWarning: Any labeled images will be returned as a boolean array. Did you mean to use a boolean array?\n",
      "  region_labels = measure.label(morphology.remove_small_holes(seg, area_threshold=5, connectivity=1).astype(\"uint8\"), background=1)\n"
     ]
    },
    {
     "name": "stdout",
     "output_type": "stream",
     "text": [
      "1721 403\n",
      "8297\n",
      "264990 2696\n",
      "0032_OD\n"
     ]
    },
    {
     "name": "stderr",
     "output_type": "stream",
     "text": [
      "/home/alex_johannes/octa_gnn/OCTA_gnn/generator/heterograph_from_vvg_generator.py:148: UserWarning: Any labeled images will be returned as a boolean array. Did you mean to use a boolean array?\n",
      "  region_labels = measure.label(morphology.remove_small_holes(seg, area_threshold=5, connectivity=1).astype(\"uint8\"), background=1)\n"
     ]
    },
    {
     "name": "stdout",
     "output_type": "stream",
     "text": [
      "1587 281\n",
      "7706\n",
      "273643 2484\n",
      "0033_OD\n"
     ]
    },
    {
     "name": "stderr",
     "output_type": "stream",
     "text": [
      "/home/alex_johannes/octa_gnn/OCTA_gnn/generator/heterograph_from_vvg_generator.py:148: UserWarning: Any labeled images will be returned as a boolean array. Did you mean to use a boolean array?\n",
      "  region_labels = measure.label(morphology.remove_small_holes(seg, area_threshold=5, connectivity=1).astype(\"uint8\"), background=1)\n"
     ]
    },
    {
     "name": "stdout",
     "output_type": "stream",
     "text": [
      "2013 448\n",
      "9306\n",
      "280481 3705\n",
      "0034_OD\n"
     ]
    },
    {
     "name": "stderr",
     "output_type": "stream",
     "text": [
      "/home/alex_johannes/octa_gnn/OCTA_gnn/generator/heterograph_from_vvg_generator.py:148: UserWarning: Any labeled images will be returned as a boolean array. Did you mean to use a boolean array?\n",
      "  region_labels = measure.label(morphology.remove_small_holes(seg, area_threshold=5, connectivity=1).astype(\"uint8\"), background=1)\n"
     ]
    },
    {
     "name": "stdout",
     "output_type": "stream",
     "text": [
      "1889 474\n",
      "8753\n",
      "272115 3828\n",
      "0035_OS\n"
     ]
    },
    {
     "name": "stderr",
     "output_type": "stream",
     "text": [
      "/home/alex_johannes/octa_gnn/OCTA_gnn/generator/heterograph_from_vvg_generator.py:148: UserWarning: Any labeled images will be returned as a boolean array. Did you mean to use a boolean array?\n",
      "  region_labels = measure.label(morphology.remove_small_holes(seg, area_threshold=5, connectivity=1).astype(\"uint8\"), background=1)\n"
     ]
    },
    {
     "name": "stdout",
     "output_type": "stream",
     "text": [
      "1887 426\n",
      "8752\n",
      "275362 3110\n",
      "0036_OD\n"
     ]
    },
    {
     "name": "stderr",
     "output_type": "stream",
     "text": [
      "/home/alex_johannes/octa_gnn/OCTA_gnn/generator/heterograph_from_vvg_generator.py:148: UserWarning: Any labeled images will be returned as a boolean array. Did you mean to use a boolean array?\n",
      "  region_labels = measure.label(morphology.remove_small_holes(seg, area_threshold=5, connectivity=1).astype(\"uint8\"), background=1)\n"
     ]
    },
    {
     "name": "stdout",
     "output_type": "stream",
     "text": [
      "1565 416\n",
      "7607\n",
      "264822 3285\n",
      "0036_OS\n"
     ]
    },
    {
     "name": "stderr",
     "output_type": "stream",
     "text": [
      "/home/alex_johannes/octa_gnn/OCTA_gnn/generator/heterograph_from_vvg_generator.py:148: UserWarning: Any labeled images will be returned as a boolean array. Did you mean to use a boolean array?\n",
      "  region_labels = measure.label(morphology.remove_small_holes(seg, area_threshold=5, connectivity=1).astype(\"uint8\"), background=1)\n"
     ]
    },
    {
     "name": "stdout",
     "output_type": "stream",
     "text": [
      "1689 433\n",
      "8200\n",
      "278703 3453\n",
      "0037_OD\n"
     ]
    },
    {
     "name": "stderr",
     "output_type": "stream",
     "text": [
      "/home/alex_johannes/octa_gnn/OCTA_gnn/generator/heterograph_from_vvg_generator.py:148: UserWarning: Any labeled images will be returned as a boolean array. Did you mean to use a boolean array?\n",
      "  region_labels = measure.label(morphology.remove_small_holes(seg, area_threshold=5, connectivity=1).astype(\"uint8\"), background=1)\n"
     ]
    },
    {
     "name": "stdout",
     "output_type": "stream",
     "text": [
      "796 172\n",
      "4515\n",
      "206836 1521\n",
      "0037_OS\n"
     ]
    },
    {
     "name": "stderr",
     "output_type": "stream",
     "text": [
      "/home/alex_johannes/octa_gnn/OCTA_gnn/generator/heterograph_from_vvg_generator.py:148: UserWarning: Any labeled images will be returned as a boolean array. Did you mean to use a boolean array?\n",
      "  region_labels = measure.label(morphology.remove_small_holes(seg, area_threshold=5, connectivity=1).astype(\"uint8\"), background=1)\n"
     ]
    },
    {
     "name": "stdout",
     "output_type": "stream",
     "text": [
      "941 238\n",
      "5201\n",
      "225073 1955\n",
      "0038_OD\n"
     ]
    },
    {
     "name": "stderr",
     "output_type": "stream",
     "text": [
      "/home/alex_johannes/octa_gnn/OCTA_gnn/generator/heterograph_from_vvg_generator.py:148: UserWarning: Any labeled images will be returned as a boolean array. Did you mean to use a boolean array?\n",
      "  region_labels = measure.label(morphology.remove_small_holes(seg, area_threshold=5, connectivity=1).astype(\"uint8\"), background=1)\n"
     ]
    },
    {
     "name": "stdout",
     "output_type": "stream",
     "text": [
      "1696 373\n",
      "8054\n",
      "264046 2883\n",
      "0039_OD\n"
     ]
    },
    {
     "name": "stderr",
     "output_type": "stream",
     "text": [
      "/home/alex_johannes/octa_gnn/OCTA_gnn/generator/heterograph_from_vvg_generator.py:148: UserWarning: Any labeled images will be returned as a boolean array. Did you mean to use a boolean array?\n",
      "  region_labels = measure.label(morphology.remove_small_holes(seg, area_threshold=5, connectivity=1).astype(\"uint8\"), background=1)\n"
     ]
    },
    {
     "name": "stdout",
     "output_type": "stream",
     "text": [
      "1832 454\n",
      "8603\n",
      "269488 3651\n",
      "0039_OS\n"
     ]
    },
    {
     "name": "stderr",
     "output_type": "stream",
     "text": [
      "/home/alex_johannes/octa_gnn/OCTA_gnn/generator/heterograph_from_vvg_generator.py:148: UserWarning: Any labeled images will be returned as a boolean array. Did you mean to use a boolean array?\n",
      "  region_labels = measure.label(morphology.remove_small_holes(seg, area_threshold=5, connectivity=1).astype(\"uint8\"), background=1)\n"
     ]
    },
    {
     "name": "stdout",
     "output_type": "stream",
     "text": [
      "1707 405\n",
      "8204\n",
      "265848 3834\n",
      "0040_OS\n"
     ]
    },
    {
     "name": "stderr",
     "output_type": "stream",
     "text": [
      "/home/alex_johannes/octa_gnn/OCTA_gnn/generator/heterograph_from_vvg_generator.py:148: UserWarning: Any labeled images will be returned as a boolean array. Did you mean to use a boolean array?\n",
      "  region_labels = measure.label(morphology.remove_small_holes(seg, area_threshold=5, connectivity=1).astype(\"uint8\"), background=1)\n"
     ]
    },
    {
     "name": "stdout",
     "output_type": "stream",
     "text": [
      "1380 253\n",
      "6896\n",
      "257763 2226\n",
      "0041_OD\n"
     ]
    },
    {
     "name": "stderr",
     "output_type": "stream",
     "text": [
      "/home/alex_johannes/octa_gnn/OCTA_gnn/generator/heterograph_from_vvg_generator.py:148: UserWarning: Any labeled images will be returned as a boolean array. Did you mean to use a boolean array?\n",
      "  region_labels = measure.label(morphology.remove_small_holes(seg, area_threshold=5, connectivity=1).astype(\"uint8\"), background=1)\n"
     ]
    },
    {
     "name": "stdout",
     "output_type": "stream",
     "text": [
      "1859 455\n",
      "8506\n",
      "263044 3592\n",
      "0041_OS\n"
     ]
    },
    {
     "name": "stderr",
     "output_type": "stream",
     "text": [
      "/home/alex_johannes/octa_gnn/OCTA_gnn/generator/heterograph_from_vvg_generator.py:148: UserWarning: Any labeled images will be returned as a boolean array. Did you mean to use a boolean array?\n",
      "  region_labels = measure.label(morphology.remove_small_holes(seg, area_threshold=5, connectivity=1).astype(\"uint8\"), background=1)\n"
     ]
    },
    {
     "name": "stdout",
     "output_type": "stream",
     "text": [
      "1452 295\n",
      "7323\n",
      "263673 2783\n",
      "0042_OD\n"
     ]
    },
    {
     "name": "stderr",
     "output_type": "stream",
     "text": [
      "/home/alex_johannes/octa_gnn/OCTA_gnn/generator/heterograph_from_vvg_generator.py:148: UserWarning: Any labeled images will be returned as a boolean array. Did you mean to use a boolean array?\n",
      "  region_labels = measure.label(morphology.remove_small_holes(seg, area_threshold=5, connectivity=1).astype(\"uint8\"), background=1)\n"
     ]
    },
    {
     "name": "stdout",
     "output_type": "stream",
     "text": [
      "1076 205\n",
      "5534\n",
      "246003 2267\n",
      "0042_OS\n"
     ]
    },
    {
     "name": "stderr",
     "output_type": "stream",
     "text": [
      "/home/alex_johannes/octa_gnn/OCTA_gnn/generator/heterograph_from_vvg_generator.py:148: UserWarning: Any labeled images will be returned as a boolean array. Did you mean to use a boolean array?\n",
      "  region_labels = measure.label(morphology.remove_small_holes(seg, area_threshold=5, connectivity=1).astype(\"uint8\"), background=1)\n"
     ]
    },
    {
     "name": "stdout",
     "output_type": "stream",
     "text": [
      "1293 319\n",
      "6426\n",
      "251180 2429\n",
      "0043_OS\n"
     ]
    },
    {
     "name": "stderr",
     "output_type": "stream",
     "text": [
      "/home/alex_johannes/octa_gnn/OCTA_gnn/generator/heterograph_from_vvg_generator.py:148: UserWarning: Any labeled images will be returned as a boolean array. Did you mean to use a boolean array?\n",
      "  region_labels = measure.label(morphology.remove_small_holes(seg, area_threshold=5, connectivity=1).astype(\"uint8\"), background=1)\n"
     ]
    },
    {
     "name": "stdout",
     "output_type": "stream",
     "text": [
      "1786 418\n",
      "8355\n",
      "271781 2997\n",
      "0677_OS\n"
     ]
    },
    {
     "name": "stderr",
     "output_type": "stream",
     "text": [
      "/home/alex_johannes/octa_gnn/OCTA_gnn/generator/heterograph_from_vvg_generator.py:148: UserWarning: Any labeled images will be returned as a boolean array. Did you mean to use a boolean array?\n",
      "  region_labels = measure.label(morphology.remove_small_holes(seg, area_threshold=5, connectivity=1).astype(\"uint8\"), background=1)\n"
     ]
    },
    {
     "name": "stdout",
     "output_type": "stream",
     "text": [
      "1310 294\n",
      "6697\n",
      "247974 2537\n",
      "0678_OD\n"
     ]
    },
    {
     "name": "stderr",
     "output_type": "stream",
     "text": [
      "/home/alex_johannes/octa_gnn/OCTA_gnn/generator/heterograph_from_vvg_generator.py:148: UserWarning: Any labeled images will be returned as a boolean array. Did you mean to use a boolean array?\n",
      "  region_labels = measure.label(morphology.remove_small_holes(seg, area_threshold=5, connectivity=1).astype(\"uint8\"), background=1)\n"
     ]
    },
    {
     "name": "stdout",
     "output_type": "stream",
     "text": [
      "1565 381\n",
      "7448\n",
      "256649 3533\n",
      "0679_OD\n"
     ]
    },
    {
     "name": "stderr",
     "output_type": "stream",
     "text": [
      "/home/alex_johannes/octa_gnn/OCTA_gnn/generator/heterograph_from_vvg_generator.py:148: UserWarning: Any labeled images will be returned as a boolean array. Did you mean to use a boolean array?\n",
      "  region_labels = measure.label(morphology.remove_small_holes(seg, area_threshold=5, connectivity=1).astype(\"uint8\"), background=1)\n"
     ]
    },
    {
     "name": "stdout",
     "output_type": "stream",
     "text": [
      "1699 411\n",
      "8105\n",
      "265956 3231\n",
      "0680_OD\n"
     ]
    },
    {
     "name": "stderr",
     "output_type": "stream",
     "text": [
      "/home/alex_johannes/octa_gnn/OCTA_gnn/generator/heterograph_from_vvg_generator.py:148: UserWarning: Any labeled images will be returned as a boolean array. Did you mean to use a boolean array?\n",
      "  region_labels = measure.label(morphology.remove_small_holes(seg, area_threshold=5, connectivity=1).astype(\"uint8\"), background=1)\n"
     ]
    },
    {
     "name": "stdout",
     "output_type": "stream",
     "text": [
      "1568 392\n",
      "7727\n",
      "249666 3232\n",
      "0681_OD\n"
     ]
    },
    {
     "name": "stderr",
     "output_type": "stream",
     "text": [
      "/home/alex_johannes/octa_gnn/OCTA_gnn/generator/heterograph_from_vvg_generator.py:148: UserWarning: Any labeled images will be returned as a boolean array. Did you mean to use a boolean array?\n",
      "  region_labels = measure.label(morphology.remove_small_holes(seg, area_threshold=5, connectivity=1).astype(\"uint8\"), background=1)\n"
     ]
    },
    {
     "name": "stdout",
     "output_type": "stream",
     "text": [
      "1861 426\n",
      "8467\n",
      "262378 3739\n",
      "0681_OS\n"
     ]
    },
    {
     "name": "stderr",
     "output_type": "stream",
     "text": [
      "/home/alex_johannes/octa_gnn/OCTA_gnn/generator/heterograph_from_vvg_generator.py:148: UserWarning: Any labeled images will be returned as a boolean array. Did you mean to use a boolean array?\n",
      "  region_labels = measure.label(morphology.remove_small_holes(seg, area_threshold=5, connectivity=1).astype(\"uint8\"), background=1)\n"
     ]
    },
    {
     "name": "stdout",
     "output_type": "stream",
     "text": [
      "1826 407\n",
      "8319\n",
      "270171 3794\n",
      "0682_OD\n"
     ]
    },
    {
     "name": "stderr",
     "output_type": "stream",
     "text": [
      "/home/alex_johannes/octa_gnn/OCTA_gnn/generator/heterograph_from_vvg_generator.py:148: UserWarning: Any labeled images will be returned as a boolean array. Did you mean to use a boolean array?\n",
      "  region_labels = measure.label(morphology.remove_small_holes(seg, area_threshold=5, connectivity=1).astype(\"uint8\"), background=1)\n"
     ]
    },
    {
     "name": "stdout",
     "output_type": "stream",
     "text": [
      "1765 432\n",
      "8161\n",
      "260991 2800\n",
      "0682_OS\n"
     ]
    },
    {
     "name": "stderr",
     "output_type": "stream",
     "text": [
      "/home/alex_johannes/octa_gnn/OCTA_gnn/generator/heterograph_from_vvg_generator.py:148: UserWarning: Any labeled images will be returned as a boolean array. Did you mean to use a boolean array?\n",
      "  region_labels = measure.label(morphology.remove_small_holes(seg, area_threshold=5, connectivity=1).astype(\"uint8\"), background=1)\n"
     ]
    },
    {
     "name": "stdout",
     "output_type": "stream",
     "text": [
      "1739 347\n",
      "7988\n",
      "262561 2765\n",
      "0683_OS\n"
     ]
    },
    {
     "name": "stderr",
     "output_type": "stream",
     "text": [
      "/home/alex_johannes/octa_gnn/OCTA_gnn/generator/heterograph_from_vvg_generator.py:148: UserWarning: Any labeled images will be returned as a boolean array. Did you mean to use a boolean array?\n",
      "  region_labels = measure.label(morphology.remove_small_holes(seg, area_threshold=5, connectivity=1).astype(\"uint8\"), background=1)\n"
     ]
    },
    {
     "name": "stdout",
     "output_type": "stream",
     "text": [
      "1765 447\n",
      "8461\n",
      "273915 3334\n",
      "0684_OS\n"
     ]
    },
    {
     "name": "stderr",
     "output_type": "stream",
     "text": [
      "/home/alex_johannes/octa_gnn/OCTA_gnn/generator/heterograph_from_vvg_generator.py:148: UserWarning: Any labeled images will be returned as a boolean array. Did you mean to use a boolean array?\n",
      "  region_labels = measure.label(morphology.remove_small_holes(seg, area_threshold=5, connectivity=1).astype(\"uint8\"), background=1)\n"
     ]
    },
    {
     "name": "stdout",
     "output_type": "stream",
     "text": [
      "658 146\n",
      "3862\n",
      "198195 1656\n",
      "0685_OD\n"
     ]
    },
    {
     "name": "stderr",
     "output_type": "stream",
     "text": [
      "/home/alex_johannes/octa_gnn/OCTA_gnn/generator/heterograph_from_vvg_generator.py:148: UserWarning: Any labeled images will be returned as a boolean array. Did you mean to use a boolean array?\n",
      "  region_labels = measure.label(morphology.remove_small_holes(seg, area_threshold=5, connectivity=1).astype(\"uint8\"), background=1)\n"
     ]
    },
    {
     "name": "stdout",
     "output_type": "stream",
     "text": [
      "1839 399\n",
      "8613\n",
      "269574 3381\n",
      "0685_OS\n"
     ]
    },
    {
     "name": "stderr",
     "output_type": "stream",
     "text": [
      "/home/alex_johannes/octa_gnn/OCTA_gnn/generator/heterograph_from_vvg_generator.py:148: UserWarning: Any labeled images will be returned as a boolean array. Did you mean to use a boolean array?\n",
      "  region_labels = measure.label(morphology.remove_small_holes(seg, area_threshold=5, connectivity=1).astype(\"uint8\"), background=1)\n"
     ]
    },
    {
     "name": "stdout",
     "output_type": "stream",
     "text": [
      "1834 382\n",
      "8793\n",
      "283724 3330\n",
      "0686_OD\n"
     ]
    },
    {
     "name": "stderr",
     "output_type": "stream",
     "text": [
      "/home/alex_johannes/octa_gnn/OCTA_gnn/generator/heterograph_from_vvg_generator.py:148: UserWarning: Any labeled images will be returned as a boolean array. Did you mean to use a boolean array?\n",
      "  region_labels = measure.label(morphology.remove_small_holes(seg, area_threshold=5, connectivity=1).astype(\"uint8\"), background=1)\n"
     ]
    },
    {
     "name": "stdout",
     "output_type": "stream",
     "text": [
      "1901 482\n",
      "8734\n",
      "279112 4051\n",
      "0687_OS\n"
     ]
    },
    {
     "name": "stderr",
     "output_type": "stream",
     "text": [
      "/home/alex_johannes/octa_gnn/OCTA_gnn/generator/heterograph_from_vvg_generator.py:148: UserWarning: Any labeled images will be returned as a boolean array. Did you mean to use a boolean array?\n",
      "  region_labels = measure.label(morphology.remove_small_holes(seg, area_threshold=5, connectivity=1).astype(\"uint8\"), background=1)\n"
     ]
    },
    {
     "name": "stdout",
     "output_type": "stream",
     "text": [
      "640 163\n",
      "3997\n",
      "179831 1457\n",
      "0688_OD\n"
     ]
    },
    {
     "name": "stderr",
     "output_type": "stream",
     "text": [
      "/home/alex_johannes/octa_gnn/OCTA_gnn/generator/heterograph_from_vvg_generator.py:148: UserWarning: Any labeled images will be returned as a boolean array. Did you mean to use a boolean array?\n",
      "  region_labels = measure.label(morphology.remove_small_holes(seg, area_threshold=5, connectivity=1).astype(\"uint8\"), background=1)\n"
     ]
    },
    {
     "name": "stdout",
     "output_type": "stream",
     "text": [
      "1871 403\n",
      "8536\n",
      "272520 3685\n",
      "0689_OS\n"
     ]
    },
    {
     "name": "stderr",
     "output_type": "stream",
     "text": [
      "/home/alex_johannes/octa_gnn/OCTA_gnn/generator/heterograph_from_vvg_generator.py:148: UserWarning: Any labeled images will be returned as a boolean array. Did you mean to use a boolean array?\n",
      "  region_labels = measure.label(morphology.remove_small_holes(seg, area_threshold=5, connectivity=1).astype(\"uint8\"), background=1)\n"
     ]
    },
    {
     "name": "stdout",
     "output_type": "stream",
     "text": [
      "1827 420\n",
      "8230\n",
      "261108 3471\n",
      "0690_OD\n"
     ]
    },
    {
     "name": "stderr",
     "output_type": "stream",
     "text": [
      "/home/alex_johannes/octa_gnn/OCTA_gnn/generator/heterograph_from_vvg_generator.py:148: UserWarning: Any labeled images will be returned as a boolean array. Did you mean to use a boolean array?\n",
      "  region_labels = measure.label(morphology.remove_small_holes(seg, area_threshold=5, connectivity=1).astype(\"uint8\"), background=1)\n"
     ]
    },
    {
     "name": "stdout",
     "output_type": "stream",
     "text": [
      "1083 251\n",
      "5782\n",
      "242416 1913\n",
      "0538_OD\n"
     ]
    },
    {
     "name": "stderr",
     "output_type": "stream",
     "text": [
      "/home/alex_johannes/octa_gnn/OCTA_gnn/generator/heterograph_from_vvg_generator.py:148: UserWarning: Any labeled images will be returned as a boolean array. Did you mean to use a boolean array?\n",
      "  region_labels = measure.label(morphology.remove_small_holes(seg, area_threshold=5, connectivity=1).astype(\"uint8\"), background=1)\n"
     ]
    },
    {
     "name": "stdout",
     "output_type": "stream",
     "text": [
      "1290 379\n",
      "6642\n",
      "232385 3408\n",
      "0538_OS\n"
     ]
    },
    {
     "name": "stderr",
     "output_type": "stream",
     "text": [
      "/home/alex_johannes/octa_gnn/OCTA_gnn/generator/heterograph_from_vvg_generator.py:148: UserWarning: Any labeled images will be returned as a boolean array. Did you mean to use a boolean array?\n",
      "  region_labels = measure.label(morphology.remove_small_holes(seg, area_threshold=5, connectivity=1).astype(\"uint8\"), background=1)\n"
     ]
    },
    {
     "name": "stdout",
     "output_type": "stream",
     "text": [
      "1586 425\n",
      "7490\n",
      "243207 3644\n",
      "0539_OD\n"
     ]
    },
    {
     "name": "stderr",
     "output_type": "stream",
     "text": [
      "/home/alex_johannes/octa_gnn/OCTA_gnn/generator/heterograph_from_vvg_generator.py:148: UserWarning: Any labeled images will be returned as a boolean array. Did you mean to use a boolean array?\n",
      "  region_labels = measure.label(morphology.remove_small_holes(seg, area_threshold=5, connectivity=1).astype(\"uint8\"), background=1)\n"
     ]
    },
    {
     "name": "stdout",
     "output_type": "stream",
     "text": [
      "1951 461\n",
      "8761\n",
      "265607 3707\n",
      "0539_OS\n"
     ]
    },
    {
     "name": "stderr",
     "output_type": "stream",
     "text": [
      "/home/alex_johannes/octa_gnn/OCTA_gnn/generator/heterograph_from_vvg_generator.py:148: UserWarning: Any labeled images will be returned as a boolean array. Did you mean to use a boolean array?\n",
      "  region_labels = measure.label(morphology.remove_small_holes(seg, area_threshold=5, connectivity=1).astype(\"uint8\"), background=1)\n"
     ]
    },
    {
     "name": "stdout",
     "output_type": "stream",
     "text": [
      "1794 415\n",
      "8328\n",
      "266052 3793\n",
      "0540_OD\n"
     ]
    },
    {
     "name": "stderr",
     "output_type": "stream",
     "text": [
      "/home/alex_johannes/octa_gnn/OCTA_gnn/generator/heterograph_from_vvg_generator.py:148: UserWarning: Any labeled images will be returned as a boolean array. Did you mean to use a boolean array?\n",
      "  region_labels = measure.label(morphology.remove_small_holes(seg, area_threshold=5, connectivity=1).astype(\"uint8\"), background=1)\n"
     ]
    },
    {
     "name": "stdout",
     "output_type": "stream",
     "text": [
      "1693 391\n",
      "8479\n",
      "273014 3313\n",
      "0540_OS\n"
     ]
    },
    {
     "name": "stderr",
     "output_type": "stream",
     "text": [
      "/home/alex_johannes/octa_gnn/OCTA_gnn/generator/heterograph_from_vvg_generator.py:148: UserWarning: Any labeled images will be returned as a boolean array. Did you mean to use a boolean array?\n",
      "  region_labels = measure.label(morphology.remove_small_holes(seg, area_threshold=5, connectivity=1).astype(\"uint8\"), background=1)\n"
     ]
    },
    {
     "name": "stdout",
     "output_type": "stream",
     "text": [
      "1836 414\n",
      "8696\n",
      "281111 3273\n",
      "0541_OS\n"
     ]
    },
    {
     "name": "stderr",
     "output_type": "stream",
     "text": [
      "/home/alex_johannes/octa_gnn/OCTA_gnn/generator/heterograph_from_vvg_generator.py:148: UserWarning: Any labeled images will be returned as a boolean array. Did you mean to use a boolean array?\n",
      "  region_labels = measure.label(morphology.remove_small_holes(seg, area_threshold=5, connectivity=1).astype(\"uint8\"), background=1)\n"
     ]
    },
    {
     "name": "stdout",
     "output_type": "stream",
     "text": [
      "1770 419\n",
      "8378\n",
      "273345 3389\n",
      "0542_OD\n"
     ]
    },
    {
     "name": "stderr",
     "output_type": "stream",
     "text": [
      "/home/alex_johannes/octa_gnn/OCTA_gnn/generator/heterograph_from_vvg_generator.py:148: UserWarning: Any labeled images will be returned as a boolean array. Did you mean to use a boolean array?\n",
      "  region_labels = measure.label(morphology.remove_small_holes(seg, area_threshold=5, connectivity=1).astype(\"uint8\"), background=1)\n"
     ]
    },
    {
     "name": "stdout",
     "output_type": "stream",
     "text": [
      "2059 429\n",
      "9416\n",
      "285304 3644\n",
      "0542_OS\n"
     ]
    },
    {
     "name": "stderr",
     "output_type": "stream",
     "text": [
      "/home/alex_johannes/octa_gnn/OCTA_gnn/generator/heterograph_from_vvg_generator.py:148: UserWarning: Any labeled images will be returned as a boolean array. Did you mean to use a boolean array?\n",
      "  region_labels = measure.label(morphology.remove_small_holes(seg, area_threshold=5, connectivity=1).astype(\"uint8\"), background=1)\n"
     ]
    },
    {
     "name": "stdout",
     "output_type": "stream",
     "text": [
      "2139 509\n",
      "9509\n",
      "276304 3850\n",
      "0543_OD\n"
     ]
    },
    {
     "name": "stderr",
     "output_type": "stream",
     "text": [
      "/home/alex_johannes/octa_gnn/OCTA_gnn/generator/heterograph_from_vvg_generator.py:148: UserWarning: Any labeled images will be returned as a boolean array. Did you mean to use a boolean array?\n",
      "  region_labels = measure.label(morphology.remove_small_holes(seg, area_threshold=5, connectivity=1).astype(\"uint8\"), background=1)\n"
     ]
    },
    {
     "name": "stdout",
     "output_type": "stream",
     "text": [
      "1638 344\n",
      "7870\n",
      "261730 2621\n",
      "0543_OS\n"
     ]
    },
    {
     "name": "stderr",
     "output_type": "stream",
     "text": [
      "/home/alex_johannes/octa_gnn/OCTA_gnn/generator/heterograph_from_vvg_generator.py:148: UserWarning: Any labeled images will be returned as a boolean array. Did you mean to use a boolean array?\n",
      "  region_labels = measure.label(morphology.remove_small_holes(seg, area_threshold=5, connectivity=1).astype(\"uint8\"), background=1)\n"
     ]
    },
    {
     "name": "stdout",
     "output_type": "stream",
     "text": [
      "1472 429\n",
      "7647\n",
      "255383 4013\n",
      "0544_OD\n"
     ]
    },
    {
     "name": "stderr",
     "output_type": "stream",
     "text": [
      "/home/alex_johannes/octa_gnn/OCTA_gnn/generator/heterograph_from_vvg_generator.py:148: UserWarning: Any labeled images will be returned as a boolean array. Did you mean to use a boolean array?\n",
      "  region_labels = measure.label(morphology.remove_small_holes(seg, area_threshold=5, connectivity=1).astype(\"uint8\"), background=1)\n"
     ]
    },
    {
     "name": "stdout",
     "output_type": "stream",
     "text": [
      "1998 546\n",
      "8832\n",
      "264258 4443\n",
      "0545_OD\n"
     ]
    },
    {
     "name": "stderr",
     "output_type": "stream",
     "text": [
      "/home/alex_johannes/octa_gnn/OCTA_gnn/generator/heterograph_from_vvg_generator.py:148: UserWarning: Any labeled images will be returned as a boolean array. Did you mean to use a boolean array?\n",
      "  region_labels = measure.label(morphology.remove_small_holes(seg, area_threshold=5, connectivity=1).astype(\"uint8\"), background=1)\n"
     ]
    },
    {
     "name": "stdout",
     "output_type": "stream",
     "text": [
      "1737 392\n",
      "8156\n",
      "266848 3447\n",
      "0545_OS\n"
     ]
    },
    {
     "name": "stderr",
     "output_type": "stream",
     "text": [
      "/home/alex_johannes/octa_gnn/OCTA_gnn/generator/heterograph_from_vvg_generator.py:148: UserWarning: Any labeled images will be returned as a boolean array. Did you mean to use a boolean array?\n",
      "  region_labels = measure.label(morphology.remove_small_holes(seg, area_threshold=5, connectivity=1).astype(\"uint8\"), background=1)\n"
     ]
    },
    {
     "name": "stdout",
     "output_type": "stream",
     "text": [
      "1931 459\n",
      "8707\n",
      "269830 3866\n",
      "0546_OD\n"
     ]
    },
    {
     "name": "stderr",
     "output_type": "stream",
     "text": [
      "/home/alex_johannes/octa_gnn/OCTA_gnn/generator/heterograph_from_vvg_generator.py:148: UserWarning: Any labeled images will be returned as a boolean array. Did you mean to use a boolean array?\n",
      "  region_labels = measure.label(morphology.remove_small_holes(seg, area_threshold=5, connectivity=1).astype(\"uint8\"), background=1)\n"
     ]
    },
    {
     "name": "stdout",
     "output_type": "stream",
     "text": [
      "1030 238\n",
      "5683\n",
      "228329 2410\n",
      "0817_OD\n"
     ]
    },
    {
     "name": "stderr",
     "output_type": "stream",
     "text": [
      "/home/alex_johannes/octa_gnn/OCTA_gnn/generator/heterograph_from_vvg_generator.py:148: UserWarning: Any labeled images will be returned as a boolean array. Did you mean to use a boolean array?\n",
      "  region_labels = measure.label(morphology.remove_small_holes(seg, area_threshold=5, connectivity=1).astype(\"uint8\"), background=1)\n"
     ]
    },
    {
     "name": "stdout",
     "output_type": "stream",
     "text": [
      "1922 454\n",
      "9011\n",
      "276306 3755\n",
      "0817_OS\n"
     ]
    },
    {
     "name": "stderr",
     "output_type": "stream",
     "text": [
      "/home/alex_johannes/octa_gnn/OCTA_gnn/generator/heterograph_from_vvg_generator.py:148: UserWarning: Any labeled images will be returned as a boolean array. Did you mean to use a boolean array?\n",
      "  region_labels = measure.label(morphology.remove_small_holes(seg, area_threshold=5, connectivity=1).astype(\"uint8\"), background=1)\n"
     ]
    },
    {
     "name": "stdout",
     "output_type": "stream",
     "text": [
      "2032 397\n",
      "9159\n",
      "277293 2748\n",
      "0818_OD\n"
     ]
    },
    {
     "name": "stderr",
     "output_type": "stream",
     "text": [
      "/home/alex_johannes/octa_gnn/OCTA_gnn/generator/heterograph_from_vvg_generator.py:148: UserWarning: Any labeled images will be returned as a boolean array. Did you mean to use a boolean array?\n",
      "  region_labels = measure.label(morphology.remove_small_holes(seg, area_threshold=5, connectivity=1).astype(\"uint8\"), background=1)\n"
     ]
    },
    {
     "name": "stdout",
     "output_type": "stream",
     "text": [
      "1562 353\n",
      "7508\n",
      "266478 2628\n",
      "0818_OS\n"
     ]
    },
    {
     "name": "stderr",
     "output_type": "stream",
     "text": [
      "/home/alex_johannes/octa_gnn/OCTA_gnn/generator/heterograph_from_vvg_generator.py:148: UserWarning: Any labeled images will be returned as a boolean array. Did you mean to use a boolean array?\n",
      "  region_labels = measure.label(morphology.remove_small_holes(seg, area_threshold=5, connectivity=1).astype(\"uint8\"), background=1)\n"
     ]
    },
    {
     "name": "stdout",
     "output_type": "stream",
     "text": [
      "1557 339\n",
      "7340\n",
      "265425 2878\n",
      "0819_OD\n"
     ]
    },
    {
     "name": "stderr",
     "output_type": "stream",
     "text": [
      "/home/alex_johannes/octa_gnn/OCTA_gnn/generator/heterograph_from_vvg_generator.py:148: UserWarning: Any labeled images will be returned as a boolean array. Did you mean to use a boolean array?\n",
      "  region_labels = measure.label(morphology.remove_small_holes(seg, area_threshold=5, connectivity=1).astype(\"uint8\"), background=1)\n"
     ]
    },
    {
     "name": "stdout",
     "output_type": "stream",
     "text": [
      "1643 386\n",
      "7791\n",
      "264242 3516\n",
      "0819_OS\n"
     ]
    },
    {
     "name": "stderr",
     "output_type": "stream",
     "text": [
      "/home/alex_johannes/octa_gnn/OCTA_gnn/generator/heterograph_from_vvg_generator.py:148: UserWarning: Any labeled images will be returned as a boolean array. Did you mean to use a boolean array?\n",
      "  region_labels = measure.label(morphology.remove_small_holes(seg, area_threshold=5, connectivity=1).astype(\"uint8\"), background=1)\n"
     ]
    },
    {
     "name": "stdout",
     "output_type": "stream",
     "text": [
      "1623 351\n",
      "7729\n",
      "258623 2880\n",
      "0820_OD\n"
     ]
    },
    {
     "name": "stderr",
     "output_type": "stream",
     "text": [
      "/home/alex_johannes/octa_gnn/OCTA_gnn/generator/heterograph_from_vvg_generator.py:148: UserWarning: Any labeled images will be returned as a boolean array. Did you mean to use a boolean array?\n",
      "  region_labels = measure.label(morphology.remove_small_holes(seg, area_threshold=5, connectivity=1).astype(\"uint8\"), background=1)\n"
     ]
    },
    {
     "name": "stdout",
     "output_type": "stream",
     "text": [
      "2039 510\n",
      "9032\n",
      "264885 4285\n",
      "0820_OS\n"
     ]
    },
    {
     "name": "stderr",
     "output_type": "stream",
     "text": [
      "/home/alex_johannes/octa_gnn/OCTA_gnn/generator/heterograph_from_vvg_generator.py:148: UserWarning: Any labeled images will be returned as a boolean array. Did you mean to use a boolean array?\n",
      "  region_labels = measure.label(morphology.remove_small_holes(seg, area_threshold=5, connectivity=1).astype(\"uint8\"), background=1)\n"
     ]
    },
    {
     "name": "stdout",
     "output_type": "stream",
     "text": [
      "1996 423\n",
      "8998\n",
      "276148 3158\n",
      "0821_OD\n"
     ]
    },
    {
     "name": "stderr",
     "output_type": "stream",
     "text": [
      "/home/alex_johannes/octa_gnn/OCTA_gnn/generator/heterograph_from_vvg_generator.py:148: UserWarning: Any labeled images will be returned as a boolean array. Did you mean to use a boolean array?\n",
      "  region_labels = measure.label(morphology.remove_small_holes(seg, area_threshold=5, connectivity=1).astype(\"uint8\"), background=1)\n"
     ]
    },
    {
     "name": "stdout",
     "output_type": "stream",
     "text": [
      "1834 437\n",
      "8687\n",
      "273175 3393\n",
      "0821_OS\n"
     ]
    },
    {
     "name": "stderr",
     "output_type": "stream",
     "text": [
      "/home/alex_johannes/octa_gnn/OCTA_gnn/generator/heterograph_from_vvg_generator.py:148: UserWarning: Any labeled images will be returned as a boolean array. Did you mean to use a boolean array?\n",
      "  region_labels = measure.label(morphology.remove_small_holes(seg, area_threshold=5, connectivity=1).astype(\"uint8\"), background=1)\n"
     ]
    },
    {
     "name": "stdout",
     "output_type": "stream",
     "text": [
      "1923 443\n",
      "8835\n",
      "279971 3011\n",
      "0822_OS\n"
     ]
    },
    {
     "name": "stderr",
     "output_type": "stream",
     "text": [
      "/home/alex_johannes/octa_gnn/OCTA_gnn/generator/heterograph_from_vvg_generator.py:148: UserWarning: Any labeled images will be returned as a boolean array. Did you mean to use a boolean array?\n",
      "  region_labels = measure.label(morphology.remove_small_holes(seg, area_threshold=5, connectivity=1).astype(\"uint8\"), background=1)\n"
     ]
    },
    {
     "name": "stdout",
     "output_type": "stream",
     "text": [
      "576 119\n",
      "3557\n",
      "196730 1181\n",
      "0823_OD\n"
     ]
    },
    {
     "name": "stderr",
     "output_type": "stream",
     "text": [
      "/home/alex_johannes/octa_gnn/OCTA_gnn/generator/heterograph_from_vvg_generator.py:148: UserWarning: Any labeled images will be returned as a boolean array. Did you mean to use a boolean array?\n",
      "  region_labels = measure.label(morphology.remove_small_holes(seg, area_threshold=5, connectivity=1).astype(\"uint8\"), background=1)\n"
     ]
    },
    {
     "name": "stdout",
     "output_type": "stream",
     "text": [
      "1565 340\n",
      "7592\n",
      "258291 2991\n",
      "0823_OS\n"
     ]
    },
    {
     "name": "stderr",
     "output_type": "stream",
     "text": [
      "/home/alex_johannes/octa_gnn/OCTA_gnn/generator/heterograph_from_vvg_generator.py:148: UserWarning: Any labeled images will be returned as a boolean array. Did you mean to use a boolean array?\n",
      "  region_labels = measure.label(morphology.remove_small_holes(seg, area_threshold=5, connectivity=1).astype(\"uint8\"), background=1)\n"
     ]
    },
    {
     "name": "stdout",
     "output_type": "stream",
     "text": [
      "1663 386\n",
      "7665\n",
      "250115 3156\n",
      "0824_OD\n"
     ]
    },
    {
     "name": "stderr",
     "output_type": "stream",
     "text": [
      "/home/alex_johannes/octa_gnn/OCTA_gnn/generator/heterograph_from_vvg_generator.py:148: UserWarning: Any labeled images will be returned as a boolean array. Did you mean to use a boolean array?\n",
      "  region_labels = measure.label(morphology.remove_small_holes(seg, area_threshold=5, connectivity=1).astype(\"uint8\"), background=1)\n"
     ]
    },
    {
     "name": "stdout",
     "output_type": "stream",
     "text": [
      "1949 453\n",
      "8952\n",
      "272182 3332\n",
      "0824_OS\n"
     ]
    },
    {
     "name": "stderr",
     "output_type": "stream",
     "text": [
      "/home/alex_johannes/octa_gnn/OCTA_gnn/generator/heterograph_from_vvg_generator.py:148: UserWarning: Any labeled images will be returned as a boolean array. Did you mean to use a boolean array?\n",
      "  region_labels = measure.label(morphology.remove_small_holes(seg, area_threshold=5, connectivity=1).astype(\"uint8\"), background=1)\n",
      "/home/alex_johannes/octa_gnn/OCTA_gnn/.venv/lib/python3.10/site-packages/skimage/measure/_regionprops.py:647: RuntimeWarning: invalid value encountered in scalar divide\n",
      "  tuple(M[_get_element(axis)] / M0 for axis in range(self._ndim)))\n"
     ]
    },
    {
     "name": "stdout",
     "output_type": "stream",
     "text": [
      "1906 457\n",
      "8649\n",
      "268419 3788\n",
      "0183_OD\n"
     ]
    },
    {
     "name": "stderr",
     "output_type": "stream",
     "text": [
      "/home/alex_johannes/octa_gnn/OCTA_gnn/generator/heterograph_from_vvg_generator.py:148: UserWarning: Any labeled images will be returned as a boolean array. Did you mean to use a boolean array?\n",
      "  region_labels = measure.label(morphology.remove_small_holes(seg, area_threshold=5, connectivity=1).astype(\"uint8\"), background=1)\n"
     ]
    },
    {
     "name": "stdout",
     "output_type": "stream",
     "text": [
      "1453 389\n",
      "7314\n",
      "248388 3225\n",
      "0184_OD\n"
     ]
    },
    {
     "name": "stderr",
     "output_type": "stream",
     "text": [
      "/home/alex_johannes/octa_gnn/OCTA_gnn/generator/heterograph_from_vvg_generator.py:148: UserWarning: Any labeled images will be returned as a boolean array. Did you mean to use a boolean array?\n",
      "  region_labels = measure.label(morphology.remove_small_holes(seg, area_threshold=5, connectivity=1).astype(\"uint8\"), background=1)\n"
     ]
    },
    {
     "name": "stdout",
     "output_type": "stream",
     "text": [
      "1792 420\n",
      "8513\n",
      "272447 2755\n",
      "0184_OS\n"
     ]
    },
    {
     "name": "stderr",
     "output_type": "stream",
     "text": [
      "/home/alex_johannes/octa_gnn/OCTA_gnn/generator/heterograph_from_vvg_generator.py:148: UserWarning: Any labeled images will be returned as a boolean array. Did you mean to use a boolean array?\n",
      "  region_labels = measure.label(morphology.remove_small_holes(seg, area_threshold=5, connectivity=1).astype(\"uint8\"), background=1)\n"
     ]
    },
    {
     "name": "stdout",
     "output_type": "stream",
     "text": [
      "1711 426\n",
      "8005\n",
      "259095 3532\n",
      "0185_OD\n"
     ]
    },
    {
     "name": "stderr",
     "output_type": "stream",
     "text": [
      "/home/alex_johannes/octa_gnn/OCTA_gnn/generator/heterograph_from_vvg_generator.py:148: UserWarning: Any labeled images will be returned as a boolean array. Did you mean to use a boolean array?\n",
      "  region_labels = measure.label(morphology.remove_small_holes(seg, area_threshold=5, connectivity=1).astype(\"uint8\"), background=1)\n"
     ]
    },
    {
     "name": "stdout",
     "output_type": "stream",
     "text": [
      "1858 414\n",
      "8563\n",
      "275727 3528\n",
      "0185_OS\n"
     ]
    },
    {
     "name": "stderr",
     "output_type": "stream",
     "text": [
      "/home/alex_johannes/octa_gnn/OCTA_gnn/generator/heterograph_from_vvg_generator.py:148: UserWarning: Any labeled images will be returned as a boolean array. Did you mean to use a boolean array?\n",
      "  region_labels = measure.label(morphology.remove_small_holes(seg, area_threshold=5, connectivity=1).astype(\"uint8\"), background=1)\n"
     ]
    },
    {
     "name": "stdout",
     "output_type": "stream",
     "text": [
      "1848 420\n",
      "8515\n",
      "275597 3482\n",
      "0186_OD\n"
     ]
    },
    {
     "name": "stderr",
     "output_type": "stream",
     "text": [
      "/home/alex_johannes/octa_gnn/OCTA_gnn/generator/heterograph_from_vvg_generator.py:148: UserWarning: Any labeled images will be returned as a boolean array. Did you mean to use a boolean array?\n",
      "  region_labels = measure.label(morphology.remove_small_holes(seg, area_threshold=5, connectivity=1).astype(\"uint8\"), background=1)\n"
     ]
    },
    {
     "name": "stdout",
     "output_type": "stream",
     "text": [
      "2077 491\n",
      "9319\n",
      "280005 3848\n",
      "0187_OD\n"
     ]
    },
    {
     "name": "stderr",
     "output_type": "stream",
     "text": [
      "/home/alex_johannes/octa_gnn/OCTA_gnn/generator/heterograph_from_vvg_generator.py:148: UserWarning: Any labeled images will be returned as a boolean array. Did you mean to use a boolean array?\n",
      "  region_labels = measure.label(morphology.remove_small_holes(seg, area_threshold=5, connectivity=1).astype(\"uint8\"), background=1)\n"
     ]
    },
    {
     "name": "stdout",
     "output_type": "stream",
     "text": [
      "1892 460\n",
      "8919\n",
      "275935 3435\n",
      "0188_OD\n"
     ]
    },
    {
     "name": "stderr",
     "output_type": "stream",
     "text": [
      "/home/alex_johannes/octa_gnn/OCTA_gnn/generator/heterograph_from_vvg_generator.py:148: UserWarning: Any labeled images will be returned as a boolean array. Did you mean to use a boolean array?\n",
      "  region_labels = measure.label(morphology.remove_small_holes(seg, area_threshold=5, connectivity=1).astype(\"uint8\"), background=1)\n"
     ]
    },
    {
     "name": "stdout",
     "output_type": "stream",
     "text": [
      "1848 381\n",
      "8525\n",
      "274936 3528\n",
      "0189_OD\n"
     ]
    },
    {
     "name": "stderr",
     "output_type": "stream",
     "text": [
      "/home/alex_johannes/octa_gnn/OCTA_gnn/generator/heterograph_from_vvg_generator.py:148: UserWarning: Any labeled images will be returned as a boolean array. Did you mean to use a boolean array?\n",
      "  region_labels = measure.label(morphology.remove_small_holes(seg, area_threshold=5, connectivity=1).astype(\"uint8\"), background=1)\n"
     ]
    },
    {
     "name": "stdout",
     "output_type": "stream",
     "text": [
      "1866 375\n",
      "8541\n",
      "267448 2944\n",
      "0189_OS\n"
     ]
    },
    {
     "name": "stderr",
     "output_type": "stream",
     "text": [
      "/home/alex_johannes/octa_gnn/OCTA_gnn/generator/heterograph_from_vvg_generator.py:148: UserWarning: Any labeled images will be returned as a boolean array. Did you mean to use a boolean array?\n",
      "  region_labels = measure.label(morphology.remove_small_holes(seg, area_threshold=5, connectivity=1).astype(\"uint8\"), background=1)\n"
     ]
    },
    {
     "name": "stdout",
     "output_type": "stream",
     "text": [
      "1770 381\n",
      "8168\n",
      "273040 2599\n",
      "0190_OD\n"
     ]
    },
    {
     "name": "stderr",
     "output_type": "stream",
     "text": [
      "/home/alex_johannes/octa_gnn/OCTA_gnn/generator/heterograph_from_vvg_generator.py:148: UserWarning: Any labeled images will be returned as a boolean array. Did you mean to use a boolean array?\n",
      "  region_labels = measure.label(morphology.remove_small_holes(seg, area_threshold=5, connectivity=1).astype(\"uint8\"), background=1)\n"
     ]
    },
    {
     "name": "stdout",
     "output_type": "stream",
     "text": [
      "1640 366\n",
      "7870\n",
      "265407 3024\n",
      "0191_OD\n"
     ]
    },
    {
     "name": "stderr",
     "output_type": "stream",
     "text": [
      "/home/alex_johannes/octa_gnn/OCTA_gnn/generator/heterograph_from_vvg_generator.py:148: UserWarning: Any labeled images will be returned as a boolean array. Did you mean to use a boolean array?\n",
      "  region_labels = measure.label(morphology.remove_small_holes(seg, area_threshold=5, connectivity=1).astype(\"uint8\"), background=1)\n"
     ]
    },
    {
     "name": "stdout",
     "output_type": "stream",
     "text": [
      "1623 347\n",
      "7911\n",
      "272487 3057\n",
      "0191_OS\n"
     ]
    },
    {
     "name": "stderr",
     "output_type": "stream",
     "text": [
      "/home/alex_johannes/octa_gnn/OCTA_gnn/generator/heterograph_from_vvg_generator.py:148: UserWarning: Any labeled images will be returned as a boolean array. Did you mean to use a boolean array?\n",
      "  region_labels = measure.label(morphology.remove_small_holes(seg, area_threshold=5, connectivity=1).astype(\"uint8\"), background=1)\n"
     ]
    },
    {
     "name": "stdout",
     "output_type": "stream",
     "text": [
      "1664 328\n",
      "7911\n",
      "273965 2406\n",
      "0192_OD\n"
     ]
    },
    {
     "name": "stderr",
     "output_type": "stream",
     "text": [
      "/home/alex_johannes/octa_gnn/OCTA_gnn/generator/heterograph_from_vvg_generator.py:148: UserWarning: Any labeled images will be returned as a boolean array. Did you mean to use a boolean array?\n",
      "  region_labels = measure.label(morphology.remove_small_holes(seg, area_threshold=5, connectivity=1).astype(\"uint8\"), background=1)\n"
     ]
    },
    {
     "name": "stdout",
     "output_type": "stream",
     "text": [
      "2037 441\n",
      "9049\n",
      "282060 3203\n",
      "0193_OD\n"
     ]
    },
    {
     "name": "stderr",
     "output_type": "stream",
     "text": [
      "/home/alex_johannes/octa_gnn/OCTA_gnn/generator/heterograph_from_vvg_generator.py:148: UserWarning: Any labeled images will be returned as a boolean array. Did you mean to use a boolean array?\n",
      "  region_labels = measure.label(morphology.remove_small_holes(seg, area_threshold=5, connectivity=1).astype(\"uint8\"), background=1)\n"
     ]
    },
    {
     "name": "stdout",
     "output_type": "stream",
     "text": [
      "1598 375\n",
      "7760\n",
      "261610 3339\n",
      "0193_OS\n"
     ]
    },
    {
     "name": "stderr",
     "output_type": "stream",
     "text": [
      "/home/alex_johannes/octa_gnn/OCTA_gnn/generator/heterograph_from_vvg_generator.py:148: UserWarning: Any labeled images will be returned as a boolean array. Did you mean to use a boolean array?\n",
      "  region_labels = measure.label(morphology.remove_small_holes(seg, area_threshold=5, connectivity=1).astype(\"uint8\"), background=1)\n"
     ]
    },
    {
     "name": "stdout",
     "output_type": "stream",
     "text": [
      "1747 375\n",
      "8283\n",
      "265475 2974\n",
      "0496_OD\n"
     ]
    },
    {
     "name": "stderr",
     "output_type": "stream",
     "text": [
      "/home/alex_johannes/octa_gnn/OCTA_gnn/generator/heterograph_from_vvg_generator.py:148: UserWarning: Any labeled images will be returned as a boolean array. Did you mean to use a boolean array?\n",
      "  region_labels = measure.label(morphology.remove_small_holes(seg, area_threshold=5, connectivity=1).astype(\"uint8\"), background=1)\n"
     ]
    },
    {
     "name": "stdout",
     "output_type": "stream",
     "text": [
      "2027 480\n",
      "9003\n",
      "269157 3468\n",
      "0497_OD\n"
     ]
    },
    {
     "name": "stderr",
     "output_type": "stream",
     "text": [
      "/home/alex_johannes/octa_gnn/OCTA_gnn/generator/heterograph_from_vvg_generator.py:148: UserWarning: Any labeled images will be returned as a boolean array. Did you mean to use a boolean array?\n",
      "  region_labels = measure.label(morphology.remove_small_holes(seg, area_threshold=5, connectivity=1).astype(\"uint8\"), background=1)\n"
     ]
    },
    {
     "name": "stdout",
     "output_type": "stream",
     "text": [
      "450 95\n",
      "3116\n",
      "165407 862\n",
      "0497_OS\n"
     ]
    },
    {
     "name": "stderr",
     "output_type": "stream",
     "text": [
      "/home/alex_johannes/octa_gnn/OCTA_gnn/generator/heterograph_from_vvg_generator.py:148: UserWarning: Any labeled images will be returned as a boolean array. Did you mean to use a boolean array?\n",
      "  region_labels = measure.label(morphology.remove_small_holes(seg, area_threshold=5, connectivity=1).astype(\"uint8\"), background=1)\n"
     ]
    },
    {
     "name": "stdout",
     "output_type": "stream",
     "text": [
      "522 145\n",
      "3364\n",
      "174914 1131\n",
      "0498_OD\n"
     ]
    },
    {
     "name": "stderr",
     "output_type": "stream",
     "text": [
      "/home/alex_johannes/octa_gnn/OCTA_gnn/generator/heterograph_from_vvg_generator.py:148: UserWarning: Any labeled images will be returned as a boolean array. Did you mean to use a boolean array?\n",
      "  region_labels = measure.label(morphology.remove_small_holes(seg, area_threshold=5, connectivity=1).astype(\"uint8\"), background=1)\n"
     ]
    },
    {
     "name": "stdout",
     "output_type": "stream",
     "text": [
      "1368 318\n",
      "6485\n",
      "236401 2954\n",
      "0498_OS\n"
     ]
    },
    {
     "name": "stderr",
     "output_type": "stream",
     "text": [
      "/home/alex_johannes/octa_gnn/OCTA_gnn/generator/heterograph_from_vvg_generator.py:148: UserWarning: Any labeled images will be returned as a boolean array. Did you mean to use a boolean array?\n",
      "  region_labels = measure.label(morphology.remove_small_holes(seg, area_threshold=5, connectivity=1).astype(\"uint8\"), background=1)\n"
     ]
    },
    {
     "name": "stdout",
     "output_type": "stream",
     "text": [
      "1438 405\n",
      "6998\n",
      "236089 4045\n",
      "0499_OS\n"
     ]
    },
    {
     "name": "stderr",
     "output_type": "stream",
     "text": [
      "/home/alex_johannes/octa_gnn/OCTA_gnn/generator/heterograph_from_vvg_generator.py:148: UserWarning: Any labeled images will be returned as a boolean array. Did you mean to use a boolean array?\n",
      "  region_labels = measure.label(morphology.remove_small_holes(seg, area_threshold=5, connectivity=1).astype(\"uint8\"), background=1)\n"
     ]
    },
    {
     "name": "stdout",
     "output_type": "stream",
     "text": [
      "1046 221\n",
      "5516\n",
      "233807 2633\n",
      "0500_OS\n"
     ]
    },
    {
     "name": "stderr",
     "output_type": "stream",
     "text": [
      "/home/alex_johannes/octa_gnn/OCTA_gnn/generator/heterograph_from_vvg_generator.py:148: UserWarning: Any labeled images will be returned as a boolean array. Did you mean to use a boolean array?\n",
      "  region_labels = measure.label(morphology.remove_small_holes(seg, area_threshold=5, connectivity=1).astype(\"uint8\"), background=1)\n"
     ]
    },
    {
     "name": "stdout",
     "output_type": "stream",
     "text": [
      "1801 443\n",
      "8317\n",
      "267677 3888\n",
      "0501_OD\n"
     ]
    },
    {
     "name": "stderr",
     "output_type": "stream",
     "text": [
      "/home/alex_johannes/octa_gnn/OCTA_gnn/generator/heterograph_from_vvg_generator.py:148: UserWarning: Any labeled images will be returned as a boolean array. Did you mean to use a boolean array?\n",
      "  region_labels = measure.label(morphology.remove_small_holes(seg, area_threshold=5, connectivity=1).astype(\"uint8\"), background=1)\n"
     ]
    },
    {
     "name": "stdout",
     "output_type": "stream",
     "text": [
      "1380 337\n",
      "6802\n",
      "242242 3512\n",
      "0502_OD\n"
     ]
    },
    {
     "name": "stderr",
     "output_type": "stream",
     "text": [
      "/home/alex_johannes/octa_gnn/OCTA_gnn/generator/heterograph_from_vvg_generator.py:148: UserWarning: Any labeled images will be returned as a boolean array. Did you mean to use a boolean array?\n",
      "  region_labels = measure.label(morphology.remove_small_holes(seg, area_threshold=5, connectivity=1).astype(\"uint8\"), background=1)\n"
     ]
    },
    {
     "name": "stdout",
     "output_type": "stream",
     "text": [
      "1812 394\n",
      "8317\n",
      "262613 3195\n",
      "0502_OS\n"
     ]
    },
    {
     "name": "stderr",
     "output_type": "stream",
     "text": [
      "/home/alex_johannes/octa_gnn/OCTA_gnn/generator/heterograph_from_vvg_generator.py:148: UserWarning: Any labeled images will be returned as a boolean array. Did you mean to use a boolean array?\n",
      "  region_labels = measure.label(morphology.remove_small_holes(seg, area_threshold=5, connectivity=1).astype(\"uint8\"), background=1)\n"
     ]
    },
    {
     "name": "stdout",
     "output_type": "stream",
     "text": [
      "1640 380\n",
      "7897\n",
      "270640 2694\n",
      "0503_OD\n"
     ]
    },
    {
     "name": "stderr",
     "output_type": "stream",
     "text": [
      "/home/alex_johannes/octa_gnn/OCTA_gnn/generator/heterograph_from_vvg_generator.py:148: UserWarning: Any labeled images will be returned as a boolean array. Did you mean to use a boolean array?\n",
      "  region_labels = measure.label(morphology.remove_small_holes(seg, area_threshold=5, connectivity=1).astype(\"uint8\"), background=1)\n"
     ]
    },
    {
     "name": "stdout",
     "output_type": "stream",
     "text": [
      "692 172\n",
      "3807\n",
      "187845 1647\n",
      "0504_OD\n"
     ]
    },
    {
     "name": "stderr",
     "output_type": "stream",
     "text": [
      "/home/alex_johannes/octa_gnn/OCTA_gnn/generator/heterograph_from_vvg_generator.py:148: UserWarning: Any labeled images will be returned as a boolean array. Did you mean to use a boolean array?\n",
      "  region_labels = measure.label(morphology.remove_small_holes(seg, area_threshold=5, connectivity=1).astype(\"uint8\"), background=1)\n"
     ]
    },
    {
     "name": "stdout",
     "output_type": "stream",
     "text": [
      "1502 279\n",
      "7383\n",
      "270466 2549\n",
      "0504_OS\n"
     ]
    },
    {
     "name": "stderr",
     "output_type": "stream",
     "text": [
      "/home/alex_johannes/octa_gnn/OCTA_gnn/generator/heterograph_from_vvg_generator.py:148: UserWarning: Any labeled images will be returned as a boolean array. Did you mean to use a boolean array?\n",
      "  region_labels = measure.label(morphology.remove_small_holes(seg, area_threshold=5, connectivity=1).astype(\"uint8\"), background=1)\n"
     ]
    },
    {
     "name": "stdout",
     "output_type": "stream",
     "text": [
      "1811 435\n",
      "8351\n",
      "266693 3417\n",
      "0506_OD\n"
     ]
    },
    {
     "name": "stderr",
     "output_type": "stream",
     "text": [
      "/home/alex_johannes/octa_gnn/OCTA_gnn/generator/heterograph_from_vvg_generator.py:148: UserWarning: Any labeled images will be returned as a boolean array. Did you mean to use a boolean array?\n",
      "  region_labels = measure.label(morphology.remove_small_holes(seg, area_threshold=5, connectivity=1).astype(\"uint8\"), background=1)\n"
     ]
    },
    {
     "name": "stdout",
     "output_type": "stream",
     "text": [
      "1172 313\n",
      "6113\n",
      "234058 2817\n",
      "0506_OS\n"
     ]
    },
    {
     "name": "stderr",
     "output_type": "stream",
     "text": [
      "/home/alex_johannes/octa_gnn/OCTA_gnn/generator/heterograph_from_vvg_generator.py:148: UserWarning: Any labeled images will be returned as a boolean array. Did you mean to use a boolean array?\n",
      "  region_labels = measure.label(morphology.remove_small_holes(seg, area_threshold=5, connectivity=1).astype(\"uint8\"), background=1)\n"
     ]
    },
    {
     "name": "stdout",
     "output_type": "stream",
     "text": [
      "1609 439\n",
      "7719\n",
      "251618 4114\n",
      "0507_OD\n"
     ]
    },
    {
     "name": "stderr",
     "output_type": "stream",
     "text": [
      "/home/alex_johannes/octa_gnn/OCTA_gnn/generator/heterograph_from_vvg_generator.py:148: UserWarning: Any labeled images will be returned as a boolean array. Did you mean to use a boolean array?\n",
      "  region_labels = measure.label(morphology.remove_small_holes(seg, area_threshold=5, connectivity=1).astype(\"uint8\"), background=1)\n"
     ]
    },
    {
     "name": "stdout",
     "output_type": "stream",
     "text": [
      "647 162\n",
      "3763\n",
      "186951 1524\n",
      "0749_OD\n"
     ]
    },
    {
     "name": "stderr",
     "output_type": "stream",
     "text": [
      "/home/alex_johannes/octa_gnn/OCTA_gnn/generator/heterograph_from_vvg_generator.py:148: UserWarning: Any labeled images will be returned as a boolean array. Did you mean to use a boolean array?\n",
      "  region_labels = measure.label(morphology.remove_small_holes(seg, area_threshold=5, connectivity=1).astype(\"uint8\"), background=1)\n"
     ]
    },
    {
     "name": "stdout",
     "output_type": "stream",
     "text": [
      "1329 269\n",
      "6575\n",
      "249030 2796\n",
      "0749_OS\n"
     ]
    },
    {
     "name": "stderr",
     "output_type": "stream",
     "text": [
      "/home/alex_johannes/octa_gnn/OCTA_gnn/generator/heterograph_from_vvg_generator.py:148: UserWarning: Any labeled images will be returned as a boolean array. Did you mean to use a boolean array?\n",
      "  region_labels = measure.label(morphology.remove_small_holes(seg, area_threshold=5, connectivity=1).astype(\"uint8\"), background=1)\n"
     ]
    },
    {
     "name": "stdout",
     "output_type": "stream",
     "text": [
      "1331 257\n",
      "6580\n",
      "257571 2540\n",
      "0750_OS\n"
     ]
    },
    {
     "name": "stderr",
     "output_type": "stream",
     "text": [
      "/home/alex_johannes/octa_gnn/OCTA_gnn/generator/heterograph_from_vvg_generator.py:148: UserWarning: Any labeled images will be returned as a boolean array. Did you mean to use a boolean array?\n",
      "  region_labels = measure.label(morphology.remove_small_holes(seg, area_threshold=5, connectivity=1).astype(\"uint8\"), background=1)\n"
     ]
    },
    {
     "name": "stdout",
     "output_type": "stream",
     "text": [
      "561 128\n",
      "3490\n",
      "178121 1315\n",
      "0751_OD\n"
     ]
    },
    {
     "name": "stderr",
     "output_type": "stream",
     "text": [
      "/home/alex_johannes/octa_gnn/OCTA_gnn/generator/heterograph_from_vvg_generator.py:148: UserWarning: Any labeled images will be returned as a boolean array. Did you mean to use a boolean array?\n",
      "  region_labels = measure.label(morphology.remove_small_holes(seg, area_threshold=5, connectivity=1).astype(\"uint8\"), background=1)\n"
     ]
    },
    {
     "name": "stdout",
     "output_type": "stream",
     "text": [
      "1930 533\n",
      "8870\n",
      "262360 5385\n",
      "0751_OS\n"
     ]
    },
    {
     "name": "stderr",
     "output_type": "stream",
     "text": [
      "/home/alex_johannes/octa_gnn/OCTA_gnn/generator/heterograph_from_vvg_generator.py:148: UserWarning: Any labeled images will be returned as a boolean array. Did you mean to use a boolean array?\n",
      "  region_labels = measure.label(morphology.remove_small_holes(seg, area_threshold=5, connectivity=1).astype(\"uint8\"), background=1)\n"
     ]
    },
    {
     "name": "stdout",
     "output_type": "stream",
     "text": [
      "1802 457\n",
      "8411\n",
      "267708 3592\n",
      "0752_OS\n"
     ]
    },
    {
     "name": "stderr",
     "output_type": "stream",
     "text": [
      "/home/alex_johannes/octa_gnn/OCTA_gnn/generator/heterograph_from_vvg_generator.py:148: UserWarning: Any labeled images will be returned as a boolean array. Did you mean to use a boolean array?\n",
      "  region_labels = measure.label(morphology.remove_small_holes(seg, area_threshold=5, connectivity=1).astype(\"uint8\"), background=1)\n"
     ]
    },
    {
     "name": "stdout",
     "output_type": "stream",
     "text": [
      "1210 320\n",
      "6530\n",
      "235382 2805\n",
      "0753_OD\n"
     ]
    },
    {
     "name": "stderr",
     "output_type": "stream",
     "text": [
      "/home/alex_johannes/octa_gnn/OCTA_gnn/generator/heterograph_from_vvg_generator.py:148: UserWarning: Any labeled images will be returned as a boolean array. Did you mean to use a boolean array?\n",
      "  region_labels = measure.label(morphology.remove_small_holes(seg, area_threshold=5, connectivity=1).astype(\"uint8\"), background=1)\n"
     ]
    },
    {
     "name": "stdout",
     "output_type": "stream",
     "text": [
      "1563 302\n",
      "7627\n",
      "267933 2828\n",
      "0753_OS\n"
     ]
    },
    {
     "name": "stderr",
     "output_type": "stream",
     "text": [
      "/home/alex_johannes/octa_gnn/OCTA_gnn/generator/heterograph_from_vvg_generator.py:148: UserWarning: Any labeled images will be returned as a boolean array. Did you mean to use a boolean array?\n",
      "  region_labels = measure.label(morphology.remove_small_holes(seg, area_threshold=5, connectivity=1).astype(\"uint8\"), background=1)\n"
     ]
    },
    {
     "name": "stdout",
     "output_type": "stream",
     "text": [
      "1298 308\n",
      "6611\n",
      "234412 2492\n",
      "0754_OD\n"
     ]
    },
    {
     "name": "stderr",
     "output_type": "stream",
     "text": [
      "/home/alex_johannes/octa_gnn/OCTA_gnn/generator/heterograph_from_vvg_generator.py:148: UserWarning: Any labeled images will be returned as a boolean array. Did you mean to use a boolean array?\n",
      "  region_labels = measure.label(morphology.remove_small_holes(seg, area_threshold=5, connectivity=1).astype(\"uint8\"), background=1)\n"
     ]
    },
    {
     "name": "stdout",
     "output_type": "stream",
     "text": [
      "1112 267\n",
      "5683\n",
      "234148 2096\n",
      "0755_OD\n"
     ]
    },
    {
     "name": "stderr",
     "output_type": "stream",
     "text": [
      "/home/alex_johannes/octa_gnn/OCTA_gnn/generator/heterograph_from_vvg_generator.py:148: UserWarning: Any labeled images will be returned as a boolean array. Did you mean to use a boolean array?\n",
      "  region_labels = measure.label(morphology.remove_small_holes(seg, area_threshold=5, connectivity=1).astype(\"uint8\"), background=1)\n"
     ]
    },
    {
     "name": "stdout",
     "output_type": "stream",
     "text": [
      "1548 337\n",
      "7694\n",
      "252116 2842\n",
      "0755_OS\n"
     ]
    },
    {
     "name": "stderr",
     "output_type": "stream",
     "text": [
      "/home/alex_johannes/octa_gnn/OCTA_gnn/generator/heterograph_from_vvg_generator.py:148: UserWarning: Any labeled images will be returned as a boolean array. Did you mean to use a boolean array?\n",
      "  region_labels = measure.label(morphology.remove_small_holes(seg, area_threshold=5, connectivity=1).astype(\"uint8\"), background=1)\n"
     ]
    },
    {
     "name": "stdout",
     "output_type": "stream",
     "text": [
      "1285 297\n",
      "6683\n",
      "235183 2923\n",
      "0756_OD\n"
     ]
    },
    {
     "name": "stderr",
     "output_type": "stream",
     "text": [
      "/home/alex_johannes/octa_gnn/OCTA_gnn/generator/heterograph_from_vvg_generator.py:148: UserWarning: Any labeled images will be returned as a boolean array. Did you mean to use a boolean array?\n",
      "  region_labels = measure.label(morphology.remove_small_holes(seg, area_threshold=5, connectivity=1).astype(\"uint8\"), background=1)\n"
     ]
    },
    {
     "name": "stdout",
     "output_type": "stream",
     "text": [
      "1675 415\n",
      "7843\n",
      "250991 3692\n",
      "0756_OS\n"
     ]
    },
    {
     "name": "stderr",
     "output_type": "stream",
     "text": [
      "/home/alex_johannes/octa_gnn/OCTA_gnn/generator/heterograph_from_vvg_generator.py:148: UserWarning: Any labeled images will be returned as a boolean array. Did you mean to use a boolean array?\n",
      "  region_labels = measure.label(morphology.remove_small_holes(seg, area_threshold=5, connectivity=1).astype(\"uint8\"), background=1)\n"
     ]
    },
    {
     "name": "stdout",
     "output_type": "stream",
     "text": [
      "1729 373\n",
      "8200\n",
      "272842 2501\n",
      "0757_OS\n"
     ]
    },
    {
     "name": "stderr",
     "output_type": "stream",
     "text": [
      "/home/alex_johannes/octa_gnn/OCTA_gnn/generator/heterograph_from_vvg_generator.py:148: UserWarning: Any labeled images will be returned as a boolean array. Did you mean to use a boolean array?\n",
      "  region_labels = measure.label(morphology.remove_small_holes(seg, area_threshold=5, connectivity=1).astype(\"uint8\"), background=1)\n"
     ]
    },
    {
     "name": "stdout",
     "output_type": "stream",
     "text": [
      "1207 254\n",
      "6440\n",
      "246640 2127\n",
      "0758_OD\n"
     ]
    },
    {
     "name": "stderr",
     "output_type": "stream",
     "text": [
      "/home/alex_johannes/octa_gnn/OCTA_gnn/generator/heterograph_from_vvg_generator.py:148: UserWarning: Any labeled images will be returned as a boolean array. Did you mean to use a boolean array?\n",
      "  region_labels = measure.label(morphology.remove_small_holes(seg, area_threshold=5, connectivity=1).astype(\"uint8\"), background=1)\n"
     ]
    },
    {
     "name": "stdout",
     "output_type": "stream",
     "text": [
      "1302 263\n",
      "6684\n",
      "257463 2036\n"
     ]
    }
   ],
   "source": [
    "data_type = \"DCP\"\n",
    "\n",
    "segmentation_path = f\"/media/data/alex_johannes/octa_data/Cairo/{data_type}_seg\"\n",
    "json_path = f\"/media/data/alex_johannes/octa_data/Cairo/{data_type}_json\"\n",
    "void_graph_save_path = f\"/media/data/alex_johannes/octa_data/Cairo/{data_type}_void_graph_faz_node\"\n",
    "hetero_edges_save_path = f\"/media/data/alex_johannes/octa_data/Cairo/{data_type}_heter_edges_faz_node\"\n",
    "image_path = f\"/media/data/alex_johannes/octa_data/Cairo/{data_type}_images\"\n",
    "\n",
    "faz_node_save_path = f\"/media/data/alex_johannes/octa_data/Cairo/{data_type}_faz_nodes\"\n",
    "faz_region_edge_save_path = f\"/media/data/alex_johannes/octa_data/Cairo/{data_type}_faz_region_edges\"\n",
    "faz_vessel_edge_save_path = f\"/media/data/alex_johannes/octa_data/Cairo/{data_type}_faz_vessel_edges\"\n",
    "\n",
    "\n",
    "Gernerator_from_VVG = heterograph_from_vvg_generator.HeterographFromVVGGenerator(\n",
    "                                                            seg_path= segmentation_path,\n",
    "                                                            vvg_path= json_path,\n",
    "                                                            void_graph_save_path= void_graph_save_path,\n",
    "                                                            hetero_edges_save_path= hetero_edges_save_path,\n",
    "                                                            image_path= image_path,\n",
    "                                                            debug=False,\n",
    "                                                            faz_node= True,\n",
    "                                                            faz_node_save_path= faz_node_save_path,\n",
    "                                                            faz_region_edges_save_path= faz_region_edge_save_path,\n",
    "                                                            faz_vessel_edges_save_path= faz_vessel_edge_save_path\n",
    "                                                            )\n",
    "Gernerator_from_VVG.save_region_graphs()"
   ]
  }
 ],
 "metadata": {
  "kernelspec": {
   "display_name": ".venv",
   "language": "python",
   "name": "python3"
  },
  "language_info": {
   "codemirror_mode": {
    "name": "ipython",
    "version": 3
   },
   "file_extension": ".py",
   "mimetype": "text/x-python",
   "name": "python",
   "nbconvert_exporter": "python",
   "pygments_lexer": "ipython3",
   "version": "3.10.7"
  }
 },
 "nbformat": 4,
 "nbformat_minor": 2
}
